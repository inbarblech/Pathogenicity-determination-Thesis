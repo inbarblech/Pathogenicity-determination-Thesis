{
 "cells": [
  {
   "cell_type": "raw",
   "source": [],
   "metadata": {
    "collapsed": false
   },
   "id": "daae3bd731bad53b"
  },
  {
   "cell_type": "code",
   "execution_count": 72,
   "outputs": [],
   "source": [
    "import pandas as pd"
   ],
   "metadata": {
    "collapsed": false,
    "ExecuteTime": {
     "end_time": "2023-11-23T14:06:49.393648100Z",
     "start_time": "2023-11-23T14:06:49.346771400Z"
    }
   },
   "id": "initial_id"
  },
  {
   "cell_type": "code",
   "execution_count": 77,
   "outputs": [],
   "source": [
    "\"\"\"Run this cell to add a new gene to the EVE predictions file\n",
    "Input file\\s should be a csv file of EVE predictions for a single gene.\"\"\"\n",
    "\n",
    "# Change the path or file name!!! \n",
    "genes = []\n",
    "all_eve_files = pd.read_csv(\"C:\\\\Users\\\\InbarBlech\\\\PycharmProjects\\\\Thesis\\\\benchmarking\\\\EVE\\\\all_EVE_predictions.csv\")\n",
    "\n",
    "for gene in genes:\n",
    "    new_gene_path = f\"C:\\\\Users\\\\InbarBlech\\\\PycharmProjects\\\\Thesis\\\\benchmarking\\\\EVE\\\\{gene}.csv\"\n",
    "        \n",
    "    # read the file of the new gene\n",
    "    new_gene_predictions = pd.read_csv(new_gene_path)\n",
    "    # add \"gene\" column to the dataframe\n",
    "    new_gene_predictions[\"gene\"] = gene\n",
    "     \n",
    "    # add the new gene to the all_eve_files dataframe, without the header\n",
    "    all_eve_files = pd.concat([all_eve_files, new_gene_predictions], ignore_index=True, axis=0)\n",
    "    \n",
    "# Save the new dataframe to a csv file\n",
    "all_eve_files.to_csv(\"C:\\\\Users\\\\InbarBlech\\\\PycharmProjects\\\\Thesis\\\\benchmarking\\\\EVE\\\\all_EVE_predictions.csv\", index=False)\n"
   ],
   "metadata": {
    "collapsed": false,
    "ExecuteTime": {
     "end_time": "2023-11-23T14:11:22.528279Z",
     "start_time": "2023-11-23T14:11:18.487502400Z"
    }
   },
   "id": "a9e1698be3f62bf0"
  },
  {
   "cell_type": "code",
   "execution_count": 78,
   "outputs": [
    {
     "data": {
      "text/plain": "array(['COL2A1', 'COL4A5', 'COL4A3', 'FGFR1', 'SLC26A4', 'MYO7A', 'WFS1',\n       'GJB2'], dtype=object)"
     },
     "execution_count": 78,
     "metadata": {},
     "output_type": "execute_result"
    }
   ],
   "source": [
    "# show all genes in the all_eve_files dataframe\n",
    "all_eve_files[\"gene\"].unique()"
   ],
   "metadata": {
    "collapsed": false,
    "ExecuteTime": {
     "end_time": "2023-11-23T14:11:51.275174400Z",
     "start_time": "2023-11-23T14:11:51.196498800Z"
    }
   },
   "id": "acec83560ef83170"
  },
  {
   "cell_type": "code",
   "execution_count": 79,
   "outputs": [
    {
     "data": {
      "text/plain": "     variant  prediction  reality    gene\n0        M1R           0        0  COL2A1\n1        I2A           0        0  COL2A1\n2        I2L           0        0  COL2A1\n3        I2P           0        0  COL2A1\n4        I2T           0        0  COL2A1\n...      ...         ...      ...     ...\n4799   Y217F           0        0    GJB2\n4800   G220A           0        0    GJB2\n4801   G220K           0        0    GJB2\n4802   K221R           0        0    GJB2\n4803   K223R           0        0    GJB2\n\n[4804 rows x 4 columns]",
      "text/html": "<div>\n<style scoped>\n    .dataframe tbody tr th:only-of-type {\n        vertical-align: middle;\n    }\n\n    .dataframe tbody tr th {\n        vertical-align: top;\n    }\n\n    .dataframe thead th {\n        text-align: right;\n    }\n</style>\n<table border=\"1\" class=\"dataframe\">\n  <thead>\n    <tr style=\"text-align: right;\">\n      <th></th>\n      <th>variant</th>\n      <th>prediction</th>\n      <th>reality</th>\n      <th>gene</th>\n    </tr>\n  </thead>\n  <tbody>\n    <tr>\n      <th>0</th>\n      <td>M1R</td>\n      <td>0</td>\n      <td>0</td>\n      <td>COL2A1</td>\n    </tr>\n    <tr>\n      <th>1</th>\n      <td>I2A</td>\n      <td>0</td>\n      <td>0</td>\n      <td>COL2A1</td>\n    </tr>\n    <tr>\n      <th>2</th>\n      <td>I2L</td>\n      <td>0</td>\n      <td>0</td>\n      <td>COL2A1</td>\n    </tr>\n    <tr>\n      <th>3</th>\n      <td>I2P</td>\n      <td>0</td>\n      <td>0</td>\n      <td>COL2A1</td>\n    </tr>\n    <tr>\n      <th>4</th>\n      <td>I2T</td>\n      <td>0</td>\n      <td>0</td>\n      <td>COL2A1</td>\n    </tr>\n    <tr>\n      <th>...</th>\n      <td>...</td>\n      <td>...</td>\n      <td>...</td>\n      <td>...</td>\n    </tr>\n    <tr>\n      <th>4799</th>\n      <td>Y217F</td>\n      <td>0</td>\n      <td>0</td>\n      <td>GJB2</td>\n    </tr>\n    <tr>\n      <th>4800</th>\n      <td>G220A</td>\n      <td>0</td>\n      <td>0</td>\n      <td>GJB2</td>\n    </tr>\n    <tr>\n      <th>4801</th>\n      <td>G220K</td>\n      <td>0</td>\n      <td>0</td>\n      <td>GJB2</td>\n    </tr>\n    <tr>\n      <th>4802</th>\n      <td>K221R</td>\n      <td>0</td>\n      <td>0</td>\n      <td>GJB2</td>\n    </tr>\n    <tr>\n      <th>4803</th>\n      <td>K223R</td>\n      <td>0</td>\n      <td>0</td>\n      <td>GJB2</td>\n    </tr>\n  </tbody>\n</table>\n<p>4804 rows × 4 columns</p>\n</div>"
     },
     "execution_count": 79,
     "metadata": {},
     "output_type": "execute_result"
    }
   ],
   "source": [
    "# Combine the prediction files into one file\n",
    "my_prediction = pd.read_csv(\"C:\\\\Users\\\\InbarBlech\\\\PycharmProjects\\\\Thesis\\\\predictions_vs_real\\\\predictions_vs_real_with_variant_all_genes_updated_221123.csv\")\n",
    "my_prediction"
   ],
   "metadata": {
    "collapsed": false,
    "ExecuteTime": {
     "end_time": "2023-11-23T14:11:52.147283700Z",
     "start_time": "2023-11-23T14:11:51.990614900Z"
    }
   },
   "id": "dae07953cecae426"
  },
  {
   "cell_type": "code",
   "execution_count": 80,
   "outputs": [
    {
     "data": {
      "text/plain": "       wt_aa  position mt_aa ClinVar_ClinicalSignificance  Gold_Stars  \\\n0          M         1     A                          NaN         NaN   \n1          M         1     C                          NaN         NaN   \n2          M         1     D                          NaN         NaN   \n3          M         1     E                          NaN         NaN   \n4          M         1     F                          NaN         NaN   \n...      ...       ...   ...                          ...         ...   \n200015     V       226     S                          NaN         NaN   \n200016     V       226     T                          NaN         NaN   \n200017     V       226     V                          NaN         NaN   \n200018     V       226     W                          NaN         NaN   \n200019     V       226     Y                          NaN         NaN   \n\n        NumberSubmitters Starred_Coarse_Grained_Clin_Sig  frequency_gv2  \\\n0                    NaN                             NaN            NaN   \n1                    NaN                             NaN            NaN   \n2                    NaN                             NaN            NaN   \n3                    NaN                             NaN            NaN   \n4                    NaN                             NaN            NaN   \n...                  ...                             ...            ...   \n200015               NaN                             NaN            NaN   \n200016               NaN                             NaN            NaN   \n200017               NaN                             NaN            NaN   \n200018               NaN                             NaN            NaN   \n200019               NaN                             NaN            NaN   \n\n        frequency_gv3  evolutionary_index_ASM  ...  b_acmg_model  \\\n0                 NaN                     NaN  ...         False   \n1                 NaN                     NaN  ...         False   \n2                 NaN                     NaN  ...         False   \n3                 NaN                     NaN  ...         False   \n4                 NaN                     NaN  ...         False   \n...               ...                     ...  ...           ...   \n200015            NaN                     NaN  ...         False   \n200016            NaN                     NaN  ...         False   \n200017            NaN                     NaN  ...         False   \n200018            NaN                     NaN  ...         False   \n200019            NaN                     NaN  ...         False   \n\n        lb_acmg_model lp_acmg_model coarse_clinical_significance_post  \\\n0               False         False                               NaN   \n1               False         False                               NaN   \n2               False         False                               NaN   \n3               False         False                               NaN   \n4               False         False                               NaN   \n...               ...           ...                               ...   \n200015          False         False                               NaN   \n200016          False         False                               NaN   \n200017          False         False                               NaN   \n200018          False         False                               NaN   \n200019          False         False                               NaN   \n\n       clinical_significance_post model_disagreement  \\\n0                             NaN              False   \n1                             NaN              False   \n2                             NaN              False   \n3                             NaN              False   \n4                             NaN              False   \n...                           ...                ...   \n200015                        NaN              False   \n200016                        NaN              False   \n200017                        NaN              False   \n200018                        NaN              False   \n200019                        NaN              False   \n\n       CV_label_and_model_combined_with_other_evidence_disagreement  \\\n0                                                   False             \n1                                                   False             \n2                                                   False             \n3                                                   False             \n4                                                   False             \n...                                                   ...             \n200015                                              False             \n200016                                              False             \n200017                                              False             \n200018                                              False             \n200019                                              False             \n\n       starred_label_and_model_disagreement  \\\n0                                     False   \n1                                     False   \n2                                     False   \n3                                     False   \n4                                     False   \n...                                     ...   \n200015                                False   \n200016                                False   \n200017                                False   \n200018                                False   \n200019                                False   \n\n       starred_label_and_model_combined_with_other_evidence_disagreement  \\\n0                                                   False                  \n1                                                   False                  \n2                                                   False                  \n3                                                   False                  \n4                                                   False                  \n...                                                   ...                  \n200015                                              False                  \n200016                                              False                  \n200017                                              False                  \n200018                                              False                  \n200019                                              False                  \n\n          gene  \n0       COL2A1  \n1       COL2A1  \n2       COL2A1  \n3       COL2A1  \n4       COL2A1  \n...        ...  \n200015    GJB2  \n200016    GJB2  \n200017    GJB2  \n200018    GJB2  \n200019    GJB2  \n\n[200020 rows x 44 columns]",
      "text/html": "<div>\n<style scoped>\n    .dataframe tbody tr th:only-of-type {\n        vertical-align: middle;\n    }\n\n    .dataframe tbody tr th {\n        vertical-align: top;\n    }\n\n    .dataframe thead th {\n        text-align: right;\n    }\n</style>\n<table border=\"1\" class=\"dataframe\">\n  <thead>\n    <tr style=\"text-align: right;\">\n      <th></th>\n      <th>wt_aa</th>\n      <th>position</th>\n      <th>mt_aa</th>\n      <th>ClinVar_ClinicalSignificance</th>\n      <th>Gold_Stars</th>\n      <th>NumberSubmitters</th>\n      <th>Starred_Coarse_Grained_Clin_Sig</th>\n      <th>frequency_gv2</th>\n      <th>frequency_gv3</th>\n      <th>evolutionary_index_ASM</th>\n      <th>...</th>\n      <th>b_acmg_model</th>\n      <th>lb_acmg_model</th>\n      <th>lp_acmg_model</th>\n      <th>coarse_clinical_significance_post</th>\n      <th>clinical_significance_post</th>\n      <th>model_disagreement</th>\n      <th>CV_label_and_model_combined_with_other_evidence_disagreement</th>\n      <th>starred_label_and_model_disagreement</th>\n      <th>starred_label_and_model_combined_with_other_evidence_disagreement</th>\n      <th>gene</th>\n    </tr>\n  </thead>\n  <tbody>\n    <tr>\n      <th>0</th>\n      <td>M</td>\n      <td>1</td>\n      <td>A</td>\n      <td>NaN</td>\n      <td>NaN</td>\n      <td>NaN</td>\n      <td>NaN</td>\n      <td>NaN</td>\n      <td>NaN</td>\n      <td>NaN</td>\n      <td>...</td>\n      <td>False</td>\n      <td>False</td>\n      <td>False</td>\n      <td>NaN</td>\n      <td>NaN</td>\n      <td>False</td>\n      <td>False</td>\n      <td>False</td>\n      <td>False</td>\n      <td>COL2A1</td>\n    </tr>\n    <tr>\n      <th>1</th>\n      <td>M</td>\n      <td>1</td>\n      <td>C</td>\n      <td>NaN</td>\n      <td>NaN</td>\n      <td>NaN</td>\n      <td>NaN</td>\n      <td>NaN</td>\n      <td>NaN</td>\n      <td>NaN</td>\n      <td>...</td>\n      <td>False</td>\n      <td>False</td>\n      <td>False</td>\n      <td>NaN</td>\n      <td>NaN</td>\n      <td>False</td>\n      <td>False</td>\n      <td>False</td>\n      <td>False</td>\n      <td>COL2A1</td>\n    </tr>\n    <tr>\n      <th>2</th>\n      <td>M</td>\n      <td>1</td>\n      <td>D</td>\n      <td>NaN</td>\n      <td>NaN</td>\n      <td>NaN</td>\n      <td>NaN</td>\n      <td>NaN</td>\n      <td>NaN</td>\n      <td>NaN</td>\n      <td>...</td>\n      <td>False</td>\n      <td>False</td>\n      <td>False</td>\n      <td>NaN</td>\n      <td>NaN</td>\n      <td>False</td>\n      <td>False</td>\n      <td>False</td>\n      <td>False</td>\n      <td>COL2A1</td>\n    </tr>\n    <tr>\n      <th>3</th>\n      <td>M</td>\n      <td>1</td>\n      <td>E</td>\n      <td>NaN</td>\n      <td>NaN</td>\n      <td>NaN</td>\n      <td>NaN</td>\n      <td>NaN</td>\n      <td>NaN</td>\n      <td>NaN</td>\n      <td>...</td>\n      <td>False</td>\n      <td>False</td>\n      <td>False</td>\n      <td>NaN</td>\n      <td>NaN</td>\n      <td>False</td>\n      <td>False</td>\n      <td>False</td>\n      <td>False</td>\n      <td>COL2A1</td>\n    </tr>\n    <tr>\n      <th>4</th>\n      <td>M</td>\n      <td>1</td>\n      <td>F</td>\n      <td>NaN</td>\n      <td>NaN</td>\n      <td>NaN</td>\n      <td>NaN</td>\n      <td>NaN</td>\n      <td>NaN</td>\n      <td>NaN</td>\n      <td>...</td>\n      <td>False</td>\n      <td>False</td>\n      <td>False</td>\n      <td>NaN</td>\n      <td>NaN</td>\n      <td>False</td>\n      <td>False</td>\n      <td>False</td>\n      <td>False</td>\n      <td>COL2A1</td>\n    </tr>\n    <tr>\n      <th>...</th>\n      <td>...</td>\n      <td>...</td>\n      <td>...</td>\n      <td>...</td>\n      <td>...</td>\n      <td>...</td>\n      <td>...</td>\n      <td>...</td>\n      <td>...</td>\n      <td>...</td>\n      <td>...</td>\n      <td>...</td>\n      <td>...</td>\n      <td>...</td>\n      <td>...</td>\n      <td>...</td>\n      <td>...</td>\n      <td>...</td>\n      <td>...</td>\n      <td>...</td>\n      <td>...</td>\n    </tr>\n    <tr>\n      <th>200015</th>\n      <td>V</td>\n      <td>226</td>\n      <td>S</td>\n      <td>NaN</td>\n      <td>NaN</td>\n      <td>NaN</td>\n      <td>NaN</td>\n      <td>NaN</td>\n      <td>NaN</td>\n      <td>NaN</td>\n      <td>...</td>\n      <td>False</td>\n      <td>False</td>\n      <td>False</td>\n      <td>NaN</td>\n      <td>NaN</td>\n      <td>False</td>\n      <td>False</td>\n      <td>False</td>\n      <td>False</td>\n      <td>GJB2</td>\n    </tr>\n    <tr>\n      <th>200016</th>\n      <td>V</td>\n      <td>226</td>\n      <td>T</td>\n      <td>NaN</td>\n      <td>NaN</td>\n      <td>NaN</td>\n      <td>NaN</td>\n      <td>NaN</td>\n      <td>NaN</td>\n      <td>NaN</td>\n      <td>...</td>\n      <td>False</td>\n      <td>False</td>\n      <td>False</td>\n      <td>NaN</td>\n      <td>NaN</td>\n      <td>False</td>\n      <td>False</td>\n      <td>False</td>\n      <td>False</td>\n      <td>GJB2</td>\n    </tr>\n    <tr>\n      <th>200017</th>\n      <td>V</td>\n      <td>226</td>\n      <td>V</td>\n      <td>NaN</td>\n      <td>NaN</td>\n      <td>NaN</td>\n      <td>NaN</td>\n      <td>NaN</td>\n      <td>NaN</td>\n      <td>NaN</td>\n      <td>...</td>\n      <td>False</td>\n      <td>False</td>\n      <td>False</td>\n      <td>NaN</td>\n      <td>NaN</td>\n      <td>False</td>\n      <td>False</td>\n      <td>False</td>\n      <td>False</td>\n      <td>GJB2</td>\n    </tr>\n    <tr>\n      <th>200018</th>\n      <td>V</td>\n      <td>226</td>\n      <td>W</td>\n      <td>NaN</td>\n      <td>NaN</td>\n      <td>NaN</td>\n      <td>NaN</td>\n      <td>NaN</td>\n      <td>NaN</td>\n      <td>NaN</td>\n      <td>...</td>\n      <td>False</td>\n      <td>False</td>\n      <td>False</td>\n      <td>NaN</td>\n      <td>NaN</td>\n      <td>False</td>\n      <td>False</td>\n      <td>False</td>\n      <td>False</td>\n      <td>GJB2</td>\n    </tr>\n    <tr>\n      <th>200019</th>\n      <td>V</td>\n      <td>226</td>\n      <td>Y</td>\n      <td>NaN</td>\n      <td>NaN</td>\n      <td>NaN</td>\n      <td>NaN</td>\n      <td>NaN</td>\n      <td>NaN</td>\n      <td>NaN</td>\n      <td>...</td>\n      <td>False</td>\n      <td>False</td>\n      <td>False</td>\n      <td>NaN</td>\n      <td>NaN</td>\n      <td>False</td>\n      <td>False</td>\n      <td>False</td>\n      <td>False</td>\n      <td>GJB2</td>\n    </tr>\n  </tbody>\n</table>\n<p>200020 rows × 44 columns</p>\n</div>"
     },
     "execution_count": 80,
     "metadata": {},
     "output_type": "execute_result"
    }
   ],
   "source": [
    "EVE_predictions = pd.read_csv(\"C:\\\\Users\\\\InbarBlech\\\\PycharmProjects\\\\Thesis\\\\benchmarking\\\\EVE\\\\all_EVE_predictions.csv\")\n",
    "EVE_predictions"
   ],
   "metadata": {
    "collapsed": false,
    "ExecuteTime": {
     "end_time": "2023-11-23T14:11:54.031364Z",
     "start_time": "2023-11-23T14:11:52.649096700Z"
    }
   },
   "id": "9d0bfb88ebdc04d6"
  },
  {
   "cell_type": "code",
   "execution_count": 81,
   "outputs": [],
   "source": [
    "# print all rows with Nan in EVE score\n",
    "EVE_VUS = EVE_predictions[EVE_predictions['EVE_scores_ASM'].isna()]"
   ],
   "metadata": {
    "collapsed": false,
    "ExecuteTime": {
     "end_time": "2023-11-23T14:11:54.078880500Z",
     "start_time": "2023-11-23T14:11:54.031364Z"
    }
   },
   "id": "d6e172f9fe4db5ea"
  },
  {
   "cell_type": "code",
   "execution_count": 82,
   "outputs": [
    {
     "name": "stderr",
     "output_type": "stream",
     "text": [
      "C:\\Users\\InbarBlech\\AppData\\Local\\Temp\\ipykernel_29540\\2446768170.py:3: SettingWithCopyWarning: \n",
      "A value is trying to be set on a copy of a slice from a DataFrame.\n",
      "Try using .loc[row_indexer,col_indexer] = value instead\n",
      "\n",
      "See the caveats in the documentation: https://pandas.pydata.org/pandas-docs/stable/user_guide/indexing.html#returning-a-view-versus-a-copy\n",
      "  EVE_predictions[\"position\"] = EVE_predictions[\"position\"].astype(str)\n",
      "C:\\Users\\InbarBlech\\AppData\\Local\\Temp\\ipykernel_29540\\2446768170.py:5: SettingWithCopyWarning: \n",
      "A value is trying to be set on a copy of a slice from a DataFrame.\n",
      "Try using .loc[row_indexer,col_indexer] = value instead\n",
      "\n",
      "See the caveats in the documentation: https://pandas.pydata.org/pandas-docs/stable/user_guide/indexing.html#returning-a-view-versus-a-copy\n",
      "  EVE_predictions['variant'] = EVE_predictions['wt_aa'] + EVE_predictions['position'] + EVE_predictions['mt_aa']\n"
     ]
    },
    {
     "data": {
      "text/plain": "        EVE_scores_ASM    gene variant\n0                  NaN  COL2A1     M1A\n1                  NaN  COL2A1     M1C\n2                  NaN  COL2A1     M1D\n3                  NaN  COL2A1     M1E\n4                  NaN  COL2A1     M1F\n...                ...     ...     ...\n200015             NaN    GJB2   V226S\n200016             NaN    GJB2   V226T\n200017             NaN    GJB2   V226V\n200018             NaN    GJB2   V226W\n200019             NaN    GJB2   V226Y\n\n[200020 rows x 3 columns]",
      "text/html": "<div>\n<style scoped>\n    .dataframe tbody tr th:only-of-type {\n        vertical-align: middle;\n    }\n\n    .dataframe tbody tr th {\n        vertical-align: top;\n    }\n\n    .dataframe thead th {\n        text-align: right;\n    }\n</style>\n<table border=\"1\" class=\"dataframe\">\n  <thead>\n    <tr style=\"text-align: right;\">\n      <th></th>\n      <th>EVE_scores_ASM</th>\n      <th>gene</th>\n      <th>variant</th>\n    </tr>\n  </thead>\n  <tbody>\n    <tr>\n      <th>0</th>\n      <td>NaN</td>\n      <td>COL2A1</td>\n      <td>M1A</td>\n    </tr>\n    <tr>\n      <th>1</th>\n      <td>NaN</td>\n      <td>COL2A1</td>\n      <td>M1C</td>\n    </tr>\n    <tr>\n      <th>2</th>\n      <td>NaN</td>\n      <td>COL2A1</td>\n      <td>M1D</td>\n    </tr>\n    <tr>\n      <th>3</th>\n      <td>NaN</td>\n      <td>COL2A1</td>\n      <td>M1E</td>\n    </tr>\n    <tr>\n      <th>4</th>\n      <td>NaN</td>\n      <td>COL2A1</td>\n      <td>M1F</td>\n    </tr>\n    <tr>\n      <th>...</th>\n      <td>...</td>\n      <td>...</td>\n      <td>...</td>\n    </tr>\n    <tr>\n      <th>200015</th>\n      <td>NaN</td>\n      <td>GJB2</td>\n      <td>V226S</td>\n    </tr>\n    <tr>\n      <th>200016</th>\n      <td>NaN</td>\n      <td>GJB2</td>\n      <td>V226T</td>\n    </tr>\n    <tr>\n      <th>200017</th>\n      <td>NaN</td>\n      <td>GJB2</td>\n      <td>V226V</td>\n    </tr>\n    <tr>\n      <th>200018</th>\n      <td>NaN</td>\n      <td>GJB2</td>\n      <td>V226W</td>\n    </tr>\n    <tr>\n      <th>200019</th>\n      <td>NaN</td>\n      <td>GJB2</td>\n      <td>V226Y</td>\n    </tr>\n  </tbody>\n</table>\n<p>200020 rows × 3 columns</p>\n</div>"
     },
     "execution_count": 82,
     "metadata": {},
     "output_type": "execute_result"
    }
   ],
   "source": [
    "# Only leave \"wt_aa\", \"position\" \"mt_aa\" and \"EVE_scores_ASM\" columns\n",
    "EVE_predictions = EVE_predictions[['wt_aa', 'mt_aa', 'position', 'EVE_scores_ASM', 'gene']]\n",
    "EVE_predictions[\"position\"] = EVE_predictions[\"position\"].astype(str)\n",
    "# create new row \"variant\"\n",
    "EVE_predictions['variant'] = EVE_predictions['wt_aa'] + EVE_predictions['position'] + EVE_predictions['mt_aa']\n",
    "EVE_predictions = EVE_predictions.drop(columns=[\"wt_aa\", \"mt_aa\", \"position\"])\n",
    "EVE_predictions"
   ],
   "metadata": {
    "collapsed": false,
    "ExecuteTime": {
     "end_time": "2023-11-23T14:11:54.408310200Z",
     "start_time": "2023-11-23T14:11:54.235549300Z"
    }
   },
   "id": "5689253926906019"
  },
  {
   "cell_type": "code",
   "execution_count": 83,
   "outputs": [
    {
     "data": {
      "text/plain": "        EVE_scores_ASM    gene variant\n2400          0.264386  COL2A1   P121A\n2401          0.410310  COL2A1   P121C\n2402          0.252880  COL2A1   P121D\n2403          0.149652  COL2A1   P121E\n2404          0.394707  COL2A1   P121F\n...                ...     ...     ...\n199895        0.086011    GJB2   G220S\n199896        0.093151    GJB2   G220T\n199897        0.074819    GJB2   G220V\n199898        0.113137    GJB2   G220W\n199899        0.234938    GJB2   G220Y\n\n[179056 rows x 3 columns]",
      "text/html": "<div>\n<style scoped>\n    .dataframe tbody tr th:only-of-type {\n        vertical-align: middle;\n    }\n\n    .dataframe tbody tr th {\n        vertical-align: top;\n    }\n\n    .dataframe thead th {\n        text-align: right;\n    }\n</style>\n<table border=\"1\" class=\"dataframe\">\n  <thead>\n    <tr style=\"text-align: right;\">\n      <th></th>\n      <th>EVE_scores_ASM</th>\n      <th>gene</th>\n      <th>variant</th>\n    </tr>\n  </thead>\n  <tbody>\n    <tr>\n      <th>2400</th>\n      <td>0.264386</td>\n      <td>COL2A1</td>\n      <td>P121A</td>\n    </tr>\n    <tr>\n      <th>2401</th>\n      <td>0.410310</td>\n      <td>COL2A1</td>\n      <td>P121C</td>\n    </tr>\n    <tr>\n      <th>2402</th>\n      <td>0.252880</td>\n      <td>COL2A1</td>\n      <td>P121D</td>\n    </tr>\n    <tr>\n      <th>2403</th>\n      <td>0.149652</td>\n      <td>COL2A1</td>\n      <td>P121E</td>\n    </tr>\n    <tr>\n      <th>2404</th>\n      <td>0.394707</td>\n      <td>COL2A1</td>\n      <td>P121F</td>\n    </tr>\n    <tr>\n      <th>...</th>\n      <td>...</td>\n      <td>...</td>\n      <td>...</td>\n    </tr>\n    <tr>\n      <th>199895</th>\n      <td>0.086011</td>\n      <td>GJB2</td>\n      <td>G220S</td>\n    </tr>\n    <tr>\n      <th>199896</th>\n      <td>0.093151</td>\n      <td>GJB2</td>\n      <td>G220T</td>\n    </tr>\n    <tr>\n      <th>199897</th>\n      <td>0.074819</td>\n      <td>GJB2</td>\n      <td>G220V</td>\n    </tr>\n    <tr>\n      <th>199898</th>\n      <td>0.113137</td>\n      <td>GJB2</td>\n      <td>G220W</td>\n    </tr>\n    <tr>\n      <th>199899</th>\n      <td>0.234938</td>\n      <td>GJB2</td>\n      <td>G220Y</td>\n    </tr>\n  </tbody>\n</table>\n<p>179056 rows × 3 columns</p>\n</div>"
     },
     "execution_count": 83,
     "metadata": {},
     "output_type": "execute_result"
    }
   ],
   "source": [
    "# No need for applying threshold to VUS, since EVE have pre-deleted all VUS.\n",
    "# Just delete all rows with Nan in EVE score\n",
    "EVE_predictions = EVE_predictions[EVE_predictions['EVE_scores_ASM'].notna()]\n",
    "EVE_predictions"
   ],
   "metadata": {
    "collapsed": false,
    "ExecuteTime": {
     "end_time": "2023-11-23T14:11:56.238711Z",
     "start_time": "2023-11-23T14:11:56.097628500Z"
    }
   },
   "id": "a774dcb20a2c764c"
  },
  {
   "cell_type": "code",
   "execution_count": 84,
   "outputs": [
    {
     "name": "stderr",
     "output_type": "stream",
     "text": [
      "C:\\Users\\InbarBlech\\AppData\\Local\\Temp\\ipykernel_29540\\870951515.py:2: SettingWithCopyWarning: \n",
      "A value is trying to be set on a copy of a slice from a DataFrame.\n",
      "Try using .loc[row_indexer,col_indexer] = value instead\n",
      "\n",
      "See the caveats in the documentation: https://pandas.pydata.org/pandas-docs/stable/user_guide/indexing.html#returning-a-view-versus-a-copy\n",
      "  EVE_predictions['EVE_scores_ASM'] = pd.to_numeric(EVE_predictions['EVE_scores_ASM'], errors='coerce')\n",
      "C:\\Users\\InbarBlech\\AppData\\Local\\Temp\\ipykernel_29540\\870951515.py:4: SettingWithCopyWarning: \n",
      "A value is trying to be set on a copy of a slice from a DataFrame.\n",
      "Try using .loc[row_indexer,col_indexer] = value instead\n",
      "\n",
      "See the caveats in the documentation: https://pandas.pydata.org/pandas-docs/stable/user_guide/indexing.html#returning-a-view-versus-a-copy\n",
      "  EVE_predictions[\"EVE_pathogenicity\"] = EVE_predictions[\"EVE_scores_ASM\"].apply(lambda x: 1 if x >= 0.5 else 0)\n"
     ]
    },
    {
     "data": {
      "text/plain": "        EVE_scores_ASM    gene variant  EVE_pathogenicity\n2400          0.264386  COL2A1   P121A                  0\n2401          0.410310  COL2A1   P121C                  0\n2402          0.252880  COL2A1   P121D                  0\n2403          0.149652  COL2A1   P121E                  0\n2404          0.394707  COL2A1   P121F                  0\n...                ...     ...     ...                ...\n199895        0.086011    GJB2   G220S                  0\n199896        0.093151    GJB2   G220T                  0\n199897        0.074819    GJB2   G220V                  0\n199898        0.113137    GJB2   G220W                  0\n199899        0.234938    GJB2   G220Y                  0\n\n[179056 rows x 4 columns]",
      "text/html": "<div>\n<style scoped>\n    .dataframe tbody tr th:only-of-type {\n        vertical-align: middle;\n    }\n\n    .dataframe tbody tr th {\n        vertical-align: top;\n    }\n\n    .dataframe thead th {\n        text-align: right;\n    }\n</style>\n<table border=\"1\" class=\"dataframe\">\n  <thead>\n    <tr style=\"text-align: right;\">\n      <th></th>\n      <th>EVE_scores_ASM</th>\n      <th>gene</th>\n      <th>variant</th>\n      <th>EVE_pathogenicity</th>\n    </tr>\n  </thead>\n  <tbody>\n    <tr>\n      <th>2400</th>\n      <td>0.264386</td>\n      <td>COL2A1</td>\n      <td>P121A</td>\n      <td>0</td>\n    </tr>\n    <tr>\n      <th>2401</th>\n      <td>0.410310</td>\n      <td>COL2A1</td>\n      <td>P121C</td>\n      <td>0</td>\n    </tr>\n    <tr>\n      <th>2402</th>\n      <td>0.252880</td>\n      <td>COL2A1</td>\n      <td>P121D</td>\n      <td>0</td>\n    </tr>\n    <tr>\n      <th>2403</th>\n      <td>0.149652</td>\n      <td>COL2A1</td>\n      <td>P121E</td>\n      <td>0</td>\n    </tr>\n    <tr>\n      <th>2404</th>\n      <td>0.394707</td>\n      <td>COL2A1</td>\n      <td>P121F</td>\n      <td>0</td>\n    </tr>\n    <tr>\n      <th>...</th>\n      <td>...</td>\n      <td>...</td>\n      <td>...</td>\n      <td>...</td>\n    </tr>\n    <tr>\n      <th>199895</th>\n      <td>0.086011</td>\n      <td>GJB2</td>\n      <td>G220S</td>\n      <td>0</td>\n    </tr>\n    <tr>\n      <th>199896</th>\n      <td>0.093151</td>\n      <td>GJB2</td>\n      <td>G220T</td>\n      <td>0</td>\n    </tr>\n    <tr>\n      <th>199897</th>\n      <td>0.074819</td>\n      <td>GJB2</td>\n      <td>G220V</td>\n      <td>0</td>\n    </tr>\n    <tr>\n      <th>199898</th>\n      <td>0.113137</td>\n      <td>GJB2</td>\n      <td>G220W</td>\n      <td>0</td>\n    </tr>\n    <tr>\n      <th>199899</th>\n      <td>0.234938</td>\n      <td>GJB2</td>\n      <td>G220Y</td>\n      <td>0</td>\n    </tr>\n  </tbody>\n</table>\n<p>179056 rows × 4 columns</p>\n</div>"
     },
     "execution_count": 84,
     "metadata": {},
     "output_type": "execute_result"
    }
   ],
   "source": [
    "# Make EVE_scores_ASM column numeric\n",
    "EVE_predictions['EVE_scores_ASM'] = pd.to_numeric(EVE_predictions['EVE_scores_ASM'], errors='coerce')\n",
    "# Add benign or pathogenic label to each variant, according to the VEST4 score.\n",
    "EVE_predictions[\"EVE_pathogenicity\"] = EVE_predictions[\"EVE_scores_ASM\"].apply(lambda x: 1 if x >= 0.5 else 0)\n",
    "EVE_predictions"
   ],
   "metadata": {
    "collapsed": false,
    "ExecuteTime": {
     "end_time": "2023-11-23T14:11:56.286118800Z",
     "start_time": "2023-11-23T14:11:56.144450600Z"
    }
   },
   "id": "f2a1b6baa95f71e9"
  },
  {
   "cell_type": "code",
   "execution_count": 85,
   "outputs": [
    {
     "name": "stdout",
     "output_type": "stream",
     "text": [
      "Number of pathogenic variants in EVE: 88025\n",
      "Number of benign variants in EVE: 91031\n"
     ]
    }
   ],
   "source": [
    "# print how many pathogenic and benign variants are in the EVE file\n",
    "print(f\"Number of pathogenic variants in EVE: {len(EVE_predictions[EVE_predictions['EVE_pathogenicity'] == 1])}\")\n",
    "print(f\"Number of benign variants in EVE: {len(EVE_predictions[EVE_predictions['EVE_pathogenicity'] == 0])}\")\n"
   ],
   "metadata": {
    "collapsed": false,
    "ExecuteTime": {
     "end_time": "2023-11-23T14:11:57.918162600Z",
     "start_time": "2023-11-23T14:11:57.776825200Z"
    }
   },
   "id": "ec408a732fc6b469"
  },
  {
   "cell_type": "code",
   "execution_count": 86,
   "outputs": [
    {
     "data": {
      "text/plain": "     variant  prediction  reality    gene  EVE_scores_ASM  EVE_pathogenicity\n0      A128V           0        0  COL2A1        0.082091                  0\n1      R134K           0        0  COL2A1        0.078709                  0\n2      D139E           0        0  COL2A1        0.108896                  0\n3      E142A           0        0  COL2A1        0.102465                  0\n4      E142Q           0        0  COL2A1        0.097622                  0\n...      ...         ...      ...     ...             ...                ...\n4470   Y217F           0        0    GJB2        0.178752                  0\n4471   G220A           0        0    GJB2        0.087845                  0\n4472   G220A           0        0    GJB2        0.087845                  0\n4473   G220K           0        0    GJB2        0.028963                  0\n4474   G220K           0        0    GJB2        0.028963                  0\n\n[4475 rows x 6 columns]",
      "text/html": "<div>\n<style scoped>\n    .dataframe tbody tr th:only-of-type {\n        vertical-align: middle;\n    }\n\n    .dataframe tbody tr th {\n        vertical-align: top;\n    }\n\n    .dataframe thead th {\n        text-align: right;\n    }\n</style>\n<table border=\"1\" class=\"dataframe\">\n  <thead>\n    <tr style=\"text-align: right;\">\n      <th></th>\n      <th>variant</th>\n      <th>prediction</th>\n      <th>reality</th>\n      <th>gene</th>\n      <th>EVE_scores_ASM</th>\n      <th>EVE_pathogenicity</th>\n    </tr>\n  </thead>\n  <tbody>\n    <tr>\n      <th>0</th>\n      <td>A128V</td>\n      <td>0</td>\n      <td>0</td>\n      <td>COL2A1</td>\n      <td>0.082091</td>\n      <td>0</td>\n    </tr>\n    <tr>\n      <th>1</th>\n      <td>R134K</td>\n      <td>0</td>\n      <td>0</td>\n      <td>COL2A1</td>\n      <td>0.078709</td>\n      <td>0</td>\n    </tr>\n    <tr>\n      <th>2</th>\n      <td>D139E</td>\n      <td>0</td>\n      <td>0</td>\n      <td>COL2A1</td>\n      <td>0.108896</td>\n      <td>0</td>\n    </tr>\n    <tr>\n      <th>3</th>\n      <td>E142A</td>\n      <td>0</td>\n      <td>0</td>\n      <td>COL2A1</td>\n      <td>0.102465</td>\n      <td>0</td>\n    </tr>\n    <tr>\n      <th>4</th>\n      <td>E142Q</td>\n      <td>0</td>\n      <td>0</td>\n      <td>COL2A1</td>\n      <td>0.097622</td>\n      <td>0</td>\n    </tr>\n    <tr>\n      <th>...</th>\n      <td>...</td>\n      <td>...</td>\n      <td>...</td>\n      <td>...</td>\n      <td>...</td>\n      <td>...</td>\n    </tr>\n    <tr>\n      <th>4470</th>\n      <td>Y217F</td>\n      <td>0</td>\n      <td>0</td>\n      <td>GJB2</td>\n      <td>0.178752</td>\n      <td>0</td>\n    </tr>\n    <tr>\n      <th>4471</th>\n      <td>G220A</td>\n      <td>0</td>\n      <td>0</td>\n      <td>GJB2</td>\n      <td>0.087845</td>\n      <td>0</td>\n    </tr>\n    <tr>\n      <th>4472</th>\n      <td>G220A</td>\n      <td>0</td>\n      <td>0</td>\n      <td>GJB2</td>\n      <td>0.087845</td>\n      <td>0</td>\n    </tr>\n    <tr>\n      <th>4473</th>\n      <td>G220K</td>\n      <td>0</td>\n      <td>0</td>\n      <td>GJB2</td>\n      <td>0.028963</td>\n      <td>0</td>\n    </tr>\n    <tr>\n      <th>4474</th>\n      <td>G220K</td>\n      <td>0</td>\n      <td>0</td>\n      <td>GJB2</td>\n      <td>0.028963</td>\n      <td>0</td>\n    </tr>\n  </tbody>\n</table>\n<p>4475 rows × 6 columns</p>\n</div>"
     },
     "execution_count": 86,
     "metadata": {},
     "output_type": "execute_result"
    }
   ],
   "source": [
    "# Merge the two files\n",
    "merged = pd.merge(my_prediction, EVE_predictions, on=[\"gene\", \"variant\"])\n",
    "merged\n"
   ],
   "metadata": {
    "collapsed": false,
    "ExecuteTime": {
     "end_time": "2023-11-23T14:11:59.206640100Z",
     "start_time": "2023-11-23T14:11:59.065041Z"
    }
   },
   "id": "dffcacfbb6cf2437"
  },
  {
   "cell_type": "code",
   "execution_count": 87,
   "outputs": [],
   "source": [
    "# To make sure that all tools will be tested on the same variants, save the merged with REVEL file and do so for all other tools. Then merge all the files together.\n",
    "merged_only_EVE_columns = merged[['gene', 'variant', 'EVE_scores_ASM', 'EVE_pathogenicity']]\n",
    "merged.to_csv(\"C:\\\\Users\\\\InbarBlech\\\\PycharmProjects\\\\Thesis\\\\benchmarking\\\\EVE_on_dvd_data_predictions_LOPO.csv\")"
   ],
   "metadata": {
    "collapsed": false,
    "ExecuteTime": {
     "end_time": "2023-11-23T14:12:02.033537800Z",
     "start_time": "2023-11-23T14:12:01.938926700Z"
    }
   },
   "id": "83c682b0aac2f9ed"
  },
  {
   "cell_type": "code",
   "execution_count": 88,
   "outputs": [
    {
     "name": "stdout",
     "output_type": "stream",
     "text": [
      "length of merged 4475\n",
      "length of my_prediction 4804\n",
      "length of EVE 179056\n"
     ]
    }
   ],
   "source": [
    "print(f\"length of merged {len(merged)}\")\n",
    "print(f\"length of my_prediction {len(my_prediction)}\")\n",
    "print(f\"length of EVE {len(EVE_predictions)}\")"
   ],
   "metadata": {
    "collapsed": false,
    "ExecuteTime": {
     "end_time": "2023-11-23T14:12:02.800481700Z",
     "start_time": "2023-11-23T14:12:02.753081Z"
    }
   },
   "id": "132eb6a57eb26b7a"
  },
  {
   "cell_type": "code",
   "execution_count": 89,
   "outputs": [
    {
     "data": {
      "text/plain": "array(['COL2A1', 'COL4A3', 'COL4A5', 'WFS1', 'SLC26A4', 'MYO7A', 'FGFR1',\n       'GJB2'], dtype=object)"
     },
     "execution_count": 89,
     "metadata": {},
     "output_type": "execute_result"
    }
   ],
   "source": [
    "# print genes in merged\n",
    "merged[\"gene\"].unique()"
   ],
   "metadata": {
    "collapsed": false,
    "ExecuteTime": {
     "end_time": "2023-11-23T14:12:03.721984400Z",
     "start_time": "2023-11-23T14:12:03.659009Z"
    }
   },
   "id": "1fdd253fccc679eb"
  },
  {
   "cell_type": "code",
   "execution_count": 42,
   "outputs": [],
   "source": [
    "#############################################################################################################\n",
    "# All next rows were used to calculate the MCC, before realised I must apply first the threshold and remove the VUS variants. Now all these rows aren't in use, since I'm doing the calculations after removing the VUS variants and with all tools together.\n",
    "#############################################################################################################"
   ],
   "metadata": {
    "collapsed": false,
    "ExecuteTime": {
     "end_time": "2023-11-23T13:56:32.317519Z",
     "start_time": "2023-11-23T13:56:32.193851200Z"
    }
   },
   "id": "4db6be964fff455a"
  },
  {
   "cell_type": "code",
   "execution_count": 43,
   "outputs": [],
   "source": [
    "## Calculate the MCC for the mutpred predictions, according to the real pathogenicity (0 or 1)\n",
    "from sklearn.metrics import matthews_corrcoef"
   ],
   "metadata": {
    "collapsed": false,
    "ExecuteTime": {
     "end_time": "2023-11-23T13:56:32.632329300Z",
     "start_time": "2023-11-23T13:56:32.207390700Z"
    }
   },
   "id": "57a3d8604bb08730"
  },
  {
   "cell_type": "code",
   "execution_count": 44,
   "outputs": [
    {
     "name": "stdout",
     "output_type": "stream",
     "text": [
      "Number of genes: 7\n"
     ]
    }
   ],
   "source": [
    "# separate the merged dataframe according to gene\n",
    "genes = merged[\"gene\"].unique()\n",
    "print(f\"Number of genes: {len(genes)}\")"
   ],
   "metadata": {
    "collapsed": false,
    "ExecuteTime": {
     "end_time": "2023-11-23T13:56:32.632329300Z",
     "start_time": "2023-11-23T13:56:32.594046900Z"
    }
   },
   "id": "82b8979a837034b9"
  },
  {
   "cell_type": "code",
   "execution_count": 45,
   "outputs": [
    {
     "ename": "NameError",
     "evalue": "name 'merged_without_nan' is not defined",
     "output_type": "error",
     "traceback": [
      "\u001B[1;31m---------------------------------------------------------------------------\u001B[0m",
      "\u001B[1;31mNameError\u001B[0m                                 Traceback (most recent call last)",
      "\u001B[1;32m~\\AppData\\Local\\Temp\\ipykernel_29540\\3533922275.py\u001B[0m in \u001B[0;36m<module>\u001B[1;34m\u001B[0m\n\u001B[0;32m      1\u001B[0m \u001B[1;31m# Calculate MCC for each gene specific predictor for EVE\u001B[0m\u001B[1;33m\u001B[0m\u001B[1;33m\u001B[0m\u001B[0m\n\u001B[1;32m----> 2\u001B[1;33m \u001B[0mgenes\u001B[0m \u001B[1;33m=\u001B[0m \u001B[0mmerged_without_nan\u001B[0m\u001B[1;33m[\u001B[0m\u001B[1;34m\"gene\"\u001B[0m\u001B[1;33m]\u001B[0m\u001B[1;33m.\u001B[0m\u001B[0munique\u001B[0m\u001B[1;33m(\u001B[0m\u001B[1;33m)\u001B[0m\u001B[1;33m\u001B[0m\u001B[1;33m\u001B[0m\u001B[0m\n\u001B[0m\u001B[0;32m      3\u001B[0m \u001B[0mprint\u001B[0m\u001B[1;33m(\u001B[0m\u001B[0mgenes\u001B[0m\u001B[1;33m)\u001B[0m\u001B[1;33m\u001B[0m\u001B[1;33m\u001B[0m\u001B[0m\n\u001B[0;32m      4\u001B[0m \u001B[1;33m\u001B[0m\u001B[0m\n\u001B[0;32m      5\u001B[0m \u001B[1;31m### EVE ####\u001B[0m\u001B[1;33m\u001B[0m\u001B[1;33m\u001B[0m\u001B[0m\n",
      "\u001B[1;31mNameError\u001B[0m: name 'merged_without_nan' is not defined"
     ]
    }
   ],
   "source": [
    "# Calculate MCC for each gene specific predictor for EVE\n",
    "genes = merged_without_nan[\"gene\"].unique()\n",
    "print(genes)\n",
    "\n",
    "### EVE ####\n",
    "# Build dictionary with gene names as keys.\n",
    "mccs = {gene: 0 for gene in genes}\n",
    "\n",
    "for gene in genes:\n",
    "    gene_df = merged_without_nan[merged_without_nan[\"gene\"] == gene]\n",
    "    # Assuming you have a DataFrame called 'data' with 'prediction' and 'MutPred_score' columns\n",
    "    gene_df['EVE_scores_ASM'] = gene_df['EVE_scores_ASM'].astype(float)\n",
    "    # Create binary predictions based on the 0.5 threshold\n",
    "    gene_df.loc[:, 'binary_prediction_EVE'] = (gene_df['EVE_scores_ASM'] > 0.5).astype(int)\n",
    "\n",
    "    gene_df['predictions'] = gene_df['predictions'].astype(int)\n",
    "\n",
    "    # Calculate MCC\n",
    "    mcc = matthews_corrcoef(gene_df['predictions'], gene_df['binary_prediction_EVE'])\n",
    "\n",
    "    # Get gene name for the use for the dictionary\n",
    "    gene = gene_df['gene'].unique()[0]\n",
    "\n",
    "    # Append mcc to dictionary\n",
    "    mccs[gene] = mcc\n",
    "\n",
    "print(\"MCCs of EVE predictions for each gene:\")\n",
    "for gene in mccs:\n",
    "    print(f\"{gene}: {mccs[gene]}\")"
   ],
   "metadata": {
    "collapsed": false,
    "ExecuteTime": {
     "end_time": "2023-11-23T13:56:32.726392900Z",
     "start_time": "2023-11-23T13:56:32.601061900Z"
    }
   },
   "id": "e534a510288960cb"
  },
  {
   "cell_type": "code",
   "execution_count": null,
   "outputs": [],
   "source": [
    "from sklearn.metrics import roc_auc_score, roc_curve, auc, precision_recall_curve, average_precision_score, f1_score, log_loss, confusion_matrix\n",
    "# store the results in a dictionary\n",
    "results = {gene: 0 for gene in genes}\n",
    "\n",
    "for gene in genes:\n",
    "    gene_df = merged_without_nan[merged_without_nan[\"gene\"] == gene]\n",
    "    gene_df['EVE_scores_ASM'] = gene_df['EVE_scores_ASM'].astype(float)\n",
    "    y_true = gene_df[\"pathogenicity\"].astype(int)\n",
    "    predicted_probabilities = gene_df[\"EVE_scores_ASM\"]\n",
    "    gene_df.loc[:, 'binary_prediction_EVE'] = (gene_df['EVE_scores_ASM'] > 0.5).astype(int)\n",
    "    predicted_labels = gene_df[\"binary_prediction_EVE\"]\n",
    "    \n",
    "    results_gene = {}\n",
    "    # Calculate AUC-ROC\n",
    "    roc_auc = roc_auc_score(y_true, predicted_probabilities)\n",
    "    # append to dictionary\n",
    "    results_gene[\"roc_auc\"] = roc_auc\n",
    "    \n",
    "    # Calculate ROC curve\n",
    "    fpr, tpr, thresholds = roc_curve(y_true, predicted_probabilities)\n",
    "    roc_auc = auc(fpr, tpr)\n",
    "    # append to dictionary\n",
    "    results_gene[\"auc\"] = roc_auc\n",
    "    \n",
    "    # Calculate AUC-PR\n",
    "    precision, recall, _ = precision_recall_curve(y_true, predicted_probabilities)\n",
    "    pr_auc = auc(recall, precision)\n",
    "    # append to dictionary\n",
    "    results_gene[\"pr_auc\"] = pr_auc\n",
    "    \n",
    "    # Calculate F1 Score\n",
    "    f1 = f1_score(y_true, predicted_labels)\n",
    "    # append to dictionary\n",
    "    results_gene[\"f1\"] = f1\n",
    "    \n",
    "    # Calculate Log Loss\n",
    "    logloss = log_loss(y_true, predicted_probabilities)\n",
    "    # append to dictionary\n",
    "    results_gene[\"logloss\"] = logloss\n",
    "    \n",
    "    # Calculate confusion matrix\n",
    "    conf_matrix = confusion_matrix(y_true, predicted_labels)\n",
    "    # append to dictionary\n",
    "    results_gene[\"confusion_matrix\"] = conf_matrix\n",
    "    \n",
    "    # Get gene name for the use for the dictionary\n",
    "    gene = gene_df['gene'].unique()[0]\n",
    "    # Append results to dictionary\n",
    "    results[gene] = results_gene\n",
    "    \n",
    "## Print results\n",
    "print(\"Results of EVE predictions for each gene:\")\n",
    "for gene in results:\n",
    "    print(f\"{gene}: {results[gene]}\")"
   ],
   "metadata": {
    "collapsed": false,
    "ExecuteTime": {
     "start_time": "2023-11-23T13:56:32.663577800Z"
    }
   },
   "id": "f799b7d2cd6a08da"
  },
  {
   "cell_type": "code",
   "execution_count": null,
   "outputs": [],
   "source": [
    "# present the confusion matrix for each gene\n",
    "import matplotlib.pyplot as plt\n",
    "\n",
    "for gene in results:\n",
    "    # Plot confusion matrix\n",
    "    plt.imshow(results[gene][\"confusion_matrix\"], cmap=plt.cm.Blues)\n",
    "    plt.xlabel(\"Predicted labels\")\n",
    "    plt.ylabel(\"True labels\")\n",
    "    plt.xticks([0, 1], [\"Benign\", \"Pathogenic\"])\n",
    "    plt.yticks([0, 1], [\"Benign\", \"Pathogenic\"])\n",
    "    plt.title(f\"Confusion matrix for {gene}, EVE predictions\")\n",
    "    plt.style.use(\"seaborn-white\")\n",
    "    # Add text annotations\n",
    "    for i in range(2):\n",
    "        for j in range(2):\n",
    "            plt.text(j, i, results[gene][\"confusion_matrix\"][i, j], ha=\"center\", va=\"center\", color=\"black\", backgroundcolor=\"white\")\n",
    "    plt.colorbar()\n",
    "    plt.show()"
   ],
   "metadata": {
    "collapsed": false,
    "ExecuteTime": {
     "start_time": "2023-11-23T13:56:32.663577800Z"
    }
   },
   "id": "f079a669b25f338e"
  },
  {
   "cell_type": "code",
   "execution_count": null,
   "outputs": [],
   "source": [
    "# present the ROC curve for each gene\n",
    "for gene in results:\n",
    "    # Plot ROC curve\n",
    "    plt.plot(fpr, tpr, color=\"darkorange\", lw=2, label=f\"ROC curve (area = {results[gene]['roc_auc']:.2f})\")\n",
    "    plt.plot([0, 1], [0, 1], color=\"navy\", lw=2, linestyle=\"--\")\n",
    "    plt.xlim([0.0, 1.0])\n",
    "    plt.ylim([0.0, 1.05])\n",
    "    plt.xlabel(\"False Positive Rate\")\n",
    "    plt.ylabel(\"True Positive Rate\")\n",
    "    plt.title(f\"ROC curve for {gene}, MutPred2 predictions\")\n",
    "    plt.legend(loc=\"lower right\")\n",
    "    plt.show()"
   ],
   "metadata": {
    "collapsed": false,
    "ExecuteTime": {
     "start_time": "2023-11-23T13:56:32.663577800Z"
    }
   },
   "id": "593e79ee559d6f62"
  }
 ],
 "metadata": {
  "kernelspec": {
   "display_name": "Python 3",
   "language": "python",
   "name": "python3"
  },
  "language_info": {
   "codemirror_mode": {
    "name": "ipython",
    "version": 2
   },
   "file_extension": ".py",
   "mimetype": "text/x-python",
   "name": "python",
   "nbconvert_exporter": "python",
   "pygments_lexer": "ipython2",
   "version": "2.7.6"
  }
 },
 "nbformat": 4,
 "nbformat_minor": 5
}
