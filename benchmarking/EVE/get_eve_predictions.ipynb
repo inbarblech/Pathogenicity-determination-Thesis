{
 "cells": [
  {
   "cell_type": "raw",
   "source": [],
   "metadata": {
    "collapsed": false
   },
   "id": "daae3bd731bad53b"
  },
  {
   "cell_type": "code",
   "execution_count": 30,
   "outputs": [],
   "source": [
    "import pandas as pd"
   ],
   "metadata": {
    "collapsed": false,
    "ExecuteTime": {
     "end_time": "2023-11-14T14:22:36.749415300Z",
     "start_time": "2023-11-14T14:22:36.717542500Z"
    }
   },
   "id": "initial_id"
  },
  {
   "cell_type": "code",
   "execution_count": 31,
   "outputs": [
    {
     "data": {
      "text/plain": "     position pathogenicity predictions variant     gene\n0           6             0           0     G6S  SLC26A4\n1          21             0           1    M21V  SLC26A4\n2          51             0           0    A51T  SLC26A4\n3          53             0           1    C53G  SLC26A4\n4         163             0           1   V163I  SLC26A4\n...       ...           ...         ...     ...      ...\n4516     1045             1           1  G1045V   COL4A3\n4517      871             1           1   G871C   COL4A3\n4518      853             1           1   G853R   COL4A3\n4519       25             0           0    P25S   COL4A3\n4520     1209             0           0  M1209I   COL4A3\n\n[4521 rows x 5 columns]",
      "text/html": "<div>\n<style scoped>\n    .dataframe tbody tr th:only-of-type {\n        vertical-align: middle;\n    }\n\n    .dataframe tbody tr th {\n        vertical-align: top;\n    }\n\n    .dataframe thead th {\n        text-align: right;\n    }\n</style>\n<table border=\"1\" class=\"dataframe\">\n  <thead>\n    <tr style=\"text-align: right;\">\n      <th></th>\n      <th>position</th>\n      <th>pathogenicity</th>\n      <th>predictions</th>\n      <th>variant</th>\n      <th>gene</th>\n    </tr>\n  </thead>\n  <tbody>\n    <tr>\n      <th>0</th>\n      <td>6</td>\n      <td>0</td>\n      <td>0</td>\n      <td>G6S</td>\n      <td>SLC26A4</td>\n    </tr>\n    <tr>\n      <th>1</th>\n      <td>21</td>\n      <td>0</td>\n      <td>1</td>\n      <td>M21V</td>\n      <td>SLC26A4</td>\n    </tr>\n    <tr>\n      <th>2</th>\n      <td>51</td>\n      <td>0</td>\n      <td>0</td>\n      <td>A51T</td>\n      <td>SLC26A4</td>\n    </tr>\n    <tr>\n      <th>3</th>\n      <td>53</td>\n      <td>0</td>\n      <td>1</td>\n      <td>C53G</td>\n      <td>SLC26A4</td>\n    </tr>\n    <tr>\n      <th>4</th>\n      <td>163</td>\n      <td>0</td>\n      <td>1</td>\n      <td>V163I</td>\n      <td>SLC26A4</td>\n    </tr>\n    <tr>\n      <th>...</th>\n      <td>...</td>\n      <td>...</td>\n      <td>...</td>\n      <td>...</td>\n      <td>...</td>\n    </tr>\n    <tr>\n      <th>4516</th>\n      <td>1045</td>\n      <td>1</td>\n      <td>1</td>\n      <td>G1045V</td>\n      <td>COL4A3</td>\n    </tr>\n    <tr>\n      <th>4517</th>\n      <td>871</td>\n      <td>1</td>\n      <td>1</td>\n      <td>G871C</td>\n      <td>COL4A3</td>\n    </tr>\n    <tr>\n      <th>4518</th>\n      <td>853</td>\n      <td>1</td>\n      <td>1</td>\n      <td>G853R</td>\n      <td>COL4A3</td>\n    </tr>\n    <tr>\n      <th>4519</th>\n      <td>25</td>\n      <td>0</td>\n      <td>0</td>\n      <td>P25S</td>\n      <td>COL4A3</td>\n    </tr>\n    <tr>\n      <th>4520</th>\n      <td>1209</td>\n      <td>0</td>\n      <td>0</td>\n      <td>M1209I</td>\n      <td>COL4A3</td>\n    </tr>\n  </tbody>\n</table>\n<p>4521 rows × 5 columns</p>\n</div>"
     },
     "execution_count": 31,
     "metadata": {},
     "output_type": "execute_result"
    }
   ],
   "source": [
    "# Combine the prediction files into one file\n",
    "my_prediction = pd.read_csv(\"C:\\\\Users\\\\InbarBlech\\\\PycharmProjects\\\\Thesis\\\\predictions_vs_real\\\\all_inbar_predictions.csv\")\n",
    "my_prediction"
   ],
   "metadata": {
    "collapsed": false,
    "ExecuteTime": {
     "end_time": "2023-11-14T14:22:37.317680300Z",
     "start_time": "2023-11-14T14:22:37.239409500Z"
    }
   },
   "id": "dae07953cecae426"
  },
  {
   "cell_type": "code",
   "execution_count": 32,
   "outputs": [
    {
     "name": "stderr",
     "output_type": "stream",
     "text": [
      "C:\\Users\\InbarBlech\\AppData\\Local\\Temp\\ipykernel_23852\\2533945153.py:1: DtypeWarning: Columns (1,4,5,7,8,9,10,11,23,24,25,27,28,29,30,31,32,33,34,35,36,39,40,41,42) have mixed types. Specify dtype option on import or set low_memory=False.\n",
      "  EVE_predictions = pd.read_csv(\"C:\\\\Users\\\\InbarBlech\\\\PycharmProjects\\\\Thesis\\\\benchmarking\\\\EVE\\\\all_EVE_predictions.csv\")\n"
     ]
    },
    {
     "data": {
      "text/plain": "       wt_aa position mt_aa ClinVar_ClinicalSignificance Gold_Stars  \\\n0          M        1     A                          NaN        NaN   \n1          M        1     C                          NaN        NaN   \n2          M        1     D                          NaN        NaN   \n3          M        1     E                          NaN        NaN   \n4          M        1     F                          NaN        NaN   \n...      ...      ...   ...                          ...        ...   \n190981     A      890     S                          NaN        NaN   \n190982     A      890     T                          NaN        NaN   \n190983     A      890     V                          NaN        NaN   \n190984     A      890     W                          NaN        NaN   \n190985     A      890     Y                          NaN        NaN   \n\n       NumberSubmitters Starred_Coarse_Grained_Clin_Sig frequency_gv2  \\\n0                   NaN                             NaN           NaN   \n1                   NaN                             NaN           NaN   \n2                   NaN                             NaN           NaN   \n3                   NaN                             NaN           NaN   \n4                   NaN                             NaN           NaN   \n...                 ...                             ...           ...   \n190981              NaN                             NaN           NaN   \n190982              NaN                             NaN           NaN   \n190983              NaN                       uncertain      0.000008   \n190984              NaN                             NaN           NaN   \n190985              NaN                             NaN           NaN   \n\n       frequency_gv3 evolutionary_index_ASM  ... b_acmg_model lb_acmg_model  \\\n0                NaN                    NaN  ...        False         False   \n1                NaN                    NaN  ...        False         False   \n2                NaN                    NaN  ...        False         False   \n3                NaN                    NaN  ...        False         False   \n4                NaN                    NaN  ...        False         False   \n...              ...                    ...  ...          ...           ...   \n190981           NaN                    NaN  ...        False         False   \n190982           NaN                    NaN  ...        False         False   \n190983      0.000008                    NaN  ...        False         False   \n190984           NaN                    NaN  ...        False         False   \n190985           NaN                    NaN  ...        False         False   \n\n       lp_acmg_model coarse_clinical_significance_post  \\\n0              False                               NaN   \n1              False                               NaN   \n2              False                               NaN   \n3              False                               NaN   \n4              False                               NaN   \n...              ...                               ...   \n190981         False                               NaN   \n190982         False                               NaN   \n190983         False                         uncertain   \n190984         False                               NaN   \n190985         False                               NaN   \n\n       clinical_significance_post model_disagreement  \\\n0                             NaN              False   \n1                             NaN              False   \n2                             NaN              False   \n3                             NaN              False   \n4                             NaN              False   \n...                           ...                ...   \n190981                        NaN              False   \n190982                        NaN              False   \n190983                  uncertain              False   \n190984                        NaN              False   \n190985                        NaN              False   \n\n       CV_label_and_model_combined_with_other_evidence_disagreement  \\\n0                                                   False             \n1                                                   False             \n2                                                   False             \n3                                                   False             \n4                                                   False             \n...                                                   ...             \n190981                                              False             \n190982                                              False             \n190983                                              False             \n190984                                              False             \n190985                                              False             \n\n       starred_label_and_model_disagreement  \\\n0                                     False   \n1                                     False   \n2                                     False   \n3                                     False   \n4                                     False   \n...                                     ...   \n190981                                False   \n190982                                False   \n190983                                False   \n190984                                False   \n190985                                False   \n\n       starred_label_and_model_combined_with_other_evidence_disagreement  \\\n0                                                   False                  \n1                                                   False                  \n2                                                   False                  \n3                                                   False                  \n4                                                   False                  \n...                                                   ...                  \n190981                                              False                  \n190982                                              False                  \n190983                                              False                  \n190984                                              False                  \n190985                                              False                  \n\n          gene  \n0       COL2A1  \n1       COL2A1  \n2       COL2A1  \n3       COL2A1  \n4       COL2A1  \n...        ...  \n190981    WFS1  \n190982    WFS1  \n190983    WFS1  \n190984    WFS1  \n190985    WFS1  \n\n[190986 rows x 44 columns]",
      "text/html": "<div>\n<style scoped>\n    .dataframe tbody tr th:only-of-type {\n        vertical-align: middle;\n    }\n\n    .dataframe tbody tr th {\n        vertical-align: top;\n    }\n\n    .dataframe thead th {\n        text-align: right;\n    }\n</style>\n<table border=\"1\" class=\"dataframe\">\n  <thead>\n    <tr style=\"text-align: right;\">\n      <th></th>\n      <th>wt_aa</th>\n      <th>position</th>\n      <th>mt_aa</th>\n      <th>ClinVar_ClinicalSignificance</th>\n      <th>Gold_Stars</th>\n      <th>NumberSubmitters</th>\n      <th>Starred_Coarse_Grained_Clin_Sig</th>\n      <th>frequency_gv2</th>\n      <th>frequency_gv3</th>\n      <th>evolutionary_index_ASM</th>\n      <th>...</th>\n      <th>b_acmg_model</th>\n      <th>lb_acmg_model</th>\n      <th>lp_acmg_model</th>\n      <th>coarse_clinical_significance_post</th>\n      <th>clinical_significance_post</th>\n      <th>model_disagreement</th>\n      <th>CV_label_and_model_combined_with_other_evidence_disagreement</th>\n      <th>starred_label_and_model_disagreement</th>\n      <th>starred_label_and_model_combined_with_other_evidence_disagreement</th>\n      <th>gene</th>\n    </tr>\n  </thead>\n  <tbody>\n    <tr>\n      <th>0</th>\n      <td>M</td>\n      <td>1</td>\n      <td>A</td>\n      <td>NaN</td>\n      <td>NaN</td>\n      <td>NaN</td>\n      <td>NaN</td>\n      <td>NaN</td>\n      <td>NaN</td>\n      <td>NaN</td>\n      <td>...</td>\n      <td>False</td>\n      <td>False</td>\n      <td>False</td>\n      <td>NaN</td>\n      <td>NaN</td>\n      <td>False</td>\n      <td>False</td>\n      <td>False</td>\n      <td>False</td>\n      <td>COL2A1</td>\n    </tr>\n    <tr>\n      <th>1</th>\n      <td>M</td>\n      <td>1</td>\n      <td>C</td>\n      <td>NaN</td>\n      <td>NaN</td>\n      <td>NaN</td>\n      <td>NaN</td>\n      <td>NaN</td>\n      <td>NaN</td>\n      <td>NaN</td>\n      <td>...</td>\n      <td>False</td>\n      <td>False</td>\n      <td>False</td>\n      <td>NaN</td>\n      <td>NaN</td>\n      <td>False</td>\n      <td>False</td>\n      <td>False</td>\n      <td>False</td>\n      <td>COL2A1</td>\n    </tr>\n    <tr>\n      <th>2</th>\n      <td>M</td>\n      <td>1</td>\n      <td>D</td>\n      <td>NaN</td>\n      <td>NaN</td>\n      <td>NaN</td>\n      <td>NaN</td>\n      <td>NaN</td>\n      <td>NaN</td>\n      <td>NaN</td>\n      <td>...</td>\n      <td>False</td>\n      <td>False</td>\n      <td>False</td>\n      <td>NaN</td>\n      <td>NaN</td>\n      <td>False</td>\n      <td>False</td>\n      <td>False</td>\n      <td>False</td>\n      <td>COL2A1</td>\n    </tr>\n    <tr>\n      <th>3</th>\n      <td>M</td>\n      <td>1</td>\n      <td>E</td>\n      <td>NaN</td>\n      <td>NaN</td>\n      <td>NaN</td>\n      <td>NaN</td>\n      <td>NaN</td>\n      <td>NaN</td>\n      <td>NaN</td>\n      <td>...</td>\n      <td>False</td>\n      <td>False</td>\n      <td>False</td>\n      <td>NaN</td>\n      <td>NaN</td>\n      <td>False</td>\n      <td>False</td>\n      <td>False</td>\n      <td>False</td>\n      <td>COL2A1</td>\n    </tr>\n    <tr>\n      <th>4</th>\n      <td>M</td>\n      <td>1</td>\n      <td>F</td>\n      <td>NaN</td>\n      <td>NaN</td>\n      <td>NaN</td>\n      <td>NaN</td>\n      <td>NaN</td>\n      <td>NaN</td>\n      <td>NaN</td>\n      <td>...</td>\n      <td>False</td>\n      <td>False</td>\n      <td>False</td>\n      <td>NaN</td>\n      <td>NaN</td>\n      <td>False</td>\n      <td>False</td>\n      <td>False</td>\n      <td>False</td>\n      <td>COL2A1</td>\n    </tr>\n    <tr>\n      <th>...</th>\n      <td>...</td>\n      <td>...</td>\n      <td>...</td>\n      <td>...</td>\n      <td>...</td>\n      <td>...</td>\n      <td>...</td>\n      <td>...</td>\n      <td>...</td>\n      <td>...</td>\n      <td>...</td>\n      <td>...</td>\n      <td>...</td>\n      <td>...</td>\n      <td>...</td>\n      <td>...</td>\n      <td>...</td>\n      <td>...</td>\n      <td>...</td>\n      <td>...</td>\n      <td>...</td>\n    </tr>\n    <tr>\n      <th>190981</th>\n      <td>A</td>\n      <td>890</td>\n      <td>S</td>\n      <td>NaN</td>\n      <td>NaN</td>\n      <td>NaN</td>\n      <td>NaN</td>\n      <td>NaN</td>\n      <td>NaN</td>\n      <td>NaN</td>\n      <td>...</td>\n      <td>False</td>\n      <td>False</td>\n      <td>False</td>\n      <td>NaN</td>\n      <td>NaN</td>\n      <td>False</td>\n      <td>False</td>\n      <td>False</td>\n      <td>False</td>\n      <td>WFS1</td>\n    </tr>\n    <tr>\n      <th>190982</th>\n      <td>A</td>\n      <td>890</td>\n      <td>T</td>\n      <td>NaN</td>\n      <td>NaN</td>\n      <td>NaN</td>\n      <td>NaN</td>\n      <td>NaN</td>\n      <td>NaN</td>\n      <td>NaN</td>\n      <td>...</td>\n      <td>False</td>\n      <td>False</td>\n      <td>False</td>\n      <td>NaN</td>\n      <td>NaN</td>\n      <td>False</td>\n      <td>False</td>\n      <td>False</td>\n      <td>False</td>\n      <td>WFS1</td>\n    </tr>\n    <tr>\n      <th>190983</th>\n      <td>A</td>\n      <td>890</td>\n      <td>V</td>\n      <td>NaN</td>\n      <td>NaN</td>\n      <td>NaN</td>\n      <td>uncertain</td>\n      <td>0.000008</td>\n      <td>0.000008</td>\n      <td>NaN</td>\n      <td>...</td>\n      <td>False</td>\n      <td>False</td>\n      <td>False</td>\n      <td>uncertain</td>\n      <td>uncertain</td>\n      <td>False</td>\n      <td>False</td>\n      <td>False</td>\n      <td>False</td>\n      <td>WFS1</td>\n    </tr>\n    <tr>\n      <th>190984</th>\n      <td>A</td>\n      <td>890</td>\n      <td>W</td>\n      <td>NaN</td>\n      <td>NaN</td>\n      <td>NaN</td>\n      <td>NaN</td>\n      <td>NaN</td>\n      <td>NaN</td>\n      <td>NaN</td>\n      <td>...</td>\n      <td>False</td>\n      <td>False</td>\n      <td>False</td>\n      <td>NaN</td>\n      <td>NaN</td>\n      <td>False</td>\n      <td>False</td>\n      <td>False</td>\n      <td>False</td>\n      <td>WFS1</td>\n    </tr>\n    <tr>\n      <th>190985</th>\n      <td>A</td>\n      <td>890</td>\n      <td>Y</td>\n      <td>NaN</td>\n      <td>NaN</td>\n      <td>NaN</td>\n      <td>NaN</td>\n      <td>NaN</td>\n      <td>NaN</td>\n      <td>NaN</td>\n      <td>...</td>\n      <td>False</td>\n      <td>False</td>\n      <td>False</td>\n      <td>NaN</td>\n      <td>NaN</td>\n      <td>False</td>\n      <td>False</td>\n      <td>False</td>\n      <td>False</td>\n      <td>WFS1</td>\n    </tr>\n  </tbody>\n</table>\n<p>190986 rows × 44 columns</p>\n</div>"
     },
     "execution_count": 32,
     "metadata": {},
     "output_type": "execute_result"
    }
   ],
   "source": [
    "EVE_predictions = pd.read_csv(\"C:\\\\Users\\\\InbarBlech\\\\PycharmProjects\\\\Thesis\\\\benchmarking\\\\EVE\\\\all_EVE_predictions.csv\")\n",
    "EVE_predictions"
   ],
   "metadata": {
    "collapsed": false,
    "ExecuteTime": {
     "end_time": "2023-11-14T14:22:39.350304700Z",
     "start_time": "2023-11-14T14:22:38.353812800Z"
    }
   },
   "id": "9d0bfb88ebdc04d6"
  },
  {
   "cell_type": "code",
   "execution_count": 33,
   "outputs": [],
   "source": [
    "# print all rows with Nan in EVE score\n",
    "EVE_VUS = EVE_predictions[EVE_predictions['EVE_scores_ASM'].isna()]"
   ],
   "metadata": {
    "collapsed": false,
    "ExecuteTime": {
     "end_time": "2023-11-14T14:22:42.440134300Z",
     "start_time": "2023-11-14T14:22:42.330369400Z"
    }
   },
   "id": "d6e172f9fe4db5ea"
  },
  {
   "cell_type": "code",
   "execution_count": 34,
   "outputs": [
    {
     "name": "stderr",
     "output_type": "stream",
     "text": [
      "C:\\Users\\InbarBlech\\AppData\\Local\\Temp\\ipykernel_23852\\2446768170.py:3: SettingWithCopyWarning: \n",
      "A value is trying to be set on a copy of a slice from a DataFrame.\n",
      "Try using .loc[row_indexer,col_indexer] = value instead\n",
      "\n",
      "See the caveats in the documentation: https://pandas.pydata.org/pandas-docs/stable/user_guide/indexing.html#returning-a-view-versus-a-copy\n",
      "  EVE_predictions[\"position\"] = EVE_predictions[\"position\"].astype(str)\n",
      "C:\\Users\\InbarBlech\\AppData\\Local\\Temp\\ipykernel_23852\\2446768170.py:5: SettingWithCopyWarning: \n",
      "A value is trying to be set on a copy of a slice from a DataFrame.\n",
      "Try using .loc[row_indexer,col_indexer] = value instead\n",
      "\n",
      "See the caveats in the documentation: https://pandas.pydata.org/pandas-docs/stable/user_guide/indexing.html#returning-a-view-versus-a-copy\n",
      "  EVE_predictions['variant'] = EVE_predictions['wt_aa'] + EVE_predictions['position'] + EVE_predictions['mt_aa']\n"
     ]
    },
    {
     "data": {
      "text/plain": "       EVE_scores_ASM    gene variant\n0                 NaN  COL2A1     M1A\n1                 NaN  COL2A1     M1C\n2                 NaN  COL2A1     M1D\n3                 NaN  COL2A1     M1E\n4                 NaN  COL2A1     M1F\n...               ...     ...     ...\n190981            NaN    WFS1   A890S\n190982            NaN    WFS1   A890T\n190983            NaN    WFS1   A890V\n190984            NaN    WFS1   A890W\n190985            NaN    WFS1   A890Y\n\n[190986 rows x 3 columns]",
      "text/html": "<div>\n<style scoped>\n    .dataframe tbody tr th:only-of-type {\n        vertical-align: middle;\n    }\n\n    .dataframe tbody tr th {\n        vertical-align: top;\n    }\n\n    .dataframe thead th {\n        text-align: right;\n    }\n</style>\n<table border=\"1\" class=\"dataframe\">\n  <thead>\n    <tr style=\"text-align: right;\">\n      <th></th>\n      <th>EVE_scores_ASM</th>\n      <th>gene</th>\n      <th>variant</th>\n    </tr>\n  </thead>\n  <tbody>\n    <tr>\n      <th>0</th>\n      <td>NaN</td>\n      <td>COL2A1</td>\n      <td>M1A</td>\n    </tr>\n    <tr>\n      <th>1</th>\n      <td>NaN</td>\n      <td>COL2A1</td>\n      <td>M1C</td>\n    </tr>\n    <tr>\n      <th>2</th>\n      <td>NaN</td>\n      <td>COL2A1</td>\n      <td>M1D</td>\n    </tr>\n    <tr>\n      <th>3</th>\n      <td>NaN</td>\n      <td>COL2A1</td>\n      <td>M1E</td>\n    </tr>\n    <tr>\n      <th>4</th>\n      <td>NaN</td>\n      <td>COL2A1</td>\n      <td>M1F</td>\n    </tr>\n    <tr>\n      <th>...</th>\n      <td>...</td>\n      <td>...</td>\n      <td>...</td>\n    </tr>\n    <tr>\n      <th>190981</th>\n      <td>NaN</td>\n      <td>WFS1</td>\n      <td>A890S</td>\n    </tr>\n    <tr>\n      <th>190982</th>\n      <td>NaN</td>\n      <td>WFS1</td>\n      <td>A890T</td>\n    </tr>\n    <tr>\n      <th>190983</th>\n      <td>NaN</td>\n      <td>WFS1</td>\n      <td>A890V</td>\n    </tr>\n    <tr>\n      <th>190984</th>\n      <td>NaN</td>\n      <td>WFS1</td>\n      <td>A890W</td>\n    </tr>\n    <tr>\n      <th>190985</th>\n      <td>NaN</td>\n      <td>WFS1</td>\n      <td>A890Y</td>\n    </tr>\n  </tbody>\n</table>\n<p>190986 rows × 3 columns</p>\n</div>"
     },
     "execution_count": 34,
     "metadata": {},
     "output_type": "execute_result"
    }
   ],
   "source": [
    "# Only leave \"wt_aa\", \"position\" \"mt_aa\" and \"EVE_scores_ASM\" columns\n",
    "EVE_predictions = EVE_predictions[['wt_aa', 'mt_aa', 'position', 'EVE_scores_ASM', 'gene']]\n",
    "EVE_predictions[\"position\"] = EVE_predictions[\"position\"].astype(str)\n",
    "# create new row \"variant\"\n",
    "EVE_predictions['variant'] = EVE_predictions['wt_aa'] + EVE_predictions['position'] + EVE_predictions['mt_aa']\n",
    "EVE_predictions = EVE_predictions.drop(columns=[\"wt_aa\", \"mt_aa\", \"position\"])\n",
    "EVE_predictions"
   ],
   "metadata": {
    "collapsed": false,
    "ExecuteTime": {
     "end_time": "2023-11-14T14:22:42.518766200Z",
     "start_time": "2023-11-14T14:22:42.426608100Z"
    }
   },
   "id": "5689253926906019"
  },
  {
   "cell_type": "code",
   "execution_count": 35,
   "outputs": [
    {
     "data": {
      "text/plain": "       EVE_scores_ASM    gene variant\n2400         0.264386  COL2A1   P121A\n2401          0.41031  COL2A1   P121C\n2402          0.25288  COL2A1   P121D\n2403         0.149652  COL2A1   P121E\n2404         0.394707  COL2A1   P121F\n...               ...     ...     ...\n190921       0.887607    WFS1   L887S\n190922       0.868859    WFS1   L887T\n190923       0.520737    WFS1   L887V\n190924       0.898681    WFS1   L887W\n190925       0.886683    WFS1   L887Y\n\n[170854 rows x 3 columns]",
      "text/html": "<div>\n<style scoped>\n    .dataframe tbody tr th:only-of-type {\n        vertical-align: middle;\n    }\n\n    .dataframe tbody tr th {\n        vertical-align: top;\n    }\n\n    .dataframe thead th {\n        text-align: right;\n    }\n</style>\n<table border=\"1\" class=\"dataframe\">\n  <thead>\n    <tr style=\"text-align: right;\">\n      <th></th>\n      <th>EVE_scores_ASM</th>\n      <th>gene</th>\n      <th>variant</th>\n    </tr>\n  </thead>\n  <tbody>\n    <tr>\n      <th>2400</th>\n      <td>0.264386</td>\n      <td>COL2A1</td>\n      <td>P121A</td>\n    </tr>\n    <tr>\n      <th>2401</th>\n      <td>0.41031</td>\n      <td>COL2A1</td>\n      <td>P121C</td>\n    </tr>\n    <tr>\n      <th>2402</th>\n      <td>0.25288</td>\n      <td>COL2A1</td>\n      <td>P121D</td>\n    </tr>\n    <tr>\n      <th>2403</th>\n      <td>0.149652</td>\n      <td>COL2A1</td>\n      <td>P121E</td>\n    </tr>\n    <tr>\n      <th>2404</th>\n      <td>0.394707</td>\n      <td>COL2A1</td>\n      <td>P121F</td>\n    </tr>\n    <tr>\n      <th>...</th>\n      <td>...</td>\n      <td>...</td>\n      <td>...</td>\n    </tr>\n    <tr>\n      <th>190921</th>\n      <td>0.887607</td>\n      <td>WFS1</td>\n      <td>L887S</td>\n    </tr>\n    <tr>\n      <th>190922</th>\n      <td>0.868859</td>\n      <td>WFS1</td>\n      <td>L887T</td>\n    </tr>\n    <tr>\n      <th>190923</th>\n      <td>0.520737</td>\n      <td>WFS1</td>\n      <td>L887V</td>\n    </tr>\n    <tr>\n      <th>190924</th>\n      <td>0.898681</td>\n      <td>WFS1</td>\n      <td>L887W</td>\n    </tr>\n    <tr>\n      <th>190925</th>\n      <td>0.886683</td>\n      <td>WFS1</td>\n      <td>L887Y</td>\n    </tr>\n  </tbody>\n</table>\n<p>170854 rows × 3 columns</p>\n</div>"
     },
     "execution_count": 35,
     "metadata": {},
     "output_type": "execute_result"
    }
   ],
   "source": [
    "# No need for applying threshold to VUS, since EVE have pre-deleted all VUS.\n",
    "# Just delete all rows with Nan in EVE score\n",
    "EVE_predictions = EVE_predictions[EVE_predictions['EVE_scores_ASM'].notna()]\n",
    "EVE_predictions"
   ],
   "metadata": {
    "collapsed": false,
    "ExecuteTime": {
     "end_time": "2023-11-14T14:22:42.597967600Z",
     "start_time": "2023-11-14T14:22:42.503123800Z"
    }
   },
   "id": "a774dcb20a2c764c"
  },
  {
   "cell_type": "code",
   "execution_count": 36,
   "outputs": [
    {
     "name": "stderr",
     "output_type": "stream",
     "text": [
      "C:\\Users\\InbarBlech\\AppData\\Local\\Temp\\ipykernel_23852\\870951515.py:2: SettingWithCopyWarning: \n",
      "A value is trying to be set on a copy of a slice from a DataFrame.\n",
      "Try using .loc[row_indexer,col_indexer] = value instead\n",
      "\n",
      "See the caveats in the documentation: https://pandas.pydata.org/pandas-docs/stable/user_guide/indexing.html#returning-a-view-versus-a-copy\n",
      "  EVE_predictions['EVE_scores_ASM'] = pd.to_numeric(EVE_predictions['EVE_scores_ASM'], errors='coerce')\n",
      "C:\\Users\\InbarBlech\\AppData\\Local\\Temp\\ipykernel_23852\\870951515.py:4: SettingWithCopyWarning: \n",
      "A value is trying to be set on a copy of a slice from a DataFrame.\n",
      "Try using .loc[row_indexer,col_indexer] = value instead\n",
      "\n",
      "See the caveats in the documentation: https://pandas.pydata.org/pandas-docs/stable/user_guide/indexing.html#returning-a-view-versus-a-copy\n",
      "  EVE_predictions[\"EVE_pathogenicity\"] = EVE_predictions[\"EVE_scores_ASM\"].apply(lambda x: 1 if x >= 0.5 else 0)\n"
     ]
    },
    {
     "data": {
      "text/plain": "        EVE_scores_ASM    gene variant  EVE_pathogenicity\n2400          0.264386  COL2A1   P121A                  0\n2401          0.410310  COL2A1   P121C                  0\n2402          0.252880  COL2A1   P121D                  0\n2403          0.149652  COL2A1   P121E                  0\n2404          0.394707  COL2A1   P121F                  0\n...                ...     ...     ...                ...\n190921        0.887607    WFS1   L887S                  1\n190922        0.868859    WFS1   L887T                  1\n190923        0.520737    WFS1   L887V                  1\n190924        0.898681    WFS1   L887W                  1\n190925        0.886683    WFS1   L887Y                  1\n\n[170854 rows x 4 columns]",
      "text/html": "<div>\n<style scoped>\n    .dataframe tbody tr th:only-of-type {\n        vertical-align: middle;\n    }\n\n    .dataframe tbody tr th {\n        vertical-align: top;\n    }\n\n    .dataframe thead th {\n        text-align: right;\n    }\n</style>\n<table border=\"1\" class=\"dataframe\">\n  <thead>\n    <tr style=\"text-align: right;\">\n      <th></th>\n      <th>EVE_scores_ASM</th>\n      <th>gene</th>\n      <th>variant</th>\n      <th>EVE_pathogenicity</th>\n    </tr>\n  </thead>\n  <tbody>\n    <tr>\n      <th>2400</th>\n      <td>0.264386</td>\n      <td>COL2A1</td>\n      <td>P121A</td>\n      <td>0</td>\n    </tr>\n    <tr>\n      <th>2401</th>\n      <td>0.410310</td>\n      <td>COL2A1</td>\n      <td>P121C</td>\n      <td>0</td>\n    </tr>\n    <tr>\n      <th>2402</th>\n      <td>0.252880</td>\n      <td>COL2A1</td>\n      <td>P121D</td>\n      <td>0</td>\n    </tr>\n    <tr>\n      <th>2403</th>\n      <td>0.149652</td>\n      <td>COL2A1</td>\n      <td>P121E</td>\n      <td>0</td>\n    </tr>\n    <tr>\n      <th>2404</th>\n      <td>0.394707</td>\n      <td>COL2A1</td>\n      <td>P121F</td>\n      <td>0</td>\n    </tr>\n    <tr>\n      <th>...</th>\n      <td>...</td>\n      <td>...</td>\n      <td>...</td>\n      <td>...</td>\n    </tr>\n    <tr>\n      <th>190921</th>\n      <td>0.887607</td>\n      <td>WFS1</td>\n      <td>L887S</td>\n      <td>1</td>\n    </tr>\n    <tr>\n      <th>190922</th>\n      <td>0.868859</td>\n      <td>WFS1</td>\n      <td>L887T</td>\n      <td>1</td>\n    </tr>\n    <tr>\n      <th>190923</th>\n      <td>0.520737</td>\n      <td>WFS1</td>\n      <td>L887V</td>\n      <td>1</td>\n    </tr>\n    <tr>\n      <th>190924</th>\n      <td>0.898681</td>\n      <td>WFS1</td>\n      <td>L887W</td>\n      <td>1</td>\n    </tr>\n    <tr>\n      <th>190925</th>\n      <td>0.886683</td>\n      <td>WFS1</td>\n      <td>L887Y</td>\n      <td>1</td>\n    </tr>\n  </tbody>\n</table>\n<p>170854 rows × 4 columns</p>\n</div>"
     },
     "execution_count": 36,
     "metadata": {},
     "output_type": "execute_result"
    }
   ],
   "source": [
    "# Make EVE_scores_ASM column numeric\n",
    "EVE_predictions['EVE_scores_ASM'] = pd.to_numeric(EVE_predictions['EVE_scores_ASM'], errors='coerce')\n",
    "# Add benign or pathogenic label to each variant, according to the VEST4 score.\n",
    "EVE_predictions[\"EVE_pathogenicity\"] = EVE_predictions[\"EVE_scores_ASM\"].apply(lambda x: 1 if x >= 0.5 else 0)\n",
    "EVE_predictions"
   ],
   "metadata": {
    "collapsed": false,
    "ExecuteTime": {
     "end_time": "2023-11-14T14:22:42.914237700Z",
     "start_time": "2023-11-14T14:22:42.550984800Z"
    }
   },
   "id": "f2a1b6baa95f71e9"
  },
  {
   "cell_type": "code",
   "execution_count": 37,
   "outputs": [
    {
     "name": "stdout",
     "output_type": "stream",
     "text": [
      "Number of pathogenic variants in EVE: 83183\n",
      "Number of benign variants in EVE: 87671\n"
     ]
    }
   ],
   "source": [
    "# print how many pathogenic and benign variants are in the EVE file\n",
    "print(f\"Number of pathogenic variants in EVE: {len(EVE_predictions[EVE_predictions['EVE_pathogenicity'] == 1])}\")\n",
    "print(f\"Number of benign variants in EVE: {len(EVE_predictions[EVE_predictions['EVE_pathogenicity'] == 0])}\")\n"
   ],
   "metadata": {
    "collapsed": false,
    "ExecuteTime": {
     "end_time": "2023-11-14T14:22:42.977842900Z",
     "start_time": "2023-11-14T14:22:42.761048100Z"
    }
   },
   "id": "ec408a732fc6b469"
  },
  {
   "cell_type": "code",
   "execution_count": 38,
   "outputs": [
    {
     "data": {
      "text/plain": "     position pathogenicity predictions variant     gene  EVE_scores_ASM  \\\n0          21             0           1    M21V  SLC26A4        0.043655   \n1          51             0           0    A51T  SLC26A4        0.108282   \n2          53             0           1    C53G  SLC26A4        0.146487   \n3         163             0           1   V163I  SLC26A4        0.058103   \n4         163             1           1   V163I  SLC26A4        0.058103   \n...       ...           ...         ...     ...      ...             ...   \n3931      611             1           1   G611R   COL4A3        0.967035   \n3932     1045             1           1  G1045V   COL4A3        0.968770   \n3933      871             1           1   G871C   COL4A3        0.966157   \n3934      853             1           1   G853R   COL4A3        0.967655   \n3935     1209             0           0  M1209I   COL4A3        0.185568   \n\n      EVE_pathogenicity  \n0                     0  \n1                     0  \n2                     0  \n3                     0  \n4                     0  \n...                 ...  \n3931                  1  \n3932                  1  \n3933                  1  \n3934                  1  \n3935                  0  \n\n[3936 rows x 7 columns]",
      "text/html": "<div>\n<style scoped>\n    .dataframe tbody tr th:only-of-type {\n        vertical-align: middle;\n    }\n\n    .dataframe tbody tr th {\n        vertical-align: top;\n    }\n\n    .dataframe thead th {\n        text-align: right;\n    }\n</style>\n<table border=\"1\" class=\"dataframe\">\n  <thead>\n    <tr style=\"text-align: right;\">\n      <th></th>\n      <th>position</th>\n      <th>pathogenicity</th>\n      <th>predictions</th>\n      <th>variant</th>\n      <th>gene</th>\n      <th>EVE_scores_ASM</th>\n      <th>EVE_pathogenicity</th>\n    </tr>\n  </thead>\n  <tbody>\n    <tr>\n      <th>0</th>\n      <td>21</td>\n      <td>0</td>\n      <td>1</td>\n      <td>M21V</td>\n      <td>SLC26A4</td>\n      <td>0.043655</td>\n      <td>0</td>\n    </tr>\n    <tr>\n      <th>1</th>\n      <td>51</td>\n      <td>0</td>\n      <td>0</td>\n      <td>A51T</td>\n      <td>SLC26A4</td>\n      <td>0.108282</td>\n      <td>0</td>\n    </tr>\n    <tr>\n      <th>2</th>\n      <td>53</td>\n      <td>0</td>\n      <td>1</td>\n      <td>C53G</td>\n      <td>SLC26A4</td>\n      <td>0.146487</td>\n      <td>0</td>\n    </tr>\n    <tr>\n      <th>3</th>\n      <td>163</td>\n      <td>0</td>\n      <td>1</td>\n      <td>V163I</td>\n      <td>SLC26A4</td>\n      <td>0.058103</td>\n      <td>0</td>\n    </tr>\n    <tr>\n      <th>4</th>\n      <td>163</td>\n      <td>1</td>\n      <td>1</td>\n      <td>V163I</td>\n      <td>SLC26A4</td>\n      <td>0.058103</td>\n      <td>0</td>\n    </tr>\n    <tr>\n      <th>...</th>\n      <td>...</td>\n      <td>...</td>\n      <td>...</td>\n      <td>...</td>\n      <td>...</td>\n      <td>...</td>\n      <td>...</td>\n    </tr>\n    <tr>\n      <th>3931</th>\n      <td>611</td>\n      <td>1</td>\n      <td>1</td>\n      <td>G611R</td>\n      <td>COL4A3</td>\n      <td>0.967035</td>\n      <td>1</td>\n    </tr>\n    <tr>\n      <th>3932</th>\n      <td>1045</td>\n      <td>1</td>\n      <td>1</td>\n      <td>G1045V</td>\n      <td>COL4A3</td>\n      <td>0.968770</td>\n      <td>1</td>\n    </tr>\n    <tr>\n      <th>3933</th>\n      <td>871</td>\n      <td>1</td>\n      <td>1</td>\n      <td>G871C</td>\n      <td>COL4A3</td>\n      <td>0.966157</td>\n      <td>1</td>\n    </tr>\n    <tr>\n      <th>3934</th>\n      <td>853</td>\n      <td>1</td>\n      <td>1</td>\n      <td>G853R</td>\n      <td>COL4A3</td>\n      <td>0.967655</td>\n      <td>1</td>\n    </tr>\n    <tr>\n      <th>3935</th>\n      <td>1209</td>\n      <td>0</td>\n      <td>0</td>\n      <td>M1209I</td>\n      <td>COL4A3</td>\n      <td>0.185568</td>\n      <td>0</td>\n    </tr>\n  </tbody>\n</table>\n<p>3936 rows × 7 columns</p>\n</div>"
     },
     "execution_count": 38,
     "metadata": {},
     "output_type": "execute_result"
    }
   ],
   "source": [
    "# Merge the two files\n",
    "merged = pd.merge(my_prediction, EVE_predictions, on=[\"gene\", \"variant\"])\n",
    "merged\n"
   ],
   "metadata": {
    "collapsed": false,
    "ExecuteTime": {
     "end_time": "2023-11-14T14:22:43.143369800Z",
     "start_time": "2023-11-14T14:22:42.849698500Z"
    }
   },
   "id": "dffcacfbb6cf2437"
  },
  {
   "cell_type": "code",
   "execution_count": 41,
   "outputs": [],
   "source": [
    "# To make sure that all tools will be tested on the same variants, save the merged with REVEL file and do so for all other tools. Then merge all the files together.\n",
    "merged_only_EVE_columns = merged[['gene', 'variant', 'EVE_scores_ASM', 'EVE_pathogenicity']]\n",
    "merged.to_csv(\"C:\\\\Users\\\\InbarBlech\\\\PycharmProjects\\\\Thesis\\\\benchmarking\\\\EVE_on_dvd_data_predictions.csv\")"
   ],
   "metadata": {
    "collapsed": false,
    "ExecuteTime": {
     "end_time": "2023-11-14T14:23:03.898740600Z",
     "start_time": "2023-11-14T14:23:03.801279100Z"
    }
   },
   "id": "83c682b0aac2f9ed"
  },
  {
   "cell_type": "code",
   "execution_count": 42,
   "outputs": [
    {
     "name": "stdout",
     "output_type": "stream",
     "text": [
      "length of merged 3936\n",
      "length of my_prediction 4521\n",
      "length of EVE 170854\n"
     ]
    }
   ],
   "source": [
    "print(f\"length of merged {len(merged)}\")\n",
    "print(f\"length of my_prediction {len(my_prediction)}\")\n",
    "print(f\"length of EVE {len(EVE_predictions)}\")"
   ],
   "metadata": {
    "collapsed": false,
    "ExecuteTime": {
     "end_time": "2023-11-14T14:23:07.432580100Z",
     "start_time": "2023-11-14T14:23:07.390634400Z"
    }
   },
   "id": "132eb6a57eb26b7a"
  },
  {
   "cell_type": "code",
   "execution_count": null,
   "outputs": [],
   "source": [
    "#############################################################################################################\n",
    "# All next rows were used to calculate the MCC, before realised I must apply first the threshold and remove the VUS variants. Now all these rows aren't in use, since I'm doing the calculations after removing the VUS variants and with all tools together.\n",
    "#############################################################################################################"
   ],
   "metadata": {
    "collapsed": false
   },
   "id": "4db6be964fff455a"
  },
  {
   "cell_type": "code",
   "execution_count": null,
   "outputs": [],
   "source": [
    "## Calculate the MCC for the mutpred predictions, according to the real pathogenicity (0 or 1)\n",
    "from sklearn.metrics import matthews_corrcoef"
   ],
   "metadata": {
    "collapsed": false,
    "ExecuteTime": {
     "start_time": "2023-11-14T14:16:42.938267300Z"
    }
   },
   "id": "57a3d8604bb08730"
  },
  {
   "cell_type": "code",
   "execution_count": null,
   "outputs": [],
   "source": [
    "# separate the merged dataframe according to gene\n",
    "genes = merged[\"gene\"].unique()\n",
    "print(f\"Number of genes: {len(genes)}\")"
   ],
   "metadata": {
    "collapsed": false,
    "ExecuteTime": {
     "start_time": "2023-11-14T14:16:42.953902800Z"
    }
   },
   "id": "82b8979a837034b9"
  },
  {
   "cell_type": "code",
   "execution_count": null,
   "outputs": [],
   "source": [
    "# Calculate MCC for each gene specific predictor for EVE\n",
    "genes = merged_without_nan[\"gene\"].unique()\n",
    "print(genes)\n",
    "\n",
    "### EVE ####\n",
    "# Build dictionary with gene names as keys.\n",
    "mccs = {gene: 0 for gene in genes}\n",
    "\n",
    "for gene in genes:\n",
    "    gene_df = merged_without_nan[merged_without_nan[\"gene\"] == gene]\n",
    "    # Assuming you have a DataFrame called 'data' with 'prediction' and 'MutPred_score' columns\n",
    "    gene_df['EVE_scores_ASM'] = gene_df['EVE_scores_ASM'].astype(float)\n",
    "    # Create binary predictions based on the 0.5 threshold\n",
    "    gene_df.loc[:, 'binary_prediction_EVE'] = (gene_df['EVE_scores_ASM'] > 0.5).astype(int)\n",
    "\n",
    "    gene_df['predictions'] = gene_df['predictions'].astype(int)\n",
    "\n",
    "    # Calculate MCC\n",
    "    mcc = matthews_corrcoef(gene_df['predictions'], gene_df['binary_prediction_EVE'])\n",
    "\n",
    "    # Get gene name for the use for the dictionary\n",
    "    gene = gene_df['gene'].unique()[0]\n",
    "\n",
    "    # Append mcc to dictionary\n",
    "    mccs[gene] = mcc\n",
    "\n",
    "print(\"MCCs of EVE predictions for each gene:\")\n",
    "for gene in mccs:\n",
    "    print(f\"{gene}: {mccs[gene]}\")"
   ],
   "metadata": {
    "collapsed": false,
    "ExecuteTime": {
     "start_time": "2023-11-14T14:16:42.953902800Z"
    }
   },
   "id": "e534a510288960cb"
  },
  {
   "cell_type": "code",
   "execution_count": null,
   "outputs": [],
   "source": [
    "from sklearn.metrics import roc_auc_score, roc_curve, auc, precision_recall_curve, average_precision_score, f1_score, log_loss, confusion_matrix\n",
    "# store the results in a dictionary\n",
    "results = {gene: 0 for gene in genes}\n",
    "\n",
    "for gene in genes:\n",
    "    gene_df = merged_without_nan[merged_without_nan[\"gene\"] == gene]\n",
    "    gene_df['EVE_scores_ASM'] = gene_df['EVE_scores_ASM'].astype(float)\n",
    "    y_true = gene_df[\"pathogenicity\"].astype(int)\n",
    "    predicted_probabilities = gene_df[\"EVE_scores_ASM\"]\n",
    "    gene_df.loc[:, 'binary_prediction_EVE'] = (gene_df['EVE_scores_ASM'] > 0.5).astype(int)\n",
    "    predicted_labels = gene_df[\"binary_prediction_EVE\"]\n",
    "    \n",
    "    results_gene = {}\n",
    "    # Calculate AUC-ROC\n",
    "    roc_auc = roc_auc_score(y_true, predicted_probabilities)\n",
    "    # append to dictionary\n",
    "    results_gene[\"roc_auc\"] = roc_auc\n",
    "    \n",
    "    # Calculate ROC curve\n",
    "    fpr, tpr, thresholds = roc_curve(y_true, predicted_probabilities)\n",
    "    roc_auc = auc(fpr, tpr)\n",
    "    # append to dictionary\n",
    "    results_gene[\"auc\"] = roc_auc\n",
    "    \n",
    "    # Calculate AUC-PR\n",
    "    precision, recall, _ = precision_recall_curve(y_true, predicted_probabilities)\n",
    "    pr_auc = auc(recall, precision)\n",
    "    # append to dictionary\n",
    "    results_gene[\"pr_auc\"] = pr_auc\n",
    "    \n",
    "    # Calculate F1 Score\n",
    "    f1 = f1_score(y_true, predicted_labels)\n",
    "    # append to dictionary\n",
    "    results_gene[\"f1\"] = f1\n",
    "    \n",
    "    # Calculate Log Loss\n",
    "    logloss = log_loss(y_true, predicted_probabilities)\n",
    "    # append to dictionary\n",
    "    results_gene[\"logloss\"] = logloss\n",
    "    \n",
    "    # Calculate confusion matrix\n",
    "    conf_matrix = confusion_matrix(y_true, predicted_labels)\n",
    "    # append to dictionary\n",
    "    results_gene[\"confusion_matrix\"] = conf_matrix\n",
    "    \n",
    "    # Get gene name for the use for the dictionary\n",
    "    gene = gene_df['gene'].unique()[0]\n",
    "    # Append results to dictionary\n",
    "    results[gene] = results_gene\n",
    "    \n",
    "## Print results\n",
    "print(\"Results of EVE predictions for each gene:\")\n",
    "for gene in results:\n",
    "    print(f\"{gene}: {results[gene]}\")"
   ],
   "metadata": {
    "collapsed": false,
    "ExecuteTime": {
     "start_time": "2023-11-14T14:16:42.953902800Z"
    }
   },
   "id": "f799b7d2cd6a08da"
  },
  {
   "cell_type": "code",
   "execution_count": null,
   "outputs": [],
   "source": [
    "# present the confusion matrix for each gene\n",
    "import matplotlib.pyplot as plt\n",
    "\n",
    "for gene in results:\n",
    "    # Plot confusion matrix\n",
    "    plt.imshow(results[gene][\"confusion_matrix\"], cmap=plt.cm.Blues)\n",
    "    plt.xlabel(\"Predicted labels\")\n",
    "    plt.ylabel(\"True labels\")\n",
    "    plt.xticks([0, 1], [\"Benign\", \"Pathogenic\"])\n",
    "    plt.yticks([0, 1], [\"Benign\", \"Pathogenic\"])\n",
    "    plt.title(f\"Confusion matrix for {gene}, EVE predictions\")\n",
    "    plt.style.use(\"seaborn-white\")\n",
    "    # Add text annotations\n",
    "    for i in range(2):\n",
    "        for j in range(2):\n",
    "            plt.text(j, i, results[gene][\"confusion_matrix\"][i, j], ha=\"center\", va=\"center\", color=\"black\", backgroundcolor=\"white\")\n",
    "    plt.colorbar()\n",
    "    plt.show()"
   ],
   "metadata": {
    "collapsed": false,
    "ExecuteTime": {
     "start_time": "2023-11-14T14:16:42.953902800Z"
    }
   },
   "id": "f079a669b25f338e"
  },
  {
   "cell_type": "code",
   "execution_count": null,
   "outputs": [],
   "source": [
    "# present the ROC curve for each gene\n",
    "for gene in results:\n",
    "    # Plot ROC curve\n",
    "    plt.plot(fpr, tpr, color=\"darkorange\", lw=2, label=f\"ROC curve (area = {results[gene]['roc_auc']:.2f})\")\n",
    "    plt.plot([0, 1], [0, 1], color=\"navy\", lw=2, linestyle=\"--\")\n",
    "    plt.xlim([0.0, 1.0])\n",
    "    plt.ylim([0.0, 1.05])\n",
    "    plt.xlabel(\"False Positive Rate\")\n",
    "    plt.ylabel(\"True Positive Rate\")\n",
    "    plt.title(f\"ROC curve for {gene}, MutPred2 predictions\")\n",
    "    plt.legend(loc=\"lower right\")\n",
    "    plt.show()"
   ],
   "metadata": {
    "collapsed": false,
    "ExecuteTime": {
     "start_time": "2023-11-14T14:16:42.953902800Z"
    }
   },
   "id": "593e79ee559d6f62"
  }
 ],
 "metadata": {
  "kernelspec": {
   "display_name": "Python 3",
   "language": "python",
   "name": "python3"
  },
  "language_info": {
   "codemirror_mode": {
    "name": "ipython",
    "version": 2
   },
   "file_extension": ".py",
   "mimetype": "text/x-python",
   "name": "python",
   "nbconvert_exporter": "python",
   "pygments_lexer": "ipython2",
   "version": "2.7.6"
  }
 },
 "nbformat": 4,
 "nbformat_minor": 5
}
