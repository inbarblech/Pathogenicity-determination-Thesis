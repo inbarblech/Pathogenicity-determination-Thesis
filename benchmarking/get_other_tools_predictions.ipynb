{
 "cells": [
  {
   "cell_type": "raw",
   "source": [],
   "metadata": {
    "collapsed": false
   },
   "id": "daae3bd731bad53b"
  },
  {
   "cell_type": "code",
   "execution_count": 501,
   "outputs": [],
   "source": [
    "import numpy as np\n",
    "import pandas as pd"
   ],
   "metadata": {
    "collapsed": false,
    "ExecuteTime": {
     "end_time": "2023-11-09T13:19:09.462427400Z",
     "start_time": "2023-11-09T13:19:05.882137300Z"
    }
   },
   "id": "initial_id"
  },
  {
   "cell_type": "code",
   "execution_count": 502,
   "outputs": [],
   "source": [
    "# Load MutPred2 predictions\n",
    "mutpred_predictions = pd.read_csv(\"C:\\\\Users\\\\InbarBlech\\\\PycharmProjects\\\\Thesis\\\\MutPred2\\\\all_predictions.csv\", header=None)\n",
    "mutpred_predictions"
   ],
   "metadata": {
    "collapsed": false,
    "ExecuteTime": {
     "end_time": "2023-11-09T13:19:07.748274700Z",
     "start_time": "2023-11-09T13:19:05.893723300Z"
    }
   },
   "id": "e4e064fbe990a564"
  },
  {
   "cell_type": "code",
   "execution_count": 503,
   "outputs": [],
   "source": [
    "# add headers\n",
    "column_names = [\"gene\", \"variant\", \"MutPred_score\", \"explain\", \"MutPred_pred\", \"nothing\"]\n",
    "mutpred_predictions.columns = column_names\n",
    "mutpred_predictions = mutpred_predictions.drop(columns=[\"nothing\", \"explain\", \"MutPred_pred\"])\n",
    "mutpred_predictions"
   ],
   "metadata": {
    "collapsed": false,
    "ExecuteTime": {
     "end_time": "2023-11-09T13:19:07.748274700Z",
     "start_time": "2023-11-09T13:19:05.913712200Z"
    }
   },
   "id": "8f65ffba8041fea6"
  },
  {
   "cell_type": "code",
   "execution_count": 504,
   "outputs": [
    {
     "data": {
      "text/plain": "       chr  pos_hg19 pos_grch38 ref_na alt_na aa_wt aa_mut revel_score  \\\n0       12  48398104   48004321      T      G     M      L       0.562   \n1       12  48398104   48004321      T      C     M      V       0.585   \n2       12  48398104   48004321      T      A     M      L        0.57   \n3       12  48398103   48004320      A      T     M      K       0.676   \n4       12  48398103   48004320      A      G     M      T       0.691   \n...     ..       ...        ...    ...    ...   ...    ...         ...   \n112508   4   6304190    6302463      G      C     A      P       0.352   \n112509   4   6304190    6302463      G      T     A      S       0.224   \n112510   4   6304191    6302464      C      A     A      D       0.435   \n112511   4   6304191    6302464      C      G     A      G       0.159   \n112512   4   6304191    6302464      C      T     A      V       0.187   \n\n                                          transcript_id aa_pos    gene  \n0       ENST00000380518;ENST00000395281;ENST00000337299      1  COL2A1  \n1       ENST00000380518;ENST00000395281;ENST00000337299      1  COL2A1  \n2       ENST00000380518;ENST00000395281;ENST00000337299      1  COL2A1  \n3       ENST00000380518;ENST00000395281;ENST00000337299      1  COL2A1  \n4       ENST00000380518;ENST00000395281;ENST00000337299      1  COL2A1  \n...                                                 ...    ...     ...  \n112508  ENST00000503569;ENST00000226760;ENST00000540337    890    WFS1  \n112509  ENST00000503569;ENST00000226760;ENST00000540337    890    WFS1  \n112510  ENST00000503569;ENST00000226760;ENST00000540337    890    WFS1  \n112511  ENST00000503569;ENST00000226760;ENST00000540337    890    WFS1  \n112512  ENST00000503569;ENST00000226760;ENST00000540337    890    WFS1  \n\n[112513 rows x 11 columns]",
      "text/html": "<div>\n<style scoped>\n    .dataframe tbody tr th:only-of-type {\n        vertical-align: middle;\n    }\n\n    .dataframe tbody tr th {\n        vertical-align: top;\n    }\n\n    .dataframe thead th {\n        text-align: right;\n    }\n</style>\n<table border=\"1\" class=\"dataframe\">\n  <thead>\n    <tr style=\"text-align: right;\">\n      <th></th>\n      <th>chr</th>\n      <th>pos_hg19</th>\n      <th>pos_grch38</th>\n      <th>ref_na</th>\n      <th>alt_na</th>\n      <th>aa_wt</th>\n      <th>aa_mut</th>\n      <th>revel_score</th>\n      <th>transcript_id</th>\n      <th>aa_pos</th>\n      <th>gene</th>\n    </tr>\n  </thead>\n  <tbody>\n    <tr>\n      <th>0</th>\n      <td>12</td>\n      <td>48398104</td>\n      <td>48004321</td>\n      <td>T</td>\n      <td>G</td>\n      <td>M</td>\n      <td>L</td>\n      <td>0.562</td>\n      <td>ENST00000380518;ENST00000395281;ENST00000337299</td>\n      <td>1</td>\n      <td>COL2A1</td>\n    </tr>\n    <tr>\n      <th>1</th>\n      <td>12</td>\n      <td>48398104</td>\n      <td>48004321</td>\n      <td>T</td>\n      <td>C</td>\n      <td>M</td>\n      <td>V</td>\n      <td>0.585</td>\n      <td>ENST00000380518;ENST00000395281;ENST00000337299</td>\n      <td>1</td>\n      <td>COL2A1</td>\n    </tr>\n    <tr>\n      <th>2</th>\n      <td>12</td>\n      <td>48398104</td>\n      <td>48004321</td>\n      <td>T</td>\n      <td>A</td>\n      <td>M</td>\n      <td>L</td>\n      <td>0.57</td>\n      <td>ENST00000380518;ENST00000395281;ENST00000337299</td>\n      <td>1</td>\n      <td>COL2A1</td>\n    </tr>\n    <tr>\n      <th>3</th>\n      <td>12</td>\n      <td>48398103</td>\n      <td>48004320</td>\n      <td>A</td>\n      <td>T</td>\n      <td>M</td>\n      <td>K</td>\n      <td>0.676</td>\n      <td>ENST00000380518;ENST00000395281;ENST00000337299</td>\n      <td>1</td>\n      <td>COL2A1</td>\n    </tr>\n    <tr>\n      <th>4</th>\n      <td>12</td>\n      <td>48398103</td>\n      <td>48004320</td>\n      <td>A</td>\n      <td>G</td>\n      <td>M</td>\n      <td>T</td>\n      <td>0.691</td>\n      <td>ENST00000380518;ENST00000395281;ENST00000337299</td>\n      <td>1</td>\n      <td>COL2A1</td>\n    </tr>\n    <tr>\n      <th>...</th>\n      <td>...</td>\n      <td>...</td>\n      <td>...</td>\n      <td>...</td>\n      <td>...</td>\n      <td>...</td>\n      <td>...</td>\n      <td>...</td>\n      <td>...</td>\n      <td>...</td>\n      <td>...</td>\n    </tr>\n    <tr>\n      <th>112508</th>\n      <td>4</td>\n      <td>6304190</td>\n      <td>6302463</td>\n      <td>G</td>\n      <td>C</td>\n      <td>A</td>\n      <td>P</td>\n      <td>0.352</td>\n      <td>ENST00000503569;ENST00000226760;ENST00000540337</td>\n      <td>890</td>\n      <td>WFS1</td>\n    </tr>\n    <tr>\n      <th>112509</th>\n      <td>4</td>\n      <td>6304190</td>\n      <td>6302463</td>\n      <td>G</td>\n      <td>T</td>\n      <td>A</td>\n      <td>S</td>\n      <td>0.224</td>\n      <td>ENST00000503569;ENST00000226760;ENST00000540337</td>\n      <td>890</td>\n      <td>WFS1</td>\n    </tr>\n    <tr>\n      <th>112510</th>\n      <td>4</td>\n      <td>6304191</td>\n      <td>6302464</td>\n      <td>C</td>\n      <td>A</td>\n      <td>A</td>\n      <td>D</td>\n      <td>0.435</td>\n      <td>ENST00000503569;ENST00000226760;ENST00000540337</td>\n      <td>890</td>\n      <td>WFS1</td>\n    </tr>\n    <tr>\n      <th>112511</th>\n      <td>4</td>\n      <td>6304191</td>\n      <td>6302464</td>\n      <td>C</td>\n      <td>G</td>\n      <td>A</td>\n      <td>G</td>\n      <td>0.159</td>\n      <td>ENST00000503569;ENST00000226760;ENST00000540337</td>\n      <td>890</td>\n      <td>WFS1</td>\n    </tr>\n    <tr>\n      <th>112512</th>\n      <td>4</td>\n      <td>6304191</td>\n      <td>6302464</td>\n      <td>C</td>\n      <td>T</td>\n      <td>A</td>\n      <td>V</td>\n      <td>0.187</td>\n      <td>ENST00000503569;ENST00000226760;ENST00000540337</td>\n      <td>890</td>\n      <td>WFS1</td>\n    </tr>\n  </tbody>\n</table>\n<p>112513 rows × 11 columns</p>\n</div>"
     },
     "execution_count": 504,
     "metadata": {},
     "output_type": "execute_result"
    }
   ],
   "source": [
    "# Delete the _HUMAN from the gene name\n",
    "mutpred_predictions[\"gene\"] = mutpred_predictions[\"gene\"].str.replace(\"_HUMAN\", \"\")\n",
    "print(len(mutpred_predictions))"
   ],
   "metadata": {
    "collapsed": false,
    "ExecuteTime": {
     "end_time": "2023-11-09T13:19:07.756045500Z",
     "start_time": "2023-11-09T13:19:05.924505900Z"
    }
   },
   "id": "6b56c8003e2b6347"
  },
  {
   "cell_type": "code",
   "execution_count": 505,
   "outputs": [
    {
     "name": "stderr",
     "output_type": "stream",
     "text": [
      "C:\\Users\\InbarBlech\\AppData\\Local\\Temp\\ipykernel_11864\\1654159982.py:3: SettingWithCopyWarning: \n",
      "A value is trying to be set on a copy of a slice from a DataFrame.\n",
      "Try using .loc[row_indexer,col_indexer] = value instead\n",
      "\n",
      "See the caveats in the documentation: https://pandas.pydata.org/pandas-docs/stable/user_guide/indexing.html#returning-a-view-versus-a-copy\n",
      "  REVEL_predictions[\"aa_pos\"] = REVEL_predictions[\"aa_pos\"].astype(str)\n",
      "C:\\Users\\InbarBlech\\AppData\\Local\\Temp\\ipykernel_11864\\1654159982.py:5: SettingWithCopyWarning: \n",
      "A value is trying to be set on a copy of a slice from a DataFrame.\n",
      "Try using .loc[row_indexer,col_indexer] = value instead\n",
      "\n",
      "See the caveats in the documentation: https://pandas.pydata.org/pandas-docs/stable/user_guide/indexing.html#returning-a-view-versus-a-copy\n",
      "  REVEL_predictions['variant'] = REVEL_predictions['aa_wt'] + REVEL_predictions['aa_pos'] + REVEL_predictions['aa_mut']\n"
     ]
    },
    {
     "data": {
      "text/plain": "       revel_score    gene variant\n0            0.562  COL2A1     M1L\n1            0.585  COL2A1     M1V\n2             0.57  COL2A1     M1L\n3            0.676  COL2A1     M1K\n4            0.691  COL2A1     M1T\n...            ...     ...     ...\n112508       0.352    WFS1   A890P\n112509       0.224    WFS1   A890S\n112510       0.435    WFS1   A890D\n112511       0.159    WFS1   A890G\n112512       0.187    WFS1   A890V\n\n[112513 rows x 3 columns]",
      "text/html": "<div>\n<style scoped>\n    .dataframe tbody tr th:only-of-type {\n        vertical-align: middle;\n    }\n\n    .dataframe tbody tr th {\n        vertical-align: top;\n    }\n\n    .dataframe thead th {\n        text-align: right;\n    }\n</style>\n<table border=\"1\" class=\"dataframe\">\n  <thead>\n    <tr style=\"text-align: right;\">\n      <th></th>\n      <th>revel_score</th>\n      <th>gene</th>\n      <th>variant</th>\n    </tr>\n  </thead>\n  <tbody>\n    <tr>\n      <th>0</th>\n      <td>0.562</td>\n      <td>COL2A1</td>\n      <td>M1L</td>\n    </tr>\n    <tr>\n      <th>1</th>\n      <td>0.585</td>\n      <td>COL2A1</td>\n      <td>M1V</td>\n    </tr>\n    <tr>\n      <th>2</th>\n      <td>0.57</td>\n      <td>COL2A1</td>\n      <td>M1L</td>\n    </tr>\n    <tr>\n      <th>3</th>\n      <td>0.676</td>\n      <td>COL2A1</td>\n      <td>M1K</td>\n    </tr>\n    <tr>\n      <th>4</th>\n      <td>0.691</td>\n      <td>COL2A1</td>\n      <td>M1T</td>\n    </tr>\n    <tr>\n      <th>...</th>\n      <td>...</td>\n      <td>...</td>\n      <td>...</td>\n    </tr>\n    <tr>\n      <th>112508</th>\n      <td>0.352</td>\n      <td>WFS1</td>\n      <td>A890P</td>\n    </tr>\n    <tr>\n      <th>112509</th>\n      <td>0.224</td>\n      <td>WFS1</td>\n      <td>A890S</td>\n    </tr>\n    <tr>\n      <th>112510</th>\n      <td>0.435</td>\n      <td>WFS1</td>\n      <td>A890D</td>\n    </tr>\n    <tr>\n      <th>112511</th>\n      <td>0.159</td>\n      <td>WFS1</td>\n      <td>A890G</td>\n    </tr>\n    <tr>\n      <th>112512</th>\n      <td>0.187</td>\n      <td>WFS1</td>\n      <td>A890V</td>\n    </tr>\n  </tbody>\n</table>\n<p>112513 rows × 3 columns</p>\n</div>"
     },
     "execution_count": 505,
     "metadata": {},
     "output_type": "execute_result"
    }
   ],
   "source": [
    "\n",
    "# remove duplicates\n",
    "mutpred_predictions = mutpred_predictions.drop_duplicates(subset=[\"gene\", \"variant\"], keep=\"first\")\n",
    "print(len(mutpred_predictions))"
   ],
   "metadata": {
    "collapsed": false,
    "ExecuteTime": {
     "end_time": "2023-11-09T13:19:07.756045500Z",
     "start_time": "2023-11-09T13:19:06.195961500Z"
    }
   },
   "id": "9b509039f1bbc192"
  },
  {
   "cell_type": "code",
   "execution_count": 506,
   "outputs": [],
   "source": [
    "# Load VEST4 predictions\n",
    "VEST4_predictions = pd.read_csv(\"C:\\\\Users\\\\InbarBlech\\\\PycharmProjects\\\\Thesis\\\\VEST4\\\\all_vest4_predictions.csv\")\n",
    "VEST4_predictions = VEST4_predictions.drop(columns=[\"S.O. transcript\", \"Amino acid position\"])\n",
    "\n",
    "# rename columns\n",
    "# Change name of column \"HUGO symbol\" to \"gene\"\n",
    "VEST4_predictions = VEST4_predictions.rename(columns={\"HUGO symbol\": \"gene\"})\n",
    "# Change name of column \"Protein sequence change\" to \"variant\"\n",
    "VEST4_predictions = VEST4_predictions.rename(columns={\"Protein sequence change\": \"variant\"})\n",
    "# Change name of column \"VEST4 score (missense)\" to \"VEST4_score\"\n",
    "VEST4_predictions = VEST4_predictions.rename(columns={\"VEST score (missense)\": \"VEST_score\"})\n",
    "VEST4_predictions"
   ],
   "metadata": {
    "collapsed": false,
    "ExecuteTime": {
     "end_time": "2023-11-09T13:19:07.762219Z",
     "start_time": "2023-11-09T13:19:06.263780Z"
    }
   },
   "id": "2090e79b1563de0e"
  },
  {
   "cell_type": "code",
   "execution_count": 507,
   "outputs": [],
   "source": [
    "# Combine the prediction files into one file\n",
    "my_prediction = pd.read_csv(\"C:\\\\Users\\\\InbarBlech\\\\PycharmProjects\\\\Thesis\\\\predictions_vs_real\\\\all_inbar_predictions.csv\")\n",
    "my_prediction\n",
    "\n"
   ],
   "metadata": {
    "collapsed": false,
    "ExecuteTime": {
     "end_time": "2023-11-09T13:19:07.762219Z",
     "start_time": "2023-11-09T13:19:06.279510700Z"
    }
   },
   "id": "dae07953cecae426"
  },
  {
   "cell_type": "code",
   "execution_count": 508,
   "outputs": [],
   "source": [
    "# Merge the two files\n",
    "merged = pd.merge(my_prediction, mutpred_predictions, on=[\"gene\", \"variant\"])\n",
    "merged = pd.merge(merged, VEST4_predictions, on=[\"gene\", \"variant\"])\n",
    "merged"
   ],
   "metadata": {
    "collapsed": false,
    "ExecuteTime": {
     "end_time": "2023-11-09T13:19:07.762219Z",
     "start_time": "2023-11-09T13:19:06.292456700Z"
    }
   },
   "id": "597cd0127678a0fa"
  },
  {
   "cell_type": "code",
   "execution_count": 509,
   "outputs": [],
   "source": [
    "print(f\"length of merged {len(merged)}\")\n",
    "print(f\"length of my_prediction {len(my_prediction)}\")\n",
    "print(f\"length of mutpred {len(mutpred_predictions)}\")"
   ],
   "metadata": {
    "collapsed": false,
    "ExecuteTime": {
     "end_time": "2023-11-09T13:19:07.762219Z",
     "start_time": "2023-11-09T13:19:06.312079600Z"
    }
   },
   "id": "132eb6a57eb26b7a"
  },
  {
   "cell_type": "code",
   "execution_count": 510,
   "outputs": [],
   "source": [
    "# # Save the merged file to csv\n",
    "# merged.to_csv(\"C:\\\\Users\\\\InbarBlech\\\\PycharmProjects\\\\Thesis\\\\predictions_vs_real\\\\merged_my_prediction_and_mutpred.csv\", index=False)"
   ],
   "metadata": {
    "collapsed": false,
    "ExecuteTime": {
     "end_time": "2023-11-09T13:19:07.762219Z",
     "start_time": "2023-11-09T13:19:06.323828900Z"
    }
   },
   "id": "bba96a0938e5adc7"
  },
  {
   "cell_type": "code",
   "execution_count": 511,
   "outputs": [
    {
     "data": {
      "text/plain": "     position pathogenicity predictions variant     gene\n0           6             0           0     G6S  SLC26A4\n1          21             0           1    M21V  SLC26A4\n2          51             0           0    A51T  SLC26A4\n3          53             0           1    C53G  SLC26A4\n4         163             0           1   V163I  SLC26A4\n...       ...           ...         ...     ...      ...\n4516     1045             1           1  G1045V   COL4A3\n4517      871             1           1   G871C   COL4A3\n4518      853             1           1   G853R   COL4A3\n4519       25             0           0    P25S   COL4A3\n4520     1209             0           0  M1209I   COL4A3\n\n[4521 rows x 5 columns]",
      "text/html": "<div>\n<style scoped>\n    .dataframe tbody tr th:only-of-type {\n        vertical-align: middle;\n    }\n\n    .dataframe tbody tr th {\n        vertical-align: top;\n    }\n\n    .dataframe thead th {\n        text-align: right;\n    }\n</style>\n<table border=\"1\" class=\"dataframe\">\n  <thead>\n    <tr style=\"text-align: right;\">\n      <th></th>\n      <th>position</th>\n      <th>pathogenicity</th>\n      <th>predictions</th>\n      <th>variant</th>\n      <th>gene</th>\n    </tr>\n  </thead>\n  <tbody>\n    <tr>\n      <th>0</th>\n      <td>6</td>\n      <td>0</td>\n      <td>0</td>\n      <td>G6S</td>\n      <td>SLC26A4</td>\n    </tr>\n    <tr>\n      <th>1</th>\n      <td>21</td>\n      <td>0</td>\n      <td>1</td>\n      <td>M21V</td>\n      <td>SLC26A4</td>\n    </tr>\n    <tr>\n      <th>2</th>\n      <td>51</td>\n      <td>0</td>\n      <td>0</td>\n      <td>A51T</td>\n      <td>SLC26A4</td>\n    </tr>\n    <tr>\n      <th>3</th>\n      <td>53</td>\n      <td>0</td>\n      <td>1</td>\n      <td>C53G</td>\n      <td>SLC26A4</td>\n    </tr>\n    <tr>\n      <th>4</th>\n      <td>163</td>\n      <td>0</td>\n      <td>1</td>\n      <td>V163I</td>\n      <td>SLC26A4</td>\n    </tr>\n    <tr>\n      <th>...</th>\n      <td>...</td>\n      <td>...</td>\n      <td>...</td>\n      <td>...</td>\n      <td>...</td>\n    </tr>\n    <tr>\n      <th>4516</th>\n      <td>1045</td>\n      <td>1</td>\n      <td>1</td>\n      <td>G1045V</td>\n      <td>COL4A3</td>\n    </tr>\n    <tr>\n      <th>4517</th>\n      <td>871</td>\n      <td>1</td>\n      <td>1</td>\n      <td>G871C</td>\n      <td>COL4A3</td>\n    </tr>\n    <tr>\n      <th>4518</th>\n      <td>853</td>\n      <td>1</td>\n      <td>1</td>\n      <td>G853R</td>\n      <td>COL4A3</td>\n    </tr>\n    <tr>\n      <th>4519</th>\n      <td>25</td>\n      <td>0</td>\n      <td>0</td>\n      <td>P25S</td>\n      <td>COL4A3</td>\n    </tr>\n    <tr>\n      <th>4520</th>\n      <td>1209</td>\n      <td>0</td>\n      <td>0</td>\n      <td>M1209I</td>\n      <td>COL4A3</td>\n    </tr>\n  </tbody>\n</table>\n<p>4521 rows × 5 columns</p>\n</div>"
     },
     "execution_count": 511,
     "metadata": {},
     "output_type": "execute_result"
    }
   ],
   "source": [
    "## Calculate the MCC for the mutpred predictions, according to the real pathogenicity (0 or 1)\n",
    "from sklearn.metrics import matthews_corrcoef"
   ],
   "metadata": {
    "collapsed": false,
    "ExecuteTime": {
     "end_time": "2023-11-09T13:19:07.762219Z",
     "start_time": "2023-11-09T13:19:06.343414100Z"
    }
   },
   "id": "57a3d8604bb08730"
  },
  {
   "cell_type": "code",
   "execution_count": 512,
   "outputs": [],
   "source": [
    "# separate the merged dataframe according to gene\n",
    "genes = merged[\"gene\"].unique()\n",
    "print(f\"Number of genes: {len(genes)}\")"
   ],
   "metadata": {
    "collapsed": false,
    "ExecuteTime": {
     "end_time": "2023-11-09T13:19:07.762219Z",
     "start_time": "2023-11-09T13:19:06.372468700Z"
    }
   },
   "id": "82b8979a837034b9"
  },
  {
   "cell_type": "code",
   "execution_count": 513,
   "outputs": [],
   "source": [
    "# Calculate MCC for each gene specific predictor for mutpred\n",
    "\n",
    "# Build dictionary with gene names as keys.\n",
    "mccs = {gene: 0 for gene in genes}\n",
    "\n",
    "for gene in genes:\n",
    "    gene_df = merged[merged[\"gene\"] == gene]\n",
    "    # Assuming you have a DataFrame called 'data' with 'prediction' and 'MutPred_score' columns\n",
    "    # Create binary predictions based on the 0.5 threshold\n",
    "    gene_df.loc[:, 'binary_prediction_mutpred'] = (gene_df['MutPred_score'] > 0.5).astype(int)\n",
    "    \n",
    "    gene_df['predictions'] = gene_df['predictions'].astype(int)\n",
    "    \n",
    "    # Calculate MCC\n",
    "    mcc = matthews_corrcoef(gene_df['predictions'], gene_df['binary_prediction_mutpred'])\n",
    "    \n",
    "    # Get gene name for the use for the dictionary\n",
    "    gene = gene_df['gene'].unique()[0]\n",
    "    \n",
    "    # Append mcc to dictionary\n",
    "    mccs[gene] = mcc\n",
    "\n",
    "print(\"MCCs of MutPred2 predictions for each gene:\")\n",
    "for gene in mccs:\n",
    "    print(f\"{gene}: {mccs[gene]}\")\n"
   ],
   "metadata": {
    "collapsed": false,
    "ExecuteTime": {
     "end_time": "2023-11-09T13:19:07.762219Z",
     "start_time": "2023-11-09T13:19:06.432026500Z"
    }
   },
   "id": "e534a510288960cb"
  },
  {
   "cell_type": "code",
   "execution_count": 514,
   "outputs": [
    {
     "data": {
      "text/plain": "     position pathogenicity predictions variant    gene revel_score\n0           7             0           1     P7Q    WFS1       0.178\n1          16             0           0    P16L    WFS1       0.142\n2          54             0           0    V54G    WFS1       0.409\n3          57             0           0    A57T    WFS1       0.164\n4          66             0           0    Q66H    WFS1       0.243\n...       ...           ...         ...     ...     ...         ...\n3978      853             1           1   G853R  COL4A3       0.988\n3979       25             0           0    P25S  COL4A3       0.172\n3980     1209             0           0  M1209I  COL4A3       0.187\n3981     1209             0           0  M1209I  COL4A3       0.187\n3982     1209             0           0  M1209I  COL4A3       0.187\n\n[3983 rows x 6 columns]",
      "text/html": "<div>\n<style scoped>\n    .dataframe tbody tr th:only-of-type {\n        vertical-align: middle;\n    }\n\n    .dataframe tbody tr th {\n        vertical-align: top;\n    }\n\n    .dataframe thead th {\n        text-align: right;\n    }\n</style>\n<table border=\"1\" class=\"dataframe\">\n  <thead>\n    <tr style=\"text-align: right;\">\n      <th></th>\n      <th>position</th>\n      <th>pathogenicity</th>\n      <th>predictions</th>\n      <th>variant</th>\n      <th>gene</th>\n      <th>revel_score</th>\n    </tr>\n  </thead>\n  <tbody>\n    <tr>\n      <th>0</th>\n      <td>7</td>\n      <td>0</td>\n      <td>1</td>\n      <td>P7Q</td>\n      <td>WFS1</td>\n      <td>0.178</td>\n    </tr>\n    <tr>\n      <th>1</th>\n      <td>16</td>\n      <td>0</td>\n      <td>0</td>\n      <td>P16L</td>\n      <td>WFS1</td>\n      <td>0.142</td>\n    </tr>\n    <tr>\n      <th>2</th>\n      <td>54</td>\n      <td>0</td>\n      <td>0</td>\n      <td>V54G</td>\n      <td>WFS1</td>\n      <td>0.409</td>\n    </tr>\n    <tr>\n      <th>3</th>\n      <td>57</td>\n      <td>0</td>\n      <td>0</td>\n      <td>A57T</td>\n      <td>WFS1</td>\n      <td>0.164</td>\n    </tr>\n    <tr>\n      <th>4</th>\n      <td>66</td>\n      <td>0</td>\n      <td>0</td>\n      <td>Q66H</td>\n      <td>WFS1</td>\n      <td>0.243</td>\n    </tr>\n    <tr>\n      <th>...</th>\n      <td>...</td>\n      <td>...</td>\n      <td>...</td>\n      <td>...</td>\n      <td>...</td>\n      <td>...</td>\n    </tr>\n    <tr>\n      <th>3978</th>\n      <td>853</td>\n      <td>1</td>\n      <td>1</td>\n      <td>G853R</td>\n      <td>COL4A3</td>\n      <td>0.988</td>\n    </tr>\n    <tr>\n      <th>3979</th>\n      <td>25</td>\n      <td>0</td>\n      <td>0</td>\n      <td>P25S</td>\n      <td>COL4A3</td>\n      <td>0.172</td>\n    </tr>\n    <tr>\n      <th>3980</th>\n      <td>1209</td>\n      <td>0</td>\n      <td>0</td>\n      <td>M1209I</td>\n      <td>COL4A3</td>\n      <td>0.187</td>\n    </tr>\n    <tr>\n      <th>3981</th>\n      <td>1209</td>\n      <td>0</td>\n      <td>0</td>\n      <td>M1209I</td>\n      <td>COL4A3</td>\n      <td>0.187</td>\n    </tr>\n    <tr>\n      <th>3982</th>\n      <td>1209</td>\n      <td>0</td>\n      <td>0</td>\n      <td>M1209I</td>\n      <td>COL4A3</td>\n      <td>0.187</td>\n    </tr>\n  </tbody>\n</table>\n<p>3983 rows × 6 columns</p>\n</div>"
     },
     "execution_count": 514,
     "metadata": {},
     "output_type": "execute_result"
    }
   ],
   "source": [
    "from sklearn.metrics import roc_auc_score, roc_curve, auc, precision_recall_curve, average_precision_score, f1_score, log_loss, confusion_matrix\n",
    "# store the results in a dictionary\n",
    "results = {gene: 0 for gene in genes}\n",
    "\n",
    "for gene in genes:\n",
    "    gene_df = merged[merged[\"gene\"] == gene]\n",
    "    y_true = gene_df[\"pathogenicity\"].astype(int)\n",
    "    predicted_probabilities = gene_df[\"MutPred_score\"]\n",
    "    gene_df.loc[:, 'binary_prediction_mutpred'] = (gene_df['MutPred_score'] > 0.5).astype(int)\n",
    "    predicted_labels = gene_df[\"binary_prediction_mutpred\"]\n",
    "    \n",
    "    results_gene = {}\n",
    "    # Calculate AUC-ROC\n",
    "    roc_auc = roc_auc_score(y_true, predicted_probabilities)\n",
    "    # append to dictionary\n",
    "    results_gene[\"roc_auc\"] = roc_auc\n",
    "    \n",
    "    # Calculate ROC curve\n",
    "    fpr, tpr, thresholds = roc_curve(y_true, predicted_probabilities)\n",
    "    roc_auc = auc(fpr, tpr)\n",
    "    # append to dictionary\n",
    "    results_gene[\"auc\"] = roc_auc\n",
    "    \n",
    "    # Calculate AUC-PR\n",
    "    precision, recall, _ = precision_recall_curve(y_true, predicted_probabilities)\n",
    "    pr_auc = auc(recall, precision)\n",
    "    # append to dictionary\n",
    "    results_gene[\"pr_auc\"] = pr_auc\n",
    "    \n",
    "    # Calculate F1 Score\n",
    "    f1 = f1_score(y_true, predicted_labels)\n",
    "    # append to dictionary\n",
    "    results_gene[\"f1\"] = f1\n",
    "    \n",
    "    # Calculate Log Loss\n",
    "    logloss = log_loss(y_true, predicted_probabilities)\n",
    "    # append to dictionary\n",
    "    results_gene[\"logloss\"] = logloss\n",
    "    \n",
    "    # Calculate confusion matrix\n",
    "    conf_matrix = confusion_matrix(y_true, predicted_labels)\n",
    "    # append to dictionary\n",
    "    results_gene[\"confusion_matrix\"] = conf_matrix\n",
    "    \n",
    "    # Get gene name for the use for the dictionary\n",
    "    gene = gene_df['gene'].unique()[0]\n",
    "    # Append results to dictionary\n",
    "    results[gene] = results_gene\n",
    "    \n",
    "## Print results\n",
    "print(\"Results of MutPred2 predictions for each gene:\")\n",
    "for gene in results:\n",
    "    print(f\"{gene}: {results[gene]}\")"
   ],
   "metadata": {
    "collapsed": false,
    "ExecuteTime": {
     "end_time": "2023-11-09T13:19:07.762219Z",
     "start_time": "2023-11-09T13:19:06.455878800Z"
    }
   },
   "id": "f799b7d2cd6a08da"
  },
  {
   "cell_type": "code",
   "execution_count": 515,
   "outputs": [],
   "source": [
    "# present the confusion matrix for each gene\n",
    "import matplotlib.pyplot as plt\n",
    "\n",
    "for gene in results:\n",
    "    # Plot confusion matrix\n",
    "    plt.imshow(results[gene][\"confusion_matrix\"], cmap=plt.cm.Blues)\n",
    "    plt.xlabel(\"Predicted labels\")\n",
    "    plt.ylabel(\"True labels\")\n",
    "    plt.xticks([0, 1], [\"Benign\", \"Pathogenic\"])\n",
    "    plt.yticks([0, 1], [\"Benign\", \"Pathogenic\"])\n",
    "    plt.title(f\"Confusion matrix for {gene}, MutPred2 predictions\")\n",
    "    plt.style.use(\"seaborn-white\")\n",
    "    # Add text annotations\n",
    "    for i in range(2):\n",
    "        for j in range(2):\n",
    "            plt.text(j, i, results[gene][\"confusion_matrix\"][i, j], ha=\"center\", va=\"center\", color=\"black\", backgroundcolor=\"white\")\n",
    "    plt.colorbar()\n",
    "    plt.show()"
   ],
   "metadata": {
    "collapsed": false,
    "ExecuteTime": {
     "end_time": "2023-11-09T13:19:07.762219Z",
     "start_time": "2023-11-09T13:19:06.486300200Z"
    }
   },
   "id": "f079a669b25f338e"
  },
  {
   "cell_type": "code",
   "execution_count": 516,
   "outputs": [],
   "source": [
    "# present the ROC curve for each gene\n",
    "for gene in results:\n",
    "    # Plot ROC curve\n",
    "    plt.plot(fpr, tpr, color=\"darkorange\", lw=2, label=f\"ROC curve (area = {results[gene]['roc_auc']:.2f})\")\n",
    "    plt.plot([0, 1], [0, 1], color=\"navy\", lw=2, linestyle=\"--\")\n",
    "    plt.xlim([0.0, 1.0])\n",
    "    plt.ylim([0.0, 1.05])\n",
    "    plt.xlabel(\"False Positive Rate\")\n",
    "    plt.ylabel(\"True Positive Rate\")\n",
    "    plt.title(f\"ROC curve for {gene}, MutPred2 predictions\")\n",
    "    plt.legend(loc=\"lower right\")\n",
    "    plt.show()"
   ],
   "metadata": {
    "collapsed": false,
    "ExecuteTime": {
     "end_time": "2023-11-09T13:19:07.762219Z",
     "start_time": "2023-11-09T13:19:06.501420800Z"
    }
   },
   "id": "593e79ee559d6f62"
  },
  {
   "cell_type": "code",
   "execution_count": 517,
   "outputs": [
    {
     "name": "stdout",
     "output_type": "stream",
     "text": [
      "Number of genes: 6\n"
     ]
    }
   ],
   "source": [
    "# Calculate MCC for each gene specific predictor for mutpred\n",
    "\n",
    "# Build dictionary with gene names as keys.\n",
    "mccs = {gene: 0 for gene in genes}\n",
    "\n",
    "merged['VEST_score'] = merged['VEST_score'].astype(float)\n",
    "\n",
    "for gene in genes:\n",
    "    gene_df = merged[merged[\"gene\"] == gene]\n",
    "    # change VEST score to float\n",
    "    # Assuming you have a DataFrame called 'data' with 'prediction' and 'MutPred_score' columns\n",
    "    # Create binary predictions based on the 0.5 threshold\n",
    "    gene_df.loc[:, 'binary_prediction_VEST4'] = (gene_df['VEST_score'] > 0.5).astype(int)\n",
    "    \n",
    "    gene_df['pathogenicity'] = gene_df['pathogenicity'].astype(int)\n",
    "    \n",
    "    # Calculate MCC\n",
    "    mcc = matthews_corrcoef(gene_df['pathogenicity'], gene_df['binary_prediction_VEST4'])\n",
    "    \n",
    "    # Get gene name for the use for the dictionary\n",
    "    gene = gene_df['gene'].unique()[0]\n",
    "    \n",
    "    # Append mcc to dictionary\n",
    "    mccs[gene] = mcc\n",
    "\n",
    "print(\"MCCs of VEST4 predictions for each gene:\")\n",
    "for gene in mccs:\n",
    "    print(f\"{gene}: {mccs[gene]}\")"
   ],
   "metadata": {
    "collapsed": false,
    "ExecuteTime": {
     "end_time": "2023-11-09T13:19:07.762219Z",
     "start_time": "2023-11-09T13:19:06.512497700Z"
    }
   },
   "id": "e1c262aca9c06880"
  },
  {
   "cell_type": "code",
   "execution_count": 518,
   "outputs": [
    {
     "name": "stdout",
     "output_type": "stream",
     "text": [
      "MCCs of REVEL predictions for each gene:\n",
      "WFS1: 0.3508853905797042\n",
      "FGFR1: 0.4047176158495665\n",
      "COL2A1: 0.5061954051761961\n",
      "COL4A5: 0.24804682599789998\n",
      "MYO7A: 0.23102454281119714\n",
      "COL4A3: 0.4878116751740154\n"
     ]
    },
    {
     "name": "stderr",
     "output_type": "stream",
     "text": [
      "C:\\Users\\InbarBlech\\AppData\\Local\\Temp\\ipykernel_11864\\3022861317.py:38: SettingWithCopyWarning: \n",
      "A value is trying to be set on a copy of a slice from a DataFrame.\n",
      "Try using .loc[row_indexer,col_indexer] = value instead\n",
      "\n",
      "See the caveats in the documentation: https://pandas.pydata.org/pandas-docs/stable/user_guide/indexing.html#returning-a-view-versus-a-copy\n",
      "  gene_df['revel_score'] = gene_df['revel_score'].astype(float)\n",
      "C:\\Users\\InbarBlech\\AppData\\Local\\Temp\\ipykernel_11864\\3022861317.py:40: SettingWithCopyWarning: \n",
      "A value is trying to be set on a copy of a slice from a DataFrame.\n",
      "Try using .loc[row_indexer,col_indexer] = value instead\n",
      "\n",
      "See the caveats in the documentation: https://pandas.pydata.org/pandas-docs/stable/user_guide/indexing.html#returning-a-view-versus-a-copy\n",
      "  gene_df.loc[:, 'binary_prediction_REVEL'] = (gene_df['revel_score'] > 0.5).astype(int)\n",
      "C:\\Users\\InbarBlech\\AppData\\Local\\Temp\\ipykernel_11864\\3022861317.py:42: SettingWithCopyWarning: \n",
      "A value is trying to be set on a copy of a slice from a DataFrame.\n",
      "Try using .loc[row_indexer,col_indexer] = value instead\n",
      "\n",
      "See the caveats in the documentation: https://pandas.pydata.org/pandas-docs/stable/user_guide/indexing.html#returning-a-view-versus-a-copy\n",
      "  gene_df['predictions'] = gene_df['predictions'].astype(int)\n",
      "C:\\Users\\InbarBlech\\AppData\\Local\\Temp\\ipykernel_11864\\3022861317.py:38: SettingWithCopyWarning: \n",
      "A value is trying to be set on a copy of a slice from a DataFrame.\n",
      "Try using .loc[row_indexer,col_indexer] = value instead\n",
      "\n",
      "See the caveats in the documentation: https://pandas.pydata.org/pandas-docs/stable/user_guide/indexing.html#returning-a-view-versus-a-copy\n",
      "  gene_df['revel_score'] = gene_df['revel_score'].astype(float)\n",
      "C:\\Users\\InbarBlech\\AppData\\Local\\Temp\\ipykernel_11864\\3022861317.py:40: SettingWithCopyWarning: \n",
      "A value is trying to be set on a copy of a slice from a DataFrame.\n",
      "Try using .loc[row_indexer,col_indexer] = value instead\n",
      "\n",
      "See the caveats in the documentation: https://pandas.pydata.org/pandas-docs/stable/user_guide/indexing.html#returning-a-view-versus-a-copy\n",
      "  gene_df.loc[:, 'binary_prediction_REVEL'] = (gene_df['revel_score'] > 0.5).astype(int)\n",
      "C:\\Users\\InbarBlech\\AppData\\Local\\Temp\\ipykernel_11864\\3022861317.py:42: SettingWithCopyWarning: \n",
      "A value is trying to be set on a copy of a slice from a DataFrame.\n",
      "Try using .loc[row_indexer,col_indexer] = value instead\n",
      "\n",
      "See the caveats in the documentation: https://pandas.pydata.org/pandas-docs/stable/user_guide/indexing.html#returning-a-view-versus-a-copy\n",
      "  gene_df['predictions'] = gene_df['predictions'].astype(int)\n",
      "C:\\Users\\InbarBlech\\AppData\\Local\\Temp\\ipykernel_11864\\3022861317.py:38: SettingWithCopyWarning: \n",
      "A value is trying to be set on a copy of a slice from a DataFrame.\n",
      "Try using .loc[row_indexer,col_indexer] = value instead\n",
      "\n",
      "See the caveats in the documentation: https://pandas.pydata.org/pandas-docs/stable/user_guide/indexing.html#returning-a-view-versus-a-copy\n",
      "  gene_df['revel_score'] = gene_df['revel_score'].astype(float)\n",
      "C:\\Users\\InbarBlech\\AppData\\Local\\Temp\\ipykernel_11864\\3022861317.py:40: SettingWithCopyWarning: \n",
      "A value is trying to be set on a copy of a slice from a DataFrame.\n",
      "Try using .loc[row_indexer,col_indexer] = value instead\n",
      "\n",
      "See the caveats in the documentation: https://pandas.pydata.org/pandas-docs/stable/user_guide/indexing.html#returning-a-view-versus-a-copy\n",
      "  gene_df.loc[:, 'binary_prediction_REVEL'] = (gene_df['revel_score'] > 0.5).astype(int)\n",
      "C:\\Users\\InbarBlech\\AppData\\Local\\Temp\\ipykernel_11864\\3022861317.py:42: SettingWithCopyWarning: \n",
      "A value is trying to be set on a copy of a slice from a DataFrame.\n",
      "Try using .loc[row_indexer,col_indexer] = value instead\n",
      "\n",
      "See the caveats in the documentation: https://pandas.pydata.org/pandas-docs/stable/user_guide/indexing.html#returning-a-view-versus-a-copy\n",
      "  gene_df['predictions'] = gene_df['predictions'].astype(int)\n",
      "C:\\Users\\InbarBlech\\AppData\\Local\\Temp\\ipykernel_11864\\3022861317.py:38: SettingWithCopyWarning: \n",
      "A value is trying to be set on a copy of a slice from a DataFrame.\n",
      "Try using .loc[row_indexer,col_indexer] = value instead\n",
      "\n",
      "See the caveats in the documentation: https://pandas.pydata.org/pandas-docs/stable/user_guide/indexing.html#returning-a-view-versus-a-copy\n",
      "  gene_df['revel_score'] = gene_df['revel_score'].astype(float)\n",
      "C:\\Users\\InbarBlech\\AppData\\Local\\Temp\\ipykernel_11864\\3022861317.py:40: SettingWithCopyWarning: \n",
      "A value is trying to be set on a copy of a slice from a DataFrame.\n",
      "Try using .loc[row_indexer,col_indexer] = value instead\n",
      "\n",
      "See the caveats in the documentation: https://pandas.pydata.org/pandas-docs/stable/user_guide/indexing.html#returning-a-view-versus-a-copy\n",
      "  gene_df.loc[:, 'binary_prediction_REVEL'] = (gene_df['revel_score'] > 0.5).astype(int)\n",
      "C:\\Users\\InbarBlech\\AppData\\Local\\Temp\\ipykernel_11864\\3022861317.py:42: SettingWithCopyWarning: \n",
      "A value is trying to be set on a copy of a slice from a DataFrame.\n",
      "Try using .loc[row_indexer,col_indexer] = value instead\n",
      "\n",
      "See the caveats in the documentation: https://pandas.pydata.org/pandas-docs/stable/user_guide/indexing.html#returning-a-view-versus-a-copy\n",
      "  gene_df['predictions'] = gene_df['predictions'].astype(int)\n",
      "C:\\Users\\InbarBlech\\AppData\\Local\\Temp\\ipykernel_11864\\3022861317.py:38: SettingWithCopyWarning: \n",
      "A value is trying to be set on a copy of a slice from a DataFrame.\n",
      "Try using .loc[row_indexer,col_indexer] = value instead\n",
      "\n",
      "See the caveats in the documentation: https://pandas.pydata.org/pandas-docs/stable/user_guide/indexing.html#returning-a-view-versus-a-copy\n",
      "  gene_df['revel_score'] = gene_df['revel_score'].astype(float)\n",
      "C:\\Users\\InbarBlech\\AppData\\Local\\Temp\\ipykernel_11864\\3022861317.py:40: SettingWithCopyWarning: \n",
      "A value is trying to be set on a copy of a slice from a DataFrame.\n",
      "Try using .loc[row_indexer,col_indexer] = value instead\n",
      "\n",
      "See the caveats in the documentation: https://pandas.pydata.org/pandas-docs/stable/user_guide/indexing.html#returning-a-view-versus-a-copy\n",
      "  gene_df.loc[:, 'binary_prediction_REVEL'] = (gene_df['revel_score'] > 0.5).astype(int)\n",
      "C:\\Users\\InbarBlech\\AppData\\Local\\Temp\\ipykernel_11864\\3022861317.py:42: SettingWithCopyWarning: \n",
      "A value is trying to be set on a copy of a slice from a DataFrame.\n",
      "Try using .loc[row_indexer,col_indexer] = value instead\n",
      "\n",
      "See the caveats in the documentation: https://pandas.pydata.org/pandas-docs/stable/user_guide/indexing.html#returning-a-view-versus-a-copy\n",
      "  gene_df['predictions'] = gene_df['predictions'].astype(int)\n",
      "C:\\Users\\InbarBlech\\AppData\\Local\\Temp\\ipykernel_11864\\3022861317.py:38: SettingWithCopyWarning: \n",
      "A value is trying to be set on a copy of a slice from a DataFrame.\n",
      "Try using .loc[row_indexer,col_indexer] = value instead\n",
      "\n",
      "See the caveats in the documentation: https://pandas.pydata.org/pandas-docs/stable/user_guide/indexing.html#returning-a-view-versus-a-copy\n",
      "  gene_df['revel_score'] = gene_df['revel_score'].astype(float)\n",
      "C:\\Users\\InbarBlech\\AppData\\Local\\Temp\\ipykernel_11864\\3022861317.py:40: SettingWithCopyWarning: \n",
      "A value is trying to be set on a copy of a slice from a DataFrame.\n",
      "Try using .loc[row_indexer,col_indexer] = value instead\n",
      "\n",
      "See the caveats in the documentation: https://pandas.pydata.org/pandas-docs/stable/user_guide/indexing.html#returning-a-view-versus-a-copy\n",
      "  gene_df.loc[:, 'binary_prediction_REVEL'] = (gene_df['revel_score'] > 0.5).astype(int)\n",
      "C:\\Users\\InbarBlech\\AppData\\Local\\Temp\\ipykernel_11864\\3022861317.py:42: SettingWithCopyWarning: \n",
      "A value is trying to be set on a copy of a slice from a DataFrame.\n",
      "Try using .loc[row_indexer,col_indexer] = value instead\n",
      "\n",
      "See the caveats in the documentation: https://pandas.pydata.org/pandas-docs/stable/user_guide/indexing.html#returning-a-view-versus-a-copy\n",
      "  gene_df['predictions'] = gene_df['predictions'].astype(int)\n"
     ]
    }
   ],
   "source": [
    "from sklearn.metrics import roc_auc_score, roc_curve, auc, precision_recall_curve, average_precision_score, f1_score, log_loss, confusion_matrix\n",
    "# store the results in a dictionary\n",
    "results = {gene: 0 for gene in genes}\n",
    "\n",
    "for gene in genes:\n",
    "    gene_df = merged[merged[\"gene\"] == gene]\n",
    "    y_true = gene_df[\"pathogenicity\"].astype(int)\n",
    "    predicted_probabilities = gene_df[\"MutPred_score\"]\n",
    "    gene_df.loc[:, 'binary_prediction_VEST4'] = (gene_df['VEST_score'] > 0.5).astype(int)\n",
    "    predicted_labels = gene_df[\"binary_prediction_VEST4\"]\n",
    "    \n",
    "    results_gene = {}\n",
    "    # Calculate AUC-ROC\n",
    "    roc_auc = roc_auc_score(y_true, predicted_probabilities)\n",
    "    # append to dictionary\n",
    "    results_gene[\"roc_auc\"] = roc_auc\n",
    "    \n",
    "    # Calculate ROC curve\n",
    "    fpr, tpr, thresholds = roc_curve(y_true, predicted_probabilities)\n",
    "    roc_auc = auc(fpr, tpr)\n",
    "    # append to dictionary\n",
    "    results_gene[\"auc\"] = roc_auc\n",
    "    \n",
    "    # Calculate AUC-PR\n",
    "    precision, recall, _ = precision_recall_curve(y_true, predicted_probabilities)\n",
    "    pr_auc = auc(recall, precision)\n",
    "    # append to dictionary\n",
    "    results_gene[\"pr_auc\"] = pr_auc\n",
    "    \n",
    "    # Calculate F1 Score\n",
    "    f1 = f1_score(y_true, predicted_labels)\n",
    "    # append to dictionary\n",
    "    results_gene[\"f1\"] = f1\n",
    "    \n",
    "    # Calculate Log Loss\n",
    "    logloss = log_loss(y_true, predicted_probabilities)\n",
    "    # append to dictionary\n",
    "    results_gene[\"logloss\"] = logloss\n",
    "    \n",
    "    # Calculate confusion matrix\n",
    "    conf_matrix = confusion_matrix(y_true, predicted_labels)\n",
    "    # append to dictionary\n",
    "    results_gene[\"confusion_matrix\"] = conf_matrix\n",
    "    \n",
    "    # Get gene name for the use for the dictionary\n",
    "    gene = gene_df['gene'].unique()[0]\n",
    "    # Append results to dictionary\n",
    "    results[gene] = results_gene\n",
    "    \n",
    "## Print results\n",
    "print(\"Results of VEST4 predictions for each gene:\")\n",
    "for gene in results:\n",
    "    print(f\"{gene}: {results[gene]}\")"
   ],
   "metadata": {
    "collapsed": false,
    "ExecuteTime": {
     "end_time": "2023-11-09T13:19:07.762219Z",
     "start_time": "2023-11-09T13:19:06.532076100Z"
    }
   },
   "id": "bbf1159d32e32f26"
  },
  {
   "cell_type": "code",
   "execution_count": 519,
   "outputs": [],
   "source": [
    "# present the confusion matrix for each gene\n",
    "import matplotlib.pyplot as plt\n",
    "\n",
    "for gene in results:\n",
    "    # Plot confusion matrix\n",
    "    plt.imshow(results[gene][\"confusion_matrix\"], cmap=plt.cm.Blues)\n",
    "    plt.xlabel(\"Predicted labels\")\n",
    "    plt.ylabel(\"True labels\")\n",
    "    plt.xticks([0, 1], [\"Benign\", \"Pathogenic\"])\n",
    "    plt.yticks([0, 1], [\"Benign\", \"Pathogenic\"])\n",
    "    plt.title(f\"Confusion matrix for {gene}, VEST4 predictions\")\n",
    "    plt.style.use(\"seaborn-white\")\n",
    "    # Add text annotations\n",
    "    for i in range(2):\n",
    "        for j in range(2):\n",
    "            plt.text(j, i, results[gene][\"confusion_matrix\"][i, j], ha=\"center\", va=\"center\", color=\"black\", backgroundcolor=\"white\")\n",
    "    plt.colorbar()\n",
    "    plt.show()"
   ],
   "metadata": {
    "collapsed": false,
    "ExecuteTime": {
     "end_time": "2023-11-09T13:19:07.762219Z",
     "start_time": "2023-11-09T13:19:06.573555700Z"
    }
   },
   "id": "f0b8e3dd38bb68b1"
  },
  {
   "cell_type": "code",
   "execution_count": 520,
   "outputs": [],
   "source": [
    "#present the ROC curve for each gene\n",
    "for gene in results:\n",
    "    # Plot ROC curve\n",
    "    plt.plot(fpr, tpr, color=\"darkorange\", lw=2, label=f\"ROC curve (area = {results[gene]['roc_auc']:.2f})\")\n",
    "    plt.plot([0, 1], [0, 1], color=\"navy\", lw=2, linestyle=\"--\")\n",
    "    plt.xlim([0.0, 1.0])\n",
    "    plt.ylim([0.0, 1.05])\n",
    "    plt.xlabel(\"False Positive Rate\")\n",
    "    plt.ylabel(\"True Positive Rate\")\n",
    "    plt.title(f\"ROC curve for {gene}, VEST4 predictions\")\n",
    "    plt.legend(loc=\"lower right\")\n",
    "    plt.show()"
   ],
   "metadata": {
    "collapsed": false,
    "ExecuteTime": {
     "end_time": "2023-11-09T13:19:07.762219Z",
     "start_time": "2023-11-09T13:19:06.592359400Z"
    }
   },
   "id": "a96541f85f7b581f"
  }
 ],
 "metadata": {
  "kernelspec": {
   "display_name": "Python 3",
   "language": "python",
   "name": "python3"
  },
  "language_info": {
   "codemirror_mode": {
    "name": "ipython",
    "version": 2
   },
   "file_extension": ".py",
   "mimetype": "text/x-python",
   "name": "python",
   "nbconvert_exporter": "python",
   "pygments_lexer": "ipython2",
   "version": "2.7.6"
  }
 },
 "nbformat": 4,
 "nbformat_minor": 5
}
