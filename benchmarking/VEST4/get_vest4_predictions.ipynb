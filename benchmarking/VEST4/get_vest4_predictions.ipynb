{
 "cells": [
  {
   "cell_type": "raw",
   "source": [],
   "metadata": {
    "collapsed": false
   },
   "id": "daae3bd731bad53b"
  },
  {
   "cell_type": "code",
   "execution_count": 1,
   "outputs": [],
   "source": [
    "import pandas as pd"
   ],
   "metadata": {
    "collapsed": false,
    "ExecuteTime": {
     "end_time": "2023-11-21T14:58:14.718300300Z",
     "start_time": "2023-11-21T14:58:14.704745700Z"
    }
   },
   "id": "initial_id"
  },
  {
   "cell_type": "code",
   "execution_count": 19,
   "outputs": [
    {
     "name": "stderr",
     "output_type": "stream",
     "text": [
      "C:\\Users\\InbarBlech\\AppData\\Local\\Temp\\ipykernel_14112\\1929980479.py:28: FutureWarning: The frame.append method is deprecated and will be removed from pandas in a future version. Use pandas.concat instead.\n",
      "  VEST4_predictions = VEST4_predictions.append(new_gene_predictions)\n"
     ]
    }
   ],
   "source": [
    "\"\"\"Run this cell to add a new gene to the VEST4 predictions file\n",
    "Input file should be a tsv file with the following columns: \"HUGO symbol\", \"Protein sequence change\", \"VEST score (missense)\".\"\"\"\n",
    "\n",
    "# Change the path or file name!!! \n",
    "file_name = \"inbarblech_20231123_061444_variant.tsv\"\n",
    "new_gene_path = f\"C:\\\\Users\\\\InbarBlech\\\\PycharmProjects\\\\Thesis\\\\benchmarking\\\\VEST4\\\\output_of_vest4\\\\{file_name}\"\n",
    "\n",
    "# Clean the new gene file\n",
    "# remove all rows until \"Input line\" row\n",
    "with open(new_gene_path, 'r') as f:\n",
    "    lines = f.readlines()\n",
    "    for i, line in enumerate(lines):\n",
    "        if line.startswith(\"Input line\"):\n",
    "            break\n",
    "    lines = lines[i:]\n",
    "with open(new_gene_path, 'w') as f:\n",
    "    f.writelines(lines)\n",
    "\n",
    "# read the tsv file as a dataframe\n",
    "new_gene_predictions = pd.read_csv(new_gene_path, sep='\\t')\n",
    "# Only leave the columns we need: \"HUGO symbol\", \"Protein sequence change\", \"VEST score (missense)\"\n",
    "new_gene_predictions = new_gene_predictions[[\"HUGO symbol\", \"Protein sequence change\", \"VEST score (missense)\"]]\n",
    "# Change name of column \"HUGO symbol\" to \"gene\", \"Protein sequence change\" to \"variant\", \"VEST score (missense)\" to \"VEST_score\"\n",
    "new_gene_predictions = new_gene_predictions.rename(columns={\"HUGO symbol\": \"gene\", \"Protein sequence change\": \"variant\", \"VEST score (missense)\": \"VEST_score\"})\n",
    "\n",
    "# Load VEST4 predictions\n",
    "VEST4_predictions = pd.read_csv(\"C:\\\\Users\\\\InbarBlech\\\\PycharmProjects\\\\Thesis\\\\benchmarking\\\\VEST4\\\\all_vest4_predictions.csv\")\n",
    "VEST4_predictions = VEST4_predictions.append(new_gene_predictions)\n",
    "VEST4_predictions.to_csv(\"C:\\\\Users\\\\InbarBlech\\\\PycharmProjects\\\\Thesis\\\\benchmarking\\\\VEST4\\\\all_vest4_predictions.csv\", index=False)"
   ],
   "metadata": {
    "collapsed": false,
    "ExecuteTime": {
     "end_time": "2023-11-23T11:37:20.820727200Z",
     "start_time": "2023-11-23T11:37:20.773087700Z"
    }
   },
   "id": "8534bec305888071"
  },
  {
   "cell_type": "code",
   "execution_count": 2,
   "outputs": [
    {
     "data": {
      "text/plain": "     variant     gene VEST_score\n0        G6S  SLC26A4      0.104\n1       M21V  SLC26A4      0.037\n2       A51T  SLC26A4      0.188\n3       C53G  SLC26A4      0.062\n4      V163I  SLC26A4      0.725\n...      ...      ...        ...\n4209  V1669I    MYO7A      0.345\n4210   R816H    MYO7A      0.322\n4211  P1724A    MYO7A      0.277\n4212  I1157V    MYO7A      0.361\n4213  R1602Q    MYO7A      0.731\n\n[4214 rows x 3 columns]",
      "text/html": "<div>\n<style scoped>\n    .dataframe tbody tr th:only-of-type {\n        vertical-align: middle;\n    }\n\n    .dataframe tbody tr th {\n        vertical-align: top;\n    }\n\n    .dataframe thead th {\n        text-align: right;\n    }\n</style>\n<table border=\"1\" class=\"dataframe\">\n  <thead>\n    <tr style=\"text-align: right;\">\n      <th></th>\n      <th>variant</th>\n      <th>gene</th>\n      <th>VEST_score</th>\n    </tr>\n  </thead>\n  <tbody>\n    <tr>\n      <th>0</th>\n      <td>G6S</td>\n      <td>SLC26A4</td>\n      <td>0.104</td>\n    </tr>\n    <tr>\n      <th>1</th>\n      <td>M21V</td>\n      <td>SLC26A4</td>\n      <td>0.037</td>\n    </tr>\n    <tr>\n      <th>2</th>\n      <td>A51T</td>\n      <td>SLC26A4</td>\n      <td>0.188</td>\n    </tr>\n    <tr>\n      <th>3</th>\n      <td>C53G</td>\n      <td>SLC26A4</td>\n      <td>0.062</td>\n    </tr>\n    <tr>\n      <th>4</th>\n      <td>V163I</td>\n      <td>SLC26A4</td>\n      <td>0.725</td>\n    </tr>\n    <tr>\n      <th>...</th>\n      <td>...</td>\n      <td>...</td>\n      <td>...</td>\n    </tr>\n    <tr>\n      <th>4209</th>\n      <td>V1669I</td>\n      <td>MYO7A</td>\n      <td>0.345</td>\n    </tr>\n    <tr>\n      <th>4210</th>\n      <td>R816H</td>\n      <td>MYO7A</td>\n      <td>0.322</td>\n    </tr>\n    <tr>\n      <th>4211</th>\n      <td>P1724A</td>\n      <td>MYO7A</td>\n      <td>0.277</td>\n    </tr>\n    <tr>\n      <th>4212</th>\n      <td>I1157V</td>\n      <td>MYO7A</td>\n      <td>0.361</td>\n    </tr>\n    <tr>\n      <th>4213</th>\n      <td>R1602Q</td>\n      <td>MYO7A</td>\n      <td>0.731</td>\n    </tr>\n  </tbody>\n</table>\n<p>4214 rows × 3 columns</p>\n</div>"
     },
     "execution_count": 2,
     "metadata": {},
     "output_type": "execute_result"
    }
   ],
   "source": [
    "\"\"\"This cell was used to initiate the VEST4 predictions file. Run this cell only if you want a new set of predictions.\"\"\"\n",
    "\n",
    "# # Load VEST4 predictions\n",
    "# VEST4_predictions = pd.read_csv(\"C:\\\\Users\\\\InbarBlech\\\\PycharmProjects\\\\Thesis\\\\benchmarking\\\\VEST4\\\\all_vest4_predictions.csv\")\n",
    "# \n",
    "# # rename columns\n",
    "# # Change name of column \"HUGO symbol\" to \"gene\"\n",
    "# VEST4_predictions = VEST4_predictions.rename(columns={\"HUGO symbol\": \"gene\"})\n",
    "# # Change name of column \"Protein sequence change\" to \"variant\"\n",
    "# VEST4_predictions = VEST4_predictions.rename(columns={\"Protein sequence change\": \"variant\"})\n",
    "# # Change name of column \"VEST4 score (missense)\" to \"VEST4_score\"\n",
    "# VEST4_predictions = VEST4_predictions.rename(columns={\"VEST score (missense)\": \"VEST_score\"})\n",
    "# VEST4_predictions"
   ],
   "metadata": {
    "collapsed": false,
    "ExecuteTime": {
     "end_time": "2023-11-21T14:58:14.806060600Z",
     "start_time": "2023-11-21T14:58:14.721560500Z"
    }
   },
   "id": "2090e79b1563de0e"
  },
  {
   "cell_type": "code",
   "execution_count": 25,
   "outputs": [
    {
     "data": {
      "text/plain": "     variant     gene  VEST_score\n0        G6S  SLC26A4       0.104\n1       M21V  SLC26A4       0.037\n2       A51T  SLC26A4       0.188\n3       C53G  SLC26A4       0.062\n5      A180T  SLC26A4       0.177\n...      ...      ...         ...\n4481   T123S     GJB2       0.036\n4482   T123N     GJB2       0.033\n4483   V207I     GJB2       0.032\n4484   V144I     GJB2       0.030\n4485     G4S     GJB2       0.025\n\n[3693 rows x 3 columns]",
      "text/html": "<div>\n<style scoped>\n    .dataframe tbody tr th:only-of-type {\n        vertical-align: middle;\n    }\n\n    .dataframe tbody tr th {\n        vertical-align: top;\n    }\n\n    .dataframe thead th {\n        text-align: right;\n    }\n</style>\n<table border=\"1\" class=\"dataframe\">\n  <thead>\n    <tr style=\"text-align: right;\">\n      <th></th>\n      <th>variant</th>\n      <th>gene</th>\n      <th>VEST_score</th>\n    </tr>\n  </thead>\n  <tbody>\n    <tr>\n      <th>0</th>\n      <td>G6S</td>\n      <td>SLC26A4</td>\n      <td>0.104</td>\n    </tr>\n    <tr>\n      <th>1</th>\n      <td>M21V</td>\n      <td>SLC26A4</td>\n      <td>0.037</td>\n    </tr>\n    <tr>\n      <th>2</th>\n      <td>A51T</td>\n      <td>SLC26A4</td>\n      <td>0.188</td>\n    </tr>\n    <tr>\n      <th>3</th>\n      <td>C53G</td>\n      <td>SLC26A4</td>\n      <td>0.062</td>\n    </tr>\n    <tr>\n      <th>5</th>\n      <td>A180T</td>\n      <td>SLC26A4</td>\n      <td>0.177</td>\n    </tr>\n    <tr>\n      <th>...</th>\n      <td>...</td>\n      <td>...</td>\n      <td>...</td>\n    </tr>\n    <tr>\n      <th>4481</th>\n      <td>T123S</td>\n      <td>GJB2</td>\n      <td>0.036</td>\n    </tr>\n    <tr>\n      <th>4482</th>\n      <td>T123N</td>\n      <td>GJB2</td>\n      <td>0.033</td>\n    </tr>\n    <tr>\n      <th>4483</th>\n      <td>V207I</td>\n      <td>GJB2</td>\n      <td>0.032</td>\n    </tr>\n    <tr>\n      <th>4484</th>\n      <td>V144I</td>\n      <td>GJB2</td>\n      <td>0.030</td>\n    </tr>\n    <tr>\n      <th>4485</th>\n      <td>G4S</td>\n      <td>GJB2</td>\n      <td>0.025</td>\n    </tr>\n  </tbody>\n</table>\n<p>3693 rows × 3 columns</p>\n</div>"
     },
     "execution_count": 25,
     "metadata": {},
     "output_type": "execute_result"
    }
   ],
   "source": [
    "VEST4_predictions = pd.read_csv(\"C:\\\\Users\\\\InbarBlech\\\\PycharmProjects\\\\Thesis\\\\benchmarking\\\\VEST4\\\\all_vest4_predictions.csv\")\n",
    "# Remove VUS variants\n",
    "VEST4_predictions[\"VEST_score\"] = pd.to_numeric(VEST4_predictions['VEST_score'], errors='coerce')\n",
    "# Remove rows with revel score: 0.29 < revel score < 0.644\n",
    "VEST4_VUS = VEST4_predictions[(VEST4_predictions[\"VEST_score\"] < 0.764) & (VEST4_predictions[\"VEST_score\"] >= 0.449)]\n",
    "VEST4_predictions = VEST4_predictions[(VEST4_predictions[\"VEST_score\"] >= 0.764) | (VEST4_predictions[\"VEST_score\"] <= 0.449)]\n",
    "VEST4_predictions"
   ],
   "metadata": {
    "collapsed": false,
    "ExecuteTime": {
     "end_time": "2023-11-23T11:41:38.688647700Z",
     "start_time": "2023-11-23T11:41:38.604481700Z"
    }
   },
   "id": "bd5874f829883794"
  },
  {
   "cell_type": "code",
   "execution_count": 26,
   "outputs": [
    {
     "name": "stdout",
     "output_type": "stream",
     "text": [
      "['SLC26A4' 'COL2A1' 'COL4A5' 'COL4A3' 'FGFR1' 'MYO7A' 'GJB2']\n"
     ]
    }
   ],
   "source": [
    "# print all genes\n",
    "print(VEST4_predictions[\"gene\"].unique())"
   ],
   "metadata": {
    "collapsed": false,
    "ExecuteTime": {
     "end_time": "2023-11-23T11:42:01.492411500Z",
     "start_time": "2023-11-23T11:42:01.460467600Z"
    }
   },
   "id": "d4428779f548882b"
  },
  {
   "cell_type": "code",
   "execution_count": 27,
   "outputs": [
    {
     "data": {
      "text/plain": "     variant     gene  VEST_score  VEST_pathogenicity\n0        G6S  SLC26A4       0.104                   0\n1       M21V  SLC26A4       0.037                   0\n2       A51T  SLC26A4       0.188                   0\n3       C53G  SLC26A4       0.062                   0\n5      A180T  SLC26A4       0.177                   0\n...      ...      ...         ...                 ...\n4481   T123S     GJB2       0.036                   0\n4482   T123N     GJB2       0.033                   0\n4483   V207I     GJB2       0.032                   0\n4484   V144I     GJB2       0.030                   0\n4485     G4S     GJB2       0.025                   0\n\n[3693 rows x 4 columns]",
      "text/html": "<div>\n<style scoped>\n    .dataframe tbody tr th:only-of-type {\n        vertical-align: middle;\n    }\n\n    .dataframe tbody tr th {\n        vertical-align: top;\n    }\n\n    .dataframe thead th {\n        text-align: right;\n    }\n</style>\n<table border=\"1\" class=\"dataframe\">\n  <thead>\n    <tr style=\"text-align: right;\">\n      <th></th>\n      <th>variant</th>\n      <th>gene</th>\n      <th>VEST_score</th>\n      <th>VEST_pathogenicity</th>\n    </tr>\n  </thead>\n  <tbody>\n    <tr>\n      <th>0</th>\n      <td>G6S</td>\n      <td>SLC26A4</td>\n      <td>0.104</td>\n      <td>0</td>\n    </tr>\n    <tr>\n      <th>1</th>\n      <td>M21V</td>\n      <td>SLC26A4</td>\n      <td>0.037</td>\n      <td>0</td>\n    </tr>\n    <tr>\n      <th>2</th>\n      <td>A51T</td>\n      <td>SLC26A4</td>\n      <td>0.188</td>\n      <td>0</td>\n    </tr>\n    <tr>\n      <th>3</th>\n      <td>C53G</td>\n      <td>SLC26A4</td>\n      <td>0.062</td>\n      <td>0</td>\n    </tr>\n    <tr>\n      <th>5</th>\n      <td>A180T</td>\n      <td>SLC26A4</td>\n      <td>0.177</td>\n      <td>0</td>\n    </tr>\n    <tr>\n      <th>...</th>\n      <td>...</td>\n      <td>...</td>\n      <td>...</td>\n      <td>...</td>\n    </tr>\n    <tr>\n      <th>4481</th>\n      <td>T123S</td>\n      <td>GJB2</td>\n      <td>0.036</td>\n      <td>0</td>\n    </tr>\n    <tr>\n      <th>4482</th>\n      <td>T123N</td>\n      <td>GJB2</td>\n      <td>0.033</td>\n      <td>0</td>\n    </tr>\n    <tr>\n      <th>4483</th>\n      <td>V207I</td>\n      <td>GJB2</td>\n      <td>0.032</td>\n      <td>0</td>\n    </tr>\n    <tr>\n      <th>4484</th>\n      <td>V144I</td>\n      <td>GJB2</td>\n      <td>0.030</td>\n      <td>0</td>\n    </tr>\n    <tr>\n      <th>4485</th>\n      <td>G4S</td>\n      <td>GJB2</td>\n      <td>0.025</td>\n      <td>0</td>\n    </tr>\n  </tbody>\n</table>\n<p>3693 rows × 4 columns</p>\n</div>"
     },
     "execution_count": 27,
     "metadata": {},
     "output_type": "execute_result"
    }
   ],
   "source": [
    "# Add benign or pathogenic label to each variant, according to the VEST4 score.\n",
    "VEST4_predictions[\"VEST_pathogenicity\"] = VEST4_predictions[\"VEST_score\"].apply(lambda x: 1 if x >= 0.764 else 0)\n",
    "VEST4_predictions"
   ],
   "metadata": {
    "collapsed": false,
    "ExecuteTime": {
     "end_time": "2023-11-23T11:42:29.334296Z",
     "start_time": "2023-11-23T11:42:29.304489100Z"
    }
   },
   "id": "a80951d2050468bf"
  },
  {
   "cell_type": "code",
   "execution_count": 28,
   "outputs": [
    {
     "name": "stdout",
     "output_type": "stream",
     "text": [
      "Number of pathogenic variants in VEST4: 1767\n",
      "Number of benign variants in MutPred: 1926\n"
     ]
    }
   ],
   "source": [
    "# print how many pathogenic and benign variants are in the EVE file\n",
    "print(f\"Number of pathogenic variants in VEST4: {len(VEST4_predictions[VEST4_predictions['VEST_pathogenicity'] == 1])}\")\n",
    "print(f\"Number of benign variants in MutPred: {len(VEST4_predictions[VEST4_predictions['VEST_pathogenicity'] == 0])}\")"
   ],
   "metadata": {
    "collapsed": false,
    "ExecuteTime": {
     "end_time": "2023-11-23T11:42:38.874729700Z",
     "start_time": "2023-11-23T11:42:38.827740500Z"
    }
   },
   "id": "870466d52706ef44"
  },
  {
   "cell_type": "code",
   "execution_count": 29,
   "outputs": [
    {
     "data": {
      "text/plain": "Empty DataFrame\nColumns: [variant, gene, VEST_score, VEST_pathogenicity]\nIndex: []",
      "text/html": "<div>\n<style scoped>\n    .dataframe tbody tr th:only-of-type {\n        vertical-align: middle;\n    }\n\n    .dataframe tbody tr th {\n        vertical-align: top;\n    }\n\n    .dataframe thead th {\n        text-align: right;\n    }\n</style>\n<table border=\"1\" class=\"dataframe\">\n  <thead>\n    <tr style=\"text-align: right;\">\n      <th></th>\n      <th>variant</th>\n      <th>gene</th>\n      <th>VEST_score</th>\n      <th>VEST_pathogenicity</th>\n    </tr>\n  </thead>\n  <tbody>\n  </tbody>\n</table>\n</div>"
     },
     "execution_count": 29,
     "metadata": {},
     "output_type": "execute_result"
    }
   ],
   "source": [
    "# print all the rows with nan\n",
    "VEST4_predictions[VEST4_predictions.isna().any(axis=1)]\n",
    "### None of the rows have nan values."
   ],
   "metadata": {
    "collapsed": false,
    "ExecuteTime": {
     "end_time": "2023-11-23T11:42:42.406102700Z",
     "start_time": "2023-11-23T11:42:42.374370500Z"
    }
   },
   "id": "251c791b7503161d"
  },
  {
   "cell_type": "code",
   "execution_count": 7,
   "outputs": [],
   "source": [
    "# Save VEST4_predictions to csv\n",
    "# VEST4_predictions.to_csv(\"C:\\\\Users\\\\InbarBlech\\\\PycharmProjects\\\\Thesis\\\\benchmarking\\\\VEST4\\\\VEST4_predictions_no_VUS.csv\")"
   ],
   "metadata": {
    "collapsed": false
   },
   "id": "dc1b584b3840df38"
  },
  {
   "cell_type": "code",
   "execution_count": 30,
   "outputs": [
    {
     "name": "stdout",
     "output_type": "stream",
     "text": [
      "length of revel without VUS 3693\n",
      "length of revel VUS 797\n"
     ]
    }
   ],
   "source": [
    "print(f\"length of revel without VUS {len(VEST4_predictions)}\")\n",
    "print(f\"length of revel VUS {len(VEST4_VUS)}\")"
   ],
   "metadata": {
    "collapsed": false,
    "ExecuteTime": {
     "end_time": "2023-11-23T11:43:41.170757700Z",
     "start_time": "2023-11-23T11:43:41.143042300Z"
    }
   },
   "id": "1f890ddcf3e91477"
  },
  {
   "cell_type": "code",
   "execution_count": 31,
   "outputs": [
    {
     "data": {
      "text/plain": "     variant  prediction  reality    gene\n0        M1R           0        0  COL2A1\n1        I2A           0        0  COL2A1\n2        I2L           0        0  COL2A1\n3        I2P           0        0  COL2A1\n4        I2T           0        0  COL2A1\n...      ...         ...      ...     ...\n4799   Y217F           0        0    GJB2\n4800   G220A           0        0    GJB2\n4801   G220K           0        0    GJB2\n4802   K221R           0        0    GJB2\n4803   K223R           0        0    GJB2\n\n[4804 rows x 4 columns]",
      "text/html": "<div>\n<style scoped>\n    .dataframe tbody tr th:only-of-type {\n        vertical-align: middle;\n    }\n\n    .dataframe tbody tr th {\n        vertical-align: top;\n    }\n\n    .dataframe thead th {\n        text-align: right;\n    }\n</style>\n<table border=\"1\" class=\"dataframe\">\n  <thead>\n    <tr style=\"text-align: right;\">\n      <th></th>\n      <th>variant</th>\n      <th>prediction</th>\n      <th>reality</th>\n      <th>gene</th>\n    </tr>\n  </thead>\n  <tbody>\n    <tr>\n      <th>0</th>\n      <td>M1R</td>\n      <td>0</td>\n      <td>0</td>\n      <td>COL2A1</td>\n    </tr>\n    <tr>\n      <th>1</th>\n      <td>I2A</td>\n      <td>0</td>\n      <td>0</td>\n      <td>COL2A1</td>\n    </tr>\n    <tr>\n      <th>2</th>\n      <td>I2L</td>\n      <td>0</td>\n      <td>0</td>\n      <td>COL2A1</td>\n    </tr>\n    <tr>\n      <th>3</th>\n      <td>I2P</td>\n      <td>0</td>\n      <td>0</td>\n      <td>COL2A1</td>\n    </tr>\n    <tr>\n      <th>4</th>\n      <td>I2T</td>\n      <td>0</td>\n      <td>0</td>\n      <td>COL2A1</td>\n    </tr>\n    <tr>\n      <th>...</th>\n      <td>...</td>\n      <td>...</td>\n      <td>...</td>\n      <td>...</td>\n    </tr>\n    <tr>\n      <th>4799</th>\n      <td>Y217F</td>\n      <td>0</td>\n      <td>0</td>\n      <td>GJB2</td>\n    </tr>\n    <tr>\n      <th>4800</th>\n      <td>G220A</td>\n      <td>0</td>\n      <td>0</td>\n      <td>GJB2</td>\n    </tr>\n    <tr>\n      <th>4801</th>\n      <td>G220K</td>\n      <td>0</td>\n      <td>0</td>\n      <td>GJB2</td>\n    </tr>\n    <tr>\n      <th>4802</th>\n      <td>K221R</td>\n      <td>0</td>\n      <td>0</td>\n      <td>GJB2</td>\n    </tr>\n    <tr>\n      <th>4803</th>\n      <td>K223R</td>\n      <td>0</td>\n      <td>0</td>\n      <td>GJB2</td>\n    </tr>\n  </tbody>\n</table>\n<p>4804 rows × 4 columns</p>\n</div>"
     },
     "execution_count": 31,
     "metadata": {},
     "output_type": "execute_result"
    }
   ],
   "source": [
    "# Combine the prediction files into one file\n",
    "my_prediction = pd.read_csv(\"C:\\\\Users\\\\InbarBlech\\\\PycharmProjects\\\\Thesis\\\\predictions_vs_real\\\\predictions_vs_real_with_variant_all_genes_updated_221123.csv\")\n",
    "my_prediction"
   ],
   "metadata": {
    "collapsed": false,
    "ExecuteTime": {
     "end_time": "2023-11-23T11:44:29.466824200Z",
     "start_time": "2023-11-23T11:44:29.422240800Z"
    }
   },
   "id": "dae07953cecae426"
  },
  {
   "cell_type": "code",
   "execution_count": 32,
   "outputs": [
    {
     "data": {
      "text/plain": "     variant  prediction  reality    gene  VEST_score  VEST_pathogenicity\n0        M1R           0        0  COL2A1       0.905                   1\n1        I2A           0        0  COL2A1       0.195                   0\n2        I2L           0        0  COL2A1       0.244                   0\n3        I2P           0        0  COL2A1       0.352                   0\n4        I2T           0        0  COL2A1       0.116                   0\n...      ...         ...      ...     ...         ...                 ...\n3728   Y217F           0        0    GJB2       0.120                   0\n3729   G220A           0        0    GJB2       0.237                   0\n3730   G220K           0        0    GJB2       0.191                   0\n3731   K221R           0        0    GJB2       0.101                   0\n3732   K223R           0        0    GJB2       0.062                   0\n\n[3733 rows x 6 columns]",
      "text/html": "<div>\n<style scoped>\n    .dataframe tbody tr th:only-of-type {\n        vertical-align: middle;\n    }\n\n    .dataframe tbody tr th {\n        vertical-align: top;\n    }\n\n    .dataframe thead th {\n        text-align: right;\n    }\n</style>\n<table border=\"1\" class=\"dataframe\">\n  <thead>\n    <tr style=\"text-align: right;\">\n      <th></th>\n      <th>variant</th>\n      <th>prediction</th>\n      <th>reality</th>\n      <th>gene</th>\n      <th>VEST_score</th>\n      <th>VEST_pathogenicity</th>\n    </tr>\n  </thead>\n  <tbody>\n    <tr>\n      <th>0</th>\n      <td>M1R</td>\n      <td>0</td>\n      <td>0</td>\n      <td>COL2A1</td>\n      <td>0.905</td>\n      <td>1</td>\n    </tr>\n    <tr>\n      <th>1</th>\n      <td>I2A</td>\n      <td>0</td>\n      <td>0</td>\n      <td>COL2A1</td>\n      <td>0.195</td>\n      <td>0</td>\n    </tr>\n    <tr>\n      <th>2</th>\n      <td>I2L</td>\n      <td>0</td>\n      <td>0</td>\n      <td>COL2A1</td>\n      <td>0.244</td>\n      <td>0</td>\n    </tr>\n    <tr>\n      <th>3</th>\n      <td>I2P</td>\n      <td>0</td>\n      <td>0</td>\n      <td>COL2A1</td>\n      <td>0.352</td>\n      <td>0</td>\n    </tr>\n    <tr>\n      <th>4</th>\n      <td>I2T</td>\n      <td>0</td>\n      <td>0</td>\n      <td>COL2A1</td>\n      <td>0.116</td>\n      <td>0</td>\n    </tr>\n    <tr>\n      <th>...</th>\n      <td>...</td>\n      <td>...</td>\n      <td>...</td>\n      <td>...</td>\n      <td>...</td>\n      <td>...</td>\n    </tr>\n    <tr>\n      <th>3728</th>\n      <td>Y217F</td>\n      <td>0</td>\n      <td>0</td>\n      <td>GJB2</td>\n      <td>0.120</td>\n      <td>0</td>\n    </tr>\n    <tr>\n      <th>3729</th>\n      <td>G220A</td>\n      <td>0</td>\n      <td>0</td>\n      <td>GJB2</td>\n      <td>0.237</td>\n      <td>0</td>\n    </tr>\n    <tr>\n      <th>3730</th>\n      <td>G220K</td>\n      <td>0</td>\n      <td>0</td>\n      <td>GJB2</td>\n      <td>0.191</td>\n      <td>0</td>\n    </tr>\n    <tr>\n      <th>3731</th>\n      <td>K221R</td>\n      <td>0</td>\n      <td>0</td>\n      <td>GJB2</td>\n      <td>0.101</td>\n      <td>0</td>\n    </tr>\n    <tr>\n      <th>3732</th>\n      <td>K223R</td>\n      <td>0</td>\n      <td>0</td>\n      <td>GJB2</td>\n      <td>0.062</td>\n      <td>0</td>\n    </tr>\n  </tbody>\n</table>\n<p>3733 rows × 6 columns</p>\n</div>"
     },
     "execution_count": 32,
     "metadata": {},
     "output_type": "execute_result"
    }
   ],
   "source": [
    "# Merge the two files\n",
    "merged = pd.merge(my_prediction, VEST4_predictions, on=[\"gene\", \"variant\"])\n",
    "merged"
   ],
   "metadata": {
    "collapsed": false,
    "ExecuteTime": {
     "end_time": "2023-11-23T11:44:29.640752200Z",
     "start_time": "2023-11-23T11:44:29.593439300Z"
    }
   },
   "id": "91efd1e4f5fea402"
  },
  {
   "cell_type": "code",
   "execution_count": 33,
   "outputs": [],
   "source": [
    "# To make sure that all tools will be tested on the same variants, save the merged with REVEL file and do so for all other tools. Then merge all the files together.\n",
    "merged_only_VEST4_columns = merged[['gene', 'variant', 'VEST_score', 'VEST_pathogenicity']]\n",
    "merged_only_VEST4_columns.to_csv(\"C:\\\\Users\\\\InbarBlech\\\\PycharmProjects\\\\Thesis\\\\benchmarking\\\\VEST_on_dvd_data_predictions_LOPO.csv\")"
   ],
   "metadata": {
    "collapsed": false,
    "ExecuteTime": {
     "end_time": "2023-11-23T11:44:56.597073700Z",
     "start_time": "2023-11-23T11:44:56.534194700Z"
    }
   },
   "id": "fa453f4906e5d330"
  },
  {
   "cell_type": "code",
   "execution_count": 34,
   "outputs": [
    {
     "name": "stdout",
     "output_type": "stream",
     "text": [
      "length of merged 3733\n",
      "length of my_prediction 4804\n",
      "length of vest4 3693\n"
     ]
    }
   ],
   "source": [
    "print(f\"length of merged {len(merged)}\")\n",
    "print(f\"length of my_prediction {len(my_prediction)}\")\n",
    "print(f\"length of vest4 {len(VEST4_predictions)}\")"
   ],
   "metadata": {
    "collapsed": false,
    "ExecuteTime": {
     "end_time": "2023-11-23T11:44:57.913157900Z",
     "start_time": "2023-11-23T11:44:57.868879900Z"
    }
   },
   "id": "132eb6a57eb26b7a"
  },
  {
   "cell_type": "code",
   "execution_count": 13,
   "outputs": [],
   "source": [
    "# # Save the merged file to csv\n",
    "# merged.to_csv(\"C:\\\\Users\\\\InbarBlech\\\\PycharmProjects\\\\Thesis\\\\predictions_vs_real\\\\merged_my_prediction_and_mutpred.csv\", index=False)"
   ],
   "metadata": {
    "collapsed": false,
    "ExecuteTime": {
     "end_time": "2023-11-14T15:05:40.597432400Z",
     "start_time": "2023-11-14T15:05:40.377657100Z"
    }
   },
   "id": "bba96a0938e5adc7"
  },
  {
   "cell_type": "code",
   "execution_count": 14,
   "outputs": [],
   "source": [
    "#############################################################################################################\n",
    "# All next rows were used to calculate the MCC, before realised I must apply first the threshold and remove the VUS variants. Now all these rows aren't in use, since I'm doing the calculations after removing the VUS variants and with all tools together.\n",
    "#############################################################################################################"
   ],
   "metadata": {
    "collapsed": false,
    "ExecuteTime": {
     "end_time": "2023-11-14T15:05:40.597432400Z",
     "start_time": "2023-11-14T15:05:40.393177600Z"
    }
   },
   "id": "8aeff24499e69b12"
  },
  {
   "cell_type": "code",
   "execution_count": 15,
   "outputs": [],
   "source": [
    "## Calculate the MCC for the mutpred predictions, according to the real pathogenicity (0 or 1)\n",
    "from sklearn.metrics import matthews_corrcoef"
   ],
   "metadata": {
    "collapsed": false,
    "ExecuteTime": {
     "end_time": "2023-11-14T15:05:41.421526900Z",
     "start_time": "2023-11-14T15:05:40.408809200Z"
    }
   },
   "id": "57a3d8604bb08730"
  },
  {
   "cell_type": "code",
   "execution_count": 16,
   "outputs": [
    {
     "name": "stdout",
     "output_type": "stream",
     "text": [
      "Number of genes: 6\n"
     ]
    }
   ],
   "source": [
    "# separate the merged dataframe according to gene\n",
    "genes = merged[\"gene\"].unique()\n",
    "print(f\"Number of genes: {len(genes)}\")"
   ],
   "metadata": {
    "collapsed": false,
    "ExecuteTime": {
     "end_time": "2023-11-14T15:05:41.421526900Z",
     "start_time": "2023-11-14T15:05:41.338820Z"
    }
   },
   "id": "82b8979a837034b9"
  },
  {
   "cell_type": "code",
   "execution_count": 17,
   "outputs": [
    {
     "name": "stdout",
     "output_type": "stream",
     "text": [
      "MCCs of VEST4 predictions for each gene:\n",
      "SLC26A4: 0.8877453966975621\n",
      "FGFR1: 0.7315749764637576\n",
      "COL2A1: 0.8896864408552987\n",
      "COL4A5: 0.9578736572324906\n",
      "MYO7A: 0.5764098969871279\n",
      "COL4A3: 0.8042819314699176\n"
     ]
    },
    {
     "name": "stderr",
     "output_type": "stream",
     "text": [
      "C:\\Users\\InbarBlech\\AppData\\Local\\Temp\\ipykernel_24500\\3341431338.py:13: SettingWithCopyWarning: \n",
      "A value is trying to be set on a copy of a slice from a DataFrame.\n",
      "Try using .loc[row_indexer,col_indexer] = value instead\n",
      "\n",
      "See the caveats in the documentation: https://pandas.pydata.org/pandas-docs/stable/user_guide/indexing.html#returning-a-view-versus-a-copy\n",
      "  gene_df.loc[:, 'binary_prediction_VEST4'] = (gene_df['VEST_score'] > 0.764).astype(int)\n",
      "C:\\Users\\InbarBlech\\AppData\\Local\\Temp\\ipykernel_24500\\3341431338.py:15: SettingWithCopyWarning: \n",
      "A value is trying to be set on a copy of a slice from a DataFrame.\n",
      "Try using .loc[row_indexer,col_indexer] = value instead\n",
      "\n",
      "See the caveats in the documentation: https://pandas.pydata.org/pandas-docs/stable/user_guide/indexing.html#returning-a-view-versus-a-copy\n",
      "  gene_df['pathogenicity'] = gene_df['pathogenicity'].astype(int)\n",
      "C:\\Users\\InbarBlech\\AppData\\Local\\Temp\\ipykernel_24500\\3341431338.py:13: SettingWithCopyWarning: \n",
      "A value is trying to be set on a copy of a slice from a DataFrame.\n",
      "Try using .loc[row_indexer,col_indexer] = value instead\n",
      "\n",
      "See the caveats in the documentation: https://pandas.pydata.org/pandas-docs/stable/user_guide/indexing.html#returning-a-view-versus-a-copy\n",
      "  gene_df.loc[:, 'binary_prediction_VEST4'] = (gene_df['VEST_score'] > 0.764).astype(int)\n",
      "C:\\Users\\InbarBlech\\AppData\\Local\\Temp\\ipykernel_24500\\3341431338.py:15: SettingWithCopyWarning: \n",
      "A value is trying to be set on a copy of a slice from a DataFrame.\n",
      "Try using .loc[row_indexer,col_indexer] = value instead\n",
      "\n",
      "See the caveats in the documentation: https://pandas.pydata.org/pandas-docs/stable/user_guide/indexing.html#returning-a-view-versus-a-copy\n",
      "  gene_df['pathogenicity'] = gene_df['pathogenicity'].astype(int)\n",
      "C:\\Users\\InbarBlech\\AppData\\Local\\Temp\\ipykernel_24500\\3341431338.py:13: SettingWithCopyWarning: \n",
      "A value is trying to be set on a copy of a slice from a DataFrame.\n",
      "Try using .loc[row_indexer,col_indexer] = value instead\n",
      "\n",
      "See the caveats in the documentation: https://pandas.pydata.org/pandas-docs/stable/user_guide/indexing.html#returning-a-view-versus-a-copy\n",
      "  gene_df.loc[:, 'binary_prediction_VEST4'] = (gene_df['VEST_score'] > 0.764).astype(int)\n",
      "C:\\Users\\InbarBlech\\AppData\\Local\\Temp\\ipykernel_24500\\3341431338.py:15: SettingWithCopyWarning: \n",
      "A value is trying to be set on a copy of a slice from a DataFrame.\n",
      "Try using .loc[row_indexer,col_indexer] = value instead\n",
      "\n",
      "See the caveats in the documentation: https://pandas.pydata.org/pandas-docs/stable/user_guide/indexing.html#returning-a-view-versus-a-copy\n",
      "  gene_df['pathogenicity'] = gene_df['pathogenicity'].astype(int)\n",
      "C:\\Users\\InbarBlech\\AppData\\Local\\Temp\\ipykernel_24500\\3341431338.py:13: SettingWithCopyWarning: \n",
      "A value is trying to be set on a copy of a slice from a DataFrame.\n",
      "Try using .loc[row_indexer,col_indexer] = value instead\n",
      "\n",
      "See the caveats in the documentation: https://pandas.pydata.org/pandas-docs/stable/user_guide/indexing.html#returning-a-view-versus-a-copy\n",
      "  gene_df.loc[:, 'binary_prediction_VEST4'] = (gene_df['VEST_score'] > 0.764).astype(int)\n",
      "C:\\Users\\InbarBlech\\AppData\\Local\\Temp\\ipykernel_24500\\3341431338.py:15: SettingWithCopyWarning: \n",
      "A value is trying to be set on a copy of a slice from a DataFrame.\n",
      "Try using .loc[row_indexer,col_indexer] = value instead\n",
      "\n",
      "See the caveats in the documentation: https://pandas.pydata.org/pandas-docs/stable/user_guide/indexing.html#returning-a-view-versus-a-copy\n",
      "  gene_df['pathogenicity'] = gene_df['pathogenicity'].astype(int)\n",
      "C:\\Users\\InbarBlech\\AppData\\Local\\Temp\\ipykernel_24500\\3341431338.py:13: SettingWithCopyWarning: \n",
      "A value is trying to be set on a copy of a slice from a DataFrame.\n",
      "Try using .loc[row_indexer,col_indexer] = value instead\n",
      "\n",
      "See the caveats in the documentation: https://pandas.pydata.org/pandas-docs/stable/user_guide/indexing.html#returning-a-view-versus-a-copy\n",
      "  gene_df.loc[:, 'binary_prediction_VEST4'] = (gene_df['VEST_score'] > 0.764).astype(int)\n",
      "C:\\Users\\InbarBlech\\AppData\\Local\\Temp\\ipykernel_24500\\3341431338.py:15: SettingWithCopyWarning: \n",
      "A value is trying to be set on a copy of a slice from a DataFrame.\n",
      "Try using .loc[row_indexer,col_indexer] = value instead\n",
      "\n",
      "See the caveats in the documentation: https://pandas.pydata.org/pandas-docs/stable/user_guide/indexing.html#returning-a-view-versus-a-copy\n",
      "  gene_df['pathogenicity'] = gene_df['pathogenicity'].astype(int)\n",
      "C:\\Users\\InbarBlech\\AppData\\Local\\Temp\\ipykernel_24500\\3341431338.py:13: SettingWithCopyWarning: \n",
      "A value is trying to be set on a copy of a slice from a DataFrame.\n",
      "Try using .loc[row_indexer,col_indexer] = value instead\n",
      "\n",
      "See the caveats in the documentation: https://pandas.pydata.org/pandas-docs/stable/user_guide/indexing.html#returning-a-view-versus-a-copy\n",
      "  gene_df.loc[:, 'binary_prediction_VEST4'] = (gene_df['VEST_score'] > 0.764).astype(int)\n",
      "C:\\Users\\InbarBlech\\AppData\\Local\\Temp\\ipykernel_24500\\3341431338.py:15: SettingWithCopyWarning: \n",
      "A value is trying to be set on a copy of a slice from a DataFrame.\n",
      "Try using .loc[row_indexer,col_indexer] = value instead\n",
      "\n",
      "See the caveats in the documentation: https://pandas.pydata.org/pandas-docs/stable/user_guide/indexing.html#returning-a-view-versus-a-copy\n",
      "  gene_df['pathogenicity'] = gene_df['pathogenicity'].astype(int)\n"
     ]
    }
   ],
   "source": [
    "# Calculate MCC for each gene specific predictor for mutpred\n",
    "\n",
    "# Build dictionary with gene names as keys.\n",
    "mccs = {gene: 0 for gene in genes}\n",
    "\n",
    "merged['VEST_score'] = merged['VEST_score'].astype(float)\n",
    "\n",
    "for gene in genes:\n",
    "    gene_df = merged[merged[\"gene\"] == gene]\n",
    "    # change VEST score to float\n",
    "    # Assuming you have a DataFrame called 'data' with 'prediction' and 'MutPred_score' columns\n",
    "    # Create binary predictions based on the 0.5 threshold\n",
    "    gene_df.loc[:, 'binary_prediction_VEST4'] = (gene_df['VEST_score'] > 0.764).astype(int)\n",
    "    \n",
    "    gene_df['pathogenicity'] = gene_df['pathogenicity'].astype(int)\n",
    "    \n",
    "    # Calculate MCC\n",
    "    mcc = matthews_corrcoef(gene_df['pathogenicity'], gene_df['binary_prediction_VEST4'])\n",
    "    \n",
    "    # Get gene name for the use for the dictionary\n",
    "    gene = gene_df['gene'].unique()[0]\n",
    "    \n",
    "    # Append mcc to dictionary\n",
    "    mccs[gene] = mcc\n",
    "\n",
    "print(\"MCCs of VEST4 predictions for each gene:\")\n",
    "for gene in mccs:\n",
    "    print(f\"{gene}: {mccs[gene]}\")"
   ],
   "metadata": {
    "collapsed": false,
    "ExecuteTime": {
     "end_time": "2023-11-14T15:05:41.421526900Z",
     "start_time": "2023-11-14T15:05:41.349477900Z"
    }
   },
   "id": "e1c262aca9c06880"
  },
  {
   "cell_type": "code",
   "execution_count": 18,
   "outputs": [
    {
     "name": "stdout",
     "output_type": "stream",
     "text": [
      "Results of VEST4 predictions for each gene:\n",
      "SLC26A4: {'roc_auc': 0.9666724376731299, 'auc': 0.9666724376731299, 'pr_auc': 0.9862471167874429, 'f1': 0.9758241758241758, 'logloss': 0.18240817560180683, 'confusion_matrix': array([[ 71,   5],\n",
      "       [  6, 222]], dtype=int64)}\n",
      "FGFR1: {'roc_auc': 0.948674297305129, 'auc': 0.948674297305129, 'pr_auc': 0.8777934347036447, 'f1': 0.8172043010752686, 'logloss': 0.47658369472864753, 'confusion_matrix': array([[189,  49],\n",
      "       [  2, 114]], dtype=int64)}\n",
      "COL2A1: {'roc_auc': 0.991268115942029, 'auc': 0.991268115942029, 'pr_auc': 0.9821705636525003, 'f1': 0.9280821917808219, 'logloss': 0.2891593764899346, 'confusion_matrix': array([[514,  38],\n",
      "       [  4, 271]], dtype=int64)}\n",
      "COL4A5: {'roc_auc': 0.9944981316840613, 'auc': 0.9944981316840613, 'pr_auc': 0.9973909854963336, 'f1': 0.9862327909887358, 'logloss': 0.13979559700576102, 'confusion_matrix': array([[188,   7],\n",
      "       [  4, 394]], dtype=int64)}\n",
      "MYO7A: {'roc_auc': 0.9436705931078169, 'auc': 0.9436705931078169, 'pr_auc': 0.775258018924907, 'f1': 0.6230636833046471, 'logloss': 0.6489318961918462, 'confusion_matrix': array([[665, 213],\n",
      "       [  6, 181]], dtype=int64)}\n",
      "COL4A3: {'roc_auc': 0.9655172413793104, 'auc': 0.9655172413793104, 'pr_auc': 0.947844455436762, 'f1': 0.872, 'logloss': 0.31768418063525466, 'confusion_matrix': array([[209,  23],\n",
      "       [  9, 109]], dtype=int64)}\n"
     ]
    },
    {
     "name": "stderr",
     "output_type": "stream",
     "text": [
      "C:\\Users\\InbarBlech\\AppData\\Local\\Temp\\ipykernel_24500\\3590116885.py:9: SettingWithCopyWarning: \n",
      "A value is trying to be set on a copy of a slice from a DataFrame.\n",
      "Try using .loc[row_indexer,col_indexer] = value instead\n",
      "\n",
      "See the caveats in the documentation: https://pandas.pydata.org/pandas-docs/stable/user_guide/indexing.html#returning-a-view-versus-a-copy\n",
      "  gene_df.loc[:, 'binary_prediction_VEST4'] = (gene_df['VEST_score'] > 0.5).astype(int)\n",
      "C:\\Users\\InbarBlech\\AppData\\Local\\Temp\\ipykernel_24500\\3590116885.py:9: SettingWithCopyWarning: \n",
      "A value is trying to be set on a copy of a slice from a DataFrame.\n",
      "Try using .loc[row_indexer,col_indexer] = value instead\n",
      "\n",
      "See the caveats in the documentation: https://pandas.pydata.org/pandas-docs/stable/user_guide/indexing.html#returning-a-view-versus-a-copy\n",
      "  gene_df.loc[:, 'binary_prediction_VEST4'] = (gene_df['VEST_score'] > 0.5).astype(int)\n",
      "C:\\Users\\InbarBlech\\AppData\\Local\\Temp\\ipykernel_24500\\3590116885.py:9: SettingWithCopyWarning: \n",
      "A value is trying to be set on a copy of a slice from a DataFrame.\n",
      "Try using .loc[row_indexer,col_indexer] = value instead\n",
      "\n",
      "See the caveats in the documentation: https://pandas.pydata.org/pandas-docs/stable/user_guide/indexing.html#returning-a-view-versus-a-copy\n",
      "  gene_df.loc[:, 'binary_prediction_VEST4'] = (gene_df['VEST_score'] > 0.5).astype(int)\n",
      "C:\\Users\\InbarBlech\\AppData\\Local\\Temp\\ipykernel_24500\\3590116885.py:9: SettingWithCopyWarning: \n",
      "A value is trying to be set on a copy of a slice from a DataFrame.\n",
      "Try using .loc[row_indexer,col_indexer] = value instead\n",
      "\n",
      "See the caveats in the documentation: https://pandas.pydata.org/pandas-docs/stable/user_guide/indexing.html#returning-a-view-versus-a-copy\n",
      "  gene_df.loc[:, 'binary_prediction_VEST4'] = (gene_df['VEST_score'] > 0.5).astype(int)\n",
      "C:\\Users\\InbarBlech\\AppData\\Local\\Temp\\ipykernel_24500\\3590116885.py:9: SettingWithCopyWarning: \n",
      "A value is trying to be set on a copy of a slice from a DataFrame.\n",
      "Try using .loc[row_indexer,col_indexer] = value instead\n",
      "\n",
      "See the caveats in the documentation: https://pandas.pydata.org/pandas-docs/stable/user_guide/indexing.html#returning-a-view-versus-a-copy\n",
      "  gene_df.loc[:, 'binary_prediction_VEST4'] = (gene_df['VEST_score'] > 0.5).astype(int)\n",
      "C:\\Users\\InbarBlech\\AppData\\Local\\Temp\\ipykernel_24500\\3590116885.py:9: SettingWithCopyWarning: \n",
      "A value is trying to be set on a copy of a slice from a DataFrame.\n",
      "Try using .loc[row_indexer,col_indexer] = value instead\n",
      "\n",
      "See the caveats in the documentation: https://pandas.pydata.org/pandas-docs/stable/user_guide/indexing.html#returning-a-view-versus-a-copy\n",
      "  gene_df.loc[:, 'binary_prediction_VEST4'] = (gene_df['VEST_score'] > 0.5).astype(int)\n"
     ]
    }
   ],
   "source": [
    "from sklearn.metrics import roc_auc_score, roc_curve, auc, precision_recall_curve, average_precision_score, f1_score, log_loss, confusion_matrix\n",
    "# store the results in a dictionary\n",
    "results = {gene: 0 for gene in genes}\n",
    "\n",
    "for gene in genes:\n",
    "    gene_df = merged[merged[\"gene\"] == gene]\n",
    "    y_true = gene_df[\"pathogenicity\"].astype(int)\n",
    "    predicted_probabilities = gene_df[\"VEST_score\"]\n",
    "    gene_df.loc[:, 'binary_prediction_VEST4'] = (gene_df['VEST_score'] > 0.5).astype(int)\n",
    "    predicted_labels = gene_df[\"binary_prediction_VEST4\"]\n",
    "    \n",
    "    results_gene = {}\n",
    "    # Calculate AUC-ROC\n",
    "    roc_auc = roc_auc_score(y_true, predicted_probabilities)\n",
    "    # append to dictionary\n",
    "    results_gene[\"roc_auc\"] = roc_auc\n",
    "    \n",
    "    # Calculate ROC curve\n",
    "    fpr, tpr, thresholds = roc_curve(y_true, predicted_probabilities)\n",
    "    roc_auc = auc(fpr, tpr)\n",
    "    # append to dictionary\n",
    "    results_gene[\"auc\"] = roc_auc\n",
    "    \n",
    "    # Calculate AUC-PR\n",
    "    precision, recall, _ = precision_recall_curve(y_true, predicted_probabilities)\n",
    "    pr_auc = auc(recall, precision)\n",
    "    # append to dictionary\n",
    "    results_gene[\"pr_auc\"] = pr_auc\n",
    "    \n",
    "    # Calculate F1 Score\n",
    "    f1 = f1_score(y_true, predicted_labels)\n",
    "    # append to dictionary\n",
    "    results_gene[\"f1\"] = f1\n",
    "    \n",
    "    # Calculate Log Loss\n",
    "    logloss = log_loss(y_true, predicted_probabilities)\n",
    "    # append to dictionary\n",
    "    results_gene[\"logloss\"] = logloss\n",
    "    \n",
    "    # Calculate confusion matrix\n",
    "    conf_matrix = confusion_matrix(y_true, predicted_labels)\n",
    "    # append to dictionary\n",
    "    results_gene[\"confusion_matrix\"] = conf_matrix\n",
    "    \n",
    "    # Get gene name for the use for the dictionary\n",
    "    gene = gene_df['gene'].unique()[0]\n",
    "    # Append results to dictionary\n",
    "    results[gene] = results_gene\n",
    "    \n",
    "## Print results\n",
    "print(\"Results of VEST4 predictions for each gene:\")\n",
    "for gene in results:\n",
    "    print(f\"{gene}: {results[gene]}\")"
   ],
   "metadata": {
    "collapsed": false,
    "ExecuteTime": {
     "end_time": "2023-11-14T15:05:41.673024400Z",
     "start_time": "2023-11-14T15:05:41.405902200Z"
    }
   },
   "id": "bbf1159d32e32f26"
  },
  {
   "cell_type": "code",
   "execution_count": 19,
   "outputs": [
    {
     "ename": "KeyboardInterrupt",
     "evalue": "",
     "output_type": "error",
     "traceback": [
      "\u001B[1;31m---------------------------------------------------------------------------\u001B[0m",
      "\u001B[1;31mKeyboardInterrupt\u001B[0m                         Traceback (most recent call last)",
      "\u001B[1;32m~\\AppData\\Local\\Temp\\ipykernel_24500\\957428583.py\u001B[0m in \u001B[0;36m<module>\u001B[1;34m\u001B[0m\n\u001B[0;32m      1\u001B[0m \u001B[1;31m# present the confusion matrix for each gene\u001B[0m\u001B[1;33m\u001B[0m\u001B[1;33m\u001B[0m\u001B[0m\n\u001B[1;32m----> 2\u001B[1;33m \u001B[1;32mimport\u001B[0m \u001B[0mmatplotlib\u001B[0m\u001B[1;33m.\u001B[0m\u001B[0mpyplot\u001B[0m \u001B[1;32mas\u001B[0m \u001B[0mplt\u001B[0m\u001B[1;33m\u001B[0m\u001B[1;33m\u001B[0m\u001B[0m\n\u001B[0m\u001B[0;32m      3\u001B[0m \u001B[1;33m\u001B[0m\u001B[0m\n\u001B[0;32m      4\u001B[0m \u001B[1;32mfor\u001B[0m \u001B[0mgene\u001B[0m \u001B[1;32min\u001B[0m \u001B[0mresults\u001B[0m\u001B[1;33m:\u001B[0m\u001B[1;33m\u001B[0m\u001B[1;33m\u001B[0m\u001B[0m\n\u001B[0;32m      5\u001B[0m     \u001B[1;31m# Plot confusion matrix\u001B[0m\u001B[1;33m\u001B[0m\u001B[1;33m\u001B[0m\u001B[0m\n",
      "\u001B[1;32m~\\anaconda3\\lib\\site-packages\\matplotlib\\__init__.py\u001B[0m in \u001B[0;36m<module>\u001B[1;34m\u001B[0m\n\u001B[0;32m    107\u001B[0m \u001B[1;31m# cbook must import matplotlib only within function\u001B[0m\u001B[1;33m\u001B[0m\u001B[1;33m\u001B[0m\u001B[0m\n\u001B[0;32m    108\u001B[0m \u001B[1;31m# definitions, so it is safe to import from it here.\u001B[0m\u001B[1;33m\u001B[0m\u001B[1;33m\u001B[0m\u001B[0m\n\u001B[1;32m--> 109\u001B[1;33m \u001B[1;32mfrom\u001B[0m \u001B[1;33m.\u001B[0m \u001B[1;32mimport\u001B[0m \u001B[0m_api\u001B[0m\u001B[1;33m,\u001B[0m \u001B[0m_version\u001B[0m\u001B[1;33m,\u001B[0m \u001B[0mcbook\u001B[0m\u001B[1;33m,\u001B[0m \u001B[0mdocstring\u001B[0m\u001B[1;33m,\u001B[0m \u001B[0mrcsetup\u001B[0m\u001B[1;33m\u001B[0m\u001B[1;33m\u001B[0m\u001B[0m\n\u001B[0m\u001B[0;32m    110\u001B[0m \u001B[1;32mfrom\u001B[0m \u001B[0mmatplotlib\u001B[0m\u001B[1;33m.\u001B[0m\u001B[0mcbook\u001B[0m \u001B[1;32mimport\u001B[0m \u001B[0mMatplotlibDeprecationWarning\u001B[0m\u001B[1;33m,\u001B[0m \u001B[0msanitize_sequence\u001B[0m\u001B[1;33m\u001B[0m\u001B[1;33m\u001B[0m\u001B[0m\n\u001B[0;32m    111\u001B[0m \u001B[1;32mfrom\u001B[0m \u001B[0mmatplotlib\u001B[0m\u001B[1;33m.\u001B[0m\u001B[0mcbook\u001B[0m \u001B[1;32mimport\u001B[0m \u001B[0mmplDeprecation\u001B[0m  \u001B[1;31m# deprecated\u001B[0m\u001B[1;33m\u001B[0m\u001B[1;33m\u001B[0m\u001B[0m\n",
      "\u001B[1;32m~\\anaconda3\\lib\\site-packages\\matplotlib\\rcsetup.py\u001B[0m in \u001B[0;36m<module>\u001B[1;34m\u001B[0m\n\u001B[0;32m     26\u001B[0m \u001B[1;32mfrom\u001B[0m \u001B[0mmatplotlib\u001B[0m\u001B[1;33m.\u001B[0m\u001B[0mcbook\u001B[0m \u001B[1;32mimport\u001B[0m \u001B[0mls_mapper\u001B[0m\u001B[1;33m\u001B[0m\u001B[1;33m\u001B[0m\u001B[0m\n\u001B[0;32m     27\u001B[0m \u001B[1;32mfrom\u001B[0m \u001B[0mmatplotlib\u001B[0m\u001B[1;33m.\u001B[0m\u001B[0mcolors\u001B[0m \u001B[1;32mimport\u001B[0m \u001B[0mColormap\u001B[0m\u001B[1;33m,\u001B[0m \u001B[0mis_color_like\u001B[0m\u001B[1;33m\u001B[0m\u001B[1;33m\u001B[0m\u001B[0m\n\u001B[1;32m---> 28\u001B[1;33m \u001B[1;32mfrom\u001B[0m \u001B[0mmatplotlib\u001B[0m\u001B[1;33m.\u001B[0m\u001B[0mfontconfig_pattern\u001B[0m \u001B[1;32mimport\u001B[0m \u001B[0mparse_fontconfig_pattern\u001B[0m\u001B[1;33m\u001B[0m\u001B[1;33m\u001B[0m\u001B[0m\n\u001B[0m\u001B[0;32m     29\u001B[0m \u001B[1;32mfrom\u001B[0m \u001B[0mmatplotlib\u001B[0m\u001B[1;33m.\u001B[0m\u001B[0m_enums\u001B[0m \u001B[1;32mimport\u001B[0m \u001B[0mJoinStyle\u001B[0m\u001B[1;33m,\u001B[0m \u001B[0mCapStyle\u001B[0m\u001B[1;33m\u001B[0m\u001B[1;33m\u001B[0m\u001B[0m\n\u001B[0;32m     30\u001B[0m \u001B[1;33m\u001B[0m\u001B[0m\n",
      "\u001B[1;32m~\\anaconda3\\lib\\site-packages\\matplotlib\\fontconfig_pattern.py\u001B[0m in \u001B[0;36m<module>\u001B[1;34m\u001B[0m\n\u001B[0;32m     13\u001B[0m \u001B[1;32mimport\u001B[0m \u001B[0mre\u001B[0m\u001B[1;33m\u001B[0m\u001B[1;33m\u001B[0m\u001B[0m\n\u001B[0;32m     14\u001B[0m \u001B[1;32mimport\u001B[0m \u001B[0mnumpy\u001B[0m \u001B[1;32mas\u001B[0m \u001B[0mnp\u001B[0m\u001B[1;33m\u001B[0m\u001B[1;33m\u001B[0m\u001B[0m\n\u001B[1;32m---> 15\u001B[1;33m from pyparsing import (Literal, ZeroOrMore, Optional, Regex, StringEnd,\n\u001B[0m\u001B[0;32m     16\u001B[0m                        ParseException, Suppress)\n\u001B[0;32m     17\u001B[0m \u001B[1;33m\u001B[0m\u001B[0m\n",
      "\u001B[1;32m~\\anaconda3\\lib\\site-packages\\pyparsing\\__init__.py\u001B[0m in \u001B[0;36m<module>\u001B[1;34m\u001B[0m\n\u001B[0;32m    146\u001B[0m \u001B[1;33m\u001B[0m\u001B[0m\n\u001B[0;32m    147\u001B[0m \u001B[1;32mfrom\u001B[0m \u001B[1;33m.\u001B[0m\u001B[0municode\u001B[0m \u001B[1;32mimport\u001B[0m \u001B[0municode_set\u001B[0m\u001B[1;33m,\u001B[0m \u001B[0mUnicodeRangeList\u001B[0m\u001B[1;33m,\u001B[0m \u001B[0mpyparsing_unicode\u001B[0m \u001B[1;32mas\u001B[0m \u001B[0municode\u001B[0m\u001B[1;33m\u001B[0m\u001B[1;33m\u001B[0m\u001B[0m\n\u001B[1;32m--> 148\u001B[1;33m \u001B[1;32mfrom\u001B[0m \u001B[1;33m.\u001B[0m\u001B[0mtesting\u001B[0m \u001B[1;32mimport\u001B[0m \u001B[0mpyparsing_test\u001B[0m \u001B[1;32mas\u001B[0m \u001B[0mtesting\u001B[0m\u001B[1;33m\u001B[0m\u001B[1;33m\u001B[0m\u001B[0m\n\u001B[0m\u001B[0;32m    149\u001B[0m from .common import (\n\u001B[0;32m    150\u001B[0m     \u001B[0mpyparsing_common\u001B[0m \u001B[1;32mas\u001B[0m \u001B[0mcommon\u001B[0m\u001B[1;33m,\u001B[0m\u001B[1;33m\u001B[0m\u001B[1;33m\u001B[0m\u001B[0m\n",
      "\u001B[1;32m~\\anaconda3\\lib\\importlib\\_bootstrap.py\u001B[0m in \u001B[0;36m_find_and_load\u001B[1;34m(name, import_)\u001B[0m\n",
      "\u001B[1;32m~\\anaconda3\\lib\\importlib\\_bootstrap.py\u001B[0m in \u001B[0;36m_find_and_load_unlocked\u001B[1;34m(name, import_)\u001B[0m\n",
      "\u001B[1;32m~\\anaconda3\\lib\\importlib\\_bootstrap.py\u001B[0m in \u001B[0;36m_load_unlocked\u001B[1;34m(spec)\u001B[0m\n",
      "\u001B[1;32m~\\anaconda3\\lib\\importlib\\_bootstrap_external.py\u001B[0m in \u001B[0;36mexec_module\u001B[1;34m(self, module)\u001B[0m\n",
      "\u001B[1;32m~\\anaconda3\\lib\\importlib\\_bootstrap_external.py\u001B[0m in \u001B[0;36mget_code\u001B[1;34m(self, fullname)\u001B[0m\n",
      "\u001B[1;32m~\\anaconda3\\lib\\importlib\\_bootstrap_external.py\u001B[0m in \u001B[0;36mget_data\u001B[1;34m(self, path)\u001B[0m\n",
      "\u001B[1;31mKeyboardInterrupt\u001B[0m: "
     ]
    }
   ],
   "source": [
    "# present the confusion matrix for each gene\n",
    "import matplotlib.pyplot as plt\n",
    "\n",
    "for gene in results:\n",
    "    # Plot confusion matrix\n",
    "    plt.imshow(results[gene][\"confusion_matrix\"], cmap=plt.cm.Blues)\n",
    "    plt.xlabel(\"Predicted labels\")\n",
    "    plt.ylabel(\"True labels\")\n",
    "    plt.xticks([0, 1], [\"Benign\", \"Pathogenic\"])\n",
    "    plt.yticks([0, 1], [\"Benign\", \"Pathogenic\"])\n",
    "    plt.title(f\"Confusion matrix for {gene}, VEST4 predictions\")\n",
    "    plt.style.use(\"seaborn-white\")\n",
    "    # Add text annotations\n",
    "    for i in range(2):\n",
    "        for j in range(2):\n",
    "            plt.text(j, i, results[gene][\"confusion_matrix\"][i, j], ha=\"center\", va=\"center\", color=\"black\", backgroundcolor=\"white\")\n",
    "    plt.colorbar()\n",
    "    plt.show()"
   ],
   "metadata": {
    "collapsed": false,
    "ExecuteTime": {
     "end_time": "2023-11-14T15:05:42.407321900Z",
     "start_time": "2023-11-14T15:05:41.484502400Z"
    }
   },
   "id": "f0b8e3dd38bb68b1"
  },
  {
   "cell_type": "code",
   "execution_count": null,
   "outputs": [],
   "source": [
    "#present the ROC curve for each gene\n",
    "for gene in results:\n",
    "    # Plot ROC curve\n",
    "    plt.plot(fpr, tpr, color=\"darkorange\", lw=2, label=f\"ROC curve (area = {results[gene]['roc_auc']:.2f})\")\n",
    "    plt.plot([0, 1], [0, 1], color=\"navy\", lw=2, linestyle=\"--\")\n",
    "    plt.xlim([0.0, 1.0])\n",
    "    plt.ylim([0.0, 1.05])\n",
    "    plt.xlabel(\"False Positive Rate\")\n",
    "    plt.ylabel(\"True Positive Rate\")\n",
    "    plt.title(f\"ROC curve for {gene}, VEST4 predictions\")\n",
    "    plt.legend(loc=\"lower right\")\n",
    "    plt.show()"
   ],
   "metadata": {
    "collapsed": false,
    "ExecuteTime": {
     "start_time": "2023-11-14T15:05:42.376087600Z"
    }
   },
   "id": "a96541f85f7b581f"
  }
 ],
 "metadata": {
  "kernelspec": {
   "display_name": "Python 3",
   "language": "python",
   "name": "python3"
  },
  "language_info": {
   "codemirror_mode": {
    "name": "ipython",
    "version": 2
   },
   "file_extension": ".py",
   "mimetype": "text/x-python",
   "name": "python",
   "nbconvert_exporter": "python",
   "pygments_lexer": "ipython2",
   "version": "2.7.6"
  }
 },
 "nbformat": 4,
 "nbformat_minor": 5
}
