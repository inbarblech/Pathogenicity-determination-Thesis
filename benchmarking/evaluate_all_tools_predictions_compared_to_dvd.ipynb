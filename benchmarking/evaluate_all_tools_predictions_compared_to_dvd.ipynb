{
 "cells": [
  {
   "cell_type": "raw",
   "source": [],
   "metadata": {
    "collapsed": false
   },
   "id": "daae3bd731bad53b"
  },
  {
   "cell_type": "code",
   "execution_count": 15,
   "outputs": [],
   "source": [
    "import pandas as pd"
   ],
   "metadata": {
    "collapsed": false,
    "ExecuteTime": {
     "end_time": "2024-04-09T12:44:34.820482100Z",
     "start_time": "2024-04-09T12:44:34.748556700Z"
    }
   },
   "id": "initial_id"
  },
  {
   "cell_type": "code",
   "execution_count": 18,
   "outputs": [
    {
     "data": {
      "text/plain": "         gene variant  prediction  pathogenicity protein_type\n0     COL11A1  G1249V           1              1     collagen\n1     COL11A1  G1516V           1              1     collagen\n2     COL11A1  R1733C           1              1     collagen\n3     COL11A1  G1800C           1              1     collagen\n4     COL11A1  R1076C           1              1     collagen\n...       ...     ...         ...            ...          ...\n1091   COL9A2    G30R           1              0     collagen\n1092   COL9A2   A336E           1              0     collagen\n1093   COL9A2   L335V           0              0     collagen\n1094   COL9A2    R32Q           0              0     collagen\n1095   COL4A6   N980I           1              0     collagen\n\n[1096 rows x 5 columns]",
      "text/html": "<div>\n<style scoped>\n    .dataframe tbody tr th:only-of-type {\n        vertical-align: middle;\n    }\n\n    .dataframe tbody tr th {\n        vertical-align: top;\n    }\n\n    .dataframe thead th {\n        text-align: right;\n    }\n</style>\n<table border=\"1\" class=\"dataframe\">\n  <thead>\n    <tr style=\"text-align: right;\">\n      <th></th>\n      <th>gene</th>\n      <th>variant</th>\n      <th>prediction</th>\n      <th>pathogenicity</th>\n      <th>protein_type</th>\n    </tr>\n  </thead>\n  <tbody>\n    <tr>\n      <th>0</th>\n      <td>COL11A1</td>\n      <td>G1249V</td>\n      <td>1</td>\n      <td>1</td>\n      <td>collagen</td>\n    </tr>\n    <tr>\n      <th>1</th>\n      <td>COL11A1</td>\n      <td>G1516V</td>\n      <td>1</td>\n      <td>1</td>\n      <td>collagen</td>\n    </tr>\n    <tr>\n      <th>2</th>\n      <td>COL11A1</td>\n      <td>R1733C</td>\n      <td>1</td>\n      <td>1</td>\n      <td>collagen</td>\n    </tr>\n    <tr>\n      <th>3</th>\n      <td>COL11A1</td>\n      <td>G1800C</td>\n      <td>1</td>\n      <td>1</td>\n      <td>collagen</td>\n    </tr>\n    <tr>\n      <th>4</th>\n      <td>COL11A1</td>\n      <td>R1076C</td>\n      <td>1</td>\n      <td>1</td>\n      <td>collagen</td>\n    </tr>\n    <tr>\n      <th>...</th>\n      <td>...</td>\n      <td>...</td>\n      <td>...</td>\n      <td>...</td>\n      <td>...</td>\n    </tr>\n    <tr>\n      <th>1091</th>\n      <td>COL9A2</td>\n      <td>G30R</td>\n      <td>1</td>\n      <td>0</td>\n      <td>collagen</td>\n    </tr>\n    <tr>\n      <th>1092</th>\n      <td>COL9A2</td>\n      <td>A336E</td>\n      <td>1</td>\n      <td>0</td>\n      <td>collagen</td>\n    </tr>\n    <tr>\n      <th>1093</th>\n      <td>COL9A2</td>\n      <td>L335V</td>\n      <td>0</td>\n      <td>0</td>\n      <td>collagen</td>\n    </tr>\n    <tr>\n      <th>1094</th>\n      <td>COL9A2</td>\n      <td>R32Q</td>\n      <td>0</td>\n      <td>0</td>\n      <td>collagen</td>\n    </tr>\n    <tr>\n      <th>1095</th>\n      <td>COL4A6</td>\n      <td>N980I</td>\n      <td>1</td>\n      <td>0</td>\n      <td>collagen</td>\n    </tr>\n  </tbody>\n</table>\n<p>1096 rows × 5 columns</p>\n</div>"
     },
     "execution_count": 18,
     "metadata": {},
     "output_type": "execute_result"
    }
   ],
   "source": [
    "my_prediction = pd.read_csv(\"C:\\\\Users\\\\InbarBlech\\\\PycharmProjects\\\\Thesis\\\\predictions_vs_real\\\\predictions_vs_real_with_variant_all_genes_updated_221123.csv\")\n",
    "# change column name from \"reality\" to \"pathogenicity\"\n",
    "my_prediction.rename(columns={\"reality\": \"pathogenicity\"}, inplace=True)\n",
    "my_prediction"
   ],
   "metadata": {
    "collapsed": false,
    "ExecuteTime": {
     "end_time": "2024-04-09T12:45:32.493274200Z",
     "start_time": "2024-04-09T12:45:32.422715800Z"
    }
   },
   "id": "8685d0fb796c552f"
  },
  {
   "cell_type": "code",
   "execution_count": 17,
   "outputs": [
    {
     "name": "stdout",
     "output_type": "stream",
     "text": [
      "Gene: COL11A1\n",
      "pathogenicity\n",
      "1    33\n",
      "0     9\n",
      "Name: count, dtype: int64\n",
      "Gene: COL4A3\n",
      "pathogenicity\n",
      "1    127\n",
      "0     18\n",
      "Name: count, dtype: int64\n",
      "Gene: COL9A3\n",
      "pathogenicity\n",
      "0    15\n",
      "1     5\n",
      "Name: count, dtype: int64\n",
      "Gene: COL11A2\n",
      "pathogenicity\n",
      "1    19\n",
      "0    13\n",
      "Name: count, dtype: int64\n",
      "Gene: COL4A5\n",
      "pathogenicity\n",
      "1    407\n",
      "0     13\n",
      "Name: count, dtype: int64\n",
      "Gene: COL2A1\n",
      "pathogenicity\n",
      "1    286\n",
      "0     10\n",
      "Name: count, dtype: int64\n",
      "Gene: COL4A4\n",
      "pathogenicity\n",
      "1    99\n",
      "0    21\n",
      "Name: count, dtype: int64\n",
      "Gene: COL9A1\n",
      "pathogenicity\n",
      "0    5\n",
      "1    1\n",
      "Name: count, dtype: int64\n",
      "Gene: COL9A2\n",
      "pathogenicity\n",
      "0    14\n",
      "Name: count, dtype: int64\n",
      "Gene: COL4A6\n",
      "pathogenicity\n",
      "0    1\n",
      "Name: count, dtype: int64\n"
     ]
    }
   ],
   "source": [
    "for gene in my_prediction[\"gene\"].unique():\n",
    "    print(f\"Gene: {gene}\")\n",
    "    print(my_prediction[my_prediction[\"gene\"] == gene][\"pathogenicity\"].value_counts())"
   ],
   "metadata": {
    "collapsed": false,
    "ExecuteTime": {
     "end_time": "2024-04-09T12:44:49.626850300Z",
     "start_time": "2024-04-09T12:44:49.579896100Z"
    }
   },
   "id": "d699864e6a6acde"
  },
  {
   "cell_type": "code",
   "execution_count": 4,
   "outputs": [],
   "source": [
    "tools = ['VEST', 'alphamissense', 'REVEL', 'EVE', 'MutPred']"
   ],
   "metadata": {
    "collapsed": false,
    "ExecuteTime": {
     "end_time": "2024-04-09T12:35:12.803279300Z",
     "start_time": "2024-04-09T12:35:12.741022300Z"
    }
   },
   "id": "7868b5d5c58129d2"
  },
  {
   "cell_type": "code",
   "execution_count": 5,
   "outputs": [
    {
     "ename": "MergeError",
     "evalue": "Passing 'suffixes' which cause duplicate columns {'Unnamed: 0_x'} is not allowed.",
     "output_type": "error",
     "traceback": [
      "\u001B[1;31m---------------------------------------------------------------------------\u001B[0m",
      "\u001B[1;31mMergeError\u001B[0m                                Traceback (most recent call last)",
      "Cell \u001B[1;32mIn[5], line 6\u001B[0m\n\u001B[0;32m      4\u001B[0m tool_predictions \u001B[38;5;241m=\u001B[39m pd\u001B[38;5;241m.\u001B[39mread_csv(\u001B[38;5;124mf\u001B[39m\u001B[38;5;124m\"\u001B[39m\u001B[38;5;124mC:\u001B[39m\u001B[38;5;130;01m\\\\\u001B[39;00m\u001B[38;5;124mUsers\u001B[39m\u001B[38;5;130;01m\\\\\u001B[39;00m\u001B[38;5;124mInbarBlech\u001B[39m\u001B[38;5;130;01m\\\\\u001B[39;00m\u001B[38;5;124mPycharmProjects\u001B[39m\u001B[38;5;130;01m\\\\\u001B[39;00m\u001B[38;5;124mThesis\u001B[39m\u001B[38;5;130;01m\\\\\u001B[39;00m\u001B[38;5;124mbenchmarking\u001B[39m\u001B[38;5;130;01m\\\\\u001B[39;00m\u001B[38;5;132;01m{\u001B[39;00mtool\u001B[38;5;132;01m}\u001B[39;00m\u001B[38;5;124m_on_dvd_data_predictions_LOPO.csv\u001B[39m\u001B[38;5;124m\"\u001B[39m)\n\u001B[0;32m      5\u001B[0m \u001B[38;5;66;03m# Merge the two files\u001B[39;00m\n\u001B[1;32m----> 6\u001B[0m merged \u001B[38;5;241m=\u001B[39m \u001B[43mpd\u001B[49m\u001B[38;5;241;43m.\u001B[39;49m\u001B[43mmerge\u001B[49m\u001B[43m(\u001B[49m\u001B[43mmerged\u001B[49m\u001B[43m,\u001B[49m\u001B[43m \u001B[49m\u001B[43mtool_predictions\u001B[49m\u001B[43m,\u001B[49m\u001B[43m \u001B[49m\u001B[43mon\u001B[49m\u001B[38;5;241;43m=\u001B[39;49m\u001B[43m[\u001B[49m\u001B[38;5;124;43m\"\u001B[39;49m\u001B[38;5;124;43mgene\u001B[39;49m\u001B[38;5;124;43m\"\u001B[39;49m\u001B[43m,\u001B[49m\u001B[43m \u001B[49m\u001B[38;5;124;43m\"\u001B[39;49m\u001B[38;5;124;43mvariant\u001B[39;49m\u001B[38;5;124;43m\"\u001B[39;49m\u001B[43m]\u001B[49m\u001B[43m)\u001B[49m\n\u001B[0;32m      7\u001B[0m \u001B[38;5;66;03m# remove duplicate rows\u001B[39;00m\n\u001B[0;32m      8\u001B[0m merged \u001B[38;5;241m=\u001B[39m merged\u001B[38;5;241m.\u001B[39mdrop_duplicates(subset\u001B[38;5;241m=\u001B[39m[\u001B[38;5;124m\"\u001B[39m\u001B[38;5;124mgene\u001B[39m\u001B[38;5;124m\"\u001B[39m, \u001B[38;5;124m\"\u001B[39m\u001B[38;5;124mvariant\u001B[39m\u001B[38;5;124m\"\u001B[39m])\n",
      "File \u001B[1;32m~\\PycharmProjects\\Thesis\\venv\\lib\\site-packages\\pandas\\core\\reshape\\merge.py:184\u001B[0m, in \u001B[0;36mmerge\u001B[1;34m(left, right, how, on, left_on, right_on, left_index, right_index, sort, suffixes, copy, indicator, validate)\u001B[0m\n\u001B[0;32m    169\u001B[0m \u001B[38;5;28;01melse\u001B[39;00m:\n\u001B[0;32m    170\u001B[0m     op \u001B[38;5;241m=\u001B[39m _MergeOperation(\n\u001B[0;32m    171\u001B[0m         left_df,\n\u001B[0;32m    172\u001B[0m         right_df,\n\u001B[1;32m   (...)\u001B[0m\n\u001B[0;32m    182\u001B[0m         validate\u001B[38;5;241m=\u001B[39mvalidate,\n\u001B[0;32m    183\u001B[0m     )\n\u001B[1;32m--> 184\u001B[0m     \u001B[38;5;28;01mreturn\u001B[39;00m \u001B[43mop\u001B[49m\u001B[38;5;241;43m.\u001B[39;49m\u001B[43mget_result\u001B[49m\u001B[43m(\u001B[49m\u001B[43mcopy\u001B[49m\u001B[38;5;241;43m=\u001B[39;49m\u001B[43mcopy\u001B[49m\u001B[43m)\u001B[49m\n",
      "File \u001B[1;32m~\\PycharmProjects\\Thesis\\venv\\lib\\site-packages\\pandas\\core\\reshape\\merge.py:888\u001B[0m, in \u001B[0;36m_MergeOperation.get_result\u001B[1;34m(self, copy)\u001B[0m\n\u001B[0;32m    884\u001B[0m     \u001B[38;5;28mself\u001B[39m\u001B[38;5;241m.\u001B[39mleft, \u001B[38;5;28mself\u001B[39m\u001B[38;5;241m.\u001B[39mright \u001B[38;5;241m=\u001B[39m \u001B[38;5;28mself\u001B[39m\u001B[38;5;241m.\u001B[39m_indicator_pre_merge(\u001B[38;5;28mself\u001B[39m\u001B[38;5;241m.\u001B[39mleft, \u001B[38;5;28mself\u001B[39m\u001B[38;5;241m.\u001B[39mright)\n\u001B[0;32m    886\u001B[0m join_index, left_indexer, right_indexer \u001B[38;5;241m=\u001B[39m \u001B[38;5;28mself\u001B[39m\u001B[38;5;241m.\u001B[39m_get_join_info()\n\u001B[1;32m--> 888\u001B[0m result \u001B[38;5;241m=\u001B[39m \u001B[38;5;28;43mself\u001B[39;49m\u001B[38;5;241;43m.\u001B[39;49m\u001B[43m_reindex_and_concat\u001B[49m\u001B[43m(\u001B[49m\n\u001B[0;32m    889\u001B[0m \u001B[43m    \u001B[49m\u001B[43mjoin_index\u001B[49m\u001B[43m,\u001B[49m\u001B[43m \u001B[49m\u001B[43mleft_indexer\u001B[49m\u001B[43m,\u001B[49m\u001B[43m \u001B[49m\u001B[43mright_indexer\u001B[49m\u001B[43m,\u001B[49m\u001B[43m \u001B[49m\u001B[43mcopy\u001B[49m\u001B[38;5;241;43m=\u001B[39;49m\u001B[43mcopy\u001B[49m\n\u001B[0;32m    890\u001B[0m \u001B[43m\u001B[49m\u001B[43m)\u001B[49m\n\u001B[0;32m    891\u001B[0m result \u001B[38;5;241m=\u001B[39m result\u001B[38;5;241m.\u001B[39m__finalize__(\u001B[38;5;28mself\u001B[39m, method\u001B[38;5;241m=\u001B[39m\u001B[38;5;28mself\u001B[39m\u001B[38;5;241m.\u001B[39m_merge_type)\n\u001B[0;32m    893\u001B[0m \u001B[38;5;28;01mif\u001B[39;00m \u001B[38;5;28mself\u001B[39m\u001B[38;5;241m.\u001B[39mindicator:\n",
      "File \u001B[1;32m~\\PycharmProjects\\Thesis\\venv\\lib\\site-packages\\pandas\\core\\reshape\\merge.py:840\u001B[0m, in \u001B[0;36m_MergeOperation._reindex_and_concat\u001B[1;34m(self, join_index, left_indexer, right_indexer, copy)\u001B[0m\n\u001B[0;32m    837\u001B[0m left \u001B[38;5;241m=\u001B[39m \u001B[38;5;28mself\u001B[39m\u001B[38;5;241m.\u001B[39mleft[:]\n\u001B[0;32m    838\u001B[0m right \u001B[38;5;241m=\u001B[39m \u001B[38;5;28mself\u001B[39m\u001B[38;5;241m.\u001B[39mright[:]\n\u001B[1;32m--> 840\u001B[0m llabels, rlabels \u001B[38;5;241m=\u001B[39m \u001B[43m_items_overlap_with_suffix\u001B[49m\u001B[43m(\u001B[49m\n\u001B[0;32m    841\u001B[0m \u001B[43m    \u001B[49m\u001B[38;5;28;43mself\u001B[39;49m\u001B[38;5;241;43m.\u001B[39;49m\u001B[43mleft\u001B[49m\u001B[38;5;241;43m.\u001B[39;49m\u001B[43m_info_axis\u001B[49m\u001B[43m,\u001B[49m\u001B[43m \u001B[49m\u001B[38;5;28;43mself\u001B[39;49m\u001B[38;5;241;43m.\u001B[39;49m\u001B[43mright\u001B[49m\u001B[38;5;241;43m.\u001B[39;49m\u001B[43m_info_axis\u001B[49m\u001B[43m,\u001B[49m\u001B[43m \u001B[49m\u001B[38;5;28;43mself\u001B[39;49m\u001B[38;5;241;43m.\u001B[39;49m\u001B[43msuffixes\u001B[49m\n\u001B[0;32m    842\u001B[0m \u001B[43m\u001B[49m\u001B[43m)\u001B[49m\n\u001B[0;32m    844\u001B[0m \u001B[38;5;28;01mif\u001B[39;00m left_indexer \u001B[38;5;129;01mis\u001B[39;00m \u001B[38;5;129;01mnot\u001B[39;00m \u001B[38;5;28;01mNone\u001B[39;00m \u001B[38;5;129;01mand\u001B[39;00m \u001B[38;5;129;01mnot\u001B[39;00m is_range_indexer(left_indexer, \u001B[38;5;28mlen\u001B[39m(left)):\n\u001B[0;32m    845\u001B[0m     \u001B[38;5;66;03m# Pinning the index here (and in the right code just below) is not\u001B[39;00m\n\u001B[0;32m    846\u001B[0m     \u001B[38;5;66;03m#  necessary, but makes the `.take` more performant if we have e.g.\u001B[39;00m\n\u001B[0;32m    847\u001B[0m     \u001B[38;5;66;03m#  a MultiIndex for left.index.\u001B[39;00m\n\u001B[0;32m    848\u001B[0m     lmgr \u001B[38;5;241m=\u001B[39m left\u001B[38;5;241m.\u001B[39m_mgr\u001B[38;5;241m.\u001B[39mreindex_indexer(\n\u001B[0;32m    849\u001B[0m         join_index,\n\u001B[0;32m    850\u001B[0m         left_indexer,\n\u001B[1;32m   (...)\u001B[0m\n\u001B[0;32m    855\u001B[0m         use_na_proxy\u001B[38;5;241m=\u001B[39m\u001B[38;5;28;01mTrue\u001B[39;00m,\n\u001B[0;32m    856\u001B[0m     )\n",
      "File \u001B[1;32m~\\PycharmProjects\\Thesis\\venv\\lib\\site-packages\\pandas\\core\\reshape\\merge.py:2758\u001B[0m, in \u001B[0;36m_items_overlap_with_suffix\u001B[1;34m(left, right, suffixes)\u001B[0m\n\u001B[0;32m   2756\u001B[0m     dups\u001B[38;5;241m.\u001B[39mextend(rlabels[(rlabels\u001B[38;5;241m.\u001B[39mduplicated()) \u001B[38;5;241m&\u001B[39m (\u001B[38;5;241m~\u001B[39mright\u001B[38;5;241m.\u001B[39mduplicated())]\u001B[38;5;241m.\u001B[39mtolist())\n\u001B[0;32m   2757\u001B[0m \u001B[38;5;28;01mif\u001B[39;00m dups:\n\u001B[1;32m-> 2758\u001B[0m     \u001B[38;5;28;01mraise\u001B[39;00m MergeError(\n\u001B[0;32m   2759\u001B[0m         \u001B[38;5;124mf\u001B[39m\u001B[38;5;124m\"\u001B[39m\u001B[38;5;124mPassing \u001B[39m\u001B[38;5;124m'\u001B[39m\u001B[38;5;124msuffixes\u001B[39m\u001B[38;5;124m'\u001B[39m\u001B[38;5;124m which cause duplicate columns \u001B[39m\u001B[38;5;132;01m{\u001B[39;00m\u001B[38;5;28mset\u001B[39m(dups)\u001B[38;5;132;01m}\u001B[39;00m\u001B[38;5;124m is \u001B[39m\u001B[38;5;124m\"\u001B[39m\n\u001B[0;32m   2760\u001B[0m         \u001B[38;5;124mf\u001B[39m\u001B[38;5;124m\"\u001B[39m\u001B[38;5;124mnot allowed.\u001B[39m\u001B[38;5;124m\"\u001B[39m,\n\u001B[0;32m   2761\u001B[0m     )\n\u001B[0;32m   2763\u001B[0m \u001B[38;5;28;01mreturn\u001B[39;00m llabels, rlabels\n",
      "\u001B[1;31mMergeError\u001B[0m: Passing 'suffixes' which cause duplicate columns {'Unnamed: 0_x'} is not allowed."
     ]
    }
   ],
   "source": [
    "# Create merge, which is the my_prediction dataframe with the predictions of the other tools\n",
    "merged = my_prediction\n",
    "for tool in tools:\n",
    "    tool_predictions = pd.read_csv(f\"C:\\\\Users\\\\InbarBlech\\\\PycharmProjects\\\\Thesis\\\\benchmarking\\\\{tool}_on_dvd_data_predictions_LOPO.csv\")\n",
    "    # Merge the two files\n",
    "    merged = pd.merge(merged, tool_predictions, on=[\"gene\", \"variant\"])\n",
    "    # remove duplicate rows\n",
    "    merged = merged.drop_duplicates(subset=[\"gene\", \"variant\"])\n",
    "# change column name of pathogenicity_x to pathogenicity\n",
    "merged = merged.rename(columns={\"prediction_x\": \"prediction\", \"am_pathogenicity\": \"am_score\", \"am_class\": \"alphamissense_pathogenicity\"})"
   ],
   "metadata": {
    "collapsed": false,
    "ExecuteTime": {
     "end_time": "2024-04-09T12:35:14.465863Z",
     "start_time": "2024-04-09T12:35:13.681038500Z"
    }
   },
   "id": "e4e064fbe990a564"
  },
  {
   "cell_type": "code",
   "execution_count": 6,
   "outputs": [
    {
     "name": "stdout",
     "output_type": "stream",
     "text": [
      "Gene: COL2A1\n",
      "pathogenicity\n",
      "0    310\n",
      "1    262\n",
      "Name: count, dtype: int64\n",
      "Gene: COL4A3\n",
      "pathogenicity\n",
      "0    146\n",
      "1     95\n",
      "Name: count, dtype: int64\n",
      "Gene: COL4A5\n",
      "pathogenicity\n",
      "1    363\n",
      "0    111\n",
      "Name: count, dtype: int64\n",
      "Gene: MYO7A\n",
      "pathogenicity\n",
      "0    473\n",
      "1    161\n",
      "Name: count, dtype: int64\n",
      "Gene: FGFR1\n",
      "pathogenicity\n",
      "0    128\n",
      "1    101\n",
      "Name: count, dtype: int64\n"
     ]
    }
   ],
   "source": [
    "# Print how many variants there are from each gene\n",
    "\n",
    "merged[\"gene\"].value_counts()\n",
    "# my_prediction[\"gene\"].value_counts()\n",
    "# print how many variants there are from each gene and each pathogenicity\n",
    "for gene in merged[\"gene\"].unique():\n",
    "    print(f\"Gene: {gene}\")\n",
    "    print(merged[merged[\"gene\"] == gene][\"pathogenicity\"].value_counts())"
   ],
   "metadata": {
    "collapsed": false,
    "ExecuteTime": {
     "end_time": "2024-04-09T12:35:14.639075100Z",
     "start_time": "2024-04-09T12:35:14.591643100Z"
    }
   },
   "id": "872c361a0b501"
  },
  {
   "cell_type": "code",
   "execution_count": 7,
   "outputs": [
    {
     "data": {
      "text/plain": "     variant  prediction_x  pathogenicity    gene  Unnamed: 0_x  VEST_score  \\\n0        M1R             0              0  COL2A1             0       0.905   \n1        I2L             0              0  COL2A1             2       0.244   \n2        I2T             0              0  COL2A1             4       0.116   \n3        I2V             0              0  COL2A1             5       0.068   \n4        L4F             0              0  COL2A1             8       0.073   \n...      ...           ...            ...     ...           ...         ...   \n2443   T695I             1              1   FGFR1          3495       0.984   \n2444   A520T             1              1   FGFR1          3496       0.908   \n2445   L712P             1              1   FGFR1          3497       0.975   \n2446   E692G             1              1   FGFR1          3498       0.938   \n2447   C736Y             1              1   FGFR1          3499       0.962   \n\n      VEST_pathogenicity  Unnamed: 0_y  prediction_y  reality uniprot_id  \\\n0                      1             0             0        0     P02458   \n1                      0             2             0        0     P02458   \n2                      0             4             0        0     P02458   \n3                      0             5             0        0     P02458   \n4                      0             8             0        0     P02458   \n...                  ...           ...           ...      ...        ...   \n2443                   1          4235             1        1     P11362   \n2444                   1          4236             1        1     P11362   \n2445                   1          4237             1        1     P11362   \n2446                   1          4238             1        1     P11362   \n2447                   1          4239             1        1     P11362   \n\n      am_pathogenicity  am_class  Unnamed: 0  revel_score  REVEL_pathogenicity  \n0               0.1676         0           0        0.699                    1  \n1               0.0908         0           1        0.247                    0  \n2               0.2038         0           2        0.245                    0  \n3               0.1286         0           3        0.184                    0  \n4               0.0530         0           4        0.223                    0  \n...                ...       ...         ...          ...                  ...  \n2443            0.9884         1        3020        0.927                    1  \n2444            0.8397         1        3021        0.843                    1  \n2445            0.9997         1        3022        0.959                    1  \n2446            0.9981         1        3023        0.986                    1  \n2447            0.9985         1        3024        0.875                    1  \n\n[2150 rows x 16 columns]",
      "text/html": "<div>\n<style scoped>\n    .dataframe tbody tr th:only-of-type {\n        vertical-align: middle;\n    }\n\n    .dataframe tbody tr th {\n        vertical-align: top;\n    }\n\n    .dataframe thead th {\n        text-align: right;\n    }\n</style>\n<table border=\"1\" class=\"dataframe\">\n  <thead>\n    <tr style=\"text-align: right;\">\n      <th></th>\n      <th>variant</th>\n      <th>prediction_x</th>\n      <th>pathogenicity</th>\n      <th>gene</th>\n      <th>Unnamed: 0_x</th>\n      <th>VEST_score</th>\n      <th>VEST_pathogenicity</th>\n      <th>Unnamed: 0_y</th>\n      <th>prediction_y</th>\n      <th>reality</th>\n      <th>uniprot_id</th>\n      <th>am_pathogenicity</th>\n      <th>am_class</th>\n      <th>Unnamed: 0</th>\n      <th>revel_score</th>\n      <th>REVEL_pathogenicity</th>\n    </tr>\n  </thead>\n  <tbody>\n    <tr>\n      <th>0</th>\n      <td>M1R</td>\n      <td>0</td>\n      <td>0</td>\n      <td>COL2A1</td>\n      <td>0</td>\n      <td>0.905</td>\n      <td>1</td>\n      <td>0</td>\n      <td>0</td>\n      <td>0</td>\n      <td>P02458</td>\n      <td>0.1676</td>\n      <td>0</td>\n      <td>0</td>\n      <td>0.699</td>\n      <td>1</td>\n    </tr>\n    <tr>\n      <th>1</th>\n      <td>I2L</td>\n      <td>0</td>\n      <td>0</td>\n      <td>COL2A1</td>\n      <td>2</td>\n      <td>0.244</td>\n      <td>0</td>\n      <td>2</td>\n      <td>0</td>\n      <td>0</td>\n      <td>P02458</td>\n      <td>0.0908</td>\n      <td>0</td>\n      <td>1</td>\n      <td>0.247</td>\n      <td>0</td>\n    </tr>\n    <tr>\n      <th>2</th>\n      <td>I2T</td>\n      <td>0</td>\n      <td>0</td>\n      <td>COL2A1</td>\n      <td>4</td>\n      <td>0.116</td>\n      <td>0</td>\n      <td>4</td>\n      <td>0</td>\n      <td>0</td>\n      <td>P02458</td>\n      <td>0.2038</td>\n      <td>0</td>\n      <td>2</td>\n      <td>0.245</td>\n      <td>0</td>\n    </tr>\n    <tr>\n      <th>3</th>\n      <td>I2V</td>\n      <td>0</td>\n      <td>0</td>\n      <td>COL2A1</td>\n      <td>5</td>\n      <td>0.068</td>\n      <td>0</td>\n      <td>5</td>\n      <td>0</td>\n      <td>0</td>\n      <td>P02458</td>\n      <td>0.1286</td>\n      <td>0</td>\n      <td>3</td>\n      <td>0.184</td>\n      <td>0</td>\n    </tr>\n    <tr>\n      <th>4</th>\n      <td>L4F</td>\n      <td>0</td>\n      <td>0</td>\n      <td>COL2A1</td>\n      <td>8</td>\n      <td>0.073</td>\n      <td>0</td>\n      <td>8</td>\n      <td>0</td>\n      <td>0</td>\n      <td>P02458</td>\n      <td>0.0530</td>\n      <td>0</td>\n      <td>4</td>\n      <td>0.223</td>\n      <td>0</td>\n    </tr>\n    <tr>\n      <th>...</th>\n      <td>...</td>\n      <td>...</td>\n      <td>...</td>\n      <td>...</td>\n      <td>...</td>\n      <td>...</td>\n      <td>...</td>\n      <td>...</td>\n      <td>...</td>\n      <td>...</td>\n      <td>...</td>\n      <td>...</td>\n      <td>...</td>\n      <td>...</td>\n      <td>...</td>\n      <td>...</td>\n    </tr>\n    <tr>\n      <th>2443</th>\n      <td>T695I</td>\n      <td>1</td>\n      <td>1</td>\n      <td>FGFR1</td>\n      <td>3495</td>\n      <td>0.984</td>\n      <td>1</td>\n      <td>4235</td>\n      <td>1</td>\n      <td>1</td>\n      <td>P11362</td>\n      <td>0.9884</td>\n      <td>1</td>\n      <td>3020</td>\n      <td>0.927</td>\n      <td>1</td>\n    </tr>\n    <tr>\n      <th>2444</th>\n      <td>A520T</td>\n      <td>1</td>\n      <td>1</td>\n      <td>FGFR1</td>\n      <td>3496</td>\n      <td>0.908</td>\n      <td>1</td>\n      <td>4236</td>\n      <td>1</td>\n      <td>1</td>\n      <td>P11362</td>\n      <td>0.8397</td>\n      <td>1</td>\n      <td>3021</td>\n      <td>0.843</td>\n      <td>1</td>\n    </tr>\n    <tr>\n      <th>2445</th>\n      <td>L712P</td>\n      <td>1</td>\n      <td>1</td>\n      <td>FGFR1</td>\n      <td>3497</td>\n      <td>0.975</td>\n      <td>1</td>\n      <td>4237</td>\n      <td>1</td>\n      <td>1</td>\n      <td>P11362</td>\n      <td>0.9997</td>\n      <td>1</td>\n      <td>3022</td>\n      <td>0.959</td>\n      <td>1</td>\n    </tr>\n    <tr>\n      <th>2446</th>\n      <td>E692G</td>\n      <td>1</td>\n      <td>1</td>\n      <td>FGFR1</td>\n      <td>3498</td>\n      <td>0.938</td>\n      <td>1</td>\n      <td>4238</td>\n      <td>1</td>\n      <td>1</td>\n      <td>P11362</td>\n      <td>0.9981</td>\n      <td>1</td>\n      <td>3023</td>\n      <td>0.986</td>\n      <td>1</td>\n    </tr>\n    <tr>\n      <th>2447</th>\n      <td>C736Y</td>\n      <td>1</td>\n      <td>1</td>\n      <td>FGFR1</td>\n      <td>3499</td>\n      <td>0.962</td>\n      <td>1</td>\n      <td>4239</td>\n      <td>1</td>\n      <td>1</td>\n      <td>P11362</td>\n      <td>0.9985</td>\n      <td>1</td>\n      <td>3024</td>\n      <td>0.875</td>\n      <td>1</td>\n    </tr>\n  </tbody>\n</table>\n<p>2150 rows × 16 columns</p>\n</div>"
     },
     "execution_count": 7,
     "metadata": {},
     "output_type": "execute_result"
    }
   ],
   "source": [
    "# Print all rows in merged that aren't in my_prediction, according to the variant\n",
    "merged[merged[\"variant\"].isin(my_prediction[\"variant\"])]"
   ],
   "metadata": {
    "collapsed": false,
    "ExecuteTime": {
     "end_time": "2024-04-09T12:35:16.279083300Z",
     "start_time": "2024-04-09T12:35:16.215623400Z"
    }
   },
   "id": "c7a4d9543eba71"
  },
  {
   "cell_type": "code",
   "execution_count": 8,
   "outputs": [],
   "source": [
    "\n",
    "### Notice that VEST4 doesn't have data of WFS1, and REVEL doesn't have data for SLC26A4."
   ],
   "metadata": {
    "collapsed": false,
    "ExecuteTime": {
     "end_time": "2024-04-09T12:35:17.330220400Z",
     "start_time": "2024-04-09T12:35:17.278932400Z"
    }
   },
   "id": "94e6a010187a5b4d"
  },
  {
   "cell_type": "code",
   "execution_count": 9,
   "outputs": [],
   "source": [
    "## Calculate the MCC for the predictions, according to the real pathogenicity (0 or 1)\n",
    "from sklearn.metrics import matthews_corrcoef"
   ],
   "metadata": {
    "collapsed": false,
    "ExecuteTime": {
     "end_time": "2024-04-09T12:35:18.966781Z",
     "start_time": "2024-04-09T12:35:17.923495800Z"
    }
   },
   "id": "57a3d8604bb08730"
  },
  {
   "cell_type": "code",
   "execution_count": 10,
   "outputs": [
    {
     "name": "stdout",
     "output_type": "stream",
     "text": [
      "Number of genes: 5\n"
     ]
    }
   ],
   "source": [
    "# separate the merged dataframe according to gene\n",
    "genes = merged[\"gene\"].unique()\n",
    "print(f\"Number of genes: {len(genes)}\")"
   ],
   "metadata": {
    "collapsed": false,
    "ExecuteTime": {
     "end_time": "2024-04-09T12:35:18.996222300Z",
     "start_time": "2024-04-09T12:35:18.966781Z"
    }
   },
   "id": "82b8979a837034b9"
  },
  {
   "cell_type": "code",
   "execution_count": 11,
   "outputs": [
    {
     "name": "stderr",
     "output_type": "stream",
     "text": [
      "C:\\Users\\InbarBlech\\AppData\\Local\\Temp\\ipykernel_6372\\3609092475.py:12: SettingWithCopyWarning: \n",
      "A value is trying to be set on a copy of a slice from a DataFrame.\n",
      "Try using .loc[row_indexer,col_indexer] = value instead\n",
      "\n",
      "See the caveats in the documentation: https://pandas.pydata.org/pandas-docs/stable/user_guide/indexing.html#returning-a-view-versus-a-copy\n",
      "  gene_df['pathogenicity'] = gene_df['pathogenicity'].astype(int)\n",
      "C:\\Users\\InbarBlech\\AppData\\Local\\Temp\\ipykernel_6372\\3609092475.py:12: SettingWithCopyWarning: \n",
      "A value is trying to be set on a copy of a slice from a DataFrame.\n",
      "Try using .loc[row_indexer,col_indexer] = value instead\n",
      "\n",
      "See the caveats in the documentation: https://pandas.pydata.org/pandas-docs/stable/user_guide/indexing.html#returning-a-view-versus-a-copy\n",
      "  gene_df['pathogenicity'] = gene_df['pathogenicity'].astype(int)\n",
      "C:\\Users\\InbarBlech\\AppData\\Local\\Temp\\ipykernel_6372\\3609092475.py:12: SettingWithCopyWarning: \n",
      "A value is trying to be set on a copy of a slice from a DataFrame.\n",
      "Try using .loc[row_indexer,col_indexer] = value instead\n",
      "\n",
      "See the caveats in the documentation: https://pandas.pydata.org/pandas-docs/stable/user_guide/indexing.html#returning-a-view-versus-a-copy\n",
      "  gene_df['pathogenicity'] = gene_df['pathogenicity'].astype(int)\n",
      "C:\\Users\\InbarBlech\\AppData\\Local\\Temp\\ipykernel_6372\\3609092475.py:12: SettingWithCopyWarning: \n",
      "A value is trying to be set on a copy of a slice from a DataFrame.\n",
      "Try using .loc[row_indexer,col_indexer] = value instead\n",
      "\n",
      "See the caveats in the documentation: https://pandas.pydata.org/pandas-docs/stable/user_guide/indexing.html#returning-a-view-versus-a-copy\n",
      "  gene_df['pathogenicity'] = gene_df['pathogenicity'].astype(int)\n",
      "C:\\Users\\InbarBlech\\AppData\\Local\\Temp\\ipykernel_6372\\3609092475.py:12: SettingWithCopyWarning: \n",
      "A value is trying to be set on a copy of a slice from a DataFrame.\n",
      "Try using .loc[row_indexer,col_indexer] = value instead\n",
      "\n",
      "See the caveats in the documentation: https://pandas.pydata.org/pandas-docs/stable/user_guide/indexing.html#returning-a-view-versus-a-copy\n",
      "  gene_df['pathogenicity'] = gene_df['pathogenicity'].astype(int)\n",
      "C:\\Users\\InbarBlech\\AppData\\Local\\Temp\\ipykernel_6372\\3609092475.py:12: SettingWithCopyWarning: \n",
      "A value is trying to be set on a copy of a slice from a DataFrame.\n",
      "Try using .loc[row_indexer,col_indexer] = value instead\n",
      "\n",
      "See the caveats in the documentation: https://pandas.pydata.org/pandas-docs/stable/user_guide/indexing.html#returning-a-view-versus-a-copy\n",
      "  gene_df['pathogenicity'] = gene_df['pathogenicity'].astype(int)\n"
     ]
    },
    {
     "name": "stdout",
     "output_type": "stream",
     "text": [
      "VEST --COL2A1 TP: 261, TN: 297, FP: 13, FN: 1\n",
      "VEST --COL4A3 TP: 94, TN: 138, FP: 8, FN: 1\n",
      "VEST --COL4A5 TP: 363, TN: 111, FP: 0, FN: 0\n",
      "VEST --MYO7A TP: 160, TN: 408, FP: 65, FN: 1\n",
      "VEST --FGFR1 TP: 100, TN: 116, FP: 12, FN: 1\n",
      "MCCs of VEST predictions for each gene:\n",
      "COL2A1: 0.951720033257657\n",
      "COL4A3: 0.9244710289855537\n",
      "COL4A5: 1.0\n",
      "MYO7A: 0.7790244298650963\n",
      "FGFR1: 0.8903092234354874\n"
     ]
    },
    {
     "ename": "KeyError",
     "evalue": "'alphamissense_pathogenicity'",
     "output_type": "error",
     "traceback": [
      "\u001B[1;31m---------------------------------------------------------------------------\u001B[0m",
      "\u001B[1;31mKeyError\u001B[0m                                  Traceback (most recent call last)",
      "File \u001B[1;32m~\\PycharmProjects\\Thesis\\venv\\lib\\site-packages\\pandas\\core\\indexes\\base.py:3802\u001B[0m, in \u001B[0;36mIndex.get_loc\u001B[1;34m(self, key)\u001B[0m\n\u001B[0;32m   3801\u001B[0m \u001B[38;5;28;01mtry\u001B[39;00m:\n\u001B[1;32m-> 3802\u001B[0m     \u001B[38;5;28;01mreturn\u001B[39;00m \u001B[38;5;28;43mself\u001B[39;49m\u001B[38;5;241;43m.\u001B[39;49m\u001B[43m_engine\u001B[49m\u001B[38;5;241;43m.\u001B[39;49m\u001B[43mget_loc\u001B[49m\u001B[43m(\u001B[49m\u001B[43mcasted_key\u001B[49m\u001B[43m)\u001B[49m\n\u001B[0;32m   3803\u001B[0m \u001B[38;5;28;01mexcept\u001B[39;00m \u001B[38;5;167;01mKeyError\u001B[39;00m \u001B[38;5;28;01mas\u001B[39;00m err:\n",
      "File \u001B[1;32mindex.pyx:153\u001B[0m, in \u001B[0;36mpandas._libs.index.IndexEngine.get_loc\u001B[1;34m()\u001B[0m\n",
      "File \u001B[1;32mindex.pyx:182\u001B[0m, in \u001B[0;36mpandas._libs.index.IndexEngine.get_loc\u001B[1;34m()\u001B[0m\n",
      "File \u001B[1;32mpandas\\\\_libs\\\\hashtable_class_helper.pxi:7081\u001B[0m, in \u001B[0;36mpandas._libs.hashtable.PyObjectHashTable.get_item\u001B[1;34m()\u001B[0m\n",
      "File \u001B[1;32mpandas\\\\_libs\\\\hashtable_class_helper.pxi:7089\u001B[0m, in \u001B[0;36mpandas._libs.hashtable.PyObjectHashTable.get_item\u001B[1;34m()\u001B[0m\n",
      "\u001B[1;31mKeyError\u001B[0m: 'alphamissense_pathogenicity'",
      "\nThe above exception was the direct cause of the following exception:\n",
      "\u001B[1;31mKeyError\u001B[0m                                  Traceback (most recent call last)",
      "Cell \u001B[1;32mIn[11], line 15\u001B[0m\n\u001B[0;32m     12\u001B[0m gene_df[\u001B[38;5;124m'\u001B[39m\u001B[38;5;124mpathogenicity\u001B[39m\u001B[38;5;124m'\u001B[39m] \u001B[38;5;241m=\u001B[39m gene_df[\u001B[38;5;124m'\u001B[39m\u001B[38;5;124mpathogenicity\u001B[39m\u001B[38;5;124m'\u001B[39m]\u001B[38;5;241m.\u001B[39mastype(\u001B[38;5;28mint\u001B[39m)\n\u001B[0;32m     14\u001B[0m \u001B[38;5;66;03m# Get TP, TN, FP, FN\u001B[39;00m\n\u001B[1;32m---> 15\u001B[0m TP \u001B[38;5;241m=\u001B[39m \u001B[38;5;28mlen\u001B[39m(gene_df[(gene_df[\u001B[38;5;124m'\u001B[39m\u001B[38;5;124mpathogenicity\u001B[39m\u001B[38;5;124m'\u001B[39m] \u001B[38;5;241m==\u001B[39m \u001B[38;5;241m1\u001B[39m) \u001B[38;5;241m&\u001B[39m (\u001B[43mgene_df\u001B[49m\u001B[43m[\u001B[49m\u001B[38;5;124;43mf\u001B[39;49m\u001B[38;5;124;43m\"\u001B[39;49m\u001B[38;5;132;43;01m{\u001B[39;49;00m\u001B[43mtool\u001B[49m\u001B[38;5;132;43;01m}\u001B[39;49;00m\u001B[38;5;124;43m_pathogenicity\u001B[39;49m\u001B[38;5;124;43m\"\u001B[39;49m\u001B[43m]\u001B[49m \u001B[38;5;241m==\u001B[39m \u001B[38;5;241m1\u001B[39m)])\n\u001B[0;32m     16\u001B[0m TN \u001B[38;5;241m=\u001B[39m \u001B[38;5;28mlen\u001B[39m(gene_df[(gene_df[\u001B[38;5;124m'\u001B[39m\u001B[38;5;124mpathogenicity\u001B[39m\u001B[38;5;124m'\u001B[39m] \u001B[38;5;241m==\u001B[39m \u001B[38;5;241m0\u001B[39m) \u001B[38;5;241m&\u001B[39m (gene_df[\u001B[38;5;124mf\u001B[39m\u001B[38;5;124m\"\u001B[39m\u001B[38;5;132;01m{\u001B[39;00mtool\u001B[38;5;132;01m}\u001B[39;00m\u001B[38;5;124m_pathogenicity\u001B[39m\u001B[38;5;124m\"\u001B[39m] \u001B[38;5;241m==\u001B[39m \u001B[38;5;241m0\u001B[39m)])\n\u001B[0;32m     17\u001B[0m FP \u001B[38;5;241m=\u001B[39m \u001B[38;5;28mlen\u001B[39m(gene_df[(gene_df[\u001B[38;5;124m'\u001B[39m\u001B[38;5;124mpathogenicity\u001B[39m\u001B[38;5;124m'\u001B[39m] \u001B[38;5;241m==\u001B[39m \u001B[38;5;241m0\u001B[39m) \u001B[38;5;241m&\u001B[39m (gene_df[\u001B[38;5;124mf\u001B[39m\u001B[38;5;124m\"\u001B[39m\u001B[38;5;132;01m{\u001B[39;00mtool\u001B[38;5;132;01m}\u001B[39;00m\u001B[38;5;124m_pathogenicity\u001B[39m\u001B[38;5;124m\"\u001B[39m] \u001B[38;5;241m==\u001B[39m \u001B[38;5;241m1\u001B[39m)])\n",
      "File \u001B[1;32m~\\PycharmProjects\\Thesis\\venv\\lib\\site-packages\\pandas\\core\\frame.py:4090\u001B[0m, in \u001B[0;36mDataFrame.__getitem__\u001B[1;34m(self, key)\u001B[0m\n\u001B[0;32m   4088\u001B[0m \u001B[38;5;28;01mif\u001B[39;00m \u001B[38;5;28mself\u001B[39m\u001B[38;5;241m.\u001B[39mcolumns\u001B[38;5;241m.\u001B[39mnlevels \u001B[38;5;241m>\u001B[39m \u001B[38;5;241m1\u001B[39m:\n\u001B[0;32m   4089\u001B[0m     \u001B[38;5;28;01mreturn\u001B[39;00m \u001B[38;5;28mself\u001B[39m\u001B[38;5;241m.\u001B[39m_getitem_multilevel(key)\n\u001B[1;32m-> 4090\u001B[0m indexer \u001B[38;5;241m=\u001B[39m \u001B[38;5;28;43mself\u001B[39;49m\u001B[38;5;241;43m.\u001B[39;49m\u001B[43mcolumns\u001B[49m\u001B[38;5;241;43m.\u001B[39;49m\u001B[43mget_loc\u001B[49m\u001B[43m(\u001B[49m\u001B[43mkey\u001B[49m\u001B[43m)\u001B[49m\n\u001B[0;32m   4091\u001B[0m \u001B[38;5;28;01mif\u001B[39;00m is_integer(indexer):\n\u001B[0;32m   4092\u001B[0m     indexer \u001B[38;5;241m=\u001B[39m [indexer]\n",
      "File \u001B[1;32m~\\PycharmProjects\\Thesis\\venv\\lib\\site-packages\\pandas\\core\\indexes\\base.py:3809\u001B[0m, in \u001B[0;36mIndex.get_loc\u001B[1;34m(self, key)\u001B[0m\n\u001B[0;32m   3804\u001B[0m     \u001B[38;5;28;01mif\u001B[39;00m \u001B[38;5;28misinstance\u001B[39m(casted_key, \u001B[38;5;28mslice\u001B[39m) \u001B[38;5;129;01mor\u001B[39;00m (\n\u001B[0;32m   3805\u001B[0m         \u001B[38;5;28misinstance\u001B[39m(casted_key, abc\u001B[38;5;241m.\u001B[39mIterable)\n\u001B[0;32m   3806\u001B[0m         \u001B[38;5;129;01mand\u001B[39;00m \u001B[38;5;28many\u001B[39m(\u001B[38;5;28misinstance\u001B[39m(x, \u001B[38;5;28mslice\u001B[39m) \u001B[38;5;28;01mfor\u001B[39;00m x \u001B[38;5;129;01min\u001B[39;00m casted_key)\n\u001B[0;32m   3807\u001B[0m     ):\n\u001B[0;32m   3808\u001B[0m         \u001B[38;5;28;01mraise\u001B[39;00m InvalidIndexError(key)\n\u001B[1;32m-> 3809\u001B[0m     \u001B[38;5;28;01mraise\u001B[39;00m \u001B[38;5;167;01mKeyError\u001B[39;00m(key) \u001B[38;5;28;01mfrom\u001B[39;00m \u001B[38;5;21;01merr\u001B[39;00m\n\u001B[0;32m   3810\u001B[0m \u001B[38;5;28;01mexcept\u001B[39;00m \u001B[38;5;167;01mTypeError\u001B[39;00m:\n\u001B[0;32m   3811\u001B[0m     \u001B[38;5;66;03m# If we have a listlike key, _check_indexing_error will raise\u001B[39;00m\n\u001B[0;32m   3812\u001B[0m     \u001B[38;5;66;03m#  InvalidIndexError. Otherwise we fall through and re-raise\u001B[39;00m\n\u001B[0;32m   3813\u001B[0m     \u001B[38;5;66;03m#  the TypeError.\u001B[39;00m\n\u001B[0;32m   3814\u001B[0m     \u001B[38;5;28mself\u001B[39m\u001B[38;5;241m.\u001B[39m_check_indexing_error(key)\n",
      "\u001B[1;31mKeyError\u001B[0m: 'alphamissense_pathogenicity'"
     ]
    }
   ],
   "source": [
    "# Calculate MCC for each gene specific predictor for mutpred\n",
    "\n",
    "# Build dictionary with gene names as keys.\n",
    "mccs = {gene: 0 for gene in genes}\n",
    "\n",
    "for tool in tools:\n",
    "    for gene in genes:\n",
    "        gene_df = merged[merged[\"gene\"] == gene]\n",
    "        # Assuming you have a DataFrame called 'data' with 'prediction' and 'MutPred_score' columns\n",
    "        # Create binary predictions based on the 0.5 threshold\n",
    "        \n",
    "        gene_df['pathogenicity'] = gene_df['pathogenicity'].astype(int)\n",
    "        \n",
    "        # Get TP, TN, FP, FN\n",
    "        TP = len(gene_df[(gene_df['pathogenicity'] == 1) & (gene_df[f\"{tool}_pathogenicity\"] == 1)])\n",
    "        TN = len(gene_df[(gene_df['pathogenicity'] == 0) & (gene_df[f\"{tool}_pathogenicity\"] == 0)])\n",
    "        FP = len(gene_df[(gene_df['pathogenicity'] == 0) & (gene_df[f\"{tool}_pathogenicity\"] == 1)])\n",
    "        FN = len(gene_df[(gene_df['pathogenicity'] == 1) & (gene_df[f\"{tool}_pathogenicity\"] == 0)])\n",
    "        print(f\"{tool} --{gene} TP: {TP}, TN: {TN}, FP: {FP}, FN: {FN}\")\n",
    "        \n",
    "        # Calculate MCC\n",
    "        mcc = matthews_corrcoef(gene_df['pathogenicity'], gene_df[f\"{tool}_pathogenicity\"])\n",
    "        \n",
    "        # Get gene name for the use for the dictionary\n",
    "        gene = gene_df['gene'].unique()[0]\n",
    "        \n",
    "        # Append mcc to dictionary\n",
    "        mccs[gene] = mcc\n",
    "    \n",
    "    print(f\"MCCs of {tool} predictions for each gene:\")\n",
    "    for gene in mccs:\n",
    "        print(f\"{gene}: {mccs[gene]}\")\n",
    "        \n",
    "# get MCC for my predictions\n",
    "mccs = {gene: 0 for gene in genes}\n",
    "\n",
    "for gene in genes:\n",
    "    gene_df = merged[merged[\"gene\"] == gene]\n",
    "    # Assuming you have a DataFrame called 'data' with 'prediction' and 'MutPred_score' columns\n",
    "    # Create binary predictions based on the 0.5 threshold\n",
    "    \n",
    "    gene_df['pathogenicity'] = gene_df['pathogenicity'].astype(int)\n",
    "    gene_df['prediction'] = gene_df['prediction'].astype(int)\n",
    "    \n",
    "    # Get TP, TN, FP, FN\n",
    "    TP = len(gene_df[(gene_df['pathogenicity'] == 1) & (gene_df['prediction'] == 1)])\n",
    "    TN = len(gene_df[(gene_df['pathogenicity'] == 0) & (gene_df['prediction'] == 0)])\n",
    "    FP = len(gene_df[(gene_df['pathogenicity'] == 0) & (gene_df['prediction'] == 1)])\n",
    "    FN = len(gene_df[(gene_df['pathogenicity'] == 1) & (gene_df['prediction'] == 0)])\n",
    "    \n",
    "    print(f\"my tool: {gene} TP: {TP}, TN: {TN}, FP: {FP}, FN: {FN}\")\n",
    "    \n",
    "    # Calculate MCC\n",
    "    mcc = matthews_corrcoef(gene_df['pathogenicity'], gene_df['prediction'])\n",
    "    \n",
    "    # Get gene name for the use for the dictionary\n",
    "    gene = gene_df['gene'].unique()[0]\n",
    "    \n",
    "    # Append mcc to dictionary\n",
    "    mccs[gene] = mcc\n",
    "\n",
    "print(f\"MCCs of predictions for each gene:\")\n",
    "for gene in mccs:\n",
    "    print(f\"{gene}: {mccs[gene]}\")\n"
   ],
   "metadata": {
    "collapsed": false,
    "ExecuteTime": {
     "end_time": "2024-04-09T12:35:20.207994600Z",
     "start_time": "2024-04-09T12:35:19.289143500Z"
    }
   },
   "id": "e534a510288960cb"
  },
  {
   "cell_type": "code",
   "execution_count": 14,
   "outputs": [
    {
     "ename": "KeyError",
     "evalue": "'MutPred_score'",
     "output_type": "error",
     "traceback": [
      "\u001B[1;31m---------------------------------------------------------------------------\u001B[0m",
      "\u001B[1;31mKeyError\u001B[0m                                  Traceback (most recent call last)",
      "File \u001B[1;32m~\\PycharmProjects\\Thesis\\venv\\lib\\site-packages\\pandas\\core\\indexes\\base.py:3802\u001B[0m, in \u001B[0;36mIndex.get_loc\u001B[1;34m(self, key)\u001B[0m\n\u001B[0;32m   3801\u001B[0m \u001B[38;5;28;01mtry\u001B[39;00m:\n\u001B[1;32m-> 3802\u001B[0m     \u001B[38;5;28;01mreturn\u001B[39;00m \u001B[38;5;28;43mself\u001B[39;49m\u001B[38;5;241;43m.\u001B[39;49m\u001B[43m_engine\u001B[49m\u001B[38;5;241;43m.\u001B[39;49m\u001B[43mget_loc\u001B[49m\u001B[43m(\u001B[49m\u001B[43mcasted_key\u001B[49m\u001B[43m)\u001B[49m\n\u001B[0;32m   3803\u001B[0m \u001B[38;5;28;01mexcept\u001B[39;00m \u001B[38;5;167;01mKeyError\u001B[39;00m \u001B[38;5;28;01mas\u001B[39;00m err:\n",
      "File \u001B[1;32mindex.pyx:153\u001B[0m, in \u001B[0;36mpandas._libs.index.IndexEngine.get_loc\u001B[1;34m()\u001B[0m\n",
      "File \u001B[1;32mindex.pyx:182\u001B[0m, in \u001B[0;36mpandas._libs.index.IndexEngine.get_loc\u001B[1;34m()\u001B[0m\n",
      "File \u001B[1;32mpandas\\\\_libs\\\\hashtable_class_helper.pxi:7081\u001B[0m, in \u001B[0;36mpandas._libs.hashtable.PyObjectHashTable.get_item\u001B[1;34m()\u001B[0m\n",
      "File \u001B[1;32mpandas\\\\_libs\\\\hashtable_class_helper.pxi:7089\u001B[0m, in \u001B[0;36mpandas._libs.hashtable.PyObjectHashTable.get_item\u001B[1;34m()\u001B[0m\n",
      "\u001B[1;31mKeyError\u001B[0m: 'MutPred_score'",
      "\nThe above exception was the direct cause of the following exception:\n",
      "\u001B[1;31mKeyError\u001B[0m                                  Traceback (most recent call last)",
      "Cell \u001B[1;32mIn[14], line 8\u001B[0m\n\u001B[0;32m      6\u001B[0m gene_df \u001B[38;5;241m=\u001B[39m merged[merged[\u001B[38;5;124m\"\u001B[39m\u001B[38;5;124mgene\u001B[39m\u001B[38;5;124m\"\u001B[39m] \u001B[38;5;241m==\u001B[39m gene]\n\u001B[0;32m      7\u001B[0m y_true \u001B[38;5;241m=\u001B[39m gene_df[\u001B[38;5;124m\"\u001B[39m\u001B[38;5;124mpathogenicity\u001B[39m\u001B[38;5;124m\"\u001B[39m]\u001B[38;5;241m.\u001B[39mastype(\u001B[38;5;28mint\u001B[39m)\n\u001B[1;32m----> 8\u001B[0m predicted_probabilities \u001B[38;5;241m=\u001B[39m \u001B[43mgene_df\u001B[49m\u001B[43m[\u001B[49m\u001B[38;5;124;43m\"\u001B[39;49m\u001B[38;5;124;43mMutPred_score\u001B[39;49m\u001B[38;5;124;43m\"\u001B[39;49m\u001B[43m]\u001B[49m\n\u001B[0;32m      9\u001B[0m gene_df\u001B[38;5;241m.\u001B[39mloc[:, \u001B[38;5;124m'\u001B[39m\u001B[38;5;124mbinary_prediction_mutpred\u001B[39m\u001B[38;5;124m'\u001B[39m] \u001B[38;5;241m=\u001B[39m (gene_df[\u001B[38;5;124m'\u001B[39m\u001B[38;5;124mMutPred_score\u001B[39m\u001B[38;5;124m'\u001B[39m] \u001B[38;5;241m>\u001B[39m \u001B[38;5;241m0.5\u001B[39m)\u001B[38;5;241m.\u001B[39mastype(\u001B[38;5;28mint\u001B[39m)\n\u001B[0;32m     10\u001B[0m predicted_labels \u001B[38;5;241m=\u001B[39m gene_df[\u001B[38;5;124m\"\u001B[39m\u001B[38;5;124mbinary_prediction_mutpred\u001B[39m\u001B[38;5;124m\"\u001B[39m]\n",
      "File \u001B[1;32m~\\PycharmProjects\\Thesis\\venv\\lib\\site-packages\\pandas\\core\\frame.py:4090\u001B[0m, in \u001B[0;36mDataFrame.__getitem__\u001B[1;34m(self, key)\u001B[0m\n\u001B[0;32m   4088\u001B[0m \u001B[38;5;28;01mif\u001B[39;00m \u001B[38;5;28mself\u001B[39m\u001B[38;5;241m.\u001B[39mcolumns\u001B[38;5;241m.\u001B[39mnlevels \u001B[38;5;241m>\u001B[39m \u001B[38;5;241m1\u001B[39m:\n\u001B[0;32m   4089\u001B[0m     \u001B[38;5;28;01mreturn\u001B[39;00m \u001B[38;5;28mself\u001B[39m\u001B[38;5;241m.\u001B[39m_getitem_multilevel(key)\n\u001B[1;32m-> 4090\u001B[0m indexer \u001B[38;5;241m=\u001B[39m \u001B[38;5;28;43mself\u001B[39;49m\u001B[38;5;241;43m.\u001B[39;49m\u001B[43mcolumns\u001B[49m\u001B[38;5;241;43m.\u001B[39;49m\u001B[43mget_loc\u001B[49m\u001B[43m(\u001B[49m\u001B[43mkey\u001B[49m\u001B[43m)\u001B[49m\n\u001B[0;32m   4091\u001B[0m \u001B[38;5;28;01mif\u001B[39;00m is_integer(indexer):\n\u001B[0;32m   4092\u001B[0m     indexer \u001B[38;5;241m=\u001B[39m [indexer]\n",
      "File \u001B[1;32m~\\PycharmProjects\\Thesis\\venv\\lib\\site-packages\\pandas\\core\\indexes\\base.py:3809\u001B[0m, in \u001B[0;36mIndex.get_loc\u001B[1;34m(self, key)\u001B[0m\n\u001B[0;32m   3804\u001B[0m     \u001B[38;5;28;01mif\u001B[39;00m \u001B[38;5;28misinstance\u001B[39m(casted_key, \u001B[38;5;28mslice\u001B[39m) \u001B[38;5;129;01mor\u001B[39;00m (\n\u001B[0;32m   3805\u001B[0m         \u001B[38;5;28misinstance\u001B[39m(casted_key, abc\u001B[38;5;241m.\u001B[39mIterable)\n\u001B[0;32m   3806\u001B[0m         \u001B[38;5;129;01mand\u001B[39;00m \u001B[38;5;28many\u001B[39m(\u001B[38;5;28misinstance\u001B[39m(x, \u001B[38;5;28mslice\u001B[39m) \u001B[38;5;28;01mfor\u001B[39;00m x \u001B[38;5;129;01min\u001B[39;00m casted_key)\n\u001B[0;32m   3807\u001B[0m     ):\n\u001B[0;32m   3808\u001B[0m         \u001B[38;5;28;01mraise\u001B[39;00m InvalidIndexError(key)\n\u001B[1;32m-> 3809\u001B[0m     \u001B[38;5;28;01mraise\u001B[39;00m \u001B[38;5;167;01mKeyError\u001B[39;00m(key) \u001B[38;5;28;01mfrom\u001B[39;00m \u001B[38;5;21;01merr\u001B[39;00m\n\u001B[0;32m   3810\u001B[0m \u001B[38;5;28;01mexcept\u001B[39;00m \u001B[38;5;167;01mTypeError\u001B[39;00m:\n\u001B[0;32m   3811\u001B[0m     \u001B[38;5;66;03m# If we have a listlike key, _check_indexing_error will raise\u001B[39;00m\n\u001B[0;32m   3812\u001B[0m     \u001B[38;5;66;03m#  InvalidIndexError. Otherwise we fall through and re-raise\u001B[39;00m\n\u001B[0;32m   3813\u001B[0m     \u001B[38;5;66;03m#  the TypeError.\u001B[39;00m\n\u001B[0;32m   3814\u001B[0m     \u001B[38;5;28mself\u001B[39m\u001B[38;5;241m.\u001B[39m_check_indexing_error(key)\n",
      "\u001B[1;31mKeyError\u001B[0m: 'MutPred_score'"
     ]
    }
   ],
   "source": [
    "from sklearn.metrics import roc_auc_score, roc_curve, auc, precision_recall_curve, average_precision_score, f1_score, log_loss, confusion_matrix\n",
    "# store the results in a dictionary\n",
    "results = {gene: 0 for gene in genes}\n",
    "\n",
    "for gene in genes:\n",
    "    gene_df = merged[merged[\"gene\"] == gene]\n",
    "    y_true = gene_df[\"pathogenicity\"].astype(int)\n",
    "    predicted_probabilities = gene_df[\"MutPred_score\"]\n",
    "    gene_df.loc[:, 'binary_prediction_mutpred'] = (gene_df['MutPred_score'] > 0.5).astype(int)\n",
    "    predicted_labels = gene_df[\"binary_prediction_mutpred\"]\n",
    "    \n",
    "    results_gene = {}\n",
    "    # Calculate AUC-ROC\n",
    "    roc_auc = roc_auc_score(y_true, predicted_probabilities)\n",
    "    # append to dictionary\n",
    "    results_gene[\"roc_auc\"] = roc_auc\n",
    "    \n",
    "    # Calculate ROC curve\n",
    "    fpr, tpr, thresholds = roc_curve(y_true, predicted_probabilities)\n",
    "    roc_auc = auc(fpr, tpr)\n",
    "    # append to dictionary\n",
    "    results_gene[\"auc\"] = roc_auc\n",
    "    \n",
    "    # Calculate AUC-PR\n",
    "    precision, recall, _ = precision_recall_curve(y_true, predicted_probabilities)\n",
    "    pr_auc = auc(recall, precision)\n",
    "    # append to dictionary\n",
    "    results_gene[\"pr_auc\"] = pr_auc\n",
    "    \n",
    "    # Calculate F1 Score\n",
    "    f1 = f1_score(y_true, predicted_labels)\n",
    "    # append to dictionary\n",
    "    results_gene[\"f1\"] = f1\n",
    "    \n",
    "    # Calculate Log Loss\n",
    "    logloss = log_loss(y_true, predicted_probabilities)\n",
    "    # append to dictionary\n",
    "    results_gene[\"logloss\"] = logloss\n",
    "    \n",
    "    # Calculate confusion matrix\n",
    "    conf_matrix = confusion_matrix(y_true, predicted_labels)\n",
    "    # append to dictionary\n",
    "    results_gene[\"confusion_matrix\"] = conf_matrix\n",
    "    \n",
    "    # Get gene name for the use for the dictionary\n",
    "    gene = gene_df['gene'].unique()[0]\n",
    "    # Append results to dictionary\n",
    "    results[gene] = results_gene\n",
    "    \n",
    "## Print results\n",
    "print(\"Results of MutPred2 predictions for each gene:\")\n",
    "for gene in results:\n",
    "    print(f\"{gene}: {results[gene]}\")"
   ],
   "metadata": {
    "collapsed": false,
    "ExecuteTime": {
     "end_time": "2024-04-09T12:36:35.226107200Z",
     "start_time": "2024-04-09T12:36:35.156869200Z"
    }
   },
   "id": "f799b7d2cd6a08da"
  },
  {
   "cell_type": "code",
   "execution_count": 12,
   "outputs": [
    {
     "ename": "NameError",
     "evalue": "name 'results' is not defined",
     "output_type": "error",
     "traceback": [
      "\u001B[1;31m---------------------------------------------------------------------------\u001B[0m",
      "\u001B[1;31mNameError\u001B[0m                                 Traceback (most recent call last)",
      "Cell \u001B[1;32mIn[12], line 4\u001B[0m\n\u001B[0;32m      1\u001B[0m \u001B[38;5;66;03m# present the confusion matrix for each gene\u001B[39;00m\n\u001B[0;32m      2\u001B[0m \u001B[38;5;28;01mimport\u001B[39;00m \u001B[38;5;21;01mmatplotlib\u001B[39;00m\u001B[38;5;21;01m.\u001B[39;00m\u001B[38;5;21;01mpyplot\u001B[39;00m \u001B[38;5;28;01mas\u001B[39;00m \u001B[38;5;21;01mplt\u001B[39;00m\n\u001B[1;32m----> 4\u001B[0m \u001B[38;5;28;01mfor\u001B[39;00m gene \u001B[38;5;129;01min\u001B[39;00m \u001B[43mresults\u001B[49m:\n\u001B[0;32m      5\u001B[0m     \u001B[38;5;66;03m# Plot confusion matrix\u001B[39;00m\n\u001B[0;32m      6\u001B[0m     plt\u001B[38;5;241m.\u001B[39mimshow(results[gene][\u001B[38;5;124m\"\u001B[39m\u001B[38;5;124mconfusion_matrix\u001B[39m\u001B[38;5;124m\"\u001B[39m], cmap\u001B[38;5;241m=\u001B[39mplt\u001B[38;5;241m.\u001B[39mcm\u001B[38;5;241m.\u001B[39mBlues)\n\u001B[0;32m      7\u001B[0m     plt\u001B[38;5;241m.\u001B[39mxlabel(\u001B[38;5;124m\"\u001B[39m\u001B[38;5;124mPredicted labels\u001B[39m\u001B[38;5;124m\"\u001B[39m)\n",
      "\u001B[1;31mNameError\u001B[0m: name 'results' is not defined"
     ]
    }
   ],
   "source": [
    "# present the confusion matrix for each gene\n",
    "import matplotlib.pyplot as plt\n",
    "\n",
    "for gene in results:\n",
    "    # Plot confusion matrix\n",
    "    plt.imshow(results[gene][\"confusion_matrix\"], cmap=plt.cm.Blues)\n",
    "    plt.xlabel(\"Predicted labels\")\n",
    "    plt.ylabel(\"True labels\")\n",
    "    plt.xticks([0, 1], [\"Benign\", \"Pathogenic\"])\n",
    "    plt.yticks([0, 1], [\"Benign\", \"Pathogenic\"])\n",
    "    plt.title(f\"Confusion matrix for {gene}, MutPred2 predictions\")\n",
    "    plt.style.use(\"seaborn-white\")\n",
    "    # Add text annotations\n",
    "    for i in range(2):\n",
    "        for j in range(2):\n",
    "            plt.text(j, i, results[gene][\"confusion_matrix\"][i, j], ha=\"center\", va=\"center\", color=\"black\", backgroundcolor=\"white\")\n",
    "    plt.colorbar()\n",
    "    plt.show()"
   ],
   "metadata": {
    "collapsed": false,
    "ExecuteTime": {
     "end_time": "2024-04-09T12:35:20.790933500Z",
     "start_time": "2024-04-09T12:35:20.773433900Z"
    }
   },
   "id": "f079a669b25f338e"
  },
  {
   "cell_type": "code",
   "execution_count": 13,
   "outputs": [
    {
     "ename": "NameError",
     "evalue": "name 'results' is not defined",
     "output_type": "error",
     "traceback": [
      "\u001B[1;31m---------------------------------------------------------------------------\u001B[0m",
      "\u001B[1;31mNameError\u001B[0m                                 Traceback (most recent call last)",
      "Cell \u001B[1;32mIn[13], line 2\u001B[0m\n\u001B[0;32m      1\u001B[0m \u001B[38;5;66;03m# present the ROC curve for each gene\u001B[39;00m\n\u001B[1;32m----> 2\u001B[0m \u001B[38;5;28;01mfor\u001B[39;00m gene \u001B[38;5;129;01min\u001B[39;00m \u001B[43mresults\u001B[49m:\n\u001B[0;32m      3\u001B[0m     \u001B[38;5;66;03m# Plot ROC curve\u001B[39;00m\n\u001B[0;32m      4\u001B[0m     plt\u001B[38;5;241m.\u001B[39mplot(fpr, tpr, color\u001B[38;5;241m=\u001B[39m\u001B[38;5;124m\"\u001B[39m\u001B[38;5;124mdarkorange\u001B[39m\u001B[38;5;124m\"\u001B[39m, lw\u001B[38;5;241m=\u001B[39m\u001B[38;5;241m2\u001B[39m, label\u001B[38;5;241m=\u001B[39m\u001B[38;5;124mf\u001B[39m\u001B[38;5;124m\"\u001B[39m\u001B[38;5;124mROC curve (area = \u001B[39m\u001B[38;5;132;01m{\u001B[39;00mresults[gene][\u001B[38;5;124m'\u001B[39m\u001B[38;5;124mroc_auc\u001B[39m\u001B[38;5;124m'\u001B[39m]\u001B[38;5;132;01m:\u001B[39;00m\u001B[38;5;124m.2f\u001B[39m\u001B[38;5;132;01m}\u001B[39;00m\u001B[38;5;124m)\u001B[39m\u001B[38;5;124m\"\u001B[39m)\n\u001B[0;32m      5\u001B[0m     plt\u001B[38;5;241m.\u001B[39mplot([\u001B[38;5;241m0\u001B[39m, \u001B[38;5;241m1\u001B[39m], [\u001B[38;5;241m0\u001B[39m, \u001B[38;5;241m1\u001B[39m], color\u001B[38;5;241m=\u001B[39m\u001B[38;5;124m\"\u001B[39m\u001B[38;5;124mnavy\u001B[39m\u001B[38;5;124m\"\u001B[39m, lw\u001B[38;5;241m=\u001B[39m\u001B[38;5;241m2\u001B[39m, linestyle\u001B[38;5;241m=\u001B[39m\u001B[38;5;124m\"\u001B[39m\u001B[38;5;124m--\u001B[39m\u001B[38;5;124m\"\u001B[39m)\n",
      "\u001B[1;31mNameError\u001B[0m: name 'results' is not defined"
     ]
    }
   ],
   "source": [
    "# present the ROC curve for each gene\n",
    "for gene in results:\n",
    "    # Plot ROC curve\n",
    "    plt.plot(fpr, tpr, color=\"darkorange\", lw=2, label=f\"ROC curve (area = {results[gene]['roc_auc']:.2f})\")\n",
    "    plt.plot([0, 1], [0, 1], color=\"navy\", lw=2, linestyle=\"--\")\n",
    "    plt.xlim([0.0, 1.0])\n",
    "    plt.ylim([0.0, 1.05])\n",
    "    plt.xlabel(\"False Positive Rate\")\n",
    "    plt.ylabel(\"True Positive Rate\")\n",
    "    plt.title(f\"ROC curve for {gene}, MutPred2 predictions\")\n",
    "    plt.legend(loc=\"lower right\")\n",
    "    plt.show()"
   ],
   "metadata": {
    "collapsed": false,
    "ExecuteTime": {
     "end_time": "2024-04-09T12:35:22.011451200Z",
     "start_time": "2024-04-09T12:35:21.900730100Z"
    }
   },
   "id": "593e79ee559d6f62"
  }
 ],
 "metadata": {
  "kernelspec": {
   "display_name": "Python 3",
   "language": "python",
   "name": "python3"
  },
  "language_info": {
   "codemirror_mode": {
    "name": "ipython",
    "version": 2
   },
   "file_extension": ".py",
   "mimetype": "text/x-python",
   "name": "python",
   "nbconvert_exporter": "python",
   "pygments_lexer": "ipython2",
   "version": "2.7.6"
  }
 },
 "nbformat": 4,
 "nbformat_minor": 5
}
