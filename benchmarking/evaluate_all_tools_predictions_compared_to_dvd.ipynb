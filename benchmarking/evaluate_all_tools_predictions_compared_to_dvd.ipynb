{
 "cells": [
  {
   "cell_type": "raw",
   "source": [],
   "metadata": {
    "collapsed": false
   },
   "id": "daae3bd731bad53b"
  },
  {
   "cell_type": "code",
   "execution_count": 142,
   "outputs": [],
   "source": [
    "import pandas as pd"
   ],
   "metadata": {
    "collapsed": false,
    "ExecuteTime": {
     "end_time": "2023-11-14T16:17:36.662470800Z",
     "start_time": "2023-11-14T16:17:36.607088600Z"
    }
   },
   "id": "initial_id"
  },
  {
   "cell_type": "code",
   "execution_count": 143,
   "outputs": [
    {
     "data": {
      "text/plain": "     position pathogenicity predictions variant     gene\n0           6             0           0     G6S  SLC26A4\n1          21             0           1    M21V  SLC26A4\n2          51             0           0    A51T  SLC26A4\n3          53             0           1    C53G  SLC26A4\n4         163             0           1   V163I  SLC26A4\n...       ...           ...         ...     ...      ...\n4516     1045             1           1  G1045V   COL4A3\n4517      871             1           1   G871C   COL4A3\n4518      853             1           1   G853R   COL4A3\n4519       25             0           0    P25S   COL4A3\n4520     1209             0           0  M1209I   COL4A3\n\n[4521 rows x 5 columns]",
      "text/html": "<div>\n<style scoped>\n    .dataframe tbody tr th:only-of-type {\n        vertical-align: middle;\n    }\n\n    .dataframe tbody tr th {\n        vertical-align: top;\n    }\n\n    .dataframe thead th {\n        text-align: right;\n    }\n</style>\n<table border=\"1\" class=\"dataframe\">\n  <thead>\n    <tr style=\"text-align: right;\">\n      <th></th>\n      <th>position</th>\n      <th>pathogenicity</th>\n      <th>predictions</th>\n      <th>variant</th>\n      <th>gene</th>\n    </tr>\n  </thead>\n  <tbody>\n    <tr>\n      <th>0</th>\n      <td>6</td>\n      <td>0</td>\n      <td>0</td>\n      <td>G6S</td>\n      <td>SLC26A4</td>\n    </tr>\n    <tr>\n      <th>1</th>\n      <td>21</td>\n      <td>0</td>\n      <td>1</td>\n      <td>M21V</td>\n      <td>SLC26A4</td>\n    </tr>\n    <tr>\n      <th>2</th>\n      <td>51</td>\n      <td>0</td>\n      <td>0</td>\n      <td>A51T</td>\n      <td>SLC26A4</td>\n    </tr>\n    <tr>\n      <th>3</th>\n      <td>53</td>\n      <td>0</td>\n      <td>1</td>\n      <td>C53G</td>\n      <td>SLC26A4</td>\n    </tr>\n    <tr>\n      <th>4</th>\n      <td>163</td>\n      <td>0</td>\n      <td>1</td>\n      <td>V163I</td>\n      <td>SLC26A4</td>\n    </tr>\n    <tr>\n      <th>...</th>\n      <td>...</td>\n      <td>...</td>\n      <td>...</td>\n      <td>...</td>\n      <td>...</td>\n    </tr>\n    <tr>\n      <th>4516</th>\n      <td>1045</td>\n      <td>1</td>\n      <td>1</td>\n      <td>G1045V</td>\n      <td>COL4A3</td>\n    </tr>\n    <tr>\n      <th>4517</th>\n      <td>871</td>\n      <td>1</td>\n      <td>1</td>\n      <td>G871C</td>\n      <td>COL4A3</td>\n    </tr>\n    <tr>\n      <th>4518</th>\n      <td>853</td>\n      <td>1</td>\n      <td>1</td>\n      <td>G853R</td>\n      <td>COL4A3</td>\n    </tr>\n    <tr>\n      <th>4519</th>\n      <td>25</td>\n      <td>0</td>\n      <td>0</td>\n      <td>P25S</td>\n      <td>COL4A3</td>\n    </tr>\n    <tr>\n      <th>4520</th>\n      <td>1209</td>\n      <td>0</td>\n      <td>0</td>\n      <td>M1209I</td>\n      <td>COL4A3</td>\n    </tr>\n  </tbody>\n</table>\n<p>4521 rows × 5 columns</p>\n</div>"
     },
     "execution_count": 143,
     "metadata": {},
     "output_type": "execute_result"
    }
   ],
   "source": [
    "my_prediction = pd.read_csv(\"C:\\\\Users\\\\InbarBlech\\\\PycharmProjects\\\\Thesis\\\\predictions_vs_real\\\\all_inbar_predictions.csv\")\n",
    "my_prediction"
   ],
   "metadata": {
    "collapsed": false,
    "ExecuteTime": {
     "end_time": "2023-11-14T16:17:36.662470800Z",
     "start_time": "2023-11-14T16:17:36.622713100Z"
    }
   },
   "id": "8685d0fb796c552f"
  },
  {
   "cell_type": "code",
   "execution_count": 144,
   "outputs": [],
   "source": [
    "tools = [\"VEST\"]"
   ],
   "metadata": {
    "collapsed": false,
    "ExecuteTime": {
     "end_time": "2023-11-14T16:17:36.662470800Z",
     "start_time": "2023-11-14T16:17:36.638332200Z"
    }
   },
   "id": "7868b5d5c58129d2"
  },
  {
   "cell_type": "code",
   "execution_count": 145,
   "outputs": [
    {
     "data": {
      "text/plain": "     position pathogenicity predictions variant     gene  Unnamed: 0  \\\n0           6             0           0     G6S  SLC26A4           0   \n1          21             0           1    M21V  SLC26A4           1   \n2          51             0           0    A51T  SLC26A4           2   \n3          53             0           1    C53G  SLC26A4           3   \n4         180             0           1   A180T  SLC26A4           4   \n...       ...           ...         ...     ...      ...         ...   \n3548     1045             1           1  G1045V   COL4A3        3488   \n3549      871             1           1   G871C   COL4A3        3489   \n3550      853             1           1   G853R   COL4A3        3490   \n3551       25             0           0    P25S   COL4A3        3491   \n3552     1209             0           0  M1209I   COL4A3        3492   \n\n      VEST_score  VEST_pathogenicity  \n0          0.104                   0  \n1          0.037                   0  \n2          0.188                   0  \n3          0.062                   0  \n4          0.177                   0  \n...          ...                 ...  \n3548       0.986                   1  \n3549       0.968                   1  \n3550       0.979                   1  \n3551       0.101                   0  \n3552       0.154                   0  \n\n[3553 rows x 8 columns]",
      "text/html": "<div>\n<style scoped>\n    .dataframe tbody tr th:only-of-type {\n        vertical-align: middle;\n    }\n\n    .dataframe tbody tr th {\n        vertical-align: top;\n    }\n\n    .dataframe thead th {\n        text-align: right;\n    }\n</style>\n<table border=\"1\" class=\"dataframe\">\n  <thead>\n    <tr style=\"text-align: right;\">\n      <th></th>\n      <th>position</th>\n      <th>pathogenicity</th>\n      <th>predictions</th>\n      <th>variant</th>\n      <th>gene</th>\n      <th>Unnamed: 0</th>\n      <th>VEST_score</th>\n      <th>VEST_pathogenicity</th>\n    </tr>\n  </thead>\n  <tbody>\n    <tr>\n      <th>0</th>\n      <td>6</td>\n      <td>0</td>\n      <td>0</td>\n      <td>G6S</td>\n      <td>SLC26A4</td>\n      <td>0</td>\n      <td>0.104</td>\n      <td>0</td>\n    </tr>\n    <tr>\n      <th>1</th>\n      <td>21</td>\n      <td>0</td>\n      <td>1</td>\n      <td>M21V</td>\n      <td>SLC26A4</td>\n      <td>1</td>\n      <td>0.037</td>\n      <td>0</td>\n    </tr>\n    <tr>\n      <th>2</th>\n      <td>51</td>\n      <td>0</td>\n      <td>0</td>\n      <td>A51T</td>\n      <td>SLC26A4</td>\n      <td>2</td>\n      <td>0.188</td>\n      <td>0</td>\n    </tr>\n    <tr>\n      <th>3</th>\n      <td>53</td>\n      <td>0</td>\n      <td>1</td>\n      <td>C53G</td>\n      <td>SLC26A4</td>\n      <td>3</td>\n      <td>0.062</td>\n      <td>0</td>\n    </tr>\n    <tr>\n      <th>4</th>\n      <td>180</td>\n      <td>0</td>\n      <td>1</td>\n      <td>A180T</td>\n      <td>SLC26A4</td>\n      <td>4</td>\n      <td>0.177</td>\n      <td>0</td>\n    </tr>\n    <tr>\n      <th>...</th>\n      <td>...</td>\n      <td>...</td>\n      <td>...</td>\n      <td>...</td>\n      <td>...</td>\n      <td>...</td>\n      <td>...</td>\n      <td>...</td>\n    </tr>\n    <tr>\n      <th>3548</th>\n      <td>1045</td>\n      <td>1</td>\n      <td>1</td>\n      <td>G1045V</td>\n      <td>COL4A3</td>\n      <td>3488</td>\n      <td>0.986</td>\n      <td>1</td>\n    </tr>\n    <tr>\n      <th>3549</th>\n      <td>871</td>\n      <td>1</td>\n      <td>1</td>\n      <td>G871C</td>\n      <td>COL4A3</td>\n      <td>3489</td>\n      <td>0.968</td>\n      <td>1</td>\n    </tr>\n    <tr>\n      <th>3550</th>\n      <td>853</td>\n      <td>1</td>\n      <td>1</td>\n      <td>G853R</td>\n      <td>COL4A3</td>\n      <td>3490</td>\n      <td>0.979</td>\n      <td>1</td>\n    </tr>\n    <tr>\n      <th>3551</th>\n      <td>25</td>\n      <td>0</td>\n      <td>0</td>\n      <td>P25S</td>\n      <td>COL4A3</td>\n      <td>3491</td>\n      <td>0.101</td>\n      <td>0</td>\n    </tr>\n    <tr>\n      <th>3552</th>\n      <td>1209</td>\n      <td>0</td>\n      <td>0</td>\n      <td>M1209I</td>\n      <td>COL4A3</td>\n      <td>3492</td>\n      <td>0.154</td>\n      <td>0</td>\n    </tr>\n  </tbody>\n</table>\n<p>3553 rows × 8 columns</p>\n</div>"
     },
     "execution_count": 145,
     "metadata": {},
     "output_type": "execute_result"
    }
   ],
   "source": [
    "merged = my_prediction\n",
    "for tool in tools:\n",
    "    tool_predictions = pd.read_csv(f\"C:\\\\Users\\\\InbarBlech\\\\PycharmProjects\\\\Thesis\\\\benchmarking\\\\{tool}_on_dvd_data_predictions.csv\")\n",
    "    # Merge the two files\n",
    "    merged = pd.merge(merged, tool_predictions, on=[\"gene\", \"variant\"])\n",
    "merged"
   ],
   "metadata": {
    "collapsed": false,
    "ExecuteTime": {
     "end_time": "2023-11-14T16:17:36.670386700Z",
     "start_time": "2023-11-14T16:17:36.653952600Z"
    }
   },
   "id": "e4e064fbe990a564"
  },
  {
   "cell_type": "code",
   "execution_count": 146,
   "outputs": [
    {
     "data": {
      "text/plain": "MYO7A      1097\nCOL2A1      839\nCOL4A5      597\nCOL4A3      358\nFGFR1       354\nSLC26A4     308\nName: gene, dtype: int64"
     },
     "execution_count": 146,
     "metadata": {},
     "output_type": "execute_result"
    }
   ],
   "source": [
    "# Print how many variants there are from each gene\n",
    "merged[\"gene\"].value_counts()\n",
    "\n",
    "### Notice that VEST4 doesn't have data of WFS1, and REVEL doesn't have data for SLC26A4."
   ],
   "metadata": {
    "collapsed": false,
    "ExecuteTime": {
     "end_time": "2023-11-14T16:17:36.700428900Z",
     "start_time": "2023-11-14T16:17:36.670386700Z"
    }
   },
   "id": "decaf399b7b1149b"
  },
  {
   "cell_type": "code",
   "execution_count": 147,
   "outputs": [],
   "source": [
    "## Calculate the MCC for the predictions, according to the real pathogenicity (0 or 1)\n",
    "from sklearn.metrics import matthews_corrcoef"
   ],
   "metadata": {
    "collapsed": false,
    "ExecuteTime": {
     "end_time": "2023-11-14T16:17:36.747200600Z",
     "start_time": "2023-11-14T16:17:36.686033200Z"
    }
   },
   "id": "57a3d8604bb08730"
  },
  {
   "cell_type": "code",
   "execution_count": 148,
   "outputs": [
    {
     "name": "stdout",
     "output_type": "stream",
     "text": [
      "Number of genes: 6\n"
     ]
    }
   ],
   "source": [
    "# separate the merged dataframe according to gene\n",
    "genes = merged[\"gene\"].unique()\n",
    "print(f\"Number of genes: {len(genes)}\")"
   ],
   "metadata": {
    "collapsed": false,
    "ExecuteTime": {
     "end_time": "2023-11-14T16:17:36.778354600Z",
     "start_time": "2023-11-14T16:17:36.700428900Z"
    }
   },
   "id": "82b8979a837034b9"
  },
  {
   "cell_type": "code",
   "execution_count": 149,
   "outputs": [
    {
     "name": "stdout",
     "output_type": "stream",
     "text": [
      "MCCs of VEST predictions for each gene:\n",
      "SLC26A4: 0.907534543157961\n",
      "FGFR1: 0.7315749764637576\n",
      "COL2A1: 0.8806798282981236\n",
      "COL4A5: 0.9584476056701803\n",
      "MYO7A: 0.5677893215850368\n",
      "COL4A3: 0.7942013386868483\n",
      "MCCs of predictions for each gene:\n",
      "SLC26A4: 0.09773691446699974\n",
      "FGFR1: 0.5274720860822589\n",
      "COL2A1: 0.6507754732637137\n",
      "COL4A5: 0.33660891604674725\n",
      "MYO7A: 0.4043404609098987\n",
      "COL4A3: 0.5792191706990236\n"
     ]
    },
    {
     "name": "stderr",
     "output_type": "stream",
     "text": [
      "C:\\Users\\InbarBlech\\AppData\\Local\\Temp\\ipykernel_23524\\41423480.py:12: SettingWithCopyWarning: \n",
      "A value is trying to be set on a copy of a slice from a DataFrame.\n",
      "Try using .loc[row_indexer,col_indexer] = value instead\n",
      "\n",
      "See the caveats in the documentation: https://pandas.pydata.org/pandas-docs/stable/user_guide/indexing.html#returning-a-view-versus-a-copy\n",
      "  gene_df['pathogenicity'] = gene_df['pathogenicity'].astype(int)\n",
      "C:\\Users\\InbarBlech\\AppData\\Local\\Temp\\ipykernel_23524\\41423480.py:12: SettingWithCopyWarning: \n",
      "A value is trying to be set on a copy of a slice from a DataFrame.\n",
      "Try using .loc[row_indexer,col_indexer] = value instead\n",
      "\n",
      "See the caveats in the documentation: https://pandas.pydata.org/pandas-docs/stable/user_guide/indexing.html#returning-a-view-versus-a-copy\n",
      "  gene_df['pathogenicity'] = gene_df['pathogenicity'].astype(int)\n",
      "C:\\Users\\InbarBlech\\AppData\\Local\\Temp\\ipykernel_23524\\41423480.py:12: SettingWithCopyWarning: \n",
      "A value is trying to be set on a copy of a slice from a DataFrame.\n",
      "Try using .loc[row_indexer,col_indexer] = value instead\n",
      "\n",
      "See the caveats in the documentation: https://pandas.pydata.org/pandas-docs/stable/user_guide/indexing.html#returning-a-view-versus-a-copy\n",
      "  gene_df['pathogenicity'] = gene_df['pathogenicity'].astype(int)\n",
      "C:\\Users\\InbarBlech\\AppData\\Local\\Temp\\ipykernel_23524\\41423480.py:12: SettingWithCopyWarning: \n",
      "A value is trying to be set on a copy of a slice from a DataFrame.\n",
      "Try using .loc[row_indexer,col_indexer] = value instead\n",
      "\n",
      "See the caveats in the documentation: https://pandas.pydata.org/pandas-docs/stable/user_guide/indexing.html#returning-a-view-versus-a-copy\n",
      "  gene_df['pathogenicity'] = gene_df['pathogenicity'].astype(int)\n",
      "C:\\Users\\InbarBlech\\AppData\\Local\\Temp\\ipykernel_23524\\41423480.py:12: SettingWithCopyWarning: \n",
      "A value is trying to be set on a copy of a slice from a DataFrame.\n",
      "Try using .loc[row_indexer,col_indexer] = value instead\n",
      "\n",
      "See the caveats in the documentation: https://pandas.pydata.org/pandas-docs/stable/user_guide/indexing.html#returning-a-view-versus-a-copy\n",
      "  gene_df['pathogenicity'] = gene_df['pathogenicity'].astype(int)\n",
      "C:\\Users\\InbarBlech\\AppData\\Local\\Temp\\ipykernel_23524\\41423480.py:12: SettingWithCopyWarning: \n",
      "A value is trying to be set on a copy of a slice from a DataFrame.\n",
      "Try using .loc[row_indexer,col_indexer] = value instead\n",
      "\n",
      "See the caveats in the documentation: https://pandas.pydata.org/pandas-docs/stable/user_guide/indexing.html#returning-a-view-versus-a-copy\n",
      "  gene_df['pathogenicity'] = gene_df['pathogenicity'].astype(int)\n",
      "C:\\Users\\InbarBlech\\AppData\\Local\\Temp\\ipykernel_23524\\41423480.py:35: SettingWithCopyWarning: \n",
      "A value is trying to be set on a copy of a slice from a DataFrame.\n",
      "Try using .loc[row_indexer,col_indexer] = value instead\n",
      "\n",
      "See the caveats in the documentation: https://pandas.pydata.org/pandas-docs/stable/user_guide/indexing.html#returning-a-view-versus-a-copy\n",
      "  gene_df['pathogenicity'] = gene_df['pathogenicity'].astype(int)\n",
      "C:\\Users\\InbarBlech\\AppData\\Local\\Temp\\ipykernel_23524\\41423480.py:36: SettingWithCopyWarning: \n",
      "A value is trying to be set on a copy of a slice from a DataFrame.\n",
      "Try using .loc[row_indexer,col_indexer] = value instead\n",
      "\n",
      "See the caveats in the documentation: https://pandas.pydata.org/pandas-docs/stable/user_guide/indexing.html#returning-a-view-versus-a-copy\n",
      "  gene_df['predictions'] = gene_df['predictions'].astype(int)\n",
      "C:\\Users\\InbarBlech\\AppData\\Local\\Temp\\ipykernel_23524\\41423480.py:35: SettingWithCopyWarning: \n",
      "A value is trying to be set on a copy of a slice from a DataFrame.\n",
      "Try using .loc[row_indexer,col_indexer] = value instead\n",
      "\n",
      "See the caveats in the documentation: https://pandas.pydata.org/pandas-docs/stable/user_guide/indexing.html#returning-a-view-versus-a-copy\n",
      "  gene_df['pathogenicity'] = gene_df['pathogenicity'].astype(int)\n",
      "C:\\Users\\InbarBlech\\AppData\\Local\\Temp\\ipykernel_23524\\41423480.py:36: SettingWithCopyWarning: \n",
      "A value is trying to be set on a copy of a slice from a DataFrame.\n",
      "Try using .loc[row_indexer,col_indexer] = value instead\n",
      "\n",
      "See the caveats in the documentation: https://pandas.pydata.org/pandas-docs/stable/user_guide/indexing.html#returning-a-view-versus-a-copy\n",
      "  gene_df['predictions'] = gene_df['predictions'].astype(int)\n",
      "C:\\Users\\InbarBlech\\AppData\\Local\\Temp\\ipykernel_23524\\41423480.py:35: SettingWithCopyWarning: \n",
      "A value is trying to be set on a copy of a slice from a DataFrame.\n",
      "Try using .loc[row_indexer,col_indexer] = value instead\n",
      "\n",
      "See the caveats in the documentation: https://pandas.pydata.org/pandas-docs/stable/user_guide/indexing.html#returning-a-view-versus-a-copy\n",
      "  gene_df['pathogenicity'] = gene_df['pathogenicity'].astype(int)\n",
      "C:\\Users\\InbarBlech\\AppData\\Local\\Temp\\ipykernel_23524\\41423480.py:36: SettingWithCopyWarning: \n",
      "A value is trying to be set on a copy of a slice from a DataFrame.\n",
      "Try using .loc[row_indexer,col_indexer] = value instead\n",
      "\n",
      "See the caveats in the documentation: https://pandas.pydata.org/pandas-docs/stable/user_guide/indexing.html#returning-a-view-versus-a-copy\n",
      "  gene_df['predictions'] = gene_df['predictions'].astype(int)\n",
      "C:\\Users\\InbarBlech\\AppData\\Local\\Temp\\ipykernel_23524\\41423480.py:35: SettingWithCopyWarning: \n",
      "A value is trying to be set on a copy of a slice from a DataFrame.\n",
      "Try using .loc[row_indexer,col_indexer] = value instead\n",
      "\n",
      "See the caveats in the documentation: https://pandas.pydata.org/pandas-docs/stable/user_guide/indexing.html#returning-a-view-versus-a-copy\n",
      "  gene_df['pathogenicity'] = gene_df['pathogenicity'].astype(int)\n",
      "C:\\Users\\InbarBlech\\AppData\\Local\\Temp\\ipykernel_23524\\41423480.py:36: SettingWithCopyWarning: \n",
      "A value is trying to be set on a copy of a slice from a DataFrame.\n",
      "Try using .loc[row_indexer,col_indexer] = value instead\n",
      "\n",
      "See the caveats in the documentation: https://pandas.pydata.org/pandas-docs/stable/user_guide/indexing.html#returning-a-view-versus-a-copy\n",
      "  gene_df['predictions'] = gene_df['predictions'].astype(int)\n",
      "C:\\Users\\InbarBlech\\AppData\\Local\\Temp\\ipykernel_23524\\41423480.py:35: SettingWithCopyWarning: \n",
      "A value is trying to be set on a copy of a slice from a DataFrame.\n",
      "Try using .loc[row_indexer,col_indexer] = value instead\n",
      "\n",
      "See the caveats in the documentation: https://pandas.pydata.org/pandas-docs/stable/user_guide/indexing.html#returning-a-view-versus-a-copy\n",
      "  gene_df['pathogenicity'] = gene_df['pathogenicity'].astype(int)\n",
      "C:\\Users\\InbarBlech\\AppData\\Local\\Temp\\ipykernel_23524\\41423480.py:36: SettingWithCopyWarning: \n",
      "A value is trying to be set on a copy of a slice from a DataFrame.\n",
      "Try using .loc[row_indexer,col_indexer] = value instead\n",
      "\n",
      "See the caveats in the documentation: https://pandas.pydata.org/pandas-docs/stable/user_guide/indexing.html#returning-a-view-versus-a-copy\n",
      "  gene_df['predictions'] = gene_df['predictions'].astype(int)\n",
      "C:\\Users\\InbarBlech\\AppData\\Local\\Temp\\ipykernel_23524\\41423480.py:35: SettingWithCopyWarning: \n",
      "A value is trying to be set on a copy of a slice from a DataFrame.\n",
      "Try using .loc[row_indexer,col_indexer] = value instead\n",
      "\n",
      "See the caveats in the documentation: https://pandas.pydata.org/pandas-docs/stable/user_guide/indexing.html#returning-a-view-versus-a-copy\n",
      "  gene_df['pathogenicity'] = gene_df['pathogenicity'].astype(int)\n",
      "C:\\Users\\InbarBlech\\AppData\\Local\\Temp\\ipykernel_23524\\41423480.py:36: SettingWithCopyWarning: \n",
      "A value is trying to be set on a copy of a slice from a DataFrame.\n",
      "Try using .loc[row_indexer,col_indexer] = value instead\n",
      "\n",
      "See the caveats in the documentation: https://pandas.pydata.org/pandas-docs/stable/user_guide/indexing.html#returning-a-view-versus-a-copy\n",
      "  gene_df['predictions'] = gene_df['predictions'].astype(int)\n"
     ]
    }
   ],
   "source": [
    "# Calculate MCC for each gene specific predictor for mutpred\n",
    "\n",
    "# Build dictionary with gene names as keys.\n",
    "mccs = {gene: 0 for gene in genes}\n",
    "\n",
    "for tool in tools:\n",
    "    for gene in genes:\n",
    "        gene_df = merged[merged[\"gene\"] == gene]\n",
    "        # Assuming you have a DataFrame called 'data' with 'prediction' and 'MutPred_score' columns\n",
    "        # Create binary predictions based on the 0.5 threshold\n",
    "        \n",
    "        gene_df['pathogenicity'] = gene_df['pathogenicity'].astype(int)\n",
    "        \n",
    "        # Calculate MCC\n",
    "        mcc = matthews_corrcoef(gene_df['pathogenicity'], gene_df[f\"{tool}_pathogenicity\"])\n",
    "        \n",
    "        # Get gene name for the use for the dictionary\n",
    "        gene = gene_df['gene'].unique()[0]\n",
    "        \n",
    "        # Append mcc to dictionary\n",
    "        mccs[gene] = mcc\n",
    "    \n",
    "    print(f\"MCCs of {tool} predictions for each gene:\")\n",
    "    for gene in mccs:\n",
    "        print(f\"{gene}: {mccs[gene]}\")\n",
    "        \n",
    "# get MCC for my predictions\n",
    "mccs = {gene: 0 for gene in genes}\n",
    "\n",
    "for gene in genes:\n",
    "    gene_df = merged[merged[\"gene\"] == gene]\n",
    "    # Assuming you have a DataFrame called 'data' with 'prediction' and 'MutPred_score' columns\n",
    "    # Create binary predictions based on the 0.5 threshold\n",
    "    \n",
    "    gene_df['pathogenicity'] = gene_df['pathogenicity'].astype(int)\n",
    "    gene_df['predictions'] = gene_df['predictions'].astype(int)\n",
    "    \n",
    "    # Calculate MCC\n",
    "    mcc = matthews_corrcoef(gene_df['pathogenicity'], gene_df['predictions'])\n",
    "    \n",
    "    # Get gene name for the use for the dictionary\n",
    "    gene = gene_df['gene'].unique()[0]\n",
    "    \n",
    "    # Append mcc to dictionary\n",
    "    mccs[gene] = mcc\n",
    "\n",
    "print(f\"MCCs of predictions for each gene:\")\n",
    "for gene in mccs:\n",
    "    print(f\"{gene}: {mccs[gene]}\")\n"
   ],
   "metadata": {
    "collapsed": false,
    "ExecuteTime": {
     "end_time": "2023-11-14T16:17:36.919423900Z",
     "start_time": "2023-11-14T16:17:36.715938400Z"
    }
   },
   "id": "e534a510288960cb"
  },
  {
   "cell_type": "code",
   "execution_count": 150,
   "outputs": [
    {
     "ename": "KeyError",
     "evalue": "'MutPred_score'",
     "output_type": "error",
     "traceback": [
      "\u001B[1;31m---------------------------------------------------------------------------\u001B[0m",
      "\u001B[1;31mKeyError\u001B[0m                                  Traceback (most recent call last)",
      "\u001B[1;32m~\\anaconda3\\lib\\site-packages\\pandas\\core\\indexes\\base.py\u001B[0m in \u001B[0;36mget_loc\u001B[1;34m(self, key, method, tolerance)\u001B[0m\n\u001B[0;32m   3628\u001B[0m             \u001B[1;32mtry\u001B[0m\u001B[1;33m:\u001B[0m\u001B[1;33m\u001B[0m\u001B[1;33m\u001B[0m\u001B[0m\n\u001B[1;32m-> 3629\u001B[1;33m                 \u001B[1;32mreturn\u001B[0m \u001B[0mself\u001B[0m\u001B[1;33m.\u001B[0m\u001B[0m_engine\u001B[0m\u001B[1;33m.\u001B[0m\u001B[0mget_loc\u001B[0m\u001B[1;33m(\u001B[0m\u001B[0mcasted_key\u001B[0m\u001B[1;33m)\u001B[0m\u001B[1;33m\u001B[0m\u001B[1;33m\u001B[0m\u001B[0m\n\u001B[0m\u001B[0;32m   3630\u001B[0m             \u001B[1;32mexcept\u001B[0m \u001B[0mKeyError\u001B[0m \u001B[1;32mas\u001B[0m \u001B[0merr\u001B[0m\u001B[1;33m:\u001B[0m\u001B[1;33m\u001B[0m\u001B[1;33m\u001B[0m\u001B[0m\n",
      "\u001B[1;32m~\\anaconda3\\lib\\site-packages\\pandas\\_libs\\index.pyx\u001B[0m in \u001B[0;36mpandas._libs.index.IndexEngine.get_loc\u001B[1;34m()\u001B[0m\n",
      "\u001B[1;32m~\\anaconda3\\lib\\site-packages\\pandas\\_libs\\index.pyx\u001B[0m in \u001B[0;36mpandas._libs.index.IndexEngine.get_loc\u001B[1;34m()\u001B[0m\n",
      "\u001B[1;32mpandas\\_libs\\hashtable_class_helper.pxi\u001B[0m in \u001B[0;36mpandas._libs.hashtable.PyObjectHashTable.get_item\u001B[1;34m()\u001B[0m\n",
      "\u001B[1;32mpandas\\_libs\\hashtable_class_helper.pxi\u001B[0m in \u001B[0;36mpandas._libs.hashtable.PyObjectHashTable.get_item\u001B[1;34m()\u001B[0m\n",
      "\u001B[1;31mKeyError\u001B[0m: 'MutPred_score'",
      "\nThe above exception was the direct cause of the following exception:\n",
      "\u001B[1;31mKeyError\u001B[0m                                  Traceback (most recent call last)",
      "\u001B[1;32m~\\AppData\\Local\\Temp\\ipykernel_23524\\2254649920.py\u001B[0m in \u001B[0;36m<module>\u001B[1;34m\u001B[0m\n\u001B[0;32m      6\u001B[0m     \u001B[0mgene_df\u001B[0m \u001B[1;33m=\u001B[0m \u001B[0mmerged\u001B[0m\u001B[1;33m[\u001B[0m\u001B[0mmerged\u001B[0m\u001B[1;33m[\u001B[0m\u001B[1;34m\"gene\"\u001B[0m\u001B[1;33m]\u001B[0m \u001B[1;33m==\u001B[0m \u001B[0mgene\u001B[0m\u001B[1;33m]\u001B[0m\u001B[1;33m\u001B[0m\u001B[1;33m\u001B[0m\u001B[0m\n\u001B[0;32m      7\u001B[0m     \u001B[0my_true\u001B[0m \u001B[1;33m=\u001B[0m \u001B[0mgene_df\u001B[0m\u001B[1;33m[\u001B[0m\u001B[1;34m\"pathogenicity\"\u001B[0m\u001B[1;33m]\u001B[0m\u001B[1;33m.\u001B[0m\u001B[0mastype\u001B[0m\u001B[1;33m(\u001B[0m\u001B[0mint\u001B[0m\u001B[1;33m)\u001B[0m\u001B[1;33m\u001B[0m\u001B[1;33m\u001B[0m\u001B[0m\n\u001B[1;32m----> 8\u001B[1;33m     \u001B[0mpredicted_probabilities\u001B[0m \u001B[1;33m=\u001B[0m \u001B[0mgene_df\u001B[0m\u001B[1;33m[\u001B[0m\u001B[1;34m\"MutPred_score\"\u001B[0m\u001B[1;33m]\u001B[0m\u001B[1;33m\u001B[0m\u001B[1;33m\u001B[0m\u001B[0m\n\u001B[0m\u001B[0;32m      9\u001B[0m     \u001B[0mgene_df\u001B[0m\u001B[1;33m.\u001B[0m\u001B[0mloc\u001B[0m\u001B[1;33m[\u001B[0m\u001B[1;33m:\u001B[0m\u001B[1;33m,\u001B[0m \u001B[1;34m'binary_prediction_mutpred'\u001B[0m\u001B[1;33m]\u001B[0m \u001B[1;33m=\u001B[0m \u001B[1;33m(\u001B[0m\u001B[0mgene_df\u001B[0m\u001B[1;33m[\u001B[0m\u001B[1;34m'MutPred_score'\u001B[0m\u001B[1;33m]\u001B[0m \u001B[1;33m>\u001B[0m \u001B[1;36m0.5\u001B[0m\u001B[1;33m)\u001B[0m\u001B[1;33m.\u001B[0m\u001B[0mastype\u001B[0m\u001B[1;33m(\u001B[0m\u001B[0mint\u001B[0m\u001B[1;33m)\u001B[0m\u001B[1;33m\u001B[0m\u001B[1;33m\u001B[0m\u001B[0m\n\u001B[0;32m     10\u001B[0m     \u001B[0mpredicted_labels\u001B[0m \u001B[1;33m=\u001B[0m \u001B[0mgene_df\u001B[0m\u001B[1;33m[\u001B[0m\u001B[1;34m\"binary_prediction_mutpred\"\u001B[0m\u001B[1;33m]\u001B[0m\u001B[1;33m\u001B[0m\u001B[1;33m\u001B[0m\u001B[0m\n",
      "\u001B[1;32m~\\anaconda3\\lib\\site-packages\\pandas\\core\\frame.py\u001B[0m in \u001B[0;36m__getitem__\u001B[1;34m(self, key)\u001B[0m\n\u001B[0;32m   3503\u001B[0m             \u001B[1;32mif\u001B[0m \u001B[0mself\u001B[0m\u001B[1;33m.\u001B[0m\u001B[0mcolumns\u001B[0m\u001B[1;33m.\u001B[0m\u001B[0mnlevels\u001B[0m \u001B[1;33m>\u001B[0m \u001B[1;36m1\u001B[0m\u001B[1;33m:\u001B[0m\u001B[1;33m\u001B[0m\u001B[1;33m\u001B[0m\u001B[0m\n\u001B[0;32m   3504\u001B[0m                 \u001B[1;32mreturn\u001B[0m \u001B[0mself\u001B[0m\u001B[1;33m.\u001B[0m\u001B[0m_getitem_multilevel\u001B[0m\u001B[1;33m(\u001B[0m\u001B[0mkey\u001B[0m\u001B[1;33m)\u001B[0m\u001B[1;33m\u001B[0m\u001B[1;33m\u001B[0m\u001B[0m\n\u001B[1;32m-> 3505\u001B[1;33m             \u001B[0mindexer\u001B[0m \u001B[1;33m=\u001B[0m \u001B[0mself\u001B[0m\u001B[1;33m.\u001B[0m\u001B[0mcolumns\u001B[0m\u001B[1;33m.\u001B[0m\u001B[0mget_loc\u001B[0m\u001B[1;33m(\u001B[0m\u001B[0mkey\u001B[0m\u001B[1;33m)\u001B[0m\u001B[1;33m\u001B[0m\u001B[1;33m\u001B[0m\u001B[0m\n\u001B[0m\u001B[0;32m   3506\u001B[0m             \u001B[1;32mif\u001B[0m \u001B[0mis_integer\u001B[0m\u001B[1;33m(\u001B[0m\u001B[0mindexer\u001B[0m\u001B[1;33m)\u001B[0m\u001B[1;33m:\u001B[0m\u001B[1;33m\u001B[0m\u001B[1;33m\u001B[0m\u001B[0m\n\u001B[0;32m   3507\u001B[0m                 \u001B[0mindexer\u001B[0m \u001B[1;33m=\u001B[0m \u001B[1;33m[\u001B[0m\u001B[0mindexer\u001B[0m\u001B[1;33m]\u001B[0m\u001B[1;33m\u001B[0m\u001B[1;33m\u001B[0m\u001B[0m\n",
      "\u001B[1;32m~\\anaconda3\\lib\\site-packages\\pandas\\core\\indexes\\base.py\u001B[0m in \u001B[0;36mget_loc\u001B[1;34m(self, key, method, tolerance)\u001B[0m\n\u001B[0;32m   3629\u001B[0m                 \u001B[1;32mreturn\u001B[0m \u001B[0mself\u001B[0m\u001B[1;33m.\u001B[0m\u001B[0m_engine\u001B[0m\u001B[1;33m.\u001B[0m\u001B[0mget_loc\u001B[0m\u001B[1;33m(\u001B[0m\u001B[0mcasted_key\u001B[0m\u001B[1;33m)\u001B[0m\u001B[1;33m\u001B[0m\u001B[1;33m\u001B[0m\u001B[0m\n\u001B[0;32m   3630\u001B[0m             \u001B[1;32mexcept\u001B[0m \u001B[0mKeyError\u001B[0m \u001B[1;32mas\u001B[0m \u001B[0merr\u001B[0m\u001B[1;33m:\u001B[0m\u001B[1;33m\u001B[0m\u001B[1;33m\u001B[0m\u001B[0m\n\u001B[1;32m-> 3631\u001B[1;33m                 \u001B[1;32mraise\u001B[0m \u001B[0mKeyError\u001B[0m\u001B[1;33m(\u001B[0m\u001B[0mkey\u001B[0m\u001B[1;33m)\u001B[0m \u001B[1;32mfrom\u001B[0m \u001B[0merr\u001B[0m\u001B[1;33m\u001B[0m\u001B[1;33m\u001B[0m\u001B[0m\n\u001B[0m\u001B[0;32m   3632\u001B[0m             \u001B[1;32mexcept\u001B[0m \u001B[0mTypeError\u001B[0m\u001B[1;33m:\u001B[0m\u001B[1;33m\u001B[0m\u001B[1;33m\u001B[0m\u001B[0m\n\u001B[0;32m   3633\u001B[0m                 \u001B[1;31m# If we have a listlike key, _check_indexing_error will raise\u001B[0m\u001B[1;33m\u001B[0m\u001B[1;33m\u001B[0m\u001B[0m\n",
      "\u001B[1;31mKeyError\u001B[0m: 'MutPred_score'"
     ]
    }
   ],
   "source": [
    "from sklearn.metrics import roc_auc_score, roc_curve, auc, precision_recall_curve, average_precision_score, f1_score, log_loss, confusion_matrix\n",
    "# store the results in a dictionary\n",
    "results = {gene: 0 for gene in genes}\n",
    "\n",
    "for gene in genes:\n",
    "    gene_df = merged[merged[\"gene\"] == gene]\n",
    "    y_true = gene_df[\"pathogenicity\"].astype(int)\n",
    "    predicted_probabilities = gene_df[\"MutPred_score\"]\n",
    "    gene_df.loc[:, 'binary_prediction_mutpred'] = (gene_df['MutPred_score'] > 0.5).astype(int)\n",
    "    predicted_labels = gene_df[\"binary_prediction_mutpred\"]\n",
    "    \n",
    "    results_gene = {}\n",
    "    # Calculate AUC-ROC\n",
    "    roc_auc = roc_auc_score(y_true, predicted_probabilities)\n",
    "    # append to dictionary\n",
    "    results_gene[\"roc_auc\"] = roc_auc\n",
    "    \n",
    "    # Calculate ROC curve\n",
    "    fpr, tpr, thresholds = roc_curve(y_true, predicted_probabilities)\n",
    "    roc_auc = auc(fpr, tpr)\n",
    "    # append to dictionary\n",
    "    results_gene[\"auc\"] = roc_auc\n",
    "    \n",
    "    # Calculate AUC-PR\n",
    "    precision, recall, _ = precision_recall_curve(y_true, predicted_probabilities)\n",
    "    pr_auc = auc(recall, precision)\n",
    "    # append to dictionary\n",
    "    results_gene[\"pr_auc\"] = pr_auc\n",
    "    \n",
    "    # Calculate F1 Score\n",
    "    f1 = f1_score(y_true, predicted_labels)\n",
    "    # append to dictionary\n",
    "    results_gene[\"f1\"] = f1\n",
    "    \n",
    "    # Calculate Log Loss\n",
    "    logloss = log_loss(y_true, predicted_probabilities)\n",
    "    # append to dictionary\n",
    "    results_gene[\"logloss\"] = logloss\n",
    "    \n",
    "    # Calculate confusion matrix\n",
    "    conf_matrix = confusion_matrix(y_true, predicted_labels)\n",
    "    # append to dictionary\n",
    "    results_gene[\"confusion_matrix\"] = conf_matrix\n",
    "    \n",
    "    # Get gene name for the use for the dictionary\n",
    "    gene = gene_df['gene'].unique()[0]\n",
    "    # Append results to dictionary\n",
    "    results[gene] = results_gene\n",
    "    \n",
    "## Print results\n",
    "print(\"Results of MutPred2 predictions for each gene:\")\n",
    "for gene in results:\n",
    "    print(f\"{gene}: {results[gene]}\")"
   ],
   "metadata": {
    "collapsed": false,
    "ExecuteTime": {
     "end_time": "2023-11-14T16:17:36.919423900Z",
     "start_time": "2023-11-14T16:17:36.762712700Z"
    }
   },
   "id": "f799b7d2cd6a08da"
  },
  {
   "cell_type": "code",
   "execution_count": null,
   "outputs": [],
   "source": [
    "# present the confusion matrix for each gene\n",
    "import matplotlib.pyplot as plt\n",
    "\n",
    "for gene in results:\n",
    "    # Plot confusion matrix\n",
    "    plt.imshow(results[gene][\"confusion_matrix\"], cmap=plt.cm.Blues)\n",
    "    plt.xlabel(\"Predicted labels\")\n",
    "    plt.ylabel(\"True labels\")\n",
    "    plt.xticks([0, 1], [\"Benign\", \"Pathogenic\"])\n",
    "    plt.yticks([0, 1], [\"Benign\", \"Pathogenic\"])\n",
    "    plt.title(f\"Confusion matrix for {gene}, MutPred2 predictions\")\n",
    "    plt.style.use(\"seaborn-white\")\n",
    "    # Add text annotations\n",
    "    for i in range(2):\n",
    "        for j in range(2):\n",
    "            plt.text(j, i, results[gene][\"confusion_matrix\"][i, j], ha=\"center\", va=\"center\", color=\"black\", backgroundcolor=\"white\")\n",
    "    plt.colorbar()\n",
    "    plt.show()"
   ],
   "metadata": {
    "collapsed": false,
    "ExecuteTime": {
     "start_time": "2023-11-14T16:17:36.809604200Z"
    }
   },
   "id": "f079a669b25f338e"
  },
  {
   "cell_type": "code",
   "execution_count": null,
   "outputs": [],
   "source": [
    "# present the ROC curve for each gene\n",
    "for gene in results:\n",
    "    # Plot ROC curve\n",
    "    plt.plot(fpr, tpr, color=\"darkorange\", lw=2, label=f\"ROC curve (area = {results[gene]['roc_auc']:.2f})\")\n",
    "    plt.plot([0, 1], [0, 1], color=\"navy\", lw=2, linestyle=\"--\")\n",
    "    plt.xlim([0.0, 1.0])\n",
    "    plt.ylim([0.0, 1.05])\n",
    "    plt.xlabel(\"False Positive Rate\")\n",
    "    plt.ylabel(\"True Positive Rate\")\n",
    "    plt.title(f\"ROC curve for {gene}, MutPred2 predictions\")\n",
    "    plt.legend(loc=\"lower right\")\n",
    "    plt.show()"
   ],
   "metadata": {
    "collapsed": false,
    "ExecuteTime": {
     "start_time": "2023-11-14T16:17:36.809604200Z"
    }
   },
   "id": "593e79ee559d6f62"
  }
 ],
 "metadata": {
  "kernelspec": {
   "display_name": "Python 3",
   "language": "python",
   "name": "python3"
  },
  "language_info": {
   "codemirror_mode": {
    "name": "ipython",
    "version": 2
   },
   "file_extension": ".py",
   "mimetype": "text/x-python",
   "name": "python",
   "nbconvert_exporter": "python",
   "pygments_lexer": "ipython2",
   "version": "2.7.6"
  }
 },
 "nbformat": 4,
 "nbformat_minor": 5
}
