{
 "cells": [
  {
   "cell_type": "raw",
   "source": [],
   "metadata": {
    "collapsed": false
   },
   "id": "daae3bd731bad53b"
  },
  {
   "cell_type": "code",
   "execution_count": 748,
   "outputs": [],
   "source": [
    "import pandas as pd"
   ],
   "metadata": {
    "collapsed": false,
    "ExecuteTime": {
     "end_time": "2023-11-24T09:50:10.510597Z",
     "start_time": "2023-11-24T09:50:10.431583800Z"
    }
   },
   "id": "initial_id"
  },
  {
   "cell_type": "code",
   "execution_count": 749,
   "outputs": [
    {
     "data": {
      "text/plain": "     variant  prediction  pathogenicity    gene\n0        M1R           0              0  COL2A1\n1        I2A           0              0  COL2A1\n2        I2L           0              0  COL2A1\n3        I2P           0              0  COL2A1\n4        I2T           0              0  COL2A1\n...      ...         ...            ...     ...\n4799   Y217F           0              0    GJB2\n4800   G220A           0              0    GJB2\n4801   G220K           0              0    GJB2\n4802   K221R           0              0    GJB2\n4803   K223R           0              0    GJB2\n\n[4804 rows x 4 columns]",
      "text/html": "<div>\n<style scoped>\n    .dataframe tbody tr th:only-of-type {\n        vertical-align: middle;\n    }\n\n    .dataframe tbody tr th {\n        vertical-align: top;\n    }\n\n    .dataframe thead th {\n        text-align: right;\n    }\n</style>\n<table border=\"1\" class=\"dataframe\">\n  <thead>\n    <tr style=\"text-align: right;\">\n      <th></th>\n      <th>variant</th>\n      <th>prediction</th>\n      <th>pathogenicity</th>\n      <th>gene</th>\n    </tr>\n  </thead>\n  <tbody>\n    <tr>\n      <th>0</th>\n      <td>M1R</td>\n      <td>0</td>\n      <td>0</td>\n      <td>COL2A1</td>\n    </tr>\n    <tr>\n      <th>1</th>\n      <td>I2A</td>\n      <td>0</td>\n      <td>0</td>\n      <td>COL2A1</td>\n    </tr>\n    <tr>\n      <th>2</th>\n      <td>I2L</td>\n      <td>0</td>\n      <td>0</td>\n      <td>COL2A1</td>\n    </tr>\n    <tr>\n      <th>3</th>\n      <td>I2P</td>\n      <td>0</td>\n      <td>0</td>\n      <td>COL2A1</td>\n    </tr>\n    <tr>\n      <th>4</th>\n      <td>I2T</td>\n      <td>0</td>\n      <td>0</td>\n      <td>COL2A1</td>\n    </tr>\n    <tr>\n      <th>...</th>\n      <td>...</td>\n      <td>...</td>\n      <td>...</td>\n      <td>...</td>\n    </tr>\n    <tr>\n      <th>4799</th>\n      <td>Y217F</td>\n      <td>0</td>\n      <td>0</td>\n      <td>GJB2</td>\n    </tr>\n    <tr>\n      <th>4800</th>\n      <td>G220A</td>\n      <td>0</td>\n      <td>0</td>\n      <td>GJB2</td>\n    </tr>\n    <tr>\n      <th>4801</th>\n      <td>G220K</td>\n      <td>0</td>\n      <td>0</td>\n      <td>GJB2</td>\n    </tr>\n    <tr>\n      <th>4802</th>\n      <td>K221R</td>\n      <td>0</td>\n      <td>0</td>\n      <td>GJB2</td>\n    </tr>\n    <tr>\n      <th>4803</th>\n      <td>K223R</td>\n      <td>0</td>\n      <td>0</td>\n      <td>GJB2</td>\n    </tr>\n  </tbody>\n</table>\n<p>4804 rows × 4 columns</p>\n</div>"
     },
     "execution_count": 749,
     "metadata": {},
     "output_type": "execute_result"
    }
   ],
   "source": [
    "my_prediction = pd.read_csv(\"C:\\\\Users\\\\InbarBlech\\\\PycharmProjects\\\\Thesis\\\\predictions_vs_real\\\\predictions_vs_real_with_variant_all_genes_updated_221123.csv\")\n",
    "# change column name from \"reality\" to \"pathogenicity\"\n",
    "my_prediction.rename(columns={\"reality\": \"pathogenicity\"}, inplace=True)\n",
    "my_prediction"
   ],
   "metadata": {
    "collapsed": false,
    "ExecuteTime": {
     "end_time": "2023-11-24T09:50:10.542297200Z",
     "start_time": "2023-11-24T09:50:10.463147600Z"
    }
   },
   "id": "8685d0fb796c552f"
  },
  {
   "cell_type": "code",
   "execution_count": 750,
   "outputs": [
    {
     "name": "stdout",
     "output_type": "stream",
     "text": [
      "Gene: COL2A1\n",
      "0    665\n",
      "1    286\n",
      "Name: pathogenicity, dtype: int64\n",
      "Gene: COL4A3\n",
      "0    264\n",
      "1    127\n",
      "Name: pathogenicity, dtype: int64\n",
      "Gene: COL4A5\n",
      "1    407\n",
      "0    227\n",
      "Name: pathogenicity, dtype: int64\n",
      "Gene: WFS1\n",
      "1    172\n",
      "0    138\n",
      "Name: pathogenicity, dtype: int64\n",
      "Gene: SLC26A4\n",
      "1    265\n",
      "0     85\n",
      "Name: pathogenicity, dtype: int64\n",
      "Gene: MYO7A\n",
      "0    1192\n",
      "1     210\n",
      "Name: pathogenicity, dtype: int64\n",
      "Gene: FGFR1\n",
      "0    356\n",
      "1    133\n",
      "Name: pathogenicity, dtype: int64\n",
      "Gene: GJB2\n",
      "1    204\n",
      "0     73\n",
      "Name: pathogenicity, dtype: int64\n"
     ]
    }
   ],
   "source": [
    "for gene in my_prediction[\"gene\"].unique():\n",
    "    print(f\"Gene: {gene}\")\n",
    "    print(my_prediction[my_prediction[\"gene\"] == gene][\"pathogenicity\"].value_counts())"
   ],
   "metadata": {
    "collapsed": false,
    "ExecuteTime": {
     "end_time": "2023-11-24T09:50:10.637233800Z",
     "start_time": "2023-11-24T09:50:10.542297200Z"
    }
   },
   "id": "d699864e6a6acde"
  },
  {
   "cell_type": "code",
   "execution_count": 751,
   "outputs": [],
   "source": [
    "tools = ['VEST', 'alphamissense', 'REVEL', 'EVE', 'MutPred']"
   ],
   "metadata": {
    "collapsed": false,
    "ExecuteTime": {
     "end_time": "2023-11-24T09:50:10.718770700Z",
     "start_time": "2023-11-24T09:50:10.573698300Z"
    }
   },
   "id": "7868b5d5c58129d2"
  },
  {
   "cell_type": "code",
   "execution_count": 752,
   "outputs": [
    {
     "name": "stderr",
     "output_type": "stream",
     "text": [
      "C:\\Users\\InbarBlech\\AppData\\Local\\Temp\\ipykernel_26016\\3550122812.py:6: FutureWarning: Passing 'suffixes' which cause duplicate columns {'Unnamed: 0_x'} in the result is deprecated and will raise a MergeError in a future version.\n",
      "  merged = pd.merge(merged, tool_predictions, on=[\"gene\", \"variant\"])\n"
     ]
    }
   ],
   "source": [
    "# Create merge, which is the my_prediction dataframe with the predictions of the other tools\n",
    "merged = my_prediction\n",
    "for tool in tools:\n",
    "    tool_predictions = pd.read_csv(f\"C:\\\\Users\\\\InbarBlech\\\\PycharmProjects\\\\Thesis\\\\benchmarking\\\\{tool}_on_dvd_data_predictions_LOPO.csv\")\n",
    "    # Merge the two files\n",
    "    merged = pd.merge(merged, tool_predictions, on=[\"gene\", \"variant\"])\n",
    "    # remove duplicate rows\n",
    "    merged = merged.drop_duplicates(subset=[\"gene\", \"variant\"])\n",
    "# change column name of pathogenicity_x to pathogenicity\n",
    "merged = merged.rename(columns={\"prediction_x\": \"prediction\", \"am_pathogenicity\": \"am_score\", \"am_class\": \"alphamissense_pathogenicity\"})"
   ],
   "metadata": {
    "collapsed": false,
    "ExecuteTime": {
     "end_time": "2023-11-24T09:50:10.784263500Z",
     "start_time": "2023-11-24T09:50:10.589348Z"
    }
   },
   "id": "e4e064fbe990a564"
  },
  {
   "cell_type": "code",
   "execution_count": 753,
   "outputs": [
    {
     "name": "stdout",
     "output_type": "stream",
     "text": [
      "Gene: COL2A1\n",
      "1    254\n",
      "0    181\n",
      "Name: pathogenicity, dtype: int64\n",
      "Gene: COL4A3\n",
      "0    129\n",
      "1     92\n",
      "Name: pathogenicity, dtype: int64\n",
      "Gene: COL4A5\n",
      "1    359\n",
      "0     99\n",
      "Name: pathogenicity, dtype: int64\n",
      "Gene: MYO7A\n",
      "0    381\n",
      "1    153\n",
      "Name: pathogenicity, dtype: int64\n",
      "Gene: FGFR1\n",
      "1    91\n",
      "0    75\n",
      "Name: pathogenicity, dtype: int64\n"
     ]
    }
   ],
   "source": [
    "# Print how many variants there are from each gene\n",
    "\n",
    "merged[\"gene\"].value_counts()\n",
    "# my_prediction[\"gene\"].value_counts()\n",
    "# print how many variants there are from each gene and each pathogenicity\n",
    "for gene in merged[\"gene\"].unique():\n",
    "    print(f\"Gene: {gene}\")\n",
    "    print(merged[merged[\"gene\"] == gene][\"pathogenicity\"].value_counts())"
   ],
   "metadata": {
    "collapsed": false,
    "ExecuteTime": {
     "end_time": "2023-11-24T09:50:10.784263500Z",
     "start_time": "2023-11-24T09:50:10.718770700Z"
    }
   },
   "id": "872c361a0b501"
  },
  {
   "cell_type": "code",
   "execution_count": 754,
   "outputs": [
    {
     "data": {
      "text/plain": "     variant  prediction  pathogenicity    gene  Unnamed: 0_x  VEST_score  \\\n0      A128V           0              0  COL2A1           162       0.342   \n1      D139E           0              0  COL2A1           164       0.150   \n2      E142D           0              0  COL2A1           167       0.061   \n3      A145P           0              0  COL2A1           168       0.229   \n4      A145T           0              0  COL2A1           169       0.314   \n...      ...         ...            ...     ...           ...         ...   \n1823   R646W           1              1   FGFR1          3494       0.974   \n1824   T695I           1              1   FGFR1          3495       0.984   \n1825   L712P           1              1   FGFR1          3497       0.975   \n1826   E692G           1              1   FGFR1          3498       0.938   \n1827   C736Y           1              1   FGFR1          3499       0.962   \n\n      VEST_pathogenicity  Unnamed: 0_y  prediction_y  reality_x  ...  \\\n0                      0           201             0          0  ...   \n1                      0           203             0          0  ...   \n2                      0           206             0          0  ...   \n3                      0           207             0          0  ...   \n4                      0           208             0          0  ...   \n...                  ...           ...           ...        ...  ...   \n1823                   1          4234             1          1  ...   \n1824                   1          4235             1          1  ...   \n1825                   1          4237             1          1  ...   \n1826                   1          4238             1          1  ...   \n1827                   1          4239             1          1  ...   \n\n     revel_score  REVEL_pathogenicity  Unnamed: 0_y  prediction  reality_y  \\\n0          0.215                    0             0           0          0   \n1          0.163                    0             2           0          0   \n2          0.289                    0             5           0          0   \n3          0.272                    0             6           0          0   \n4          0.218                    0             7           0          0   \n...          ...                  ...           ...         ...        ...   \n1823       0.954                    1          3938           1          1   \n1824       0.927                    1          3939           1          1   \n1825       0.959                    1          3941           1          1   \n1826       0.986                    1          3942           1          1   \n1827       0.875                    1          3943           1          1   \n\n      EVE_scores_ASM  EVE_pathogenicity  Unnamed: 0  MutPred_score  \\\n0           0.082091                  0         123          0.259   \n1           0.108896                  0         124          0.237   \n2           0.058798                  0         127          0.252   \n3           0.033691                  0         128          0.238   \n4           0.072494                  0         129          0.104   \n...              ...                ...         ...            ...   \n1823        0.919227                  1        3556          0.929   \n1824        0.894803                  1        3557          0.906   \n1825        0.837127                  1        3558          0.927   \n1826        0.923482                  1        3559          0.943   \n1827        0.910874                  1        3560          0.959   \n\n      MutPred_pathogenicity  \n0                         0  \n1                         0  \n2                         0  \n3                         0  \n4                         0  \n...                     ...  \n1823                      1  \n1824                      1  \n1825                      1  \n1826                      1  \n1827                      1  \n\n[1814 rows x 24 columns]",
      "text/html": "<div>\n<style scoped>\n    .dataframe tbody tr th:only-of-type {\n        vertical-align: middle;\n    }\n\n    .dataframe tbody tr th {\n        vertical-align: top;\n    }\n\n    .dataframe thead th {\n        text-align: right;\n    }\n</style>\n<table border=\"1\" class=\"dataframe\">\n  <thead>\n    <tr style=\"text-align: right;\">\n      <th></th>\n      <th>variant</th>\n      <th>prediction</th>\n      <th>pathogenicity</th>\n      <th>gene</th>\n      <th>Unnamed: 0_x</th>\n      <th>VEST_score</th>\n      <th>VEST_pathogenicity</th>\n      <th>Unnamed: 0_y</th>\n      <th>prediction_y</th>\n      <th>reality_x</th>\n      <th>...</th>\n      <th>revel_score</th>\n      <th>REVEL_pathogenicity</th>\n      <th>Unnamed: 0_y</th>\n      <th>prediction</th>\n      <th>reality_y</th>\n      <th>EVE_scores_ASM</th>\n      <th>EVE_pathogenicity</th>\n      <th>Unnamed: 0</th>\n      <th>MutPred_score</th>\n      <th>MutPred_pathogenicity</th>\n    </tr>\n  </thead>\n  <tbody>\n    <tr>\n      <th>0</th>\n      <td>A128V</td>\n      <td>0</td>\n      <td>0</td>\n      <td>COL2A1</td>\n      <td>162</td>\n      <td>0.342</td>\n      <td>0</td>\n      <td>201</td>\n      <td>0</td>\n      <td>0</td>\n      <td>...</td>\n      <td>0.215</td>\n      <td>0</td>\n      <td>0</td>\n      <td>0</td>\n      <td>0</td>\n      <td>0.082091</td>\n      <td>0</td>\n      <td>123</td>\n      <td>0.259</td>\n      <td>0</td>\n    </tr>\n    <tr>\n      <th>1</th>\n      <td>D139E</td>\n      <td>0</td>\n      <td>0</td>\n      <td>COL2A1</td>\n      <td>164</td>\n      <td>0.150</td>\n      <td>0</td>\n      <td>203</td>\n      <td>0</td>\n      <td>0</td>\n      <td>...</td>\n      <td>0.163</td>\n      <td>0</td>\n      <td>2</td>\n      <td>0</td>\n      <td>0</td>\n      <td>0.108896</td>\n      <td>0</td>\n      <td>124</td>\n      <td>0.237</td>\n      <td>0</td>\n    </tr>\n    <tr>\n      <th>2</th>\n      <td>E142D</td>\n      <td>0</td>\n      <td>0</td>\n      <td>COL2A1</td>\n      <td>167</td>\n      <td>0.061</td>\n      <td>0</td>\n      <td>206</td>\n      <td>0</td>\n      <td>0</td>\n      <td>...</td>\n      <td>0.289</td>\n      <td>0</td>\n      <td>5</td>\n      <td>0</td>\n      <td>0</td>\n      <td>0.058798</td>\n      <td>0</td>\n      <td>127</td>\n      <td>0.252</td>\n      <td>0</td>\n    </tr>\n    <tr>\n      <th>3</th>\n      <td>A145P</td>\n      <td>0</td>\n      <td>0</td>\n      <td>COL2A1</td>\n      <td>168</td>\n      <td>0.229</td>\n      <td>0</td>\n      <td>207</td>\n      <td>0</td>\n      <td>0</td>\n      <td>...</td>\n      <td>0.272</td>\n      <td>0</td>\n      <td>6</td>\n      <td>0</td>\n      <td>0</td>\n      <td>0.033691</td>\n      <td>0</td>\n      <td>128</td>\n      <td>0.238</td>\n      <td>0</td>\n    </tr>\n    <tr>\n      <th>4</th>\n      <td>A145T</td>\n      <td>0</td>\n      <td>0</td>\n      <td>COL2A1</td>\n      <td>169</td>\n      <td>0.314</td>\n      <td>0</td>\n      <td>208</td>\n      <td>0</td>\n      <td>0</td>\n      <td>...</td>\n      <td>0.218</td>\n      <td>0</td>\n      <td>7</td>\n      <td>0</td>\n      <td>0</td>\n      <td>0.072494</td>\n      <td>0</td>\n      <td>129</td>\n      <td>0.104</td>\n      <td>0</td>\n    </tr>\n    <tr>\n      <th>...</th>\n      <td>...</td>\n      <td>...</td>\n      <td>...</td>\n      <td>...</td>\n      <td>...</td>\n      <td>...</td>\n      <td>...</td>\n      <td>...</td>\n      <td>...</td>\n      <td>...</td>\n      <td>...</td>\n      <td>...</td>\n      <td>...</td>\n      <td>...</td>\n      <td>...</td>\n      <td>...</td>\n      <td>...</td>\n      <td>...</td>\n      <td>...</td>\n      <td>...</td>\n      <td>...</td>\n    </tr>\n    <tr>\n      <th>1823</th>\n      <td>R646W</td>\n      <td>1</td>\n      <td>1</td>\n      <td>FGFR1</td>\n      <td>3494</td>\n      <td>0.974</td>\n      <td>1</td>\n      <td>4234</td>\n      <td>1</td>\n      <td>1</td>\n      <td>...</td>\n      <td>0.954</td>\n      <td>1</td>\n      <td>3938</td>\n      <td>1</td>\n      <td>1</td>\n      <td>0.919227</td>\n      <td>1</td>\n      <td>3556</td>\n      <td>0.929</td>\n      <td>1</td>\n    </tr>\n    <tr>\n      <th>1824</th>\n      <td>T695I</td>\n      <td>1</td>\n      <td>1</td>\n      <td>FGFR1</td>\n      <td>3495</td>\n      <td>0.984</td>\n      <td>1</td>\n      <td>4235</td>\n      <td>1</td>\n      <td>1</td>\n      <td>...</td>\n      <td>0.927</td>\n      <td>1</td>\n      <td>3939</td>\n      <td>1</td>\n      <td>1</td>\n      <td>0.894803</td>\n      <td>1</td>\n      <td>3557</td>\n      <td>0.906</td>\n      <td>1</td>\n    </tr>\n    <tr>\n      <th>1825</th>\n      <td>L712P</td>\n      <td>1</td>\n      <td>1</td>\n      <td>FGFR1</td>\n      <td>3497</td>\n      <td>0.975</td>\n      <td>1</td>\n      <td>4237</td>\n      <td>1</td>\n      <td>1</td>\n      <td>...</td>\n      <td>0.959</td>\n      <td>1</td>\n      <td>3941</td>\n      <td>1</td>\n      <td>1</td>\n      <td>0.837127</td>\n      <td>1</td>\n      <td>3558</td>\n      <td>0.927</td>\n      <td>1</td>\n    </tr>\n    <tr>\n      <th>1826</th>\n      <td>E692G</td>\n      <td>1</td>\n      <td>1</td>\n      <td>FGFR1</td>\n      <td>3498</td>\n      <td>0.938</td>\n      <td>1</td>\n      <td>4238</td>\n      <td>1</td>\n      <td>1</td>\n      <td>...</td>\n      <td>0.986</td>\n      <td>1</td>\n      <td>3942</td>\n      <td>1</td>\n      <td>1</td>\n      <td>0.923482</td>\n      <td>1</td>\n      <td>3559</td>\n      <td>0.943</td>\n      <td>1</td>\n    </tr>\n    <tr>\n      <th>1827</th>\n      <td>C736Y</td>\n      <td>1</td>\n      <td>1</td>\n      <td>FGFR1</td>\n      <td>3499</td>\n      <td>0.962</td>\n      <td>1</td>\n      <td>4239</td>\n      <td>1</td>\n      <td>1</td>\n      <td>...</td>\n      <td>0.875</td>\n      <td>1</td>\n      <td>3943</td>\n      <td>1</td>\n      <td>1</td>\n      <td>0.910874</td>\n      <td>1</td>\n      <td>3560</td>\n      <td>0.959</td>\n      <td>1</td>\n    </tr>\n  </tbody>\n</table>\n<p>1814 rows × 24 columns</p>\n</div>"
     },
     "execution_count": 754,
     "metadata": {},
     "output_type": "execute_result"
    }
   ],
   "source": [
    "# Print all rows in merged that aren't in my_prediction, according to the variant\n",
    "merged[merged[\"variant\"].isin(my_prediction[\"variant\"])]"
   ],
   "metadata": {
    "collapsed": false,
    "ExecuteTime": {
     "end_time": "2023-11-24T09:50:10.795775200Z",
     "start_time": "2023-11-24T09:50:10.749095200Z"
    }
   },
   "id": "c7a4d9543eba71"
  },
  {
   "cell_type": "code",
   "execution_count": 755,
   "outputs": [],
   "source": [
    "\n",
    "### Notice that VEST4 doesn't have data of WFS1, and REVEL doesn't have data for SLC26A4."
   ],
   "metadata": {
    "collapsed": false,
    "ExecuteTime": {
     "end_time": "2023-11-24T09:50:10.817328Z",
     "start_time": "2023-11-24T09:50:10.784263500Z"
    }
   },
   "id": "94e6a010187a5b4d"
  },
  {
   "cell_type": "code",
   "execution_count": 756,
   "outputs": [],
   "source": [
    "## Calculate the MCC for the predictions, according to the real pathogenicity (0 or 1)\n",
    "from sklearn.metrics import matthews_corrcoef"
   ],
   "metadata": {
    "collapsed": false,
    "ExecuteTime": {
     "end_time": "2023-11-24T09:50:10.875329100Z",
     "start_time": "2023-11-24T09:50:10.795775200Z"
    }
   },
   "id": "57a3d8604bb08730"
  },
  {
   "cell_type": "code",
   "execution_count": 757,
   "outputs": [
    {
     "name": "stdout",
     "output_type": "stream",
     "text": [
      "Number of genes: 5\n"
     ]
    }
   ],
   "source": [
    "# separate the merged dataframe according to gene\n",
    "genes = merged[\"gene\"].unique()\n",
    "print(f\"Number of genes: {len(genes)}\")"
   ],
   "metadata": {
    "collapsed": false,
    "ExecuteTime": {
     "end_time": "2023-11-24T09:50:10.875329100Z",
     "start_time": "2023-11-24T09:50:10.817328Z"
    }
   },
   "id": "82b8979a837034b9"
  },
  {
   "cell_type": "code",
   "execution_count": 758,
   "outputs": [
    {
     "name": "stderr",
     "output_type": "stream",
     "text": [
      "C:\\Users\\InbarBlech\\AppData\\Local\\Temp\\ipykernel_26016\\3609092475.py:12: SettingWithCopyWarning: \n",
      "A value is trying to be set on a copy of a slice from a DataFrame.\n",
      "Try using .loc[row_indexer,col_indexer] = value instead\n",
      "\n",
      "See the caveats in the documentation: https://pandas.pydata.org/pandas-docs/stable/user_guide/indexing.html#returning-a-view-versus-a-copy\n",
      "  gene_df['pathogenicity'] = gene_df['pathogenicity'].astype(int)\n",
      "C:\\Users\\InbarBlech\\AppData\\Local\\Temp\\ipykernel_26016\\3609092475.py:12: SettingWithCopyWarning: \n",
      "A value is trying to be set on a copy of a slice from a DataFrame.\n",
      "Try using .loc[row_indexer,col_indexer] = value instead\n",
      "\n",
      "See the caveats in the documentation: https://pandas.pydata.org/pandas-docs/stable/user_guide/indexing.html#returning-a-view-versus-a-copy\n",
      "  gene_df['pathogenicity'] = gene_df['pathogenicity'].astype(int)\n",
      "C:\\Users\\InbarBlech\\AppData\\Local\\Temp\\ipykernel_26016\\3609092475.py:12: SettingWithCopyWarning: \n",
      "A value is trying to be set on a copy of a slice from a DataFrame.\n",
      "Try using .loc[row_indexer,col_indexer] = value instead\n",
      "\n",
      "See the caveats in the documentation: https://pandas.pydata.org/pandas-docs/stable/user_guide/indexing.html#returning-a-view-versus-a-copy\n",
      "  gene_df['pathogenicity'] = gene_df['pathogenicity'].astype(int)\n"
     ]
    },
    {
     "name": "stdout",
     "output_type": "stream",
     "text": [
      "VEST --COL2A1 TP: 253, TN: 173, FP: 8, FN: 1\n",
      "VEST --COL4A3 TP: 91, TN: 123, FP: 6, FN: 1\n",
      "VEST --COL4A5 TP: 359, TN: 99, FP: 0, FN: 0\n",
      "VEST --MYO7A TP: 152, TN: 330, FP: 51, FN: 1\n",
      "VEST --FGFR1 TP: 90, TN: 64, FP: 11, FN: 1\n",
      "MCCs of VEST predictions for each gene:\n",
      "COL2A1: 0.9577148337368127\n",
      "COL4A3: 0.9363283208111267\n",
      "COL4A5: 1.0\n",
      "MYO7A: 0.8006551781427285\n",
      "FGFR1: 0.8588624500892263\n",
      "alphamissense --COL2A1 TP: 253, TN: 171, FP: 10, FN: 1\n",
      "alphamissense --COL4A3 TP: 88, TN: 125, FP: 4, FN: 4\n",
      "alphamissense --COL4A5 TP: 355, TN: 99, FP: 0, FN: 4\n",
      "alphamissense --MYO7A TP: 151, TN: 329, FP: 52, FN: 2\n",
      "alphamissense --FGFR1 TP: 89, TN: 64, FP: 11, FN: 2\n",
      "MCCs of alphamissense predictions for each gene:\n",
      "COL2A1: 0.9484577548319691\n",
      "COL4A3: 0.9255139871924503\n",
      "COL4A5: 0.9749131698112075\n",
      "MYO7A: 0.7921227814649218\n",
      "FGFR1: 0.8454073822209278\n",
      "REVEL --COL2A1 TP: 254, TN: 166, FP: 15, FN: 0\n",
      "REVEL --COL4A3 TP: 92, TN: 121, FP: 8, FN: 0\n",
      "REVEL --COL4A5 TP: 359, TN: 97, FP: 2, FN: 0\n",
      "REVEL --MYO7A TP: 152, TN: 328, FP: 53, FN: 1\n",
      "REVEL --FGFR1 TP: 91, TN: 64, FP: 11, FN: 0\n",
      "MCCs of REVEL predictions for each gene:\n",
      "COL2A1: 0.9305837721761131\n",
      "COL4A3: 0.9289487264828498\n",
      "COL4A5: 0.987101684803845\n",
      "MYO7A: 0.7942777950929263\n",
      "FGFR1: 0.872529191226565\n",
      "EVE --COL2A1 TP: 250, TN: 171, FP: 10, FN: 4\n",
      "EVE --COL4A3 TP: 91, TN: 122, FP: 7, FN: 1\n",
      "EVE --COL4A5 TP: 355, TN: 99, FP: 0, FN: 4\n",
      "EVE --MYO7A TP: 145, TN: 339, FP: 42, FN: 8\n"
     ]
    },
    {
     "name": "stderr",
     "output_type": "stream",
     "text": [
      "C:\\Users\\InbarBlech\\AppData\\Local\\Temp\\ipykernel_26016\\3609092475.py:12: SettingWithCopyWarning: \n",
      "A value is trying to be set on a copy of a slice from a DataFrame.\n",
      "Try using .loc[row_indexer,col_indexer] = value instead\n",
      "\n",
      "See the caveats in the documentation: https://pandas.pydata.org/pandas-docs/stable/user_guide/indexing.html#returning-a-view-versus-a-copy\n",
      "  gene_df['pathogenicity'] = gene_df['pathogenicity'].astype(int)\n",
      "C:\\Users\\InbarBlech\\AppData\\Local\\Temp\\ipykernel_26016\\3609092475.py:12: SettingWithCopyWarning: \n",
      "A value is trying to be set on a copy of a slice from a DataFrame.\n",
      "Try using .loc[row_indexer,col_indexer] = value instead\n",
      "\n",
      "See the caveats in the documentation: https://pandas.pydata.org/pandas-docs/stable/user_guide/indexing.html#returning-a-view-versus-a-copy\n",
      "  gene_df['pathogenicity'] = gene_df['pathogenicity'].astype(int)\n",
      "C:\\Users\\InbarBlech\\AppData\\Local\\Temp\\ipykernel_26016\\3609092475.py:12: SettingWithCopyWarning: \n",
      "A value is trying to be set on a copy of a slice from a DataFrame.\n",
      "Try using .loc[row_indexer,col_indexer] = value instead\n",
      "\n",
      "See the caveats in the documentation: https://pandas.pydata.org/pandas-docs/stable/user_guide/indexing.html#returning-a-view-versus-a-copy\n",
      "  gene_df['pathogenicity'] = gene_df['pathogenicity'].astype(int)\n",
      "C:\\Users\\InbarBlech\\AppData\\Local\\Temp\\ipykernel_26016\\3609092475.py:12: SettingWithCopyWarning: \n",
      "A value is trying to be set on a copy of a slice from a DataFrame.\n",
      "Try using .loc[row_indexer,col_indexer] = value instead\n",
      "\n",
      "See the caveats in the documentation: https://pandas.pydata.org/pandas-docs/stable/user_guide/indexing.html#returning-a-view-versus-a-copy\n",
      "  gene_df['pathogenicity'] = gene_df['pathogenicity'].astype(int)\n",
      "C:\\Users\\InbarBlech\\AppData\\Local\\Temp\\ipykernel_26016\\3609092475.py:12: SettingWithCopyWarning: \n",
      "A value is trying to be set on a copy of a slice from a DataFrame.\n",
      "Try using .loc[row_indexer,col_indexer] = value instead\n",
      "\n",
      "See the caveats in the documentation: https://pandas.pydata.org/pandas-docs/stable/user_guide/indexing.html#returning-a-view-versus-a-copy\n",
      "  gene_df['pathogenicity'] = gene_df['pathogenicity'].astype(int)\n",
      "C:\\Users\\InbarBlech\\AppData\\Local\\Temp\\ipykernel_26016\\3609092475.py:12: SettingWithCopyWarning: \n",
      "A value is trying to be set on a copy of a slice from a DataFrame.\n",
      "Try using .loc[row_indexer,col_indexer] = value instead\n",
      "\n",
      "See the caveats in the documentation: https://pandas.pydata.org/pandas-docs/stable/user_guide/indexing.html#returning-a-view-versus-a-copy\n",
      "  gene_df['pathogenicity'] = gene_df['pathogenicity'].astype(int)\n",
      "C:\\Users\\InbarBlech\\AppData\\Local\\Temp\\ipykernel_26016\\3609092475.py:12: SettingWithCopyWarning: \n",
      "A value is trying to be set on a copy of a slice from a DataFrame.\n",
      "Try using .loc[row_indexer,col_indexer] = value instead\n",
      "\n",
      "See the caveats in the documentation: https://pandas.pydata.org/pandas-docs/stable/user_guide/indexing.html#returning-a-view-versus-a-copy\n",
      "  gene_df['pathogenicity'] = gene_df['pathogenicity'].astype(int)\n",
      "C:\\Users\\InbarBlech\\AppData\\Local\\Temp\\ipykernel_26016\\3609092475.py:12: SettingWithCopyWarning: \n",
      "A value is trying to be set on a copy of a slice from a DataFrame.\n",
      "Try using .loc[row_indexer,col_indexer] = value instead\n",
      "\n",
      "See the caveats in the documentation: https://pandas.pydata.org/pandas-docs/stable/user_guide/indexing.html#returning-a-view-versus-a-copy\n",
      "  gene_df['pathogenicity'] = gene_df['pathogenicity'].astype(int)\n",
      "C:\\Users\\InbarBlech\\AppData\\Local\\Temp\\ipykernel_26016\\3609092475.py:12: SettingWithCopyWarning: \n",
      "A value is trying to be set on a copy of a slice from a DataFrame.\n",
      "Try using .loc[row_indexer,col_indexer] = value instead\n",
      "\n",
      "See the caveats in the documentation: https://pandas.pydata.org/pandas-docs/stable/user_guide/indexing.html#returning-a-view-versus-a-copy\n",
      "  gene_df['pathogenicity'] = gene_df['pathogenicity'].astype(int)\n",
      "C:\\Users\\InbarBlech\\AppData\\Local\\Temp\\ipykernel_26016\\3609092475.py:12: SettingWithCopyWarning: \n",
      "A value is trying to be set on a copy of a slice from a DataFrame.\n",
      "Try using .loc[row_indexer,col_indexer] = value instead\n",
      "\n",
      "See the caveats in the documentation: https://pandas.pydata.org/pandas-docs/stable/user_guide/indexing.html#returning-a-view-versus-a-copy\n",
      "  gene_df['pathogenicity'] = gene_df['pathogenicity'].astype(int)\n",
      "C:\\Users\\InbarBlech\\AppData\\Local\\Temp\\ipykernel_26016\\3609092475.py:12: SettingWithCopyWarning: \n",
      "A value is trying to be set on a copy of a slice from a DataFrame.\n",
      "Try using .loc[row_indexer,col_indexer] = value instead\n",
      "\n",
      "See the caveats in the documentation: https://pandas.pydata.org/pandas-docs/stable/user_guide/indexing.html#returning-a-view-versus-a-copy\n",
      "  gene_df['pathogenicity'] = gene_df['pathogenicity'].astype(int)\n",
      "C:\\Users\\InbarBlech\\AppData\\Local\\Temp\\ipykernel_26016\\3609092475.py:12: SettingWithCopyWarning: \n",
      "A value is trying to be set on a copy of a slice from a DataFrame.\n",
      "Try using .loc[row_indexer,col_indexer] = value instead\n",
      "\n",
      "See the caveats in the documentation: https://pandas.pydata.org/pandas-docs/stable/user_guide/indexing.html#returning-a-view-versus-a-copy\n",
      "  gene_df['pathogenicity'] = gene_df['pathogenicity'].astype(int)\n",
      "C:\\Users\\InbarBlech\\AppData\\Local\\Temp\\ipykernel_26016\\3609092475.py:12: SettingWithCopyWarning: \n",
      "A value is trying to be set on a copy of a slice from a DataFrame.\n",
      "Try using .loc[row_indexer,col_indexer] = value instead\n",
      "\n",
      "See the caveats in the documentation: https://pandas.pydata.org/pandas-docs/stable/user_guide/indexing.html#returning-a-view-versus-a-copy\n",
      "  gene_df['pathogenicity'] = gene_df['pathogenicity'].astype(int)\n",
      "C:\\Users\\InbarBlech\\AppData\\Local\\Temp\\ipykernel_26016\\3609092475.py:12: SettingWithCopyWarning: \n",
      "A value is trying to be set on a copy of a slice from a DataFrame.\n",
      "Try using .loc[row_indexer,col_indexer] = value instead\n",
      "\n",
      "See the caveats in the documentation: https://pandas.pydata.org/pandas-docs/stable/user_guide/indexing.html#returning-a-view-versus-a-copy\n",
      "  gene_df['pathogenicity'] = gene_df['pathogenicity'].astype(int)\n",
      "C:\\Users\\InbarBlech\\AppData\\Local\\Temp\\ipykernel_26016\\3609092475.py:12: SettingWithCopyWarning: \n",
      "A value is trying to be set on a copy of a slice from a DataFrame.\n",
      "Try using .loc[row_indexer,col_indexer] = value instead\n",
      "\n",
      "See the caveats in the documentation: https://pandas.pydata.org/pandas-docs/stable/user_guide/indexing.html#returning-a-view-versus-a-copy\n",
      "  gene_df['pathogenicity'] = gene_df['pathogenicity'].astype(int)\n",
      "C:\\Users\\InbarBlech\\AppData\\Local\\Temp\\ipykernel_26016\\3609092475.py:12: SettingWithCopyWarning: \n",
      "A value is trying to be set on a copy of a slice from a DataFrame.\n",
      "Try using .loc[row_indexer,col_indexer] = value instead\n",
      "\n",
      "See the caveats in the documentation: https://pandas.pydata.org/pandas-docs/stable/user_guide/indexing.html#returning-a-view-versus-a-copy\n",
      "  gene_df['pathogenicity'] = gene_df['pathogenicity'].astype(int)\n",
      "C:\\Users\\InbarBlech\\AppData\\Local\\Temp\\ipykernel_26016\\3609092475.py:12: SettingWithCopyWarning: \n",
      "A value is trying to be set on a copy of a slice from a DataFrame.\n",
      "Try using .loc[row_indexer,col_indexer] = value instead\n",
      "\n",
      "See the caveats in the documentation: https://pandas.pydata.org/pandas-docs/stable/user_guide/indexing.html#returning-a-view-versus-a-copy\n",
      "  gene_df['pathogenicity'] = gene_df['pathogenicity'].astype(int)\n",
      "C:\\Users\\InbarBlech\\AppData\\Local\\Temp\\ipykernel_26016\\3609092475.py:12: SettingWithCopyWarning: \n",
      "A value is trying to be set on a copy of a slice from a DataFrame.\n",
      "Try using .loc[row_indexer,col_indexer] = value instead\n",
      "\n",
      "See the caveats in the documentation: https://pandas.pydata.org/pandas-docs/stable/user_guide/indexing.html#returning-a-view-versus-a-copy\n",
      "  gene_df['pathogenicity'] = gene_df['pathogenicity'].astype(int)\n",
      "C:\\Users\\InbarBlech\\AppData\\Local\\Temp\\ipykernel_26016\\3609092475.py:12: SettingWithCopyWarning: \n",
      "A value is trying to be set on a copy of a slice from a DataFrame.\n",
      "Try using .loc[row_indexer,col_indexer] = value instead\n",
      "\n",
      "See the caveats in the documentation: https://pandas.pydata.org/pandas-docs/stable/user_guide/indexing.html#returning-a-view-versus-a-copy\n",
      "  gene_df['pathogenicity'] = gene_df['pathogenicity'].astype(int)\n",
      "C:\\Users\\InbarBlech\\AppData\\Local\\Temp\\ipykernel_26016\\3609092475.py:12: SettingWithCopyWarning: \n",
      "A value is trying to be set on a copy of a slice from a DataFrame.\n",
      "Try using .loc[row_indexer,col_indexer] = value instead\n",
      "\n",
      "See the caveats in the documentation: https://pandas.pydata.org/pandas-docs/stable/user_guide/indexing.html#returning-a-view-versus-a-copy\n",
      "  gene_df['pathogenicity'] = gene_df['pathogenicity'].astype(int)\n",
      "C:\\Users\\InbarBlech\\AppData\\Local\\Temp\\ipykernel_26016\\3609092475.py:12: SettingWithCopyWarning: \n",
      "A value is trying to be set on a copy of a slice from a DataFrame.\n",
      "Try using .loc[row_indexer,col_indexer] = value instead\n",
      "\n",
      "See the caveats in the documentation: https://pandas.pydata.org/pandas-docs/stable/user_guide/indexing.html#returning-a-view-versus-a-copy\n",
      "  gene_df['pathogenicity'] = gene_df['pathogenicity'].astype(int)\n"
     ]
    },
    {
     "name": "stdout",
     "output_type": "stream",
     "text": [
      "EVE --FGFR1 TP: 79, TN: 67, FP: 8, FN: 12\n",
      "MCCs of EVE predictions for each gene:\n",
      "COL2A1: 0.9338297967906009\n",
      "COL4A3: 0.927626067077041\n",
      "COL4A5: 0.9749131698112075\n",
      "MYO7A: 0.7937708302129786\n",
      "FGFR1: 0.7588015633893758\n",
      "MutPred --COL2A1 TP: 251, TN: 168, FP: 13, FN: 3\n",
      "MutPred --COL4A3 TP: 91, TN: 123, FP: 6, FN: 1\n",
      "MutPred --COL4A5 TP: 358, TN: 98, FP: 1, FN: 1\n",
      "MutPred --MYO7A TP: 144, TN: 331, FP: 50, FN: 9\n",
      "MutPred --FGFR1 TP: 88, TN: 65, FP: 10, FN: 3\n",
      "MCCs of MutPred predictions for each gene:\n",
      "COL2A1: 0.9247513759727938\n",
      "COL4A3: 0.9363283208111267\n",
      "COL4A5: 0.9871134745786556\n",
      "MYO7A: 0.7614164739812336\n",
      "FGFR1: 0.8437104813341852\n"
     ]
    },
    {
     "name": "stderr",
     "output_type": "stream",
     "text": [
      "C:\\Users\\InbarBlech\\AppData\\Local\\Temp\\ipykernel_26016\\3609092475.py:12: SettingWithCopyWarning: \n",
      "A value is trying to be set on a copy of a slice from a DataFrame.\n",
      "Try using .loc[row_indexer,col_indexer] = value instead\n",
      "\n",
      "See the caveats in the documentation: https://pandas.pydata.org/pandas-docs/stable/user_guide/indexing.html#returning-a-view-versus-a-copy\n",
      "  gene_df['pathogenicity'] = gene_df['pathogenicity'].astype(int)\n",
      "C:\\Users\\InbarBlech\\AppData\\Local\\Temp\\ipykernel_26016\\3609092475.py:42: SettingWithCopyWarning: \n",
      "A value is trying to be set on a copy of a slice from a DataFrame.\n",
      "Try using .loc[row_indexer,col_indexer] = value instead\n",
      "\n",
      "See the caveats in the documentation: https://pandas.pydata.org/pandas-docs/stable/user_guide/indexing.html#returning-a-view-versus-a-copy\n",
      "  gene_df['pathogenicity'] = gene_df['pathogenicity'].astype(int)\n",
      "C:\\Users\\InbarBlech\\AppData\\Local\\Temp\\ipykernel_26016\\3609092475.py:43: SettingWithCopyWarning: \n",
      "A value is trying to be set on a copy of a slice from a DataFrame.\n",
      "Try using .loc[row_indexer,col_indexer] = value instead\n",
      "\n",
      "See the caveats in the documentation: https://pandas.pydata.org/pandas-docs/stable/user_guide/indexing.html#returning-a-view-versus-a-copy\n",
      "  gene_df['prediction'] = gene_df['prediction'].astype(int)\n"
     ]
    },
    {
     "ename": "TypeError",
     "evalue": "'<' not supported between instances of 'str' and 'int'",
     "output_type": "error",
     "traceback": [
      "\u001B[1;31m---------------------------------------------------------------------------\u001B[0m",
      "\u001B[1;31mTypeError\u001B[0m                                 Traceback (most recent call last)",
      "\u001B[1;32m~\\AppData\\Local\\Temp\\ipykernel_26016\\3609092475.py\u001B[0m in \u001B[0;36m<module>\u001B[1;34m\u001B[0m\n\u001B[0;32m     44\u001B[0m \u001B[1;33m\u001B[0m\u001B[0m\n\u001B[0;32m     45\u001B[0m     \u001B[1;31m# Get TP, TN, FP, FN\u001B[0m\u001B[1;33m\u001B[0m\u001B[1;33m\u001B[0m\u001B[0m\n\u001B[1;32m---> 46\u001B[1;33m     \u001B[0mTP\u001B[0m \u001B[1;33m=\u001B[0m \u001B[0mlen\u001B[0m\u001B[1;33m(\u001B[0m\u001B[0mgene_df\u001B[0m\u001B[1;33m[\u001B[0m\u001B[1;33m(\u001B[0m\u001B[0mgene_df\u001B[0m\u001B[1;33m[\u001B[0m\u001B[1;34m'pathogenicity'\u001B[0m\u001B[1;33m]\u001B[0m \u001B[1;33m==\u001B[0m \u001B[1;36m1\u001B[0m\u001B[1;33m)\u001B[0m \u001B[1;33m&\u001B[0m \u001B[1;33m(\u001B[0m\u001B[0mgene_df\u001B[0m\u001B[1;33m[\u001B[0m\u001B[1;34m'prediction'\u001B[0m\u001B[1;33m]\u001B[0m \u001B[1;33m==\u001B[0m \u001B[1;36m1\u001B[0m\u001B[1;33m)\u001B[0m\u001B[1;33m]\u001B[0m\u001B[1;33m)\u001B[0m\u001B[1;33m\u001B[0m\u001B[1;33m\u001B[0m\u001B[0m\n\u001B[0m\u001B[0;32m     47\u001B[0m     \u001B[0mTN\u001B[0m \u001B[1;33m=\u001B[0m \u001B[0mlen\u001B[0m\u001B[1;33m(\u001B[0m\u001B[0mgene_df\u001B[0m\u001B[1;33m[\u001B[0m\u001B[1;33m(\u001B[0m\u001B[0mgene_df\u001B[0m\u001B[1;33m[\u001B[0m\u001B[1;34m'pathogenicity'\u001B[0m\u001B[1;33m]\u001B[0m \u001B[1;33m==\u001B[0m \u001B[1;36m0\u001B[0m\u001B[1;33m)\u001B[0m \u001B[1;33m&\u001B[0m \u001B[1;33m(\u001B[0m\u001B[0mgene_df\u001B[0m\u001B[1;33m[\u001B[0m\u001B[1;34m'prediction'\u001B[0m\u001B[1;33m]\u001B[0m \u001B[1;33m==\u001B[0m \u001B[1;36m0\u001B[0m\u001B[1;33m)\u001B[0m\u001B[1;33m]\u001B[0m\u001B[1;33m)\u001B[0m\u001B[1;33m\u001B[0m\u001B[1;33m\u001B[0m\u001B[0m\n\u001B[0;32m     48\u001B[0m     \u001B[0mFP\u001B[0m \u001B[1;33m=\u001B[0m \u001B[0mlen\u001B[0m\u001B[1;33m(\u001B[0m\u001B[0mgene_df\u001B[0m\u001B[1;33m[\u001B[0m\u001B[1;33m(\u001B[0m\u001B[0mgene_df\u001B[0m\u001B[1;33m[\u001B[0m\u001B[1;34m'pathogenicity'\u001B[0m\u001B[1;33m]\u001B[0m \u001B[1;33m==\u001B[0m \u001B[1;36m0\u001B[0m\u001B[1;33m)\u001B[0m \u001B[1;33m&\u001B[0m \u001B[1;33m(\u001B[0m\u001B[0mgene_df\u001B[0m\u001B[1;33m[\u001B[0m\u001B[1;34m'prediction'\u001B[0m\u001B[1;33m]\u001B[0m \u001B[1;33m==\u001B[0m \u001B[1;36m1\u001B[0m\u001B[1;33m)\u001B[0m\u001B[1;33m]\u001B[0m\u001B[1;33m)\u001B[0m\u001B[1;33m\u001B[0m\u001B[1;33m\u001B[0m\u001B[0m\n",
      "\u001B[1;32m~\\anaconda3\\lib\\site-packages\\pandas\\core\\ops\\common.py\u001B[0m in \u001B[0;36mnew_method\u001B[1;34m(self, other)\u001B[0m\n\u001B[0;32m     68\u001B[0m         \u001B[0mother\u001B[0m \u001B[1;33m=\u001B[0m \u001B[0mitem_from_zerodim\u001B[0m\u001B[1;33m(\u001B[0m\u001B[0mother\u001B[0m\u001B[1;33m)\u001B[0m\u001B[1;33m\u001B[0m\u001B[1;33m\u001B[0m\u001B[0m\n\u001B[0;32m     69\u001B[0m \u001B[1;33m\u001B[0m\u001B[0m\n\u001B[1;32m---> 70\u001B[1;33m         \u001B[1;32mreturn\u001B[0m \u001B[0mmethod\u001B[0m\u001B[1;33m(\u001B[0m\u001B[0mself\u001B[0m\u001B[1;33m,\u001B[0m \u001B[0mother\u001B[0m\u001B[1;33m)\u001B[0m\u001B[1;33m\u001B[0m\u001B[1;33m\u001B[0m\u001B[0m\n\u001B[0m\u001B[0;32m     71\u001B[0m \u001B[1;33m\u001B[0m\u001B[0m\n\u001B[0;32m     72\u001B[0m     \u001B[1;32mreturn\u001B[0m \u001B[0mnew_method\u001B[0m\u001B[1;33m\u001B[0m\u001B[1;33m\u001B[0m\u001B[0m\n",
      "\u001B[1;32m~\\anaconda3\\lib\\site-packages\\pandas\\core\\arraylike.py\u001B[0m in \u001B[0;36m__rand__\u001B[1;34m(self, other)\u001B[0m\n\u001B[0;32m     72\u001B[0m     \u001B[1;33m@\u001B[0m\u001B[0munpack_zerodim_and_defer\u001B[0m\u001B[1;33m(\u001B[0m\u001B[1;34m\"__rand__\"\u001B[0m\u001B[1;33m)\u001B[0m\u001B[1;33m\u001B[0m\u001B[1;33m\u001B[0m\u001B[0m\n\u001B[0;32m     73\u001B[0m     \u001B[1;32mdef\u001B[0m \u001B[0m__rand__\u001B[0m\u001B[1;33m(\u001B[0m\u001B[0mself\u001B[0m\u001B[1;33m,\u001B[0m \u001B[0mother\u001B[0m\u001B[1;33m)\u001B[0m\u001B[1;33m:\u001B[0m\u001B[1;33m\u001B[0m\u001B[1;33m\u001B[0m\u001B[0m\n\u001B[1;32m---> 74\u001B[1;33m         \u001B[1;32mreturn\u001B[0m \u001B[0mself\u001B[0m\u001B[1;33m.\u001B[0m\u001B[0m_logical_method\u001B[0m\u001B[1;33m(\u001B[0m\u001B[0mother\u001B[0m\u001B[1;33m,\u001B[0m \u001B[0mroperator\u001B[0m\u001B[1;33m.\u001B[0m\u001B[0mrand_\u001B[0m\u001B[1;33m)\u001B[0m\u001B[1;33m\u001B[0m\u001B[1;33m\u001B[0m\u001B[0m\n\u001B[0m\u001B[0;32m     75\u001B[0m \u001B[1;33m\u001B[0m\u001B[0m\n\u001B[0;32m     76\u001B[0m     \u001B[1;33m@\u001B[0m\u001B[0munpack_zerodim_and_defer\u001B[0m\u001B[1;33m(\u001B[0m\u001B[1;34m\"__or__\"\u001B[0m\u001B[1;33m)\u001B[0m\u001B[1;33m\u001B[0m\u001B[1;33m\u001B[0m\u001B[0m\n",
      "\u001B[1;32m~\\anaconda3\\lib\\site-packages\\pandas\\core\\frame.py\u001B[0m in \u001B[0;36m_arith_method\u001B[1;34m(self, other, op)\u001B[0m\n\u001B[0;32m   6951\u001B[0m         \u001B[0mother\u001B[0m \u001B[1;33m=\u001B[0m \u001B[0mops\u001B[0m\u001B[1;33m.\u001B[0m\u001B[0mmaybe_prepare_scalar_for_op\u001B[0m\u001B[1;33m(\u001B[0m\u001B[0mother\u001B[0m\u001B[1;33m,\u001B[0m \u001B[1;33m(\u001B[0m\u001B[0mself\u001B[0m\u001B[1;33m.\u001B[0m\u001B[0mshape\u001B[0m\u001B[1;33m[\u001B[0m\u001B[0maxis\u001B[0m\u001B[1;33m]\u001B[0m\u001B[1;33m,\u001B[0m\u001B[1;33m)\u001B[0m\u001B[1;33m)\u001B[0m\u001B[1;33m\u001B[0m\u001B[1;33m\u001B[0m\u001B[0m\n\u001B[0;32m   6952\u001B[0m \u001B[1;33m\u001B[0m\u001B[0m\n\u001B[1;32m-> 6953\u001B[1;33m         \u001B[0mself\u001B[0m\u001B[1;33m,\u001B[0m \u001B[0mother\u001B[0m \u001B[1;33m=\u001B[0m \u001B[0mops\u001B[0m\u001B[1;33m.\u001B[0m\u001B[0malign_method_FRAME\u001B[0m\u001B[1;33m(\u001B[0m\u001B[0mself\u001B[0m\u001B[1;33m,\u001B[0m \u001B[0mother\u001B[0m\u001B[1;33m,\u001B[0m \u001B[0maxis\u001B[0m\u001B[1;33m,\u001B[0m \u001B[0mflex\u001B[0m\u001B[1;33m=\u001B[0m\u001B[1;32mTrue\u001B[0m\u001B[1;33m,\u001B[0m \u001B[0mlevel\u001B[0m\u001B[1;33m=\u001B[0m\u001B[1;32mNone\u001B[0m\u001B[1;33m)\u001B[0m\u001B[1;33m\u001B[0m\u001B[1;33m\u001B[0m\u001B[0m\n\u001B[0m\u001B[0;32m   6954\u001B[0m \u001B[1;33m\u001B[0m\u001B[0m\n\u001B[0;32m   6955\u001B[0m         \u001B[0mnew_data\u001B[0m \u001B[1;33m=\u001B[0m \u001B[0mself\u001B[0m\u001B[1;33m.\u001B[0m\u001B[0m_dispatch_frame_op\u001B[0m\u001B[1;33m(\u001B[0m\u001B[0mother\u001B[0m\u001B[1;33m,\u001B[0m \u001B[0mop\u001B[0m\u001B[1;33m,\u001B[0m \u001B[0maxis\u001B[0m\u001B[1;33m=\u001B[0m\u001B[0maxis\u001B[0m\u001B[1;33m)\u001B[0m\u001B[1;33m\u001B[0m\u001B[1;33m\u001B[0m\u001B[0m\n",
      "\u001B[1;32m~\\anaconda3\\lib\\site-packages\\pandas\\core\\ops\\__init__.py\u001B[0m in \u001B[0;36malign_method_FRAME\u001B[1;34m(left, right, axis, flex, level)\u001B[0m\n\u001B[0;32m    305\u001B[0m                 )\n\u001B[0;32m    306\u001B[0m \u001B[1;33m\u001B[0m\u001B[0m\n\u001B[1;32m--> 307\u001B[1;33m         left, right = left.align(\n\u001B[0m\u001B[0;32m    308\u001B[0m             \u001B[0mright\u001B[0m\u001B[1;33m,\u001B[0m \u001B[0mjoin\u001B[0m\u001B[1;33m=\u001B[0m\u001B[1;34m\"outer\"\u001B[0m\u001B[1;33m,\u001B[0m \u001B[0maxis\u001B[0m\u001B[1;33m=\u001B[0m\u001B[0maxis\u001B[0m\u001B[1;33m,\u001B[0m \u001B[0mlevel\u001B[0m\u001B[1;33m=\u001B[0m\u001B[0mlevel\u001B[0m\u001B[1;33m,\u001B[0m \u001B[0mcopy\u001B[0m\u001B[1;33m=\u001B[0m\u001B[1;32mFalse\u001B[0m\u001B[1;33m\u001B[0m\u001B[1;33m\u001B[0m\u001B[0m\n\u001B[0;32m    309\u001B[0m         )\n",
      "\u001B[1;32m~\\anaconda3\\lib\\site-packages\\pandas\\core\\frame.py\u001B[0m in \u001B[0;36malign\u001B[1;34m(self, other, join, axis, level, copy, fill_value, method, limit, fill_axis, broadcast_axis)\u001B[0m\n\u001B[0;32m   4710\u001B[0m         \u001B[0mbroadcast_axis\u001B[0m\u001B[1;33m:\u001B[0m \u001B[0mAxis\u001B[0m \u001B[1;33m|\u001B[0m \u001B[1;32mNone\u001B[0m \u001B[1;33m=\u001B[0m \u001B[1;32mNone\u001B[0m\u001B[1;33m,\u001B[0m\u001B[1;33m\u001B[0m\u001B[1;33m\u001B[0m\u001B[0m\n\u001B[0;32m   4711\u001B[0m     ) -> DataFrame:\n\u001B[1;32m-> 4712\u001B[1;33m         return super().align(\n\u001B[0m\u001B[0;32m   4713\u001B[0m             \u001B[0mother\u001B[0m\u001B[1;33m,\u001B[0m\u001B[1;33m\u001B[0m\u001B[1;33m\u001B[0m\u001B[0m\n\u001B[0;32m   4714\u001B[0m             \u001B[0mjoin\u001B[0m\u001B[1;33m=\u001B[0m\u001B[0mjoin\u001B[0m\u001B[1;33m,\u001B[0m\u001B[1;33m\u001B[0m\u001B[1;33m\u001B[0m\u001B[0m\n",
      "\u001B[1;32m~\\anaconda3\\lib\\site-packages\\pandas\\core\\generic.py\u001B[0m in \u001B[0;36malign\u001B[1;34m(self, other, join, axis, level, copy, fill_value, method, limit, fill_axis, broadcast_axis)\u001B[0m\n\u001B[0;32m   8877\u001B[0m             )\n\u001B[0;32m   8878\u001B[0m         \u001B[1;32melif\u001B[0m \u001B[0misinstance\u001B[0m\u001B[1;33m(\u001B[0m\u001B[0mother\u001B[0m\u001B[1;33m,\u001B[0m \u001B[0mABCSeries\u001B[0m\u001B[1;33m)\u001B[0m\u001B[1;33m:\u001B[0m\u001B[1;33m\u001B[0m\u001B[1;33m\u001B[0m\u001B[0m\n\u001B[1;32m-> 8879\u001B[1;33m             return self._align_series(\n\u001B[0m\u001B[0;32m   8880\u001B[0m                 \u001B[0mother\u001B[0m\u001B[1;33m,\u001B[0m\u001B[1;33m\u001B[0m\u001B[1;33m\u001B[0m\u001B[0m\n\u001B[0;32m   8881\u001B[0m                 \u001B[0mjoin\u001B[0m\u001B[1;33m=\u001B[0m\u001B[0mjoin\u001B[0m\u001B[1;33m,\u001B[0m\u001B[1;33m\u001B[0m\u001B[1;33m\u001B[0m\u001B[0m\n",
      "\u001B[1;32m~\\anaconda3\\lib\\site-packages\\pandas\\core\\generic.py\u001B[0m in \u001B[0;36m_align_series\u001B[1;34m(self, other, join, axis, level, copy, fill_value, method, limit, fill_axis)\u001B[0m\n\u001B[0;32m   8994\u001B[0m                 \u001B[0mlidx\u001B[0m\u001B[1;33m,\u001B[0m \u001B[0mridx\u001B[0m \u001B[1;33m=\u001B[0m \u001B[1;32mNone\u001B[0m\u001B[1;33m,\u001B[0m \u001B[1;32mNone\u001B[0m\u001B[1;33m\u001B[0m\u001B[1;33m\u001B[0m\u001B[0m\n\u001B[0;32m   8995\u001B[0m                 \u001B[1;32mif\u001B[0m \u001B[1;32mnot\u001B[0m \u001B[0mjoin_index\u001B[0m\u001B[1;33m.\u001B[0m\u001B[0mequals\u001B[0m\u001B[1;33m(\u001B[0m\u001B[0mother\u001B[0m\u001B[1;33m.\u001B[0m\u001B[0mindex\u001B[0m\u001B[1;33m)\u001B[0m\u001B[1;33m:\u001B[0m\u001B[1;33m\u001B[0m\u001B[1;33m\u001B[0m\u001B[0m\n\u001B[1;32m-> 8996\u001B[1;33m                     join_index, lidx, ridx = join_index.join(\n\u001B[0m\u001B[0;32m   8997\u001B[0m                         \u001B[0mother\u001B[0m\u001B[1;33m.\u001B[0m\u001B[0mindex\u001B[0m\u001B[1;33m,\u001B[0m \u001B[0mhow\u001B[0m\u001B[1;33m=\u001B[0m\u001B[0mjoin\u001B[0m\u001B[1;33m,\u001B[0m \u001B[0mlevel\u001B[0m\u001B[1;33m=\u001B[0m\u001B[0mlevel\u001B[0m\u001B[1;33m,\u001B[0m \u001B[0mreturn_indexers\u001B[0m\u001B[1;33m=\u001B[0m\u001B[1;32mTrue\u001B[0m\u001B[1;33m\u001B[0m\u001B[1;33m\u001B[0m\u001B[0m\n\u001B[0;32m   8998\u001B[0m                     )\n",
      "\u001B[1;32m~\\anaconda3\\lib\\site-packages\\pandas\\core\\indexes\\base.py\u001B[0m in \u001B[0;36mjoin\u001B[1;34m(self, other, how, level, return_indexers, sort)\u001B[0m\n\u001B[0;32m    214\u001B[0m         \u001B[0msort\u001B[0m\u001B[1;33m:\u001B[0m \u001B[0mbool\u001B[0m \u001B[1;33m=\u001B[0m \u001B[1;32mFalse\u001B[0m\u001B[1;33m,\u001B[0m\u001B[1;33m\u001B[0m\u001B[1;33m\u001B[0m\u001B[0m\n\u001B[0;32m    215\u001B[0m     ):\n\u001B[1;32m--> 216\u001B[1;33m         \u001B[0mjoin_index\u001B[0m\u001B[1;33m,\u001B[0m \u001B[0mlidx\u001B[0m\u001B[1;33m,\u001B[0m \u001B[0mridx\u001B[0m \u001B[1;33m=\u001B[0m \u001B[0mmeth\u001B[0m\u001B[1;33m(\u001B[0m\u001B[0mself\u001B[0m\u001B[1;33m,\u001B[0m \u001B[0mother\u001B[0m\u001B[1;33m,\u001B[0m \u001B[0mhow\u001B[0m\u001B[1;33m=\u001B[0m\u001B[0mhow\u001B[0m\u001B[1;33m,\u001B[0m \u001B[0mlevel\u001B[0m\u001B[1;33m=\u001B[0m\u001B[0mlevel\u001B[0m\u001B[1;33m,\u001B[0m \u001B[0msort\u001B[0m\u001B[1;33m=\u001B[0m\u001B[0msort\u001B[0m\u001B[1;33m)\u001B[0m\u001B[1;33m\u001B[0m\u001B[1;33m\u001B[0m\u001B[0m\n\u001B[0m\u001B[0;32m    217\u001B[0m         \u001B[1;32mif\u001B[0m \u001B[1;32mnot\u001B[0m \u001B[0mreturn_indexers\u001B[0m\u001B[1;33m:\u001B[0m\u001B[1;33m\u001B[0m\u001B[1;33m\u001B[0m\u001B[0m\n\u001B[0;32m    218\u001B[0m             \u001B[1;32mreturn\u001B[0m \u001B[0mjoin_index\u001B[0m\u001B[1;33m\u001B[0m\u001B[1;33m\u001B[0m\u001B[0m\n",
      "\u001B[1;32m~\\anaconda3\\lib\\site-packages\\pandas\\core\\indexes\\base.py\u001B[0m in \u001B[0;36mjoin\u001B[1;34m(self, other, how, level, return_indexers, sort)\u001B[0m\n\u001B[0;32m   4408\u001B[0m             \u001B[0mthis\u001B[0m \u001B[1;33m=\u001B[0m \u001B[0mself\u001B[0m\u001B[1;33m.\u001B[0m\u001B[0mastype\u001B[0m\u001B[1;33m(\u001B[0m\u001B[0mdtype\u001B[0m\u001B[1;33m,\u001B[0m \u001B[0mcopy\u001B[0m\u001B[1;33m=\u001B[0m\u001B[1;32mFalse\u001B[0m\u001B[1;33m)\u001B[0m\u001B[1;33m\u001B[0m\u001B[1;33m\u001B[0m\u001B[0m\n\u001B[0;32m   4409\u001B[0m             \u001B[0mother\u001B[0m \u001B[1;33m=\u001B[0m \u001B[0mother\u001B[0m\u001B[1;33m.\u001B[0m\u001B[0mastype\u001B[0m\u001B[1;33m(\u001B[0m\u001B[0mdtype\u001B[0m\u001B[1;33m,\u001B[0m \u001B[0mcopy\u001B[0m\u001B[1;33m=\u001B[0m\u001B[1;32mFalse\u001B[0m\u001B[1;33m)\u001B[0m\u001B[1;33m\u001B[0m\u001B[1;33m\u001B[0m\u001B[0m\n\u001B[1;32m-> 4410\u001B[1;33m             \u001B[1;32mreturn\u001B[0m \u001B[0mthis\u001B[0m\u001B[1;33m.\u001B[0m\u001B[0mjoin\u001B[0m\u001B[1;33m(\u001B[0m\u001B[0mother\u001B[0m\u001B[1;33m,\u001B[0m \u001B[0mhow\u001B[0m\u001B[1;33m=\u001B[0m\u001B[0mhow\u001B[0m\u001B[1;33m,\u001B[0m \u001B[0mreturn_indexers\u001B[0m\u001B[1;33m=\u001B[0m\u001B[1;32mTrue\u001B[0m\u001B[1;33m)\u001B[0m\u001B[1;33m\u001B[0m\u001B[1;33m\u001B[0m\u001B[0m\n\u001B[0m\u001B[0;32m   4411\u001B[0m \u001B[1;33m\u001B[0m\u001B[0m\n\u001B[0;32m   4412\u001B[0m         \u001B[0m_validate_join_method\u001B[0m\u001B[1;33m(\u001B[0m\u001B[0mhow\u001B[0m\u001B[1;33m)\u001B[0m\u001B[1;33m\u001B[0m\u001B[1;33m\u001B[0m\u001B[0m\n",
      "\u001B[1;32m~\\anaconda3\\lib\\site-packages\\pandas\\core\\indexes\\base.py\u001B[0m in \u001B[0;36mjoin\u001B[1;34m(self, other, how, level, return_indexers, sort)\u001B[0m\n\u001B[0;32m    214\u001B[0m         \u001B[0msort\u001B[0m\u001B[1;33m:\u001B[0m \u001B[0mbool\u001B[0m \u001B[1;33m=\u001B[0m \u001B[1;32mFalse\u001B[0m\u001B[1;33m,\u001B[0m\u001B[1;33m\u001B[0m\u001B[1;33m\u001B[0m\u001B[0m\n\u001B[0;32m    215\u001B[0m     ):\n\u001B[1;32m--> 216\u001B[1;33m         \u001B[0mjoin_index\u001B[0m\u001B[1;33m,\u001B[0m \u001B[0mlidx\u001B[0m\u001B[1;33m,\u001B[0m \u001B[0mridx\u001B[0m \u001B[1;33m=\u001B[0m \u001B[0mmeth\u001B[0m\u001B[1;33m(\u001B[0m\u001B[0mself\u001B[0m\u001B[1;33m,\u001B[0m \u001B[0mother\u001B[0m\u001B[1;33m,\u001B[0m \u001B[0mhow\u001B[0m\u001B[1;33m=\u001B[0m\u001B[0mhow\u001B[0m\u001B[1;33m,\u001B[0m \u001B[0mlevel\u001B[0m\u001B[1;33m=\u001B[0m\u001B[0mlevel\u001B[0m\u001B[1;33m,\u001B[0m \u001B[0msort\u001B[0m\u001B[1;33m=\u001B[0m\u001B[0msort\u001B[0m\u001B[1;33m)\u001B[0m\u001B[1;33m\u001B[0m\u001B[1;33m\u001B[0m\u001B[0m\n\u001B[0m\u001B[0;32m    217\u001B[0m         \u001B[1;32mif\u001B[0m \u001B[1;32mnot\u001B[0m \u001B[0mreturn_indexers\u001B[0m\u001B[1;33m:\u001B[0m\u001B[1;33m\u001B[0m\u001B[1;33m\u001B[0m\u001B[0m\n\u001B[0;32m    218\u001B[0m             \u001B[1;32mreturn\u001B[0m \u001B[0mjoin_index\u001B[0m\u001B[1;33m\u001B[0m\u001B[1;33m\u001B[0m\u001B[0m\n",
      "\u001B[1;32m~\\anaconda3\\lib\\site-packages\\pandas\\core\\indexes\\base.py\u001B[0m in \u001B[0;36mjoin\u001B[1;34m(self, other, how, level, return_indexers, sort)\u001B[0m\n\u001B[0;32m   4418\u001B[0m                 \u001B[1;32mif\u001B[0m \u001B[0mself\u001B[0m\u001B[1;33m.\u001B[0m\u001B[0m_can_use_libjoin\u001B[0m\u001B[1;33m:\u001B[0m\u001B[1;33m\u001B[0m\u001B[1;33m\u001B[0m\u001B[0m\n\u001B[0;32m   4419\u001B[0m                     \u001B[1;31m# otherwise we will fall through to _join_via_get_indexer\u001B[0m\u001B[1;33m\u001B[0m\u001B[1;33m\u001B[0m\u001B[0m\n\u001B[1;32m-> 4420\u001B[1;33m                     \u001B[1;32mreturn\u001B[0m \u001B[0mself\u001B[0m\u001B[1;33m.\u001B[0m\u001B[0m_join_monotonic\u001B[0m\u001B[1;33m(\u001B[0m\u001B[0mother\u001B[0m\u001B[1;33m,\u001B[0m \u001B[0mhow\u001B[0m\u001B[1;33m=\u001B[0m\u001B[0mhow\u001B[0m\u001B[1;33m)\u001B[0m\u001B[1;33m\u001B[0m\u001B[1;33m\u001B[0m\u001B[0m\n\u001B[0m\u001B[0;32m   4421\u001B[0m             \u001B[1;32melse\u001B[0m\u001B[1;33m:\u001B[0m\u001B[1;33m\u001B[0m\u001B[1;33m\u001B[0m\u001B[0m\n\u001B[0;32m   4422\u001B[0m                 \u001B[1;32mreturn\u001B[0m \u001B[0mself\u001B[0m\u001B[1;33m.\u001B[0m\u001B[0m_join_non_unique\u001B[0m\u001B[1;33m(\u001B[0m\u001B[0mother\u001B[0m\u001B[1;33m,\u001B[0m \u001B[0mhow\u001B[0m\u001B[1;33m=\u001B[0m\u001B[0mhow\u001B[0m\u001B[1;33m)\u001B[0m\u001B[1;33m\u001B[0m\u001B[1;33m\u001B[0m\u001B[0m\n",
      "\u001B[1;32m~\\anaconda3\\lib\\site-packages\\pandas\\core\\indexes\\base.py\u001B[0m in \u001B[0;36m_join_monotonic\u001B[1;34m(self, other, how)\u001B[0m\n\u001B[0;32m   4766\u001B[0m                 \u001B[0mjoin_array\u001B[0m\u001B[1;33m,\u001B[0m \u001B[0mlidx\u001B[0m\u001B[1;33m,\u001B[0m \u001B[0mridx\u001B[0m \u001B[1;33m=\u001B[0m \u001B[0mself\u001B[0m\u001B[1;33m.\u001B[0m\u001B[0m_inner_indexer\u001B[0m\u001B[1;33m(\u001B[0m\u001B[0mother\u001B[0m\u001B[1;33m)\u001B[0m\u001B[1;33m\u001B[0m\u001B[1;33m\u001B[0m\u001B[0m\n\u001B[0;32m   4767\u001B[0m             \u001B[1;32melif\u001B[0m \u001B[0mhow\u001B[0m \u001B[1;33m==\u001B[0m \u001B[1;34m\"outer\"\u001B[0m\u001B[1;33m:\u001B[0m\u001B[1;33m\u001B[0m\u001B[1;33m\u001B[0m\u001B[0m\n\u001B[1;32m-> 4768\u001B[1;33m                 \u001B[0mjoin_array\u001B[0m\u001B[1;33m,\u001B[0m \u001B[0mlidx\u001B[0m\u001B[1;33m,\u001B[0m \u001B[0mridx\u001B[0m \u001B[1;33m=\u001B[0m \u001B[0mself\u001B[0m\u001B[1;33m.\u001B[0m\u001B[0m_outer_indexer\u001B[0m\u001B[1;33m(\u001B[0m\u001B[0mother\u001B[0m\u001B[1;33m)\u001B[0m\u001B[1;33m\u001B[0m\u001B[1;33m\u001B[0m\u001B[0m\n\u001B[0m\u001B[0;32m   4769\u001B[0m \u001B[1;33m\u001B[0m\u001B[0m\n\u001B[0;32m   4770\u001B[0m             \u001B[0mjoin_index\u001B[0m \u001B[1;33m=\u001B[0m \u001B[0mself\u001B[0m\u001B[1;33m.\u001B[0m\u001B[0m_wrap_joined_index\u001B[0m\u001B[1;33m(\u001B[0m\u001B[0mjoin_array\u001B[0m\u001B[1;33m,\u001B[0m \u001B[0mother\u001B[0m\u001B[1;33m)\u001B[0m\u001B[1;33m\u001B[0m\u001B[1;33m\u001B[0m\u001B[0m\n",
      "\u001B[1;32m~\\anaconda3\\lib\\site-packages\\pandas\\core\\indexes\\base.py\u001B[0m in \u001B[0;36m_outer_indexer\u001B[1;34m(self, other)\u001B[0m\n\u001B[0;32m    356\u001B[0m         \u001B[0msv\u001B[0m \u001B[1;33m=\u001B[0m \u001B[0mself\u001B[0m\u001B[1;33m.\u001B[0m\u001B[0m_get_engine_target\u001B[0m\u001B[1;33m(\u001B[0m\u001B[1;33m)\u001B[0m\u001B[1;33m\u001B[0m\u001B[1;33m\u001B[0m\u001B[0m\n\u001B[0;32m    357\u001B[0m         \u001B[0mov\u001B[0m \u001B[1;33m=\u001B[0m \u001B[0mother\u001B[0m\u001B[1;33m.\u001B[0m\u001B[0m_get_engine_target\u001B[0m\u001B[1;33m(\u001B[0m\u001B[1;33m)\u001B[0m\u001B[1;33m\u001B[0m\u001B[1;33m\u001B[0m\u001B[0m\n\u001B[1;32m--> 358\u001B[1;33m         \u001B[0mjoined_ndarray\u001B[0m\u001B[1;33m,\u001B[0m \u001B[0mlidx\u001B[0m\u001B[1;33m,\u001B[0m \u001B[0mridx\u001B[0m \u001B[1;33m=\u001B[0m \u001B[0mlibjoin\u001B[0m\u001B[1;33m.\u001B[0m\u001B[0mouter_join_indexer\u001B[0m\u001B[1;33m(\u001B[0m\u001B[0msv\u001B[0m\u001B[1;33m,\u001B[0m \u001B[0mov\u001B[0m\u001B[1;33m)\u001B[0m\u001B[1;33m\u001B[0m\u001B[1;33m\u001B[0m\u001B[0m\n\u001B[0m\u001B[0;32m    359\u001B[0m         \u001B[0mjoined\u001B[0m \u001B[1;33m=\u001B[0m \u001B[0mself\u001B[0m\u001B[1;33m.\u001B[0m\u001B[0m_from_join_target\u001B[0m\u001B[1;33m(\u001B[0m\u001B[0mjoined_ndarray\u001B[0m\u001B[1;33m)\u001B[0m\u001B[1;33m\u001B[0m\u001B[1;33m\u001B[0m\u001B[0m\n\u001B[0;32m    360\u001B[0m         \u001B[1;32mreturn\u001B[0m \u001B[0mjoined\u001B[0m\u001B[1;33m,\u001B[0m \u001B[0mlidx\u001B[0m\u001B[1;33m,\u001B[0m \u001B[0mridx\u001B[0m\u001B[1;33m\u001B[0m\u001B[1;33m\u001B[0m\u001B[0m\n",
      "\u001B[1;32m~\\anaconda3\\lib\\site-packages\\pandas\\_libs\\join.pyx\u001B[0m in \u001B[0;36mpandas._libs.join.outer_join_indexer\u001B[1;34m()\u001B[0m\n",
      "\u001B[1;31mTypeError\u001B[0m: '<' not supported between instances of 'str' and 'int'"
     ]
    }
   ],
   "source": [
    "# Calculate MCC for each gene specific predictor for mutpred\n",
    "\n",
    "# Build dictionary with gene names as keys.\n",
    "mccs = {gene: 0 for gene in genes}\n",
    "\n",
    "for tool in tools:\n",
    "    for gene in genes:\n",
    "        gene_df = merged[merged[\"gene\"] == gene]\n",
    "        # Assuming you have a DataFrame called 'data' with 'prediction' and 'MutPred_score' columns\n",
    "        # Create binary predictions based on the 0.5 threshold\n",
    "        \n",
    "        gene_df['pathogenicity'] = gene_df['pathogenicity'].astype(int)\n",
    "        \n",
    "        # Get TP, TN, FP, FN\n",
    "        TP = len(gene_df[(gene_df['pathogenicity'] == 1) & (gene_df[f\"{tool}_pathogenicity\"] == 1)])\n",
    "        TN = len(gene_df[(gene_df['pathogenicity'] == 0) & (gene_df[f\"{tool}_pathogenicity\"] == 0)])\n",
    "        FP = len(gene_df[(gene_df['pathogenicity'] == 0) & (gene_df[f\"{tool}_pathogenicity\"] == 1)])\n",
    "        FN = len(gene_df[(gene_df['pathogenicity'] == 1) & (gene_df[f\"{tool}_pathogenicity\"] == 0)])\n",
    "        print(f\"{tool} --{gene} TP: {TP}, TN: {TN}, FP: {FP}, FN: {FN}\")\n",
    "        \n",
    "        # Calculate MCC\n",
    "        mcc = matthews_corrcoef(gene_df['pathogenicity'], gene_df[f\"{tool}_pathogenicity\"])\n",
    "        \n",
    "        # Get gene name for the use for the dictionary\n",
    "        gene = gene_df['gene'].unique()[0]\n",
    "        \n",
    "        # Append mcc to dictionary\n",
    "        mccs[gene] = mcc\n",
    "    \n",
    "    print(f\"MCCs of {tool} predictions for each gene:\")\n",
    "    for gene in mccs:\n",
    "        print(f\"{gene}: {mccs[gene]}\")\n",
    "        \n",
    "# get MCC for my predictions\n",
    "mccs = {gene: 0 for gene in genes}\n",
    "\n",
    "for gene in genes:\n",
    "    gene_df = merged[merged[\"gene\"] == gene]\n",
    "    # Assuming you have a DataFrame called 'data' with 'prediction' and 'MutPred_score' columns\n",
    "    # Create binary predictions based on the 0.5 threshold\n",
    "    \n",
    "    gene_df['pathogenicity'] = gene_df['pathogenicity'].astype(int)\n",
    "    gene_df['prediction'] = gene_df['prediction'].astype(int)\n",
    "    \n",
    "    # Get TP, TN, FP, FN\n",
    "    TP = len(gene_df[(gene_df['pathogenicity'] == 1) & (gene_df['prediction'] == 1)])\n",
    "    TN = len(gene_df[(gene_df['pathogenicity'] == 0) & (gene_df['prediction'] == 0)])\n",
    "    FP = len(gene_df[(gene_df['pathogenicity'] == 0) & (gene_df['prediction'] == 1)])\n",
    "    FN = len(gene_df[(gene_df['pathogenicity'] == 1) & (gene_df['prediction'] == 0)])\n",
    "    \n",
    "    print(f\"my tool: {gene} TP: {TP}, TN: {TN}, FP: {FP}, FN: {FN}\")\n",
    "    \n",
    "    # Calculate MCC\n",
    "    mcc = matthews_corrcoef(gene_df['pathogenicity'], gene_df['prediction'])\n",
    "    \n",
    "    # Get gene name for the use for the dictionary\n",
    "    gene = gene_df['gene'].unique()[0]\n",
    "    \n",
    "    # Append mcc to dictionary\n",
    "    mccs[gene] = mcc\n",
    "\n",
    "print(f\"MCCs of predictions for each gene:\")\n",
    "for gene in mccs:\n",
    "    print(f\"{gene}: {mccs[gene]}\")\n"
   ],
   "metadata": {
    "collapsed": false,
    "ExecuteTime": {
     "end_time": "2023-11-24T09:50:11.237294300Z",
     "start_time": "2023-11-24T09:50:10.827695600Z"
    }
   },
   "id": "e534a510288960cb"
  },
  {
   "cell_type": "code",
   "execution_count": null,
   "outputs": [],
   "source": [
    "from sklearn.metrics import roc_auc_score, roc_curve, auc, precision_recall_curve, average_precision_score, f1_score, log_loss, confusion_matrix\n",
    "# store the results in a dictionary\n",
    "results = {gene: 0 for gene in genes}\n",
    "\n",
    "for gene in genes:\n",
    "    gene_df = merged[merged[\"gene\"] == gene]\n",
    "    y_true = gene_df[\"pathogenicity\"].astype(int)\n",
    "    predicted_probabilities = gene_df[\"MutPred_score\"]\n",
    "    gene_df.loc[:, 'binary_prediction_mutpred'] = (gene_df['MutPred_score'] > 0.5).astype(int)\n",
    "    predicted_labels = gene_df[\"binary_prediction_mutpred\"]\n",
    "    \n",
    "    results_gene = {}\n",
    "    # Calculate AUC-ROC\n",
    "    roc_auc = roc_auc_score(y_true, predicted_probabilities)\n",
    "    # append to dictionary\n",
    "    results_gene[\"roc_auc\"] = roc_auc\n",
    "    \n",
    "    # Calculate ROC curve\n",
    "    fpr, tpr, thresholds = roc_curve(y_true, predicted_probabilities)\n",
    "    roc_auc = auc(fpr, tpr)\n",
    "    # append to dictionary\n",
    "    results_gene[\"auc\"] = roc_auc\n",
    "    \n",
    "    # Calculate AUC-PR\n",
    "    precision, recall, _ = precision_recall_curve(y_true, predicted_probabilities)\n",
    "    pr_auc = auc(recall, precision)\n",
    "    # append to dictionary\n",
    "    results_gene[\"pr_auc\"] = pr_auc\n",
    "    \n",
    "    # Calculate F1 Score\n",
    "    f1 = f1_score(y_true, predicted_labels)\n",
    "    # append to dictionary\n",
    "    results_gene[\"f1\"] = f1\n",
    "    \n",
    "    # Calculate Log Loss\n",
    "    logloss = log_loss(y_true, predicted_probabilities)\n",
    "    # append to dictionary\n",
    "    results_gene[\"logloss\"] = logloss\n",
    "    \n",
    "    # Calculate confusion matrix\n",
    "    conf_matrix = confusion_matrix(y_true, predicted_labels)\n",
    "    # append to dictionary\n",
    "    results_gene[\"confusion_matrix\"] = conf_matrix\n",
    "    \n",
    "    # Get gene name for the use for the dictionary\n",
    "    gene = gene_df['gene'].unique()[0]\n",
    "    # Append results to dictionary\n",
    "    results[gene] = results_gene\n",
    "    \n",
    "## Print results\n",
    "print(\"Results of MutPred2 predictions for each gene:\")\n",
    "for gene in results:\n",
    "    print(f\"{gene}: {results[gene]}\")"
   ],
   "metadata": {
    "collapsed": false,
    "ExecuteTime": {
     "start_time": "2023-11-24T09:50:11.237294300Z"
    }
   },
   "id": "f799b7d2cd6a08da"
  },
  {
   "cell_type": "code",
   "execution_count": null,
   "outputs": [],
   "source": [
    "# present the confusion matrix for each gene\n",
    "import matplotlib.pyplot as plt\n",
    "\n",
    "for gene in results:\n",
    "    # Plot confusion matrix\n",
    "    plt.imshow(results[gene][\"confusion_matrix\"], cmap=plt.cm.Blues)\n",
    "    plt.xlabel(\"Predicted labels\")\n",
    "    plt.ylabel(\"True labels\")\n",
    "    plt.xticks([0, 1], [\"Benign\", \"Pathogenic\"])\n",
    "    plt.yticks([0, 1], [\"Benign\", \"Pathogenic\"])\n",
    "    plt.title(f\"Confusion matrix for {gene}, MutPred2 predictions\")\n",
    "    plt.style.use(\"seaborn-white\")\n",
    "    # Add text annotations\n",
    "    for i in range(2):\n",
    "        for j in range(2):\n",
    "            plt.text(j, i, results[gene][\"confusion_matrix\"][i, j], ha=\"center\", va=\"center\", color=\"black\", backgroundcolor=\"white\")\n",
    "    plt.colorbar()\n",
    "    plt.show()"
   ],
   "metadata": {
    "collapsed": false,
    "ExecuteTime": {
     "start_time": "2023-11-24T09:50:11.237294300Z"
    }
   },
   "id": "f079a669b25f338e"
  },
  {
   "cell_type": "code",
   "execution_count": null,
   "outputs": [],
   "source": [
    "# present the ROC curve for each gene\n",
    "for gene in results:\n",
    "    # Plot ROC curve\n",
    "    plt.plot(fpr, tpr, color=\"darkorange\", lw=2, label=f\"ROC curve (area = {results[gene]['roc_auc']:.2f})\")\n",
    "    plt.plot([0, 1], [0, 1], color=\"navy\", lw=2, linestyle=\"--\")\n",
    "    plt.xlim([0.0, 1.0])\n",
    "    plt.ylim([0.0, 1.05])\n",
    "    plt.xlabel(\"False Positive Rate\")\n",
    "    plt.ylabel(\"True Positive Rate\")\n",
    "    plt.title(f\"ROC curve for {gene}, MutPred2 predictions\")\n",
    "    plt.legend(loc=\"lower right\")\n",
    "    plt.show()"
   ],
   "metadata": {
    "collapsed": false,
    "ExecuteTime": {
     "end_time": "2023-11-24T09:50:11.237294300Z",
     "start_time": "2023-11-24T09:50:11.237294300Z"
    }
   },
   "id": "593e79ee559d6f62"
  }
 ],
 "metadata": {
  "kernelspec": {
   "display_name": "Python 3",
   "language": "python",
   "name": "python3"
  },
  "language_info": {
   "codemirror_mode": {
    "name": "ipython",
    "version": 2
   },
   "file_extension": ".py",
   "mimetype": "text/x-python",
   "name": "python",
   "nbconvert_exporter": "python",
   "pygments_lexer": "ipython2",
   "version": "2.7.6"
  }
 },
 "nbformat": 4,
 "nbformat_minor": 5
}
