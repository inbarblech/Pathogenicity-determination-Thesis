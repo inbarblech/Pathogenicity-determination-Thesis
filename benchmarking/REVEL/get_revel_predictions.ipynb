{
 "cells": [
  {
   "cell_type": "code",
   "execution_count": 52,
   "outputs": [],
   "source": [
    "import pandas as pd"
   ],
   "metadata": {
    "collapsed": false,
    "ExecuteTime": {
     "end_time": "2023-11-14T13:57:10.291469400Z",
     "start_time": "2023-11-14T13:57:10.260181700Z"
    }
   },
   "id": "cf2cecf95af5be29"
  },
  {
   "cell_type": "code",
   "execution_count": 53,
   "outputs": [
    {
     "data": {
      "text/plain": "     position pathogenicity predictions variant     gene\n0           6             0           0     G6S  SLC26A4\n1          21             0           1    M21V  SLC26A4\n2          51             0           0    A51T  SLC26A4\n3          53             0           1    C53G  SLC26A4\n4         163             0           1   V163I  SLC26A4\n...       ...           ...         ...     ...      ...\n4516     1045             1           1  G1045V   COL4A3\n4517      871             1           1   G871C   COL4A3\n4518      853             1           1   G853R   COL4A3\n4519       25             0           0    P25S   COL4A3\n4520     1209             0           0  M1209I   COL4A3\n\n[4521 rows x 5 columns]",
      "text/html": "<div>\n<style scoped>\n    .dataframe tbody tr th:only-of-type {\n        vertical-align: middle;\n    }\n\n    .dataframe tbody tr th {\n        vertical-align: top;\n    }\n\n    .dataframe thead th {\n        text-align: right;\n    }\n</style>\n<table border=\"1\" class=\"dataframe\">\n  <thead>\n    <tr style=\"text-align: right;\">\n      <th></th>\n      <th>position</th>\n      <th>pathogenicity</th>\n      <th>predictions</th>\n      <th>variant</th>\n      <th>gene</th>\n    </tr>\n  </thead>\n  <tbody>\n    <tr>\n      <th>0</th>\n      <td>6</td>\n      <td>0</td>\n      <td>0</td>\n      <td>G6S</td>\n      <td>SLC26A4</td>\n    </tr>\n    <tr>\n      <th>1</th>\n      <td>21</td>\n      <td>0</td>\n      <td>1</td>\n      <td>M21V</td>\n      <td>SLC26A4</td>\n    </tr>\n    <tr>\n      <th>2</th>\n      <td>51</td>\n      <td>0</td>\n      <td>0</td>\n      <td>A51T</td>\n      <td>SLC26A4</td>\n    </tr>\n    <tr>\n      <th>3</th>\n      <td>53</td>\n      <td>0</td>\n      <td>1</td>\n      <td>C53G</td>\n      <td>SLC26A4</td>\n    </tr>\n    <tr>\n      <th>4</th>\n      <td>163</td>\n      <td>0</td>\n      <td>1</td>\n      <td>V163I</td>\n      <td>SLC26A4</td>\n    </tr>\n    <tr>\n      <th>...</th>\n      <td>...</td>\n      <td>...</td>\n      <td>...</td>\n      <td>...</td>\n      <td>...</td>\n    </tr>\n    <tr>\n      <th>4516</th>\n      <td>1045</td>\n      <td>1</td>\n      <td>1</td>\n      <td>G1045V</td>\n      <td>COL4A3</td>\n    </tr>\n    <tr>\n      <th>4517</th>\n      <td>871</td>\n      <td>1</td>\n      <td>1</td>\n      <td>G871C</td>\n      <td>COL4A3</td>\n    </tr>\n    <tr>\n      <th>4518</th>\n      <td>853</td>\n      <td>1</td>\n      <td>1</td>\n      <td>G853R</td>\n      <td>COL4A3</td>\n    </tr>\n    <tr>\n      <th>4519</th>\n      <td>25</td>\n      <td>0</td>\n      <td>0</td>\n      <td>P25S</td>\n      <td>COL4A3</td>\n    </tr>\n    <tr>\n      <th>4520</th>\n      <td>1209</td>\n      <td>0</td>\n      <td>0</td>\n      <td>M1209I</td>\n      <td>COL4A3</td>\n    </tr>\n  </tbody>\n</table>\n<p>4521 rows × 5 columns</p>\n</div>"
     },
     "execution_count": 53,
     "metadata": {},
     "output_type": "execute_result"
    }
   ],
   "source": [
    "# Combine the prediction files into one file\n",
    "my_prediction = pd.read_csv(\"C:\\\\Users\\\\InbarBlech\\\\PycharmProjects\\\\Thesis\\\\predictions_vs_real\\\\all_inbar_predictions.csv\")\n",
    "my_prediction"
   ],
   "metadata": {
    "collapsed": false,
    "ExecuteTime": {
     "end_time": "2023-11-14T13:57:10.709025700Z",
     "start_time": "2023-11-14T13:57:10.646502800Z"
    }
   },
   "id": "62ba620050a56448"
  },
  {
   "cell_type": "code",
   "execution_count": 54,
   "outputs": [
    {
     "data": {
      "text/plain": "       chr  pos_hg19 pos_grch38 ref_na alt_na aa_wt aa_mut revel_score  \\\n0       12  48398104   48004321      T      G     M      L       0.562   \n1       12  48398104   48004321      T      C     M      V       0.585   \n2       12  48398104   48004321      T      A     M      L        0.57   \n3       12  48398103   48004320      A      T     M      K       0.676   \n4       12  48398103   48004320      A      G     M      T       0.691   \n...     ..       ...        ...    ...    ...   ...    ...         ...   \n112508   4   6304190    6302463      G      C     A      P       0.352   \n112509   4   6304190    6302463      G      T     A      S       0.224   \n112510   4   6304191    6302464      C      A     A      D       0.435   \n112511   4   6304191    6302464      C      G     A      G       0.159   \n112512   4   6304191    6302464      C      T     A      V       0.187   \n\n                                          transcript_id aa_pos    gene  \n0       ENST00000380518;ENST00000395281;ENST00000337299      1  COL2A1  \n1       ENST00000380518;ENST00000395281;ENST00000337299      1  COL2A1  \n2       ENST00000380518;ENST00000395281;ENST00000337299      1  COL2A1  \n3       ENST00000380518;ENST00000395281;ENST00000337299      1  COL2A1  \n4       ENST00000380518;ENST00000395281;ENST00000337299      1  COL2A1  \n...                                                 ...    ...     ...  \n112508  ENST00000503569;ENST00000226760;ENST00000540337    890    WFS1  \n112509  ENST00000503569;ENST00000226760;ENST00000540337    890    WFS1  \n112510  ENST00000503569;ENST00000226760;ENST00000540337    890    WFS1  \n112511  ENST00000503569;ENST00000226760;ENST00000540337    890    WFS1  \n112512  ENST00000503569;ENST00000226760;ENST00000540337    890    WFS1  \n\n[56259 rows x 11 columns]",
      "text/html": "<div>\n<style scoped>\n    .dataframe tbody tr th:only-of-type {\n        vertical-align: middle;\n    }\n\n    .dataframe tbody tr th {\n        vertical-align: top;\n    }\n\n    .dataframe thead th {\n        text-align: right;\n    }\n</style>\n<table border=\"1\" class=\"dataframe\">\n  <thead>\n    <tr style=\"text-align: right;\">\n      <th></th>\n      <th>chr</th>\n      <th>pos_hg19</th>\n      <th>pos_grch38</th>\n      <th>ref_na</th>\n      <th>alt_na</th>\n      <th>aa_wt</th>\n      <th>aa_mut</th>\n      <th>revel_score</th>\n      <th>transcript_id</th>\n      <th>aa_pos</th>\n      <th>gene</th>\n    </tr>\n  </thead>\n  <tbody>\n    <tr>\n      <th>0</th>\n      <td>12</td>\n      <td>48398104</td>\n      <td>48004321</td>\n      <td>T</td>\n      <td>G</td>\n      <td>M</td>\n      <td>L</td>\n      <td>0.562</td>\n      <td>ENST00000380518;ENST00000395281;ENST00000337299</td>\n      <td>1</td>\n      <td>COL2A1</td>\n    </tr>\n    <tr>\n      <th>1</th>\n      <td>12</td>\n      <td>48398104</td>\n      <td>48004321</td>\n      <td>T</td>\n      <td>C</td>\n      <td>M</td>\n      <td>V</td>\n      <td>0.585</td>\n      <td>ENST00000380518;ENST00000395281;ENST00000337299</td>\n      <td>1</td>\n      <td>COL2A1</td>\n    </tr>\n    <tr>\n      <th>2</th>\n      <td>12</td>\n      <td>48398104</td>\n      <td>48004321</td>\n      <td>T</td>\n      <td>A</td>\n      <td>M</td>\n      <td>L</td>\n      <td>0.57</td>\n      <td>ENST00000380518;ENST00000395281;ENST00000337299</td>\n      <td>1</td>\n      <td>COL2A1</td>\n    </tr>\n    <tr>\n      <th>3</th>\n      <td>12</td>\n      <td>48398103</td>\n      <td>48004320</td>\n      <td>A</td>\n      <td>T</td>\n      <td>M</td>\n      <td>K</td>\n      <td>0.676</td>\n      <td>ENST00000380518;ENST00000395281;ENST00000337299</td>\n      <td>1</td>\n      <td>COL2A1</td>\n    </tr>\n    <tr>\n      <th>4</th>\n      <td>12</td>\n      <td>48398103</td>\n      <td>48004320</td>\n      <td>A</td>\n      <td>G</td>\n      <td>M</td>\n      <td>T</td>\n      <td>0.691</td>\n      <td>ENST00000380518;ENST00000395281;ENST00000337299</td>\n      <td>1</td>\n      <td>COL2A1</td>\n    </tr>\n    <tr>\n      <th>...</th>\n      <td>...</td>\n      <td>...</td>\n      <td>...</td>\n      <td>...</td>\n      <td>...</td>\n      <td>...</td>\n      <td>...</td>\n      <td>...</td>\n      <td>...</td>\n      <td>...</td>\n      <td>...</td>\n    </tr>\n    <tr>\n      <th>112508</th>\n      <td>4</td>\n      <td>6304190</td>\n      <td>6302463</td>\n      <td>G</td>\n      <td>C</td>\n      <td>A</td>\n      <td>P</td>\n      <td>0.352</td>\n      <td>ENST00000503569;ENST00000226760;ENST00000540337</td>\n      <td>890</td>\n      <td>WFS1</td>\n    </tr>\n    <tr>\n      <th>112509</th>\n      <td>4</td>\n      <td>6304190</td>\n      <td>6302463</td>\n      <td>G</td>\n      <td>T</td>\n      <td>A</td>\n      <td>S</td>\n      <td>0.224</td>\n      <td>ENST00000503569;ENST00000226760;ENST00000540337</td>\n      <td>890</td>\n      <td>WFS1</td>\n    </tr>\n    <tr>\n      <th>112510</th>\n      <td>4</td>\n      <td>6304191</td>\n      <td>6302464</td>\n      <td>C</td>\n      <td>A</td>\n      <td>A</td>\n      <td>D</td>\n      <td>0.435</td>\n      <td>ENST00000503569;ENST00000226760;ENST00000540337</td>\n      <td>890</td>\n      <td>WFS1</td>\n    </tr>\n    <tr>\n      <th>112511</th>\n      <td>4</td>\n      <td>6304191</td>\n      <td>6302464</td>\n      <td>C</td>\n      <td>G</td>\n      <td>A</td>\n      <td>G</td>\n      <td>0.159</td>\n      <td>ENST00000503569;ENST00000226760;ENST00000540337</td>\n      <td>890</td>\n      <td>WFS1</td>\n    </tr>\n    <tr>\n      <th>112512</th>\n      <td>4</td>\n      <td>6304191</td>\n      <td>6302464</td>\n      <td>C</td>\n      <td>T</td>\n      <td>A</td>\n      <td>V</td>\n      <td>0.187</td>\n      <td>ENST00000503569;ENST00000226760;ENST00000540337</td>\n      <td>890</td>\n      <td>WFS1</td>\n    </tr>\n  </tbody>\n</table>\n<p>56259 rows × 11 columns</p>\n</div>"
     },
     "execution_count": 54,
     "metadata": {},
     "output_type": "execute_result"
    }
   ],
   "source": [
    "REVEL_predictions = pd.read_csv(\"C:\\\\Users\\\\InbarBlech\\\\PycharmProjects\\\\Thesis\\\\benchmarking\\\\REVEL\\\\all_REVEL_predictions.csv\")\n",
    "# Remove rows with gene null\n",
    "REVEL_predictions = REVEL_predictions[REVEL_predictions[\"gene\"].notnull()]\n",
    "REVEL_predictions"
   ],
   "metadata": {
    "collapsed": false,
    "ExecuteTime": {
     "end_time": "2023-11-14T13:57:11.763063500Z",
     "start_time": "2023-11-14T13:57:11.087664500Z"
    }
   },
   "id": "a0e2f72e1ea564c3"
  },
  {
   "cell_type": "code",
   "execution_count": 55,
   "outputs": [
    {
     "name": "stderr",
     "output_type": "stream",
     "text": [
      "C:\\Users\\InbarBlech\\AppData\\Local\\Temp\\ipykernel_21784\\1654159982.py:3: SettingWithCopyWarning: \n",
      "A value is trying to be set on a copy of a slice from a DataFrame.\n",
      "Try using .loc[row_indexer,col_indexer] = value instead\n",
      "\n",
      "See the caveats in the documentation: https://pandas.pydata.org/pandas-docs/stable/user_guide/indexing.html#returning-a-view-versus-a-copy\n",
      "  REVEL_predictions[\"aa_pos\"] = REVEL_predictions[\"aa_pos\"].astype(str)\n",
      "C:\\Users\\InbarBlech\\AppData\\Local\\Temp\\ipykernel_21784\\1654159982.py:5: SettingWithCopyWarning: \n",
      "A value is trying to be set on a copy of a slice from a DataFrame.\n",
      "Try using .loc[row_indexer,col_indexer] = value instead\n",
      "\n",
      "See the caveats in the documentation: https://pandas.pydata.org/pandas-docs/stable/user_guide/indexing.html#returning-a-view-versus-a-copy\n",
      "  REVEL_predictions['variant'] = REVEL_predictions['aa_wt'] + REVEL_predictions['aa_pos'] + REVEL_predictions['aa_mut']\n"
     ]
    },
    {
     "data": {
      "text/plain": "       revel_score    gene variant\n0            0.562  COL2A1     M1L\n1            0.585  COL2A1     M1V\n2             0.57  COL2A1     M1L\n3            0.676  COL2A1     M1K\n4            0.691  COL2A1     M1T\n...            ...     ...     ...\n112508       0.352    WFS1   A890P\n112509       0.224    WFS1   A890S\n112510       0.435    WFS1   A890D\n112511       0.159    WFS1   A890G\n112512       0.187    WFS1   A890V\n\n[56259 rows x 3 columns]",
      "text/html": "<div>\n<style scoped>\n    .dataframe tbody tr th:only-of-type {\n        vertical-align: middle;\n    }\n\n    .dataframe tbody tr th {\n        vertical-align: top;\n    }\n\n    .dataframe thead th {\n        text-align: right;\n    }\n</style>\n<table border=\"1\" class=\"dataframe\">\n  <thead>\n    <tr style=\"text-align: right;\">\n      <th></th>\n      <th>revel_score</th>\n      <th>gene</th>\n      <th>variant</th>\n    </tr>\n  </thead>\n  <tbody>\n    <tr>\n      <th>0</th>\n      <td>0.562</td>\n      <td>COL2A1</td>\n      <td>M1L</td>\n    </tr>\n    <tr>\n      <th>1</th>\n      <td>0.585</td>\n      <td>COL2A1</td>\n      <td>M1V</td>\n    </tr>\n    <tr>\n      <th>2</th>\n      <td>0.57</td>\n      <td>COL2A1</td>\n      <td>M1L</td>\n    </tr>\n    <tr>\n      <th>3</th>\n      <td>0.676</td>\n      <td>COL2A1</td>\n      <td>M1K</td>\n    </tr>\n    <tr>\n      <th>4</th>\n      <td>0.691</td>\n      <td>COL2A1</td>\n      <td>M1T</td>\n    </tr>\n    <tr>\n      <th>...</th>\n      <td>...</td>\n      <td>...</td>\n      <td>...</td>\n    </tr>\n    <tr>\n      <th>112508</th>\n      <td>0.352</td>\n      <td>WFS1</td>\n      <td>A890P</td>\n    </tr>\n    <tr>\n      <th>112509</th>\n      <td>0.224</td>\n      <td>WFS1</td>\n      <td>A890S</td>\n    </tr>\n    <tr>\n      <th>112510</th>\n      <td>0.435</td>\n      <td>WFS1</td>\n      <td>A890D</td>\n    </tr>\n    <tr>\n      <th>112511</th>\n      <td>0.159</td>\n      <td>WFS1</td>\n      <td>A890G</td>\n    </tr>\n    <tr>\n      <th>112512</th>\n      <td>0.187</td>\n      <td>WFS1</td>\n      <td>A890V</td>\n    </tr>\n  </tbody>\n</table>\n<p>56259 rows × 3 columns</p>\n</div>"
     },
     "execution_count": 55,
     "metadata": {},
     "output_type": "execute_result"
    }
   ],
   "source": [
    "# Only leave \"wt_aa\", \"position\" \"mt_aa\" and \"EVE_scores_ASM\" columns\n",
    "REVEL_predictions = REVEL_predictions[['aa_wt', 'aa_mut', 'aa_pos', 'revel_score', 'gene']]\n",
    "REVEL_predictions[\"aa_pos\"] = REVEL_predictions[\"aa_pos\"].astype(str)\n",
    "# create new row \"variant\"\n",
    "REVEL_predictions['variant'] = REVEL_predictions['aa_wt'] + REVEL_predictions['aa_pos'] + REVEL_predictions['aa_mut']\n",
    "REVEL_predictions = REVEL_predictions.drop(columns=[\"aa_wt\", \"aa_mut\", \"aa_pos\"])\n",
    "REVEL_predictions"
   ],
   "metadata": {
    "collapsed": false,
    "ExecuteTime": {
     "end_time": "2023-11-14T13:57:11.825581800Z",
     "start_time": "2023-11-14T13:57:11.700118600Z"
    }
   },
   "id": "549962f614edb1c1"
  },
  {
   "cell_type": "code",
   "execution_count": 56,
   "outputs": [
    {
     "name": "stdout",
     "output_type": "stream",
     "text": [
      "length of revel including VUS 56259\n"
     ]
    }
   ],
   "source": [
    "print(f\"length of revel including VUS {len(REVEL_predictions)}\")"
   ],
   "metadata": {
    "collapsed": false,
    "ExecuteTime": {
     "end_time": "2023-11-14T13:57:12.296704Z",
     "start_time": "2023-11-14T13:57:12.249798500Z"
    }
   },
   "id": "e7035f5e44d80982"
  },
  {
   "cell_type": "code",
   "execution_count": 57,
   "outputs": [
    {
     "data": {
      "text/plain": "        revel_score    gene variant\n3             0.676  COL2A1     M1K\n4             0.691  COL2A1     M1T\n5             0.699  COL2A1     M1R\n9             0.247  COL2A1     I2L\n10            0.184  COL2A1     I2V\n...             ...     ...     ...\n112505        0.647    WFS1   A889G\n112507        0.197    WFS1   A890T\n112509        0.224    WFS1   A890S\n112511        0.159    WFS1   A890G\n112512        0.187    WFS1   A890V\n\n[36574 rows x 3 columns]",
      "text/html": "<div>\n<style scoped>\n    .dataframe tbody tr th:only-of-type {\n        vertical-align: middle;\n    }\n\n    .dataframe tbody tr th {\n        vertical-align: top;\n    }\n\n    .dataframe thead th {\n        text-align: right;\n    }\n</style>\n<table border=\"1\" class=\"dataframe\">\n  <thead>\n    <tr style=\"text-align: right;\">\n      <th></th>\n      <th>revel_score</th>\n      <th>gene</th>\n      <th>variant</th>\n    </tr>\n  </thead>\n  <tbody>\n    <tr>\n      <th>3</th>\n      <td>0.676</td>\n      <td>COL2A1</td>\n      <td>M1K</td>\n    </tr>\n    <tr>\n      <th>4</th>\n      <td>0.691</td>\n      <td>COL2A1</td>\n      <td>M1T</td>\n    </tr>\n    <tr>\n      <th>5</th>\n      <td>0.699</td>\n      <td>COL2A1</td>\n      <td>M1R</td>\n    </tr>\n    <tr>\n      <th>9</th>\n      <td>0.247</td>\n      <td>COL2A1</td>\n      <td>I2L</td>\n    </tr>\n    <tr>\n      <th>10</th>\n      <td>0.184</td>\n      <td>COL2A1</td>\n      <td>I2V</td>\n    </tr>\n    <tr>\n      <th>...</th>\n      <td>...</td>\n      <td>...</td>\n      <td>...</td>\n    </tr>\n    <tr>\n      <th>112505</th>\n      <td>0.647</td>\n      <td>WFS1</td>\n      <td>A889G</td>\n    </tr>\n    <tr>\n      <th>112507</th>\n      <td>0.197</td>\n      <td>WFS1</td>\n      <td>A890T</td>\n    </tr>\n    <tr>\n      <th>112509</th>\n      <td>0.224</td>\n      <td>WFS1</td>\n      <td>A890S</td>\n    </tr>\n    <tr>\n      <th>112511</th>\n      <td>0.159</td>\n      <td>WFS1</td>\n      <td>A890G</td>\n    </tr>\n    <tr>\n      <th>112512</th>\n      <td>0.187</td>\n      <td>WFS1</td>\n      <td>A890V</td>\n    </tr>\n  </tbody>\n</table>\n<p>36574 rows × 3 columns</p>\n</div>"
     },
     "execution_count": 57,
     "metadata": {},
     "output_type": "execute_result"
    }
   ],
   "source": [
    "# Remove VUS variants\n",
    "\n",
    "REVEL_predictions[\"revel_score\"] = pd.to_numeric(REVEL_predictions['revel_score'], errors='coerce')\n",
    "# Remove rows with revel score: 0.29 < revel score < 0.644\n",
    "REVEL_VUS = REVEL_predictions[(REVEL_predictions[\"revel_score\"] < 0.644) & (REVEL_predictions[\"revel_score\"] >= 0.29)]\n",
    "REVEL_predictions = REVEL_predictions[(REVEL_predictions[\"revel_score\"] >= 0.644) | (REVEL_predictions[\"revel_score\"] <= 0.29)]\n",
    "REVEL_predictions"
   ],
   "metadata": {
    "collapsed": false,
    "ExecuteTime": {
     "end_time": "2023-11-14T13:57:12.947050600Z",
     "start_time": "2023-11-14T13:57:12.884517800Z"
    }
   },
   "id": "67966df88f2a0c48"
  },
  {
   "cell_type": "code",
   "execution_count": 58,
   "outputs": [
    {
     "name": "stderr",
     "output_type": "stream",
     "text": [
      "C:\\Users\\InbarBlech\\AppData\\Local\\Temp\\ipykernel_21784\\152020671.py:2: SettingWithCopyWarning: \n",
      "A value is trying to be set on a copy of a slice from a DataFrame.\n",
      "Try using .loc[row_indexer,col_indexer] = value instead\n",
      "\n",
      "See the caveats in the documentation: https://pandas.pydata.org/pandas-docs/stable/user_guide/indexing.html#returning-a-view-versus-a-copy\n",
      "  REVEL_predictions[\"REVEL_pathogenicity\"] = REVEL_predictions[\"revel_score\"].apply(lambda x: 1 if x >= 0.644 else 0)\n"
     ]
    },
    {
     "data": {
      "text/plain": "        revel_score    gene variant  REVEL_pathogenicity\n3             0.676  COL2A1     M1K                    1\n4             0.691  COL2A1     M1T                    1\n5             0.699  COL2A1     M1R                    1\n9             0.247  COL2A1     I2L                    0\n10            0.184  COL2A1     I2V                    0\n...             ...     ...     ...                  ...\n112505        0.647    WFS1   A889G                    1\n112507        0.197    WFS1   A890T                    0\n112509        0.224    WFS1   A890S                    0\n112511        0.159    WFS1   A890G                    0\n112512        0.187    WFS1   A890V                    0\n\n[36574 rows x 4 columns]",
      "text/html": "<div>\n<style scoped>\n    .dataframe tbody tr th:only-of-type {\n        vertical-align: middle;\n    }\n\n    .dataframe tbody tr th {\n        vertical-align: top;\n    }\n\n    .dataframe thead th {\n        text-align: right;\n    }\n</style>\n<table border=\"1\" class=\"dataframe\">\n  <thead>\n    <tr style=\"text-align: right;\">\n      <th></th>\n      <th>revel_score</th>\n      <th>gene</th>\n      <th>variant</th>\n      <th>REVEL_pathogenicity</th>\n    </tr>\n  </thead>\n  <tbody>\n    <tr>\n      <th>3</th>\n      <td>0.676</td>\n      <td>COL2A1</td>\n      <td>M1K</td>\n      <td>1</td>\n    </tr>\n    <tr>\n      <th>4</th>\n      <td>0.691</td>\n      <td>COL2A1</td>\n      <td>M1T</td>\n      <td>1</td>\n    </tr>\n    <tr>\n      <th>5</th>\n      <td>0.699</td>\n      <td>COL2A1</td>\n      <td>M1R</td>\n      <td>1</td>\n    </tr>\n    <tr>\n      <th>9</th>\n      <td>0.247</td>\n      <td>COL2A1</td>\n      <td>I2L</td>\n      <td>0</td>\n    </tr>\n    <tr>\n      <th>10</th>\n      <td>0.184</td>\n      <td>COL2A1</td>\n      <td>I2V</td>\n      <td>0</td>\n    </tr>\n    <tr>\n      <th>...</th>\n      <td>...</td>\n      <td>...</td>\n      <td>...</td>\n      <td>...</td>\n    </tr>\n    <tr>\n      <th>112505</th>\n      <td>0.647</td>\n      <td>WFS1</td>\n      <td>A889G</td>\n      <td>1</td>\n    </tr>\n    <tr>\n      <th>112507</th>\n      <td>0.197</td>\n      <td>WFS1</td>\n      <td>A890T</td>\n      <td>0</td>\n    </tr>\n    <tr>\n      <th>112509</th>\n      <td>0.224</td>\n      <td>WFS1</td>\n      <td>A890S</td>\n      <td>0</td>\n    </tr>\n    <tr>\n      <th>112511</th>\n      <td>0.159</td>\n      <td>WFS1</td>\n      <td>A890G</td>\n      <td>0</td>\n    </tr>\n    <tr>\n      <th>112512</th>\n      <td>0.187</td>\n      <td>WFS1</td>\n      <td>A890V</td>\n      <td>0</td>\n    </tr>\n  </tbody>\n</table>\n<p>36574 rows × 4 columns</p>\n</div>"
     },
     "execution_count": 58,
     "metadata": {},
     "output_type": "execute_result"
    }
   ],
   "source": [
    "# Add benign or pathogenic label to each variant, according to the VEST4 score\n",
    "REVEL_predictions[\"REVEL_pathogenicity\"] = REVEL_predictions[\"revel_score\"].apply(lambda x: 1 if x >= 0.644 else 0)\n",
    "REVEL_predictions"
   ],
   "metadata": {
    "collapsed": false,
    "ExecuteTime": {
     "end_time": "2023-11-14T13:57:14.061034Z",
     "start_time": "2023-11-14T13:57:13.934014200Z"
    }
   },
   "id": "9124839f1149711c"
  },
  {
   "cell_type": "code",
   "execution_count": 59,
   "outputs": [],
   "source": [
    "# Save REVEL_predictions to csv\n",
    "REVEL_predictions.to_csv(\"C:\\\\Users\\\\InbarBlech\\\\PycharmProjects\\\\Thesis\\\\benchmarking\\\\REVEL\\\\REVEL_predictions_no_VUS.csv\")"
   ],
   "metadata": {
    "collapsed": false,
    "ExecuteTime": {
     "end_time": "2023-11-14T13:57:15.276476Z",
     "start_time": "2023-11-14T13:57:15.065581100Z"
    }
   },
   "id": "55bf2d2c61cadd79"
  },
  {
   "cell_type": "code",
   "execution_count": 60,
   "outputs": [
    {
     "name": "stdout",
     "output_type": "stream",
     "text": [
      "length of revel without VUS 36574\n",
      "length of revel VUS 19742\n"
     ]
    }
   ],
   "source": [
    "print(f\"length of revel without VUS {len(REVEL_predictions)}\")\n",
    "print(f\"length of revel VUS {len(REVEL_VUS)}\")"
   ],
   "metadata": {
    "collapsed": false,
    "ExecuteTime": {
     "end_time": "2023-11-14T13:57:16.161665600Z",
     "start_time": "2023-11-14T13:57:16.130006500Z"
    }
   },
   "id": "aec59bb6fdcab653"
  },
  {
   "cell_type": "code",
   "execution_count": 61,
   "outputs": [
    {
     "data": {
      "text/plain": "     position pathogenicity predictions variant    gene  revel_score  \\\n0           7             0           1     P7Q    WFS1        0.178   \n1          16             0           0    P16L    WFS1        0.142   \n2          57             0           0    A57T    WFS1        0.164   \n3          66             0           0    Q66H    WFS1        0.243   \n4          66             0           0    Q66H    WFS1        0.243   \n...       ...           ...         ...     ...     ...          ...   \n3011      853             1           1   G853R  COL4A3        0.988   \n3012       25             0           0    P25S  COL4A3        0.172   \n3013     1209             0           0  M1209I  COL4A3        0.187   \n3014     1209             0           0  M1209I  COL4A3        0.187   \n3015     1209             0           0  M1209I  COL4A3        0.187   \n\n      REVEL_pathogenicity  \n0                       0  \n1                       0  \n2                       0  \n3                       0  \n4                       0  \n...                   ...  \n3011                    1  \n3012                    0  \n3013                    0  \n3014                    0  \n3015                    0  \n\n[3016 rows x 7 columns]",
      "text/html": "<div>\n<style scoped>\n    .dataframe tbody tr th:only-of-type {\n        vertical-align: middle;\n    }\n\n    .dataframe tbody tr th {\n        vertical-align: top;\n    }\n\n    .dataframe thead th {\n        text-align: right;\n    }\n</style>\n<table border=\"1\" class=\"dataframe\">\n  <thead>\n    <tr style=\"text-align: right;\">\n      <th></th>\n      <th>position</th>\n      <th>pathogenicity</th>\n      <th>predictions</th>\n      <th>variant</th>\n      <th>gene</th>\n      <th>revel_score</th>\n      <th>REVEL_pathogenicity</th>\n    </tr>\n  </thead>\n  <tbody>\n    <tr>\n      <th>0</th>\n      <td>7</td>\n      <td>0</td>\n      <td>1</td>\n      <td>P7Q</td>\n      <td>WFS1</td>\n      <td>0.178</td>\n      <td>0</td>\n    </tr>\n    <tr>\n      <th>1</th>\n      <td>16</td>\n      <td>0</td>\n      <td>0</td>\n      <td>P16L</td>\n      <td>WFS1</td>\n      <td>0.142</td>\n      <td>0</td>\n    </tr>\n    <tr>\n      <th>2</th>\n      <td>57</td>\n      <td>0</td>\n      <td>0</td>\n      <td>A57T</td>\n      <td>WFS1</td>\n      <td>0.164</td>\n      <td>0</td>\n    </tr>\n    <tr>\n      <th>3</th>\n      <td>66</td>\n      <td>0</td>\n      <td>0</td>\n      <td>Q66H</td>\n      <td>WFS1</td>\n      <td>0.243</td>\n      <td>0</td>\n    </tr>\n    <tr>\n      <th>4</th>\n      <td>66</td>\n      <td>0</td>\n      <td>0</td>\n      <td>Q66H</td>\n      <td>WFS1</td>\n      <td>0.243</td>\n      <td>0</td>\n    </tr>\n    <tr>\n      <th>...</th>\n      <td>...</td>\n      <td>...</td>\n      <td>...</td>\n      <td>...</td>\n      <td>...</td>\n      <td>...</td>\n      <td>...</td>\n    </tr>\n    <tr>\n      <th>3011</th>\n      <td>853</td>\n      <td>1</td>\n      <td>1</td>\n      <td>G853R</td>\n      <td>COL4A3</td>\n      <td>0.988</td>\n      <td>1</td>\n    </tr>\n    <tr>\n      <th>3012</th>\n      <td>25</td>\n      <td>0</td>\n      <td>0</td>\n      <td>P25S</td>\n      <td>COL4A3</td>\n      <td>0.172</td>\n      <td>0</td>\n    </tr>\n    <tr>\n      <th>3013</th>\n      <td>1209</td>\n      <td>0</td>\n      <td>0</td>\n      <td>M1209I</td>\n      <td>COL4A3</td>\n      <td>0.187</td>\n      <td>0</td>\n    </tr>\n    <tr>\n      <th>3014</th>\n      <td>1209</td>\n      <td>0</td>\n      <td>0</td>\n      <td>M1209I</td>\n      <td>COL4A3</td>\n      <td>0.187</td>\n      <td>0</td>\n    </tr>\n    <tr>\n      <th>3015</th>\n      <td>1209</td>\n      <td>0</td>\n      <td>0</td>\n      <td>M1209I</td>\n      <td>COL4A3</td>\n      <td>0.187</td>\n      <td>0</td>\n    </tr>\n  </tbody>\n</table>\n<p>3016 rows × 7 columns</p>\n</div>"
     },
     "execution_count": 61,
     "metadata": {},
     "output_type": "execute_result"
    }
   ],
   "source": [
    "# Merge the two files\n",
    "merged = pd.merge(my_prediction, REVEL_predictions, on=[\"gene\", \"variant\"])\n",
    "merged"
   ],
   "metadata": {
    "collapsed": false,
    "ExecuteTime": {
     "end_time": "2023-11-14T13:57:16.966984800Z",
     "start_time": "2023-11-14T13:57:16.841620Z"
    }
   },
   "id": "12b99d2bc029967a"
  },
  {
   "cell_type": "code",
   "execution_count": 62,
   "outputs": [],
   "source": [
    "# To make sure that all tools will be tested on the same variants, save the merged with REVEL file and do so for all other tools. Then merge all the files together.\n",
    "merged_only_REVEL_columns = merged[['gene', 'variant', 'revel_score', 'REVEL_pathogenicity']]\n",
    "merged_only_REVEL_columns.to_csv(\"C:\\\\Users\\\\InbarBlech\\\\PycharmProjects\\\\Thesis\\\\benchmarking\\\\REVEL_on_dvd_data_predictions.csv\")"
   ],
   "metadata": {
    "collapsed": false,
    "ExecuteTime": {
     "end_time": "2023-11-14T13:57:18.361924800Z",
     "start_time": "2023-11-14T13:57:18.314636700Z"
    }
   },
   "id": "426678056b327e08"
  },
  {
   "cell_type": "code",
   "execution_count": 63,
   "outputs": [],
   "source": [
    "####################################################################################################################################################################"
   ],
   "metadata": {
    "collapsed": false,
    "ExecuteTime": {
     "end_time": "2023-11-14T13:57:19.589130500Z",
     "start_time": "2023-11-14T13:57:19.573494Z"
    }
   },
   "id": "ef5069cb2a7928eb"
  },
  {
   "cell_type": "code",
   "execution_count": 64,
   "outputs": [
    {
     "name": "stdout",
     "output_type": "stream",
     "text": [
      "length of merged 3016\n",
      "length of my_prediction 4521\n",
      "length of REVEL 36574\n"
     ]
    }
   ],
   "source": [
    "print(f\"length of merged {len(merged)}\")\n",
    "print(f\"length of my_prediction {len(my_prediction)}\")\n",
    "print(f\"length of REVEL {len(REVEL_predictions)}\")"
   ],
   "metadata": {
    "collapsed": false,
    "ExecuteTime": {
     "end_time": "2023-11-14T13:57:20.295074Z",
     "start_time": "2023-11-14T13:57:20.200867600Z"
    }
   },
   "id": "dd857b9172798518"
  },
  {
   "cell_type": "code",
   "execution_count": null,
   "outputs": [],
   "source": [
    "############################################################################################################\n",
    "# All next rows were used to calculate the MCC, before realised I must apply first the threshold and remove the VUS variants. Now all these rows aren't in use, since I'm doing the calculations after removing the VUS variants and with all tools together.#############################################################################################################"
   ],
   "metadata": {
    "collapsed": false
   },
   "id": "1a30e0709272d708"
  },
  {
   "cell_type": "code",
   "execution_count": null,
   "outputs": [],
   "source": [
    "## Calculate the MCC for the mutpred predictions, according to the real pathogenicity (0 or 1)\n",
    "from sklearn.metrics import matthews_corrcoef\n",
    "\n",
    "# separate the merged dataframe according to gene\n",
    "genes = merged[\"gene\"].unique()\n",
    "print(f\"Number of genes: {len(genes)}\")\n",
    "# Calculate MCC for each gene specific predictor for EVE\n",
    "\n",
    "### REVEL ####\n",
    "\n",
    "# Build dictionary with gene names as keys.\n",
    "mccs = {gene: 0 for gene in genes}\n",
    "\n",
    "for gene in genes:\n",
    "    gene_df = merged[merged[\"gene\"] == gene]\n",
    "    gene_df['revel_score'] = gene_df['revel_score'].astype(float)\n",
    "    # Assuming you have a DataFrame called 'data' with 'prediction' and 'MutPred_score' columns\n",
    "    # Create binary predictions based on the 0.5 threshold\n",
    "    gene_df.loc[:, 'binary_prediction_REVEL'] = (gene_df['revel_score'] > 0.644).astype(int)\n",
    "    \n",
    "    gene_df['predictions'] = gene_df['predictions'].astype(int)\n",
    "    \n",
    "    # Calculate MCC\n",
    "    mcc = matthews_corrcoef(gene_df['predictions'], gene_df['binary_prediction_REVEL'])\n",
    "    \n",
    "    # Get gene name for the use for the dictionary\n",
    "    gene = gene_df['gene'].unique()[0]\n",
    "    \n",
    "    # Append mcc to dictionary\n",
    "    mccs[gene] = mcc\n",
    "\n",
    "print(\"MCCs of REVEL predictions for each gene:\")\n",
    "for gene in mccs:\n",
    "    print(f\"{gene}: {mccs[gene]}\")"
   ],
   "metadata": {
    "collapsed": false
   },
   "id": "df090dadf6557863"
  },
  {
   "cell_type": "code",
   "execution_count": null,
   "outputs": [],
   "source": [
    "\n",
    "from sklearn.metrics import roc_auc_score, roc_curve, auc, precision_recall_curve, average_precision_score, f1_score, \\\n",
    "    log_loss, confusion_matrix\n",
    "\n",
    "# store the results in a dictionary\n",
    "results = {gene: 0 for gene in genes}\n",
    "\n",
    "for gene in genes:\n",
    "    gene_df = merged[merged[\"gene\"] == gene]\n",
    "    gene_df['revel_score'] = gene_df['revel_score'].astype(float)\n",
    "    y_true = gene_df[\"pathogenicity\"].astype(int)\n",
    "    predicted_probabilities = gene_df[\"revel_score\"]\n",
    "    gene_df.loc[:, 'binary_prediction_REVEL'] = (gene_df['revel_score'] > 0.644).astype(int)\n",
    "    predicted_labels = gene_df[\"binary_prediction_REVEL\"]\n",
    "\n",
    "    results_gene = {}\n",
    "    # Calculate AUC-ROC\n",
    "    roc_auc = roc_auc_score(y_true, predicted_probabilities)\n",
    "    # append to dictionary\n",
    "    results_gene[\"roc_auc\"] = roc_auc\n",
    "\n",
    "    # Calculate ROC curve\n",
    "    fpr, tpr, thresholds = roc_curve(y_true, predicted_probabilities)\n",
    "    roc_auc = auc(fpr, tpr)\n",
    "    # append to dictionary\n",
    "    results_gene[\"auc\"] = roc_auc\n",
    "\n",
    "    # Calculate AUC-PR\n",
    "    precision, recall, _ = precision_recall_curve(y_true, predicted_probabilities)\n",
    "    pr_auc = auc(recall, precision)\n",
    "    # append to dictionary\n",
    "    results_gene[\"pr_auc\"] = pr_auc\n",
    "\n",
    "    # Calculate F1 Score\n",
    "    f1 = f1_score(y_true, predicted_labels)\n",
    "    # append to dictionary\n",
    "    results_gene[\"f1\"] = f1\n",
    "\n",
    "    # Calculate Log Loss\n",
    "    logloss = log_loss(y_true, predicted_probabilities)\n",
    "    # append to dictionary\n",
    "    results_gene[\"logloss\"] = logloss\n",
    "\n",
    "    # Calculate confusion matrix\n",
    "    conf_matrix = confusion_matrix(y_true, predicted_labels)\n",
    "    # append to dictionary\n",
    "    results_gene[\"confusion_matrix\"] = conf_matrix\n",
    "\n",
    "    # Get gene name for the use for the dictionary\n",
    "    gene = gene_df['gene'].unique()[0]\n",
    "    # Append results to dictionary\n",
    "    results[gene] = results_gene\n",
    "\n",
    "## Print results\n",
    "print(\"Results of REVEL predictions for each gene:\")\n",
    "for gene in results:\n",
    "    print(f\"{gene}: {results[gene]}\")"
   ],
   "metadata": {
    "collapsed": false
   },
   "id": "70a0e544deace7e0"
  },
  {
   "cell_type": "code",
   "execution_count": null,
   "outputs": [],
   "source": [
    "# present the confusion matrix for each gene\n",
    "import matplotlib.pyplot as plt\n",
    "\n",
    "for gene in results:\n",
    "    # Plot confusion matrix\n",
    "    plt.imshow(results[gene][\"confusion_matrix\"], cmap=plt.cm.Blues)\n",
    "    plt.xlabel(\"Predicted labels\")\n",
    "    plt.ylabel(\"True labels\")\n",
    "    plt.xticks([0, 1], [\"Benign\", \"Pathogenic\"])\n",
    "    plt.yticks([0, 1], [\"Benign\", \"Pathogenic\"])\n",
    "    plt.title(f\"Confusion matrix for {gene}, REVEL predictions\")\n",
    "    plt.style.use(\"seaborn-white\")\n",
    "    # Add text annotations\n",
    "    for i in range(2):\n",
    "        for j in range(2):\n",
    "            plt.text(j, i, results[gene][\"confusion_matrix\"][i, j], ha=\"center\", va=\"center\", color=\"black\",\n",
    "                     backgroundcolor=\"white\")\n",
    "    plt.colorbar()\n",
    "    plt.show()"
   ],
   "metadata": {
    "collapsed": false
   },
   "id": "17e816710c0a85e9"
  },
  {
   "cell_type": "code",
   "execution_count": null,
   "outputs": [],
   "source": [
    "# present the ROC curve for each gene\n",
    "for gene in results:\n",
    "    # Plot ROC curve\n",
    "    plt.plot(fpr, tpr, color=\"darkorange\", lw=2, label=f\"ROC curve (area = {results[gene]['roc_auc']:.2f})\")\n",
    "    plt.plot([0, 1], [0, 1], color=\"navy\", lw=2, linestyle=\"--\")\n",
    "    plt.xlim([0.0, 1.0])\n",
    "    plt.ylim([0.0, 1.05])\n",
    "    plt.xlabel(\"False Positive Rate\")\n",
    "    plt.ylabel(\"True Positive Rate\")\n",
    "    plt.title(f\"ROC curve for {gene}, REVEL predictions\")\n",
    "    plt.legend(loc=\"lower right\")\n",
    "    plt.show()"
   ],
   "metadata": {
    "collapsed": false
   },
   "id": "2e7bbefd1917d763"
  }
 ],
 "metadata": {
  "kernelspec": {
   "display_name": "Python 3",
   "language": "python",
   "name": "python3"
  },
  "language_info": {
   "codemirror_mode": {
    "name": "ipython",
    "version": 2
   },
   "file_extension": ".py",
   "mimetype": "text/x-python",
   "name": "python",
   "nbconvert_exporter": "python",
   "pygments_lexer": "ipython2",
   "version": "2.7.6"
  }
 },
 "nbformat": 4,
 "nbformat_minor": 5
}
