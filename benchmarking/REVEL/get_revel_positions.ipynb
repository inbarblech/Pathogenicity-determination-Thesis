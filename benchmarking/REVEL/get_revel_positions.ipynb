{
 "cells": [
  {
   "cell_type": "code",
   "execution_count": 14,
   "id": "initial_id",
   "metadata": {
    "collapsed": true,
    "ExecuteTime": {
     "end_time": "2023-11-14T11:25:55.643229100Z",
     "start_time": "2023-11-14T11:25:55.543094Z"
    }
   },
   "outputs": [
    {
     "data": {
      "text/plain": "   chr  pos_hg19  pos_grch38 ref_na alt_na aa_wt aa_mut  revel_score  \\\n0   12  48398104    48004321      T      G     M      L        0.562   \n1   12  48398104    48004321      T      C     M      V        0.585   \n2   12  48398104    48004321      T      A     M      L        0.570   \n3   12  48398103    48004320      A      T     M      K        0.676   \n4   12  48398103    48004320      A      G     M      T        0.691   \n\n                                     transcript_id  aa_pos    gene  \n0  ENST00000380518;ENST00000395281;ENST00000337299       1  COL2A1  \n1  ENST00000380518;ENST00000395281;ENST00000337299       1  COL2A1  \n2  ENST00000380518;ENST00000395281;ENST00000337299       1  COL2A1  \n3  ENST00000380518;ENST00000395281;ENST00000337299       1  COL2A1  \n4  ENST00000380518;ENST00000395281;ENST00000337299       1  COL2A1  ",
      "text/html": "<div>\n<style scoped>\n    .dataframe tbody tr th:only-of-type {\n        vertical-align: middle;\n    }\n\n    .dataframe tbody tr th {\n        vertical-align: top;\n    }\n\n    .dataframe thead th {\n        text-align: right;\n    }\n</style>\n<table border=\"1\" class=\"dataframe\">\n  <thead>\n    <tr style=\"text-align: right;\">\n      <th></th>\n      <th>chr</th>\n      <th>pos_hg19</th>\n      <th>pos_grch38</th>\n      <th>ref_na</th>\n      <th>alt_na</th>\n      <th>aa_wt</th>\n      <th>aa_mut</th>\n      <th>revel_score</th>\n      <th>transcript_id</th>\n      <th>aa_pos</th>\n      <th>gene</th>\n    </tr>\n  </thead>\n  <tbody>\n    <tr>\n      <th>0</th>\n      <td>12</td>\n      <td>48398104</td>\n      <td>48004321</td>\n      <td>T</td>\n      <td>G</td>\n      <td>M</td>\n      <td>L</td>\n      <td>0.562</td>\n      <td>ENST00000380518;ENST00000395281;ENST00000337299</td>\n      <td>1</td>\n      <td>COL2A1</td>\n    </tr>\n    <tr>\n      <th>1</th>\n      <td>12</td>\n      <td>48398104</td>\n      <td>48004321</td>\n      <td>T</td>\n      <td>C</td>\n      <td>M</td>\n      <td>V</td>\n      <td>0.585</td>\n      <td>ENST00000380518;ENST00000395281;ENST00000337299</td>\n      <td>1</td>\n      <td>COL2A1</td>\n    </tr>\n    <tr>\n      <th>2</th>\n      <td>12</td>\n      <td>48398104</td>\n      <td>48004321</td>\n      <td>T</td>\n      <td>A</td>\n      <td>M</td>\n      <td>L</td>\n      <td>0.570</td>\n      <td>ENST00000380518;ENST00000395281;ENST00000337299</td>\n      <td>1</td>\n      <td>COL2A1</td>\n    </tr>\n    <tr>\n      <th>3</th>\n      <td>12</td>\n      <td>48398103</td>\n      <td>48004320</td>\n      <td>A</td>\n      <td>T</td>\n      <td>M</td>\n      <td>K</td>\n      <td>0.676</td>\n      <td>ENST00000380518;ENST00000395281;ENST00000337299</td>\n      <td>1</td>\n      <td>COL2A1</td>\n    </tr>\n    <tr>\n      <th>4</th>\n      <td>12</td>\n      <td>48398103</td>\n      <td>48004320</td>\n      <td>A</td>\n      <td>G</td>\n      <td>M</td>\n      <td>T</td>\n      <td>0.691</td>\n      <td>ENST00000380518;ENST00000395281;ENST00000337299</td>\n      <td>1</td>\n      <td>COL2A1</td>\n    </tr>\n  </tbody>\n</table>\n</div>"
     },
     "execution_count": 14,
     "metadata": {},
     "output_type": "execute_result"
    }
   ],
   "source": [
    "import pandas as pd\n",
    "\n",
    "reverse = False\n",
    "gene = 'COL4A3'\n",
    "if reverse:\n",
    "    revel_data = pd.read_csv(f\"{gene}_reverse.csv\", header=None)\n",
    "else:\n",
    "    revel_data = pd.read_csv(f\"{gene}.csv\", header=None)\n",
    "revel_data.head()"
   ]
  },
  {
   "cell_type": "code",
   "execution_count": 15,
   "outputs": [
    {
     "data": {
      "text/plain": "    chr  pos_hg19  pos_grch38 ref_na alt_na aa_wt aa_mut  revel_score  \\\n0    12  48398104    48004321      T      G     M      L        0.562   \n1    12  48398104    48004321      T      C     M      V        0.585   \n2    12  48398104    48004321      T      A     M      L        0.570   \n3    12  48398103    48004320      A      T     M      K        0.676   \n4    12  48398103    48004320      A      G     M      T        0.691   \n5    12  48398103    48004320      A      C     M      R        0.699   \n6    12  48398102    48004319      C      T     M      I        0.566   \n7    12  48398102    48004319      C      G     M      I        0.566   \n8    12  48398102    48004319      C      A     M      I        0.566   \n9    12  48398101    48004318      T      G     I      L        0.247   \n10   12  48398101    48004318      T      C     I      V        0.184   \n11   12  48398101    48004318      T      A     I      F        0.299   \n12   12  48398100    48004317      A      T     I      N        0.242   \n13   12  48398100    48004317      A      G     I      T        0.245   \n14   12  48398100    48004317      A      C     I      S        0.291   \n15   12  48398099    48004316      A      C     I      M        0.244   \n16   12  48398098    48004315      G      T     R      S        0.390   \n17   12  48398098    48004315      G      C     R      G        0.255   \n18   12  48398098    48004315      G      A     R      C        0.474   \n19   12  48398097    48004314      C      T     R      H        0.204   \n\n                                      transcript_id  aa_pos    gene  \n0   ENST00000380518;ENST00000395281;ENST00000337299       1  COL2A1  \n1   ENST00000380518;ENST00000395281;ENST00000337299       1  COL2A1  \n2   ENST00000380518;ENST00000395281;ENST00000337299       1  COL2A1  \n3   ENST00000380518;ENST00000395281;ENST00000337299       1  COL2A1  \n4   ENST00000380518;ENST00000395281;ENST00000337299       1  COL2A1  \n5   ENST00000380518;ENST00000395281;ENST00000337299       1  COL2A1  \n6   ENST00000380518;ENST00000395281;ENST00000337299       1  COL2A1  \n7   ENST00000380518;ENST00000395281;ENST00000337299       1  COL2A1  \n8   ENST00000380518;ENST00000395281;ENST00000337299       1  COL2A1  \n9   ENST00000380518;ENST00000395281;ENST00000337299       2  COL2A1  \n10  ENST00000380518;ENST00000395281;ENST00000337299       2  COL2A1  \n11  ENST00000380518;ENST00000395281;ENST00000337299       2  COL2A1  \n12  ENST00000380518;ENST00000395281;ENST00000337299       2  COL2A1  \n13  ENST00000380518;ENST00000395281;ENST00000337299       2  COL2A1  \n14  ENST00000380518;ENST00000395281;ENST00000337299       2  COL2A1  \n15  ENST00000380518;ENST00000395281;ENST00000337299       2  COL2A1  \n16  ENST00000380518;ENST00000395281;ENST00000337299       3  COL2A1  \n17  ENST00000380518;ENST00000395281;ENST00000337299       3  COL2A1  \n18  ENST00000380518;ENST00000395281;ENST00000337299       3  COL2A1  \n19  ENST00000380518;ENST00000395281;ENST00000337299       3  COL2A1  ",
      "text/html": "<div>\n<style scoped>\n    .dataframe tbody tr th:only-of-type {\n        vertical-align: middle;\n    }\n\n    .dataframe tbody tr th {\n        vertical-align: top;\n    }\n\n    .dataframe thead th {\n        text-align: right;\n    }\n</style>\n<table border=\"1\" class=\"dataframe\">\n  <thead>\n    <tr style=\"text-align: right;\">\n      <th></th>\n      <th>chr</th>\n      <th>pos_hg19</th>\n      <th>pos_grch38</th>\n      <th>ref_na</th>\n      <th>alt_na</th>\n      <th>aa_wt</th>\n      <th>aa_mut</th>\n      <th>revel_score</th>\n      <th>transcript_id</th>\n      <th>aa_pos</th>\n      <th>gene</th>\n    </tr>\n  </thead>\n  <tbody>\n    <tr>\n      <th>0</th>\n      <td>12</td>\n      <td>48398104</td>\n      <td>48004321</td>\n      <td>T</td>\n      <td>G</td>\n      <td>M</td>\n      <td>L</td>\n      <td>0.562</td>\n      <td>ENST00000380518;ENST00000395281;ENST00000337299</td>\n      <td>1</td>\n      <td>COL2A1</td>\n    </tr>\n    <tr>\n      <th>1</th>\n      <td>12</td>\n      <td>48398104</td>\n      <td>48004321</td>\n      <td>T</td>\n      <td>C</td>\n      <td>M</td>\n      <td>V</td>\n      <td>0.585</td>\n      <td>ENST00000380518;ENST00000395281;ENST00000337299</td>\n      <td>1</td>\n      <td>COL2A1</td>\n    </tr>\n    <tr>\n      <th>2</th>\n      <td>12</td>\n      <td>48398104</td>\n      <td>48004321</td>\n      <td>T</td>\n      <td>A</td>\n      <td>M</td>\n      <td>L</td>\n      <td>0.570</td>\n      <td>ENST00000380518;ENST00000395281;ENST00000337299</td>\n      <td>1</td>\n      <td>COL2A1</td>\n    </tr>\n    <tr>\n      <th>3</th>\n      <td>12</td>\n      <td>48398103</td>\n      <td>48004320</td>\n      <td>A</td>\n      <td>T</td>\n      <td>M</td>\n      <td>K</td>\n      <td>0.676</td>\n      <td>ENST00000380518;ENST00000395281;ENST00000337299</td>\n      <td>1</td>\n      <td>COL2A1</td>\n    </tr>\n    <tr>\n      <th>4</th>\n      <td>12</td>\n      <td>48398103</td>\n      <td>48004320</td>\n      <td>A</td>\n      <td>G</td>\n      <td>M</td>\n      <td>T</td>\n      <td>0.691</td>\n      <td>ENST00000380518;ENST00000395281;ENST00000337299</td>\n      <td>1</td>\n      <td>COL2A1</td>\n    </tr>\n    <tr>\n      <th>5</th>\n      <td>12</td>\n      <td>48398103</td>\n      <td>48004320</td>\n      <td>A</td>\n      <td>C</td>\n      <td>M</td>\n      <td>R</td>\n      <td>0.699</td>\n      <td>ENST00000380518;ENST00000395281;ENST00000337299</td>\n      <td>1</td>\n      <td>COL2A1</td>\n    </tr>\n    <tr>\n      <th>6</th>\n      <td>12</td>\n      <td>48398102</td>\n      <td>48004319</td>\n      <td>C</td>\n      <td>T</td>\n      <td>M</td>\n      <td>I</td>\n      <td>0.566</td>\n      <td>ENST00000380518;ENST00000395281;ENST00000337299</td>\n      <td>1</td>\n      <td>COL2A1</td>\n    </tr>\n    <tr>\n      <th>7</th>\n      <td>12</td>\n      <td>48398102</td>\n      <td>48004319</td>\n      <td>C</td>\n      <td>G</td>\n      <td>M</td>\n      <td>I</td>\n      <td>0.566</td>\n      <td>ENST00000380518;ENST00000395281;ENST00000337299</td>\n      <td>1</td>\n      <td>COL2A1</td>\n    </tr>\n    <tr>\n      <th>8</th>\n      <td>12</td>\n      <td>48398102</td>\n      <td>48004319</td>\n      <td>C</td>\n      <td>A</td>\n      <td>M</td>\n      <td>I</td>\n      <td>0.566</td>\n      <td>ENST00000380518;ENST00000395281;ENST00000337299</td>\n      <td>1</td>\n      <td>COL2A1</td>\n    </tr>\n    <tr>\n      <th>9</th>\n      <td>12</td>\n      <td>48398101</td>\n      <td>48004318</td>\n      <td>T</td>\n      <td>G</td>\n      <td>I</td>\n      <td>L</td>\n      <td>0.247</td>\n      <td>ENST00000380518;ENST00000395281;ENST00000337299</td>\n      <td>2</td>\n      <td>COL2A1</td>\n    </tr>\n    <tr>\n      <th>10</th>\n      <td>12</td>\n      <td>48398101</td>\n      <td>48004318</td>\n      <td>T</td>\n      <td>C</td>\n      <td>I</td>\n      <td>V</td>\n      <td>0.184</td>\n      <td>ENST00000380518;ENST00000395281;ENST00000337299</td>\n      <td>2</td>\n      <td>COL2A1</td>\n    </tr>\n    <tr>\n      <th>11</th>\n      <td>12</td>\n      <td>48398101</td>\n      <td>48004318</td>\n      <td>T</td>\n      <td>A</td>\n      <td>I</td>\n      <td>F</td>\n      <td>0.299</td>\n      <td>ENST00000380518;ENST00000395281;ENST00000337299</td>\n      <td>2</td>\n      <td>COL2A1</td>\n    </tr>\n    <tr>\n      <th>12</th>\n      <td>12</td>\n      <td>48398100</td>\n      <td>48004317</td>\n      <td>A</td>\n      <td>T</td>\n      <td>I</td>\n      <td>N</td>\n      <td>0.242</td>\n      <td>ENST00000380518;ENST00000395281;ENST00000337299</td>\n      <td>2</td>\n      <td>COL2A1</td>\n    </tr>\n    <tr>\n      <th>13</th>\n      <td>12</td>\n      <td>48398100</td>\n      <td>48004317</td>\n      <td>A</td>\n      <td>G</td>\n      <td>I</td>\n      <td>T</td>\n      <td>0.245</td>\n      <td>ENST00000380518;ENST00000395281;ENST00000337299</td>\n      <td>2</td>\n      <td>COL2A1</td>\n    </tr>\n    <tr>\n      <th>14</th>\n      <td>12</td>\n      <td>48398100</td>\n      <td>48004317</td>\n      <td>A</td>\n      <td>C</td>\n      <td>I</td>\n      <td>S</td>\n      <td>0.291</td>\n      <td>ENST00000380518;ENST00000395281;ENST00000337299</td>\n      <td>2</td>\n      <td>COL2A1</td>\n    </tr>\n    <tr>\n      <th>15</th>\n      <td>12</td>\n      <td>48398099</td>\n      <td>48004316</td>\n      <td>A</td>\n      <td>C</td>\n      <td>I</td>\n      <td>M</td>\n      <td>0.244</td>\n      <td>ENST00000380518;ENST00000395281;ENST00000337299</td>\n      <td>2</td>\n      <td>COL2A1</td>\n    </tr>\n    <tr>\n      <th>16</th>\n      <td>12</td>\n      <td>48398098</td>\n      <td>48004315</td>\n      <td>G</td>\n      <td>T</td>\n      <td>R</td>\n      <td>S</td>\n      <td>0.390</td>\n      <td>ENST00000380518;ENST00000395281;ENST00000337299</td>\n      <td>3</td>\n      <td>COL2A1</td>\n    </tr>\n    <tr>\n      <th>17</th>\n      <td>12</td>\n      <td>48398098</td>\n      <td>48004315</td>\n      <td>G</td>\n      <td>C</td>\n      <td>R</td>\n      <td>G</td>\n      <td>0.255</td>\n      <td>ENST00000380518;ENST00000395281;ENST00000337299</td>\n      <td>3</td>\n      <td>COL2A1</td>\n    </tr>\n    <tr>\n      <th>18</th>\n      <td>12</td>\n      <td>48398098</td>\n      <td>48004315</td>\n      <td>G</td>\n      <td>A</td>\n      <td>R</td>\n      <td>C</td>\n      <td>0.474</td>\n      <td>ENST00000380518;ENST00000395281;ENST00000337299</td>\n      <td>3</td>\n      <td>COL2A1</td>\n    </tr>\n    <tr>\n      <th>19</th>\n      <td>12</td>\n      <td>48398097</td>\n      <td>48004314</td>\n      <td>C</td>\n      <td>T</td>\n      <td>R</td>\n      <td>H</td>\n      <td>0.204</td>\n      <td>ENST00000380518;ENST00000395281;ENST00000337299</td>\n      <td>3</td>\n      <td>COL2A1</td>\n    </tr>\n  </tbody>\n</table>\n</div>"
     },
     "execution_count": 15,
     "metadata": {},
     "output_type": "execute_result"
    }
   ],
   "source": [
    "# Add header for the columns\n",
    "revel_data.columns = ['chr', 'pos_hg19', 'pos_grch38', 'ref_na', 'alt_na', 'aa_wt', 'aa_mut', 'revel_score', \"transcript_id\"]\n",
    "revel_data.head(20)"
   ],
   "metadata": {
    "collapsed": false,
    "ExecuteTime": {
     "end_time": "2023-11-14T11:25:56.114242800Z",
     "start_time": "2023-11-14T11:25:56.035720Z"
    }
   },
   "id": "2fe89572980c2854"
  },
  {
   "cell_type": "code",
   "execution_count": null,
   "outputs": [],
   "source": [
    "def add_aa_position_to_df(df: pd.DataFrame) -> pd.DataFrame:\n",
    "    \"\"\"This function adds the amino acid position to the dataframe, under new column 'aa_pos'\n",
    "    Method:\n",
    "    Add a new column 'aa_pos' to the dataframe\n",
    "    Iterate through the \"pos_hg19\" column, and for each increasment of 3, add the value to the new column\n",
    "    \"\"\"\n",
    "    # Initialize variables to keep track of the last value and the incremental number\n",
    "    last_value = None\n",
    "    incremental_number = 0\n",
    "    number_column = []\n",
    "    \n",
    "    # Iterate through the pos_hg19 column and calculate the numbers column\n",
    "    for value in df['pos_hg19']:\n",
    "        if last_value is None:\n",
    "            last_value = value\n",
    "            incremental_number = 1\n",
    "        elif value - last_value >= 3:\n",
    "            incremental_number += 1\n",
    "            last_value = value\n",
    "        else:\n",
    "            pass\n",
    "        number_column.append(incremental_number)\n",
    "    \n",
    "    # Add the numbers column to the DataFrame\n",
    "    df['aa_pos'] = number_column\n",
    "    return df\n",
    "\n",
    "def add_aa_position_to_df_reverse(df: pd.DataFrame) -> pd.DataFrame:\n",
    "    \"\"\"This function adds the amino acid position to the dataframe, under new column 'aa_pos'\n",
    "    Method:\n",
    "    Add a new column 'aa_pos' to the dataframe\n",
    "    Iterate through the \"pos_hg19\" column, and for each increasment of 3, add the value to the new column\n",
    "    \"\"\"\n",
    "        # Initialize variables to keep track of the last value and the incremental number\n",
    "    last_value = None\n",
    "    incremental_number = 0\n",
    "    number_column = []\n",
    "    \n",
    "    # Iterate through the pos_hg19 column and calculate the numbers column\n",
    "    for value in df['pos_hg19']:\n",
    "        if last_value is None:\n",
    "            last_value = value\n",
    "            incremental_number = 1\n",
    "        elif last_value - value >= 3:\n",
    "            incremental_number += 1\n",
    "            last_value = value\n",
    "        else:\n",
    "            pass\n",
    "        number_column.append(incremental_number)\n",
    "    \n",
    "    # Add the numbers column to the DataFrame\n",
    "    df['aa_pos'] = number_column\n",
    "    return df\n",
    "\n",
    "def encode_amino_acids(df):\n",
    "    df = df.sort_values(by='aa_pos').reset_index(drop=True)  # Sort the DataFrame by 'aa_pos' and reset the index\n",
    "    aa_seq = ''\n",
    "\n",
    "    for index, row in df.iterrows():\n",
    "        aa_wt = row['aa_wt']\n",
    "        aa_seq += aa_wt\n",
    "\n",
    "    return aa_seq\n",
    "\n",
    "\n",
    "# Uniprot data\n",
    "import requests as req\n",
    "\n",
    "def get_uniprot_url(gene_name) -> str:\n",
    "    \"\"\"Returns the URL for the Uniprot page for the given gene name.\"\"\"\n",
    "    url = f\"https://rest.uniprot.org/uniprotkb/search?query=(gene:{gene_name})%20AND%20(taxonomy_id:9606)%20AND%20(reviewed:true)\"\n",
    "    return url\n",
    "\n",
    "def get_uniprot_json(gene_name) -> dict:\n",
    "    # The base URL for UniProt's search API\n",
    "    url = get_uniprot_url(gene_name)\n",
    "    # Make a request to the search API\n",
    "    response = req.get(url)\n",
    "    # Extract the JSON data from the response\n",
    "    data = response.json()\n",
    "    return data\n",
    "\n",
    "def get_uniprot_id(gene_name) -> str:\n",
    "    \"\"\"Returns the Uniprot ID for the given gene name.\"\"\"\n",
    "    data = get_uniprot_json(gene_name)\n",
    "    primary_accession = data['results'][0]['primaryAccession']\n",
    "    return primary_accession\n",
    "\n",
    "\n",
    "def get_sequence(gene_name) -> str:\n",
    "    \"\"\"Returns the sequence for the given Uniprot\"\"\"\n",
    "    data = get_uniprot_json(gene_name)\n",
    "    sequence = data['results'][0]['sequence']['value']\n",
    "    return sequence"
   ],
   "metadata": {
    "collapsed": false,
    "ExecuteTime": {
     "start_time": "2023-11-14T11:24:40.182657300Z"
    }
   },
   "id": "5cf436952ba8d645"
  },
  {
   "cell_type": "code",
   "execution_count": null,
   "outputs": [],
   "source": [
    "\n",
    "if reverse:\n",
    "    revel_data = revel_data[::-1].reset_index(drop=True)\n",
    "    revel_data = add_aa_position_to_df_reverse(revel_data)\n",
    "else:\n",
    "    revel_data = add_aa_position_to_df(revel_data)\n",
    "revel_data.to_csv(f'{gene}_revel_with_pos.csv', index=False)\n",
    "# amino_acid_sequence = encode_amino_acids(revel_data)\n",
    "# \n",
    "# print(amino_acid_sequence)\n",
    "# print(get_sequence('COL4A3'))\n",
    "# count = 0\n",
    "# for i,j in zip(amino_acid_sequence, get_sequence('COL4A3')):\n",
    "#     count += 1\n",
    "#     if i != j:\n",
    "#         print(i, j)\n",
    "#         print(count)"
   ],
   "metadata": {
    "collapsed": false,
    "ExecuteTime": {
     "end_time": "2023-11-14T11:24:40.193883300Z",
     "start_time": "2023-11-14T11:24:40.193883300Z"
    }
   },
   "id": "8be1e13f92d4a73"
  },
  {
   "cell_type": "code",
   "execution_count": null,
   "outputs": [],
   "source": [
    "######### TEST MINI\n",
    "data = {'pos_hg19': [1,1,1]}"
   ],
   "metadata": {
    "collapsed": false,
    "ExecuteTime": {
     "start_time": "2023-11-14T11:24:40.193883300Z"
    }
   },
   "id": "fbc18e464a694fe2"
  },
  {
   "cell_type": "code",
   "execution_count": null,
   "outputs": [],
   "source": [],
   "metadata": {
    "collapsed": false,
    "ExecuteTime": {
     "start_time": "2023-11-14T11:24:40.193883300Z"
    }
   },
   "id": "e7a245ca716e3255"
  }
 ],
 "metadata": {
  "kernelspec": {
   "display_name": "Python 3",
   "language": "python",
   "name": "python3"
  },
  "language_info": {
   "codemirror_mode": {
    "name": "ipython",
    "version": 2
   },
   "file_extension": ".py",
   "mimetype": "text/x-python",
   "name": "python",
   "nbconvert_exporter": "python",
   "pygments_lexer": "ipython2",
   "version": "2.7.6"
  }
 },
 "nbformat": 4,
 "nbformat_minor": 5
}
