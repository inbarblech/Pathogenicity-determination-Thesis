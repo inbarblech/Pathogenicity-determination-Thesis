{
 "cells": [
  {
   "cell_type": "raw",
   "source": [],
   "metadata": {
    "collapsed": false
   },
   "id": "daae3bd731bad53b"
  },
  {
   "cell_type": "code",
   "execution_count": 39,
   "outputs": [],
   "source": [
    "import pandas as pd"
   ],
   "metadata": {
    "collapsed": false,
    "ExecuteTime": {
     "end_time": "2023-11-22T16:20:22.314758500Z",
     "start_time": "2023-11-22T16:20:22.232319900Z"
    }
   },
   "id": "initial_id"
  },
  {
   "cell_type": "code",
   "execution_count": 40,
   "outputs": [],
   "source": [
    "genes = [\"GJB2\", \"COL4A5\", \"COL4A3\", \"COL2A1\", \"SLC26A4\", \"FGFR1\", \"MYO7A\", \"WFS1\"]"
   ],
   "metadata": {
    "collapsed": false,
    "ExecuteTime": {
     "end_time": "2023-11-22T16:20:22.346430800Z",
     "start_time": "2023-11-22T16:20:22.247807600Z"
    }
   },
   "id": "b6caee20d753d8e4"
  },
  {
   "cell_type": "code",
   "execution_count": 41,
   "outputs": [
    {
     "data": {
      "text/plain": "     variant  prediction  reality    gene\n0        M1R           0        0  COL2A1\n1        I2A           0        0  COL2A1\n2        I2L           0        0  COL2A1\n3        I2P           0        0  COL2A1\n4        I2T           0        0  COL2A1\n...      ...         ...      ...     ...\n4799   Y217F           0        0    GJB2\n4800   G220A           0        0    GJB2\n4801   G220K           0        0    GJB2\n4802   K221R           0        0    GJB2\n4803   K223R           0        0    GJB2\n\n[4804 rows x 4 columns]",
      "text/html": "<div>\n<style scoped>\n    .dataframe tbody tr th:only-of-type {\n        vertical-align: middle;\n    }\n\n    .dataframe tbody tr th {\n        vertical-align: top;\n    }\n\n    .dataframe thead th {\n        text-align: right;\n    }\n</style>\n<table border=\"1\" class=\"dataframe\">\n  <thead>\n    <tr style=\"text-align: right;\">\n      <th></th>\n      <th>variant</th>\n      <th>prediction</th>\n      <th>reality</th>\n      <th>gene</th>\n    </tr>\n  </thead>\n  <tbody>\n    <tr>\n      <th>0</th>\n      <td>M1R</td>\n      <td>0</td>\n      <td>0</td>\n      <td>COL2A1</td>\n    </tr>\n    <tr>\n      <th>1</th>\n      <td>I2A</td>\n      <td>0</td>\n      <td>0</td>\n      <td>COL2A1</td>\n    </tr>\n    <tr>\n      <th>2</th>\n      <td>I2L</td>\n      <td>0</td>\n      <td>0</td>\n      <td>COL2A1</td>\n    </tr>\n    <tr>\n      <th>3</th>\n      <td>I2P</td>\n      <td>0</td>\n      <td>0</td>\n      <td>COL2A1</td>\n    </tr>\n    <tr>\n      <th>4</th>\n      <td>I2T</td>\n      <td>0</td>\n      <td>0</td>\n      <td>COL2A1</td>\n    </tr>\n    <tr>\n      <th>...</th>\n      <td>...</td>\n      <td>...</td>\n      <td>...</td>\n      <td>...</td>\n    </tr>\n    <tr>\n      <th>4799</th>\n      <td>Y217F</td>\n      <td>0</td>\n      <td>0</td>\n      <td>GJB2</td>\n    </tr>\n    <tr>\n      <th>4800</th>\n      <td>G220A</td>\n      <td>0</td>\n      <td>0</td>\n      <td>GJB2</td>\n    </tr>\n    <tr>\n      <th>4801</th>\n      <td>G220K</td>\n      <td>0</td>\n      <td>0</td>\n      <td>GJB2</td>\n    </tr>\n    <tr>\n      <th>4802</th>\n      <td>K221R</td>\n      <td>0</td>\n      <td>0</td>\n      <td>GJB2</td>\n    </tr>\n    <tr>\n      <th>4803</th>\n      <td>K223R</td>\n      <td>0</td>\n      <td>0</td>\n      <td>GJB2</td>\n    </tr>\n  </tbody>\n</table>\n<p>4804 rows × 4 columns</p>\n</div>"
     },
     "execution_count": 41,
     "metadata": {},
     "output_type": "execute_result"
    }
   ],
   "source": [
    "# Combine the prediction files into one file\n",
    "my_prediction = pd.read_csv(\"C:\\\\Users\\\\InbarBlech\\\\PycharmProjects\\\\Thesis\\\\predictions_vs_real\\\\predictions_vs_real_with_variant_all_genes_updated_221123.csv\")\n",
    "my_prediction"
   ],
   "metadata": {
    "collapsed": false,
    "ExecuteTime": {
     "end_time": "2023-11-22T16:20:22.346430800Z",
     "start_time": "2023-11-22T16:20:22.279173900Z"
    }
   },
   "id": "dae07953cecae426"
  },
  {
   "cell_type": "code",
   "execution_count": 42,
   "outputs": [
    {
     "data": {
      "text/plain": "      uniprot_id protein_variant  am_pathogenicity    am_class  gene\n0         P29033             M1A            0.8186  pathogenic  GJB2\n1         P29033             M1C            0.7324  pathogenic  GJB2\n2         P29033             M1D            0.9895  pathogenic  GJB2\n3         P29033             M1E            0.9607  pathogenic  GJB2\n4         P29033             M1F            0.5237   ambiguous  GJB2\n...          ...             ...               ...         ...   ...\n16905     O76024           A890S            0.0789      benign  WFS1\n16906     O76024           A890T            0.1216      benign  WFS1\n16907     O76024           A890V            0.1489      benign  WFS1\n16908     O76024           A890W            0.7340  pathogenic  WFS1\n16909     O76024           A890Y            0.5451   ambiguous  WFS1\n\n[185725 rows x 5 columns]",
      "text/html": "<div>\n<style scoped>\n    .dataframe tbody tr th:only-of-type {\n        vertical-align: middle;\n    }\n\n    .dataframe tbody tr th {\n        vertical-align: top;\n    }\n\n    .dataframe thead th {\n        text-align: right;\n    }\n</style>\n<table border=\"1\" class=\"dataframe\">\n  <thead>\n    <tr style=\"text-align: right;\">\n      <th></th>\n      <th>uniprot_id</th>\n      <th>protein_variant</th>\n      <th>am_pathogenicity</th>\n      <th>am_class</th>\n      <th>gene</th>\n    </tr>\n  </thead>\n  <tbody>\n    <tr>\n      <th>0</th>\n      <td>P29033</td>\n      <td>M1A</td>\n      <td>0.8186</td>\n      <td>pathogenic</td>\n      <td>GJB2</td>\n    </tr>\n    <tr>\n      <th>1</th>\n      <td>P29033</td>\n      <td>M1C</td>\n      <td>0.7324</td>\n      <td>pathogenic</td>\n      <td>GJB2</td>\n    </tr>\n    <tr>\n      <th>2</th>\n      <td>P29033</td>\n      <td>M1D</td>\n      <td>0.9895</td>\n      <td>pathogenic</td>\n      <td>GJB2</td>\n    </tr>\n    <tr>\n      <th>3</th>\n      <td>P29033</td>\n      <td>M1E</td>\n      <td>0.9607</td>\n      <td>pathogenic</td>\n      <td>GJB2</td>\n    </tr>\n    <tr>\n      <th>4</th>\n      <td>P29033</td>\n      <td>M1F</td>\n      <td>0.5237</td>\n      <td>ambiguous</td>\n      <td>GJB2</td>\n    </tr>\n    <tr>\n      <th>...</th>\n      <td>...</td>\n      <td>...</td>\n      <td>...</td>\n      <td>...</td>\n      <td>...</td>\n    </tr>\n    <tr>\n      <th>16905</th>\n      <td>O76024</td>\n      <td>A890S</td>\n      <td>0.0789</td>\n      <td>benign</td>\n      <td>WFS1</td>\n    </tr>\n    <tr>\n      <th>16906</th>\n      <td>O76024</td>\n      <td>A890T</td>\n      <td>0.1216</td>\n      <td>benign</td>\n      <td>WFS1</td>\n    </tr>\n    <tr>\n      <th>16907</th>\n      <td>O76024</td>\n      <td>A890V</td>\n      <td>0.1489</td>\n      <td>benign</td>\n      <td>WFS1</td>\n    </tr>\n    <tr>\n      <th>16908</th>\n      <td>O76024</td>\n      <td>A890W</td>\n      <td>0.7340</td>\n      <td>pathogenic</td>\n      <td>WFS1</td>\n    </tr>\n    <tr>\n      <th>16909</th>\n      <td>O76024</td>\n      <td>A890Y</td>\n      <td>0.5451</td>\n      <td>ambiguous</td>\n      <td>WFS1</td>\n    </tr>\n  </tbody>\n</table>\n<p>185725 rows × 5 columns</p>\n</div>"
     },
     "execution_count": 42,
     "metadata": {},
     "output_type": "execute_result"
    }
   ],
   "source": [
    "# Build a dataframe with all the predictions from AlphaMissense, for all genes in list genes.\n",
    "am_predictions = pd.DataFrame()\n",
    "for gene in genes:\n",
    "    gene_predictions = pd.read_csv(f\"C:\\\\Users\\\\InbarBlech\\\\PycharmProjects\\\\Thesis\\\\benchmarking\\\\AlphaMissense\\\\am_predictions_per_gene\\\\am_predictions_{gene}.csv\")\n",
    "    am_predictions = pd.concat([am_predictions, gene_predictions])\n",
    "am_predictions"
   ],
   "metadata": {
    "collapsed": false,
    "ExecuteTime": {
     "end_time": "2023-11-22T16:20:22.503214900Z",
     "start_time": "2023-11-22T16:20:22.310416200Z"
    }
   },
   "id": "9d0bfb88ebdc04d6"
  },
  {
   "cell_type": "code",
   "execution_count": 43,
   "outputs": [],
   "source": [
    "# Change column names to match the other file\n",
    "am_predictions = am_predictions.rename(columns={\"protein_variant\": \"variant\"})"
   ],
   "metadata": {
    "collapsed": false,
    "ExecuteTime": {
     "end_time": "2023-11-22T16:20:22.581782600Z",
     "start_time": "2023-11-22T16:20:22.503214900Z"
    }
   },
   "id": "a4efc8cee93e9f7"
  },
  {
   "cell_type": "code",
   "execution_count": 44,
   "outputs": [],
   "source": [
    "# print all rows with Nan in EVE score\n",
    "am_vus = am_predictions[am_predictions['am_class'] == \"ambiguous\"]"
   ],
   "metadata": {
    "collapsed": false,
    "ExecuteTime": {
     "end_time": "2023-11-22T16:20:22.581782600Z",
     "start_time": "2023-11-22T16:20:22.534463900Z"
    }
   },
   "id": "d6e172f9fe4db5ea"
  },
  {
   "cell_type": "code",
   "execution_count": 45,
   "outputs": [
    {
     "data": {
      "text/plain": "      uniprot_id variant  am_pathogenicity    am_class  gene\n0         P29033     M1A            0.8186  pathogenic  GJB2\n1         P29033     M1C            0.7324  pathogenic  GJB2\n2         P29033     M1D            0.9895  pathogenic  GJB2\n3         P29033     M1E            0.9607  pathogenic  GJB2\n5         P29033     M1G            0.9077  pathogenic  GJB2\n...          ...     ...               ...         ...   ...\n16904     O76024   A890R            0.3313      benign  WFS1\n16905     O76024   A890S            0.0789      benign  WFS1\n16906     O76024   A890T            0.1216      benign  WFS1\n16907     O76024   A890V            0.1489      benign  WFS1\n16908     O76024   A890W            0.7340  pathogenic  WFS1\n\n[164518 rows x 5 columns]",
      "text/html": "<div>\n<style scoped>\n    .dataframe tbody tr th:only-of-type {\n        vertical-align: middle;\n    }\n\n    .dataframe tbody tr th {\n        vertical-align: top;\n    }\n\n    .dataframe thead th {\n        text-align: right;\n    }\n</style>\n<table border=\"1\" class=\"dataframe\">\n  <thead>\n    <tr style=\"text-align: right;\">\n      <th></th>\n      <th>uniprot_id</th>\n      <th>variant</th>\n      <th>am_pathogenicity</th>\n      <th>am_class</th>\n      <th>gene</th>\n    </tr>\n  </thead>\n  <tbody>\n    <tr>\n      <th>0</th>\n      <td>P29033</td>\n      <td>M1A</td>\n      <td>0.8186</td>\n      <td>pathogenic</td>\n      <td>GJB2</td>\n    </tr>\n    <tr>\n      <th>1</th>\n      <td>P29033</td>\n      <td>M1C</td>\n      <td>0.7324</td>\n      <td>pathogenic</td>\n      <td>GJB2</td>\n    </tr>\n    <tr>\n      <th>2</th>\n      <td>P29033</td>\n      <td>M1D</td>\n      <td>0.9895</td>\n      <td>pathogenic</td>\n      <td>GJB2</td>\n    </tr>\n    <tr>\n      <th>3</th>\n      <td>P29033</td>\n      <td>M1E</td>\n      <td>0.9607</td>\n      <td>pathogenic</td>\n      <td>GJB2</td>\n    </tr>\n    <tr>\n      <th>5</th>\n      <td>P29033</td>\n      <td>M1G</td>\n      <td>0.9077</td>\n      <td>pathogenic</td>\n      <td>GJB2</td>\n    </tr>\n    <tr>\n      <th>...</th>\n      <td>...</td>\n      <td>...</td>\n      <td>...</td>\n      <td>...</td>\n      <td>...</td>\n    </tr>\n    <tr>\n      <th>16904</th>\n      <td>O76024</td>\n      <td>A890R</td>\n      <td>0.3313</td>\n      <td>benign</td>\n      <td>WFS1</td>\n    </tr>\n    <tr>\n      <th>16905</th>\n      <td>O76024</td>\n      <td>A890S</td>\n      <td>0.0789</td>\n      <td>benign</td>\n      <td>WFS1</td>\n    </tr>\n    <tr>\n      <th>16906</th>\n      <td>O76024</td>\n      <td>A890T</td>\n      <td>0.1216</td>\n      <td>benign</td>\n      <td>WFS1</td>\n    </tr>\n    <tr>\n      <th>16907</th>\n      <td>O76024</td>\n      <td>A890V</td>\n      <td>0.1489</td>\n      <td>benign</td>\n      <td>WFS1</td>\n    </tr>\n    <tr>\n      <th>16908</th>\n      <td>O76024</td>\n      <td>A890W</td>\n      <td>0.7340</td>\n      <td>pathogenic</td>\n      <td>WFS1</td>\n    </tr>\n  </tbody>\n</table>\n<p>164518 rows × 5 columns</p>\n</div>"
     },
     "execution_count": 45,
     "metadata": {},
     "output_type": "execute_result"
    }
   ],
   "source": [
    "# No need for applying threshold to VUS, since EVE have pre-deleted all VUS.\n",
    "# Just delete all rows with Nan in EVE score\n",
    "am_predictions = am_predictions[~(am_predictions['am_class'] == \"ambiguous\")]\n",
    "am_predictions"
   ],
   "metadata": {
    "collapsed": false,
    "ExecuteTime": {
     "end_time": "2023-11-22T16:20:22.676527600Z",
     "start_time": "2023-11-22T16:20:22.566187100Z"
    }
   },
   "id": "a774dcb20a2c764c"
  },
  {
   "cell_type": "code",
   "execution_count": 46,
   "outputs": [],
   "source": [
    "# Make \"benign\" and \"pathogenic\" to 0 and 1\n",
    "am_predictions.loc[am_predictions['am_class'] == \"benign\", 'am_class'] = 0\n",
    "am_predictions.loc[am_predictions['am_class'] == \"pathogenic\", 'am_class'] = 1"
   ],
   "metadata": {
    "collapsed": false,
    "ExecuteTime": {
     "end_time": "2023-11-22T16:20:22.758712200Z",
     "start_time": "2023-11-22T16:20:22.613519300Z"
    }
   },
   "id": "f2a1b6baa95f71e9"
  },
  {
   "cell_type": "code",
   "execution_count": 47,
   "outputs": [
    {
     "name": "stdout",
     "output_type": "stream",
     "text": [
      "Number of pathogenic variants in am: 93802\n",
      "Number of benign variants in am: 70716\n"
     ]
    }
   ],
   "source": [
    "# print how many pathogenic and benign variants are in the EVE file\n",
    "print(f\"Number of pathogenic variants in am: {len(am_predictions[am_predictions['am_class'] == 1])}\")\n",
    "print(f\"Number of benign variants in am: {len(am_predictions[am_predictions['am_class'] == 0])}\")"
   ],
   "metadata": {
    "collapsed": false,
    "ExecuteTime": {
     "end_time": "2023-11-22T16:20:22.868607400Z",
     "start_time": "2023-11-22T16:20:22.676527600Z"
    }
   },
   "id": "ec408a732fc6b469"
  },
  {
   "cell_type": "code",
   "execution_count": 48,
   "outputs": [
    {
     "data": {
      "text/plain": "     variant  prediction  reality    gene uniprot_id  am_pathogenicity  \\\n0        M1R           0        0  COL2A1     P02458            0.1676   \n1        I2A           0        0  COL2A1     P02458            0.1500   \n2        I2L           0        0  COL2A1     P02458            0.0908   \n3        I2P           0        0  COL2A1     P02458            0.1957   \n4        I2T           0        0  COL2A1     P02458            0.2038   \n...      ...         ...      ...     ...        ...               ...   \n4495   Y217F           0        0    GJB2     P29033            0.0702   \n4496   G220A           0        0    GJB2     P29033            0.0855   \n4497   G220K           0        0    GJB2     P29033            0.0955   \n4498   K221R           0        0    GJB2     P29033            0.0586   \n4499   K223R           0        0    GJB2     P29033            0.0548   \n\n     am_class  \n0           0  \n1           0  \n2           0  \n3           0  \n4           0  \n...       ...  \n4495        0  \n4496        0  \n4497        0  \n4498        0  \n4499        0  \n\n[4500 rows x 7 columns]",
      "text/html": "<div>\n<style scoped>\n    .dataframe tbody tr th:only-of-type {\n        vertical-align: middle;\n    }\n\n    .dataframe tbody tr th {\n        vertical-align: top;\n    }\n\n    .dataframe thead th {\n        text-align: right;\n    }\n</style>\n<table border=\"1\" class=\"dataframe\">\n  <thead>\n    <tr style=\"text-align: right;\">\n      <th></th>\n      <th>variant</th>\n      <th>prediction</th>\n      <th>reality</th>\n      <th>gene</th>\n      <th>uniprot_id</th>\n      <th>am_pathogenicity</th>\n      <th>am_class</th>\n    </tr>\n  </thead>\n  <tbody>\n    <tr>\n      <th>0</th>\n      <td>M1R</td>\n      <td>0</td>\n      <td>0</td>\n      <td>COL2A1</td>\n      <td>P02458</td>\n      <td>0.1676</td>\n      <td>0</td>\n    </tr>\n    <tr>\n      <th>1</th>\n      <td>I2A</td>\n      <td>0</td>\n      <td>0</td>\n      <td>COL2A1</td>\n      <td>P02458</td>\n      <td>0.1500</td>\n      <td>0</td>\n    </tr>\n    <tr>\n      <th>2</th>\n      <td>I2L</td>\n      <td>0</td>\n      <td>0</td>\n      <td>COL2A1</td>\n      <td>P02458</td>\n      <td>0.0908</td>\n      <td>0</td>\n    </tr>\n    <tr>\n      <th>3</th>\n      <td>I2P</td>\n      <td>0</td>\n      <td>0</td>\n      <td>COL2A1</td>\n      <td>P02458</td>\n      <td>0.1957</td>\n      <td>0</td>\n    </tr>\n    <tr>\n      <th>4</th>\n      <td>I2T</td>\n      <td>0</td>\n      <td>0</td>\n      <td>COL2A1</td>\n      <td>P02458</td>\n      <td>0.2038</td>\n      <td>0</td>\n    </tr>\n    <tr>\n      <th>...</th>\n      <td>...</td>\n      <td>...</td>\n      <td>...</td>\n      <td>...</td>\n      <td>...</td>\n      <td>...</td>\n      <td>...</td>\n    </tr>\n    <tr>\n      <th>4495</th>\n      <td>Y217F</td>\n      <td>0</td>\n      <td>0</td>\n      <td>GJB2</td>\n      <td>P29033</td>\n      <td>0.0702</td>\n      <td>0</td>\n    </tr>\n    <tr>\n      <th>4496</th>\n      <td>G220A</td>\n      <td>0</td>\n      <td>0</td>\n      <td>GJB2</td>\n      <td>P29033</td>\n      <td>0.0855</td>\n      <td>0</td>\n    </tr>\n    <tr>\n      <th>4497</th>\n      <td>G220K</td>\n      <td>0</td>\n      <td>0</td>\n      <td>GJB2</td>\n      <td>P29033</td>\n      <td>0.0955</td>\n      <td>0</td>\n    </tr>\n    <tr>\n      <th>4498</th>\n      <td>K221R</td>\n      <td>0</td>\n      <td>0</td>\n      <td>GJB2</td>\n      <td>P29033</td>\n      <td>0.0586</td>\n      <td>0</td>\n    </tr>\n    <tr>\n      <th>4499</th>\n      <td>K223R</td>\n      <td>0</td>\n      <td>0</td>\n      <td>GJB2</td>\n      <td>P29033</td>\n      <td>0.0548</td>\n      <td>0</td>\n    </tr>\n  </tbody>\n</table>\n<p>4500 rows × 7 columns</p>\n</div>"
     },
     "execution_count": 48,
     "metadata": {},
     "output_type": "execute_result"
    }
   ],
   "source": [
    "# Merge the two files\n",
    "merged = pd.merge(my_prediction, am_predictions, on=[\"gene\", \"variant\"])\n",
    "merged\n"
   ],
   "metadata": {
    "collapsed": false,
    "ExecuteTime": {
     "end_time": "2023-11-22T16:20:22.915412100Z",
     "start_time": "2023-11-22T16:20:22.714684200Z"
    }
   },
   "id": "dffcacfbb6cf2437"
  },
  {
   "cell_type": "code",
   "execution_count": 49,
   "outputs": [],
   "source": [
    "# To make sure that all tools will be tested on the same variants, save the merged with REVEL file and do so for all other tools. Then merge all the files together.\n",
    "merged_only_am_columns = merged[['gene', 'variant', 'am_pathogenicity', 'am_class']]\n",
    "merged.to_csv(\"C:\\\\Users\\\\InbarBlech\\\\PycharmProjects\\\\Thesis\\\\benchmarking\\\\alphamissense_on_dvd_data_predictions_LOPO.csv\")"
   ],
   "metadata": {
    "collapsed": false,
    "ExecuteTime": {
     "end_time": "2023-11-22T16:20:22.915412100Z",
     "start_time": "2023-11-22T16:20:22.821230500Z"
    }
   },
   "id": "83c682b0aac2f9ed"
  },
  {
   "cell_type": "code",
   "execution_count": 50,
   "outputs": [
    {
     "name": "stdout",
     "output_type": "stream",
     "text": [
      "length of merged 4500\n",
      "length of my_prediction 4804\n",
      "length of alpha_missense 164518\n"
     ]
    }
   ],
   "source": [
    "print(f\"length of merged {len(merged)}\")\n",
    "print(f\"length of my_prediction {len(my_prediction)}\")\n",
    "print(f\"length of alpha_missense {len(am_predictions)}\")"
   ],
   "metadata": {
    "collapsed": false,
    "ExecuteTime": {
     "end_time": "2023-11-22T16:20:22.915412100Z",
     "start_time": "2023-11-22T16:20:22.868607400Z"
    }
   },
   "id": "132eb6a57eb26b7a"
  },
  {
   "cell_type": "code",
   "execution_count": 50,
   "outputs": [],
   "source": [],
   "metadata": {
    "collapsed": false,
    "ExecuteTime": {
     "end_time": "2023-11-22T16:20:23.041126700Z",
     "start_time": "2023-11-22T16:20:22.884155700Z"
    }
   },
   "id": "614e91d0db6e74bc"
  },
  {
   "cell_type": "code",
   "execution_count": 51,
   "outputs": [],
   "source": [
    "#############################################################################################################\n",
    "# All next rows were used to calculate the MCC, before realised I must apply first the threshold and remove the VUS variants. Now all these rows aren't in use, since I'm doing the calculations after removing the VUS variants and with all tools together.\n",
    "#############################################################################################################"
   ],
   "metadata": {
    "collapsed": false,
    "ExecuteTime": {
     "end_time": "2023-11-22T16:20:23.057158900Z",
     "start_time": "2023-11-22T16:20:22.899791100Z"
    }
   },
   "id": "4db6be964fff455a"
  },
  {
   "cell_type": "code",
   "execution_count": 52,
   "outputs": [],
   "source": [
    "# ## Calculate the MCC for the mutpred predictions, according to the real pathogenicity (0 or 1)\n",
    "# from sklearn.metrics import matthews_corrcoef"
   ],
   "metadata": {
    "collapsed": false,
    "ExecuteTime": {
     "end_time": "2023-11-22T16:20:23.057158900Z",
     "start_time": "2023-11-22T16:20:22.915412100Z"
    }
   },
   "id": "57a3d8604bb08730"
  },
  {
   "cell_type": "code",
   "execution_count": 53,
   "outputs": [],
   "source": [
    "# # separate the merged dataframe according to gene\n",
    "# genes = merged[\"gene\"].unique()\n",
    "# print(f\"Number of genes: {len(genes)}\")"
   ],
   "metadata": {
    "collapsed": false,
    "ExecuteTime": {
     "end_time": "2023-11-22T16:20:23.104054400Z",
     "start_time": "2023-11-22T16:20:22.931042800Z"
    }
   },
   "id": "82b8979a837034b9"
  },
  {
   "cell_type": "code",
   "execution_count": 54,
   "outputs": [],
   "source": [
    "# # Calculate MCC for each gene specific predictor for EVE\n",
    "# genes = merged_without_nan[\"gene\"].unique()\n",
    "# print(genes)\n",
    "# \n",
    "# ### EVE ####\n",
    "# # Build dictionary with gene names as keys.\n",
    "# mccs = {gene: 0 for gene in genes}\n",
    "# \n",
    "# for gene in genes:\n",
    "#     gene_df = merged_without_nan[merged_without_nan[\"gene\"] == gene]\n",
    "#     # Assuming you have a DataFrame called 'data' with 'prediction' and 'MutPred_score' columns\n",
    "#     gene_df['EVE_scores_ASM'] = gene_df['EVE_scores_ASM'].astype(float)\n",
    "#     # Create binary predictions based on the 0.5 threshold\n",
    "#     gene_df.loc[:, 'binary_prediction_EVE'] = (gene_df['EVE_scores_ASM'] > 0.5).astype(int)\n",
    "# \n",
    "#     gene_df['predictions'] = gene_df['predictions'].astype(int)\n",
    "# \n",
    "#     # Calculate MCC\n",
    "#     mcc = matthews_corrcoef(gene_df['predictions'], gene_df['binary_prediction_EVE'])\n",
    "# \n",
    "#     # Get gene name for the use for the dictionary\n",
    "#     gene = gene_df['gene'].unique()[0]\n",
    "# \n",
    "#     # Append mcc to dictionary\n",
    "#     mccs[gene] = mcc\n",
    "# \n",
    "# print(\"MCCs of EVE predictions for each gene:\")\n",
    "# for gene in mccs:\n",
    "#     print(f\"{gene}: {mccs[gene]}\")"
   ],
   "metadata": {
    "collapsed": false,
    "ExecuteTime": {
     "end_time": "2023-11-22T16:20:23.135317300Z",
     "start_time": "2023-11-22T16:20:22.947069800Z"
    }
   },
   "id": "e534a510288960cb"
  },
  {
   "cell_type": "code",
   "execution_count": 55,
   "outputs": [],
   "source": [
    "# from sklearn.metrics import roc_auc_score, roc_curve, auc, precision_recall_curve, average_precision_score, f1_score, log_loss, confusion_matrix\n",
    "# # store the results in a dictionary\n",
    "# results = {gene: 0 for gene in genes}\n",
    "# \n",
    "# for gene in genes:\n",
    "#     gene_df = merged_without_nan[merged_without_nan[\"gene\"] == gene]\n",
    "#     gene_df['EVE_scores_ASM'] = gene_df['EVE_scores_ASM'].astype(float)\n",
    "#     y_true = gene_df[\"pathogenicity\"].astype(int)\n",
    "#     predicted_probabilities = gene_df[\"EVE_scores_ASM\"]\n",
    "#     gene_df.loc[:, 'binary_prediction_EVE'] = (gene_df['EVE_scores_ASM'] > 0.5).astype(int)\n",
    "#     predicted_labels = gene_df[\"binary_prediction_EVE\"]\n",
    "#     \n",
    "#     results_gene = {}\n",
    "#     # Calculate AUC-ROC\n",
    "#     roc_auc = roc_auc_score(y_true, predicted_probabilities)\n",
    "#     # append to dictionary\n",
    "#     results_gene[\"roc_auc\"] = roc_auc\n",
    "#     \n",
    "#     # Calculate ROC curve\n",
    "#     fpr, tpr, thresholds = roc_curve(y_true, predicted_probabilities)\n",
    "#     roc_auc = auc(fpr, tpr)\n",
    "#     # append to dictionary\n",
    "#     results_gene[\"auc\"] = roc_auc\n",
    "#     \n",
    "#     # Calculate AUC-PR\n",
    "#     precision, recall, _ = precision_recall_curve(y_true, predicted_probabilities)\n",
    "#     pr_auc = auc(recall, precision)\n",
    "#     # append to dictionary\n",
    "#     results_gene[\"pr_auc\"] = pr_auc\n",
    "#     \n",
    "#     # Calculate F1 Score\n",
    "#     f1 = f1_score(y_true, predicted_labels)\n",
    "#     # append to dictionary\n",
    "#     results_gene[\"f1\"] = f1\n",
    "#     \n",
    "#     # Calculate Log Loss\n",
    "#     logloss = log_loss(y_true, predicted_probabilities)\n",
    "#     # append to dictionary\n",
    "#     results_gene[\"logloss\"] = logloss\n",
    "#     \n",
    "#     # Calculate confusion matrix\n",
    "#     conf_matrix = confusion_matrix(y_true, predicted_labels)\n",
    "#     # append to dictionary\n",
    "#     results_gene[\"confusion_matrix\"] = conf_matrix\n",
    "#     \n",
    "#     # Get gene name for the use for the dictionary\n",
    "#     gene = gene_df['gene'].unique()[0]\n",
    "#     # Append results to dictionary\n",
    "#     results[gene] = results_gene\n",
    "#     \n",
    "# ## Print results\n",
    "# print(\"Results of EVE predictions for each gene:\")\n",
    "# for gene in results:\n",
    "#     print(f\"{gene}: {results[gene]}\")"
   ],
   "metadata": {
    "collapsed": false,
    "ExecuteTime": {
     "end_time": "2023-11-22T16:20:23.135317300Z",
     "start_time": "2023-11-22T16:20:22.962713300Z"
    }
   },
   "id": "f799b7d2cd6a08da"
  },
  {
   "cell_type": "code",
   "execution_count": 56,
   "outputs": [],
   "source": [
    "# # present the confusion matrix for each gene\n",
    "# import matplotlib.pyplot as plt\n",
    "# \n",
    "# for gene in results:\n",
    "#     # Plot confusion matrix\n",
    "#     plt.imshow(results[gene][\"confusion_matrix\"], cmap=plt.cm.Blues)\n",
    "#     plt.xlabel(\"Predicted labels\")\n",
    "#     plt.ylabel(\"True labels\")\n",
    "#     plt.xticks([0, 1], [\"Benign\", \"Pathogenic\"])\n",
    "#     plt.yticks([0, 1], [\"Benign\", \"Pathogenic\"])\n",
    "#     plt.title(f\"Confusion matrix for {gene}, EVE predictions\")\n",
    "#     plt.style.use(\"seaborn-white\")\n",
    "#     # Add text annotations\n",
    "#     for i in range(2):\n",
    "#         for j in range(2):\n",
    "#             plt.text(j, i, results[gene][\"confusion_matrix\"][i, j], ha=\"center\", va=\"center\", color=\"black\", backgroundcolor=\"white\")\n",
    "#     plt.colorbar()\n",
    "#     plt.show()"
   ],
   "metadata": {
    "collapsed": false,
    "ExecuteTime": {
     "end_time": "2023-11-22T16:20:23.159276600Z",
     "start_time": "2023-11-22T16:20:22.978336800Z"
    }
   },
   "id": "f079a669b25f338e"
  },
  {
   "cell_type": "code",
   "execution_count": 57,
   "outputs": [],
   "source": [
    "# present the ROC curve for each gene\n",
    "# for gene in results:\n",
    "#     # Plot ROC curve\n",
    "#     plt.plot(fpr, tpr, color=\"darkorange\", lw=2, label=f\"ROC curve (area = {results[gene]['roc_auc']:.2f})\")\n",
    "#     plt.plot([0, 1], [0, 1], color=\"navy\", lw=2, linestyle=\"--\")\n",
    "#     plt.xlim([0.0, 1.0])\n",
    "#     plt.ylim([0.0, 1.05])\n",
    "#     plt.xlabel(\"False Positive Rate\")\n",
    "#     plt.ylabel(\"True Positive Rate\")\n",
    "#     plt.title(f\"ROC curve for {gene}, MutPred2 predictions\")\n",
    "#     plt.legend(loc=\"lower right\")\n",
    "#     plt.show()"
   ],
   "metadata": {
    "collapsed": false,
    "ExecuteTime": {
     "end_time": "2023-11-22T16:20:23.159276600Z",
     "start_time": "2023-11-22T16:20:22.993967300Z"
    }
   },
   "id": "593e79ee559d6f62"
  }
 ],
 "metadata": {
  "kernelspec": {
   "display_name": "Python 3",
   "language": "python",
   "name": "python3"
  },
  "language_info": {
   "codemirror_mode": {
    "name": "ipython",
    "version": 2
   },
   "file_extension": ".py",
   "mimetype": "text/x-python",
   "name": "python",
   "nbconvert_exporter": "python",
   "pygments_lexer": "ipython2",
   "version": "2.7.6"
  }
 },
 "nbformat": 4,
 "nbformat_minor": 5
}
