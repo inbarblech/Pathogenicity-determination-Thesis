{
 "cells": [
  {
   "cell_type": "raw",
   "source": [],
   "metadata": {
    "collapsed": false
   },
   "id": "daae3bd731bad53b"
  },
  {
   "cell_type": "code",
   "execution_count": 2,
   "outputs": [],
   "source": [
    "import pandas as pd\n"
   ],
   "metadata": {
    "collapsed": false,
    "ExecuteTime": {
     "end_time": "2024-04-08T12:58:15.124532800Z",
     "start_time": "2024-04-08T12:58:13.741797Z"
    }
   },
   "id": "initial_id"
  },
  {
   "cell_type": "code",
   "execution_count": 3,
   "outputs": [
    {
     "data": {
      "text/plain": "['SLC44A4',\n 'KCNE1',\n 'CISD2',\n 'TMEM126A',\n 'MET',\n 'KCNJ10',\n 'LHFPL5',\n 'KCNQ1',\n 'FGFR1',\n 'ILDR1',\n 'CHSY1',\n 'BCS1L',\n 'ANKH',\n 'OTOF',\n 'SLC33A1',\n 'P2RX2',\n 'TMC1',\n 'GJB2',\n 'KCNQ4',\n 'TMEM132E',\n 'KITLG',\n 'SLC26A4',\n 'SLC52A3',\n 'GJB3',\n 'FGFR3',\n 'WFS1',\n 'CACNA1D',\n 'FGFR2',\n 'SLC22A4',\n 'IFNLR1',\n 'SLC26A5',\n 'SLC17A8',\n 'OPA1',\n 'SLC19A2',\n 'ROR1',\n 'PCDH15',\n 'TMPRSS3',\n 'PEX26',\n 'CLDN14',\n 'GREB1L',\n 'ATP2B2',\n 'BSND',\n 'SLC52A2',\n 'CLRN1',\n 'LRTOMT',\n 'MARVELD2',\n 'S1PR2',\n 'ATP6V0A4',\n 'TMIE',\n 'PTPRQ',\n 'ABHD12',\n 'CLIC5',\n 'CD164',\n 'CLDN9',\n 'FITM2',\n 'DCAF17',\n 'ADCY1',\n 'SLITRK6',\n 'MPZL2',\n 'SYNE4',\n 'SPNS2',\n 'SLC4A11']"
     },
     "execution_count": 3,
     "metadata": {},
     "output_type": "execute_result"
    }
   ],
   "source": [
    "protein_type = \"globular_proteins\"\n",
    "genes_df = pd.read_csv(f\"C:\\\\Users\\\\InbarBlech\\\\PycharmProjects\\\\Thesis\\\\Data\\\\{protein_type}_data.csv\")\n",
    "genes_list = genes_df[\"gene\"].unique().tolist()\n",
    "genes_list"
   ],
   "metadata": {
    "collapsed": false,
    "ExecuteTime": {
     "end_time": "2024-04-08T12:58:15.939035700Z",
     "start_time": "2024-04-08T12:58:15.875711Z"
    }
   },
   "id": "322c56e5ea28c238"
  },
  {
   "cell_type": "code",
   "execution_count": 9,
   "outputs": [],
   "source": [
    "# Get AlphaMissense predictions for all genes in the list\n",
    "import csv\n",
    "from data_retrievel_and_feature_extraction import uniprot_info as uni\n",
    "\n",
    "# Create a dictionary of gene names and uniprot ids\n",
    "gene_uniprot_dict = {}\n",
    "for gene in genes_list:\n",
    "    uniprot_id = uni.get_uniprot_id(gene)\n",
    "    gene_uniprot_dict[gene] = uniprot_id\n",
    "# Create a csv file with the gene names and uniprot ids\n",
    "with open(f\"C:\\\\Users\\\\InbarBlech\\\\PycharmProjects\\\\Thesis\\\\Data\\\\gene_uniprot_list_{protein_type}.csv\", 'w', newline='') as file:\n",
    "    writer = csv.writer(file)\n",
    "    writer.writerow([\"gene\", \"uniprot_id\"])\n",
    "    for key, value in gene_uniprot_dict.items():\n",
    "        writer.writerow([key, value])\n",
    "\n",
    "# # get uniprot_ids from the file in the data folder\n",
    "# uniprot_ids_df = pd.read_csv(f\"C:\\\\Users\\\\InbarBlech\\\\PycharmProjects\\\\Thesis\\\\Data\\\\gene_uniprot_list_{protein_type}.csv\")\n",
    "# uniprot_ids = uniprot_ids_df[\"uniprot_id\"].tolist()"
   ],
   "metadata": {
    "collapsed": false,
    "ExecuteTime": {
     "end_time": "2024-04-08T14:07:47.002611900Z",
     "start_time": "2024-04-08T14:07:24.041033600Z"
    }
   },
   "id": "46b012214d038cee"
  },
  {
   "cell_type": "code",
   "execution_count": 10,
   "outputs": [
    {
     "data": {
      "text/plain": "          uniprot_id protein_variant  am_pathogenicity    am_class\n10801387      O00400             M1A            0.5207   ambiguous\n10801388      O00400             M1C            0.3580   ambiguous\n10801389      O00400             M1D            0.9273  pathogenic\n10801390      O00400             M1E            0.8093  pathogenic\n10801391      O00400             M1F            0.2116      benign\n...              ...             ...               ...         ...\n208740456     Q9Y276           R419S            0.1633      benign\n208740457     Q9Y276           R419T            0.1120      benign\n208740458     Q9Y276           R419V            0.1726      benign\n208740459     Q9Y276           R419W            0.1391      benign\n208740460     Q9Y276           R419Y            0.2100      benign\n\n[790590 rows x 4 columns]",
      "text/html": "<div>\n<style scoped>\n    .dataframe tbody tr th:only-of-type {\n        vertical-align: middle;\n    }\n\n    .dataframe tbody tr th {\n        vertical-align: top;\n    }\n\n    .dataframe thead th {\n        text-align: right;\n    }\n</style>\n<table border=\"1\" class=\"dataframe\">\n  <thead>\n    <tr style=\"text-align: right;\">\n      <th></th>\n      <th>uniprot_id</th>\n      <th>protein_variant</th>\n      <th>am_pathogenicity</th>\n      <th>am_class</th>\n    </tr>\n  </thead>\n  <tbody>\n    <tr>\n      <th>10801387</th>\n      <td>O00400</td>\n      <td>M1A</td>\n      <td>0.5207</td>\n      <td>ambiguous</td>\n    </tr>\n    <tr>\n      <th>10801388</th>\n      <td>O00400</td>\n      <td>M1C</td>\n      <td>0.3580</td>\n      <td>ambiguous</td>\n    </tr>\n    <tr>\n      <th>10801389</th>\n      <td>O00400</td>\n      <td>M1D</td>\n      <td>0.9273</td>\n      <td>pathogenic</td>\n    </tr>\n    <tr>\n      <th>10801390</th>\n      <td>O00400</td>\n      <td>M1E</td>\n      <td>0.8093</td>\n      <td>pathogenic</td>\n    </tr>\n    <tr>\n      <th>10801391</th>\n      <td>O00400</td>\n      <td>M1F</td>\n      <td>0.2116</td>\n      <td>benign</td>\n    </tr>\n    <tr>\n      <th>...</th>\n      <td>...</td>\n      <td>...</td>\n      <td>...</td>\n      <td>...</td>\n    </tr>\n    <tr>\n      <th>208740456</th>\n      <td>Q9Y276</td>\n      <td>R419S</td>\n      <td>0.1633</td>\n      <td>benign</td>\n    </tr>\n    <tr>\n      <th>208740457</th>\n      <td>Q9Y276</td>\n      <td>R419T</td>\n      <td>0.1120</td>\n      <td>benign</td>\n    </tr>\n    <tr>\n      <th>208740458</th>\n      <td>Q9Y276</td>\n      <td>R419V</td>\n      <td>0.1726</td>\n      <td>benign</td>\n    </tr>\n    <tr>\n      <th>208740459</th>\n      <td>Q9Y276</td>\n      <td>R419W</td>\n      <td>0.1391</td>\n      <td>benign</td>\n    </tr>\n    <tr>\n      <th>208740460</th>\n      <td>Q9Y276</td>\n      <td>R419Y</td>\n      <td>0.2100</td>\n      <td>benign</td>\n    </tr>\n  </tbody>\n</table>\n<p>790590 rows × 4 columns</p>\n</div>"
     },
     "execution_count": 10,
     "metadata": {},
     "output_type": "execute_result"
    }
   ],
   "source": [
    "# Read the file and remove genes that are not in the list\n",
    "tsv_file_path = 'C:\\\\Users\\\\InbarBlech\\\\PycharmProjects\\\\Thesis\\\\benchmarking\\\\AlphaMissense\\\\AlphaMissense_aa_substitutions.tsv'\n",
    "csv_file_path = f'C:\\\\Users\\\\InbarBlech\\\\PycharmProjects\\\\Thesis\\\\benchmarking\\\\protein_type_predictors\\\\am_genes_in_{protein_type}.csv'\n",
    "\n",
    "uniprot_ids = gene_uniprot_dict.values()\n",
    "\n",
    "# convert the tsv file to dataframe\n",
    "am_df = pd.read_csv(tsv_file_path, sep='\\t')\n",
    "# write a new dataframe with only the genes in the uniprot_ids list\n",
    "am_df = am_df[am_df['uniprot_id'].isin(uniprot_ids)]\n",
    "am_df\n",
    "    "
   ],
   "metadata": {
    "collapsed": false,
    "ExecuteTime": {
     "end_time": "2024-04-08T14:15:32.579594100Z",
     "start_time": "2024-04-08T14:10:15.234712900Z"
    }
   },
   "id": "78ecb7674973abce"
  },
  {
   "cell_type": "code",
   "execution_count": 4,
   "outputs": [
    {
     "data": {
      "text/plain": "          gene variant  prediction  reality\n0       POLR1D   L111P           1        1\n1       POLR1D    T50I           1        1\n2       POLR1D    L55V           1        1\n3       POLR1D    G99S           1        1\n4       POLR1D    C68W           1        1\n...        ...     ...         ...      ...\n2306  SERPINB6   V346I           0        0\n2307  SERPINB6   G153S           1        0\n2308  SERPINB6    M90V           1        0\n2309      BDP1   V275I           0        0\n2310       MGP     A8V           1        0\n\n[2311 rows x 4 columns]",
      "text/html": "<div>\n<style scoped>\n    .dataframe tbody tr th:only-of-type {\n        vertical-align: middle;\n    }\n\n    .dataframe tbody tr th {\n        vertical-align: top;\n    }\n\n    .dataframe thead th {\n        text-align: right;\n    }\n</style>\n<table border=\"1\" class=\"dataframe\">\n  <thead>\n    <tr style=\"text-align: right;\">\n      <th></th>\n      <th>gene</th>\n      <th>variant</th>\n      <th>prediction</th>\n      <th>reality</th>\n    </tr>\n  </thead>\n  <tbody>\n    <tr>\n      <th>0</th>\n      <td>POLR1D</td>\n      <td>L111P</td>\n      <td>1</td>\n      <td>1</td>\n    </tr>\n    <tr>\n      <th>1</th>\n      <td>POLR1D</td>\n      <td>T50I</td>\n      <td>1</td>\n      <td>1</td>\n    </tr>\n    <tr>\n      <th>2</th>\n      <td>POLR1D</td>\n      <td>L55V</td>\n      <td>1</td>\n      <td>1</td>\n    </tr>\n    <tr>\n      <th>3</th>\n      <td>POLR1D</td>\n      <td>G99S</td>\n      <td>1</td>\n      <td>1</td>\n    </tr>\n    <tr>\n      <th>4</th>\n      <td>POLR1D</td>\n      <td>C68W</td>\n      <td>1</td>\n      <td>1</td>\n    </tr>\n    <tr>\n      <th>...</th>\n      <td>...</td>\n      <td>...</td>\n      <td>...</td>\n      <td>...</td>\n    </tr>\n    <tr>\n      <th>2306</th>\n      <td>SERPINB6</td>\n      <td>V346I</td>\n      <td>0</td>\n      <td>0</td>\n    </tr>\n    <tr>\n      <th>2307</th>\n      <td>SERPINB6</td>\n      <td>G153S</td>\n      <td>1</td>\n      <td>0</td>\n    </tr>\n    <tr>\n      <th>2308</th>\n      <td>SERPINB6</td>\n      <td>M90V</td>\n      <td>1</td>\n      <td>0</td>\n    </tr>\n    <tr>\n      <th>2309</th>\n      <td>BDP1</td>\n      <td>V275I</td>\n      <td>0</td>\n      <td>0</td>\n    </tr>\n    <tr>\n      <th>2310</th>\n      <td>MGP</td>\n      <td>A8V</td>\n      <td>1</td>\n      <td>0</td>\n    </tr>\n  </tbody>\n</table>\n<p>2311 rows × 4 columns</p>\n</div>"
     },
     "execution_count": 4,
     "metadata": {},
     "output_type": "execute_result"
    }
   ],
   "source": [
    "# Combine the prediction files into one file\n",
    "my_prediction = pd.read_csv(f\"C:\\\\Users\\\\InbarBlech\\\\PycharmProjects\\\\Thesis\\\\predictions_vs_real\\\\{protein_type}\\\\predictions_vs_real_{protein_type}.csv\")\n",
    "my_prediction"
   ],
   "metadata": {
    "collapsed": false,
    "ExecuteTime": {
     "end_time": "2024-04-08T11:37:48.150990900Z",
     "start_time": "2024-04-08T11:37:48.079555800Z"
    }
   },
   "id": "dae07953cecae426"
  },
  {
   "cell_type": "code",
   "execution_count": null,
   "outputs": [],
   "source": [
    "# Build a dataframe with all the predictions from AlphaMissense, for all genes in list genes.\n",
    "am_predictions = pd.DataFrame()\n",
    "for gene in genes_list:\n",
    "    gene_predictions = pd.read_csv(f\"C:\\\\Users\\\\InbarBlech\\\\PycharmProjects\\\\Thesis\\\\benchmarking\\\\AlphaMissense\\\\am_predictions_per_gene\\\\am_predictions_{gene}.csv\")\n",
    "    am_predictions = pd.concat([am_predictions, gene_predictions])\n",
    "am_predictions"
   ],
   "metadata": {
    "collapsed": false
   },
   "id": "9d0bfb88ebdc04d6"
  },
  {
   "cell_type": "code",
   "execution_count": null,
   "outputs": [],
   "source": [
    "# Change column names to match the other file\n",
    "am_predictions = am_predictions.rename(columns={\"protein_variant\": \"variant\"})"
   ],
   "metadata": {
    "collapsed": false
   },
   "id": "a4efc8cee93e9f7"
  },
  {
   "cell_type": "code",
   "execution_count": null,
   "outputs": [],
   "source": [
    "# print all rows with Nan in AM score\n",
    "am_vus = am_predictions[am_predictions['am_class'] == \"ambiguous\"]"
   ],
   "metadata": {
    "collapsed": false
   },
   "id": "d6e172f9fe4db5ea"
  },
  {
   "cell_type": "code",
   "execution_count": null,
   "outputs": [],
   "source": [
    "# Delete all rows with ambiguous in AF score\n",
    "am_predictions = am_predictions[~(am_predictions['am_class'] == \"ambiguous\")]\n",
    "am_predictions"
   ],
   "metadata": {
    "collapsed": false
   },
   "id": "a774dcb20a2c764c"
  },
  {
   "cell_type": "code",
   "execution_count": null,
   "outputs": [],
   "source": [
    "# Make \"benign\" and \"pathogenic\" to 0 and 1\n",
    "am_predictions.loc[am_predictions['am_class'] == \"benign\", 'am_class'] = 0\n",
    "am_predictions.loc[am_predictions['am_class'] == \"pathogenic\", 'am_class'] = 1"
   ],
   "metadata": {
    "collapsed": false
   },
   "id": "f2a1b6baa95f71e9"
  },
  {
   "cell_type": "code",
   "execution_count": null,
   "outputs": [],
   "source": [
    "# print how many pathogenic and benign variants are in the EVE file\n",
    "print(f\"Number of pathogenic variants in am: {len(am_predictions[am_predictions['am_class'] == 1])}\")\n",
    "print(f\"Number of benign variants in am: {len(am_predictions[am_predictions['am_class'] == 0])}\")"
   ],
   "metadata": {
    "collapsed": false
   },
   "id": "ec408a732fc6b469"
  },
  {
   "cell_type": "code",
   "execution_count": null,
   "outputs": [],
   "source": [
    "# Merge the two files\n",
    "merged = pd.merge(my_prediction, am_predictions, on=[\"gene\", \"variant\"])\n",
    "merged\n"
   ],
   "metadata": {
    "collapsed": false
   },
   "id": "dffcacfbb6cf2437"
  },
  {
   "cell_type": "code",
   "execution_count": null,
   "outputs": [],
   "source": [
    "# To make sure that all tools will be tested on the same variants, save the merged with REVEL file and do so for all other tools. Then merge all the files together.\n",
    "merged_only_am_columns = merged[['gene', 'variant', 'am_pathogenicity', 'am_class']]\n",
    "merged.to_csv(\"C:\\\\Users\\\\InbarBlech\\\\PycharmProjects\\\\Thesis\\\\benchmarking\\\\alphamissense_on_dvd_data_predictions_LOPO.csv\")"
   ],
   "metadata": {
    "collapsed": false
   },
   "id": "83c682b0aac2f9ed"
  },
  {
   "cell_type": "code",
   "execution_count": null,
   "outputs": [],
   "source": [
    "print(f\"length of merged {len(merged)}\")\n",
    "print(f\"length of my_prediction {len(my_prediction)}\")\n",
    "print(f\"length of alpha_missense {len(am_predictions)}\")"
   ],
   "metadata": {
    "collapsed": false
   },
   "id": "132eb6a57eb26b7a"
  },
  {
   "cell_type": "code",
   "execution_count": null,
   "outputs": [],
   "source": [],
   "metadata": {
    "collapsed": false
   },
   "id": "614e91d0db6e74bc"
  },
  {
   "cell_type": "code",
   "execution_count": null,
   "outputs": [],
   "source": [
    "#############################################################################################################\n",
    "# All next rows were used to calculate the MCC, before realised I must apply first the threshold and remove the VUS variants. Now all these rows aren't in use, since I'm doing the calculations after removing the VUS variants and with all tools together.\n",
    "#############################################################################################################"
   ],
   "metadata": {
    "collapsed": false
   },
   "id": "4db6be964fff455a"
  },
  {
   "cell_type": "code",
   "execution_count": null,
   "outputs": [],
   "source": [
    "# ## Calculate the MCC for the mutpred predictions, according to the real pathogenicity (0 or 1)\n",
    "# from sklearn.metrics import matthews_corrcoef"
   ],
   "metadata": {
    "collapsed": false
   },
   "id": "57a3d8604bb08730"
  },
  {
   "cell_type": "code",
   "execution_count": null,
   "outputs": [],
   "source": [
    "# # separate the merged dataframe according to gene\n",
    "# genes = merged[\"gene\"].unique()\n",
    "# print(f\"Number of genes: {len(genes)}\")"
   ],
   "metadata": {
    "collapsed": false
   },
   "id": "82b8979a837034b9"
  },
  {
   "cell_type": "code",
   "execution_count": null,
   "outputs": [],
   "source": [
    "# # Calculate MCC for each gene specific predictor for EVE\n",
    "# genes = merged_without_nan[\"gene\"].unique()\n",
    "# print(genes)\n",
    "# \n",
    "# ### EVE ####\n",
    "# # Build dictionary with gene names as keys.\n",
    "# mccs = {gene: 0 for gene in genes}\n",
    "# \n",
    "# for gene in genes:\n",
    "#     gene_df = merged_without_nan[merged_without_nan[\"gene\"] == gene]\n",
    "#     # Assuming you have a DataFrame called 'data' with 'prediction' and 'MutPred_score' columns\n",
    "#     gene_df['EVE_scores_ASM'] = gene_df['EVE_scores_ASM'].astype(float)\n",
    "#     # Create binary predictions based on the 0.5 threshold\n",
    "#     gene_df.loc[:, 'binary_prediction_EVE'] = (gene_df['EVE_scores_ASM'] > 0.5).astype(int)\n",
    "# \n",
    "#     gene_df['predictions'] = gene_df['predictions'].astype(int)\n",
    "# \n",
    "#     # Calculate MCC\n",
    "#     mcc = matthews_corrcoef(gene_df['predictions'], gene_df['binary_prediction_EVE'])\n",
    "# \n",
    "#     # Get gene name for the use for the dictionary\n",
    "#     gene = gene_df['gene'].unique()[0]\n",
    "# \n",
    "#     # Append mcc to dictionary\n",
    "#     mccs[gene] = mcc\n",
    "# \n",
    "# print(\"MCCs of EVE predictions for each gene:\")\n",
    "# for gene in mccs:\n",
    "#     print(f\"{gene}: {mccs[gene]}\")"
   ],
   "metadata": {
    "collapsed": false
   },
   "id": "e534a510288960cb"
  },
  {
   "cell_type": "code",
   "execution_count": null,
   "outputs": [],
   "source": [
    "# from sklearn.metrics import roc_auc_score, roc_curve, auc, precision_recall_curve, average_precision_score, f1_score, log_loss, confusion_matrix\n",
    "# # store the results in a dictionary\n",
    "# results = {gene: 0 for gene in genes}\n",
    "# \n",
    "# for gene in genes:\n",
    "#     gene_df = merged_without_nan[merged_without_nan[\"gene\"] == gene]\n",
    "#     gene_df['EVE_scores_ASM'] = gene_df['EVE_scores_ASM'].astype(float)\n",
    "#     y_true = gene_df[\"pathogenicity\"].astype(int)\n",
    "#     predicted_probabilities = gene_df[\"EVE_scores_ASM\"]\n",
    "#     gene_df.loc[:, 'binary_prediction_EVE'] = (gene_df['EVE_scores_ASM'] > 0.5).astype(int)\n",
    "#     predicted_labels = gene_df[\"binary_prediction_EVE\"]\n",
    "#     \n",
    "#     results_gene = {}\n",
    "#     # Calculate AUC-ROC\n",
    "#     roc_auc = roc_auc_score(y_true, predicted_probabilities)\n",
    "#     # append to dictionary\n",
    "#     results_gene[\"roc_auc\"] = roc_auc\n",
    "#     \n",
    "#     # Calculate ROC curve\n",
    "#     fpr, tpr, thresholds = roc_curve(y_true, predicted_probabilities)\n",
    "#     roc_auc = auc(fpr, tpr)\n",
    "#     # append to dictionary\n",
    "#     results_gene[\"auc\"] = roc_auc\n",
    "#     \n",
    "#     # Calculate AUC-PR\n",
    "#     precision, recall, _ = precision_recall_curve(y_true, predicted_probabilities)\n",
    "#     pr_auc = auc(recall, precision)\n",
    "#     # append to dictionary\n",
    "#     results_gene[\"pr_auc\"] = pr_auc\n",
    "#     \n",
    "#     # Calculate F1 Score\n",
    "#     f1 = f1_score(y_true, predicted_labels)\n",
    "#     # append to dictionary\n",
    "#     results_gene[\"f1\"] = f1\n",
    "#     \n",
    "#     # Calculate Log Loss\n",
    "#     logloss = log_loss(y_true, predicted_probabilities)\n",
    "#     # append to dictionary\n",
    "#     results_gene[\"logloss\"] = logloss\n",
    "#     \n",
    "#     # Calculate confusion matrix\n",
    "#     conf_matrix = confusion_matrix(y_true, predicted_labels)\n",
    "#     # append to dictionary\n",
    "#     results_gene[\"confusion_matrix\"] = conf_matrix\n",
    "#     \n",
    "#     # Get gene name for the use for the dictionary\n",
    "#     gene = gene_df['gene'].unique()[0]\n",
    "#     # Append results to dictionary\n",
    "#     results[gene] = results_gene\n",
    "#     \n",
    "# ## Print results\n",
    "# print(\"Results of EVE predictions for each gene:\")\n",
    "# for gene in results:\n",
    "#     print(f\"{gene}: {results[gene]}\")"
   ],
   "metadata": {
    "collapsed": false
   },
   "id": "f799b7d2cd6a08da"
  },
  {
   "cell_type": "code",
   "execution_count": null,
   "outputs": [],
   "source": [
    "# # present the confusion matrix for each gene\n",
    "# import matplotlib.pyplot as plt\n",
    "# \n",
    "# for gene in results:\n",
    "#     # Plot confusion matrix\n",
    "#     plt.imshow(results[gene][\"confusion_matrix\"], cmap=plt.cm.Blues)\n",
    "#     plt.xlabel(\"Predicted labels\")\n",
    "#     plt.ylabel(\"True labels\")\n",
    "#     plt.xticks([0, 1], [\"Benign\", \"Pathogenic\"])\n",
    "#     plt.yticks([0, 1], [\"Benign\", \"Pathogenic\"])\n",
    "#     plt.title(f\"Confusion matrix for {gene}, EVE predictions\")\n",
    "#     plt.style.use(\"seaborn-white\")\n",
    "#     # Add text annotations\n",
    "#     for i in range(2):\n",
    "#         for j in range(2):\n",
    "#             plt.text(j, i, results[gene][\"confusion_matrix\"][i, j], ha=\"center\", va=\"center\", color=\"black\", backgroundcolor=\"white\")\n",
    "#     plt.colorbar()\n",
    "#     plt.show()"
   ],
   "metadata": {
    "collapsed": false
   },
   "id": "f079a669b25f338e"
  },
  {
   "cell_type": "code",
   "execution_count": null,
   "outputs": [],
   "source": [
    "# present the ROC curve for each gene\n",
    "# for gene in results:\n",
    "#     # Plot ROC curve\n",
    "#     plt.plot(fpr, tpr, color=\"darkorange\", lw=2, label=f\"ROC curve (area = {results[gene]['roc_auc']:.2f})\")\n",
    "#     plt.plot([0, 1], [0, 1], color=\"navy\", lw=2, linestyle=\"--\")\n",
    "#     plt.xlim([0.0, 1.0])\n",
    "#     plt.ylim([0.0, 1.05])\n",
    "#     plt.xlabel(\"False Positive Rate\")\n",
    "#     plt.ylabel(\"True Positive Rate\")\n",
    "#     plt.title(f\"ROC curve for {gene}, MutPred2 predictions\")\n",
    "#     plt.legend(loc=\"lower right\")\n",
    "#     plt.show()"
   ],
   "metadata": {
    "collapsed": false
   },
   "id": "593e79ee559d6f62"
  }
 ],
 "metadata": {
  "kernelspec": {
   "display_name": "Python 3",
   "language": "python",
   "name": "python3"
  },
  "language_info": {
   "codemirror_mode": {
    "name": "ipython",
    "version": 2
   },
   "file_extension": ".py",
   "mimetype": "text/x-python",
   "name": "python",
   "nbconvert_exporter": "python",
   "pygments_lexer": "ipython2",
   "version": "2.7.6"
  }
 },
 "nbformat": 4,
 "nbformat_minor": 5
}
