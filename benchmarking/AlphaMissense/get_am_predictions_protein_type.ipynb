{
 "cells": [
  {
   "cell_type": "raw",
   "source": [],
   "metadata": {
    "collapsed": false
   },
   "id": "daae3bd731bad53b"
  },
  {
   "cell_type": "code",
   "execution_count": 1,
   "outputs": [],
   "source": [
    "import pandas as pd\n",
    "from data_retrievel_and_feature_extraction import uniprot_info as uni\n"
   ],
   "metadata": {
    "collapsed": false,
    "ExecuteTime": {
     "end_time": "2024-04-18T13:33:25.516260200Z",
     "start_time": "2024-04-18T13:33:25.343751400Z"
    }
   },
   "id": "initial_id"
  },
  {
   "cell_type": "code",
   "execution_count": 4,
   "outputs": [
    {
     "name": "stderr",
     "output_type": "stream",
     "text": [
      "\n",
      "KeyboardInterrupt\n",
      "\n"
     ]
    }
   ],
   "source": [
    "##### Run this cell next after finishing with REVEL extraction.\n",
    "\n",
    "# Read the file\n",
    "am_df = pd.read_csv('C:\\\\Users\\\\InbarBlech\\\\PycharmProjects\\\\Thesis\\\\benchmarking\\\\AlphaMissense\\\\AlphaMissense_aa_substitutions.tsv', sep='\\t')\n",
    "# Read the predictions file\n",
    "predictions = pd.read_csv('C:\\\\Users\\\\InbarBlech\\\\PycharmProjects\\\\Thesis\\\\benchmarking\\\\predictions_of_other_tools_for_all_dvd_variants.csv')\n",
    "\n",
    "# For each row in the predictions file, get the alpha missense prediction from the am_df\n",
    "for index, row in predictions.iterrows():\n",
    "    uniprot_id = row['uniprot_id']\n",
    "    variant = row['variant']\n",
    "    # get the pathogenicity prediction of alphamissense for the variant\n",
    "    am_class = am_df[(am_df['uniprot_id'] == uniprot_id) & (am_df['protein_variant'] == variant)]['am_class'].values\n",
    "    am_pathogenicity = am_df[(am_df['uniprot_id'] == uniprot_id) & (am_df['protein_variant'] == variant)]['am_pathogenicity'].values\n",
    "    # Add the score and prediction to the predictions file\n",
    "    predictions.loc[index, 'am_class'] = am_class\n",
    "    predictions.loc[index, 'am_pathogenicity'] = am_pathogenicity\n",
    "    \n",
    "# print the predictions file with the added columns\n",
    "predictions\n",
    "    "
   ],
   "metadata": {
    "collapsed": false,
    "ExecuteTime": {
     "end_time": "2024-04-18T14:27:59.459462300Z",
     "start_time": "2024-04-18T13:59:23.997364400Z"
    }
   },
   "id": "58a9b0e60c006478"
  },
  {
   "cell_type": "code",
   "execution_count": 29,
   "outputs": [
    {
     "data": {
      "text/plain": "['COL11A1',\n 'COL4A3',\n 'COL9A3',\n 'COL11A2',\n 'COL4A5',\n 'COL2A1',\n 'COL4A4',\n 'COL9A1',\n 'COL9A2',\n 'COL4A6']"
     },
     "execution_count": 29,
     "metadata": {},
     "output_type": "execute_result"
    }
   ],
   "source": [
    "protein_type = \"collagens_proteins\"\n",
    "genes_df = pd.read_csv(f\"C:\\\\Users\\\\InbarBlech\\\\PycharmProjects\\\\Thesis\\\\Data\\\\{protein_type}_data.csv\")\n",
    "genes_list = genes_df[\"gene\"].unique().tolist()\n",
    "genes_list"
   ],
   "metadata": {
    "collapsed": false,
    "ExecuteTime": {
     "end_time": "2024-04-08T14:55:43.419018Z",
     "start_time": "2024-04-08T14:55:43.387737600Z"
    }
   },
   "id": "322c56e5ea28c238"
  },
  {
   "cell_type": "code",
   "execution_count": 31,
   "outputs": [],
   "source": [
    "# Get AlphaMissense predictions for all genes in the list\n",
    "import csv\n",
    "from data_retrievel_and_feature_extraction import uniprot_info as uni\n",
    "\n",
    "\n",
    "# In the next two parts, it's either running the first part to get the gene_uniprot_dict, or the second part to read it from an existing csv file.\n",
    "\n",
    "## Create a dictionary of gene names and uniprot ids, when doesn't exist\n",
    "gene_uniprot_dict = {}\n",
    "for gene in genes_list:\n",
    "    uniprot_id = uni.get_uniprot_id(gene)\n",
    "    gene_uniprot_dict[gene] = uniprot_id\n",
    "# Create a csv file with the gene names and uniprot ids\n",
    "with open(f\"C:\\\\Users\\\\InbarBlech\\\\PycharmProjects\\\\Thesis\\\\Data\\\\gene_uniprot_list_{protein_type}.csv\", 'w', newline='') as file:\n",
    "    writer = csv.writer(file)\n",
    "    writer.writerow([\"gene\", \"uniprot_id\"])\n",
    "    for key, value in gene_uniprot_dict.items():\n",
    "        writer.writerow([key, value])\n",
    "\n",
    "# get gene_uniprot_dict from the csv file, if already exists\n",
    "# gene_uniprot_dict = {}\n",
    "# with open(f\"C:\\\\Users\\\\InbarBlech\\\\PycharmProjects\\\\Thesis\\\\Data\\\\gene_uniprot_list_{protein_type}.csv\", 'r') as file:\n",
    "#     reader = csv.reader(file)\n",
    "#     next(reader)\n",
    "#     for row in reader:\n",
    "#         gene_uniprot_dict[row[0]] = row[1]"
   ],
   "metadata": {
    "collapsed": false,
    "ExecuteTime": {
     "end_time": "2024-04-08T14:56:18.342687300Z",
     "start_time": "2024-04-08T14:56:14.435137900Z"
    }
   },
   "id": "46b012214d038cee"
  },
  {
   "cell_type": "code",
   "execution_count": 33,
   "outputs": [
    {
     "data": {
      "text/plain": "         uniprot_id protein_variant  am_pathogenicity    am_class\n32295346     P02458             M1A            0.1694      benign\n32295347     P02458             M1C            0.1616      benign\n32295348     P02458             M1D            0.6195  pathogenic\n32295349     P02458             M1E            0.3755   ambiguous\n32295350     P02458             M1F            0.1309      benign\n...             ...             ...               ...         ...\n79238071     Q14055           P689S            0.1625      benign\n79238072     Q14055           P689T            0.1523      benign\n79238073     Q14055           P689V            0.2259      benign\n79238074     Q14055           P689W            0.6077  pathogenic\n79238075     Q14055           P689Y            0.4567   ambiguous\n\n[267140 rows x 4 columns]",
      "text/html": "<div>\n<style scoped>\n    .dataframe tbody tr th:only-of-type {\n        vertical-align: middle;\n    }\n\n    .dataframe tbody tr th {\n        vertical-align: top;\n    }\n\n    .dataframe thead th {\n        text-align: right;\n    }\n</style>\n<table border=\"1\" class=\"dataframe\">\n  <thead>\n    <tr style=\"text-align: right;\">\n      <th></th>\n      <th>uniprot_id</th>\n      <th>protein_variant</th>\n      <th>am_pathogenicity</th>\n      <th>am_class</th>\n    </tr>\n  </thead>\n  <tbody>\n    <tr>\n      <th>32295346</th>\n      <td>P02458</td>\n      <td>M1A</td>\n      <td>0.1694</td>\n      <td>benign</td>\n    </tr>\n    <tr>\n      <th>32295347</th>\n      <td>P02458</td>\n      <td>M1C</td>\n      <td>0.1616</td>\n      <td>benign</td>\n    </tr>\n    <tr>\n      <th>32295348</th>\n      <td>P02458</td>\n      <td>M1D</td>\n      <td>0.6195</td>\n      <td>pathogenic</td>\n    </tr>\n    <tr>\n      <th>32295349</th>\n      <td>P02458</td>\n      <td>M1E</td>\n      <td>0.3755</td>\n      <td>ambiguous</td>\n    </tr>\n    <tr>\n      <th>32295350</th>\n      <td>P02458</td>\n      <td>M1F</td>\n      <td>0.1309</td>\n      <td>benign</td>\n    </tr>\n    <tr>\n      <th>...</th>\n      <td>...</td>\n      <td>...</td>\n      <td>...</td>\n      <td>...</td>\n    </tr>\n    <tr>\n      <th>79238071</th>\n      <td>Q14055</td>\n      <td>P689S</td>\n      <td>0.1625</td>\n      <td>benign</td>\n    </tr>\n    <tr>\n      <th>79238072</th>\n      <td>Q14055</td>\n      <td>P689T</td>\n      <td>0.1523</td>\n      <td>benign</td>\n    </tr>\n    <tr>\n      <th>79238073</th>\n      <td>Q14055</td>\n      <td>P689V</td>\n      <td>0.2259</td>\n      <td>benign</td>\n    </tr>\n    <tr>\n      <th>79238074</th>\n      <td>Q14055</td>\n      <td>P689W</td>\n      <td>0.6077</td>\n      <td>pathogenic</td>\n    </tr>\n    <tr>\n      <th>79238075</th>\n      <td>Q14055</td>\n      <td>P689Y</td>\n      <td>0.4567</td>\n      <td>ambiguous</td>\n    </tr>\n  </tbody>\n</table>\n<p>267140 rows × 4 columns</p>\n</div>"
     },
     "execution_count": 33,
     "metadata": {},
     "output_type": "execute_result"
    }
   ],
   "source": [
    "# Read the file and remove genes that are not in the list\n",
    "tsv_file_path = 'C:\\\\Users\\\\InbarBlech\\\\PycharmProjects\\\\Thesis\\\\benchmarking\\\\AlphaMissense\\\\AlphaMissense_aa_substitutions.tsv'\n",
    "\n",
    "uniprot_ids = gene_uniprot_dict.values()\n",
    "\n",
    "# convert the tsv file to dataframe\n",
    "am_df = pd.read_csv(tsv_file_path, sep='\\t')\n",
    "# write a new dataframe with only the genes in the uniprot_ids list\n",
    "am_df = am_df[am_df['uniprot_id'].isin(uniprot_ids)]\n",
    "am_df\n",
    "    "
   ],
   "metadata": {
    "collapsed": false,
    "ExecuteTime": {
     "end_time": "2024-04-08T15:04:51.004361800Z",
     "start_time": "2024-04-08T15:00:53.390666700Z"
    }
   },
   "id": "78ecb7674973abce"
  },
  {
   "cell_type": "code",
   "execution_count": 34,
   "outputs": [
    {
     "data": {
      "text/plain": "         gene variant  prediction  reality\n0     COL11A1  G1249V           1        1\n1     COL11A1  G1516V           1        1\n2     COL11A1  R1733C           1        1\n3     COL11A1  G1800C           1        1\n4     COL11A1  R1076C           1        1\n...       ...     ...         ...      ...\n1091   COL9A2    G30R           1        0\n1092   COL9A2   A336E           1        0\n1093   COL9A2   L335V           0        0\n1094   COL9A2    R32Q           0        0\n1095   COL4A6   N980I           1        0\n\n[1096 rows x 4 columns]",
      "text/html": "<div>\n<style scoped>\n    .dataframe tbody tr th:only-of-type {\n        vertical-align: middle;\n    }\n\n    .dataframe tbody tr th {\n        vertical-align: top;\n    }\n\n    .dataframe thead th {\n        text-align: right;\n    }\n</style>\n<table border=\"1\" class=\"dataframe\">\n  <thead>\n    <tr style=\"text-align: right;\">\n      <th></th>\n      <th>gene</th>\n      <th>variant</th>\n      <th>prediction</th>\n      <th>reality</th>\n    </tr>\n  </thead>\n  <tbody>\n    <tr>\n      <th>0</th>\n      <td>COL11A1</td>\n      <td>G1249V</td>\n      <td>1</td>\n      <td>1</td>\n    </tr>\n    <tr>\n      <th>1</th>\n      <td>COL11A1</td>\n      <td>G1516V</td>\n      <td>1</td>\n      <td>1</td>\n    </tr>\n    <tr>\n      <th>2</th>\n      <td>COL11A1</td>\n      <td>R1733C</td>\n      <td>1</td>\n      <td>1</td>\n    </tr>\n    <tr>\n      <th>3</th>\n      <td>COL11A1</td>\n      <td>G1800C</td>\n      <td>1</td>\n      <td>1</td>\n    </tr>\n    <tr>\n      <th>4</th>\n      <td>COL11A1</td>\n      <td>R1076C</td>\n      <td>1</td>\n      <td>1</td>\n    </tr>\n    <tr>\n      <th>...</th>\n      <td>...</td>\n      <td>...</td>\n      <td>...</td>\n      <td>...</td>\n    </tr>\n    <tr>\n      <th>1091</th>\n      <td>COL9A2</td>\n      <td>G30R</td>\n      <td>1</td>\n      <td>0</td>\n    </tr>\n    <tr>\n      <th>1092</th>\n      <td>COL9A2</td>\n      <td>A336E</td>\n      <td>1</td>\n      <td>0</td>\n    </tr>\n    <tr>\n      <th>1093</th>\n      <td>COL9A2</td>\n      <td>L335V</td>\n      <td>0</td>\n      <td>0</td>\n    </tr>\n    <tr>\n      <th>1094</th>\n      <td>COL9A2</td>\n      <td>R32Q</td>\n      <td>0</td>\n      <td>0</td>\n    </tr>\n    <tr>\n      <th>1095</th>\n      <td>COL4A6</td>\n      <td>N980I</td>\n      <td>1</td>\n      <td>0</td>\n    </tr>\n  </tbody>\n</table>\n<p>1096 rows × 4 columns</p>\n</div>"
     },
     "execution_count": 34,
     "metadata": {},
     "output_type": "execute_result"
    }
   ],
   "source": [
    "# Read the predictions file\n",
    "if protein_type == \"transmembrane_proteins\":\n",
    "    protein_type = \"transmembrane_residues\"\n",
    "my_prediction = pd.read_csv(f\"C:\\\\Users\\\\InbarBlech\\\\PycharmProjects\\\\Thesis\\\\predictions_vs_real\\\\{protein_type}\\\\predictions_vs_real_{protein_type}.csv\")\n",
    "my_prediction"
   ],
   "metadata": {
    "collapsed": false,
    "ExecuteTime": {
     "end_time": "2024-04-08T15:10:18.895760500Z",
     "start_time": "2024-04-08T15:10:18.801048200Z"
    }
   },
   "id": "dae07953cecae426"
  },
  {
   "cell_type": "code",
   "execution_count": 35,
   "outputs": [],
   "source": [
    "# Change column names to match the other file\n",
    "am_predictions = am_df.rename(columns={\"protein_variant\": \"variant\"})\n",
    "\n",
    "# Add gene column to the am_predictions\n",
    "am_predictions[\"gene\"] = am_predictions[\"uniprot_id\"].map({v: k for k, v in gene_uniprot_dict.items()})"
   ],
   "metadata": {
    "collapsed": false,
    "ExecuteTime": {
     "end_time": "2024-04-08T15:10:21.759318200Z",
     "start_time": "2024-04-08T15:10:20.066748100Z"
    }
   },
   "id": "a4efc8cee93e9f7"
  },
  {
   "cell_type": "code",
   "execution_count": 36,
   "outputs": [
    {
     "data": {
      "text/plain": "         gene variant  prediction  reality uniprot_id  am_pathogenicity  \\\n0     COL11A1  G1249V           1        1     P12107            0.9505   \n1     COL11A1  G1516V           1        1     P12107            0.9748   \n2     COL11A1  R1733C           1        1     P12107            0.7065   \n3     COL11A1  G1800C           1        1     P12107            0.9094   \n4     COL11A1  R1076C           1        1     P12107            0.8094   \n...       ...     ...         ...      ...        ...               ...   \n1091   COL9A2    G30R           1        0     Q14055            0.7010   \n1092   COL9A2   A336E           1        0     Q14055            0.2113   \n1093   COL9A2   L335V           0        0     Q14055            0.0859   \n1094   COL9A2    R32Q           0        0     Q14055            0.0769   \n1095   COL4A6   N980I           1        0     Q14031            0.0990   \n\n        am_class  \n0     pathogenic  \n1     pathogenic  \n2     pathogenic  \n3     pathogenic  \n4     pathogenic  \n...          ...  \n1091  pathogenic  \n1092      benign  \n1093      benign  \n1094      benign  \n1095      benign  \n\n[1096 rows x 7 columns]",
      "text/html": "<div>\n<style scoped>\n    .dataframe tbody tr th:only-of-type {\n        vertical-align: middle;\n    }\n\n    .dataframe tbody tr th {\n        vertical-align: top;\n    }\n\n    .dataframe thead th {\n        text-align: right;\n    }\n</style>\n<table border=\"1\" class=\"dataframe\">\n  <thead>\n    <tr style=\"text-align: right;\">\n      <th></th>\n      <th>gene</th>\n      <th>variant</th>\n      <th>prediction</th>\n      <th>reality</th>\n      <th>uniprot_id</th>\n      <th>am_pathogenicity</th>\n      <th>am_class</th>\n    </tr>\n  </thead>\n  <tbody>\n    <tr>\n      <th>0</th>\n      <td>COL11A1</td>\n      <td>G1249V</td>\n      <td>1</td>\n      <td>1</td>\n      <td>P12107</td>\n      <td>0.9505</td>\n      <td>pathogenic</td>\n    </tr>\n    <tr>\n      <th>1</th>\n      <td>COL11A1</td>\n      <td>G1516V</td>\n      <td>1</td>\n      <td>1</td>\n      <td>P12107</td>\n      <td>0.9748</td>\n      <td>pathogenic</td>\n    </tr>\n    <tr>\n      <th>2</th>\n      <td>COL11A1</td>\n      <td>R1733C</td>\n      <td>1</td>\n      <td>1</td>\n      <td>P12107</td>\n      <td>0.7065</td>\n      <td>pathogenic</td>\n    </tr>\n    <tr>\n      <th>3</th>\n      <td>COL11A1</td>\n      <td>G1800C</td>\n      <td>1</td>\n      <td>1</td>\n      <td>P12107</td>\n      <td>0.9094</td>\n      <td>pathogenic</td>\n    </tr>\n    <tr>\n      <th>4</th>\n      <td>COL11A1</td>\n      <td>R1076C</td>\n      <td>1</td>\n      <td>1</td>\n      <td>P12107</td>\n      <td>0.8094</td>\n      <td>pathogenic</td>\n    </tr>\n    <tr>\n      <th>...</th>\n      <td>...</td>\n      <td>...</td>\n      <td>...</td>\n      <td>...</td>\n      <td>...</td>\n      <td>...</td>\n      <td>...</td>\n    </tr>\n    <tr>\n      <th>1091</th>\n      <td>COL9A2</td>\n      <td>G30R</td>\n      <td>1</td>\n      <td>0</td>\n      <td>Q14055</td>\n      <td>0.7010</td>\n      <td>pathogenic</td>\n    </tr>\n    <tr>\n      <th>1092</th>\n      <td>COL9A2</td>\n      <td>A336E</td>\n      <td>1</td>\n      <td>0</td>\n      <td>Q14055</td>\n      <td>0.2113</td>\n      <td>benign</td>\n    </tr>\n    <tr>\n      <th>1093</th>\n      <td>COL9A2</td>\n      <td>L335V</td>\n      <td>0</td>\n      <td>0</td>\n      <td>Q14055</td>\n      <td>0.0859</td>\n      <td>benign</td>\n    </tr>\n    <tr>\n      <th>1094</th>\n      <td>COL9A2</td>\n      <td>R32Q</td>\n      <td>0</td>\n      <td>0</td>\n      <td>Q14055</td>\n      <td>0.0769</td>\n      <td>benign</td>\n    </tr>\n    <tr>\n      <th>1095</th>\n      <td>COL4A6</td>\n      <td>N980I</td>\n      <td>1</td>\n      <td>0</td>\n      <td>Q14031</td>\n      <td>0.0990</td>\n      <td>benign</td>\n    </tr>\n  </tbody>\n</table>\n<p>1096 rows × 7 columns</p>\n</div>"
     },
     "execution_count": 36,
     "metadata": {},
     "output_type": "execute_result"
    }
   ],
   "source": [
    "# Join the information from am_predictions to my_prediction by gene and variant\n",
    "merged = pd.merge(my_prediction, am_predictions, on=[\"gene\", \"variant\"])\n",
    "merged"
   ],
   "metadata": {
    "collapsed": false,
    "ExecuteTime": {
     "end_time": "2024-04-08T15:10:23.751335400Z",
     "start_time": "2024-04-08T15:10:23.621252500Z"
    }
   },
   "id": "da94d2def235735"
  },
  {
   "cell_type": "code",
   "execution_count": 37,
   "outputs": [
    {
     "data": {
      "text/plain": "         gene variant  prediction  reality uniprot_id  am_pathogenicity  \\\n0     COL11A1  G1249V           1        1     P12107            0.9505   \n1     COL11A1  G1516V           1        1     P12107            0.9748   \n2     COL11A1  R1733C           1        1     P12107            0.7065   \n3     COL11A1  G1800C           1        1     P12107            0.9094   \n4     COL11A1  R1076C           1        1     P12107            0.8094   \n...       ...     ...         ...      ...        ...               ...   \n1091   COL9A2    G30R           1        0     Q14055            0.7010   \n1092   COL9A2   A336E           1        0     Q14055            0.2113   \n1093   COL9A2   L335V           0        0     Q14055            0.0859   \n1094   COL9A2    R32Q           0        0     Q14055            0.0769   \n1095   COL4A6   N980I           1        0     Q14031            0.0990   \n\n        am_class  \n0     pathogenic  \n1     pathogenic  \n2     pathogenic  \n3     pathogenic  \n4     pathogenic  \n...          ...  \n1091  pathogenic  \n1092      benign  \n1093      benign  \n1094      benign  \n1095      benign  \n\n[1035 rows x 7 columns]",
      "text/html": "<div>\n<style scoped>\n    .dataframe tbody tr th:only-of-type {\n        vertical-align: middle;\n    }\n\n    .dataframe tbody tr th {\n        vertical-align: top;\n    }\n\n    .dataframe thead th {\n        text-align: right;\n    }\n</style>\n<table border=\"1\" class=\"dataframe\">\n  <thead>\n    <tr style=\"text-align: right;\">\n      <th></th>\n      <th>gene</th>\n      <th>variant</th>\n      <th>prediction</th>\n      <th>reality</th>\n      <th>uniprot_id</th>\n      <th>am_pathogenicity</th>\n      <th>am_class</th>\n    </tr>\n  </thead>\n  <tbody>\n    <tr>\n      <th>0</th>\n      <td>COL11A1</td>\n      <td>G1249V</td>\n      <td>1</td>\n      <td>1</td>\n      <td>P12107</td>\n      <td>0.9505</td>\n      <td>pathogenic</td>\n    </tr>\n    <tr>\n      <th>1</th>\n      <td>COL11A1</td>\n      <td>G1516V</td>\n      <td>1</td>\n      <td>1</td>\n      <td>P12107</td>\n      <td>0.9748</td>\n      <td>pathogenic</td>\n    </tr>\n    <tr>\n      <th>2</th>\n      <td>COL11A1</td>\n      <td>R1733C</td>\n      <td>1</td>\n      <td>1</td>\n      <td>P12107</td>\n      <td>0.7065</td>\n      <td>pathogenic</td>\n    </tr>\n    <tr>\n      <th>3</th>\n      <td>COL11A1</td>\n      <td>G1800C</td>\n      <td>1</td>\n      <td>1</td>\n      <td>P12107</td>\n      <td>0.9094</td>\n      <td>pathogenic</td>\n    </tr>\n    <tr>\n      <th>4</th>\n      <td>COL11A1</td>\n      <td>R1076C</td>\n      <td>1</td>\n      <td>1</td>\n      <td>P12107</td>\n      <td>0.8094</td>\n      <td>pathogenic</td>\n    </tr>\n    <tr>\n      <th>...</th>\n      <td>...</td>\n      <td>...</td>\n      <td>...</td>\n      <td>...</td>\n      <td>...</td>\n      <td>...</td>\n      <td>...</td>\n    </tr>\n    <tr>\n      <th>1091</th>\n      <td>COL9A2</td>\n      <td>G30R</td>\n      <td>1</td>\n      <td>0</td>\n      <td>Q14055</td>\n      <td>0.7010</td>\n      <td>pathogenic</td>\n    </tr>\n    <tr>\n      <th>1092</th>\n      <td>COL9A2</td>\n      <td>A336E</td>\n      <td>1</td>\n      <td>0</td>\n      <td>Q14055</td>\n      <td>0.2113</td>\n      <td>benign</td>\n    </tr>\n    <tr>\n      <th>1093</th>\n      <td>COL9A2</td>\n      <td>L335V</td>\n      <td>0</td>\n      <td>0</td>\n      <td>Q14055</td>\n      <td>0.0859</td>\n      <td>benign</td>\n    </tr>\n    <tr>\n      <th>1094</th>\n      <td>COL9A2</td>\n      <td>R32Q</td>\n      <td>0</td>\n      <td>0</td>\n      <td>Q14055</td>\n      <td>0.0769</td>\n      <td>benign</td>\n    </tr>\n    <tr>\n      <th>1095</th>\n      <td>COL4A6</td>\n      <td>N980I</td>\n      <td>1</td>\n      <td>0</td>\n      <td>Q14031</td>\n      <td>0.0990</td>\n      <td>benign</td>\n    </tr>\n  </tbody>\n</table>\n<p>1035 rows × 7 columns</p>\n</div>"
     },
     "execution_count": 37,
     "metadata": {},
     "output_type": "execute_result"
    }
   ],
   "source": [
    "# Delete all rows with ambiguous in AF score\n",
    "merged = merged[~(merged['am_class'] == \"ambiguous\")]\n",
    "merged"
   ],
   "metadata": {
    "collapsed": false,
    "ExecuteTime": {
     "end_time": "2024-04-08T15:10:25.763509500Z",
     "start_time": "2024-04-08T15:10:25.590101900Z"
    }
   },
   "id": "a774dcb20a2c764c"
  },
  {
   "cell_type": "code",
   "execution_count": 38,
   "outputs": [],
   "source": [
    "# Make \"benign\" and \"pathogenic\" to 0 and 1\n",
    "merged.loc[merged['am_class'] == \"benign\", 'am_class'] = 0\n",
    "merged.loc[merged['am_class'] == \"pathogenic\", 'am_class'] = 1"
   ],
   "metadata": {
    "collapsed": false,
    "ExecuteTime": {
     "end_time": "2024-04-08T15:10:27.499440500Z",
     "start_time": "2024-04-08T15:10:27.404788900Z"
    }
   },
   "id": "f2a1b6baa95f71e9"
  },
  {
   "cell_type": "code",
   "execution_count": 39,
   "outputs": [
    {
     "name": "stdout",
     "output_type": "stream",
     "text": [
      "Number of pathogenic variants in am: 835\n",
      "Number of benign variants in am: 200\n"
     ]
    }
   ],
   "source": [
    "# print how many pathogenic and benign variants are in the EVE file\n",
    "print(f\"Number of pathogenic variants in am: {len(merged[merged['am_class'] == 1])}\")\n",
    "print(f\"Number of benign variants in am: {len(merged[merged['am_class'] == 0])}\")"
   ],
   "metadata": {
    "collapsed": false,
    "ExecuteTime": {
     "end_time": "2024-04-08T15:10:28.918366300Z",
     "start_time": "2024-04-08T15:10:28.777389900Z"
    }
   },
   "id": "ec408a732fc6b469"
  },
  {
   "cell_type": "code",
   "execution_count": 40,
   "outputs": [],
   "source": [
    "merged.to_csv(f\"C:\\\\Users\\\\InbarBlech\\\\PycharmProjects\\\\Thesis\\\\benchmarking\\\\protein_type_predictors\\\\alphamissense_on_my_data_predictions_{protein_type}.csv\")"
   ],
   "metadata": {
    "collapsed": false,
    "ExecuteTime": {
     "end_time": "2024-04-08T15:10:30.813813400Z",
     "start_time": "2024-04-08T15:10:30.731548600Z"
    }
   },
   "id": "83c682b0aac2f9ed"
  }
 ],
 "metadata": {
  "kernelspec": {
   "display_name": "Python 3",
   "language": "python",
   "name": "python3"
  },
  "language_info": {
   "codemirror_mode": {
    "name": "ipython",
    "version": 2
   },
   "file_extension": ".py",
   "mimetype": "text/x-python",
   "name": "python",
   "nbconvert_exporter": "python",
   "pygments_lexer": "ipython2",
   "version": "2.7.6"
  }
 },
 "nbformat": 4,
 "nbformat_minor": 5
}
