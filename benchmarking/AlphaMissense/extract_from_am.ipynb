{
 "cells": [
  {
   "cell_type": "code",
   "execution_count": 54,
   "outputs": [],
   "source": [
    "import csv\n",
    "import pandas as pd"
   ],
   "metadata": {
    "collapsed": false,
    "ExecuteTime": {
     "end_time": "2023-11-22T16:06:00.259979600Z",
     "start_time": "2023-11-22T16:06:00.207478900Z"
    }
   },
   "id": "aad28b660e440b3c"
  },
  {
   "cell_type": "code",
   "execution_count": 55,
   "outputs": [],
   "source": [
    "gene = 'COL2A1'\n",
    "target_uniprot_id = 'P02458'\n",
    "\n",
    "tsv_file_path = 'C:\\\\Users\\\\InbarBlech\\\\PycharmProjects\\\\Thesis\\\\benchmarking\\\\AlphaMissense\\\\AlphaMissense_aa_substitutions.tsv'\n",
    "csv_file_path = f'C:\\\\Users\\\\InbarBlech\\\\PycharmProjects\\\\Thesis\\\\benchmarking\\\\AlphaMissense\\\\am_predictions_per_gene\\\\am_predictions_{gene}.csv'"
   ],
   "metadata": {
    "collapsed": false,
    "ExecuteTime": {
     "end_time": "2023-11-22T16:06:00.259979600Z",
     "start_time": "2023-11-22T16:06:00.227957500Z"
    }
   },
   "id": "4873a8a6f99916f6"
  },
  {
   "cell_type": "code",
   "execution_count": 56,
   "outputs": [],
   "source": [
    "with open(tsv_file_path, 'r', newline='', encoding='utf-8') as tsv_file, open(csv_file_path, 'w', newline='', encoding='utf-8') as csv_file:\n",
    "    tsv_reader = csv.reader(tsv_file, delimiter='\\t')\n",
    "    csv_writer = csv.writer(csv_file)\n",
    "\n",
    "    # Assuming the first line contains the header\n",
    "    header = next(tsv_reader)\n",
    "    csv_writer.writerow(header)\n",
    "\n",
    "    # Filter rows and write to CSV\n",
    "    for row in tsv_reader:\n",
    "        if row[header.index('uniprot_id')] == target_uniprot_id:\n",
    "            csv_writer.writerow(row)"
   ],
   "metadata": {
    "collapsed": false,
    "ExecuteTime": {
     "end_time": "2023-11-22T16:09:18.117511200Z",
     "start_time": "2023-11-22T16:06:00.243818500Z"
    }
   },
   "id": "b3338a373e5bd7ae"
  },
  {
   "cell_type": "code",
   "execution_count": 57,
   "outputs": [
    {
     "data": {
      "text/plain": "      uniprot_id protein_variant  am_pathogenicity    am_class\n0         P02458             M1A            0.1694      benign\n1         P02458             M1C            0.1616      benign\n2         P02458             M1D            0.6195  pathogenic\n3         P02458             M1E            0.3755   ambiguous\n4         P02458             M1F            0.1309      benign\n...          ...             ...               ...         ...\n28248     P02458          L1487S            0.4876   ambiguous\n28249     P02458          L1487T            0.3654   ambiguous\n28250     P02458          L1487V            0.1071      benign\n28251     P02458          L1487W            0.5730  pathogenic\n28252     P02458          L1487Y            0.6216  pathogenic\n\n[28253 rows x 4 columns]",
      "text/html": "<div>\n<style scoped>\n    .dataframe tbody tr th:only-of-type {\n        vertical-align: middle;\n    }\n\n    .dataframe tbody tr th {\n        vertical-align: top;\n    }\n\n    .dataframe thead th {\n        text-align: right;\n    }\n</style>\n<table border=\"1\" class=\"dataframe\">\n  <thead>\n    <tr style=\"text-align: right;\">\n      <th></th>\n      <th>uniprot_id</th>\n      <th>protein_variant</th>\n      <th>am_pathogenicity</th>\n      <th>am_class</th>\n    </tr>\n  </thead>\n  <tbody>\n    <tr>\n      <th>0</th>\n      <td>P02458</td>\n      <td>M1A</td>\n      <td>0.1694</td>\n      <td>benign</td>\n    </tr>\n    <tr>\n      <th>1</th>\n      <td>P02458</td>\n      <td>M1C</td>\n      <td>0.1616</td>\n      <td>benign</td>\n    </tr>\n    <tr>\n      <th>2</th>\n      <td>P02458</td>\n      <td>M1D</td>\n      <td>0.6195</td>\n      <td>pathogenic</td>\n    </tr>\n    <tr>\n      <th>3</th>\n      <td>P02458</td>\n      <td>M1E</td>\n      <td>0.3755</td>\n      <td>ambiguous</td>\n    </tr>\n    <tr>\n      <th>4</th>\n      <td>P02458</td>\n      <td>M1F</td>\n      <td>0.1309</td>\n      <td>benign</td>\n    </tr>\n    <tr>\n      <th>...</th>\n      <td>...</td>\n      <td>...</td>\n      <td>...</td>\n      <td>...</td>\n    </tr>\n    <tr>\n      <th>28248</th>\n      <td>P02458</td>\n      <td>L1487S</td>\n      <td>0.4876</td>\n      <td>ambiguous</td>\n    </tr>\n    <tr>\n      <th>28249</th>\n      <td>P02458</td>\n      <td>L1487T</td>\n      <td>0.3654</td>\n      <td>ambiguous</td>\n    </tr>\n    <tr>\n      <th>28250</th>\n      <td>P02458</td>\n      <td>L1487V</td>\n      <td>0.1071</td>\n      <td>benign</td>\n    </tr>\n    <tr>\n      <th>28251</th>\n      <td>P02458</td>\n      <td>L1487W</td>\n      <td>0.5730</td>\n      <td>pathogenic</td>\n    </tr>\n    <tr>\n      <th>28252</th>\n      <td>P02458</td>\n      <td>L1487Y</td>\n      <td>0.6216</td>\n      <td>pathogenic</td>\n    </tr>\n  </tbody>\n</table>\n<p>28253 rows × 4 columns</p>\n</div>"
     },
     "execution_count": 57,
     "metadata": {},
     "output_type": "execute_result"
    }
   ],
   "source": [
    "# Read CSV file into a DataFrame, to check all is good\n",
    "df = pd.read_csv(csv_file_path)\n",
    "df"
   ],
   "metadata": {
    "collapsed": false,
    "ExecuteTime": {
     "end_time": "2023-11-22T16:09:18.212339400Z",
     "start_time": "2023-11-22T16:09:18.123573600Z"
    }
   },
   "id": "ab563befa9b0011a"
  },
  {
   "cell_type": "code",
   "execution_count": 58,
   "outputs": [],
   "source": [
    "# Add a column with gene name\n",
    "df['gene'] = gene\n",
    "# Save to CSV\n",
    "df.to_csv(csv_file_path, index=False)"
   ],
   "metadata": {
    "collapsed": false,
    "ExecuteTime": {
     "end_time": "2023-11-22T16:09:18.384303900Z",
     "start_time": "2023-11-22T16:09:18.217069100Z"
    }
   },
   "id": "b0bfcb9e04d850ff"
  }
 ],
 "metadata": {
  "kernelspec": {
   "display_name": "Python 3",
   "language": "python",
   "name": "python3"
  },
  "language_info": {
   "codemirror_mode": {
    "name": "ipython",
    "version": 2
   },
   "file_extension": ".py",
   "mimetype": "text/x-python",
   "name": "python",
   "nbconvert_exporter": "python",
   "pygments_lexer": "ipython2",
   "version": "2.7.6"
  }
 },
 "nbformat": 4,
 "nbformat_minor": 5
}
