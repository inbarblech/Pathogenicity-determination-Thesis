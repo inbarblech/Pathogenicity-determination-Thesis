{
 "cells": [
  {
   "cell_type": "raw",
   "source": [],
   "metadata": {
    "collapsed": false
   },
   "id": "daae3bd731bad53b"
  },
  {
   "cell_type": "code",
   "execution_count": 36,
   "outputs": [],
   "source": [
    "import pandas as pd\n",
    "import os"
   ],
   "metadata": {
    "collapsed": false,
    "ExecuteTime": {
     "end_time": "2023-11-23T14:31:10.902587100Z",
     "start_time": "2023-11-23T14:31:10.634824200Z"
    }
   },
   "id": "initial_id"
  },
  {
   "cell_type": "code",
   "execution_count": 37,
   "outputs": [
    {
     "name": "stdout",
     "output_type": "stream",
     "text": [
      "['gene' 'FGFR1_HUMAN' 'COL4A5_HUMAN' 'MYO7A_HUMAN' 'SLC26A4_HUMAN'\n",
      " 'COL2A1_HUMAN' 'COL4A3_HUMAN' 'WFS1_HUMAN' 'GJB2_HUMAN']\n"
     ]
    }
   ],
   "source": [
    "\"\"\"Run this cell to add a new gene to the MutPred predictions file\n",
    "Input file\\s should be a csv file of MutPred predictions for a single gene.\"\"\"\n",
    "\n",
    "# Change the path or file name!!! \n",
    "genes = [\"GJB2\"]\n",
    "all_mutpred_files = pd.read_csv(\"C:\\\\Users\\\\InbarBlech\\\\PycharmProjects\\\\Thesis\\\\benchmarking\\\\MutPred2\\\\all_predictions.csv\", header=None)\n",
    "\n",
    "for gene in genes:\n",
    "    # create list of files in the directory, that start with name of gene\n",
    "    files = [f for f in os.listdir(\"C:\\\\Users\\\\InbarBlech\\\\PycharmProjects\\\\Thesis\\\\benchmarking\\\\MutPred2\\\\files\") if f.startswith(gene)]\n",
    "    for f in files:\n",
    "        # create the path of the new gene\n",
    "        new_gene_path = f\"C:\\\\Users\\\\InbarBlech\\\\PycharmProjects\\\\Thesis\\\\benchmarking\\\\MutPred2\\\\files\\\\{f}\"\n",
    "        # read the file of the new gene\n",
    "        new_gene_predictions = pd.read_csv(new_gene_path, header=None)\n",
    "\n",
    "        # add the new gene to the all_eve_files dataframe, without the header\n",
    "        all_mutpred_files = pd.concat([all_mutpred_files, new_gene_predictions], ignore_index=True, axis=0)\n",
    "\n",
    "# Sanity check that it includes all genes\n",
    "column_names = [\"gene\", \"variant\", \"MutPred_score\", \"explain\", \"MutPred_pred\", \"nothing\"]\n",
    "all_mutpred_files.columns = column_names\n",
    "print(all_mutpred_files[\"gene\"].unique())\n",
    "\n",
    "# Save the new dataframe to a csv file\n",
    "all_mutpred_files.to_csv(\"C:\\\\Users\\\\InbarBlech\\\\PycharmProjects\\\\Thesis\\\\benchmarking\\\\MutPred2\\\\all_predictions.csv\", index=False)"
   ],
   "metadata": {
    "collapsed": false,
    "ExecuteTime": {
     "end_time": "2023-11-23T14:31:11.075719300Z",
     "start_time": "2023-11-23T14:31:10.650403700Z"
    }
   },
   "id": "5a578f02462d7fdb"
  },
  {
   "cell_type": "code",
   "execution_count": 38,
   "outputs": [
    {
     "data": {
      "text/plain": "                0        1              2  \\\n0            gene  variant  MutPred_score   \n1            gene  variant  MutPred_score   \n2     FGFR1_HUMAN      F9S          0.828   \n3     FGFR1_HUMAN     W10P          0.922   \n4     FGFR1_HUMAN     A11R          0.872   \n...           ...      ...            ...   \n5051   GJB2_HUMAN    Y217F          0.092   \n5052   GJB2_HUMAN    G220A          0.101   \n5053   GJB2_HUMAN    G220K          0.142   \n5054   GJB2_HUMAN    K221R           0.08   \n5055   GJB2_HUMAN    K223R           0.09   \n\n                                                      3  \\\n0                                               explain   \n1                                               explain   \n2     Altered Disordered interface (Pr = 0.25 | P = ...   \n3     Altered Ordered interface (Pr = 0.24 | P = 0.0...   \n4     Altered Disordered interface (Pr = 0.37 | P = ...   \n...                                                 ...   \n5051                                                  -   \n5052                                                  -   \n5053                                                  -   \n5054                                                  -   \n5055                                                  -   \n\n                                                 4        5  \n0                                     MutPred_pred  nothing  \n1                                     MutPred_pred  nothing  \n2      ELME000041|ELME000106|ELME000137|ELME000146        -  \n3                            ELME000041|ELME000137        -  \n4                            ELME000041|ELME000106        -  \n...                                            ...      ...  \n5051                                             -        -  \n5052                                             -        -  \n5053                                             -        -  \n5054                                             -        -  \n5055                                             -        -  \n\n[5056 rows x 6 columns]",
      "text/html": "<div>\n<style scoped>\n    .dataframe tbody tr th:only-of-type {\n        vertical-align: middle;\n    }\n\n    .dataframe tbody tr th {\n        vertical-align: top;\n    }\n\n    .dataframe thead th {\n        text-align: right;\n    }\n</style>\n<table border=\"1\" class=\"dataframe\">\n  <thead>\n    <tr style=\"text-align: right;\">\n      <th></th>\n      <th>0</th>\n      <th>1</th>\n      <th>2</th>\n      <th>3</th>\n      <th>4</th>\n      <th>5</th>\n    </tr>\n  </thead>\n  <tbody>\n    <tr>\n      <th>0</th>\n      <td>gene</td>\n      <td>variant</td>\n      <td>MutPred_score</td>\n      <td>explain</td>\n      <td>MutPred_pred</td>\n      <td>nothing</td>\n    </tr>\n    <tr>\n      <th>1</th>\n      <td>gene</td>\n      <td>variant</td>\n      <td>MutPred_score</td>\n      <td>explain</td>\n      <td>MutPred_pred</td>\n      <td>nothing</td>\n    </tr>\n    <tr>\n      <th>2</th>\n      <td>FGFR1_HUMAN</td>\n      <td>F9S</td>\n      <td>0.828</td>\n      <td>Altered Disordered interface (Pr = 0.25 | P = ...</td>\n      <td>ELME000041|ELME000106|ELME000137|ELME000146</td>\n      <td>-</td>\n    </tr>\n    <tr>\n      <th>3</th>\n      <td>FGFR1_HUMAN</td>\n      <td>W10P</td>\n      <td>0.922</td>\n      <td>Altered Ordered interface (Pr = 0.24 | P = 0.0...</td>\n      <td>ELME000041|ELME000137</td>\n      <td>-</td>\n    </tr>\n    <tr>\n      <th>4</th>\n      <td>FGFR1_HUMAN</td>\n      <td>A11R</td>\n      <td>0.872</td>\n      <td>Altered Disordered interface (Pr = 0.37 | P = ...</td>\n      <td>ELME000041|ELME000106</td>\n      <td>-</td>\n    </tr>\n    <tr>\n      <th>...</th>\n      <td>...</td>\n      <td>...</td>\n      <td>...</td>\n      <td>...</td>\n      <td>...</td>\n      <td>...</td>\n    </tr>\n    <tr>\n      <th>5051</th>\n      <td>GJB2_HUMAN</td>\n      <td>Y217F</td>\n      <td>0.092</td>\n      <td>-</td>\n      <td>-</td>\n      <td>-</td>\n    </tr>\n    <tr>\n      <th>5052</th>\n      <td>GJB2_HUMAN</td>\n      <td>G220A</td>\n      <td>0.101</td>\n      <td>-</td>\n      <td>-</td>\n      <td>-</td>\n    </tr>\n    <tr>\n      <th>5053</th>\n      <td>GJB2_HUMAN</td>\n      <td>G220K</td>\n      <td>0.142</td>\n      <td>-</td>\n      <td>-</td>\n      <td>-</td>\n    </tr>\n    <tr>\n      <th>5054</th>\n      <td>GJB2_HUMAN</td>\n      <td>K221R</td>\n      <td>0.08</td>\n      <td>-</td>\n      <td>-</td>\n      <td>-</td>\n    </tr>\n    <tr>\n      <th>5055</th>\n      <td>GJB2_HUMAN</td>\n      <td>K223R</td>\n      <td>0.09</td>\n      <td>-</td>\n      <td>-</td>\n      <td>-</td>\n    </tr>\n  </tbody>\n</table>\n<p>5056 rows × 6 columns</p>\n</div>"
     },
     "execution_count": 38,
     "metadata": {},
     "output_type": "execute_result"
    }
   ],
   "source": [
    "# Load MutPred2 predictions\n",
    "mutpred_predictions = pd.read_csv(\"C:\\\\Users\\\\InbarBlech\\\\PycharmProjects\\\\Thesis\\\\benchmarking\\\\MutPred2\\\\all_predictions.csv\", header=None)\n",
    "mutpred_predictions"
   ],
   "metadata": {
    "collapsed": false,
    "ExecuteTime": {
     "end_time": "2023-11-23T14:31:11.138701700Z",
     "start_time": "2023-11-23T14:31:10.698017600Z"
    }
   },
   "id": "e4e064fbe990a564"
  },
  {
   "cell_type": "code",
   "execution_count": 39,
   "outputs": [
    {
     "data": {
      "text/plain": "             gene  variant  MutPred_score\n0            gene  variant  MutPred_score\n1            gene  variant  MutPred_score\n2     FGFR1_HUMAN      F9S          0.828\n3     FGFR1_HUMAN     W10P          0.922\n4     FGFR1_HUMAN     A11R          0.872\n...           ...      ...            ...\n5051   GJB2_HUMAN    Y217F          0.092\n5052   GJB2_HUMAN    G220A          0.101\n5053   GJB2_HUMAN    G220K          0.142\n5054   GJB2_HUMAN    K221R           0.08\n5055   GJB2_HUMAN    K223R           0.09\n\n[5056 rows x 3 columns]",
      "text/html": "<div>\n<style scoped>\n    .dataframe tbody tr th:only-of-type {\n        vertical-align: middle;\n    }\n\n    .dataframe tbody tr th {\n        vertical-align: top;\n    }\n\n    .dataframe thead th {\n        text-align: right;\n    }\n</style>\n<table border=\"1\" class=\"dataframe\">\n  <thead>\n    <tr style=\"text-align: right;\">\n      <th></th>\n      <th>gene</th>\n      <th>variant</th>\n      <th>MutPred_score</th>\n    </tr>\n  </thead>\n  <tbody>\n    <tr>\n      <th>0</th>\n      <td>gene</td>\n      <td>variant</td>\n      <td>MutPred_score</td>\n    </tr>\n    <tr>\n      <th>1</th>\n      <td>gene</td>\n      <td>variant</td>\n      <td>MutPred_score</td>\n    </tr>\n    <tr>\n      <th>2</th>\n      <td>FGFR1_HUMAN</td>\n      <td>F9S</td>\n      <td>0.828</td>\n    </tr>\n    <tr>\n      <th>3</th>\n      <td>FGFR1_HUMAN</td>\n      <td>W10P</td>\n      <td>0.922</td>\n    </tr>\n    <tr>\n      <th>4</th>\n      <td>FGFR1_HUMAN</td>\n      <td>A11R</td>\n      <td>0.872</td>\n    </tr>\n    <tr>\n      <th>...</th>\n      <td>...</td>\n      <td>...</td>\n      <td>...</td>\n    </tr>\n    <tr>\n      <th>5051</th>\n      <td>GJB2_HUMAN</td>\n      <td>Y217F</td>\n      <td>0.092</td>\n    </tr>\n    <tr>\n      <th>5052</th>\n      <td>GJB2_HUMAN</td>\n      <td>G220A</td>\n      <td>0.101</td>\n    </tr>\n    <tr>\n      <th>5053</th>\n      <td>GJB2_HUMAN</td>\n      <td>G220K</td>\n      <td>0.142</td>\n    </tr>\n    <tr>\n      <th>5054</th>\n      <td>GJB2_HUMAN</td>\n      <td>K221R</td>\n      <td>0.08</td>\n    </tr>\n    <tr>\n      <th>5055</th>\n      <td>GJB2_HUMAN</td>\n      <td>K223R</td>\n      <td>0.09</td>\n    </tr>\n  </tbody>\n</table>\n<p>5056 rows × 3 columns</p>\n</div>"
     },
     "execution_count": 39,
     "metadata": {},
     "output_type": "execute_result"
    }
   ],
   "source": [
    "# add headers\n",
    "column_names = [\"gene\", \"variant\", \"MutPred_score\", \"explain\", \"MutPred_pred\", \"nothing\"]\n",
    "mutpred_predictions.columns = column_names\n",
    "mutpred_predictions = mutpred_predictions.drop(columns=[\"nothing\", \"explain\", \"MutPred_pred\"])\n",
    "mutpred_predictions"
   ],
   "metadata": {
    "collapsed": false,
    "ExecuteTime": {
     "end_time": "2023-11-23T14:31:11.138701700Z",
     "start_time": "2023-11-23T14:31:10.745401300Z"
    }
   },
   "id": "8f65ffba8041fea6"
  },
  {
   "cell_type": "code",
   "execution_count": 40,
   "outputs": [
    {
     "name": "stdout",
     "output_type": "stream",
     "text": [
      "5056\n"
     ]
    }
   ],
   "source": [
    "# Delete the _HUMAN from the gene name\n",
    "mutpred_predictions[\"gene\"] = mutpred_predictions[\"gene\"].str.replace(\"_HUMAN\", \"\")\n",
    "print(len(mutpred_predictions))"
   ],
   "metadata": {
    "collapsed": false,
    "ExecuteTime": {
     "end_time": "2023-11-23T14:31:11.138701700Z",
     "start_time": "2023-11-23T14:31:10.760992400Z"
    }
   },
   "id": "6b56c8003e2b6347"
  },
  {
   "cell_type": "code",
   "execution_count": 41,
   "outputs": [
    {
     "name": "stdout",
     "output_type": "stream",
     "text": [
      "4763\n"
     ]
    }
   ],
   "source": [
    "# remove duplicates\n",
    "mutpred_predictions = mutpred_predictions.drop_duplicates(subset=[\"gene\", \"variant\"], keep=\"first\")\n",
    "print(len(mutpred_predictions))"
   ],
   "metadata": {
    "collapsed": false,
    "ExecuteTime": {
     "end_time": "2023-11-23T14:31:11.138701700Z",
     "start_time": "2023-11-23T14:31:10.776609700Z"
    }
   },
   "id": "9b509039f1bbc192"
  },
  {
   "cell_type": "code",
   "execution_count": 42,
   "outputs": [
    {
     "name": "stderr",
     "output_type": "stream",
     "text": [
      "C:\\Users\\InbarBlech\\AppData\\Local\\Temp\\ipykernel_28548\\3920941166.py:2: SettingWithCopyWarning: \n",
      "A value is trying to be set on a copy of a slice from a DataFrame.\n",
      "Try using .loc[row_indexer,col_indexer] = value instead\n",
      "\n",
      "See the caveats in the documentation: https://pandas.pydata.org/pandas-docs/stable/user_guide/indexing.html#returning-a-view-versus-a-copy\n",
      "  mutpred_predictions[\"MutPred_score\"] = pd.to_numeric(mutpred_predictions['MutPred_score'], errors='coerce')\n"
     ]
    },
    {
     "data": {
      "text/plain": "       gene variant  MutPred_score\n2     FGFR1     F9S          0.828\n3     FGFR1    W10P          0.922\n4     FGFR1    A11R          0.872\n5     FGFR1    V12S          0.881\n6     FGFR1    V14F          0.895\n...     ...     ...            ...\n4778   GJB2   Y217F          0.092\n4779   GJB2   G220A          0.101\n4780   GJB2   G220K          0.142\n4781   GJB2   K221R          0.080\n4782   GJB2   K223R          0.090\n\n[3732 rows x 3 columns]",
      "text/html": "<div>\n<style scoped>\n    .dataframe tbody tr th:only-of-type {\n        vertical-align: middle;\n    }\n\n    .dataframe tbody tr th {\n        vertical-align: top;\n    }\n\n    .dataframe thead th {\n        text-align: right;\n    }\n</style>\n<table border=\"1\" class=\"dataframe\">\n  <thead>\n    <tr style=\"text-align: right;\">\n      <th></th>\n      <th>gene</th>\n      <th>variant</th>\n      <th>MutPred_score</th>\n    </tr>\n  </thead>\n  <tbody>\n    <tr>\n      <th>2</th>\n      <td>FGFR1</td>\n      <td>F9S</td>\n      <td>0.828</td>\n    </tr>\n    <tr>\n      <th>3</th>\n      <td>FGFR1</td>\n      <td>W10P</td>\n      <td>0.922</td>\n    </tr>\n    <tr>\n      <th>4</th>\n      <td>FGFR1</td>\n      <td>A11R</td>\n      <td>0.872</td>\n    </tr>\n    <tr>\n      <th>5</th>\n      <td>FGFR1</td>\n      <td>V12S</td>\n      <td>0.881</td>\n    </tr>\n    <tr>\n      <th>6</th>\n      <td>FGFR1</td>\n      <td>V14F</td>\n      <td>0.895</td>\n    </tr>\n    <tr>\n      <th>...</th>\n      <td>...</td>\n      <td>...</td>\n      <td>...</td>\n    </tr>\n    <tr>\n      <th>4778</th>\n      <td>GJB2</td>\n      <td>Y217F</td>\n      <td>0.092</td>\n    </tr>\n    <tr>\n      <th>4779</th>\n      <td>GJB2</td>\n      <td>G220A</td>\n      <td>0.101</td>\n    </tr>\n    <tr>\n      <th>4780</th>\n      <td>GJB2</td>\n      <td>G220K</td>\n      <td>0.142</td>\n    </tr>\n    <tr>\n      <th>4781</th>\n      <td>GJB2</td>\n      <td>K221R</td>\n      <td>0.080</td>\n    </tr>\n    <tr>\n      <th>4782</th>\n      <td>GJB2</td>\n      <td>K223R</td>\n      <td>0.090</td>\n    </tr>\n  </tbody>\n</table>\n<p>3732 rows × 3 columns</p>\n</div>"
     },
     "execution_count": 42,
     "metadata": {},
     "output_type": "execute_result"
    }
   ],
   "source": [
    "# Remove VUS variants\n",
    "mutpred_predictions[\"MutPred_score\"] = pd.to_numeric(mutpred_predictions['MutPred_score'], errors='coerce')\n",
    "# Remove rows with revel score: 0.29 < revel score < 0.644\n",
    "mutpred_VUS = mutpred_predictions[(mutpred_predictions[\"MutPred_score\"] < 0.737) & (mutpred_predictions[\"MutPred_score\"] >= 0.391)]\n",
    "mutpred_predictions = mutpred_predictions[(mutpred_predictions[\"MutPred_score\"] >= 0.737) | (mutpred_predictions[\"MutPred_score\"] <= 0.391)]\n",
    "mutpred_predictions"
   ],
   "metadata": {
    "collapsed": false,
    "ExecuteTime": {
     "end_time": "2023-11-23T14:31:11.138701700Z",
     "start_time": "2023-11-23T14:31:10.792244100Z"
    }
   },
   "id": "e8846730d0153094"
  },
  {
   "cell_type": "code",
   "execution_count": 43,
   "outputs": [
    {
     "data": {
      "text/plain": "       gene variant  MutPred_score  MutPred_pathogenicity\n2     FGFR1     F9S          0.828                      1\n3     FGFR1    W10P          0.922                      1\n4     FGFR1    A11R          0.872                      1\n5     FGFR1    V12S          0.881                      1\n6     FGFR1    V14F          0.895                      1\n...     ...     ...            ...                    ...\n4778   GJB2   Y217F          0.092                      0\n4779   GJB2   G220A          0.101                      0\n4780   GJB2   G220K          0.142                      0\n4781   GJB2   K221R          0.080                      0\n4782   GJB2   K223R          0.090                      0\n\n[3732 rows x 4 columns]",
      "text/html": "<div>\n<style scoped>\n    .dataframe tbody tr th:only-of-type {\n        vertical-align: middle;\n    }\n\n    .dataframe tbody tr th {\n        vertical-align: top;\n    }\n\n    .dataframe thead th {\n        text-align: right;\n    }\n</style>\n<table border=\"1\" class=\"dataframe\">\n  <thead>\n    <tr style=\"text-align: right;\">\n      <th></th>\n      <th>gene</th>\n      <th>variant</th>\n      <th>MutPred_score</th>\n      <th>MutPred_pathogenicity</th>\n    </tr>\n  </thead>\n  <tbody>\n    <tr>\n      <th>2</th>\n      <td>FGFR1</td>\n      <td>F9S</td>\n      <td>0.828</td>\n      <td>1</td>\n    </tr>\n    <tr>\n      <th>3</th>\n      <td>FGFR1</td>\n      <td>W10P</td>\n      <td>0.922</td>\n      <td>1</td>\n    </tr>\n    <tr>\n      <th>4</th>\n      <td>FGFR1</td>\n      <td>A11R</td>\n      <td>0.872</td>\n      <td>1</td>\n    </tr>\n    <tr>\n      <th>5</th>\n      <td>FGFR1</td>\n      <td>V12S</td>\n      <td>0.881</td>\n      <td>1</td>\n    </tr>\n    <tr>\n      <th>6</th>\n      <td>FGFR1</td>\n      <td>V14F</td>\n      <td>0.895</td>\n      <td>1</td>\n    </tr>\n    <tr>\n      <th>...</th>\n      <td>...</td>\n      <td>...</td>\n      <td>...</td>\n      <td>...</td>\n    </tr>\n    <tr>\n      <th>4778</th>\n      <td>GJB2</td>\n      <td>Y217F</td>\n      <td>0.092</td>\n      <td>0</td>\n    </tr>\n    <tr>\n      <th>4779</th>\n      <td>GJB2</td>\n      <td>G220A</td>\n      <td>0.101</td>\n      <td>0</td>\n    </tr>\n    <tr>\n      <th>4780</th>\n      <td>GJB2</td>\n      <td>G220K</td>\n      <td>0.142</td>\n      <td>0</td>\n    </tr>\n    <tr>\n      <th>4781</th>\n      <td>GJB2</td>\n      <td>K221R</td>\n      <td>0.080</td>\n      <td>0</td>\n    </tr>\n    <tr>\n      <th>4782</th>\n      <td>GJB2</td>\n      <td>K223R</td>\n      <td>0.090</td>\n      <td>0</td>\n    </tr>\n  </tbody>\n</table>\n<p>3732 rows × 4 columns</p>\n</div>"
     },
     "execution_count": 43,
     "metadata": {},
     "output_type": "execute_result"
    }
   ],
   "source": [
    "# Add benign or pathogenic label to each variant, according to the VEST4 score.\n",
    "mutpred_predictions[\"MutPred_pathogenicity\"] = mutpred_predictions[\"MutPred_score\"].apply(lambda x: 1 if x >= 0.764 else 0)\n",
    "mutpred_predictions"
   ],
   "metadata": {
    "collapsed": false,
    "ExecuteTime": {
     "end_time": "2023-11-23T14:31:11.138701700Z",
     "start_time": "2023-11-23T14:31:10.839768600Z"
    }
   },
   "id": "d3f7815cc1130bab"
  },
  {
   "cell_type": "code",
   "execution_count": 44,
   "outputs": [
    {
     "name": "stdout",
     "output_type": "stream",
     "text": [
      "Number of pathogenic variants in MutPred: 1824\n",
      "Number of benign variants in MutPred: 1908\n"
     ]
    }
   ],
   "source": [
    "# print how many pathogenic and benign variants are in the EVE file\n",
    "print(f\"Number of pathogenic variants in MutPred: {len(mutpred_predictions[mutpred_predictions['MutPred_pathogenicity'] == 1])}\")\n",
    "print(f\"Number of benign variants in MutPred: {len(mutpred_predictions[mutpred_predictions['MutPred_pathogenicity'] == 0])}\")"
   ],
   "metadata": {
    "collapsed": false,
    "ExecuteTime": {
     "end_time": "2023-11-23T14:31:11.138701700Z",
     "start_time": "2023-11-23T14:31:10.855351700Z"
    }
   },
   "id": "6b0e013cc4950ab"
  },
  {
   "cell_type": "markdown",
   "source": [],
   "metadata": {
    "collapsed": false
   },
   "id": "86f86b4453c8c367"
  },
  {
   "cell_type": "code",
   "execution_count": 45,
   "outputs": [
    {
     "name": "stdout",
     "output_type": "stream",
     "text": [
      "length of revel without VUS 3732\n",
      "length of revel VUS 1031\n"
     ]
    }
   ],
   "source": [
    "print(f\"length of revel without VUS {len(mutpred_predictions)}\")\n",
    "print(f\"length of revel VUS {len(mutpred_VUS)}\")"
   ],
   "metadata": {
    "collapsed": false,
    "ExecuteTime": {
     "end_time": "2023-11-23T14:31:11.138701700Z",
     "start_time": "2023-11-23T14:31:10.871775Z"
    }
   },
   "id": "344c862cdbaf90e9"
  },
  {
   "cell_type": "code",
   "execution_count": 46,
   "outputs": [
    {
     "data": {
      "text/plain": "     variant  prediction  reality    gene\n0        M1R           0        0  COL2A1\n1        I2A           0        0  COL2A1\n2        I2L           0        0  COL2A1\n3        I2P           0        0  COL2A1\n4        I2T           0        0  COL2A1\n...      ...         ...      ...     ...\n4799   Y217F           0        0    GJB2\n4800   G220A           0        0    GJB2\n4801   G220K           0        0    GJB2\n4802   K221R           0        0    GJB2\n4803   K223R           0        0    GJB2\n\n[4804 rows x 4 columns]",
      "text/html": "<div>\n<style scoped>\n    .dataframe tbody tr th:only-of-type {\n        vertical-align: middle;\n    }\n\n    .dataframe tbody tr th {\n        vertical-align: top;\n    }\n\n    .dataframe thead th {\n        text-align: right;\n    }\n</style>\n<table border=\"1\" class=\"dataframe\">\n  <thead>\n    <tr style=\"text-align: right;\">\n      <th></th>\n      <th>variant</th>\n      <th>prediction</th>\n      <th>reality</th>\n      <th>gene</th>\n    </tr>\n  </thead>\n  <tbody>\n    <tr>\n      <th>0</th>\n      <td>M1R</td>\n      <td>0</td>\n      <td>0</td>\n      <td>COL2A1</td>\n    </tr>\n    <tr>\n      <th>1</th>\n      <td>I2A</td>\n      <td>0</td>\n      <td>0</td>\n      <td>COL2A1</td>\n    </tr>\n    <tr>\n      <th>2</th>\n      <td>I2L</td>\n      <td>0</td>\n      <td>0</td>\n      <td>COL2A1</td>\n    </tr>\n    <tr>\n      <th>3</th>\n      <td>I2P</td>\n      <td>0</td>\n      <td>0</td>\n      <td>COL2A1</td>\n    </tr>\n    <tr>\n      <th>4</th>\n      <td>I2T</td>\n      <td>0</td>\n      <td>0</td>\n      <td>COL2A1</td>\n    </tr>\n    <tr>\n      <th>...</th>\n      <td>...</td>\n      <td>...</td>\n      <td>...</td>\n      <td>...</td>\n    </tr>\n    <tr>\n      <th>4799</th>\n      <td>Y217F</td>\n      <td>0</td>\n      <td>0</td>\n      <td>GJB2</td>\n    </tr>\n    <tr>\n      <th>4800</th>\n      <td>G220A</td>\n      <td>0</td>\n      <td>0</td>\n      <td>GJB2</td>\n    </tr>\n    <tr>\n      <th>4801</th>\n      <td>G220K</td>\n      <td>0</td>\n      <td>0</td>\n      <td>GJB2</td>\n    </tr>\n    <tr>\n      <th>4802</th>\n      <td>K221R</td>\n      <td>0</td>\n      <td>0</td>\n      <td>GJB2</td>\n    </tr>\n    <tr>\n      <th>4803</th>\n      <td>K223R</td>\n      <td>0</td>\n      <td>0</td>\n      <td>GJB2</td>\n    </tr>\n  </tbody>\n</table>\n<p>4804 rows × 4 columns</p>\n</div>"
     },
     "execution_count": 46,
     "metadata": {},
     "output_type": "execute_result"
    }
   ],
   "source": [
    "# Combine the prediction files into one file\n",
    "my_prediction = pd.read_csv(\"C:\\\\Users\\\\InbarBlech\\\\PycharmProjects\\\\Thesis\\\\predictions_vs_real\\\\predictions_vs_real_with_variant_all_genes_updated_221123.csv\")\n",
    "my_prediction"
   ],
   "metadata": {
    "collapsed": false,
    "ExecuteTime": {
     "end_time": "2023-11-23T14:31:11.138701700Z",
     "start_time": "2023-11-23T14:31:10.886850900Z"
    }
   },
   "id": "dae07953cecae426"
  },
  {
   "cell_type": "code",
   "execution_count": 47,
   "outputs": [
    {
     "data": {
      "text/plain": "     variant  prediction  reality    gene  MutPred_score  \\\n0        M1R           0        0  COL2A1          0.960   \n1        I2L           0        0  COL2A1          0.319   \n2        I2V           0        0  COL2A1          0.240   \n3        L4F           0        0  COL2A1          0.326   \n4        A6T           0        0  COL2A1          0.198   \n...      ...         ...      ...     ...            ...   \n3766   Y217F           0        0    GJB2          0.092   \n3767   G220A           0        0    GJB2          0.101   \n3768   G220K           0        0    GJB2          0.142   \n3769   K221R           0        0    GJB2          0.080   \n3770   K223R           0        0    GJB2          0.090   \n\n      MutPred_pathogenicity  \n0                         1  \n1                         0  \n2                         0  \n3                         0  \n4                         0  \n...                     ...  \n3766                      0  \n3767                      0  \n3768                      0  \n3769                      0  \n3770                      0  \n\n[3771 rows x 6 columns]",
      "text/html": "<div>\n<style scoped>\n    .dataframe tbody tr th:only-of-type {\n        vertical-align: middle;\n    }\n\n    .dataframe tbody tr th {\n        vertical-align: top;\n    }\n\n    .dataframe thead th {\n        text-align: right;\n    }\n</style>\n<table border=\"1\" class=\"dataframe\">\n  <thead>\n    <tr style=\"text-align: right;\">\n      <th></th>\n      <th>variant</th>\n      <th>prediction</th>\n      <th>reality</th>\n      <th>gene</th>\n      <th>MutPred_score</th>\n      <th>MutPred_pathogenicity</th>\n    </tr>\n  </thead>\n  <tbody>\n    <tr>\n      <th>0</th>\n      <td>M1R</td>\n      <td>0</td>\n      <td>0</td>\n      <td>COL2A1</td>\n      <td>0.960</td>\n      <td>1</td>\n    </tr>\n    <tr>\n      <th>1</th>\n      <td>I2L</td>\n      <td>0</td>\n      <td>0</td>\n      <td>COL2A1</td>\n      <td>0.319</td>\n      <td>0</td>\n    </tr>\n    <tr>\n      <th>2</th>\n      <td>I2V</td>\n      <td>0</td>\n      <td>0</td>\n      <td>COL2A1</td>\n      <td>0.240</td>\n      <td>0</td>\n    </tr>\n    <tr>\n      <th>3</th>\n      <td>L4F</td>\n      <td>0</td>\n      <td>0</td>\n      <td>COL2A1</td>\n      <td>0.326</td>\n      <td>0</td>\n    </tr>\n    <tr>\n      <th>4</th>\n      <td>A6T</td>\n      <td>0</td>\n      <td>0</td>\n      <td>COL2A1</td>\n      <td>0.198</td>\n      <td>0</td>\n    </tr>\n    <tr>\n      <th>...</th>\n      <td>...</td>\n      <td>...</td>\n      <td>...</td>\n      <td>...</td>\n      <td>...</td>\n      <td>...</td>\n    </tr>\n    <tr>\n      <th>3766</th>\n      <td>Y217F</td>\n      <td>0</td>\n      <td>0</td>\n      <td>GJB2</td>\n      <td>0.092</td>\n      <td>0</td>\n    </tr>\n    <tr>\n      <th>3767</th>\n      <td>G220A</td>\n      <td>0</td>\n      <td>0</td>\n      <td>GJB2</td>\n      <td>0.101</td>\n      <td>0</td>\n    </tr>\n    <tr>\n      <th>3768</th>\n      <td>G220K</td>\n      <td>0</td>\n      <td>0</td>\n      <td>GJB2</td>\n      <td>0.142</td>\n      <td>0</td>\n    </tr>\n    <tr>\n      <th>3769</th>\n      <td>K221R</td>\n      <td>0</td>\n      <td>0</td>\n      <td>GJB2</td>\n      <td>0.080</td>\n      <td>0</td>\n    </tr>\n    <tr>\n      <th>3770</th>\n      <td>K223R</td>\n      <td>0</td>\n      <td>0</td>\n      <td>GJB2</td>\n      <td>0.090</td>\n      <td>0</td>\n    </tr>\n  </tbody>\n</table>\n<p>3771 rows × 6 columns</p>\n</div>"
     },
     "execution_count": 47,
     "metadata": {},
     "output_type": "execute_result"
    }
   ],
   "source": [
    "# Merge the two files #TODO: Make sure it's done correctly\n",
    "merged = pd.merge(my_prediction, mutpred_predictions, on=[\"gene\", \"variant\"])\n",
    "merged"
   ],
   "metadata": {
    "collapsed": false,
    "ExecuteTime": {
     "end_time": "2023-11-23T14:31:11.138701700Z",
     "start_time": "2023-11-23T14:31:10.919606400Z"
    }
   },
   "id": "597cd0127678a0fa"
  },
  {
   "cell_type": "code",
   "execution_count": 48,
   "outputs": [],
   "source": [
    "# To make sure that both tools will be tested on the same variants, save the merged with REVEL file and do so for all other tools. Then merge all the files together.\n",
    "merged_only_tool_columns = merged[['gene', 'variant', 'MutPred_score', 'MutPred_pathogenicity']]\n",
    "merged_only_tool_columns.to_csv(\"C:\\\\Users\\\\InbarBlech\\\\PycharmProjects\\\\Thesis\\\\benchmarking\\\\MutPred_on_dvd_data_predictions_LOPO.csv\")"
   ],
   "metadata": {
    "collapsed": false,
    "ExecuteTime": {
     "end_time": "2023-11-23T14:31:11.138701700Z",
     "start_time": "2023-11-23T14:31:10.950280Z"
    }
   },
   "id": "bc25b043e0903d45"
  },
  {
   "cell_type": "code",
   "execution_count": 49,
   "outputs": [
    {
     "name": "stdout",
     "output_type": "stream",
     "text": [
      "length of merged 3771\n",
      "length of my_prediction 4804\n",
      "length of mutpred 3732\n"
     ]
    }
   ],
   "source": [
    "print(f\"length of merged {len(merged)}\")\n",
    "print(f\"length of my_prediction {len(my_prediction)}\")\n",
    "print(f\"length of mutpred {len(mutpred_predictions)}\")"
   ],
   "metadata": {
    "collapsed": false,
    "ExecuteTime": {
     "end_time": "2023-11-23T14:31:11.138701700Z",
     "start_time": "2023-11-23T14:31:10.981521800Z"
    }
   },
   "id": "132eb6a57eb26b7a"
  },
  {
   "cell_type": "code",
   "execution_count": 50,
   "outputs": [],
   "source": [
    "#############################################################################################################\n",
    "# All next rows were used to calculate the MCC, before realised I must apply first the threshold and remove the VUS variants. Now all these rows aren't in use, since I'm doing the calculations after removing the VUS variants and with all tools together.\n",
    "#############################################################################################################"
   ],
   "metadata": {
    "collapsed": false,
    "ExecuteTime": {
     "end_time": "2023-11-23T14:31:11.138701700Z",
     "start_time": "2023-11-23T14:31:10.997148500Z"
    }
   },
   "id": "1683f0503094cbc6"
  },
  {
   "cell_type": "code",
   "execution_count": 51,
   "outputs": [],
   "source": [
    "# # Save the merged file to csv\n",
    "# merged.to_csv(\"C:\\\\Users\\\\InbarBlech\\\\PycharmProjects\\\\Thesis\\\\predictions_vs_real\\\\merged_my_prediction_and_mutpred.csv\", index=False)"
   ],
   "metadata": {
    "collapsed": false,
    "ExecuteTime": {
     "end_time": "2023-11-23T14:31:11.138701700Z",
     "start_time": "2023-11-23T14:31:11.014796800Z"
    }
   },
   "id": "bba96a0938e5adc7"
  },
  {
   "cell_type": "code",
   "execution_count": 52,
   "outputs": [],
   "source": [
    "## Calculate the MCC for the mutpred predictions, according to the real pathogenicity (0 or 1)\n",
    "from sklearn.metrics import matthews_corrcoef"
   ],
   "metadata": {
    "collapsed": false,
    "ExecuteTime": {
     "end_time": "2023-11-23T14:31:11.626905200Z",
     "start_time": "2023-11-23T14:31:11.028817300Z"
    }
   },
   "id": "57a3d8604bb08730"
  },
  {
   "cell_type": "code",
   "execution_count": 53,
   "outputs": [
    {
     "name": "stdout",
     "output_type": "stream",
     "text": [
      "Number of genes: 8\n"
     ]
    }
   ],
   "source": [
    "# separate the merged dataframe according to gene\n",
    "genes = merged[\"gene\"].unique()\n",
    "print(f\"Number of genes: {len(genes)}\")"
   ],
   "metadata": {
    "collapsed": false,
    "ExecuteTime": {
     "end_time": "2023-11-23T14:31:11.689588Z",
     "start_time": "2023-11-23T14:31:11.314945900Z"
    }
   },
   "id": "82b8979a837034b9"
  },
  {
   "cell_type": "code",
   "execution_count": 54,
   "outputs": [],
   "source": [
    "# # Calculate MCC for each gene specific predictor for mutpred\n",
    "# \n",
    "# # Build dictionary with gene names as keys.\n",
    "# mccs = {gene: 0 for gene in genes}\n",
    "# \n",
    "# for gene in genes:\n",
    "#     gene_df = merged[merged[\"gene\"] == gene]\n",
    "#     # Assuming you have a DataFrame called 'data' with 'prediction' and 'MutPred_score' columns\n",
    "#     # Create binary predictions based on the 0.5 threshold\n",
    "#     gene_df.loc[:, 'binary_prediction_mutpred'] = (gene_df['MutPred_score'] > 0.5).astype(int)\n",
    "#     \n",
    "#     gene_df['predictions'] = gene_df['predictions'].astype(int)\n",
    "#     \n",
    "#     # Calculate MCC\n",
    "#     mcc = matthews_corrcoef(gene_df['predictions'], gene_df['binary_prediction_mutpred'])\n",
    "#     \n",
    "#     # Get gene name for the use for the dictionary\n",
    "#     gene = gene_df['gene'].unique()[0]\n",
    "#     \n",
    "#     # Append mcc to dictionary\n",
    "#     mccs[gene] = mcc\n",
    "# \n",
    "# print(\"MCCs of MutPred2 predictions for each gene:\")\n",
    "# for gene in mccs:\n",
    "#     print(f\"{gene}: {mccs[gene]}\")\n"
   ],
   "metadata": {
    "collapsed": false,
    "ExecuteTime": {
     "end_time": "2023-11-23T14:31:11.768520100Z",
     "start_time": "2023-11-23T14:31:11.327965900Z"
    }
   },
   "id": "e534a510288960cb"
  },
  {
   "cell_type": "code",
   "execution_count": 55,
   "outputs": [],
   "source": [
    "# from sklearn.metrics import roc_auc_score, roc_curve, auc, precision_recall_curve, average_precision_score, f1_score, log_loss, confusion_matrix\n",
    "# # store the results in a dictionary\n",
    "# results = {gene: 0 for gene in genes}\n",
    "# \n",
    "# for gene in genes:\n",
    "#     gene_df = merged[merged[\"gene\"] == gene]\n",
    "#     y_true = gene_df[\"pathogenicity\"].astype(int)\n",
    "#     predicted_probabilities = gene_df[\"MutPred_score\"]\n",
    "#     gene_df.loc[:, 'binary_prediction_mutpred'] = (gene_df['MutPred_score'] > 0.5).astype(int)\n",
    "#     predicted_labels = gene_df[\"binary_prediction_mutpred\"]\n",
    "#     \n",
    "#     results_gene = {}\n",
    "#     # Calculate AUC-ROC\n",
    "#     roc_auc = roc_auc_score(y_true, predicted_probabilities)\n",
    "#     # append to dictionary\n",
    "#     results_gene[\"roc_auc\"] = roc_auc\n",
    "#     \n",
    "#     # Calculate ROC curve\n",
    "#     fpr, tpr, thresholds = roc_curve(y_true, predicted_probabilities)\n",
    "#     roc_auc = auc(fpr, tpr)\n",
    "#     # append to dictionary\n",
    "#     results_gene[\"auc\"] = roc_auc\n",
    "#     \n",
    "#     # Calculate AUC-PR\n",
    "#     precision, recall, _ = precision_recall_curve(y_true, predicted_probabilities)\n",
    "#     pr_auc = auc(recall, precision)\n",
    "#     # append to dictionary\n",
    "#     results_gene[\"pr_auc\"] = pr_auc\n",
    "#     \n",
    "#     # Calculate F1 Score\n",
    "#     f1 = f1_score(y_true, predicted_labels)\n",
    "#     # append to dictionary\n",
    "#     results_gene[\"f1\"] = f1\n",
    "#     \n",
    "#     # Calculate Log Loss\n",
    "#     logloss = log_loss(y_true, predicted_probabilities)\n",
    "#     # append to dictionary\n",
    "#     results_gene[\"logloss\"] = logloss\n",
    "#     \n",
    "#     # Calculate confusion matrix\n",
    "#     conf_matrix = confusion_matrix(y_true, predicted_labels)\n",
    "#     # append to dictionary\n",
    "#     results_gene[\"confusion_matrix\"] = conf_matrix\n",
    "#     \n",
    "#     # Get gene name for the use for the dictionary\n",
    "#     gene = gene_df['gene'].unique()[0]\n",
    "#     # Append results to dictionary\n",
    "#     results[gene] = results_gene\n",
    "#     \n",
    "# ## Print results\n",
    "# print(\"Results of MutPred2 predictions for each gene:\")\n",
    "# for gene in results:\n",
    "#     print(f\"{gene}: {results[gene]}\")"
   ],
   "metadata": {
    "collapsed": false,
    "ExecuteTime": {
     "end_time": "2023-11-23T14:31:11.799927500Z",
     "start_time": "2023-11-23T14:31:11.343843700Z"
    }
   },
   "id": "f799b7d2cd6a08da"
  },
  {
   "cell_type": "code",
   "execution_count": 56,
   "outputs": [],
   "source": [
    "# # present the confusion matrix for each gene\n",
    "# import matplotlib.pyplot as plt\n",
    "# \n",
    "# for gene in results:\n",
    "#     # Plot confusion matrix\n",
    "#     plt.imshow(results[gene][\"confusion_matrix\"], cmap=plt.cm.Blues)\n",
    "#     plt.xlabel(\"Predicted labels\")\n",
    "#     plt.ylabel(\"True labels\")\n",
    "#     plt.xticks([0, 1], [\"Benign\", \"Pathogenic\"])\n",
    "#     plt.yticks([0, 1], [\"Benign\", \"Pathogenic\"])\n",
    "#     plt.title(f\"Confusion matrix for {gene}, MutPred2 predictions\")\n",
    "#     plt.style.use(\"seaborn-white\")\n",
    "#     # Add text annotations\n",
    "#     for i in range(2):\n",
    "#         for j in range(2):\n",
    "#             plt.text(j, i, results[gene][\"confusion_matrix\"][i, j], ha=\"center\", va=\"center\", color=\"black\", backgroundcolor=\"white\")\n",
    "#     plt.colorbar()\n",
    "#     plt.show()"
   ],
   "metadata": {
    "collapsed": false,
    "ExecuteTime": {
     "end_time": "2023-11-23T14:31:11.799927500Z",
     "start_time": "2023-11-23T14:31:11.359522900Z"
    }
   },
   "id": "f079a669b25f338e"
  },
  {
   "cell_type": "code",
   "execution_count": 57,
   "outputs": [],
   "source": [
    "# # present the ROC curve for each gene\n",
    "# for gene in results:\n",
    "#     # Plot ROC curve\n",
    "#     plt.plot(fpr, tpr, color=\"darkorange\", lw=2, label=f\"ROC curve (area = {results[gene]['roc_auc']:.2f})\")\n",
    "#     plt.plot([0, 1], [0, 1], color=\"navy\", lw=2, linestyle=\"--\")\n",
    "#     plt.xlim([0.0, 1.0])\n",
    "#     plt.ylim([0.0, 1.05])\n",
    "#     plt.xlabel(\"False Positive Rate\")\n",
    "#     plt.ylabel(\"True Positive Rate\")\n",
    "#     plt.title(f\"ROC curve for {gene}, MutPred2 predictions\")\n",
    "#     plt.legend(loc=\"lower right\")\n",
    "#     plt.show()"
   ],
   "metadata": {
    "collapsed": false,
    "ExecuteTime": {
     "end_time": "2023-11-23T14:31:11.799927500Z",
     "start_time": "2023-11-23T14:31:11.375623600Z"
    }
   },
   "id": "593e79ee559d6f62"
  }
 ],
 "metadata": {
  "kernelspec": {
   "display_name": "Python 3",
   "language": "python",
   "name": "python3"
  },
  "language_info": {
   "codemirror_mode": {
    "name": "ipython",
    "version": 2
   },
   "file_extension": ".py",
   "mimetype": "text/x-python",
   "name": "python",
   "nbconvert_exporter": "python",
   "pygments_lexer": "ipython2",
   "version": "2.7.6"
  }
 },
 "nbformat": 4,
 "nbformat_minor": 5
}
