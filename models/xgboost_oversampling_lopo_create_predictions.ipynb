{
 "cells": [
  {
   "cell_type": "code",
   "execution_count": 104,
   "outputs": [],
   "source": [
    "import pandas as pd\n",
    "import numpy as np\n",
    "import xgboost as xgb\n",
    "from sklearn.model_selection import train_test_split\n",
    "from sklearn.metrics import accuracy_score, classification_report, confusion_matrix, matthews_corrcoef, roc_auc_score, roc_curve\n",
    "import matplotlib.pyplot as plt\n",
    "import seaborn as sns\n",
    "from imblearn.over_sampling import SMOTE\n",
    "from sklearn.discriminant_analysis import LinearDiscriminantAnalysis"
   ],
   "metadata": {
    "collapsed": false,
    "ExecuteTime": {
     "end_time": "2023-11-22T11:03:25.835022500Z",
     "start_time": "2023-11-22T11:03:25.787550500Z"
    }
   },
   "id": "afd739d50c18f101"
  },
  {
   "cell_type": "code",
   "execution_count": 105,
   "outputs": [
    {
     "data": {
      "text/plain": "        gene variant pathogenicity uniprot_id  stability_WT  stability_MUT  \\\n0    SLC26A4     G5R        benign     O43511       212.020        211.846   \n1    SLC26A4     G6S        benign     O43511       212.020        212.039   \n2    SLC26A4     S8L        benign     O43511       210.619        210.978   \n3    SLC26A4    S17R        benign     O43511       211.182        212.727   \n4    SLC26A4    M21V        benign     O43511       211.925        211.821   \n..       ...     ...           ...        ...           ...            ...   \n345  SLC26A4   S642P        benign        NaN       211.795        213.213   \n346  SLC26A4   G740S        benign        NaN       211.894        211.168   \n347  SLC26A4     G6V        benign        NaN       212.020        212.059   \n348  SLC26A4   I300L        benign        NaN       208.623        207.343   \n349  SLC26A4   A357T        benign        NaN       209.711        210.315   \n\n     blosum  hydrophobicity_WT  hydrophobicity_MUT  volume_WT  ...  oda_MUT  \\\n0        -2               -0.4                -4.5       60.1  ...     3.71   \n1         0               -0.4                -0.8       60.1  ...     1.69   \n2        -2               -0.8                 3.8       89.0  ...    -6.48   \n3        -1               -0.8                -4.5       89.0  ...   -15.41   \n4         1                1.9                 4.2      162.9  ...   -22.06   \n..      ...                ...                 ...        ...  ...      ...   \n345      -1               -0.8                -1.6       89.0  ...    -1.06   \n346       0               -0.4                -0.8       60.1  ...     0.70   \n347      -3               -0.4                 4.2       60.1  ...    -1.75   \n348       2                4.5                 3.8      166.7  ...   -34.76   \n349       0                1.8                -0.7       88.6  ...     0.00   \n\n     sasa_WT sasa_MUT    RSA_WT   RSA_MUT  oda_delta sasa_delta   pssm  \\\n0      76.60   198.67  0.789691  0.749698       3.52     122.07  3.169   \n1      72.69   108.13  0.749381  0.756154       1.71      35.44  2.239   \n2     101.96   149.01  0.713007  0.780157      -7.14      47.05  2.329   \n3     107.43   198.47  0.751259  0.748943       1.78      91.04  2.589   \n4     176.08   127.29  0.867389  0.771455      -6.77     -48.79 -0.901   \n..       ...      ...       ...       ...        ...        ...    ...   \n345    56.04    71.40  0.391888  0.463636      -1.04      15.36  3.696   \n346    66.51    93.78  0.685670  0.655804       0.82      27.27 -3.738   \n347    72.69   139.56  0.749381  0.845818      -1.73      66.87  2.239   \n348    72.14    80.09  0.369949  0.419319       2.44       7.95  4.521   \n349     0.00     0.00  0.000000  0.000000       0.00       0.00  4.762   \n\n     entropy  position  \n0      2.538         5  \n1      2.903         6  \n2      3.161         8  \n3      2.106        17  \n4      2.771        21  \n..       ...       ...  \n345    2.115       642  \n346    1.271       740  \n347    2.903         6  \n348    0.166       300  \n349    0.324       357  \n\n[350 rows x 32 columns]",
      "text/html": "<div>\n<style scoped>\n    .dataframe tbody tr th:only-of-type {\n        vertical-align: middle;\n    }\n\n    .dataframe tbody tr th {\n        vertical-align: top;\n    }\n\n    .dataframe thead th {\n        text-align: right;\n    }\n</style>\n<table border=\"1\" class=\"dataframe\">\n  <thead>\n    <tr style=\"text-align: right;\">\n      <th></th>\n      <th>gene</th>\n      <th>variant</th>\n      <th>pathogenicity</th>\n      <th>uniprot_id</th>\n      <th>stability_WT</th>\n      <th>stability_MUT</th>\n      <th>blosum</th>\n      <th>hydrophobicity_WT</th>\n      <th>hydrophobicity_MUT</th>\n      <th>volume_WT</th>\n      <th>...</th>\n      <th>oda_MUT</th>\n      <th>sasa_WT</th>\n      <th>sasa_MUT</th>\n      <th>RSA_WT</th>\n      <th>RSA_MUT</th>\n      <th>oda_delta</th>\n      <th>sasa_delta</th>\n      <th>pssm</th>\n      <th>entropy</th>\n      <th>position</th>\n    </tr>\n  </thead>\n  <tbody>\n    <tr>\n      <th>0</th>\n      <td>SLC26A4</td>\n      <td>G5R</td>\n      <td>benign</td>\n      <td>O43511</td>\n      <td>212.020</td>\n      <td>211.846</td>\n      <td>-2</td>\n      <td>-0.4</td>\n      <td>-4.5</td>\n      <td>60.1</td>\n      <td>...</td>\n      <td>3.71</td>\n      <td>76.60</td>\n      <td>198.67</td>\n      <td>0.789691</td>\n      <td>0.749698</td>\n      <td>3.52</td>\n      <td>122.07</td>\n      <td>3.169</td>\n      <td>2.538</td>\n      <td>5</td>\n    </tr>\n    <tr>\n      <th>1</th>\n      <td>SLC26A4</td>\n      <td>G6S</td>\n      <td>benign</td>\n      <td>O43511</td>\n      <td>212.020</td>\n      <td>212.039</td>\n      <td>0</td>\n      <td>-0.4</td>\n      <td>-0.8</td>\n      <td>60.1</td>\n      <td>...</td>\n      <td>1.69</td>\n      <td>72.69</td>\n      <td>108.13</td>\n      <td>0.749381</td>\n      <td>0.756154</td>\n      <td>1.71</td>\n      <td>35.44</td>\n      <td>2.239</td>\n      <td>2.903</td>\n      <td>6</td>\n    </tr>\n    <tr>\n      <th>2</th>\n      <td>SLC26A4</td>\n      <td>S8L</td>\n      <td>benign</td>\n      <td>O43511</td>\n      <td>210.619</td>\n      <td>210.978</td>\n      <td>-2</td>\n      <td>-0.8</td>\n      <td>3.8</td>\n      <td>89.0</td>\n      <td>...</td>\n      <td>-6.48</td>\n      <td>101.96</td>\n      <td>149.01</td>\n      <td>0.713007</td>\n      <td>0.780157</td>\n      <td>-7.14</td>\n      <td>47.05</td>\n      <td>2.329</td>\n      <td>3.161</td>\n      <td>8</td>\n    </tr>\n    <tr>\n      <th>3</th>\n      <td>SLC26A4</td>\n      <td>S17R</td>\n      <td>benign</td>\n      <td>O43511</td>\n      <td>211.182</td>\n      <td>212.727</td>\n      <td>-1</td>\n      <td>-0.8</td>\n      <td>-4.5</td>\n      <td>89.0</td>\n      <td>...</td>\n      <td>-15.41</td>\n      <td>107.43</td>\n      <td>198.47</td>\n      <td>0.751259</td>\n      <td>0.748943</td>\n      <td>1.78</td>\n      <td>91.04</td>\n      <td>2.589</td>\n      <td>2.106</td>\n      <td>17</td>\n    </tr>\n    <tr>\n      <th>4</th>\n      <td>SLC26A4</td>\n      <td>M21V</td>\n      <td>benign</td>\n      <td>O43511</td>\n      <td>211.925</td>\n      <td>211.821</td>\n      <td>1</td>\n      <td>1.9</td>\n      <td>4.2</td>\n      <td>162.9</td>\n      <td>...</td>\n      <td>-22.06</td>\n      <td>176.08</td>\n      <td>127.29</td>\n      <td>0.867389</td>\n      <td>0.771455</td>\n      <td>-6.77</td>\n      <td>-48.79</td>\n      <td>-0.901</td>\n      <td>2.771</td>\n      <td>21</td>\n    </tr>\n    <tr>\n      <th>...</th>\n      <td>...</td>\n      <td>...</td>\n      <td>...</td>\n      <td>...</td>\n      <td>...</td>\n      <td>...</td>\n      <td>...</td>\n      <td>...</td>\n      <td>...</td>\n      <td>...</td>\n      <td>...</td>\n      <td>...</td>\n      <td>...</td>\n      <td>...</td>\n      <td>...</td>\n      <td>...</td>\n      <td>...</td>\n      <td>...</td>\n      <td>...</td>\n      <td>...</td>\n      <td>...</td>\n    </tr>\n    <tr>\n      <th>345</th>\n      <td>SLC26A4</td>\n      <td>S642P</td>\n      <td>benign</td>\n      <td>NaN</td>\n      <td>211.795</td>\n      <td>213.213</td>\n      <td>-1</td>\n      <td>-0.8</td>\n      <td>-1.6</td>\n      <td>89.0</td>\n      <td>...</td>\n      <td>-1.06</td>\n      <td>56.04</td>\n      <td>71.40</td>\n      <td>0.391888</td>\n      <td>0.463636</td>\n      <td>-1.04</td>\n      <td>15.36</td>\n      <td>3.696</td>\n      <td>2.115</td>\n      <td>642</td>\n    </tr>\n    <tr>\n      <th>346</th>\n      <td>SLC26A4</td>\n      <td>G740S</td>\n      <td>benign</td>\n      <td>NaN</td>\n      <td>211.894</td>\n      <td>211.168</td>\n      <td>0</td>\n      <td>-0.4</td>\n      <td>-0.8</td>\n      <td>60.1</td>\n      <td>...</td>\n      <td>0.70</td>\n      <td>66.51</td>\n      <td>93.78</td>\n      <td>0.685670</td>\n      <td>0.655804</td>\n      <td>0.82</td>\n      <td>27.27</td>\n      <td>-3.738</td>\n      <td>1.271</td>\n      <td>740</td>\n    </tr>\n    <tr>\n      <th>347</th>\n      <td>SLC26A4</td>\n      <td>G6V</td>\n      <td>benign</td>\n      <td>NaN</td>\n      <td>212.020</td>\n      <td>212.059</td>\n      <td>-3</td>\n      <td>-0.4</td>\n      <td>4.2</td>\n      <td>60.1</td>\n      <td>...</td>\n      <td>-1.75</td>\n      <td>72.69</td>\n      <td>139.56</td>\n      <td>0.749381</td>\n      <td>0.845818</td>\n      <td>-1.73</td>\n      <td>66.87</td>\n      <td>2.239</td>\n      <td>2.903</td>\n      <td>6</td>\n    </tr>\n    <tr>\n      <th>348</th>\n      <td>SLC26A4</td>\n      <td>I300L</td>\n      <td>benign</td>\n      <td>NaN</td>\n      <td>208.623</td>\n      <td>207.343</td>\n      <td>2</td>\n      <td>4.5</td>\n      <td>3.8</td>\n      <td>166.7</td>\n      <td>...</td>\n      <td>-34.76</td>\n      <td>72.14</td>\n      <td>80.09</td>\n      <td>0.369949</td>\n      <td>0.419319</td>\n      <td>2.44</td>\n      <td>7.95</td>\n      <td>4.521</td>\n      <td>0.166</td>\n      <td>300</td>\n    </tr>\n    <tr>\n      <th>349</th>\n      <td>SLC26A4</td>\n      <td>A357T</td>\n      <td>benign</td>\n      <td>NaN</td>\n      <td>209.711</td>\n      <td>210.315</td>\n      <td>0</td>\n      <td>1.8</td>\n      <td>-0.7</td>\n      <td>88.6</td>\n      <td>...</td>\n      <td>0.00</td>\n      <td>0.00</td>\n      <td>0.00</td>\n      <td>0.000000</td>\n      <td>0.000000</td>\n      <td>0.00</td>\n      <td>0.00</td>\n      <td>4.762</td>\n      <td>0.324</td>\n      <td>357</td>\n    </tr>\n  </tbody>\n</table>\n<p>350 rows × 32 columns</p>\n</div>"
     },
     "execution_count": 105,
     "metadata": {},
     "output_type": "execute_result"
    }
   ],
   "source": [
    "filename = ('C:\\\\Users\\\\InbarBlech\\\\PycharmProjects\\\\Thesis\\\\gene_specific_df\\\\SLC26A4_with_position.csv')\n",
    "data = pd.read_csv(f\"{filename}\")\n",
    "data.head(10)\n",
    "dot_index = filename.index('_')\n",
    "gene = filename[:dot_index]\n",
    "if gene == \"combined\" or gene == \"combined_with_source\":\n",
    "    gene = \"7 genes\"\n",
    "if gene == \"features\":\n",
    "    gene = \"190 genes\"\n",
    "    \n",
    "data"
   ],
   "metadata": {
    "collapsed": false,
    "ExecuteTime": {
     "end_time": "2023-11-22T11:03:26.288861700Z",
     "start_time": "2023-11-22T11:03:26.213800600Z"
    }
   },
   "id": "da024e48ed056208"
  },
  {
   "cell_type": "code",
   "execution_count": 106,
   "outputs": [
    {
     "data": {
      "text/plain": "    variant  pathogenicity  blosum  plddt_residue  stability_delta  \\\n0       G5R              0      -2          42.05           -0.174   \n1       G6S              0       0          43.98            0.019   \n2       S8L              0      -2          50.88            0.359   \n3      S17R              0      -1          57.11            1.545   \n4      M21V              0       1          85.90           -0.104   \n..      ...            ...     ...            ...              ...   \n345   S642P              0      -1          69.80            1.418   \n346   G740S              0       0          41.01           -0.726   \n347     G6V              0      -3          43.98            0.039   \n348   I300L              0       2          80.13           -1.280   \n349   A357T              0       0          92.16            0.604   \n\n     hydrophobicity_delta  volume_delta    RSA_WT  oda_delta  sasa_delta  \\\n0                    -4.1         113.3  0.789691       3.52      122.07   \n1                    -0.4          28.9  0.749381       1.71       35.44   \n2                     4.6          77.7  0.713007      -7.14       47.05   \n3                    -3.7          84.4  0.751259       1.78       91.04   \n4                     2.3         -22.9  0.867389      -6.77      -48.79   \n..                    ...           ...       ...        ...         ...   \n345                  -0.8          23.7  0.391888      -1.04       15.36   \n346                  -0.4          28.9  0.685670       0.82       27.27   \n347                   4.6          79.9  0.749381      -1.73       66.87   \n348                  -0.7           0.0  0.369949       2.44        7.95   \n349                  -2.5          27.5  0.000000       0.00        0.00   \n\n      pssm  entropy  position  secondary_structure_Loop  \n0    3.169    2.538         5                         1  \n1    2.239    2.903         6                         1  \n2    2.329    3.161         8                         1  \n3    2.589    2.106        17                         1  \n4   -0.901    2.771        21                         1  \n..     ...      ...       ...                       ...  \n345  3.696    2.115       642                         1  \n346 -3.738    1.271       740                         1  \n347  2.239    2.903         6                         1  \n348  4.521    0.166       300                         1  \n349  4.762    0.324       357                         1  \n\n[350 rows x 14 columns]",
      "text/html": "<div>\n<style scoped>\n    .dataframe tbody tr th:only-of-type {\n        vertical-align: middle;\n    }\n\n    .dataframe tbody tr th {\n        vertical-align: top;\n    }\n\n    .dataframe thead th {\n        text-align: right;\n    }\n</style>\n<table border=\"1\" class=\"dataframe\">\n  <thead>\n    <tr style=\"text-align: right;\">\n      <th></th>\n      <th>variant</th>\n      <th>pathogenicity</th>\n      <th>blosum</th>\n      <th>plddt_residue</th>\n      <th>stability_delta</th>\n      <th>hydrophobicity_delta</th>\n      <th>volume_delta</th>\n      <th>RSA_WT</th>\n      <th>oda_delta</th>\n      <th>sasa_delta</th>\n      <th>pssm</th>\n      <th>entropy</th>\n      <th>position</th>\n      <th>secondary_structure_Loop</th>\n    </tr>\n  </thead>\n  <tbody>\n    <tr>\n      <th>0</th>\n      <td>G5R</td>\n      <td>0</td>\n      <td>-2</td>\n      <td>42.05</td>\n      <td>-0.174</td>\n      <td>-4.1</td>\n      <td>113.3</td>\n      <td>0.789691</td>\n      <td>3.52</td>\n      <td>122.07</td>\n      <td>3.169</td>\n      <td>2.538</td>\n      <td>5</td>\n      <td>1</td>\n    </tr>\n    <tr>\n      <th>1</th>\n      <td>G6S</td>\n      <td>0</td>\n      <td>0</td>\n      <td>43.98</td>\n      <td>0.019</td>\n      <td>-0.4</td>\n      <td>28.9</td>\n      <td>0.749381</td>\n      <td>1.71</td>\n      <td>35.44</td>\n      <td>2.239</td>\n      <td>2.903</td>\n      <td>6</td>\n      <td>1</td>\n    </tr>\n    <tr>\n      <th>2</th>\n      <td>S8L</td>\n      <td>0</td>\n      <td>-2</td>\n      <td>50.88</td>\n      <td>0.359</td>\n      <td>4.6</td>\n      <td>77.7</td>\n      <td>0.713007</td>\n      <td>-7.14</td>\n      <td>47.05</td>\n      <td>2.329</td>\n      <td>3.161</td>\n      <td>8</td>\n      <td>1</td>\n    </tr>\n    <tr>\n      <th>3</th>\n      <td>S17R</td>\n      <td>0</td>\n      <td>-1</td>\n      <td>57.11</td>\n      <td>1.545</td>\n      <td>-3.7</td>\n      <td>84.4</td>\n      <td>0.751259</td>\n      <td>1.78</td>\n      <td>91.04</td>\n      <td>2.589</td>\n      <td>2.106</td>\n      <td>17</td>\n      <td>1</td>\n    </tr>\n    <tr>\n      <th>4</th>\n      <td>M21V</td>\n      <td>0</td>\n      <td>1</td>\n      <td>85.90</td>\n      <td>-0.104</td>\n      <td>2.3</td>\n      <td>-22.9</td>\n      <td>0.867389</td>\n      <td>-6.77</td>\n      <td>-48.79</td>\n      <td>-0.901</td>\n      <td>2.771</td>\n      <td>21</td>\n      <td>1</td>\n    </tr>\n    <tr>\n      <th>...</th>\n      <td>...</td>\n      <td>...</td>\n      <td>...</td>\n      <td>...</td>\n      <td>...</td>\n      <td>...</td>\n      <td>...</td>\n      <td>...</td>\n      <td>...</td>\n      <td>...</td>\n      <td>...</td>\n      <td>...</td>\n      <td>...</td>\n      <td>...</td>\n    </tr>\n    <tr>\n      <th>345</th>\n      <td>S642P</td>\n      <td>0</td>\n      <td>-1</td>\n      <td>69.80</td>\n      <td>1.418</td>\n      <td>-0.8</td>\n      <td>23.7</td>\n      <td>0.391888</td>\n      <td>-1.04</td>\n      <td>15.36</td>\n      <td>3.696</td>\n      <td>2.115</td>\n      <td>642</td>\n      <td>1</td>\n    </tr>\n    <tr>\n      <th>346</th>\n      <td>G740S</td>\n      <td>0</td>\n      <td>0</td>\n      <td>41.01</td>\n      <td>-0.726</td>\n      <td>-0.4</td>\n      <td>28.9</td>\n      <td>0.685670</td>\n      <td>0.82</td>\n      <td>27.27</td>\n      <td>-3.738</td>\n      <td>1.271</td>\n      <td>740</td>\n      <td>1</td>\n    </tr>\n    <tr>\n      <th>347</th>\n      <td>G6V</td>\n      <td>0</td>\n      <td>-3</td>\n      <td>43.98</td>\n      <td>0.039</td>\n      <td>4.6</td>\n      <td>79.9</td>\n      <td>0.749381</td>\n      <td>-1.73</td>\n      <td>66.87</td>\n      <td>2.239</td>\n      <td>2.903</td>\n      <td>6</td>\n      <td>1</td>\n    </tr>\n    <tr>\n      <th>348</th>\n      <td>I300L</td>\n      <td>0</td>\n      <td>2</td>\n      <td>80.13</td>\n      <td>-1.280</td>\n      <td>-0.7</td>\n      <td>0.0</td>\n      <td>0.369949</td>\n      <td>2.44</td>\n      <td>7.95</td>\n      <td>4.521</td>\n      <td>0.166</td>\n      <td>300</td>\n      <td>1</td>\n    </tr>\n    <tr>\n      <th>349</th>\n      <td>A357T</td>\n      <td>0</td>\n      <td>0</td>\n      <td>92.16</td>\n      <td>0.604</td>\n      <td>-2.5</td>\n      <td>27.5</td>\n      <td>0.000000</td>\n      <td>0.00</td>\n      <td>0.00</td>\n      <td>4.762</td>\n      <td>0.324</td>\n      <td>357</td>\n      <td>1</td>\n    </tr>\n  </tbody>\n</table>\n<p>350 rows × 14 columns</p>\n</div>"
     },
     "execution_count": 106,
     "metadata": {},
     "output_type": "execute_result"
    }
   ],
   "source": [
    "\n",
    "data = pd.get_dummies(data, columns=[\"secondary_structure\"])\n",
    "\n",
    "mapping = {\"benign\": 0, \"pathogenic\": 1}\n",
    "data[\"pathogenicity\"] = data[\"pathogenicity\"].map(mapping)\n",
    "\n",
    "data = data.drop(\n",
    "    labels=[\"uniprot_id\", \"stability_WT\", \"stability_MUT\", \"hydrophobicity_WT\", \"hydrophobicity_MUT\", \"volume_WT\",\n",
    "            \"volume_MUT\", \"sequence_length\", \"oda_MUT\", \"oda_WT\", \"sasa_WT\", \"sasa_MUT\", \"RSA_MUT\", \"gene\",\n",
    "            \"protein_contain_transmembrane\", \"is_residue_transmembranal\", \"aa_WT\", \"aa_MUT\"], axis=1, inplace=False)\n",
    "\n",
    "data"
   ],
   "metadata": {
    "collapsed": false,
    "ExecuteTime": {
     "end_time": "2023-11-22T11:03:26.784818700Z",
     "start_time": "2023-11-22T11:03:26.674485500Z"
    }
   },
   "id": "c52a56816aec221b"
  },
  {
   "cell_type": "code",
   "execution_count": 107,
   "outputs": [],
   "source": [
    "# structural_features = [\"oda_delta\", \"stability_delta\", \"secondary_structure_Beta strand\", \"secondary_structure_Helix\", \"secondary_structure_Loop\", \"sasa_delta\", \"RSA_WT\"]\n",
    "# # Drop structural features\n",
    "# data = data.drop(labels=[\"stability_delta\"], axis=1, inplace=False)"
   ],
   "metadata": {
    "collapsed": false,
    "ExecuteTime": {
     "end_time": "2023-11-22T11:03:27.122392900Z",
     "start_time": "2023-11-22T11:03:27.090118800Z"
    }
   },
   "id": "365a5d18d31b0d9c"
  },
  {
   "cell_type": "code",
   "execution_count": 108,
   "outputs": [
    {
     "name": "stdout",
     "output_type": "stream",
     "text": [
      "Position: 5 (1/264)\n",
      "TP: 0, FP: 0, TN: 1, FN: 0\n",
      "tps: 0, fps: 0, fns: 0, tns: 1\n",
      "Prediction: [0]. Reality: [0]\n",
      "Position: 6 (2/264)\n"
     ]
    },
    {
     "name": "stderr",
     "output_type": "stream",
     "text": [
      "C:\\Users\\InbarBlech\\AppData\\Local\\Temp\\ipykernel_25004\\1756431869.py:42: FutureWarning: The frame.append method is deprecated and will be removed from pandas in a future version. Use pandas.concat instead.\n",
      "  predictions_df = predictions_df.append({\"variant\": row[\"variant\"], \"prediction\": y_pred[index], \"reality\": row[\"pathogenicity\"]}, ignore_index=True)\n",
      "C:\\Users\\InbarBlech\\AppData\\Local\\Temp\\ipykernel_25004\\1756431869.py:42: FutureWarning: The frame.append method is deprecated and will be removed from pandas in a future version. Use pandas.concat instead.\n",
      "  predictions_df = predictions_df.append({\"variant\": row[\"variant\"], \"prediction\": y_pred[index], \"reality\": row[\"pathogenicity\"]}, ignore_index=True)\n",
      "C:\\Users\\InbarBlech\\AppData\\Local\\Temp\\ipykernel_25004\\1756431869.py:42: FutureWarning: The frame.append method is deprecated and will be removed from pandas in a future version. Use pandas.concat instead.\n",
      "  predictions_df = predictions_df.append({\"variant\": row[\"variant\"], \"prediction\": y_pred[index], \"reality\": row[\"pathogenicity\"]}, ignore_index=True)\n"
     ]
    },
    {
     "name": "stdout",
     "output_type": "stream",
     "text": [
      "TP: 0, FP: 0, TN: 2, FN: 0\n",
      "tps: 0, fps: 0, fns: 0, tns: 3\n",
      "Prediction: [0 0]. Reality: [0 0]\n",
      "Position: 8 (3/264)\n",
      "TP: 0, FP: 0, TN: 1, FN: 0\n",
      "tps: 0, fps: 0, fns: 0, tns: 4\n",
      "Prediction: [0]. Reality: [0]\n",
      "Position: 17 (4/264)\n"
     ]
    },
    {
     "name": "stderr",
     "output_type": "stream",
     "text": [
      "C:\\Users\\InbarBlech\\AppData\\Local\\Temp\\ipykernel_25004\\1756431869.py:42: FutureWarning: The frame.append method is deprecated and will be removed from pandas in a future version. Use pandas.concat instead.\n",
      "  predictions_df = predictions_df.append({\"variant\": row[\"variant\"], \"prediction\": y_pred[index], \"reality\": row[\"pathogenicity\"]}, ignore_index=True)\n",
      "C:\\Users\\InbarBlech\\AppData\\Local\\Temp\\ipykernel_25004\\1756431869.py:42: FutureWarning: The frame.append method is deprecated and will be removed from pandas in a future version. Use pandas.concat instead.\n",
      "  predictions_df = predictions_df.append({\"variant\": row[\"variant\"], \"prediction\": y_pred[index], \"reality\": row[\"pathogenicity\"]}, ignore_index=True)\n"
     ]
    },
    {
     "name": "stdout",
     "output_type": "stream",
     "text": [
      "TP: 0, FP: 0, TN: 1, FN: 0\n",
      "tps: 0, fps: 0, fns: 0, tns: 5\n",
      "Prediction: [0]. Reality: [0]\n",
      "Position: 21 (5/264)\n"
     ]
    },
    {
     "name": "stderr",
     "output_type": "stream",
     "text": [
      "C:\\Users\\InbarBlech\\AppData\\Local\\Temp\\ipykernel_25004\\1756431869.py:42: FutureWarning: The frame.append method is deprecated and will be removed from pandas in a future version. Use pandas.concat instead.\n",
      "  predictions_df = predictions_df.append({\"variant\": row[\"variant\"], \"prediction\": y_pred[index], \"reality\": row[\"pathogenicity\"]}, ignore_index=True)\n"
     ]
    },
    {
     "name": "stdout",
     "output_type": "stream",
     "text": [
      "TP: 0, FP: 0, TN: 1, FN: 0\n",
      "tps: 0, fps: 0, fns: 0, tns: 6\n",
      "Prediction: [0]. Reality: [0]\n",
      "Position: 39 (6/264)\n"
     ]
    },
    {
     "name": "stderr",
     "output_type": "stream",
     "text": [
      "C:\\Users\\InbarBlech\\AppData\\Local\\Temp\\ipykernel_25004\\1756431869.py:42: FutureWarning: The frame.append method is deprecated and will be removed from pandas in a future version. Use pandas.concat instead.\n",
      "  predictions_df = predictions_df.append({\"variant\": row[\"variant\"], \"prediction\": y_pred[index], \"reality\": row[\"pathogenicity\"]}, ignore_index=True)\n",
      "C:\\Users\\InbarBlech\\AppData\\Local\\Temp\\ipykernel_25004\\1756431869.py:42: FutureWarning: The frame.append method is deprecated and will be removed from pandas in a future version. Use pandas.concat instead.\n",
      "  predictions_df = predictions_df.append({\"variant\": row[\"variant\"], \"prediction\": y_pred[index], \"reality\": row[\"pathogenicity\"]}, ignore_index=True)\n",
      "C:\\Users\\InbarBlech\\AppData\\Local\\Temp\\ipykernel_25004\\1756431869.py:42: FutureWarning: The frame.append method is deprecated and will be removed from pandas in a future version. Use pandas.concat instead.\n",
      "  predictions_df = predictions_df.append({\"variant\": row[\"variant\"], \"prediction\": y_pred[index], \"reality\": row[\"pathogenicity\"]}, ignore_index=True)\n"
     ]
    },
    {
     "name": "stdout",
     "output_type": "stream",
     "text": [
      "TP: 0, FP: 1, TN: 0, FN: 0\n",
      "tps: 0, fps: 1, fns: 0, tns: 6\n",
      "Prediction: [1]. Reality: [0]\n",
      "Position: 51 (7/264)\n",
      "TP: 0, FP: 0, TN: 2, FN: 0\n",
      "tps: 0, fps: 1, fns: 0, tns: 8\n",
      "Prediction: [0 0]. Reality: [0 0]\n",
      "Position: 53 (8/264)\n"
     ]
    },
    {
     "name": "stderr",
     "output_type": "stream",
     "text": [
      "C:\\Users\\InbarBlech\\AppData\\Local\\Temp\\ipykernel_25004\\1756431869.py:42: FutureWarning: The frame.append method is deprecated and will be removed from pandas in a future version. Use pandas.concat instead.\n",
      "  predictions_df = predictions_df.append({\"variant\": row[\"variant\"], \"prediction\": y_pred[index], \"reality\": row[\"pathogenicity\"]}, ignore_index=True)\n"
     ]
    },
    {
     "name": "stdout",
     "output_type": "stream",
     "text": [
      "TP: 0, FP: 0, TN: 1, FN: 0\n",
      "tps: 0, fps: 1, fns: 0, tns: 9\n",
      "Prediction: [0]. Reality: [0]\n",
      "Position: 64 (9/264)\n"
     ]
    },
    {
     "name": "stderr",
     "output_type": "stream",
     "text": [
      "C:\\Users\\InbarBlech\\AppData\\Local\\Temp\\ipykernel_25004\\1756431869.py:42: FutureWarning: The frame.append method is deprecated and will be removed from pandas in a future version. Use pandas.concat instead.\n",
      "  predictions_df = predictions_df.append({\"variant\": row[\"variant\"], \"prediction\": y_pred[index], \"reality\": row[\"pathogenicity\"]}, ignore_index=True)\n",
      "C:\\Users\\InbarBlech\\AppData\\Local\\Temp\\ipykernel_25004\\1756431869.py:42: FutureWarning: The frame.append method is deprecated and will be removed from pandas in a future version. Use pandas.concat instead.\n",
      "  predictions_df = predictions_df.append({\"variant\": row[\"variant\"], \"prediction\": y_pred[index], \"reality\": row[\"pathogenicity\"]}, ignore_index=True)\n"
     ]
    },
    {
     "name": "stdout",
     "output_type": "stream",
     "text": [
      "TP: 0, FP: 0, TN: 1, FN: 0\n",
      "tps: 0, fps: 1, fns: 0, tns: 10\n",
      "Prediction: [0]. Reality: [0]\n",
      "Position: 67 (10/264)\n",
      "TP: 0, FP: 0, TN: 1, FN: 0\n",
      "tps: 0, fps: 1, fns: 0, tns: 11\n",
      "Prediction: [0]. Reality: [0]\n",
      "Position: 69 (11/264)\n"
     ]
    },
    {
     "name": "stderr",
     "output_type": "stream",
     "text": [
      "C:\\Users\\InbarBlech\\AppData\\Local\\Temp\\ipykernel_25004\\1756431869.py:42: FutureWarning: The frame.append method is deprecated and will be removed from pandas in a future version. Use pandas.concat instead.\n",
      "  predictions_df = predictions_df.append({\"variant\": row[\"variant\"], \"prediction\": y_pred[index], \"reality\": row[\"pathogenicity\"]}, ignore_index=True)\n",
      "C:\\Users\\InbarBlech\\AppData\\Local\\Temp\\ipykernel_25004\\1756431869.py:42: FutureWarning: The frame.append method is deprecated and will be removed from pandas in a future version. Use pandas.concat instead.\n",
      "  predictions_df = predictions_df.append({\"variant\": row[\"variant\"], \"prediction\": y_pred[index], \"reality\": row[\"pathogenicity\"]}, ignore_index=True)\n",
      "C:\\Users\\InbarBlech\\AppData\\Local\\Temp\\ipykernel_25004\\1756431869.py:42: FutureWarning: The frame.append method is deprecated and will be removed from pandas in a future version. Use pandas.concat instead.\n",
      "  predictions_df = predictions_df.append({\"variant\": row[\"variant\"], \"prediction\": y_pred[index], \"reality\": row[\"pathogenicity\"]}, ignore_index=True)\n"
     ]
    },
    {
     "name": "stdout",
     "output_type": "stream",
     "text": [
      "TP: 0, FP: 0, TN: 2, FN: 0\n",
      "tps: 0, fps: 1, fns: 0, tns: 13\n",
      "Prediction: [0 0]. Reality: [0 0]\n",
      "Position: 88 (12/264)\n",
      "TP: 0, FP: 0, TN: 1, FN: 0\n",
      "tps: 0, fps: 1, fns: 0, tns: 14\n",
      "Prediction: [0]. Reality: [0]\n",
      "Position: 89 (13/264)\n"
     ]
    },
    {
     "name": "stderr",
     "output_type": "stream",
     "text": [
      "C:\\Users\\InbarBlech\\AppData\\Local\\Temp\\ipykernel_25004\\1756431869.py:42: FutureWarning: The frame.append method is deprecated and will be removed from pandas in a future version. Use pandas.concat instead.\n",
      "  predictions_df = predictions_df.append({\"variant\": row[\"variant\"], \"prediction\": y_pred[index], \"reality\": row[\"pathogenicity\"]}, ignore_index=True)\n",
      "C:\\Users\\InbarBlech\\AppData\\Local\\Temp\\ipykernel_25004\\1756431869.py:42: FutureWarning: The frame.append method is deprecated and will be removed from pandas in a future version. Use pandas.concat instead.\n",
      "  predictions_df = predictions_df.append({\"variant\": row[\"variant\"], \"prediction\": y_pred[index], \"reality\": row[\"pathogenicity\"]}, ignore_index=True)\n"
     ]
    },
    {
     "name": "stdout",
     "output_type": "stream",
     "text": [
      "TP: 0, FP: 0, TN: 1, FN: 0\n",
      "tps: 0, fps: 1, fns: 0, tns: 15\n",
      "Prediction: [0]. Reality: [0]\n",
      "Position: 98 (14/264)\n",
      "TP: 0, FP: 1, TN: 0, FN: 0\n",
      "tps: 0, fps: 2, fns: 0, tns: 15\n",
      "Prediction: [1]. Reality: [0]\n",
      "Position: 104 (15/264)\n"
     ]
    },
    {
     "name": "stderr",
     "output_type": "stream",
     "text": [
      "C:\\Users\\InbarBlech\\AppData\\Local\\Temp\\ipykernel_25004\\1756431869.py:42: FutureWarning: The frame.append method is deprecated and will be removed from pandas in a future version. Use pandas.concat instead.\n",
      "  predictions_df = predictions_df.append({\"variant\": row[\"variant\"], \"prediction\": y_pred[index], \"reality\": row[\"pathogenicity\"]}, ignore_index=True)\n",
      "C:\\Users\\InbarBlech\\AppData\\Local\\Temp\\ipykernel_25004\\1756431869.py:42: FutureWarning: The frame.append method is deprecated and will be removed from pandas in a future version. Use pandas.concat instead.\n",
      "  predictions_df = predictions_df.append({\"variant\": row[\"variant\"], \"prediction\": y_pred[index], \"reality\": row[\"pathogenicity\"]}, ignore_index=True)\n",
      "C:\\Users\\InbarBlech\\AppData\\Local\\Temp\\ipykernel_25004\\1756431869.py:42: FutureWarning: The frame.append method is deprecated and will be removed from pandas in a future version. Use pandas.concat instead.\n",
      "  predictions_df = predictions_df.append({\"variant\": row[\"variant\"], \"prediction\": y_pred[index], \"reality\": row[\"pathogenicity\"]}, ignore_index=True)\n"
     ]
    },
    {
     "name": "stdout",
     "output_type": "stream",
     "text": [
      "TP: 1, FP: 1, TN: 0, FN: 0\n",
      "tps: 1, fps: 3, fns: 0, tns: 15\n",
      "Prediction: [1 1]. Reality: [0 1]\n",
      "Position: 154 (16/264)\n",
      "TP: 0, FP: 0, TN: 1, FN: 0\n",
      "tps: 1, fps: 3, fns: 0, tns: 16\n",
      "Prediction: [0]. Reality: [0]\n",
      "Position: 155 (17/264)\n"
     ]
    },
    {
     "name": "stderr",
     "output_type": "stream",
     "text": [
      "C:\\Users\\InbarBlech\\AppData\\Local\\Temp\\ipykernel_25004\\1756431869.py:42: FutureWarning: The frame.append method is deprecated and will be removed from pandas in a future version. Use pandas.concat instead.\n",
      "  predictions_df = predictions_df.append({\"variant\": row[\"variant\"], \"prediction\": y_pred[index], \"reality\": row[\"pathogenicity\"]}, ignore_index=True)\n",
      "C:\\Users\\InbarBlech\\AppData\\Local\\Temp\\ipykernel_25004\\1756431869.py:42: FutureWarning: The frame.append method is deprecated and will be removed from pandas in a future version. Use pandas.concat instead.\n",
      "  predictions_df = predictions_df.append({\"variant\": row[\"variant\"], \"prediction\": y_pred[index], \"reality\": row[\"pathogenicity\"]}, ignore_index=True)\n"
     ]
    },
    {
     "name": "stdout",
     "output_type": "stream",
     "text": [
      "TP: 0, FP: 1, TN: 0, FN: 0\n",
      "tps: 1, fps: 4, fns: 0, tns: 16\n",
      "Prediction: [1]. Reality: [0]\n",
      "Position: 158 (18/264)\n",
      "TP: 0, FP: 1, TN: 0, FN: 0\n",
      "tps: 1, fps: 5, fns: 0, tns: 16\n",
      "Prediction: [1]. Reality: [0]\n",
      "Position: 163 (19/264)\n"
     ]
    },
    {
     "name": "stderr",
     "output_type": "stream",
     "text": [
      "C:\\Users\\InbarBlech\\AppData\\Local\\Temp\\ipykernel_25004\\1756431869.py:42: FutureWarning: The frame.append method is deprecated and will be removed from pandas in a future version. Use pandas.concat instead.\n",
      "  predictions_df = predictions_df.append({\"variant\": row[\"variant\"], \"prediction\": y_pred[index], \"reality\": row[\"pathogenicity\"]}, ignore_index=True)\n",
      "C:\\Users\\InbarBlech\\AppData\\Local\\Temp\\ipykernel_25004\\1756431869.py:42: FutureWarning: The frame.append method is deprecated and will be removed from pandas in a future version. Use pandas.concat instead.\n",
      "  predictions_df = predictions_df.append({\"variant\": row[\"variant\"], \"prediction\": y_pred[index], \"reality\": row[\"pathogenicity\"]}, ignore_index=True)\n",
      "C:\\Users\\InbarBlech\\AppData\\Local\\Temp\\ipykernel_25004\\1756431869.py:42: FutureWarning: The frame.append method is deprecated and will be removed from pandas in a future version. Use pandas.concat instead.\n",
      "  predictions_df = predictions_df.append({\"variant\": row[\"variant\"], \"prediction\": y_pred[index], \"reality\": row[\"pathogenicity\"]}, ignore_index=True)\n"
     ]
    },
    {
     "name": "stdout",
     "output_type": "stream",
     "text": [
      "TP: 0, FP: 0, TN: 1, FN: 2\n",
      "tps: 1, fps: 5, fns: 2, tns: 17\n",
      "Prediction: [0 0 0]. Reality: [0 1 1]\n",
      "Position: 170 (20/264)\n"
     ]
    },
    {
     "name": "stderr",
     "output_type": "stream",
     "text": [
      "C:\\Users\\InbarBlech\\AppData\\Local\\Temp\\ipykernel_25004\\1756431869.py:42: FutureWarning: The frame.append method is deprecated and will be removed from pandas in a future version. Use pandas.concat instead.\n",
      "  predictions_df = predictions_df.append({\"variant\": row[\"variant\"], \"prediction\": y_pred[index], \"reality\": row[\"pathogenicity\"]}, ignore_index=True)\n"
     ]
    },
    {
     "name": "stdout",
     "output_type": "stream",
     "text": [
      "TP: 0, FP: 0, TN: 1, FN: 0\n",
      "tps: 1, fps: 5, fns: 2, tns: 18\n",
      "Prediction: [0]. Reality: [0]\n",
      "Position: 175 (21/264)\n"
     ]
    },
    {
     "name": "stderr",
     "output_type": "stream",
     "text": [
      "C:\\Users\\InbarBlech\\AppData\\Local\\Temp\\ipykernel_25004\\1756431869.py:42: FutureWarning: The frame.append method is deprecated and will be removed from pandas in a future version. Use pandas.concat instead.\n",
      "  predictions_df = predictions_df.append({\"variant\": row[\"variant\"], \"prediction\": y_pred[index], \"reality\": row[\"pathogenicity\"]}, ignore_index=True)\n",
      "C:\\Users\\InbarBlech\\AppData\\Local\\Temp\\ipykernel_25004\\1756431869.py:42: FutureWarning: The frame.append method is deprecated and will be removed from pandas in a future version. Use pandas.concat instead.\n",
      "  predictions_df = predictions_df.append({\"variant\": row[\"variant\"], \"prediction\": y_pred[index], \"reality\": row[\"pathogenicity\"]}, ignore_index=True)\n"
     ]
    },
    {
     "name": "stdout",
     "output_type": "stream",
     "text": [
      "TP: 0, FP: 0, TN: 1, FN: 0\n",
      "tps: 1, fps: 5, fns: 2, tns: 19\n",
      "Prediction: [0]. Reality: [0]\n",
      "Position: 178 (22/264)\n",
      "TP: 0, FP: 0, TN: 1, FN: 0\n",
      "tps: 1, fps: 5, fns: 2, tns: 20\n",
      "Prediction: [0]. Reality: [0]\n",
      "Position: 180 (23/264)\n"
     ]
    },
    {
     "name": "stderr",
     "output_type": "stream",
     "text": [
      "C:\\Users\\InbarBlech\\AppData\\Local\\Temp\\ipykernel_25004\\1756431869.py:42: FutureWarning: The frame.append method is deprecated and will be removed from pandas in a future version. Use pandas.concat instead.\n",
      "  predictions_df = predictions_df.append({\"variant\": row[\"variant\"], \"prediction\": y_pred[index], \"reality\": row[\"pathogenicity\"]}, ignore_index=True)\n",
      "C:\\Users\\InbarBlech\\AppData\\Local\\Temp\\ipykernel_25004\\1756431869.py:42: FutureWarning: The frame.append method is deprecated and will be removed from pandas in a future version. Use pandas.concat instead.\n",
      "  predictions_df = predictions_df.append({\"variant\": row[\"variant\"], \"prediction\": y_pred[index], \"reality\": row[\"pathogenicity\"]}, ignore_index=True)\n"
     ]
    },
    {
     "name": "stdout",
     "output_type": "stream",
     "text": [
      "TP: 0, FP: 0, TN: 1, FN: 0\n",
      "tps: 1, fps: 5, fns: 2, tns: 21\n",
      "Prediction: [0]. Reality: [0]\n",
      "Position: 183 (24/264)\n",
      "TP: 0, FP: 0, TN: 1, FN: 0\n",
      "tps: 1, fps: 5, fns: 2, tns: 22\n",
      "Prediction: [0]. Reality: [0]\n",
      "Position: 188 (25/264)\n"
     ]
    },
    {
     "name": "stderr",
     "output_type": "stream",
     "text": [
      "C:\\Users\\InbarBlech\\AppData\\Local\\Temp\\ipykernel_25004\\1756431869.py:42: FutureWarning: The frame.append method is deprecated and will be removed from pandas in a future version. Use pandas.concat instead.\n",
      "  predictions_df = predictions_df.append({\"variant\": row[\"variant\"], \"prediction\": y_pred[index], \"reality\": row[\"pathogenicity\"]}, ignore_index=True)\n",
      "C:\\Users\\InbarBlech\\AppData\\Local\\Temp\\ipykernel_25004\\1756431869.py:42: FutureWarning: The frame.append method is deprecated and will be removed from pandas in a future version. Use pandas.concat instead.\n",
      "  predictions_df = predictions_df.append({\"variant\": row[\"variant\"], \"prediction\": y_pred[index], \"reality\": row[\"pathogenicity\"]}, ignore_index=True)\n"
     ]
    },
    {
     "name": "stdout",
     "output_type": "stream",
     "text": [
      "TP: 0, FP: 1, TN: 0, FN: 0\n",
      "tps: 1, fps: 6, fns: 2, tns: 22\n",
      "Prediction: [1]. Reality: [0]\n",
      "Position: 191 (26/264)\n",
      "TP: 0, FP: 0, TN: 1, FN: 0\n",
      "tps: 1, fps: 6, fns: 2, tns: 23\n",
      "Prediction: [0]. Reality: [0]\n",
      "Position: 242 (27/264)\n"
     ]
    },
    {
     "name": "stderr",
     "output_type": "stream",
     "text": [
      "C:\\Users\\InbarBlech\\AppData\\Local\\Temp\\ipykernel_25004\\1756431869.py:42: FutureWarning: The frame.append method is deprecated and will be removed from pandas in a future version. Use pandas.concat instead.\n",
      "  predictions_df = predictions_df.append({\"variant\": row[\"variant\"], \"prediction\": y_pred[index], \"reality\": row[\"pathogenicity\"]}, ignore_index=True)\n"
     ]
    },
    {
     "name": "stdout",
     "output_type": "stream",
     "text": [
      "TP: 0, FP: 0, TN: 1, FN: 0\n",
      "tps: 1, fps: 6, fns: 2, tns: 24\n",
      "Prediction: [0]. Reality: [0]\n",
      "Position: 243 (28/264)\n"
     ]
    },
    {
     "name": "stderr",
     "output_type": "stream",
     "text": [
      "C:\\Users\\InbarBlech\\AppData\\Local\\Temp\\ipykernel_25004\\1756431869.py:42: FutureWarning: The frame.append method is deprecated and will be removed from pandas in a future version. Use pandas.concat instead.\n",
      "  predictions_df = predictions_df.append({\"variant\": row[\"variant\"], \"prediction\": y_pred[index], \"reality\": row[\"pathogenicity\"]}, ignore_index=True)\n"
     ]
    },
    {
     "name": "stdout",
     "output_type": "stream",
     "text": [
      "TP: 0, FP: 0, TN: 1, FN: 0\n",
      "tps: 1, fps: 6, fns: 2, tns: 25\n",
      "Prediction: [0]. Reality: [0]\n",
      "Position: 244 (29/264)\n"
     ]
    },
    {
     "name": "stderr",
     "output_type": "stream",
     "text": [
      "C:\\Users\\InbarBlech\\AppData\\Local\\Temp\\ipykernel_25004\\1756431869.py:42: FutureWarning: The frame.append method is deprecated and will be removed from pandas in a future version. Use pandas.concat instead.\n",
      "  predictions_df = predictions_df.append({\"variant\": row[\"variant\"], \"prediction\": y_pred[index], \"reality\": row[\"pathogenicity\"]}, ignore_index=True)\n",
      "C:\\Users\\InbarBlech\\AppData\\Local\\Temp\\ipykernel_25004\\1756431869.py:42: FutureWarning: The frame.append method is deprecated and will be removed from pandas in a future version. Use pandas.concat instead.\n",
      "  predictions_df = predictions_df.append({\"variant\": row[\"variant\"], \"prediction\": y_pred[index], \"reality\": row[\"pathogenicity\"]}, ignore_index=True)\n"
     ]
    },
    {
     "name": "stdout",
     "output_type": "stream",
     "text": [
      "TP: 0, FP: 1, TN: 0, FN: 0\n",
      "tps: 1, fps: 7, fns: 2, tns: 25\n",
      "Prediction: [1]. Reality: [0]\n",
      "Position: 245 (30/264)\n",
      "TP: 0, FP: 0, TN: 1, FN: 0\n",
      "tps: 1, fps: 7, fns: 2, tns: 26\n",
      "Prediction: [0]. Reality: [0]\n",
      "Position: 250 (31/264)\n"
     ]
    },
    {
     "name": "stderr",
     "output_type": "stream",
     "text": [
      "C:\\Users\\InbarBlech\\AppData\\Local\\Temp\\ipykernel_25004\\1756431869.py:42: FutureWarning: The frame.append method is deprecated and will be removed from pandas in a future version. Use pandas.concat instead.\n",
      "  predictions_df = predictions_df.append({\"variant\": row[\"variant\"], \"prediction\": y_pred[index], \"reality\": row[\"pathogenicity\"]}, ignore_index=True)\n",
      "C:\\Users\\InbarBlech\\AppData\\Local\\Temp\\ipykernel_25004\\1756431869.py:42: FutureWarning: The frame.append method is deprecated and will be removed from pandas in a future version. Use pandas.concat instead.\n",
      "  predictions_df = predictions_df.append({\"variant\": row[\"variant\"], \"prediction\": y_pred[index], \"reality\": row[\"pathogenicity\"]}, ignore_index=True)\n"
     ]
    },
    {
     "name": "stdout",
     "output_type": "stream",
     "text": [
      "TP: 0, FP: 0, TN: 1, FN: 0\n",
      "tps: 1, fps: 7, fns: 2, tns: 27\n",
      "Prediction: [0]. Reality: [0]\n",
      "Position: 254 (32/264)\n",
      "TP: 0, FP: 1, TN: 0, FN: 0\n",
      "tps: 1, fps: 8, fns: 2, tns: 27\n",
      "Prediction: [1]. Reality: [0]\n",
      "Position: 255 (33/264)\n"
     ]
    },
    {
     "name": "stderr",
     "output_type": "stream",
     "text": [
      "C:\\Users\\InbarBlech\\AppData\\Local\\Temp\\ipykernel_25004\\1756431869.py:42: FutureWarning: The frame.append method is deprecated and will be removed from pandas in a future version. Use pandas.concat instead.\n",
      "  predictions_df = predictions_df.append({\"variant\": row[\"variant\"], \"prediction\": y_pred[index], \"reality\": row[\"pathogenicity\"]}, ignore_index=True)\n",
      "C:\\Users\\InbarBlech\\AppData\\Local\\Temp\\ipykernel_25004\\1756431869.py:42: FutureWarning: The frame.append method is deprecated and will be removed from pandas in a future version. Use pandas.concat instead.\n",
      "  predictions_df = predictions_df.append({\"variant\": row[\"variant\"], \"prediction\": y_pred[index], \"reality\": row[\"pathogenicity\"]}, ignore_index=True)\n"
     ]
    },
    {
     "name": "stdout",
     "output_type": "stream",
     "text": [
      "TP: 0, FP: 1, TN: 0, FN: 0\n",
      "tps: 1, fps: 9, fns: 2, tns: 27\n",
      "Prediction: [1]. Reality: [0]\n",
      "Position: 273 (34/264)\n",
      "TP: 0, FP: 0, TN: 1, FN: 0\n",
      "tps: 1, fps: 9, fns: 2, tns: 28\n",
      "Prediction: [0]. Reality: [0]\n",
      "Position: 276 (35/264)\n"
     ]
    },
    {
     "name": "stderr",
     "output_type": "stream",
     "text": [
      "C:\\Users\\InbarBlech\\AppData\\Local\\Temp\\ipykernel_25004\\1756431869.py:42: FutureWarning: The frame.append method is deprecated and will be removed from pandas in a future version. Use pandas.concat instead.\n",
      "  predictions_df = predictions_df.append({\"variant\": row[\"variant\"], \"prediction\": y_pred[index], \"reality\": row[\"pathogenicity\"]}, ignore_index=True)\n",
      "C:\\Users\\InbarBlech\\AppData\\Local\\Temp\\ipykernel_25004\\1756431869.py:42: FutureWarning: The frame.append method is deprecated and will be removed from pandas in a future version. Use pandas.concat instead.\n",
      "  predictions_df = predictions_df.append({\"variant\": row[\"variant\"], \"prediction\": y_pred[index], \"reality\": row[\"pathogenicity\"]}, ignore_index=True)\n"
     ]
    },
    {
     "name": "stdout",
     "output_type": "stream",
     "text": [
      "TP: 0, FP: 1, TN: 0, FN: 0\n",
      "tps: 1, fps: 10, fns: 2, tns: 28\n",
      "Prediction: [1]. Reality: [0]\n",
      "Position: 284 (36/264)\n",
      "TP: 0, FP: 0, TN: 1, FN: 0\n",
      "tps: 1, fps: 10, fns: 2, tns: 29\n",
      "Prediction: [0]. Reality: [0]\n",
      "Position: 316 (37/264)\n"
     ]
    },
    {
     "name": "stderr",
     "output_type": "stream",
     "text": [
      "C:\\Users\\InbarBlech\\AppData\\Local\\Temp\\ipykernel_25004\\1756431869.py:42: FutureWarning: The frame.append method is deprecated and will be removed from pandas in a future version. Use pandas.concat instead.\n",
      "  predictions_df = predictions_df.append({\"variant\": row[\"variant\"], \"prediction\": y_pred[index], \"reality\": row[\"pathogenicity\"]}, ignore_index=True)\n",
      "C:\\Users\\InbarBlech\\AppData\\Local\\Temp\\ipykernel_25004\\1756431869.py:42: FutureWarning: The frame.append method is deprecated and will be removed from pandas in a future version. Use pandas.concat instead.\n",
      "  predictions_df = predictions_df.append({\"variant\": row[\"variant\"], \"prediction\": y_pred[index], \"reality\": row[\"pathogenicity\"]}, ignore_index=True)\n"
     ]
    },
    {
     "name": "stdout",
     "output_type": "stream",
     "text": [
      "TP: 0, FP: 0, TN: 1, FN: 0\n",
      "tps: 1, fps: 10, fns: 2, tns: 30\n",
      "Prediction: [0]. Reality: [0]\n",
      "Position: 333 (38/264)\n",
      "TP: 0, FP: 0, TN: 1, FN: 0\n",
      "tps: 1, fps: 10, fns: 2, tns: 31\n",
      "Prediction: [0]. Reality: [0]\n",
      "Position: 337 (39/264)\n"
     ]
    },
    {
     "name": "stderr",
     "output_type": "stream",
     "text": [
      "C:\\Users\\InbarBlech\\AppData\\Local\\Temp\\ipykernel_25004\\1756431869.py:42: FutureWarning: The frame.append method is deprecated and will be removed from pandas in a future version. Use pandas.concat instead.\n",
      "  predictions_df = predictions_df.append({\"variant\": row[\"variant\"], \"prediction\": y_pred[index], \"reality\": row[\"pathogenicity\"]}, ignore_index=True)\n",
      "C:\\Users\\InbarBlech\\AppData\\Local\\Temp\\ipykernel_25004\\1756431869.py:42: FutureWarning: The frame.append method is deprecated and will be removed from pandas in a future version. Use pandas.concat instead.\n",
      "  predictions_df = predictions_df.append({\"variant\": row[\"variant\"], \"prediction\": y_pred[index], \"reality\": row[\"pathogenicity\"]}, ignore_index=True)\n"
     ]
    },
    {
     "name": "stdout",
     "output_type": "stream",
     "text": [
      "TP: 0, FP: 1, TN: 0, FN: 0\n",
      "tps: 1, fps: 11, fns: 2, tns: 31\n",
      "Prediction: [1]. Reality: [0]\n",
      "Position: 339 (40/264)\n",
      "TP: 0, FP: 0, TN: 1, FN: 0\n",
      "tps: 1, fps: 11, fns: 2, tns: 32\n",
      "Prediction: [0]. Reality: [0]\n",
      "Position: 342 (41/264)\n"
     ]
    },
    {
     "name": "stderr",
     "output_type": "stream",
     "text": [
      "C:\\Users\\InbarBlech\\AppData\\Local\\Temp\\ipykernel_25004\\1756431869.py:42: FutureWarning: The frame.append method is deprecated and will be removed from pandas in a future version. Use pandas.concat instead.\n",
      "  predictions_df = predictions_df.append({\"variant\": row[\"variant\"], \"prediction\": y_pred[index], \"reality\": row[\"pathogenicity\"]}, ignore_index=True)\n",
      "C:\\Users\\InbarBlech\\AppData\\Local\\Temp\\ipykernel_25004\\1756431869.py:42: FutureWarning: The frame.append method is deprecated and will be removed from pandas in a future version. Use pandas.concat instead.\n",
      "  predictions_df = predictions_df.append({\"variant\": row[\"variant\"], \"prediction\": y_pred[index], \"reality\": row[\"pathogenicity\"]}, ignore_index=True)\n"
     ]
    },
    {
     "name": "stdout",
     "output_type": "stream",
     "text": [
      "TP: 0, FP: 1, TN: 0, FN: 0\n",
      "tps: 1, fps: 12, fns: 2, tns: 32\n",
      "Prediction: [1]. Reality: [0]\n",
      "Position: 344 (42/264)\n",
      "TP: 0, FP: 0, TN: 1, FN: 0\n",
      "tps: 1, fps: 12, fns: 2, tns: 33\n",
      "Prediction: [0]. Reality: [0]\n",
      "Position: 378 (43/264)\n"
     ]
    },
    {
     "name": "stderr",
     "output_type": "stream",
     "text": [
      "C:\\Users\\InbarBlech\\AppData\\Local\\Temp\\ipykernel_25004\\1756431869.py:42: FutureWarning: The frame.append method is deprecated and will be removed from pandas in a future version. Use pandas.concat instead.\n",
      "  predictions_df = predictions_df.append({\"variant\": row[\"variant\"], \"prediction\": y_pred[index], \"reality\": row[\"pathogenicity\"]}, ignore_index=True)\n",
      "C:\\Users\\InbarBlech\\AppData\\Local\\Temp\\ipykernel_25004\\1756431869.py:42: FutureWarning: The frame.append method is deprecated and will be removed from pandas in a future version. Use pandas.concat instead.\n",
      "  predictions_df = predictions_df.append({\"variant\": row[\"variant\"], \"prediction\": y_pred[index], \"reality\": row[\"pathogenicity\"]}, ignore_index=True)\n"
     ]
    },
    {
     "name": "stdout",
     "output_type": "stream",
     "text": [
      "TP: 0, FP: 0, TN: 1, FN: 0\n",
      "tps: 1, fps: 12, fns: 2, tns: 34\n",
      "Prediction: [0]. Reality: [0]\n",
      "Position: 379 (44/264)\n",
      "TP: 0, FP: 1, TN: 0, FN: 0\n",
      "tps: 1, fps: 13, fns: 2, tns: 34\n",
      "Prediction: [1]. Reality: [0]\n",
      "Position: 429 (45/264)\n"
     ]
    },
    {
     "name": "stderr",
     "output_type": "stream",
     "text": [
      "C:\\Users\\InbarBlech\\AppData\\Local\\Temp\\ipykernel_25004\\1756431869.py:42: FutureWarning: The frame.append method is deprecated and will be removed from pandas in a future version. Use pandas.concat instead.\n",
      "  predictions_df = predictions_df.append({\"variant\": row[\"variant\"], \"prediction\": y_pred[index], \"reality\": row[\"pathogenicity\"]}, ignore_index=True)\n",
      "C:\\Users\\InbarBlech\\AppData\\Local\\Temp\\ipykernel_25004\\1756431869.py:42: FutureWarning: The frame.append method is deprecated and will be removed from pandas in a future version. Use pandas.concat instead.\n",
      "  predictions_df = predictions_df.append({\"variant\": row[\"variant\"], \"prediction\": y_pred[index], \"reality\": row[\"pathogenicity\"]}, ignore_index=True)\n"
     ]
    },
    {
     "name": "stdout",
     "output_type": "stream",
     "text": [
      "TP: 0, FP: 0, TN: 1, FN: 1\n",
      "tps: 1, fps: 13, fns: 3, tns: 35\n",
      "Prediction: [0 0]. Reality: [0 1]\n",
      "Position: 436 (46/264)\n"
     ]
    },
    {
     "name": "stderr",
     "output_type": "stream",
     "text": [
      "C:\\Users\\InbarBlech\\AppData\\Local\\Temp\\ipykernel_25004\\1756431869.py:42: FutureWarning: The frame.append method is deprecated and will be removed from pandas in a future version. Use pandas.concat instead.\n",
      "  predictions_df = predictions_df.append({\"variant\": row[\"variant\"], \"prediction\": y_pred[index], \"reality\": row[\"pathogenicity\"]}, ignore_index=True)\n",
      "C:\\Users\\InbarBlech\\AppData\\Local\\Temp\\ipykernel_25004\\1756431869.py:42: FutureWarning: The frame.append method is deprecated and will be removed from pandas in a future version. Use pandas.concat instead.\n",
      "  predictions_df = predictions_df.append({\"variant\": row[\"variant\"], \"prediction\": y_pred[index], \"reality\": row[\"pathogenicity\"]}, ignore_index=True)\n"
     ]
    },
    {
     "name": "stdout",
     "output_type": "stream",
     "text": [
      "TP: 0, FP: 0, TN: 1, FN: 0\n",
      "tps: 1, fps: 13, fns: 3, tns: 36\n",
      "Prediction: [0]. Reality: [0]\n",
      "Position: 465 (47/264)\n",
      "TP: 0, FP: 0, TN: 1, FN: 0\n",
      "tps: 1, fps: 13, fns: 3, tns: 37\n",
      "Prediction: [0]. Reality: [0]\n",
      "Position: 468 (48/264)\n"
     ]
    },
    {
     "name": "stderr",
     "output_type": "stream",
     "text": [
      "C:\\Users\\InbarBlech\\AppData\\Local\\Temp\\ipykernel_25004\\1756431869.py:42: FutureWarning: The frame.append method is deprecated and will be removed from pandas in a future version. Use pandas.concat instead.\n",
      "  predictions_df = predictions_df.append({\"variant\": row[\"variant\"], \"prediction\": y_pred[index], \"reality\": row[\"pathogenicity\"]}, ignore_index=True)\n",
      "C:\\Users\\InbarBlech\\AppData\\Local\\Temp\\ipykernel_25004\\1756431869.py:42: FutureWarning: The frame.append method is deprecated and will be removed from pandas in a future version. Use pandas.concat instead.\n",
      "  predictions_df = predictions_df.append({\"variant\": row[\"variant\"], \"prediction\": y_pred[index], \"reality\": row[\"pathogenicity\"]}, ignore_index=True)\n"
     ]
    },
    {
     "name": "stdout",
     "output_type": "stream",
     "text": [
      "TP: 0, FP: 0, TN: 1, FN: 0\n",
      "tps: 1, fps: 13, fns: 3, tns: 38\n",
      "Prediction: [0]. Reality: [0]\n",
      "Position: 477 (49/264)\n",
      "TP: 0, FP: 0, TN: 1, FN: 0\n",
      "tps: 1, fps: 13, fns: 3, tns: 39\n",
      "Prediction: [0]. Reality: [0]\n",
      "Position: 503 (50/264)\n"
     ]
    },
    {
     "name": "stderr",
     "output_type": "stream",
     "text": [
      "C:\\Users\\InbarBlech\\AppData\\Local\\Temp\\ipykernel_25004\\1756431869.py:42: FutureWarning: The frame.append method is deprecated and will be removed from pandas in a future version. Use pandas.concat instead.\n",
      "  predictions_df = predictions_df.append({\"variant\": row[\"variant\"], \"prediction\": y_pred[index], \"reality\": row[\"pathogenicity\"]}, ignore_index=True)\n",
      "C:\\Users\\InbarBlech\\AppData\\Local\\Temp\\ipykernel_25004\\1756431869.py:42: FutureWarning: The frame.append method is deprecated and will be removed from pandas in a future version. Use pandas.concat instead.\n",
      "  predictions_df = predictions_df.append({\"variant\": row[\"variant\"], \"prediction\": y_pred[index], \"reality\": row[\"pathogenicity\"]}, ignore_index=True)\n"
     ]
    },
    {
     "name": "stdout",
     "output_type": "stream",
     "text": [
      "TP: 0, FP: 0, TN: 1, FN: 0\n",
      "tps: 1, fps: 13, fns: 3, tns: 40\n",
      "Prediction: [0]. Reality: [0]\n",
      "Position: 543 (51/264)\n",
      "TP: 0, FP: 0, TN: 1, FN: 0\n",
      "tps: 1, fps: 13, fns: 3, tns: 41\n",
      "Prediction: [0]. Reality: [0]\n",
      "Position: 594 (52/264)\n"
     ]
    },
    {
     "name": "stderr",
     "output_type": "stream",
     "text": [
      "C:\\Users\\InbarBlech\\AppData\\Local\\Temp\\ipykernel_25004\\1756431869.py:42: FutureWarning: The frame.append method is deprecated and will be removed from pandas in a future version. Use pandas.concat instead.\n",
      "  predictions_df = predictions_df.append({\"variant\": row[\"variant\"], \"prediction\": y_pred[index], \"reality\": row[\"pathogenicity\"]}, ignore_index=True)\n",
      "C:\\Users\\InbarBlech\\AppData\\Local\\Temp\\ipykernel_25004\\1756431869.py:42: FutureWarning: The frame.append method is deprecated and will be removed from pandas in a future version. Use pandas.concat instead.\n",
      "  predictions_df = predictions_df.append({\"variant\": row[\"variant\"], \"prediction\": y_pred[index], \"reality\": row[\"pathogenicity\"]}, ignore_index=True)\n"
     ]
    },
    {
     "name": "stdout",
     "output_type": "stream",
     "text": [
      "TP: 0, FP: 0, TN: 1, FN: 0\n",
      "tps: 1, fps: 13, fns: 3, tns: 42\n",
      "Prediction: [0]. Reality: [0]\n",
      "Position: 605 (53/264)\n",
      "TP: 0, FP: 0, TN: 1, FN: 0\n",
      "tps: 1, fps: 13, fns: 3, tns: 43\n",
      "Prediction: [0]. Reality: [0]\n",
      "Position: 609 (54/264)\n",
      "TP: 0, FP: 0, TN: 2, FN: 0\n",
      "tps: 1, fps: 13, fns: 3, tns: 45\n",
      "Prediction: [0 0]. Reality: [0 0]\n",
      "Position: 621 (55/264)\n"
     ]
    },
    {
     "name": "stderr",
     "output_type": "stream",
     "text": [
      "C:\\Users\\InbarBlech\\AppData\\Local\\Temp\\ipykernel_25004\\1756431869.py:42: FutureWarning: The frame.append method is deprecated and will be removed from pandas in a future version. Use pandas.concat instead.\n",
      "  predictions_df = predictions_df.append({\"variant\": row[\"variant\"], \"prediction\": y_pred[index], \"reality\": row[\"pathogenicity\"]}, ignore_index=True)\n",
      "C:\\Users\\InbarBlech\\AppData\\Local\\Temp\\ipykernel_25004\\1756431869.py:42: FutureWarning: The frame.append method is deprecated and will be removed from pandas in a future version. Use pandas.concat instead.\n",
      "  predictions_df = predictions_df.append({\"variant\": row[\"variant\"], \"prediction\": y_pred[index], \"reality\": row[\"pathogenicity\"]}, ignore_index=True)\n",
      "C:\\Users\\InbarBlech\\AppData\\Local\\Temp\\ipykernel_25004\\1756431869.py:42: FutureWarning: The frame.append method is deprecated and will be removed from pandas in a future version. Use pandas.concat instead.\n",
      "  predictions_df = predictions_df.append({\"variant\": row[\"variant\"], \"prediction\": y_pred[index], \"reality\": row[\"pathogenicity\"]}, ignore_index=True)\n"
     ]
    },
    {
     "name": "stdout",
     "output_type": "stream",
     "text": [
      "TP: 0, FP: 0, TN: 1, FN: 0\n",
      "tps: 1, fps: 13, fns: 3, tns: 46\n",
      "Prediction: [0]. Reality: [0]\n",
      "Position: 624 (56/264)\n",
      "TP: 0, FP: 0, TN: 1, FN: 1\n",
      "tps: 1, fps: 13, fns: 4, tns: 47\n",
      "Prediction: [0 0]. Reality: [0 1]\n",
      "Position: 627 (57/264)\n"
     ]
    },
    {
     "name": "stderr",
     "output_type": "stream",
     "text": [
      "C:\\Users\\InbarBlech\\AppData\\Local\\Temp\\ipykernel_25004\\1756431869.py:42: FutureWarning: The frame.append method is deprecated and will be removed from pandas in a future version. Use pandas.concat instead.\n",
      "  predictions_df = predictions_df.append({\"variant\": row[\"variant\"], \"prediction\": y_pred[index], \"reality\": row[\"pathogenicity\"]}, ignore_index=True)\n",
      "C:\\Users\\InbarBlech\\AppData\\Local\\Temp\\ipykernel_25004\\1756431869.py:42: FutureWarning: The frame.append method is deprecated and will be removed from pandas in a future version. Use pandas.concat instead.\n",
      "  predictions_df = predictions_df.append({\"variant\": row[\"variant\"], \"prediction\": y_pred[index], \"reality\": row[\"pathogenicity\"]}, ignore_index=True)\n",
      "C:\\Users\\InbarBlech\\AppData\\Local\\Temp\\ipykernel_25004\\1756431869.py:42: FutureWarning: The frame.append method is deprecated and will be removed from pandas in a future version. Use pandas.concat instead.\n",
      "  predictions_df = predictions_df.append({\"variant\": row[\"variant\"], \"prediction\": y_pred[index], \"reality\": row[\"pathogenicity\"]}, ignore_index=True)\n",
      "C:\\Users\\InbarBlech\\AppData\\Local\\Temp\\ipykernel_25004\\1756431869.py:42: FutureWarning: The frame.append method is deprecated and will be removed from pandas in a future version. Use pandas.concat instead.\n",
      "  predictions_df = predictions_df.append({\"variant\": row[\"variant\"], \"prediction\": y_pred[index], \"reality\": row[\"pathogenicity\"]}, ignore_index=True)\n"
     ]
    },
    {
     "name": "stdout",
     "output_type": "stream",
     "text": [
      "TP: 1, FP: 1, TN: 0, FN: 0\n",
      "tps: 2, fps: 14, fns: 4, tns: 47\n",
      "Prediction: [1 1]. Reality: [0 1]\n",
      "Position: 629 (58/264)\n",
      "TP: 0, FP: 0, TN: 1, FN: 0\n",
      "tps: 2, fps: 14, fns: 4, tns: 48\n",
      "Prediction: [0]. Reality: [0]\n",
      "Position: 670 (59/264)\n"
     ]
    },
    {
     "name": "stderr",
     "output_type": "stream",
     "text": [
      "C:\\Users\\InbarBlech\\AppData\\Local\\Temp\\ipykernel_25004\\1756431869.py:42: FutureWarning: The frame.append method is deprecated and will be removed from pandas in a future version. Use pandas.concat instead.\n",
      "  predictions_df = predictions_df.append({\"variant\": row[\"variant\"], \"prediction\": y_pred[index], \"reality\": row[\"pathogenicity\"]}, ignore_index=True)\n",
      "C:\\Users\\InbarBlech\\AppData\\Local\\Temp\\ipykernel_25004\\1756431869.py:42: FutureWarning: The frame.append method is deprecated and will be removed from pandas in a future version. Use pandas.concat instead.\n",
      "  predictions_df = predictions_df.append({\"variant\": row[\"variant\"], \"prediction\": y_pred[index], \"reality\": row[\"pathogenicity\"]}, ignore_index=True)\n",
      "C:\\Users\\InbarBlech\\AppData\\Local\\Temp\\ipykernel_25004\\1756431869.py:42: FutureWarning: The frame.append method is deprecated and will be removed from pandas in a future version. Use pandas.concat instead.\n",
      "  predictions_df = predictions_df.append({\"variant\": row[\"variant\"], \"prediction\": y_pred[index], \"reality\": row[\"pathogenicity\"]}, ignore_index=True)\n"
     ]
    },
    {
     "name": "stdout",
     "output_type": "stream",
     "text": [
      "TP: 0, FP: 0, TN: 1, FN: 1\n",
      "tps: 2, fps: 14, fns: 5, tns: 49\n",
      "Prediction: [0 0]. Reality: [0 1]\n",
      "Position: 674 (60/264)\n",
      "TP: 0, FP: 1, TN: 0, FN: 0\n",
      "tps: 2, fps: 15, fns: 5, tns: 49\n",
      "Prediction: [1]. Reality: [0]\n",
      "Position: 698 (61/264)\n"
     ]
    },
    {
     "name": "stderr",
     "output_type": "stream",
     "text": [
      "C:\\Users\\InbarBlech\\AppData\\Local\\Temp\\ipykernel_25004\\1756431869.py:42: FutureWarning: The frame.append method is deprecated and will be removed from pandas in a future version. Use pandas.concat instead.\n",
      "  predictions_df = predictions_df.append({\"variant\": row[\"variant\"], \"prediction\": y_pred[index], \"reality\": row[\"pathogenicity\"]}, ignore_index=True)\n",
      "C:\\Users\\InbarBlech\\AppData\\Local\\Temp\\ipykernel_25004\\1756431869.py:42: FutureWarning: The frame.append method is deprecated and will be removed from pandas in a future version. Use pandas.concat instead.\n",
      "  predictions_df = predictions_df.append({\"variant\": row[\"variant\"], \"prediction\": y_pred[index], \"reality\": row[\"pathogenicity\"]}, ignore_index=True)\n"
     ]
    },
    {
     "name": "stdout",
     "output_type": "stream",
     "text": [
      "TP: 0, FP: 0, TN: 1, FN: 0\n",
      "tps: 2, fps: 15, fns: 5, tns: 50\n",
      "Prediction: [0]. Reality: [0]\n",
      "Position: 726 (62/264)\n",
      "TP: 0, FP: 1, TN: 0, FN: 0\n",
      "tps: 2, fps: 16, fns: 5, tns: 50\n",
      "Prediction: [1]. Reality: [0]\n",
      "Position: 731 (63/264)\n"
     ]
    },
    {
     "name": "stderr",
     "output_type": "stream",
     "text": [
      "C:\\Users\\InbarBlech\\AppData\\Local\\Temp\\ipykernel_25004\\1756431869.py:42: FutureWarning: The frame.append method is deprecated and will be removed from pandas in a future version. Use pandas.concat instead.\n",
      "  predictions_df = predictions_df.append({\"variant\": row[\"variant\"], \"prediction\": y_pred[index], \"reality\": row[\"pathogenicity\"]}, ignore_index=True)\n",
      "C:\\Users\\InbarBlech\\AppData\\Local\\Temp\\ipykernel_25004\\1756431869.py:42: FutureWarning: The frame.append method is deprecated and will be removed from pandas in a future version. Use pandas.concat instead.\n",
      "  predictions_df = predictions_df.append({\"variant\": row[\"variant\"], \"prediction\": y_pred[index], \"reality\": row[\"pathogenicity\"]}, ignore_index=True)\n"
     ]
    },
    {
     "name": "stdout",
     "output_type": "stream",
     "text": [
      "TP: 0, FP: 0, TN: 1, FN: 0\n",
      "tps: 2, fps: 16, fns: 5, tns: 51\n",
      "Prediction: [0]. Reality: [0]\n",
      "Position: 735 (64/264)\n",
      "TP: 0, FP: 0, TN: 1, FN: 0\n",
      "tps: 2, fps: 16, fns: 5, tns: 52\n",
      "Prediction: [0]. Reality: [0]\n",
      "Position: 737 (65/264)\n"
     ]
    },
    {
     "name": "stderr",
     "output_type": "stream",
     "text": [
      "C:\\Users\\InbarBlech\\AppData\\Local\\Temp\\ipykernel_25004\\1756431869.py:42: FutureWarning: The frame.append method is deprecated and will be removed from pandas in a future version. Use pandas.concat instead.\n",
      "  predictions_df = predictions_df.append({\"variant\": row[\"variant\"], \"prediction\": y_pred[index], \"reality\": row[\"pathogenicity\"]}, ignore_index=True)\n",
      "C:\\Users\\InbarBlech\\AppData\\Local\\Temp\\ipykernel_25004\\1756431869.py:42: FutureWarning: The frame.append method is deprecated and will be removed from pandas in a future version. Use pandas.concat instead.\n",
      "  predictions_df = predictions_df.append({\"variant\": row[\"variant\"], \"prediction\": y_pred[index], \"reality\": row[\"pathogenicity\"]}, ignore_index=True)\n",
      "C:\\Users\\InbarBlech\\AppData\\Local\\Temp\\ipykernel_25004\\1756431869.py:42: FutureWarning: The frame.append method is deprecated and will be removed from pandas in a future version. Use pandas.concat instead.\n",
      "  predictions_df = predictions_df.append({\"variant\": row[\"variant\"], \"prediction\": y_pred[index], \"reality\": row[\"pathogenicity\"]}, ignore_index=True)\n",
      "C:\\Users\\InbarBlech\\AppData\\Local\\Temp\\ipykernel_25004\\1756431869.py:42: FutureWarning: The frame.append method is deprecated and will be removed from pandas in a future version. Use pandas.concat instead.\n",
      "  predictions_df = predictions_df.append({\"variant\": row[\"variant\"], \"prediction\": y_pred[index], \"reality\": row[\"pathogenicity\"]}, ignore_index=True)\n"
     ]
    },
    {
     "name": "stdout",
     "output_type": "stream",
     "text": [
      "TP: 0, FP: 0, TN: 3, FN: 0\n",
      "tps: 2, fps: 16, fns: 5, tns: 55\n",
      "Prediction: [0 0 0]. Reality: [0 0 0]\n",
      "Position: 740 (66/264)\n",
      "TP: 0, FP: 0, TN: 2, FN: 1\n",
      "tps: 2, fps: 16, fns: 6, tns: 57\n",
      "Prediction: [0 0 0]. Reality: [0 1 0]\n",
      "Position: 745 (67/264)\n"
     ]
    },
    {
     "name": "stderr",
     "output_type": "stream",
     "text": [
      "C:\\Users\\InbarBlech\\AppData\\Local\\Temp\\ipykernel_25004\\1756431869.py:42: FutureWarning: The frame.append method is deprecated and will be removed from pandas in a future version. Use pandas.concat instead.\n",
      "  predictions_df = predictions_df.append({\"variant\": row[\"variant\"], \"prediction\": y_pred[index], \"reality\": row[\"pathogenicity\"]}, ignore_index=True)\n",
      "C:\\Users\\InbarBlech\\AppData\\Local\\Temp\\ipykernel_25004\\1756431869.py:42: FutureWarning: The frame.append method is deprecated and will be removed from pandas in a future version. Use pandas.concat instead.\n",
      "  predictions_df = predictions_df.append({\"variant\": row[\"variant\"], \"prediction\": y_pred[index], \"reality\": row[\"pathogenicity\"]}, ignore_index=True)\n",
      "C:\\Users\\InbarBlech\\AppData\\Local\\Temp\\ipykernel_25004\\1756431869.py:42: FutureWarning: The frame.append method is deprecated and will be removed from pandas in a future version. Use pandas.concat instead.\n",
      "  predictions_df = predictions_df.append({\"variant\": row[\"variant\"], \"prediction\": y_pred[index], \"reality\": row[\"pathogenicity\"]}, ignore_index=True)\n",
      "C:\\Users\\InbarBlech\\AppData\\Local\\Temp\\ipykernel_25004\\1756431869.py:42: FutureWarning: The frame.append method is deprecated and will be removed from pandas in a future version. Use pandas.concat instead.\n",
      "  predictions_df = predictions_df.append({\"variant\": row[\"variant\"], \"prediction\": y_pred[index], \"reality\": row[\"pathogenicity\"]}, ignore_index=True)\n"
     ]
    },
    {
     "name": "stdout",
     "output_type": "stream",
     "text": [
      "TP: 0, FP: 0, TN: 1, FN: 0\n",
      "tps: 2, fps: 16, fns: 6, tns: 58\n",
      "Prediction: [0]. Reality: [0]\n",
      "Position: 747 (68/264)\n",
      "TP: 0, FP: 0, TN: 1, FN: 0\n",
      "tps: 2, fps: 16, fns: 6, tns: 59\n",
      "Prediction: [0]. Reality: [0]\n",
      "Position: 752 (69/264)\n"
     ]
    },
    {
     "name": "stderr",
     "output_type": "stream",
     "text": [
      "C:\\Users\\InbarBlech\\AppData\\Local\\Temp\\ipykernel_25004\\1756431869.py:42: FutureWarning: The frame.append method is deprecated and will be removed from pandas in a future version. Use pandas.concat instead.\n",
      "  predictions_df = predictions_df.append({\"variant\": row[\"variant\"], \"prediction\": y_pred[index], \"reality\": row[\"pathogenicity\"]}, ignore_index=True)\n",
      "C:\\Users\\InbarBlech\\AppData\\Local\\Temp\\ipykernel_25004\\1756431869.py:42: FutureWarning: The frame.append method is deprecated and will be removed from pandas in a future version. Use pandas.concat instead.\n",
      "  predictions_df = predictions_df.append({\"variant\": row[\"variant\"], \"prediction\": y_pred[index], \"reality\": row[\"pathogenicity\"]}, ignore_index=True)\n"
     ]
    },
    {
     "name": "stdout",
     "output_type": "stream",
     "text": [
      "TP: 0, FP: 1, TN: 0, FN: 0\n",
      "tps: 2, fps: 17, fns: 6, tns: 59\n",
      "Prediction: [1]. Reality: [0]\n",
      "Position: 755 (70/264)\n",
      "TP: 0, FP: 0, TN: 1, FN: 0\n",
      "tps: 2, fps: 17, fns: 6, tns: 60\n",
      "Prediction: [0]. Reality: [0]\n",
      "Position: 761 (71/264)\n"
     ]
    },
    {
     "name": "stderr",
     "output_type": "stream",
     "text": [
      "C:\\Users\\InbarBlech\\AppData\\Local\\Temp\\ipykernel_25004\\1756431869.py:42: FutureWarning: The frame.append method is deprecated and will be removed from pandas in a future version. Use pandas.concat instead.\n",
      "  predictions_df = predictions_df.append({\"variant\": row[\"variant\"], \"prediction\": y_pred[index], \"reality\": row[\"pathogenicity\"]}, ignore_index=True)\n",
      "C:\\Users\\InbarBlech\\AppData\\Local\\Temp\\ipykernel_25004\\1756431869.py:42: FutureWarning: The frame.append method is deprecated and will be removed from pandas in a future version. Use pandas.concat instead.\n",
      "  predictions_df = predictions_df.append({\"variant\": row[\"variant\"], \"prediction\": y_pred[index], \"reality\": row[\"pathogenicity\"]}, ignore_index=True)\n"
     ]
    },
    {
     "name": "stdout",
     "output_type": "stream",
     "text": [
      "TP: 0, FP: 0, TN: 1, FN: 0\n",
      "tps: 2, fps: 17, fns: 6, tns: 61\n",
      "Prediction: [0]. Reality: [0]\n",
      "Position: 780 (72/264)\n",
      "TP: 0, FP: 0, TN: 1, FN: 0\n",
      "tps: 2, fps: 17, fns: 6, tns: 62\n",
      "Prediction: [0]. Reality: [0]\n",
      "Position: 776 (73/264)\n"
     ]
    },
    {
     "name": "stderr",
     "output_type": "stream",
     "text": [
      "C:\\Users\\InbarBlech\\AppData\\Local\\Temp\\ipykernel_25004\\1756431869.py:42: FutureWarning: The frame.append method is deprecated and will be removed from pandas in a future version. Use pandas.concat instead.\n",
      "  predictions_df = predictions_df.append({\"variant\": row[\"variant\"], \"prediction\": y_pred[index], \"reality\": row[\"pathogenicity\"]}, ignore_index=True)\n",
      "C:\\Users\\InbarBlech\\AppData\\Local\\Temp\\ipykernel_25004\\1756431869.py:42: FutureWarning: The frame.append method is deprecated and will be removed from pandas in a future version. Use pandas.concat instead.\n",
      "  predictions_df = predictions_df.append({\"variant\": row[\"variant\"], \"prediction\": y_pred[index], \"reality\": row[\"pathogenicity\"]}, ignore_index=True)\n"
     ]
    },
    {
     "name": "stdout",
     "output_type": "stream",
     "text": [
      "TP: 0, FP: 0, TN: 0, FN: 1\n",
      "tps: 2, fps: 17, fns: 7, tns: 62\n",
      "Prediction: [0]. Reality: [1]\n",
      "Position: 76 (74/264)\n",
      "TP: 1, FP: 0, TN: 0, FN: 0\n",
      "tps: 3, fps: 17, fns: 7, tns: 62\n",
      "Prediction: [1]. Reality: [1]\n",
      "Position: 724 (75/264)\n"
     ]
    },
    {
     "name": "stderr",
     "output_type": "stream",
     "text": [
      "C:\\Users\\InbarBlech\\AppData\\Local\\Temp\\ipykernel_25004\\1756431869.py:42: FutureWarning: The frame.append method is deprecated and will be removed from pandas in a future version. Use pandas.concat instead.\n",
      "  predictions_df = predictions_df.append({\"variant\": row[\"variant\"], \"prediction\": y_pred[index], \"reality\": row[\"pathogenicity\"]}, ignore_index=True)\n",
      "C:\\Users\\InbarBlech\\AppData\\Local\\Temp\\ipykernel_25004\\1756431869.py:42: FutureWarning: The frame.append method is deprecated and will be removed from pandas in a future version. Use pandas.concat instead.\n",
      "  predictions_df = predictions_df.append({\"variant\": row[\"variant\"], \"prediction\": y_pred[index], \"reality\": row[\"pathogenicity\"]}, ignore_index=True)\n",
      "C:\\Users\\InbarBlech\\AppData\\Local\\Temp\\ipykernel_25004\\1756431869.py:42: FutureWarning: The frame.append method is deprecated and will be removed from pandas in a future version. Use pandas.concat instead.\n",
      "  predictions_df = predictions_df.append({\"variant\": row[\"variant\"], \"prediction\": y_pred[index], \"reality\": row[\"pathogenicity\"]}, ignore_index=True)\n",
      "C:\\Users\\InbarBlech\\AppData\\Local\\Temp\\ipykernel_25004\\1756431869.py:42: FutureWarning: The frame.append method is deprecated and will be removed from pandas in a future version. Use pandas.concat instead.\n",
      "  predictions_df = predictions_df.append({\"variant\": row[\"variant\"], \"prediction\": y_pred[index], \"reality\": row[\"pathogenicity\"]}, ignore_index=True)\n"
     ]
    },
    {
     "name": "stdout",
     "output_type": "stream",
     "text": [
      "TP: 3, FP: 0, TN: 0, FN: 0\n",
      "tps: 6, fps: 17, fns: 7, tns: 62\n",
      "Prediction: [1 1 1]. Reality: [1 1 1]\n",
      "Position: 663 (76/264)\n",
      "TP: 2, FP: 0, TN: 0, FN: 0\n",
      "tps: 8, fps: 17, fns: 7, tns: 62\n",
      "Prediction: [1 1]. Reality: [1 1]\n",
      "Position: 410 (77/264)\n"
     ]
    },
    {
     "name": "stderr",
     "output_type": "stream",
     "text": [
      "C:\\Users\\InbarBlech\\AppData\\Local\\Temp\\ipykernel_25004\\1756431869.py:42: FutureWarning: The frame.append method is deprecated and will be removed from pandas in a future version. Use pandas.concat instead.\n",
      "  predictions_df = predictions_df.append({\"variant\": row[\"variant\"], \"prediction\": y_pred[index], \"reality\": row[\"pathogenicity\"]}, ignore_index=True)\n",
      "C:\\Users\\InbarBlech\\AppData\\Local\\Temp\\ipykernel_25004\\1756431869.py:42: FutureWarning: The frame.append method is deprecated and will be removed from pandas in a future version. Use pandas.concat instead.\n",
      "  predictions_df = predictions_df.append({\"variant\": row[\"variant\"], \"prediction\": y_pred[index], \"reality\": row[\"pathogenicity\"]}, ignore_index=True)\n",
      "C:\\Users\\InbarBlech\\AppData\\Local\\Temp\\ipykernel_25004\\1756431869.py:42: FutureWarning: The frame.append method is deprecated and will be removed from pandas in a future version. Use pandas.concat instead.\n",
      "  predictions_df = predictions_df.append({\"variant\": row[\"variant\"], \"prediction\": y_pred[index], \"reality\": row[\"pathogenicity\"]}, ignore_index=True)\n"
     ]
    },
    {
     "name": "stdout",
     "output_type": "stream",
     "text": [
      "TP: 1, FP: 0, TN: 0, FN: 0\n",
      "tps: 9, fps: 17, fns: 7, tns: 62\n",
      "Prediction: [1]. Reality: [1]\n",
      "Position: 131 (78/264)\n",
      "TP: 2, FP: 0, TN: 0, FN: 0\n",
      "tps: 11, fps: 17, fns: 7, tns: 62\n",
      "Prediction: [1 1]. Reality: [1 1]\n",
      "Position: 565 (79/264)\n"
     ]
    },
    {
     "name": "stderr",
     "output_type": "stream",
     "text": [
      "C:\\Users\\InbarBlech\\AppData\\Local\\Temp\\ipykernel_25004\\1756431869.py:42: FutureWarning: The frame.append method is deprecated and will be removed from pandas in a future version. Use pandas.concat instead.\n",
      "  predictions_df = predictions_df.append({\"variant\": row[\"variant\"], \"prediction\": y_pred[index], \"reality\": row[\"pathogenicity\"]}, ignore_index=True)\n",
      "C:\\Users\\InbarBlech\\AppData\\Local\\Temp\\ipykernel_25004\\1756431869.py:42: FutureWarning: The frame.append method is deprecated and will be removed from pandas in a future version. Use pandas.concat instead.\n",
      "  predictions_df = predictions_df.append({\"variant\": row[\"variant\"], \"prediction\": y_pred[index], \"reality\": row[\"pathogenicity\"]}, ignore_index=True)\n",
      "C:\\Users\\InbarBlech\\AppData\\Local\\Temp\\ipykernel_25004\\1756431869.py:42: FutureWarning: The frame.append method is deprecated and will be removed from pandas in a future version. Use pandas.concat instead.\n",
      "  predictions_df = predictions_df.append({\"variant\": row[\"variant\"], \"prediction\": y_pred[index], \"reality\": row[\"pathogenicity\"]}, ignore_index=True)\n",
      "C:\\Users\\InbarBlech\\AppData\\Local\\Temp\\ipykernel_25004\\1756431869.py:42: FutureWarning: The frame.append method is deprecated and will be removed from pandas in a future version. Use pandas.concat instead.\n",
      "  predictions_df = predictions_df.append({\"variant\": row[\"variant\"], \"prediction\": y_pred[index], \"reality\": row[\"pathogenicity\"]}, ignore_index=True)\n"
     ]
    },
    {
     "name": "stdout",
     "output_type": "stream",
     "text": [
      "TP: 2, FP: 0, TN: 0, FN: 0\n",
      "tps: 13, fps: 17, fns: 7, tns: 62\n",
      "Prediction: [1 1]. Reality: [1 1]\n",
      "Position: 426 (80/264)\n",
      "TP: 1, FP: 0, TN: 0, FN: 0\n",
      "tps: 14, fps: 17, fns: 7, tns: 62\n",
      "Prediction: [1]. Reality: [1]\n",
      "Position: 525 (81/264)\n"
     ]
    },
    {
     "name": "stderr",
     "output_type": "stream",
     "text": [
      "C:\\Users\\InbarBlech\\AppData\\Local\\Temp\\ipykernel_25004\\1756431869.py:42: FutureWarning: The frame.append method is deprecated and will be removed from pandas in a future version. Use pandas.concat instead.\n",
      "  predictions_df = predictions_df.append({\"variant\": row[\"variant\"], \"prediction\": y_pred[index], \"reality\": row[\"pathogenicity\"]}, ignore_index=True)\n",
      "C:\\Users\\InbarBlech\\AppData\\Local\\Temp\\ipykernel_25004\\1756431869.py:42: FutureWarning: The frame.append method is deprecated and will be removed from pandas in a future version. Use pandas.concat instead.\n",
      "  predictions_df = predictions_df.append({\"variant\": row[\"variant\"], \"prediction\": y_pred[index], \"reality\": row[\"pathogenicity\"]}, ignore_index=True)\n"
     ]
    },
    {
     "name": "stdout",
     "output_type": "stream",
     "text": [
      "TP: 1, FP: 0, TN: 0, FN: 0\n",
      "tps: 15, fps: 17, fns: 7, tns: 62\n",
      "Prediction: [1]. Reality: [1]\n",
      "Position: 690 (82/264)\n",
      "TP: 1, FP: 0, TN: 0, FN: 0\n",
      "tps: 16, fps: 17, fns: 7, tns: 62\n",
      "Prediction: [1]. Reality: [1]\n",
      "Position: 222 (83/264)\n"
     ]
    },
    {
     "name": "stderr",
     "output_type": "stream",
     "text": [
      "C:\\Users\\InbarBlech\\AppData\\Local\\Temp\\ipykernel_25004\\1756431869.py:42: FutureWarning: The frame.append method is deprecated and will be removed from pandas in a future version. Use pandas.concat instead.\n",
      "  predictions_df = predictions_df.append({\"variant\": row[\"variant\"], \"prediction\": y_pred[index], \"reality\": row[\"pathogenicity\"]}, ignore_index=True)\n",
      "C:\\Users\\InbarBlech\\AppData\\Local\\Temp\\ipykernel_25004\\1756431869.py:42: FutureWarning: The frame.append method is deprecated and will be removed from pandas in a future version. Use pandas.concat instead.\n",
      "  predictions_df = predictions_df.append({\"variant\": row[\"variant\"], \"prediction\": y_pred[index], \"reality\": row[\"pathogenicity\"]}, ignore_index=True)\n",
      "C:\\Users\\InbarBlech\\AppData\\Local\\Temp\\ipykernel_25004\\1756431869.py:42: FutureWarning: The frame.append method is deprecated and will be removed from pandas in a future version. Use pandas.concat instead.\n",
      "  predictions_df = predictions_df.append({\"variant\": row[\"variant\"], \"prediction\": y_pred[index], \"reality\": row[\"pathogenicity\"]}, ignore_index=True)\n",
      "C:\\Users\\InbarBlech\\AppData\\Local\\Temp\\ipykernel_25004\\1756431869.py:42: FutureWarning: The frame.append method is deprecated and will be removed from pandas in a future version. Use pandas.concat instead.\n",
      "  predictions_df = predictions_df.append({\"variant\": row[\"variant\"], \"prediction\": y_pred[index], \"reality\": row[\"pathogenicity\"]}, ignore_index=True)\n",
      "C:\\Users\\InbarBlech\\AppData\\Local\\Temp\\ipykernel_25004\\1756431869.py:42: FutureWarning: The frame.append method is deprecated and will be removed from pandas in a future version. Use pandas.concat instead.\n",
      "  predictions_df = predictions_df.append({\"variant\": row[\"variant\"], \"prediction\": y_pred[index], \"reality\": row[\"pathogenicity\"]}, ignore_index=True)\n"
     ]
    },
    {
     "name": "stdout",
     "output_type": "stream",
     "text": [
      "TP: 4, FP: 0, TN: 0, FN: 0\n",
      "tps: 20, fps: 17, fns: 7, tns: 62\n",
      "Prediction: [1 1 1 1]. Reality: [1 1 1 1]\n",
      "Position: 572 (84/264)\n",
      "TP: 2, FP: 0, TN: 0, FN: 0\n",
      "tps: 22, fps: 17, fns: 7, tns: 62\n",
      "Prediction: [1 1]. Reality: [1 1]\n",
      "Position: 369 (85/264)\n"
     ]
    },
    {
     "name": "stderr",
     "output_type": "stream",
     "text": [
      "C:\\Users\\InbarBlech\\AppData\\Local\\Temp\\ipykernel_25004\\1756431869.py:42: FutureWarning: The frame.append method is deprecated and will be removed from pandas in a future version. Use pandas.concat instead.\n",
      "  predictions_df = predictions_df.append({\"variant\": row[\"variant\"], \"prediction\": y_pred[index], \"reality\": row[\"pathogenicity\"]}, ignore_index=True)\n",
      "C:\\Users\\InbarBlech\\AppData\\Local\\Temp\\ipykernel_25004\\1756431869.py:42: FutureWarning: The frame.append method is deprecated and will be removed from pandas in a future version. Use pandas.concat instead.\n",
      "  predictions_df = predictions_df.append({\"variant\": row[\"variant\"], \"prediction\": y_pred[index], \"reality\": row[\"pathogenicity\"]}, ignore_index=True)\n",
      "C:\\Users\\InbarBlech\\AppData\\Local\\Temp\\ipykernel_25004\\1756431869.py:42: FutureWarning: The frame.append method is deprecated and will be removed from pandas in a future version. Use pandas.concat instead.\n",
      "  predictions_df = predictions_df.append({\"variant\": row[\"variant\"], \"prediction\": y_pred[index], \"reality\": row[\"pathogenicity\"]}, ignore_index=True)\n"
     ]
    },
    {
     "name": "stdout",
     "output_type": "stream",
     "text": [
      "TP: 1, FP: 0, TN: 0, FN: 0\n",
      "tps: 23, fps: 17, fns: 7, tns: 62\n",
      "Prediction: [1]. Reality: [1]\n",
      "Position: 134 (86/264)\n",
      "TP: 1, FP: 0, TN: 0, FN: 0\n",
      "tps: 24, fps: 17, fns: 7, tns: 62\n",
      "Prediction: [1]. Reality: [1]\n",
      "Position: 581 (87/264)\n"
     ]
    },
    {
     "name": "stderr",
     "output_type": "stream",
     "text": [
      "C:\\Users\\InbarBlech\\AppData\\Local\\Temp\\ipykernel_25004\\1756431869.py:42: FutureWarning: The frame.append method is deprecated and will be removed from pandas in a future version. Use pandas.concat instead.\n",
      "  predictions_df = predictions_df.append({\"variant\": row[\"variant\"], \"prediction\": y_pred[index], \"reality\": row[\"pathogenicity\"]}, ignore_index=True)\n",
      "C:\\Users\\InbarBlech\\AppData\\Local\\Temp\\ipykernel_25004\\1756431869.py:42: FutureWarning: The frame.append method is deprecated and will be removed from pandas in a future version. Use pandas.concat instead.\n",
      "  predictions_df = predictions_df.append({\"variant\": row[\"variant\"], \"prediction\": y_pred[index], \"reality\": row[\"pathogenicity\"]}, ignore_index=True)\n",
      "C:\\Users\\InbarBlech\\AppData\\Local\\Temp\\ipykernel_25004\\1756431869.py:42: FutureWarning: The frame.append method is deprecated and will be removed from pandas in a future version. Use pandas.concat instead.\n",
      "  predictions_df = predictions_df.append({\"variant\": row[\"variant\"], \"prediction\": y_pred[index], \"reality\": row[\"pathogenicity\"]}, ignore_index=True)\n"
     ]
    },
    {
     "name": "stdout",
     "output_type": "stream",
     "text": [
      "TP: 2, FP: 0, TN: 0, FN: 0\n",
      "tps: 26, fps: 17, fns: 7, tns: 62\n",
      "Prediction: [1 1]. Reality: [1 1]\n",
      "Position: 334 (88/264)\n",
      "TP: 3, FP: 0, TN: 0, FN: 0\n",
      "tps: 29, fps: 17, fns: 7, tns: 62\n",
      "Prediction: [1 1 1]. Reality: [1 1 1]\n",
      "Position: 97 (89/264)\n"
     ]
    },
    {
     "name": "stderr",
     "output_type": "stream",
     "text": [
      "C:\\Users\\InbarBlech\\AppData\\Local\\Temp\\ipykernel_25004\\1756431869.py:42: FutureWarning: The frame.append method is deprecated and will be removed from pandas in a future version. Use pandas.concat instead.\n",
      "  predictions_df = predictions_df.append({\"variant\": row[\"variant\"], \"prediction\": y_pred[index], \"reality\": row[\"pathogenicity\"]}, ignore_index=True)\n",
      "C:\\Users\\InbarBlech\\AppData\\Local\\Temp\\ipykernel_25004\\1756431869.py:42: FutureWarning: The frame.append method is deprecated and will be removed from pandas in a future version. Use pandas.concat instead.\n",
      "  predictions_df = predictions_df.append({\"variant\": row[\"variant\"], \"prediction\": y_pred[index], \"reality\": row[\"pathogenicity\"]}, ignore_index=True)\n",
      "C:\\Users\\InbarBlech\\AppData\\Local\\Temp\\ipykernel_25004\\1756431869.py:42: FutureWarning: The frame.append method is deprecated and will be removed from pandas in a future version. Use pandas.concat instead.\n",
      "  predictions_df = predictions_df.append({\"variant\": row[\"variant\"], \"prediction\": y_pred[index], \"reality\": row[\"pathogenicity\"]}, ignore_index=True)\n",
      "C:\\Users\\InbarBlech\\AppData\\Local\\Temp\\ipykernel_25004\\1756431869.py:42: FutureWarning: The frame.append method is deprecated and will be removed from pandas in a future version. Use pandas.concat instead.\n",
      "  predictions_df = predictions_df.append({\"variant\": row[\"variant\"], \"prediction\": y_pred[index], \"reality\": row[\"pathogenicity\"]}, ignore_index=True)\n"
     ]
    },
    {
     "name": "stdout",
     "output_type": "stream",
     "text": [
      "TP: 1, FP: 0, TN: 0, FN: 0\n",
      "tps: 30, fps: 17, fns: 7, tns: 62\n",
      "Prediction: [1]. Reality: [1]\n",
      "Position: 166 (90/264)\n",
      "TP: 0, FP: 0, TN: 0, FN: 1\n",
      "tps: 30, fps: 17, fns: 8, tns: 62\n",
      "Prediction: [0]. Reality: [1]\n",
      "Position: 409 (91/264)\n"
     ]
    },
    {
     "name": "stderr",
     "output_type": "stream",
     "text": [
      "C:\\Users\\InbarBlech\\AppData\\Local\\Temp\\ipykernel_25004\\1756431869.py:42: FutureWarning: The frame.append method is deprecated and will be removed from pandas in a future version. Use pandas.concat instead.\n",
      "  predictions_df = predictions_df.append({\"variant\": row[\"variant\"], \"prediction\": y_pred[index], \"reality\": row[\"pathogenicity\"]}, ignore_index=True)\n",
      "C:\\Users\\InbarBlech\\AppData\\Local\\Temp\\ipykernel_25004\\1756431869.py:42: FutureWarning: The frame.append method is deprecated and will be removed from pandas in a future version. Use pandas.concat instead.\n",
      "  predictions_df = predictions_df.append({\"variant\": row[\"variant\"], \"prediction\": y_pred[index], \"reality\": row[\"pathogenicity\"]}, ignore_index=True)\n",
      "C:\\Users\\InbarBlech\\AppData\\Local\\Temp\\ipykernel_25004\\1756431869.py:42: FutureWarning: The frame.append method is deprecated and will be removed from pandas in a future version. Use pandas.concat instead.\n",
      "  predictions_df = predictions_df.append({\"variant\": row[\"variant\"], \"prediction\": y_pred[index], \"reality\": row[\"pathogenicity\"]}, ignore_index=True)\n",
      "C:\\Users\\InbarBlech\\AppData\\Local\\Temp\\ipykernel_25004\\1756431869.py:42: FutureWarning: The frame.append method is deprecated and will be removed from pandas in a future version. Use pandas.concat instead.\n",
      "  predictions_df = predictions_df.append({\"variant\": row[\"variant\"], \"prediction\": y_pred[index], \"reality\": row[\"pathogenicity\"]}, ignore_index=True)\n",
      "C:\\Users\\InbarBlech\\AppData\\Local\\Temp\\ipykernel_25004\\1756431869.py:42: FutureWarning: The frame.append method is deprecated and will be removed from pandas in a future version. Use pandas.concat instead.\n",
      "  predictions_df = predictions_df.append({\"variant\": row[\"variant\"], \"prediction\": y_pred[index], \"reality\": row[\"pathogenicity\"]}, ignore_index=True)\n"
     ]
    },
    {
     "name": "stdout",
     "output_type": "stream",
     "text": [
      "TP: 4, FP: 0, TN: 0, FN: 0\n",
      "tps: 34, fps: 17, fns: 8, tns: 62\n",
      "Prediction: [1 1 1 1]. Reality: [1 1 1 1]\n",
      "Position: 669 (92/264)\n",
      "TP: 3, FP: 0, TN: 0, FN: 0\n",
      "tps: 37, fps: 17, fns: 8, tns: 62\n",
      "Prediction: [1 1 1]. Reality: [1 1 1]\n",
      "Position: 727 (93/264)\n"
     ]
    },
    {
     "name": "stderr",
     "output_type": "stream",
     "text": [
      "C:\\Users\\InbarBlech\\AppData\\Local\\Temp\\ipykernel_25004\\1756431869.py:42: FutureWarning: The frame.append method is deprecated and will be removed from pandas in a future version. Use pandas.concat instead.\n",
      "  predictions_df = predictions_df.append({\"variant\": row[\"variant\"], \"prediction\": y_pred[index], \"reality\": row[\"pathogenicity\"]}, ignore_index=True)\n",
      "C:\\Users\\InbarBlech\\AppData\\Local\\Temp\\ipykernel_25004\\1756431869.py:42: FutureWarning: The frame.append method is deprecated and will be removed from pandas in a future version. Use pandas.concat instead.\n",
      "  predictions_df = predictions_df.append({\"variant\": row[\"variant\"], \"prediction\": y_pred[index], \"reality\": row[\"pathogenicity\"]}, ignore_index=True)\n",
      "C:\\Users\\InbarBlech\\AppData\\Local\\Temp\\ipykernel_25004\\1756431869.py:42: FutureWarning: The frame.append method is deprecated and will be removed from pandas in a future version. Use pandas.concat instead.\n",
      "  predictions_df = predictions_df.append({\"variant\": row[\"variant\"], \"prediction\": y_pred[index], \"reality\": row[\"pathogenicity\"]}, ignore_index=True)\n",
      "C:\\Users\\InbarBlech\\AppData\\Local\\Temp\\ipykernel_25004\\1756431869.py:42: FutureWarning: The frame.append method is deprecated and will be removed from pandas in a future version. Use pandas.concat instead.\n",
      "  predictions_df = predictions_df.append({\"variant\": row[\"variant\"], \"prediction\": y_pred[index], \"reality\": row[\"pathogenicity\"]}, ignore_index=True)\n"
     ]
    },
    {
     "name": "stdout",
     "output_type": "stream",
     "text": [
      "TP: 1, FP: 0, TN: 0, FN: 0\n",
      "tps: 38, fps: 17, fns: 8, tns: 62\n",
      "Prediction: [1]. Reality: [1]\n",
      "Position: 493 (94/264)\n",
      "TP: 1, FP: 0, TN: 0, FN: 0\n",
      "tps: 39, fps: 17, fns: 8, tns: 62\n",
      "Prediction: [1]. Reality: [1]\n",
      "Position: 515 (95/264)\n"
     ]
    },
    {
     "name": "stderr",
     "output_type": "stream",
     "text": [
      "C:\\Users\\InbarBlech\\AppData\\Local\\Temp\\ipykernel_25004\\1756431869.py:42: FutureWarning: The frame.append method is deprecated and will be removed from pandas in a future version. Use pandas.concat instead.\n",
      "  predictions_df = predictions_df.append({\"variant\": row[\"variant\"], \"prediction\": y_pred[index], \"reality\": row[\"pathogenicity\"]}, ignore_index=True)\n",
      "C:\\Users\\InbarBlech\\AppData\\Local\\Temp\\ipykernel_25004\\1756431869.py:42: FutureWarning: The frame.append method is deprecated and will be removed from pandas in a future version. Use pandas.concat instead.\n",
      "  predictions_df = predictions_df.append({\"variant\": row[\"variant\"], \"prediction\": y_pred[index], \"reality\": row[\"pathogenicity\"]}, ignore_index=True)\n",
      "C:\\Users\\InbarBlech\\AppData\\Local\\Temp\\ipykernel_25004\\1756431869.py:42: FutureWarning: The frame.append method is deprecated and will be removed from pandas in a future version. Use pandas.concat instead.\n",
      "  predictions_df = predictions_df.append({\"variant\": row[\"variant\"], \"prediction\": y_pred[index], \"reality\": row[\"pathogenicity\"]}, ignore_index=True)\n"
     ]
    },
    {
     "name": "stdout",
     "output_type": "stream",
     "text": [
      "TP: 0, FP: 0, TN: 0, FN: 2\n",
      "tps: 39, fps: 17, fns: 10, tns: 62\n",
      "Prediction: [0 0]. Reality: [1 1]\n",
      "Position: 685 (96/264)\n",
      "TP: 1, FP: 0, TN: 0, FN: 0\n",
      "tps: 40, fps: 17, fns: 10, tns: 62\n",
      "Prediction: [1]. Reality: [1]\n",
      "Position: 161 (97/264)\n"
     ]
    },
    {
     "name": "stderr",
     "output_type": "stream",
     "text": [
      "C:\\Users\\InbarBlech\\AppData\\Local\\Temp\\ipykernel_25004\\1756431869.py:42: FutureWarning: The frame.append method is deprecated and will be removed from pandas in a future version. Use pandas.concat instead.\n",
      "  predictions_df = predictions_df.append({\"variant\": row[\"variant\"], \"prediction\": y_pred[index], \"reality\": row[\"pathogenicity\"]}, ignore_index=True)\n",
      "C:\\Users\\InbarBlech\\AppData\\Local\\Temp\\ipykernel_25004\\1756431869.py:42: FutureWarning: The frame.append method is deprecated and will be removed from pandas in a future version. Use pandas.concat instead.\n",
      "  predictions_df = predictions_df.append({\"variant\": row[\"variant\"], \"prediction\": y_pred[index], \"reality\": row[\"pathogenicity\"]}, ignore_index=True)\n"
     ]
    },
    {
     "name": "stdout",
     "output_type": "stream",
     "text": [
      "TP: 1, FP: 0, TN: 0, FN: 0\n",
      "tps: 41, fps: 17, fns: 10, tns: 62\n",
      "Prediction: [1]. Reality: [1]\n",
      "Position: 728 (98/264)\n",
      "TP: 1, FP: 0, TN: 0, FN: 0\n",
      "tps: 42, fps: 17, fns: 10, tns: 62\n",
      "Prediction: [1]. Reality: [1]\n",
      "Position: 422 (99/264)\n"
     ]
    },
    {
     "name": "stderr",
     "output_type": "stream",
     "text": [
      "C:\\Users\\InbarBlech\\AppData\\Local\\Temp\\ipykernel_25004\\1756431869.py:42: FutureWarning: The frame.append method is deprecated and will be removed from pandas in a future version. Use pandas.concat instead.\n",
      "  predictions_df = predictions_df.append({\"variant\": row[\"variant\"], \"prediction\": y_pred[index], \"reality\": row[\"pathogenicity\"]}, ignore_index=True)\n",
      "C:\\Users\\InbarBlech\\AppData\\Local\\Temp\\ipykernel_25004\\1756431869.py:42: FutureWarning: The frame.append method is deprecated and will be removed from pandas in a future version. Use pandas.concat instead.\n",
      "  predictions_df = predictions_df.append({\"variant\": row[\"variant\"], \"prediction\": y_pred[index], \"reality\": row[\"pathogenicity\"]}, ignore_index=True)\n",
      "C:\\Users\\InbarBlech\\AppData\\Local\\Temp\\ipykernel_25004\\1756431869.py:42: FutureWarning: The frame.append method is deprecated and will be removed from pandas in a future version. Use pandas.concat instead.\n",
      "  predictions_df = predictions_df.append({\"variant\": row[\"variant\"], \"prediction\": y_pred[index], \"reality\": row[\"pathogenicity\"]}, ignore_index=True)\n"
     ]
    },
    {
     "name": "stdout",
     "output_type": "stream",
     "text": [
      "TP: 0, FP: 0, TN: 0, FN: 2\n",
      "tps: 42, fps: 17, fns: 12, tns: 62\n",
      "Prediction: [0 0]. Reality: [1 1]\n",
      "Position: 406 (100/264)\n",
      "TP: 0, FP: 0, TN: 0, FN: 1\n",
      "tps: 42, fps: 17, fns: 13, tns: 62\n",
      "Prediction: [0]. Reality: [1]\n",
      "Position: 185 (101/264)\n"
     ]
    },
    {
     "name": "stderr",
     "output_type": "stream",
     "text": [
      "C:\\Users\\InbarBlech\\AppData\\Local\\Temp\\ipykernel_25004\\1756431869.py:42: FutureWarning: The frame.append method is deprecated and will be removed from pandas in a future version. Use pandas.concat instead.\n",
      "  predictions_df = predictions_df.append({\"variant\": row[\"variant\"], \"prediction\": y_pred[index], \"reality\": row[\"pathogenicity\"]}, ignore_index=True)\n",
      "C:\\Users\\InbarBlech\\AppData\\Local\\Temp\\ipykernel_25004\\1756431869.py:42: FutureWarning: The frame.append method is deprecated and will be removed from pandas in a future version. Use pandas.concat instead.\n",
      "  predictions_df = predictions_df.append({\"variant\": row[\"variant\"], \"prediction\": y_pred[index], \"reality\": row[\"pathogenicity\"]}, ignore_index=True)\n"
     ]
    },
    {
     "name": "stdout",
     "output_type": "stream",
     "text": [
      "TP: 1, FP: 0, TN: 0, FN: 0\n",
      "tps: 43, fps: 17, fns: 13, tns: 62\n",
      "Prediction: [1]. Reality: [1]\n",
      "Position: 396 (102/264)\n",
      "TP: 1, FP: 0, TN: 0, FN: 0\n",
      "tps: 44, fps: 17, fns: 13, tns: 62\n",
      "Prediction: [1]. Reality: [1]\n",
      "Position: 304 (103/264)\n"
     ]
    },
    {
     "name": "stderr",
     "output_type": "stream",
     "text": [
      "C:\\Users\\InbarBlech\\AppData\\Local\\Temp\\ipykernel_25004\\1756431869.py:42: FutureWarning: The frame.append method is deprecated and will be removed from pandas in a future version. Use pandas.concat instead.\n",
      "  predictions_df = predictions_df.append({\"variant\": row[\"variant\"], \"prediction\": y_pred[index], \"reality\": row[\"pathogenicity\"]}, ignore_index=True)\n",
      "C:\\Users\\InbarBlech\\AppData\\Local\\Temp\\ipykernel_25004\\1756431869.py:42: FutureWarning: The frame.append method is deprecated and will be removed from pandas in a future version. Use pandas.concat instead.\n",
      "  predictions_df = predictions_df.append({\"variant\": row[\"variant\"], \"prediction\": y_pred[index], \"reality\": row[\"pathogenicity\"]}, ignore_index=True)\n"
     ]
    },
    {
     "name": "stdout",
     "output_type": "stream",
     "text": [
      "TP: 1, FP: 0, TN: 0, FN: 0\n",
      "tps: 45, fps: 17, fns: 13, tns: 62\n",
      "Prediction: [1]. Reality: [1]\n",
      "Position: 372 (104/264)\n",
      "TP: 1, FP: 0, TN: 0, FN: 0\n",
      "tps: 46, fps: 17, fns: 13, tns: 62\n",
      "Prediction: [1]. Reality: [1]\n",
      "Position: 20 (105/264)\n"
     ]
    },
    {
     "name": "stderr",
     "output_type": "stream",
     "text": [
      "C:\\Users\\InbarBlech\\AppData\\Local\\Temp\\ipykernel_25004\\1756431869.py:42: FutureWarning: The frame.append method is deprecated and will be removed from pandas in a future version. Use pandas.concat instead.\n",
      "  predictions_df = predictions_df.append({\"variant\": row[\"variant\"], \"prediction\": y_pred[index], \"reality\": row[\"pathogenicity\"]}, ignore_index=True)\n",
      "C:\\Users\\InbarBlech\\AppData\\Local\\Temp\\ipykernel_25004\\1756431869.py:42: FutureWarning: The frame.append method is deprecated and will be removed from pandas in a future version. Use pandas.concat instead.\n",
      "  predictions_df = predictions_df.append({\"variant\": row[\"variant\"], \"prediction\": y_pred[index], \"reality\": row[\"pathogenicity\"]}, ignore_index=True)\n"
     ]
    },
    {
     "name": "stdout",
     "output_type": "stream",
     "text": [
      "TP: 0, FP: 0, TN: 0, FN: 1\n",
      "tps: 46, fps: 17, fns: 14, tns: 62\n",
      "Prediction: [0]. Reality: [1]\n",
      "Position: 469 (106/264)\n",
      "TP: 0, FP: 0, TN: 0, FN: 1\n",
      "tps: 46, fps: 17, fns: 15, tns: 62\n",
      "Prediction: [0]. Reality: [1]\n",
      "Position: 697 (107/264)\n"
     ]
    },
    {
     "name": "stderr",
     "output_type": "stream",
     "text": [
      "C:\\Users\\InbarBlech\\AppData\\Local\\Temp\\ipykernel_25004\\1756431869.py:42: FutureWarning: The frame.append method is deprecated and will be removed from pandas in a future version. Use pandas.concat instead.\n",
      "  predictions_df = predictions_df.append({\"variant\": row[\"variant\"], \"prediction\": y_pred[index], \"reality\": row[\"pathogenicity\"]}, ignore_index=True)\n",
      "C:\\Users\\InbarBlech\\AppData\\Local\\Temp\\ipykernel_25004\\1756431869.py:42: FutureWarning: The frame.append method is deprecated and will be removed from pandas in a future version. Use pandas.concat instead.\n",
      "  predictions_df = predictions_df.append({\"variant\": row[\"variant\"], \"prediction\": y_pred[index], \"reality\": row[\"pathogenicity\"]}, ignore_index=True)\n",
      "C:\\Users\\InbarBlech\\AppData\\Local\\Temp\\ipykernel_25004\\1756431869.py:42: FutureWarning: The frame.append method is deprecated and will be removed from pandas in a future version. Use pandas.concat instead.\n",
      "  predictions_df = predictions_df.append({\"variant\": row[\"variant\"], \"prediction\": y_pred[index], \"reality\": row[\"pathogenicity\"]}, ignore_index=True)\n",
      "C:\\Users\\InbarBlech\\AppData\\Local\\Temp\\ipykernel_25004\\1756431869.py:42: FutureWarning: The frame.append method is deprecated and will be removed from pandas in a future version. Use pandas.concat instead.\n",
      "  predictions_df = predictions_df.append({\"variant\": row[\"variant\"], \"prediction\": y_pred[index], \"reality\": row[\"pathogenicity\"]}, ignore_index=True)\n"
     ]
    },
    {
     "name": "stdout",
     "output_type": "stream",
     "text": [
      "TP: 0, FP: 0, TN: 0, FN: 3\n",
      "tps: 46, fps: 17, fns: 18, tns: 62\n",
      "Prediction: [0 0 0]. Reality: [1 1 1]\n",
      "Position: 677 (108/264)\n",
      "TP: 1, FP: 0, TN: 0, FN: 0\n",
      "tps: 47, fps: 17, fns: 18, tns: 62\n",
      "Prediction: [1]. Reality: [1]\n",
      "Position: 633 (109/264)\n"
     ]
    },
    {
     "name": "stderr",
     "output_type": "stream",
     "text": [
      "C:\\Users\\InbarBlech\\AppData\\Local\\Temp\\ipykernel_25004\\1756431869.py:42: FutureWarning: The frame.append method is deprecated and will be removed from pandas in a future version. Use pandas.concat instead.\n",
      "  predictions_df = predictions_df.append({\"variant\": row[\"variant\"], \"prediction\": y_pred[index], \"reality\": row[\"pathogenicity\"]}, ignore_index=True)\n",
      "C:\\Users\\InbarBlech\\AppData\\Local\\Temp\\ipykernel_25004\\1756431869.py:42: FutureWarning: The frame.append method is deprecated and will be removed from pandas in a future version. Use pandas.concat instead.\n",
      "  predictions_df = predictions_df.append({\"variant\": row[\"variant\"], \"prediction\": y_pred[index], \"reality\": row[\"pathogenicity\"]}, ignore_index=True)\n"
     ]
    },
    {
     "name": "stdout",
     "output_type": "stream",
     "text": [
      "TP: 0, FP: 0, TN: 0, FN: 1\n",
      "tps: 47, fps: 17, fns: 19, tns: 62\n",
      "Prediction: [0]. Reality: [1]\n",
      "Position: 413 (110/264)\n",
      "TP: 2, FP: 0, TN: 0, FN: 0\n",
      "tps: 49, fps: 17, fns: 19, tns: 62\n",
      "Prediction: [1 1]. Reality: [1 1]\n",
      "Position: 470 (111/264)\n"
     ]
    },
    {
     "name": "stderr",
     "output_type": "stream",
     "text": [
      "C:\\Users\\InbarBlech\\AppData\\Local\\Temp\\ipykernel_25004\\1756431869.py:42: FutureWarning: The frame.append method is deprecated and will be removed from pandas in a future version. Use pandas.concat instead.\n",
      "  predictions_df = predictions_df.append({\"variant\": row[\"variant\"], \"prediction\": y_pred[index], \"reality\": row[\"pathogenicity\"]}, ignore_index=True)\n",
      "C:\\Users\\InbarBlech\\AppData\\Local\\Temp\\ipykernel_25004\\1756431869.py:42: FutureWarning: The frame.append method is deprecated and will be removed from pandas in a future version. Use pandas.concat instead.\n",
      "  predictions_df = predictions_df.append({\"variant\": row[\"variant\"], \"prediction\": y_pred[index], \"reality\": row[\"pathogenicity\"]}, ignore_index=True)\n",
      "C:\\Users\\InbarBlech\\AppData\\Local\\Temp\\ipykernel_25004\\1756431869.py:42: FutureWarning: The frame.append method is deprecated and will be removed from pandas in a future version. Use pandas.concat instead.\n",
      "  predictions_df = predictions_df.append({\"variant\": row[\"variant\"], \"prediction\": y_pred[index], \"reality\": row[\"pathogenicity\"]}, ignore_index=True)\n"
     ]
    },
    {
     "name": "stdout",
     "output_type": "stream",
     "text": [
      "TP: 0, FP: 0, TN: 0, FN: 1\n",
      "tps: 49, fps: 17, fns: 20, tns: 62\n",
      "Prediction: [0]. Reality: [1]\n",
      "Position: 491 (112/264)\n",
      "TP: 0, FP: 0, TN: 0, FN: 1\n",
      "tps: 49, fps: 17, fns: 21, tns: 62\n",
      "Prediction: [0]. Reality: [1]\n",
      "Position: 661 (113/264)\n"
     ]
    },
    {
     "name": "stderr",
     "output_type": "stream",
     "text": [
      "C:\\Users\\InbarBlech\\AppData\\Local\\Temp\\ipykernel_25004\\1756431869.py:42: FutureWarning: The frame.append method is deprecated and will be removed from pandas in a future version. Use pandas.concat instead.\n",
      "  predictions_df = predictions_df.append({\"variant\": row[\"variant\"], \"prediction\": y_pred[index], \"reality\": row[\"pathogenicity\"]}, ignore_index=True)\n",
      "C:\\Users\\InbarBlech\\AppData\\Local\\Temp\\ipykernel_25004\\1756431869.py:42: FutureWarning: The frame.append method is deprecated and will be removed from pandas in a future version. Use pandas.concat instead.\n",
      "  predictions_df = predictions_df.append({\"variant\": row[\"variant\"], \"prediction\": y_pred[index], \"reality\": row[\"pathogenicity\"]}, ignore_index=True)\n",
      "C:\\Users\\InbarBlech\\AppData\\Local\\Temp\\ipykernel_25004\\1756431869.py:42: FutureWarning: The frame.append method is deprecated and will be removed from pandas in a future version. Use pandas.concat instead.\n",
      "  predictions_df = predictions_df.append({\"variant\": row[\"variant\"], \"prediction\": y_pred[index], \"reality\": row[\"pathogenicity\"]}, ignore_index=True)\n",
      "C:\\Users\\InbarBlech\\AppData\\Local\\Temp\\ipykernel_25004\\1756431869.py:42: FutureWarning: The frame.append method is deprecated and will be removed from pandas in a future version. Use pandas.concat instead.\n",
      "  predictions_df = predictions_df.append({\"variant\": row[\"variant\"], \"prediction\": y_pred[index], \"reality\": row[\"pathogenicity\"]}, ignore_index=True)\n"
     ]
    },
    {
     "name": "stdout",
     "output_type": "stream",
     "text": [
      "TP: 3, FP: 0, TN: 0, FN: 0\n",
      "tps: 52, fps: 17, fns: 21, tns: 62\n",
      "Prediction: [1 1 1]. Reality: [1 1 1]\n",
      "Position: 391 (114/264)\n",
      "TP: 2, FP: 0, TN: 0, FN: 0\n",
      "tps: 54, fps: 17, fns: 21, tns: 62\n",
      "Prediction: [1 1]. Reality: [1 1]\n",
      "Position: 508 (115/264)\n"
     ]
    },
    {
     "name": "stderr",
     "output_type": "stream",
     "text": [
      "C:\\Users\\InbarBlech\\AppData\\Local\\Temp\\ipykernel_25004\\1756431869.py:42: FutureWarning: The frame.append method is deprecated and will be removed from pandas in a future version. Use pandas.concat instead.\n",
      "  predictions_df = predictions_df.append({\"variant\": row[\"variant\"], \"prediction\": y_pred[index], \"reality\": row[\"pathogenicity\"]}, ignore_index=True)\n",
      "C:\\Users\\InbarBlech\\AppData\\Local\\Temp\\ipykernel_25004\\1756431869.py:42: FutureWarning: The frame.append method is deprecated and will be removed from pandas in a future version. Use pandas.concat instead.\n",
      "  predictions_df = predictions_df.append({\"variant\": row[\"variant\"], \"prediction\": y_pred[index], \"reality\": row[\"pathogenicity\"]}, ignore_index=True)\n",
      "C:\\Users\\InbarBlech\\AppData\\Local\\Temp\\ipykernel_25004\\1756431869.py:42: FutureWarning: The frame.append method is deprecated and will be removed from pandas in a future version. Use pandas.concat instead.\n",
      "  predictions_df = predictions_df.append({\"variant\": row[\"variant\"], \"prediction\": y_pred[index], \"reality\": row[\"pathogenicity\"]}, ignore_index=True)\n",
      "C:\\Users\\InbarBlech\\AppData\\Local\\Temp\\ipykernel_25004\\1756431869.py:42: FutureWarning: The frame.append method is deprecated and will be removed from pandas in a future version. Use pandas.concat instead.\n",
      "  predictions_df = predictions_df.append({\"variant\": row[\"variant\"], \"prediction\": y_pred[index], \"reality\": row[\"pathogenicity\"]}, ignore_index=True)\n"
     ]
    },
    {
     "name": "stdout",
     "output_type": "stream",
     "text": [
      "TP: 2, FP: 0, TN: 0, FN: 0\n",
      "tps: 56, fps: 17, fns: 21, tns: 62\n",
      "Prediction: [1 1]. Reality: [1 1]\n",
      "Position: 466 (116/264)\n",
      "TP: 0, FP: 0, TN: 0, FN: 1\n",
      "tps: 56, fps: 17, fns: 22, tns: 62\n",
      "Prediction: [0]. Reality: [1]\n",
      "Position: 667 (117/264)\n"
     ]
    },
    {
     "name": "stderr",
     "output_type": "stream",
     "text": [
      "C:\\Users\\InbarBlech\\AppData\\Local\\Temp\\ipykernel_25004\\1756431869.py:42: FutureWarning: The frame.append method is deprecated and will be removed from pandas in a future version. Use pandas.concat instead.\n",
      "  predictions_df = predictions_df.append({\"variant\": row[\"variant\"], \"prediction\": y_pred[index], \"reality\": row[\"pathogenicity\"]}, ignore_index=True)\n",
      "C:\\Users\\InbarBlech\\AppData\\Local\\Temp\\ipykernel_25004\\1756431869.py:42: FutureWarning: The frame.append method is deprecated and will be removed from pandas in a future version. Use pandas.concat instead.\n",
      "  predictions_df = predictions_df.append({\"variant\": row[\"variant\"], \"prediction\": y_pred[index], \"reality\": row[\"pathogenicity\"]}, ignore_index=True)\n",
      "C:\\Users\\InbarBlech\\AppData\\Local\\Temp\\ipykernel_25004\\1756431869.py:42: FutureWarning: The frame.append method is deprecated and will be removed from pandas in a future version. Use pandas.concat instead.\n",
      "  predictions_df = predictions_df.append({\"variant\": row[\"variant\"], \"prediction\": y_pred[index], \"reality\": row[\"pathogenicity\"]}, ignore_index=True)\n",
      "C:\\Users\\InbarBlech\\AppData\\Local\\Temp\\ipykernel_25004\\1756431869.py:42: FutureWarning: The frame.append method is deprecated and will be removed from pandas in a future version. Use pandas.concat instead.\n",
      "  predictions_df = predictions_df.append({\"variant\": row[\"variant\"], \"prediction\": y_pred[index], \"reality\": row[\"pathogenicity\"]}, ignore_index=True)\n"
     ]
    },
    {
     "name": "stdout",
     "output_type": "stream",
     "text": [
      "TP: 3, FP: 0, TN: 0, FN: 0\n",
      "tps: 59, fps: 17, fns: 22, tns: 62\n",
      "Prediction: [1 1 1]. Reality: [1 1 1]\n",
      "Position: 78 (118/264)\n",
      "TP: 2, FP: 0, TN: 0, FN: 0\n",
      "tps: 61, fps: 17, fns: 22, tns: 62\n",
      "Prediction: [1 1]. Reality: [1 1]\n",
      "Position: 50 (119/264)\n"
     ]
    },
    {
     "name": "stderr",
     "output_type": "stream",
     "text": [
      "C:\\Users\\InbarBlech\\AppData\\Local\\Temp\\ipykernel_25004\\1756431869.py:42: FutureWarning: The frame.append method is deprecated and will be removed from pandas in a future version. Use pandas.concat instead.\n",
      "  predictions_df = predictions_df.append({\"variant\": row[\"variant\"], \"prediction\": y_pred[index], \"reality\": row[\"pathogenicity\"]}, ignore_index=True)\n",
      "C:\\Users\\InbarBlech\\AppData\\Local\\Temp\\ipykernel_25004\\1756431869.py:42: FutureWarning: The frame.append method is deprecated and will be removed from pandas in a future version. Use pandas.concat instead.\n",
      "  predictions_df = predictions_df.append({\"variant\": row[\"variant\"], \"prediction\": y_pred[index], \"reality\": row[\"pathogenicity\"]}, ignore_index=True)\n",
      "C:\\Users\\InbarBlech\\AppData\\Local\\Temp\\ipykernel_25004\\1756431869.py:42: FutureWarning: The frame.append method is deprecated and will be removed from pandas in a future version. Use pandas.concat instead.\n",
      "  predictions_df = predictions_df.append({\"variant\": row[\"variant\"], \"prediction\": y_pred[index], \"reality\": row[\"pathogenicity\"]}, ignore_index=True)\n",
      "C:\\Users\\InbarBlech\\AppData\\Local\\Temp\\ipykernel_25004\\1756431869.py:42: FutureWarning: The frame.append method is deprecated and will be removed from pandas in a future version. Use pandas.concat instead.\n",
      "  predictions_df = predictions_df.append({\"variant\": row[\"variant\"], \"prediction\": y_pred[index], \"reality\": row[\"pathogenicity\"]}, ignore_index=True)\n"
     ]
    },
    {
     "name": "stdout",
     "output_type": "stream",
     "text": [
      "TP: 0, FP: 0, TN: 0, FN: 2\n",
      "tps: 61, fps: 17, fns: 24, tns: 62\n",
      "Prediction: [0 0]. Reality: [1 1]\n",
      "Position: 558 (120/264)\n",
      "TP: 3, FP: 0, TN: 0, FN: 0\n",
      "tps: 64, fps: 17, fns: 24, tns: 62\n",
      "Prediction: [1 1 1]. Reality: [1 1 1]\n",
      "Position: 415 (121/264)\n"
     ]
    },
    {
     "name": "stderr",
     "output_type": "stream",
     "text": [
      "C:\\Users\\InbarBlech\\AppData\\Local\\Temp\\ipykernel_25004\\1756431869.py:42: FutureWarning: The frame.append method is deprecated and will be removed from pandas in a future version. Use pandas.concat instead.\n",
      "  predictions_df = predictions_df.append({\"variant\": row[\"variant\"], \"prediction\": y_pred[index], \"reality\": row[\"pathogenicity\"]}, ignore_index=True)\n",
      "C:\\Users\\InbarBlech\\AppData\\Local\\Temp\\ipykernel_25004\\1756431869.py:42: FutureWarning: The frame.append method is deprecated and will be removed from pandas in a future version. Use pandas.concat instead.\n",
      "  predictions_df = predictions_df.append({\"variant\": row[\"variant\"], \"prediction\": y_pred[index], \"reality\": row[\"pathogenicity\"]}, ignore_index=True)\n",
      "C:\\Users\\InbarBlech\\AppData\\Local\\Temp\\ipykernel_25004\\1756431869.py:42: FutureWarning: The frame.append method is deprecated and will be removed from pandas in a future version. Use pandas.concat instead.\n",
      "  predictions_df = predictions_df.append({\"variant\": row[\"variant\"], \"prediction\": y_pred[index], \"reality\": row[\"pathogenicity\"]}, ignore_index=True)\n",
      "C:\\Users\\InbarBlech\\AppData\\Local\\Temp\\ipykernel_25004\\1756431869.py:42: FutureWarning: The frame.append method is deprecated and will be removed from pandas in a future version. Use pandas.concat instead.\n",
      "  predictions_df = predictions_df.append({\"variant\": row[\"variant\"], \"prediction\": y_pred[index], \"reality\": row[\"pathogenicity\"]}, ignore_index=True)\n",
      "C:\\Users\\InbarBlech\\AppData\\Local\\Temp\\ipykernel_25004\\1756431869.py:42: FutureWarning: The frame.append method is deprecated and will be removed from pandas in a future version. Use pandas.concat instead.\n",
      "  predictions_df = predictions_df.append({\"variant\": row[\"variant\"], \"prediction\": y_pred[index], \"reality\": row[\"pathogenicity\"]}, ignore_index=True)\n"
     ]
    },
    {
     "name": "stdout",
     "output_type": "stream",
     "text": [
      "TP: 2, FP: 0, TN: 0, FN: 0\n",
      "tps: 66, fps: 17, fns: 24, tns: 62\n",
      "Prediction: [1 1]. Reality: [1 1]\n",
      "Position: 133 (122/264)\n",
      "TP: 1, FP: 0, TN: 0, FN: 0\n",
      "tps: 67, fps: 17, fns: 24, tns: 62\n",
      "Prediction: [1]. Reality: [1]\n",
      "Position: 480 (123/264)\n"
     ]
    },
    {
     "name": "stderr",
     "output_type": "stream",
     "text": [
      "C:\\Users\\InbarBlech\\AppData\\Local\\Temp\\ipykernel_25004\\1756431869.py:42: FutureWarning: The frame.append method is deprecated and will be removed from pandas in a future version. Use pandas.concat instead.\n",
      "  predictions_df = predictions_df.append({\"variant\": row[\"variant\"], \"prediction\": y_pred[index], \"reality\": row[\"pathogenicity\"]}, ignore_index=True)\n",
      "C:\\Users\\InbarBlech\\AppData\\Local\\Temp\\ipykernel_25004\\1756431869.py:42: FutureWarning: The frame.append method is deprecated and will be removed from pandas in a future version. Use pandas.concat instead.\n",
      "  predictions_df = predictions_df.append({\"variant\": row[\"variant\"], \"prediction\": y_pred[index], \"reality\": row[\"pathogenicity\"]}, ignore_index=True)\n"
     ]
    },
    {
     "name": "stdout",
     "output_type": "stream",
     "text": [
      "TP: 1, FP: 0, TN: 0, FN: 0\n",
      "tps: 68, fps: 17, fns: 24, tns: 62\n",
      "Prediction: [1]. Reality: [1]\n",
      "Position: 411 (124/264)\n",
      "TP: 0, FP: 0, TN: 0, FN: 1\n",
      "tps: 68, fps: 17, fns: 25, tns: 62\n",
      "Prediction: [0]. Reality: [1]\n",
      "Position: 142 (125/264)\n"
     ]
    },
    {
     "name": "stderr",
     "output_type": "stream",
     "text": [
      "C:\\Users\\InbarBlech\\AppData\\Local\\Temp\\ipykernel_25004\\1756431869.py:42: FutureWarning: The frame.append method is deprecated and will be removed from pandas in a future version. Use pandas.concat instead.\n",
      "  predictions_df = predictions_df.append({\"variant\": row[\"variant\"], \"prediction\": y_pred[index], \"reality\": row[\"pathogenicity\"]}, ignore_index=True)\n",
      "C:\\Users\\InbarBlech\\AppData\\Local\\Temp\\ipykernel_25004\\1756431869.py:42: FutureWarning: The frame.append method is deprecated and will be removed from pandas in a future version. Use pandas.concat instead.\n",
      "  predictions_df = predictions_df.append({\"variant\": row[\"variant\"], \"prediction\": y_pred[index], \"reality\": row[\"pathogenicity\"]}, ignore_index=True)\n",
      "C:\\Users\\InbarBlech\\AppData\\Local\\Temp\\ipykernel_25004\\1756431869.py:42: FutureWarning: The frame.append method is deprecated and will be removed from pandas in a future version. Use pandas.concat instead.\n",
      "  predictions_df = predictions_df.append({\"variant\": row[\"variant\"], \"prediction\": y_pred[index], \"reality\": row[\"pathogenicity\"]}, ignore_index=True)\n"
     ]
    },
    {
     "name": "stdout",
     "output_type": "stream",
     "text": [
      "TP: 2, FP: 0, TN: 0, FN: 0\n",
      "tps: 70, fps: 17, fns: 25, tns: 62\n",
      "Prediction: [1 1]. Reality: [1 1]\n",
      "Position: 536 (126/264)\n",
      "TP: 1, FP: 0, TN: 0, FN: 0\n",
      "tps: 71, fps: 17, fns: 25, tns: 62\n",
      "Prediction: [1]. Reality: [1]\n",
      "Position: 574 (127/264)\n"
     ]
    },
    {
     "name": "stderr",
     "output_type": "stream",
     "text": [
      "C:\\Users\\InbarBlech\\AppData\\Local\\Temp\\ipykernel_25004\\1756431869.py:42: FutureWarning: The frame.append method is deprecated and will be removed from pandas in a future version. Use pandas.concat instead.\n",
      "  predictions_df = predictions_df.append({\"variant\": row[\"variant\"], \"prediction\": y_pred[index], \"reality\": row[\"pathogenicity\"]}, ignore_index=True)\n",
      "C:\\Users\\InbarBlech\\AppData\\Local\\Temp\\ipykernel_25004\\1756431869.py:42: FutureWarning: The frame.append method is deprecated and will be removed from pandas in a future version. Use pandas.concat instead.\n",
      "  predictions_df = predictions_df.append({\"variant\": row[\"variant\"], \"prediction\": y_pred[index], \"reality\": row[\"pathogenicity\"]}, ignore_index=True)\n"
     ]
    },
    {
     "name": "stdout",
     "output_type": "stream",
     "text": [
      "TP: 0, FP: 0, TN: 0, FN: 1\n",
      "tps: 71, fps: 17, fns: 26, tns: 62\n",
      "Prediction: [0]. Reality: [1]\n",
      "Position: 457 (128/264)\n",
      "TP: 3, FP: 0, TN: 0, FN: 0\n",
      "tps: 74, fps: 17, fns: 26, tns: 62\n",
      "Prediction: [1 1 1]. Reality: [1 1 1]\n",
      "Position: 570 (129/264)\n"
     ]
    },
    {
     "name": "stderr",
     "output_type": "stream",
     "text": [
      "C:\\Users\\InbarBlech\\AppData\\Local\\Temp\\ipykernel_25004\\1756431869.py:42: FutureWarning: The frame.append method is deprecated and will be removed from pandas in a future version. Use pandas.concat instead.\n",
      "  predictions_df = predictions_df.append({\"variant\": row[\"variant\"], \"prediction\": y_pred[index], \"reality\": row[\"pathogenicity\"]}, ignore_index=True)\n",
      "C:\\Users\\InbarBlech\\AppData\\Local\\Temp\\ipykernel_25004\\1756431869.py:42: FutureWarning: The frame.append method is deprecated and will be removed from pandas in a future version. Use pandas.concat instead.\n",
      "  predictions_df = predictions_df.append({\"variant\": row[\"variant\"], \"prediction\": y_pred[index], \"reality\": row[\"pathogenicity\"]}, ignore_index=True)\n",
      "C:\\Users\\InbarBlech\\AppData\\Local\\Temp\\ipykernel_25004\\1756431869.py:42: FutureWarning: The frame.append method is deprecated and will be removed from pandas in a future version. Use pandas.concat instead.\n",
      "  predictions_df = predictions_df.append({\"variant\": row[\"variant\"], \"prediction\": y_pred[index], \"reality\": row[\"pathogenicity\"]}, ignore_index=True)\n",
      "C:\\Users\\InbarBlech\\AppData\\Local\\Temp\\ipykernel_25004\\1756431869.py:42: FutureWarning: The frame.append method is deprecated and will be removed from pandas in a future version. Use pandas.concat instead.\n",
      "  predictions_df = predictions_df.append({\"variant\": row[\"variant\"], \"prediction\": y_pred[index], \"reality\": row[\"pathogenicity\"]}, ignore_index=True)\n"
     ]
    },
    {
     "name": "stdout",
     "output_type": "stream",
     "text": [
      "TP: 1, FP: 0, TN: 0, FN: 0\n",
      "tps: 75, fps: 17, fns: 26, tns: 62\n",
      "Prediction: [1]. Reality: [1]\n",
      "Position: 368 (130/264)\n",
      "TP: 1, FP: 0, TN: 0, FN: 0\n",
      "tps: 76, fps: 17, fns: 26, tns: 62\n",
      "Prediction: [1]. Reality: [1]\n",
      "Position: 112 (131/264)\n"
     ]
    },
    {
     "name": "stderr",
     "output_type": "stream",
     "text": [
      "C:\\Users\\InbarBlech\\AppData\\Local\\Temp\\ipykernel_25004\\1756431869.py:42: FutureWarning: The frame.append method is deprecated and will be removed from pandas in a future version. Use pandas.concat instead.\n",
      "  predictions_df = predictions_df.append({\"variant\": row[\"variant\"], \"prediction\": y_pred[index], \"reality\": row[\"pathogenicity\"]}, ignore_index=True)\n",
      "C:\\Users\\InbarBlech\\AppData\\Local\\Temp\\ipykernel_25004\\1756431869.py:42: FutureWarning: The frame.append method is deprecated and will be removed from pandas in a future version. Use pandas.concat instead.\n",
      "  predictions_df = predictions_df.append({\"variant\": row[\"variant\"], \"prediction\": y_pred[index], \"reality\": row[\"pathogenicity\"]}, ignore_index=True)\n"
     ]
    },
    {
     "name": "stdout",
     "output_type": "stream",
     "text": [
      "TP: 1, FP: 0, TN: 0, FN: 0\n",
      "tps: 77, fps: 17, fns: 26, tns: 62\n",
      "Prediction: [1]. Reality: [1]\n",
      "Position: 714 (132/264)\n",
      "TP: 0, FP: 0, TN: 0, FN: 1\n",
      "tps: 77, fps: 17, fns: 27, tns: 62\n",
      "Prediction: [0]. Reality: [1]\n",
      "Position: 456 (133/264)\n"
     ]
    },
    {
     "name": "stderr",
     "output_type": "stream",
     "text": [
      "C:\\Users\\InbarBlech\\AppData\\Local\\Temp\\ipykernel_25004\\1756431869.py:42: FutureWarning: The frame.append method is deprecated and will be removed from pandas in a future version. Use pandas.concat instead.\n",
      "  predictions_df = predictions_df.append({\"variant\": row[\"variant\"], \"prediction\": y_pred[index], \"reality\": row[\"pathogenicity\"]}, ignore_index=True)\n",
      "C:\\Users\\InbarBlech\\AppData\\Local\\Temp\\ipykernel_25004\\1756431869.py:42: FutureWarning: The frame.append method is deprecated and will be removed from pandas in a future version. Use pandas.concat instead.\n",
      "  predictions_df = predictions_df.append({\"variant\": row[\"variant\"], \"prediction\": y_pred[index], \"reality\": row[\"pathogenicity\"]}, ignore_index=True)\n"
     ]
    },
    {
     "name": "stdout",
     "output_type": "stream",
     "text": [
      "TP: 1, FP: 0, TN: 0, FN: 0\n",
      "tps: 78, fps: 17, fns: 27, tns: 62\n",
      "Prediction: [1]. Reality: [1]\n",
      "Position: 93 (134/264)\n",
      "TP: 1, FP: 0, TN: 0, FN: 0\n",
      "tps: 79, fps: 17, fns: 27, tns: 62\n",
      "Prediction: [1]. Reality: [1]\n",
      "Position: 149 (135/264)\n"
     ]
    },
    {
     "name": "stderr",
     "output_type": "stream",
     "text": [
      "C:\\Users\\InbarBlech\\AppData\\Local\\Temp\\ipykernel_25004\\1756431869.py:42: FutureWarning: The frame.append method is deprecated and will be removed from pandas in a future version. Use pandas.concat instead.\n",
      "  predictions_df = predictions_df.append({\"variant\": row[\"variant\"], \"prediction\": y_pred[index], \"reality\": row[\"pathogenicity\"]}, ignore_index=True)\n",
      "C:\\Users\\InbarBlech\\AppData\\Local\\Temp\\ipykernel_25004\\1756431869.py:42: FutureWarning: The frame.append method is deprecated and will be removed from pandas in a future version. Use pandas.concat instead.\n",
      "  predictions_df = predictions_df.append({\"variant\": row[\"variant\"], \"prediction\": y_pred[index], \"reality\": row[\"pathogenicity\"]}, ignore_index=True)\n"
     ]
    },
    {
     "name": "stdout",
     "output_type": "stream",
     "text": [
      "TP: 1, FP: 0, TN: 0, FN: 0\n",
      "tps: 80, fps: 17, fns: 27, tns: 62\n",
      "Prediction: [1]. Reality: [1]\n",
      "Position: 28 (136/264)\n",
      "TP: 2, FP: 0, TN: 0, FN: 0\n",
      "tps: 82, fps: 17, fns: 27, tns: 62\n",
      "Prediction: [1 1]. Reality: [1 1]\n",
      "Position: 147 (137/264)\n"
     ]
    },
    {
     "name": "stderr",
     "output_type": "stream",
     "text": [
      "C:\\Users\\InbarBlech\\AppData\\Local\\Temp\\ipykernel_25004\\1756431869.py:42: FutureWarning: The frame.append method is deprecated and will be removed from pandas in a future version. Use pandas.concat instead.\n",
      "  predictions_df = predictions_df.append({\"variant\": row[\"variant\"], \"prediction\": y_pred[index], \"reality\": row[\"pathogenicity\"]}, ignore_index=True)\n",
      "C:\\Users\\InbarBlech\\AppData\\Local\\Temp\\ipykernel_25004\\1756431869.py:42: FutureWarning: The frame.append method is deprecated and will be removed from pandas in a future version. Use pandas.concat instead.\n",
      "  predictions_df = predictions_df.append({\"variant\": row[\"variant\"], \"prediction\": y_pred[index], \"reality\": row[\"pathogenicity\"]}, ignore_index=True)\n",
      "C:\\Users\\InbarBlech\\AppData\\Local\\Temp\\ipykernel_25004\\1756431869.py:42: FutureWarning: The frame.append method is deprecated and will be removed from pandas in a future version. Use pandas.concat instead.\n",
      "  predictions_df = predictions_df.append({\"variant\": row[\"variant\"], \"prediction\": y_pred[index], \"reality\": row[\"pathogenicity\"]}, ignore_index=True)\n"
     ]
    },
    {
     "name": "stdout",
     "output_type": "stream",
     "text": [
      "TP: 1, FP: 0, TN: 0, FN: 0\n",
      "tps: 83, fps: 17, fns: 27, tns: 62\n",
      "Prediction: [1]. Reality: [1]\n",
      "Position: 228 (138/264)\n",
      "TP: 1, FP: 0, TN: 0, FN: 0\n",
      "tps: 84, fps: 17, fns: 27, tns: 62\n",
      "Prediction: [1]. Reality: [1]\n",
      "Position: 545 (139/264)\n"
     ]
    },
    {
     "name": "stderr",
     "output_type": "stream",
     "text": [
      "C:\\Users\\InbarBlech\\AppData\\Local\\Temp\\ipykernel_25004\\1756431869.py:42: FutureWarning: The frame.append method is deprecated and will be removed from pandas in a future version. Use pandas.concat instead.\n",
      "  predictions_df = predictions_df.append({\"variant\": row[\"variant\"], \"prediction\": y_pred[index], \"reality\": row[\"pathogenicity\"]}, ignore_index=True)\n",
      "C:\\Users\\InbarBlech\\AppData\\Local\\Temp\\ipykernel_25004\\1756431869.py:42: FutureWarning: The frame.append method is deprecated and will be removed from pandas in a future version. Use pandas.concat instead.\n",
      "  predictions_df = predictions_df.append({\"variant\": row[\"variant\"], \"prediction\": y_pred[index], \"reality\": row[\"pathogenicity\"]}, ignore_index=True)\n",
      "C:\\Users\\InbarBlech\\AppData\\Local\\Temp\\ipykernel_25004\\1756431869.py:42: FutureWarning: The frame.append method is deprecated and will be removed from pandas in a future version. Use pandas.concat instead.\n",
      "  predictions_df = predictions_df.append({\"variant\": row[\"variant\"], \"prediction\": y_pred[index], \"reality\": row[\"pathogenicity\"]}, ignore_index=True)\n"
     ]
    },
    {
     "name": "stdout",
     "output_type": "stream",
     "text": [
      "TP: 2, FP: 0, TN: 0, FN: 0\n",
      "tps: 86, fps: 17, fns: 27, tns: 62\n",
      "Prediction: [1 1]. Reality: [1 1]\n",
      "Position: 530 (140/264)\n",
      "TP: 2, FP: 0, TN: 0, FN: 0\n",
      "tps: 88, fps: 17, fns: 27, tns: 62\n",
      "Prediction: [1 1]. Reality: [1 1]\n",
      "Position: 660 (141/264)\n"
     ]
    },
    {
     "name": "stderr",
     "output_type": "stream",
     "text": [
      "C:\\Users\\InbarBlech\\AppData\\Local\\Temp\\ipykernel_25004\\1756431869.py:42: FutureWarning: The frame.append method is deprecated and will be removed from pandas in a future version. Use pandas.concat instead.\n",
      "  predictions_df = predictions_df.append({\"variant\": row[\"variant\"], \"prediction\": y_pred[index], \"reality\": row[\"pathogenicity\"]}, ignore_index=True)\n",
      "C:\\Users\\InbarBlech\\AppData\\Local\\Temp\\ipykernel_25004\\1756431869.py:42: FutureWarning: The frame.append method is deprecated and will be removed from pandas in a future version. Use pandas.concat instead.\n",
      "  predictions_df = predictions_df.append({\"variant\": row[\"variant\"], \"prediction\": y_pred[index], \"reality\": row[\"pathogenicity\"]}, ignore_index=True)\n",
      "C:\\Users\\InbarBlech\\AppData\\Local\\Temp\\ipykernel_25004\\1756431869.py:42: FutureWarning: The frame.append method is deprecated and will be removed from pandas in a future version. Use pandas.concat instead.\n",
      "  predictions_df = predictions_df.append({\"variant\": row[\"variant\"], \"prediction\": y_pred[index], \"reality\": row[\"pathogenicity\"]}, ignore_index=True)\n"
     ]
    },
    {
     "name": "stdout",
     "output_type": "stream",
     "text": [
      "TP: 1, FP: 0, TN: 0, FN: 0\n",
      "tps: 89, fps: 17, fns: 27, tns: 62\n",
      "Prediction: [1]. Reality: [1]\n",
      "Position: 29 (142/264)\n",
      "TP: 3, FP: 0, TN: 0, FN: 0\n",
      "tps: 92, fps: 17, fns: 27, tns: 62\n",
      "Prediction: [1 1 1]. Reality: [1 1 1]\n",
      "Position: 421 (143/264)\n"
     ]
    },
    {
     "name": "stderr",
     "output_type": "stream",
     "text": [
      "C:\\Users\\InbarBlech\\AppData\\Local\\Temp\\ipykernel_25004\\1756431869.py:42: FutureWarning: The frame.append method is deprecated and will be removed from pandas in a future version. Use pandas.concat instead.\n",
      "  predictions_df = predictions_df.append({\"variant\": row[\"variant\"], \"prediction\": y_pred[index], \"reality\": row[\"pathogenicity\"]}, ignore_index=True)\n",
      "C:\\Users\\InbarBlech\\AppData\\Local\\Temp\\ipykernel_25004\\1756431869.py:42: FutureWarning: The frame.append method is deprecated and will be removed from pandas in a future version. Use pandas.concat instead.\n",
      "  predictions_df = predictions_df.append({\"variant\": row[\"variant\"], \"prediction\": y_pred[index], \"reality\": row[\"pathogenicity\"]}, ignore_index=True)\n",
      "C:\\Users\\InbarBlech\\AppData\\Local\\Temp\\ipykernel_25004\\1756431869.py:42: FutureWarning: The frame.append method is deprecated and will be removed from pandas in a future version. Use pandas.concat instead.\n",
      "  predictions_df = predictions_df.append({\"variant\": row[\"variant\"], \"prediction\": y_pred[index], \"reality\": row[\"pathogenicity\"]}, ignore_index=True)\n",
      "C:\\Users\\InbarBlech\\AppData\\Local\\Temp\\ipykernel_25004\\1756431869.py:42: FutureWarning: The frame.append method is deprecated and will be removed from pandas in a future version. Use pandas.concat instead.\n",
      "  predictions_df = predictions_df.append({\"variant\": row[\"variant\"], \"prediction\": y_pred[index], \"reality\": row[\"pathogenicity\"]}, ignore_index=True)\n",
      "C:\\Users\\InbarBlech\\AppData\\Local\\Temp\\ipykernel_25004\\1756431869.py:42: FutureWarning: The frame.append method is deprecated and will be removed from pandas in a future version. Use pandas.concat instead.\n",
      "  predictions_df = predictions_df.append({\"variant\": row[\"variant\"], \"prediction\": y_pred[index], \"reality\": row[\"pathogenicity\"]}, ignore_index=True)\n"
     ]
    },
    {
     "name": "stdout",
     "output_type": "stream",
     "text": [
      "TP: 2, FP: 0, TN: 0, FN: 0\n",
      "tps: 94, fps: 17, fns: 27, tns: 62\n",
      "Prediction: [1 1]. Reality: [1 1]\n",
      "Position: 382 (144/264)\n",
      "TP: 1, FP: 0, TN: 0, FN: 0\n",
      "tps: 95, fps: 17, fns: 27, tns: 62\n",
      "Prediction: [1]. Reality: [1]\n",
      "Position: 664 (145/264)\n"
     ]
    },
    {
     "name": "stderr",
     "output_type": "stream",
     "text": [
      "C:\\Users\\InbarBlech\\AppData\\Local\\Temp\\ipykernel_25004\\1756431869.py:42: FutureWarning: The frame.append method is deprecated and will be removed from pandas in a future version. Use pandas.concat instead.\n",
      "  predictions_df = predictions_df.append({\"variant\": row[\"variant\"], \"prediction\": y_pred[index], \"reality\": row[\"pathogenicity\"]}, ignore_index=True)\n",
      "C:\\Users\\InbarBlech\\AppData\\Local\\Temp\\ipykernel_25004\\1756431869.py:42: FutureWarning: The frame.append method is deprecated and will be removed from pandas in a future version. Use pandas.concat instead.\n",
      "  predictions_df = predictions_df.append({\"variant\": row[\"variant\"], \"prediction\": y_pred[index], \"reality\": row[\"pathogenicity\"]}, ignore_index=True)\n"
     ]
    },
    {
     "name": "stdout",
     "output_type": "stream",
     "text": [
      "TP: 1, FP: 0, TN: 0, FN: 0\n",
      "tps: 96, fps: 17, fns: 27, tns: 62\n",
      "Prediction: [1]. Reality: [1]\n",
      "Position: 399 (146/264)\n",
      "TP: 1, FP: 0, TN: 0, FN: 0\n",
      "tps: 97, fps: 17, fns: 27, tns: 62\n",
      "Prediction: [1]. Reality: [1]\n",
      "Position: 139 (147/264)\n"
     ]
    },
    {
     "name": "stderr",
     "output_type": "stream",
     "text": [
      "C:\\Users\\InbarBlech\\AppData\\Local\\Temp\\ipykernel_25004\\1756431869.py:42: FutureWarning: The frame.append method is deprecated and will be removed from pandas in a future version. Use pandas.concat instead.\n",
      "  predictions_df = predictions_df.append({\"variant\": row[\"variant\"], \"prediction\": y_pred[index], \"reality\": row[\"pathogenicity\"]}, ignore_index=True)\n",
      "C:\\Users\\InbarBlech\\AppData\\Local\\Temp\\ipykernel_25004\\1756431869.py:42: FutureWarning: The frame.append method is deprecated and will be removed from pandas in a future version. Use pandas.concat instead.\n",
      "  predictions_df = predictions_df.append({\"variant\": row[\"variant\"], \"prediction\": y_pred[index], \"reality\": row[\"pathogenicity\"]}, ignore_index=True)\n",
      "C:\\Users\\InbarBlech\\AppData\\Local\\Temp\\ipykernel_25004\\1756431869.py:42: FutureWarning: The frame.append method is deprecated and will be removed from pandas in a future version. Use pandas.concat instead.\n",
      "  predictions_df = predictions_df.append({\"variant\": row[\"variant\"], \"prediction\": y_pred[index], \"reality\": row[\"pathogenicity\"]}, ignore_index=True)\n"
     ]
    },
    {
     "name": "stdout",
     "output_type": "stream",
     "text": [
      "TP: 2, FP: 0, TN: 0, FN: 0\n",
      "tps: 99, fps: 17, fns: 27, tns: 62\n",
      "Prediction: [1 1]. Reality: [1 1]\n",
      "Position: 692 (148/264)\n",
      "TP: 1, FP: 0, TN: 0, FN: 0\n",
      "tps: 100, fps: 17, fns: 27, tns: 62\n",
      "Prediction: [1]. Reality: [1]\n",
      "Position: 135 (149/264)\n"
     ]
    },
    {
     "name": "stderr",
     "output_type": "stream",
     "text": [
      "C:\\Users\\InbarBlech\\AppData\\Local\\Temp\\ipykernel_25004\\1756431869.py:42: FutureWarning: The frame.append method is deprecated and will be removed from pandas in a future version. Use pandas.concat instead.\n",
      "  predictions_df = predictions_df.append({\"variant\": row[\"variant\"], \"prediction\": y_pred[index], \"reality\": row[\"pathogenicity\"]}, ignore_index=True)\n",
      "C:\\Users\\InbarBlech\\AppData\\Local\\Temp\\ipykernel_25004\\1756431869.py:42: FutureWarning: The frame.append method is deprecated and will be removed from pandas in a future version. Use pandas.concat instead.\n",
      "  predictions_df = predictions_df.append({\"variant\": row[\"variant\"], \"prediction\": y_pred[index], \"reality\": row[\"pathogenicity\"]}, ignore_index=True)\n",
      "C:\\Users\\InbarBlech\\AppData\\Local\\Temp\\ipykernel_25004\\1756431869.py:42: FutureWarning: The frame.append method is deprecated and will be removed from pandas in a future version. Use pandas.concat instead.\n",
      "  predictions_df = predictions_df.append({\"variant\": row[\"variant\"], \"prediction\": y_pred[index], \"reality\": row[\"pathogenicity\"]}, ignore_index=True)\n"
     ]
    },
    {
     "name": "stdout",
     "output_type": "stream",
     "text": [
      "TP: 2, FP: 0, TN: 0, FN: 0\n",
      "tps: 102, fps: 17, fns: 27, tns: 62\n",
      "Prediction: [1 1]. Reality: [1 1]\n",
      "Position: 335 (150/264)\n",
      "TP: 2, FP: 0, TN: 0, FN: 0\n",
      "tps: 104, fps: 17, fns: 27, tns: 62\n",
      "Prediction: [1 1]. Reality: [1 1]\n",
      "Position: 114 (151/264)\n"
     ]
    },
    {
     "name": "stderr",
     "output_type": "stream",
     "text": [
      "C:\\Users\\InbarBlech\\AppData\\Local\\Temp\\ipykernel_25004\\1756431869.py:42: FutureWarning: The frame.append method is deprecated and will be removed from pandas in a future version. Use pandas.concat instead.\n",
      "  predictions_df = predictions_df.append({\"variant\": row[\"variant\"], \"prediction\": y_pred[index], \"reality\": row[\"pathogenicity\"]}, ignore_index=True)\n",
      "C:\\Users\\InbarBlech\\AppData\\Local\\Temp\\ipykernel_25004\\1756431869.py:42: FutureWarning: The frame.append method is deprecated and will be removed from pandas in a future version. Use pandas.concat instead.\n",
      "  predictions_df = predictions_df.append({\"variant\": row[\"variant\"], \"prediction\": y_pred[index], \"reality\": row[\"pathogenicity\"]}, ignore_index=True)\n",
      "C:\\Users\\InbarBlech\\AppData\\Local\\Temp\\ipykernel_25004\\1756431869.py:42: FutureWarning: The frame.append method is deprecated and will be removed from pandas in a future version. Use pandas.concat instead.\n",
      "  predictions_df = predictions_df.append({\"variant\": row[\"variant\"], \"prediction\": y_pred[index], \"reality\": row[\"pathogenicity\"]}, ignore_index=True)\n"
     ]
    },
    {
     "name": "stdout",
     "output_type": "stream",
     "text": [
      "TP: 1, FP: 0, TN: 0, FN: 0\n",
      "tps: 105, fps: 17, fns: 27, tns: 62\n",
      "Prediction: [1]. Reality: [1]\n",
      "Position: 235 (152/264)\n"
     ]
    },
    {
     "name": "stderr",
     "output_type": "stream",
     "text": [
      "C:\\Users\\InbarBlech\\AppData\\Local\\Temp\\ipykernel_25004\\1756431869.py:42: FutureWarning: The frame.append method is deprecated and will be removed from pandas in a future version. Use pandas.concat instead.\n",
      "  predictions_df = predictions_df.append({\"variant\": row[\"variant\"], \"prediction\": y_pred[index], \"reality\": row[\"pathogenicity\"]}, ignore_index=True)\n",
      "C:\\Users\\InbarBlech\\AppData\\Local\\Temp\\ipykernel_25004\\1756431869.py:42: FutureWarning: The frame.append method is deprecated and will be removed from pandas in a future version. Use pandas.concat instead.\n",
      "  predictions_df = predictions_df.append({\"variant\": row[\"variant\"], \"prediction\": y_pred[index], \"reality\": row[\"pathogenicity\"]}, ignore_index=True)\n",
      "C:\\Users\\InbarBlech\\AppData\\Local\\Temp\\ipykernel_25004\\1756431869.py:42: FutureWarning: The frame.append method is deprecated and will be removed from pandas in a future version. Use pandas.concat instead.\n",
      "  predictions_df = predictions_df.append({\"variant\": row[\"variant\"], \"prediction\": y_pred[index], \"reality\": row[\"pathogenicity\"]}, ignore_index=True)\n"
     ]
    },
    {
     "name": "stdout",
     "output_type": "stream",
     "text": [
      "TP: 1, FP: 0, TN: 0, FN: 0\n",
      "tps: 106, fps: 17, fns: 27, tns: 62\n",
      "Prediction: [1]. Reality: [1]\n",
      "Position: 138 (153/264)\n",
      "TP: 2, FP: 0, TN: 0, FN: 0\n",
      "tps: 108, fps: 17, fns: 27, tns: 62\n",
      "Prediction: [1 1]. Reality: [1 1]\n",
      "Position: 527 (154/264)\n"
     ]
    },
    {
     "name": "stderr",
     "output_type": "stream",
     "text": [
      "C:\\Users\\InbarBlech\\AppData\\Local\\Temp\\ipykernel_25004\\1756431869.py:42: FutureWarning: The frame.append method is deprecated and will be removed from pandas in a future version. Use pandas.concat instead.\n",
      "  predictions_df = predictions_df.append({\"variant\": row[\"variant\"], \"prediction\": y_pred[index], \"reality\": row[\"pathogenicity\"]}, ignore_index=True)\n",
      "C:\\Users\\InbarBlech\\AppData\\Local\\Temp\\ipykernel_25004\\1756431869.py:42: FutureWarning: The frame.append method is deprecated and will be removed from pandas in a future version. Use pandas.concat instead.\n",
      "  predictions_df = predictions_df.append({\"variant\": row[\"variant\"], \"prediction\": y_pred[index], \"reality\": row[\"pathogenicity\"]}, ignore_index=True)\n"
     ]
    },
    {
     "name": "stdout",
     "output_type": "stream",
     "text": [
      "TP: 1, FP: 0, TN: 0, FN: 0\n",
      "tps: 109, fps: 17, fns: 27, tns: 62\n",
      "Prediction: [1]. Reality: [1]\n",
      "Position: 239 (155/264)\n",
      "TP: 1, FP: 0, TN: 0, FN: 0\n",
      "tps: 110, fps: 17, fns: 27, tns: 62\n",
      "Prediction: [1]. Reality: [1]\n",
      "Position: 529 (156/264)\n"
     ]
    },
    {
     "name": "stderr",
     "output_type": "stream",
     "text": [
      "C:\\Users\\InbarBlech\\AppData\\Local\\Temp\\ipykernel_25004\\1756431869.py:42: FutureWarning: The frame.append method is deprecated and will be removed from pandas in a future version. Use pandas.concat instead.\n",
      "  predictions_df = predictions_df.append({\"variant\": row[\"variant\"], \"prediction\": y_pred[index], \"reality\": row[\"pathogenicity\"]}, ignore_index=True)\n",
      "C:\\Users\\InbarBlech\\AppData\\Local\\Temp\\ipykernel_25004\\1756431869.py:42: FutureWarning: The frame.append method is deprecated and will be removed from pandas in a future version. Use pandas.concat instead.\n",
      "  predictions_df = predictions_df.append({\"variant\": row[\"variant\"], \"prediction\": y_pred[index], \"reality\": row[\"pathogenicity\"]}, ignore_index=True)\n"
     ]
    },
    {
     "name": "stdout",
     "output_type": "stream",
     "text": [
      "TP: 1, FP: 0, TN: 0, FN: 0\n",
      "tps: 111, fps: 17, fns: 27, tns: 62\n",
      "Prediction: [1]. Reality: [1]\n",
      "Position: 445 (157/264)\n",
      "TP: 1, FP: 0, TN: 0, FN: 0\n",
      "tps: 112, fps: 17, fns: 27, tns: 62\n",
      "Prediction: [1]. Reality: [1]\n",
      "Position: 490 (158/264)\n"
     ]
    },
    {
     "name": "stderr",
     "output_type": "stream",
     "text": [
      "C:\\Users\\InbarBlech\\AppData\\Local\\Temp\\ipykernel_25004\\1756431869.py:42: FutureWarning: The frame.append method is deprecated and will be removed from pandas in a future version. Use pandas.concat instead.\n",
      "  predictions_df = predictions_df.append({\"variant\": row[\"variant\"], \"prediction\": y_pred[index], \"reality\": row[\"pathogenicity\"]}, ignore_index=True)\n",
      "C:\\Users\\InbarBlech\\AppData\\Local\\Temp\\ipykernel_25004\\1756431869.py:42: FutureWarning: The frame.append method is deprecated and will be removed from pandas in a future version. Use pandas.concat instead.\n",
      "  predictions_df = predictions_df.append({\"variant\": row[\"variant\"], \"prediction\": y_pred[index], \"reality\": row[\"pathogenicity\"]}, ignore_index=True)\n",
      "C:\\Users\\InbarBlech\\AppData\\Local\\Temp\\ipykernel_25004\\1756431869.py:42: FutureWarning: The frame.append method is deprecated and will be removed from pandas in a future version. Use pandas.concat instead.\n",
      "  predictions_df = predictions_df.append({\"variant\": row[\"variant\"], \"prediction\": y_pred[index], \"reality\": row[\"pathogenicity\"]}, ignore_index=True)\n"
     ]
    },
    {
     "name": "stdout",
     "output_type": "stream",
     "text": [
      "TP: 1, FP: 0, TN: 0, FN: 1\n",
      "tps: 113, fps: 17, fns: 28, tns: 62\n",
      "Prediction: [1 0]. Reality: [1 1]\n",
      "Position: 117 (159/264)\n",
      "TP: 1, FP: 0, TN: 0, FN: 0\n",
      "tps: 114, fps: 17, fns: 28, tns: 62\n",
      "Prediction: [1]. Reality: [1]\n",
      "Position: 659 (160/264)\n"
     ]
    },
    {
     "name": "stderr",
     "output_type": "stream",
     "text": [
      "C:\\Users\\InbarBlech\\AppData\\Local\\Temp\\ipykernel_25004\\1756431869.py:42: FutureWarning: The frame.append method is deprecated and will be removed from pandas in a future version. Use pandas.concat instead.\n",
      "  predictions_df = predictions_df.append({\"variant\": row[\"variant\"], \"prediction\": y_pred[index], \"reality\": row[\"pathogenicity\"]}, ignore_index=True)\n",
      "C:\\Users\\InbarBlech\\AppData\\Local\\Temp\\ipykernel_25004\\1756431869.py:42: FutureWarning: The frame.append method is deprecated and will be removed from pandas in a future version. Use pandas.concat instead.\n",
      "  predictions_df = predictions_df.append({\"variant\": row[\"variant\"], \"prediction\": y_pred[index], \"reality\": row[\"pathogenicity\"]}, ignore_index=True)\n",
      "C:\\Users\\InbarBlech\\AppData\\Local\\Temp\\ipykernel_25004\\1756431869.py:42: FutureWarning: The frame.append method is deprecated and will be removed from pandas in a future version. Use pandas.concat instead.\n",
      "  predictions_df = predictions_df.append({\"variant\": row[\"variant\"], \"prediction\": y_pred[index], \"reality\": row[\"pathogenicity\"]}, ignore_index=True)\n"
     ]
    },
    {
     "name": "stdout",
     "output_type": "stream",
     "text": [
      "TP: 1, FP: 0, TN: 0, FN: 1\n",
      "tps: 115, fps: 17, fns: 29, tns: 62\n",
      "Prediction: [0 1]. Reality: [1 1]\n",
      "Position: 655 (161/264)\n",
      "TP: 1, FP: 0, TN: 0, FN: 0\n",
      "tps: 116, fps: 17, fns: 29, tns: 62\n",
      "Prediction: [1]. Reality: [1]\n",
      "Position: 384 (162/264)\n"
     ]
    },
    {
     "name": "stderr",
     "output_type": "stream",
     "text": [
      "C:\\Users\\InbarBlech\\AppData\\Local\\Temp\\ipykernel_25004\\1756431869.py:42: FutureWarning: The frame.append method is deprecated and will be removed from pandas in a future version. Use pandas.concat instead.\n",
      "  predictions_df = predictions_df.append({\"variant\": row[\"variant\"], \"prediction\": y_pred[index], \"reality\": row[\"pathogenicity\"]}, ignore_index=True)\n",
      "C:\\Users\\InbarBlech\\AppData\\Local\\Temp\\ipykernel_25004\\1756431869.py:42: FutureWarning: The frame.append method is deprecated and will be removed from pandas in a future version. Use pandas.concat instead.\n",
      "  predictions_df = predictions_df.append({\"variant\": row[\"variant\"], \"prediction\": y_pred[index], \"reality\": row[\"pathogenicity\"]}, ignore_index=True)\n",
      "C:\\Users\\InbarBlech\\AppData\\Local\\Temp\\ipykernel_25004\\1756431869.py:42: FutureWarning: The frame.append method is deprecated and will be removed from pandas in a future version. Use pandas.concat instead.\n",
      "  predictions_df = predictions_df.append({\"variant\": row[\"variant\"], \"prediction\": y_pred[index], \"reality\": row[\"pathogenicity\"]}, ignore_index=True)\n"
     ]
    },
    {
     "name": "stdout",
     "output_type": "stream",
     "text": [
      "TP: 1, FP: 0, TN: 0, FN: 0\n",
      "tps: 117, fps: 17, fns: 29, tns: 62\n",
      "Prediction: [1]. Reality: [1]\n",
      "Position: 106 (163/264)\n",
      "TP: 2, FP: 0, TN: 0, FN: 0\n",
      "tps: 119, fps: 17, fns: 29, tns: 62\n",
      "Prediction: [1 1]. Reality: [1 1]\n",
      "Position: 553 (164/264)\n"
     ]
    },
    {
     "name": "stderr",
     "output_type": "stream",
     "text": [
      "C:\\Users\\InbarBlech\\AppData\\Local\\Temp\\ipykernel_25004\\1756431869.py:42: FutureWarning: The frame.append method is deprecated and will be removed from pandas in a future version. Use pandas.concat instead.\n",
      "  predictions_df = predictions_df.append({\"variant\": row[\"variant\"], \"prediction\": y_pred[index], \"reality\": row[\"pathogenicity\"]}, ignore_index=True)\n",
      "C:\\Users\\InbarBlech\\AppData\\Local\\Temp\\ipykernel_25004\\1756431869.py:42: FutureWarning: The frame.append method is deprecated and will be removed from pandas in a future version. Use pandas.concat instead.\n",
      "  predictions_df = predictions_df.append({\"variant\": row[\"variant\"], \"prediction\": y_pred[index], \"reality\": row[\"pathogenicity\"]}, ignore_index=True)\n"
     ]
    },
    {
     "name": "stdout",
     "output_type": "stream",
     "text": [
      "TP: 1, FP: 0, TN: 0, FN: 0\n",
      "tps: 120, fps: 17, fns: 29, tns: 62\n",
      "Prediction: [1]. Reality: [1]\n",
      "Position: 666 (165/264)\n",
      "TP: 1, FP: 0, TN: 0, FN: 0\n",
      "tps: 121, fps: 17, fns: 29, tns: 62\n",
      "Prediction: [1]. Reality: [1]\n",
      "Position: 102 (166/264)\n"
     ]
    },
    {
     "name": "stderr",
     "output_type": "stream",
     "text": [
      "C:\\Users\\InbarBlech\\AppData\\Local\\Temp\\ipykernel_25004\\1756431869.py:42: FutureWarning: The frame.append method is deprecated and will be removed from pandas in a future version. Use pandas.concat instead.\n",
      "  predictions_df = predictions_df.append({\"variant\": row[\"variant\"], \"prediction\": y_pred[index], \"reality\": row[\"pathogenicity\"]}, ignore_index=True)\n",
      "C:\\Users\\InbarBlech\\AppData\\Local\\Temp\\ipykernel_25004\\1756431869.py:42: FutureWarning: The frame.append method is deprecated and will be removed from pandas in a future version. Use pandas.concat instead.\n",
      "  predictions_df = predictions_df.append({\"variant\": row[\"variant\"], \"prediction\": y_pred[index], \"reality\": row[\"pathogenicity\"]}, ignore_index=True)\n"
     ]
    },
    {
     "name": "stdout",
     "output_type": "stream",
     "text": [
      "TP: 1, FP: 0, TN: 0, FN: 0\n",
      "tps: 122, fps: 17, fns: 29, tns: 62\n",
      "Prediction: [1]. Reality: [1]\n",
      "Position: 573 (167/264)\n",
      "TP: 1, FP: 0, TN: 0, FN: 0\n",
      "tps: 123, fps: 17, fns: 29, tns: 62\n",
      "Prediction: [1]. Reality: [1]\n",
      "Position: 532 (168/264)\n"
     ]
    },
    {
     "name": "stderr",
     "output_type": "stream",
     "text": [
      "C:\\Users\\InbarBlech\\AppData\\Local\\Temp\\ipykernel_25004\\1756431869.py:42: FutureWarning: The frame.append method is deprecated and will be removed from pandas in a future version. Use pandas.concat instead.\n",
      "  predictions_df = predictions_df.append({\"variant\": row[\"variant\"], \"prediction\": y_pred[index], \"reality\": row[\"pathogenicity\"]}, ignore_index=True)\n",
      "C:\\Users\\InbarBlech\\AppData\\Local\\Temp\\ipykernel_25004\\1756431869.py:42: FutureWarning: The frame.append method is deprecated and will be removed from pandas in a future version. Use pandas.concat instead.\n",
      "  predictions_df = predictions_df.append({\"variant\": row[\"variant\"], \"prediction\": y_pred[index], \"reality\": row[\"pathogenicity\"]}, ignore_index=True)\n"
     ]
    },
    {
     "name": "stdout",
     "output_type": "stream",
     "text": [
      "TP: 0, FP: 0, TN: 0, FN: 1\n",
      "tps: 123, fps: 17, fns: 30, tns: 62\n",
      "Prediction: [0]. Reality: [1]\n",
      "Position: 550 (169/264)\n",
      "TP: 1, FP: 0, TN: 0, FN: 0\n",
      "tps: 124, fps: 17, fns: 30, tns: 62\n",
      "Prediction: [1]. Reality: [1]\n",
      "Position: 231 (170/264)\n"
     ]
    },
    {
     "name": "stderr",
     "output_type": "stream",
     "text": [
      "C:\\Users\\InbarBlech\\AppData\\Local\\Temp\\ipykernel_25004\\1756431869.py:42: FutureWarning: The frame.append method is deprecated and will be removed from pandas in a future version. Use pandas.concat instead.\n",
      "  predictions_df = predictions_df.append({\"variant\": row[\"variant\"], \"prediction\": y_pred[index], \"reality\": row[\"pathogenicity\"]}, ignore_index=True)\n",
      "C:\\Users\\InbarBlech\\AppData\\Local\\Temp\\ipykernel_25004\\1756431869.py:42: FutureWarning: The frame.append method is deprecated and will be removed from pandas in a future version. Use pandas.concat instead.\n",
      "  predictions_df = predictions_df.append({\"variant\": row[\"variant\"], \"prediction\": y_pred[index], \"reality\": row[\"pathogenicity\"]}, ignore_index=True)\n",
      "C:\\Users\\InbarBlech\\AppData\\Local\\Temp\\ipykernel_25004\\1756431869.py:42: FutureWarning: The frame.append method is deprecated and will be removed from pandas in a future version. Use pandas.concat instead.\n",
      "  predictions_df = predictions_df.append({\"variant\": row[\"variant\"], \"prediction\": y_pred[index], \"reality\": row[\"pathogenicity\"]}, ignore_index=True)\n"
     ]
    },
    {
     "name": "stdout",
     "output_type": "stream",
     "text": [
      "TP: 2, FP: 0, TN: 0, FN: 0\n",
      "tps: 126, fps: 17, fns: 30, tns: 62\n",
      "Prediction: [1 1]. Reality: [1 1]\n",
      "Position: 77 (171/264)\n",
      "TP: 0, FP: 0, TN: 0, FN: 1\n",
      "tps: 126, fps: 17, fns: 31, tns: 62\n",
      "Prediction: [0]. Reality: [1]\n",
      "Position: 116 (172/264)\n"
     ]
    },
    {
     "name": "stderr",
     "output_type": "stream",
     "text": [
      "C:\\Users\\InbarBlech\\AppData\\Local\\Temp\\ipykernel_25004\\1756431869.py:42: FutureWarning: The frame.append method is deprecated and will be removed from pandas in a future version. Use pandas.concat instead.\n",
      "  predictions_df = predictions_df.append({\"variant\": row[\"variant\"], \"prediction\": y_pred[index], \"reality\": row[\"pathogenicity\"]}, ignore_index=True)\n",
      "C:\\Users\\InbarBlech\\AppData\\Local\\Temp\\ipykernel_25004\\1756431869.py:42: FutureWarning: The frame.append method is deprecated and will be removed from pandas in a future version. Use pandas.concat instead.\n",
      "  predictions_df = predictions_df.append({\"variant\": row[\"variant\"], \"prediction\": y_pred[index], \"reality\": row[\"pathogenicity\"]}, ignore_index=True)\n",
      "C:\\Users\\InbarBlech\\AppData\\Local\\Temp\\ipykernel_25004\\1756431869.py:42: FutureWarning: The frame.append method is deprecated and will be removed from pandas in a future version. Use pandas.concat instead.\n",
      "  predictions_df = predictions_df.append({\"variant\": row[\"variant\"], \"prediction\": y_pred[index], \"reality\": row[\"pathogenicity\"]}, ignore_index=True)\n",
      "C:\\Users\\InbarBlech\\AppData\\Local\\Temp\\ipykernel_25004\\1756431869.py:42: FutureWarning: The frame.append method is deprecated and will be removed from pandas in a future version. Use pandas.concat instead.\n",
      "  predictions_df = predictions_df.append({\"variant\": row[\"variant\"], \"prediction\": y_pred[index], \"reality\": row[\"pathogenicity\"]}, ignore_index=True)\n"
     ]
    },
    {
     "name": "stdout",
     "output_type": "stream",
     "text": [
      "TP: 3, FP: 0, TN: 0, FN: 0\n",
      "tps: 129, fps: 17, fns: 31, tns: 62\n",
      "Prediction: [1 1 1]. Reality: [1 1 1]\n",
      "Position: 539 (173/264)\n",
      "TP: 0, FP: 0, TN: 0, FN: 1\n",
      "tps: 129, fps: 17, fns: 32, tns: 62\n",
      "Prediction: [0]. Reality: [1]\n",
      "Position: 595 (174/264)\n"
     ]
    },
    {
     "name": "stderr",
     "output_type": "stream",
     "text": [
      "C:\\Users\\InbarBlech\\AppData\\Local\\Temp\\ipykernel_25004\\1756431869.py:42: FutureWarning: The frame.append method is deprecated and will be removed from pandas in a future version. Use pandas.concat instead.\n",
      "  predictions_df = predictions_df.append({\"variant\": row[\"variant\"], \"prediction\": y_pred[index], \"reality\": row[\"pathogenicity\"]}, ignore_index=True)\n",
      "C:\\Users\\InbarBlech\\AppData\\Local\\Temp\\ipykernel_25004\\1756431869.py:42: FutureWarning: The frame.append method is deprecated and will be removed from pandas in a future version. Use pandas.concat instead.\n",
      "  predictions_df = predictions_df.append({\"variant\": row[\"variant\"], \"prediction\": y_pred[index], \"reality\": row[\"pathogenicity\"]}, ignore_index=True)\n"
     ]
    },
    {
     "name": "stdout",
     "output_type": "stream",
     "text": [
      "TP: 1, FP: 0, TN: 0, FN: 0\n",
      "tps: 130, fps: 17, fns: 32, tns: 62\n",
      "Prediction: [1]. Reality: [1]\n",
      "Position: 140 (175/264)\n",
      "TP: 1, FP: 0, TN: 0, FN: 0\n",
      "tps: 131, fps: 17, fns: 32, tns: 62\n",
      "Prediction: [1]. Reality: [1]\n",
      "Position: 214 (176/264)\n"
     ]
    },
    {
     "name": "stderr",
     "output_type": "stream",
     "text": [
      "C:\\Users\\InbarBlech\\AppData\\Local\\Temp\\ipykernel_25004\\1756431869.py:42: FutureWarning: The frame.append method is deprecated and will be removed from pandas in a future version. Use pandas.concat instead.\n",
      "  predictions_df = predictions_df.append({\"variant\": row[\"variant\"], \"prediction\": y_pred[index], \"reality\": row[\"pathogenicity\"]}, ignore_index=True)\n",
      "C:\\Users\\InbarBlech\\AppData\\Local\\Temp\\ipykernel_25004\\1756431869.py:42: FutureWarning: The frame.append method is deprecated and will be removed from pandas in a future version. Use pandas.concat instead.\n",
      "  predictions_df = predictions_df.append({\"variant\": row[\"variant\"], \"prediction\": y_pred[index], \"reality\": row[\"pathogenicity\"]}, ignore_index=True)\n",
      "C:\\Users\\InbarBlech\\AppData\\Local\\Temp\\ipykernel_25004\\1756431869.py:42: FutureWarning: The frame.append method is deprecated and will be removed from pandas in a future version. Use pandas.concat instead.\n",
      "  predictions_df = predictions_df.append({\"variant\": row[\"variant\"], \"prediction\": y_pred[index], \"reality\": row[\"pathogenicity\"]}, ignore_index=True)\n"
     ]
    },
    {
     "name": "stdout",
     "output_type": "stream",
     "text": [
      "TP: 1, FP: 0, TN: 0, FN: 0\n",
      "tps: 132, fps: 17, fns: 32, tns: 62\n",
      "Prediction: [1]. Reality: [1]\n",
      "Position: 485 (177/264)\n",
      "TP: 2, FP: 0, TN: 0, FN: 0\n",
      "tps: 134, fps: 17, fns: 32, tns: 62\n",
      "Prediction: [1 1]. Reality: [1 1]\n",
      "Position: 141 (178/264)\n"
     ]
    },
    {
     "name": "stderr",
     "output_type": "stream",
     "text": [
      "C:\\Users\\InbarBlech\\AppData\\Local\\Temp\\ipykernel_25004\\1756431869.py:42: FutureWarning: The frame.append method is deprecated and will be removed from pandas in a future version. Use pandas.concat instead.\n",
      "  predictions_df = predictions_df.append({\"variant\": row[\"variant\"], \"prediction\": y_pred[index], \"reality\": row[\"pathogenicity\"]}, ignore_index=True)\n",
      "C:\\Users\\InbarBlech\\AppData\\Local\\Temp\\ipykernel_25004\\1756431869.py:42: FutureWarning: The frame.append method is deprecated and will be removed from pandas in a future version. Use pandas.concat instead.\n",
      "  predictions_df = predictions_df.append({\"variant\": row[\"variant\"], \"prediction\": y_pred[index], \"reality\": row[\"pathogenicity\"]}, ignore_index=True)\n",
      "C:\\Users\\InbarBlech\\AppData\\Local\\Temp\\ipykernel_25004\\1756431869.py:42: FutureWarning: The frame.append method is deprecated and will be removed from pandas in a future version. Use pandas.concat instead.\n",
      "  predictions_df = predictions_df.append({\"variant\": row[\"variant\"], \"prediction\": y_pred[index], \"reality\": row[\"pathogenicity\"]}, ignore_index=True)\n"
     ]
    },
    {
     "name": "stdout",
     "output_type": "stream",
     "text": [
      "TP: 2, FP: 0, TN: 0, FN: 0\n",
      "tps: 136, fps: 17, fns: 32, tns: 62\n",
      "Prediction: [1 1]. Reality: [1 1]\n",
      "Position: 510 (179/264)\n",
      "TP: 1, FP: 0, TN: 0, FN: 0\n",
      "tps: 137, fps: 17, fns: 32, tns: 62\n",
      "Prediction: [1]. Reality: [1]\n",
      "Position: 443 (180/264)\n"
     ]
    },
    {
     "name": "stderr",
     "output_type": "stream",
     "text": [
      "C:\\Users\\InbarBlech\\AppData\\Local\\Temp\\ipykernel_25004\\1756431869.py:42: FutureWarning: The frame.append method is deprecated and will be removed from pandas in a future version. Use pandas.concat instead.\n",
      "  predictions_df = predictions_df.append({\"variant\": row[\"variant\"], \"prediction\": y_pred[index], \"reality\": row[\"pathogenicity\"]}, ignore_index=True)\n",
      "C:\\Users\\InbarBlech\\AppData\\Local\\Temp\\ipykernel_25004\\1756431869.py:42: FutureWarning: The frame.append method is deprecated and will be removed from pandas in a future version. Use pandas.concat instead.\n",
      "  predictions_df = predictions_df.append({\"variant\": row[\"variant\"], \"prediction\": y_pred[index], \"reality\": row[\"pathogenicity\"]}, ignore_index=True)\n"
     ]
    },
    {
     "name": "stdout",
     "output_type": "stream",
     "text": [
      "TP: 1, FP: 0, TN: 0, FN: 0\n",
      "tps: 138, fps: 17, fns: 32, tns: 62\n",
      "Prediction: [1]. Reality: [1]\n",
      "Position: 622 (181/264)\n",
      "TP: 0, FP: 0, TN: 0, FN: 1\n",
      "tps: 138, fps: 17, fns: 33, tns: 62\n",
      "Prediction: [0]. Reality: [1]\n",
      "Position: 99 (182/264)\n"
     ]
    },
    {
     "name": "stderr",
     "output_type": "stream",
     "text": [
      "C:\\Users\\InbarBlech\\AppData\\Local\\Temp\\ipykernel_25004\\1756431869.py:42: FutureWarning: The frame.append method is deprecated and will be removed from pandas in a future version. Use pandas.concat instead.\n",
      "  predictions_df = predictions_df.append({\"variant\": row[\"variant\"], \"prediction\": y_pred[index], \"reality\": row[\"pathogenicity\"]}, ignore_index=True)\n"
     ]
    },
    {
     "name": "stdout",
     "output_type": "stream",
     "text": [
      "TP: 1, FP: 0, TN: 0, FN: 0\n",
      "tps: 139, fps: 17, fns: 33, tns: 62\n",
      "Prediction: [1]. Reality: [1]\n",
      "Position: 137 (183/264)\n"
     ]
    },
    {
     "name": "stderr",
     "output_type": "stream",
     "text": [
      "C:\\Users\\InbarBlech\\AppData\\Local\\Temp\\ipykernel_25004\\1756431869.py:42: FutureWarning: The frame.append method is deprecated and will be removed from pandas in a future version. Use pandas.concat instead.\n",
      "  predictions_df = predictions_df.append({\"variant\": row[\"variant\"], \"prediction\": y_pred[index], \"reality\": row[\"pathogenicity\"]}, ignore_index=True)\n",
      "C:\\Users\\InbarBlech\\AppData\\Local\\Temp\\ipykernel_25004\\1756431869.py:42: FutureWarning: The frame.append method is deprecated and will be removed from pandas in a future version. Use pandas.concat instead.\n",
      "  predictions_df = predictions_df.append({\"variant\": row[\"variant\"], \"prediction\": y_pred[index], \"reality\": row[\"pathogenicity\"]}, ignore_index=True)\n"
     ]
    },
    {
     "name": "stdout",
     "output_type": "stream",
     "text": [
      "TP: 2, FP: 0, TN: 0, FN: 0\n",
      "tps: 141, fps: 17, fns: 33, tns: 62\n",
      "Prediction: [1 1]. Reality: [1 1]\n",
      "Position: 683 (184/264)\n"
     ]
    },
    {
     "name": "stderr",
     "output_type": "stream",
     "text": [
      "C:\\Users\\InbarBlech\\AppData\\Local\\Temp\\ipykernel_25004\\1756431869.py:42: FutureWarning: The frame.append method is deprecated and will be removed from pandas in a future version. Use pandas.concat instead.\n",
      "  predictions_df = predictions_df.append({\"variant\": row[\"variant\"], \"prediction\": y_pred[index], \"reality\": row[\"pathogenicity\"]}, ignore_index=True)\n"
     ]
    },
    {
     "name": "stdout",
     "output_type": "stream",
     "text": [
      "TP: 1, FP: 0, TN: 0, FN: 0\n",
      "tps: 142, fps: 17, fns: 33, tns: 62\n",
      "Prediction: [1]. Reality: [1]\n",
      "Position: 123 (185/264)\n"
     ]
    },
    {
     "name": "stderr",
     "output_type": "stream",
     "text": [
      "C:\\Users\\InbarBlech\\AppData\\Local\\Temp\\ipykernel_25004\\1756431869.py:42: FutureWarning: The frame.append method is deprecated and will be removed from pandas in a future version. Use pandas.concat instead.\n",
      "  predictions_df = predictions_df.append({\"variant\": row[\"variant\"], \"prediction\": y_pred[index], \"reality\": row[\"pathogenicity\"]}, ignore_index=True)\n"
     ]
    },
    {
     "name": "stdout",
     "output_type": "stream",
     "text": [
      "TP: 1, FP: 0, TN: 0, FN: 0\n",
      "tps: 143, fps: 17, fns: 33, tns: 62\n",
      "Prediction: [1]. Reality: [1]\n",
      "Position: 483 (186/264)\n"
     ]
    },
    {
     "name": "stderr",
     "output_type": "stream",
     "text": [
      "C:\\Users\\InbarBlech\\AppData\\Local\\Temp\\ipykernel_25004\\1756431869.py:42: FutureWarning: The frame.append method is deprecated and will be removed from pandas in a future version. Use pandas.concat instead.\n",
      "  predictions_df = predictions_df.append({\"variant\": row[\"variant\"], \"prediction\": y_pred[index], \"reality\": row[\"pathogenicity\"]}, ignore_index=True)\n"
     ]
    },
    {
     "name": "stdout",
     "output_type": "stream",
     "text": [
      "TP: 1, FP: 0, TN: 0, FN: 0\n",
      "tps: 144, fps: 17, fns: 33, tns: 62\n",
      "Prediction: [1]. Reality: [1]\n",
      "Position: 653 (187/264)\n"
     ]
    },
    {
     "name": "stderr",
     "output_type": "stream",
     "text": [
      "C:\\Users\\InbarBlech\\AppData\\Local\\Temp\\ipykernel_25004\\1756431869.py:42: FutureWarning: The frame.append method is deprecated and will be removed from pandas in a future version. Use pandas.concat instead.\n",
      "  predictions_df = predictions_df.append({\"variant\": row[\"variant\"], \"prediction\": y_pred[index], \"reality\": row[\"pathogenicity\"]}, ignore_index=True)\n"
     ]
    },
    {
     "name": "stdout",
     "output_type": "stream",
     "text": [
      "TP: 1, FP: 0, TN: 0, FN: 0\n",
      "tps: 145, fps: 17, fns: 33, tns: 62\n",
      "Prediction: [1]. Reality: [1]\n",
      "Position: 497 (188/264)\n"
     ]
    },
    {
     "name": "stderr",
     "output_type": "stream",
     "text": [
      "C:\\Users\\InbarBlech\\AppData\\Local\\Temp\\ipykernel_25004\\1756431869.py:42: FutureWarning: The frame.append method is deprecated and will be removed from pandas in a future version. Use pandas.concat instead.\n",
      "  predictions_df = predictions_df.append({\"variant\": row[\"variant\"], \"prediction\": y_pred[index], \"reality\": row[\"pathogenicity\"]}, ignore_index=True)\n",
      "C:\\Users\\InbarBlech\\AppData\\Local\\Temp\\ipykernel_25004\\1756431869.py:42: FutureWarning: The frame.append method is deprecated and will be removed from pandas in a future version. Use pandas.concat instead.\n",
      "  predictions_df = predictions_df.append({\"variant\": row[\"variant\"], \"prediction\": y_pred[index], \"reality\": row[\"pathogenicity\"]}, ignore_index=True)\n"
     ]
    },
    {
     "name": "stdout",
     "output_type": "stream",
     "text": [
      "TP: 2, FP: 0, TN: 0, FN: 0\n",
      "tps: 147, fps: 17, fns: 33, tns: 62\n",
      "Prediction: [1 1]. Reality: [1 1]\n",
      "Position: 725 (189/264)\n"
     ]
    },
    {
     "name": "stderr",
     "output_type": "stream",
     "text": [
      "C:\\Users\\InbarBlech\\AppData\\Local\\Temp\\ipykernel_25004\\1756431869.py:42: FutureWarning: The frame.append method is deprecated and will be removed from pandas in a future version. Use pandas.concat instead.\n",
      "  predictions_df = predictions_df.append({\"variant\": row[\"variant\"], \"prediction\": y_pred[index], \"reality\": row[\"pathogenicity\"]}, ignore_index=True)\n"
     ]
    },
    {
     "name": "stdout",
     "output_type": "stream",
     "text": [
      "TP: 1, FP: 0, TN: 0, FN: 0\n",
      "tps: 148, fps: 17, fns: 33, tns: 62\n",
      "Prediction: [1]. Reality: [1]\n",
      "Position: 307 (190/264)\n"
     ]
    },
    {
     "name": "stderr",
     "output_type": "stream",
     "text": [
      "C:\\Users\\InbarBlech\\AppData\\Local\\Temp\\ipykernel_25004\\1756431869.py:42: FutureWarning: The frame.append method is deprecated and will be removed from pandas in a future version. Use pandas.concat instead.\n",
      "  predictions_df = predictions_df.append({\"variant\": row[\"variant\"], \"prediction\": y_pred[index], \"reality\": row[\"pathogenicity\"]}, ignore_index=True)\n",
      "C:\\Users\\InbarBlech\\AppData\\Local\\Temp\\ipykernel_25004\\1756431869.py:42: FutureWarning: The frame.append method is deprecated and will be removed from pandas in a future version. Use pandas.concat instead.\n",
      "  predictions_df = predictions_df.append({\"variant\": row[\"variant\"], \"prediction\": y_pred[index], \"reality\": row[\"pathogenicity\"]}, ignore_index=True)\n",
      "C:\\Users\\InbarBlech\\AppData\\Local\\Temp\\ipykernel_25004\\1756431869.py:42: FutureWarning: The frame.append method is deprecated and will be removed from pandas in a future version. Use pandas.concat instead.\n",
      "  predictions_df = predictions_df.append({\"variant\": row[\"variant\"], \"prediction\": y_pred[index], \"reality\": row[\"pathogenicity\"]}, ignore_index=True)\n"
     ]
    },
    {
     "name": "stdout",
     "output_type": "stream",
     "text": [
      "TP: 3, FP: 0, TN: 0, FN: 0\n",
      "tps: 151, fps: 17, fns: 33, tns: 62\n",
      "Prediction: [1 1 1]. Reality: [1 1 1]\n",
      "Position: 516 (191/264)\n"
     ]
    },
    {
     "name": "stderr",
     "output_type": "stream",
     "text": [
      "C:\\Users\\InbarBlech\\AppData\\Local\\Temp\\ipykernel_25004\\1756431869.py:42: FutureWarning: The frame.append method is deprecated and will be removed from pandas in a future version. Use pandas.concat instead.\n",
      "  predictions_df = predictions_df.append({\"variant\": row[\"variant\"], \"prediction\": y_pred[index], \"reality\": row[\"pathogenicity\"]}, ignore_index=True)\n"
     ]
    },
    {
     "name": "stdout",
     "output_type": "stream",
     "text": [
      "TP: 1, FP: 0, TN: 0, FN: 0\n",
      "tps: 152, fps: 17, fns: 33, tns: 62\n",
      "Prediction: [1]. Reality: [1]\n",
      "Position: 601 (192/264)\n"
     ]
    },
    {
     "name": "stderr",
     "output_type": "stream",
     "text": [
      "C:\\Users\\InbarBlech\\AppData\\Local\\Temp\\ipykernel_25004\\1756431869.py:42: FutureWarning: The frame.append method is deprecated and will be removed from pandas in a future version. Use pandas.concat instead.\n",
      "  predictions_df = predictions_df.append({\"variant\": row[\"variant\"], \"prediction\": y_pred[index], \"reality\": row[\"pathogenicity\"]}, ignore_index=True)\n"
     ]
    },
    {
     "name": "stdout",
     "output_type": "stream",
     "text": [
      "TP: 0, FP: 0, TN: 0, FN: 1\n",
      "tps: 152, fps: 17, fns: 34, tns: 62\n",
      "Prediction: [0]. Reality: [1]\n",
      "Position: 458 (193/264)\n"
     ]
    },
    {
     "name": "stderr",
     "output_type": "stream",
     "text": [
      "C:\\Users\\InbarBlech\\AppData\\Local\\Temp\\ipykernel_25004\\1756431869.py:42: FutureWarning: The frame.append method is deprecated and will be removed from pandas in a future version. Use pandas.concat instead.\n",
      "  predictions_df = predictions_df.append({\"variant\": row[\"variant\"], \"prediction\": y_pred[index], \"reality\": row[\"pathogenicity\"]}, ignore_index=True)\n"
     ]
    },
    {
     "name": "stdout",
     "output_type": "stream",
     "text": [
      "TP: 1, FP: 0, TN: 0, FN: 0\n",
      "tps: 153, fps: 17, fns: 34, tns: 62\n",
      "Prediction: [1]. Reality: [1]\n",
      "Position: 662 (194/264)\n"
     ]
    },
    {
     "name": "stderr",
     "output_type": "stream",
     "text": [
      "C:\\Users\\InbarBlech\\AppData\\Local\\Temp\\ipykernel_25004\\1756431869.py:42: FutureWarning: The frame.append method is deprecated and will be removed from pandas in a future version. Use pandas.concat instead.\n",
      "  predictions_df = predictions_df.append({\"variant\": row[\"variant\"], \"prediction\": y_pred[index], \"reality\": row[\"pathogenicity\"]}, ignore_index=True)\n",
      "C:\\Users\\InbarBlech\\AppData\\Local\\Temp\\ipykernel_25004\\1756431869.py:42: FutureWarning: The frame.append method is deprecated and will be removed from pandas in a future version. Use pandas.concat instead.\n",
      "  predictions_df = predictions_df.append({\"variant\": row[\"variant\"], \"prediction\": y_pred[index], \"reality\": row[\"pathogenicity\"]}, ignore_index=True)\n"
     ]
    },
    {
     "name": "stdout",
     "output_type": "stream",
     "text": [
      "TP: 1, FP: 0, TN: 0, FN: 0\n",
      "tps: 154, fps: 17, fns: 34, tns: 62\n",
      "Prediction: [1]. Reality: [1]\n",
      "Position: 257 (195/264)\n",
      "TP: 1, FP: 0, TN: 0, FN: 0\n",
      "tps: 155, fps: 17, fns: 34, tns: 62\n",
      "Prediction: [1]. Reality: [1]\n",
      "Position: 204 (196/264)\n"
     ]
    },
    {
     "name": "stderr",
     "output_type": "stream",
     "text": [
      "C:\\Users\\InbarBlech\\AppData\\Local\\Temp\\ipykernel_25004\\1756431869.py:42: FutureWarning: The frame.append method is deprecated and will be removed from pandas in a future version. Use pandas.concat instead.\n",
      "  predictions_df = predictions_df.append({\"variant\": row[\"variant\"], \"prediction\": y_pred[index], \"reality\": row[\"pathogenicity\"]}, ignore_index=True)\n",
      "C:\\Users\\InbarBlech\\AppData\\Local\\Temp\\ipykernel_25004\\1756431869.py:42: FutureWarning: The frame.append method is deprecated and will be removed from pandas in a future version. Use pandas.concat instead.\n",
      "  predictions_df = predictions_df.append({\"variant\": row[\"variant\"], \"prediction\": y_pred[index], \"reality\": row[\"pathogenicity\"]}, ignore_index=True)\n",
      "C:\\Users\\InbarBlech\\AppData\\Local\\Temp\\ipykernel_25004\\1756431869.py:42: FutureWarning: The frame.append method is deprecated and will be removed from pandas in a future version. Use pandas.concat instead.\n",
      "  predictions_df = predictions_df.append({\"variant\": row[\"variant\"], \"prediction\": y_pred[index], \"reality\": row[\"pathogenicity\"]}, ignore_index=True)\n"
     ]
    },
    {
     "name": "stdout",
     "output_type": "stream",
     "text": [
      "TP: 1, FP: 0, TN: 0, FN: 0\n",
      "tps: 156, fps: 17, fns: 34, tns: 62\n",
      "Prediction: [1]. Reality: [1]\n",
      "Position: 392 (197/264)\n",
      "TP: 2, FP: 0, TN: 0, FN: 0\n",
      "tps: 158, fps: 17, fns: 34, tns: 62\n",
      "Prediction: [1 1]. Reality: [1 1]\n",
      "Position: 439 (198/264)\n"
     ]
    },
    {
     "name": "stderr",
     "output_type": "stream",
     "text": [
      "C:\\Users\\InbarBlech\\AppData\\Local\\Temp\\ipykernel_25004\\1756431869.py:42: FutureWarning: The frame.append method is deprecated and will be removed from pandas in a future version. Use pandas.concat instead.\n",
      "  predictions_df = predictions_df.append({\"variant\": row[\"variant\"], \"prediction\": y_pred[index], \"reality\": row[\"pathogenicity\"]}, ignore_index=True)\n",
      "C:\\Users\\InbarBlech\\AppData\\Local\\Temp\\ipykernel_25004\\1756431869.py:42: FutureWarning: The frame.append method is deprecated and will be removed from pandas in a future version. Use pandas.concat instead.\n",
      "  predictions_df = predictions_df.append({\"variant\": row[\"variant\"], \"prediction\": y_pred[index], \"reality\": row[\"pathogenicity\"]}, ignore_index=True)\n"
     ]
    },
    {
     "name": "stdout",
     "output_type": "stream",
     "text": [
      "TP: 1, FP: 0, TN: 0, FN: 0\n",
      "tps: 159, fps: 17, fns: 34, tns: 62\n",
      "Prediction: [1]. Reality: [1]\n",
      "Position: 314 (199/264)\n",
      "TP: 1, FP: 0, TN: 0, FN: 0\n",
      "tps: 160, fps: 17, fns: 34, tns: 62\n",
      "Prediction: [1]. Reality: [1]\n",
      "Position: 434 (200/264)\n"
     ]
    },
    {
     "name": "stderr",
     "output_type": "stream",
     "text": [
      "C:\\Users\\InbarBlech\\AppData\\Local\\Temp\\ipykernel_25004\\1756431869.py:42: FutureWarning: The frame.append method is deprecated and will be removed from pandas in a future version. Use pandas.concat instead.\n",
      "  predictions_df = predictions_df.append({\"variant\": row[\"variant\"], \"prediction\": y_pred[index], \"reality\": row[\"pathogenicity\"]}, ignore_index=True)\n",
      "C:\\Users\\InbarBlech\\AppData\\Local\\Temp\\ipykernel_25004\\1756431869.py:42: FutureWarning: The frame.append method is deprecated and will be removed from pandas in a future version. Use pandas.concat instead.\n",
      "  predictions_df = predictions_df.append({\"variant\": row[\"variant\"], \"prediction\": y_pred[index], \"reality\": row[\"pathogenicity\"]}, ignore_index=True)\n",
      "C:\\Users\\InbarBlech\\AppData\\Local\\Temp\\ipykernel_25004\\1756431869.py:42: FutureWarning: The frame.append method is deprecated and will be removed from pandas in a future version. Use pandas.concat instead.\n",
      "  predictions_df = predictions_df.append({\"variant\": row[\"variant\"], \"prediction\": y_pred[index], \"reality\": row[\"pathogenicity\"]}, ignore_index=True)\n",
      "C:\\Users\\InbarBlech\\AppData\\Local\\Temp\\ipykernel_25004\\1756431869.py:42: FutureWarning: The frame.append method is deprecated and will be removed from pandas in a future version. Use pandas.concat instead.\n",
      "  predictions_df = predictions_df.append({\"variant\": row[\"variant\"], \"prediction\": y_pred[index], \"reality\": row[\"pathogenicity\"]}, ignore_index=True)\n"
     ]
    },
    {
     "name": "stdout",
     "output_type": "stream",
     "text": [
      "TP: 2, FP: 0, TN: 0, FN: 0\n",
      "tps: 162, fps: 17, fns: 34, tns: 62\n",
      "Prediction: [1 1]. Reality: [1 1]\n",
      "Position: 209 (201/264)\n",
      "TP: 2, FP: 0, TN: 0, FN: 0\n",
      "tps: 164, fps: 17, fns: 34, tns: 62\n",
      "Prediction: [1 1]. Reality: [1 1]\n",
      "Position: 90 (202/264)\n"
     ]
    },
    {
     "name": "stderr",
     "output_type": "stream",
     "text": [
      "C:\\Users\\InbarBlech\\AppData\\Local\\Temp\\ipykernel_25004\\1756431869.py:42: FutureWarning: The frame.append method is deprecated and will be removed from pandas in a future version. Use pandas.concat instead.\n",
      "  predictions_df = predictions_df.append({\"variant\": row[\"variant\"], \"prediction\": y_pred[index], \"reality\": row[\"pathogenicity\"]}, ignore_index=True)\n",
      "C:\\Users\\InbarBlech\\AppData\\Local\\Temp\\ipykernel_25004\\1756431869.py:42: FutureWarning: The frame.append method is deprecated and will be removed from pandas in a future version. Use pandas.concat instead.\n",
      "  predictions_df = predictions_df.append({\"variant\": row[\"variant\"], \"prediction\": y_pred[index], \"reality\": row[\"pathogenicity\"]}, ignore_index=True)\n"
     ]
    },
    {
     "name": "stdout",
     "output_type": "stream",
     "text": [
      "TP: 1, FP: 0, TN: 0, FN: 0\n",
      "tps: 165, fps: 17, fns: 34, tns: 62\n",
      "Prediction: [1]. Reality: [1]\n",
      "Position: 672 (203/264)\n",
      "TP: 1, FP: 0, TN: 0, FN: 0\n",
      "tps: 166, fps: 17, fns: 34, tns: 62\n",
      "Prediction: [1]. Reality: [1]\n",
      "Position: 74 (204/264)\n"
     ]
    },
    {
     "name": "stderr",
     "output_type": "stream",
     "text": [
      "C:\\Users\\InbarBlech\\AppData\\Local\\Temp\\ipykernel_25004\\1756431869.py:42: FutureWarning: The frame.append method is deprecated and will be removed from pandas in a future version. Use pandas.concat instead.\n",
      "  predictions_df = predictions_df.append({\"variant\": row[\"variant\"], \"prediction\": y_pred[index], \"reality\": row[\"pathogenicity\"]}, ignore_index=True)\n",
      "C:\\Users\\InbarBlech\\AppData\\Local\\Temp\\ipykernel_25004\\1756431869.py:42: FutureWarning: The frame.append method is deprecated and will be removed from pandas in a future version. Use pandas.concat instead.\n",
      "  predictions_df = predictions_df.append({\"variant\": row[\"variant\"], \"prediction\": y_pred[index], \"reality\": row[\"pathogenicity\"]}, ignore_index=True)\n"
     ]
    },
    {
     "name": "stdout",
     "output_type": "stream",
     "text": [
      "TP: 1, FP: 0, TN: 0, FN: 0\n",
      "tps: 167, fps: 17, fns: 34, tns: 62\n",
      "Prediction: [1]. Reality: [1]\n",
      "Position: 165 (205/264)\n",
      "TP: 0, FP: 0, TN: 0, FN: 1\n",
      "tps: 167, fps: 17, fns: 35, tns: 62\n",
      "Prediction: [0]. Reality: [1]\n",
      "Position: 694 (206/264)\n"
     ]
    },
    {
     "name": "stderr",
     "output_type": "stream",
     "text": [
      "C:\\Users\\InbarBlech\\AppData\\Local\\Temp\\ipykernel_25004\\1756431869.py:42: FutureWarning: The frame.append method is deprecated and will be removed from pandas in a future version. Use pandas.concat instead.\n",
      "  predictions_df = predictions_df.append({\"variant\": row[\"variant\"], \"prediction\": y_pred[index], \"reality\": row[\"pathogenicity\"]}, ignore_index=True)\n",
      "C:\\Users\\InbarBlech\\AppData\\Local\\Temp\\ipykernel_25004\\1756431869.py:42: FutureWarning: The frame.append method is deprecated and will be removed from pandas in a future version. Use pandas.concat instead.\n",
      "  predictions_df = predictions_df.append({\"variant\": row[\"variant\"], \"prediction\": y_pred[index], \"reality\": row[\"pathogenicity\"]}, ignore_index=True)\n"
     ]
    },
    {
     "name": "stdout",
     "output_type": "stream",
     "text": [
      "TP: 1, FP: 0, TN: 0, FN: 0\n",
      "tps: 168, fps: 17, fns: 35, tns: 62\n",
      "Prediction: [1]. Reality: [1]\n",
      "Position: 306 (207/264)\n",
      "TP: 1, FP: 0, TN: 0, FN: 0\n",
      "tps: 169, fps: 17, fns: 35, tns: 62\n",
      "Prediction: [1]. Reality: [1]\n",
      "Position: 420 (208/264)\n"
     ]
    },
    {
     "name": "stderr",
     "output_type": "stream",
     "text": [
      "C:\\Users\\InbarBlech\\AppData\\Local\\Temp\\ipykernel_25004\\1756431869.py:42: FutureWarning: The frame.append method is deprecated and will be removed from pandas in a future version. Use pandas.concat instead.\n",
      "  predictions_df = predictions_df.append({\"variant\": row[\"variant\"], \"prediction\": y_pred[index], \"reality\": row[\"pathogenicity\"]}, ignore_index=True)\n",
      "C:\\Users\\InbarBlech\\AppData\\Local\\Temp\\ipykernel_25004\\1756431869.py:42: FutureWarning: The frame.append method is deprecated and will be removed from pandas in a future version. Use pandas.concat instead.\n",
      "  predictions_df = predictions_df.append({\"variant\": row[\"variant\"], \"prediction\": y_pred[index], \"reality\": row[\"pathogenicity\"]}, ignore_index=True)\n"
     ]
    },
    {
     "name": "stdout",
     "output_type": "stream",
     "text": [
      "TP: 1, FP: 0, TN: 0, FN: 0\n",
      "tps: 170, fps: 17, fns: 35, tns: 62\n",
      "Prediction: [1]. Reality: [1]\n",
      "Position: 360 (209/264)\n",
      "TP: 1, FP: 0, TN: 0, FN: 0\n",
      "tps: 171, fps: 17, fns: 35, tns: 62\n",
      "Prediction: [1]. Reality: [1]\n",
      "Position: 441 (210/264)\n"
     ]
    },
    {
     "name": "stderr",
     "output_type": "stream",
     "text": [
      "C:\\Users\\InbarBlech\\AppData\\Local\\Temp\\ipykernel_25004\\1756431869.py:42: FutureWarning: The frame.append method is deprecated and will be removed from pandas in a future version. Use pandas.concat instead.\n",
      "  predictions_df = predictions_df.append({\"variant\": row[\"variant\"], \"prediction\": y_pred[index], \"reality\": row[\"pathogenicity\"]}, ignore_index=True)\n",
      "C:\\Users\\InbarBlech\\AppData\\Local\\Temp\\ipykernel_25004\\1756431869.py:42: FutureWarning: The frame.append method is deprecated and will be removed from pandas in a future version. Use pandas.concat instead.\n",
      "  predictions_df = predictions_df.append({\"variant\": row[\"variant\"], \"prediction\": y_pred[index], \"reality\": row[\"pathogenicity\"]}, ignore_index=True)\n",
      "C:\\Users\\InbarBlech\\AppData\\Local\\Temp\\ipykernel_25004\\1756431869.py:42: FutureWarning: The frame.append method is deprecated and will be removed from pandas in a future version. Use pandas.concat instead.\n",
      "  predictions_df = predictions_df.append({\"variant\": row[\"variant\"], \"prediction\": y_pred[index], \"reality\": row[\"pathogenicity\"]}, ignore_index=True)\n"
     ]
    },
    {
     "name": "stdout",
     "output_type": "stream",
     "text": [
      "TP: 1, FP: 0, TN: 0, FN: 0\n",
      "tps: 172, fps: 17, fns: 35, tns: 62\n",
      "Prediction: [1]. Reality: [1]\n",
      "Position: 271 (211/264)\n",
      "TP: 2, FP: 0, TN: 0, FN: 0\n",
      "tps: 174, fps: 17, fns: 35, tns: 62\n",
      "Prediction: [1 1]. Reality: [1 1]\n",
      "Position: 68 (212/264)\n"
     ]
    },
    {
     "name": "stderr",
     "output_type": "stream",
     "text": [
      "C:\\Users\\InbarBlech\\AppData\\Local\\Temp\\ipykernel_25004\\1756431869.py:42: FutureWarning: The frame.append method is deprecated and will be removed from pandas in a future version. Use pandas.concat instead.\n",
      "  predictions_df = predictions_df.append({\"variant\": row[\"variant\"], \"prediction\": y_pred[index], \"reality\": row[\"pathogenicity\"]}, ignore_index=True)\n",
      "C:\\Users\\InbarBlech\\AppData\\Local\\Temp\\ipykernel_25004\\1756431869.py:42: FutureWarning: The frame.append method is deprecated and will be removed from pandas in a future version. Use pandas.concat instead.\n",
      "  predictions_df = predictions_df.append({\"variant\": row[\"variant\"], \"prediction\": y_pred[index], \"reality\": row[\"pathogenicity\"]}, ignore_index=True)\n"
     ]
    },
    {
     "name": "stdout",
     "output_type": "stream",
     "text": [
      "TP: 1, FP: 0, TN: 0, FN: 0\n",
      "tps: 175, fps: 17, fns: 35, tns: 62\n",
      "Prediction: [1]. Reality: [1]\n",
      "Position: 383 (213/264)\n",
      "TP: 1, FP: 0, TN: 0, FN: 0\n",
      "tps: 176, fps: 17, fns: 35, tns: 62\n",
      "Prediction: [1]. Reality: [1]\n",
      "Position: 24 (214/264)\n"
     ]
    },
    {
     "name": "stderr",
     "output_type": "stream",
     "text": [
      "C:\\Users\\InbarBlech\\AppData\\Local\\Temp\\ipykernel_25004\\1756431869.py:42: FutureWarning: The frame.append method is deprecated and will be removed from pandas in a future version. Use pandas.concat instead.\n",
      "  predictions_df = predictions_df.append({\"variant\": row[\"variant\"], \"prediction\": y_pred[index], \"reality\": row[\"pathogenicity\"]}, ignore_index=True)\n",
      "C:\\Users\\InbarBlech\\AppData\\Local\\Temp\\ipykernel_25004\\1756431869.py:42: FutureWarning: The frame.append method is deprecated and will be removed from pandas in a future version. Use pandas.concat instead.\n",
      "  predictions_df = predictions_df.append({\"variant\": row[\"variant\"], \"prediction\": y_pred[index], \"reality\": row[\"pathogenicity\"]}, ignore_index=True)\n",
      "C:\\Users\\InbarBlech\\AppData\\Local\\Temp\\ipykernel_25004\\1756431869.py:42: FutureWarning: The frame.append method is deprecated and will be removed from pandas in a future version. Use pandas.concat instead.\n",
      "  predictions_df = predictions_df.append({\"variant\": row[\"variant\"], \"prediction\": y_pred[index], \"reality\": row[\"pathogenicity\"]}, ignore_index=True)\n",
      "C:\\Users\\InbarBlech\\AppData\\Local\\Temp\\ipykernel_25004\\1756431869.py:42: FutureWarning: The frame.append method is deprecated and will be removed from pandas in a future version. Use pandas.concat instead.\n",
      "  predictions_df = predictions_df.append({\"variant\": row[\"variant\"], \"prediction\": y_pred[index], \"reality\": row[\"pathogenicity\"]}, ignore_index=True)\n"
     ]
    },
    {
     "name": "stdout",
     "output_type": "stream",
     "text": [
      "TP: 3, FP: 0, TN: 0, FN: 0\n",
      "tps: 179, fps: 17, fns: 35, tns: 62\n",
      "Prediction: [1 1 1]. Reality: [1 1 1]\n",
      "Position: 651 (215/264)\n",
      "TP: 1, FP: 0, TN: 0, FN: 0\n",
      "tps: 180, fps: 17, fns: 35, tns: 62\n",
      "Prediction: [1]. Reality: [1]\n",
      "Position: 236 (216/264)\n"
     ]
    },
    {
     "name": "stderr",
     "output_type": "stream",
     "text": [
      "C:\\Users\\InbarBlech\\AppData\\Local\\Temp\\ipykernel_25004\\1756431869.py:42: FutureWarning: The frame.append method is deprecated and will be removed from pandas in a future version. Use pandas.concat instead.\n",
      "  predictions_df = predictions_df.append({\"variant\": row[\"variant\"], \"prediction\": y_pred[index], \"reality\": row[\"pathogenicity\"]}, ignore_index=True)\n",
      "C:\\Users\\InbarBlech\\AppData\\Local\\Temp\\ipykernel_25004\\1756431869.py:42: FutureWarning: The frame.append method is deprecated and will be removed from pandas in a future version. Use pandas.concat instead.\n",
      "  predictions_df = predictions_df.append({\"variant\": row[\"variant\"], \"prediction\": y_pred[index], \"reality\": row[\"pathogenicity\"]}, ignore_index=True)\n"
     ]
    },
    {
     "name": "stdout",
     "output_type": "stream",
     "text": [
      "TP: 1, FP: 0, TN: 0, FN: 0\n",
      "tps: 181, fps: 17, fns: 35, tns: 62\n",
      "Prediction: [1]. Reality: [1]\n",
      "Position: 193 (217/264)\n",
      "TP: 1, FP: 0, TN: 0, FN: 0\n",
      "tps: 182, fps: 17, fns: 35, tns: 62\n",
      "Prediction: [1]. Reality: [1]\n",
      "Position: 424 (218/264)\n"
     ]
    },
    {
     "name": "stderr",
     "output_type": "stream",
     "text": [
      "C:\\Users\\InbarBlech\\AppData\\Local\\Temp\\ipykernel_25004\\1756431869.py:42: FutureWarning: The frame.append method is deprecated and will be removed from pandas in a future version. Use pandas.concat instead.\n",
      "  predictions_df = predictions_df.append({\"variant\": row[\"variant\"], \"prediction\": y_pred[index], \"reality\": row[\"pathogenicity\"]}, ignore_index=True)\n",
      "C:\\Users\\InbarBlech\\AppData\\Local\\Temp\\ipykernel_25004\\1756431869.py:42: FutureWarning: The frame.append method is deprecated and will be removed from pandas in a future version. Use pandas.concat instead.\n",
      "  predictions_df = predictions_df.append({\"variant\": row[\"variant\"], \"prediction\": y_pred[index], \"reality\": row[\"pathogenicity\"]}, ignore_index=True)\n"
     ]
    },
    {
     "name": "stdout",
     "output_type": "stream",
     "text": [
      "TP: 1, FP: 0, TN: 0, FN: 0\n",
      "tps: 183, fps: 17, fns: 35, tns: 62\n",
      "Prediction: [1]. Reality: [1]\n",
      "Position: 703 (219/264)\n",
      "TP: 1, FP: 0, TN: 0, FN: 0\n",
      "tps: 184, fps: 17, fns: 35, tns: 62\n",
      "Prediction: [1]. Reality: [1]\n",
      "Position: 404 (220/264)\n"
     ]
    },
    {
     "name": "stderr",
     "output_type": "stream",
     "text": [
      "C:\\Users\\InbarBlech\\AppData\\Local\\Temp\\ipykernel_25004\\1756431869.py:42: FutureWarning: The frame.append method is deprecated and will be removed from pandas in a future version. Use pandas.concat instead.\n",
      "  predictions_df = predictions_df.append({\"variant\": row[\"variant\"], \"prediction\": y_pred[index], \"reality\": row[\"pathogenicity\"]}, ignore_index=True)\n",
      "C:\\Users\\InbarBlech\\AppData\\Local\\Temp\\ipykernel_25004\\1756431869.py:42: FutureWarning: The frame.append method is deprecated and will be removed from pandas in a future version. Use pandas.concat instead.\n",
      "  predictions_df = predictions_df.append({\"variant\": row[\"variant\"], \"prediction\": y_pred[index], \"reality\": row[\"pathogenicity\"]}, ignore_index=True)\n"
     ]
    },
    {
     "name": "stdout",
     "output_type": "stream",
     "text": [
      "TP: 1, FP: 0, TN: 0, FN: 0\n",
      "tps: 185, fps: 17, fns: 35, tns: 62\n",
      "Prediction: [1]. Reality: [1]\n",
      "Position: 94 (221/264)\n",
      "TP: 1, FP: 0, TN: 0, FN: 0\n",
      "tps: 186, fps: 17, fns: 35, tns: 62\n",
      "Prediction: [1]. Reality: [1]\n",
      "Position: 657 (222/264)\n"
     ]
    },
    {
     "name": "stderr",
     "output_type": "stream",
     "text": [
      "C:\\Users\\InbarBlech\\AppData\\Local\\Temp\\ipykernel_25004\\1756431869.py:42: FutureWarning: The frame.append method is deprecated and will be removed from pandas in a future version. Use pandas.concat instead.\n",
      "  predictions_df = predictions_df.append({\"variant\": row[\"variant\"], \"prediction\": y_pred[index], \"reality\": row[\"pathogenicity\"]}, ignore_index=True)\n",
      "C:\\Users\\InbarBlech\\AppData\\Local\\Temp\\ipykernel_25004\\1756431869.py:42: FutureWarning: The frame.append method is deprecated and will be removed from pandas in a future version. Use pandas.concat instead.\n",
      "  predictions_df = predictions_df.append({\"variant\": row[\"variant\"], \"prediction\": y_pred[index], \"reality\": row[\"pathogenicity\"]}, ignore_index=True)\n",
      "C:\\Users\\InbarBlech\\AppData\\Local\\Temp\\ipykernel_25004\\1756431869.py:42: FutureWarning: The frame.append method is deprecated and will be removed from pandas in a future version. Use pandas.concat instead.\n",
      "  predictions_df = predictions_df.append({\"variant\": row[\"variant\"], \"prediction\": y_pred[index], \"reality\": row[\"pathogenicity\"]}, ignore_index=True)\n"
     ]
    },
    {
     "name": "stdout",
     "output_type": "stream",
     "text": [
      "TP: 2, FP: 0, TN: 0, FN: 0\n",
      "tps: 188, fps: 17, fns: 35, tns: 62\n",
      "Prediction: [1 1]. Reality: [1 1]\n",
      "Position: 252 (223/264)\n",
      "TP: 1, FP: 0, TN: 0, FN: 0\n",
      "tps: 189, fps: 17, fns: 35, tns: 62\n",
      "Prediction: [1]. Reality: [1]\n",
      "Position: 552 (224/264)\n"
     ]
    },
    {
     "name": "stderr",
     "output_type": "stream",
     "text": [
      "C:\\Users\\InbarBlech\\AppData\\Local\\Temp\\ipykernel_25004\\1756431869.py:42: FutureWarning: The frame.append method is deprecated and will be removed from pandas in a future version. Use pandas.concat instead.\n",
      "  predictions_df = predictions_df.append({\"variant\": row[\"variant\"], \"prediction\": y_pred[index], \"reality\": row[\"pathogenicity\"]}, ignore_index=True)\n",
      "C:\\Users\\InbarBlech\\AppData\\Local\\Temp\\ipykernel_25004\\1756431869.py:42: FutureWarning: The frame.append method is deprecated and will be removed from pandas in a future version. Use pandas.concat instead.\n",
      "  predictions_df = predictions_df.append({\"variant\": row[\"variant\"], \"prediction\": y_pred[index], \"reality\": row[\"pathogenicity\"]}, ignore_index=True)\n",
      "C:\\Users\\InbarBlech\\AppData\\Local\\Temp\\ipykernel_25004\\1756431869.py:42: FutureWarning: The frame.append method is deprecated and will be removed from pandas in a future version. Use pandas.concat instead.\n",
      "  predictions_df = predictions_df.append({\"variant\": row[\"variant\"], \"prediction\": y_pred[index], \"reality\": row[\"pathogenicity\"]}, ignore_index=True)\n"
     ]
    },
    {
     "name": "stdout",
     "output_type": "stream",
     "text": [
      "TP: 2, FP: 0, TN: 0, FN: 0\n",
      "tps: 191, fps: 17, fns: 35, tns: 62\n",
      "Prediction: [1 1]. Reality: [1 1]\n",
      "Position: 557 (225/264)\n",
      "TP: 0, FP: 0, TN: 0, FN: 1\n",
      "tps: 191, fps: 17, fns: 36, tns: 62\n",
      "Prediction: [0]. Reality: [1]\n",
      "Position: 115 (226/264)\n"
     ]
    },
    {
     "name": "stderr",
     "output_type": "stream",
     "text": [
      "C:\\Users\\InbarBlech\\AppData\\Local\\Temp\\ipykernel_25004\\1756431869.py:42: FutureWarning: The frame.append method is deprecated and will be removed from pandas in a future version. Use pandas.concat instead.\n",
      "  predictions_df = predictions_df.append({\"variant\": row[\"variant\"], \"prediction\": y_pred[index], \"reality\": row[\"pathogenicity\"]}, ignore_index=True)\n",
      "C:\\Users\\InbarBlech\\AppData\\Local\\Temp\\ipykernel_25004\\1756431869.py:42: FutureWarning: The frame.append method is deprecated and will be removed from pandas in a future version. Use pandas.concat instead.\n",
      "  predictions_df = predictions_df.append({\"variant\": row[\"variant\"], \"prediction\": y_pred[index], \"reality\": row[\"pathogenicity\"]}, ignore_index=True)\n"
     ]
    },
    {
     "name": "stdout",
     "output_type": "stream",
     "text": [
      "TP: 1, FP: 0, TN: 0, FN: 0\n",
      "tps: 192, fps: 17, fns: 36, tns: 62\n",
      "Prediction: [1]. Reality: [1]\n",
      "Position: 186 (227/264)\n",
      "TP: 1, FP: 0, TN: 0, FN: 0\n",
      "tps: 193, fps: 17, fns: 36, tns: 62\n",
      "Prediction: [1]. Reality: [1]\n",
      "Position: 414 (228/264)\n"
     ]
    },
    {
     "name": "stderr",
     "output_type": "stream",
     "text": [
      "C:\\Users\\InbarBlech\\AppData\\Local\\Temp\\ipykernel_25004\\1756431869.py:42: FutureWarning: The frame.append method is deprecated and will be removed from pandas in a future version. Use pandas.concat instead.\n",
      "  predictions_df = predictions_df.append({\"variant\": row[\"variant\"], \"prediction\": y_pred[index], \"reality\": row[\"pathogenicity\"]}, ignore_index=True)\n",
      "C:\\Users\\InbarBlech\\AppData\\Local\\Temp\\ipykernel_25004\\1756431869.py:42: FutureWarning: The frame.append method is deprecated and will be removed from pandas in a future version. Use pandas.concat instead.\n",
      "  predictions_df = predictions_df.append({\"variant\": row[\"variant\"], \"prediction\": y_pred[index], \"reality\": row[\"pathogenicity\"]}, ignore_index=True)\n"
     ]
    },
    {
     "name": "stdout",
     "output_type": "stream",
     "text": [
      "TP: 1, FP: 0, TN: 0, FN: 0\n",
      "tps: 194, fps: 17, fns: 36, tns: 62\n",
      "Prediction: [1]. Reality: [1]\n",
      "Position: 375 (229/264)\n",
      "TP: 1, FP: 0, TN: 0, FN: 0\n",
      "tps: 195, fps: 17, fns: 36, tns: 62\n",
      "Prediction: [1]. Reality: [1]\n",
      "Position: 506 (230/264)\n"
     ]
    },
    {
     "name": "stderr",
     "output_type": "stream",
     "text": [
      "C:\\Users\\InbarBlech\\AppData\\Local\\Temp\\ipykernel_25004\\1756431869.py:42: FutureWarning: The frame.append method is deprecated and will be removed from pandas in a future version. Use pandas.concat instead.\n",
      "  predictions_df = predictions_df.append({\"variant\": row[\"variant\"], \"prediction\": y_pred[index], \"reality\": row[\"pathogenicity\"]}, ignore_index=True)\n",
      "C:\\Users\\InbarBlech\\AppData\\Local\\Temp\\ipykernel_25004\\1756431869.py:42: FutureWarning: The frame.append method is deprecated and will be removed from pandas in a future version. Use pandas.concat instead.\n",
      "  predictions_df = predictions_df.append({\"variant\": row[\"variant\"], \"prediction\": y_pred[index], \"reality\": row[\"pathogenicity\"]}, ignore_index=True)\n"
     ]
    },
    {
     "name": "stdout",
     "output_type": "stream",
     "text": [
      "TP: 1, FP: 0, TN: 0, FN: 0\n",
      "tps: 196, fps: 17, fns: 36, tns: 62\n",
      "Prediction: [1]. Reality: [1]\n",
      "Position: 721 (231/264)\n",
      "TP: 1, FP: 0, TN: 0, FN: 0\n",
      "tps: 197, fps: 17, fns: 36, tns: 62\n",
      "Prediction: [1]. Reality: [1]\n",
      "Position: 197 (232/264)\n"
     ]
    },
    {
     "name": "stderr",
     "output_type": "stream",
     "text": [
      "C:\\Users\\InbarBlech\\AppData\\Local\\Temp\\ipykernel_25004\\1756431869.py:42: FutureWarning: The frame.append method is deprecated and will be removed from pandas in a future version. Use pandas.concat instead.\n",
      "  predictions_df = predictions_df.append({\"variant\": row[\"variant\"], \"prediction\": y_pred[index], \"reality\": row[\"pathogenicity\"]}, ignore_index=True)\n",
      "C:\\Users\\InbarBlech\\AppData\\Local\\Temp\\ipykernel_25004\\1756431869.py:42: FutureWarning: The frame.append method is deprecated and will be removed from pandas in a future version. Use pandas.concat instead.\n",
      "  predictions_df = predictions_df.append({\"variant\": row[\"variant\"], \"prediction\": y_pred[index], \"reality\": row[\"pathogenicity\"]}, ignore_index=True)\n"
     ]
    },
    {
     "name": "stdout",
     "output_type": "stream",
     "text": [
      "TP: 1, FP: 0, TN: 0, FN: 0\n",
      "tps: 198, fps: 17, fns: 36, tns: 62\n",
      "Prediction: [1]. Reality: [1]\n",
      "Position: 81 (233/264)\n",
      "TP: 0, FP: 0, TN: 0, FN: 1\n",
      "tps: 198, fps: 17, fns: 37, tns: 62\n",
      "Prediction: [0]. Reality: [1]\n",
      "Position: 723 (234/264)\n"
     ]
    },
    {
     "name": "stderr",
     "output_type": "stream",
     "text": [
      "C:\\Users\\InbarBlech\\AppData\\Local\\Temp\\ipykernel_25004\\1756431869.py:42: FutureWarning: The frame.append method is deprecated and will be removed from pandas in a future version. Use pandas.concat instead.\n",
      "  predictions_df = predictions_df.append({\"variant\": row[\"variant\"], \"prediction\": y_pred[index], \"reality\": row[\"pathogenicity\"]}, ignore_index=True)\n",
      "C:\\Users\\InbarBlech\\AppData\\Local\\Temp\\ipykernel_25004\\1756431869.py:42: FutureWarning: The frame.append method is deprecated and will be removed from pandas in a future version. Use pandas.concat instead.\n",
      "  predictions_df = predictions_df.append({\"variant\": row[\"variant\"], \"prediction\": y_pred[index], \"reality\": row[\"pathogenicity\"]}, ignore_index=True)\n",
      "C:\\Users\\InbarBlech\\AppData\\Local\\Temp\\ipykernel_25004\\1756431869.py:42: FutureWarning: The frame.append method is deprecated and will be removed from pandas in a future version. Use pandas.concat instead.\n",
      "  predictions_df = predictions_df.append({\"variant\": row[\"variant\"], \"prediction\": y_pred[index], \"reality\": row[\"pathogenicity\"]}, ignore_index=True)\n",
      "C:\\Users\\InbarBlech\\AppData\\Local\\Temp\\ipykernel_25004\\1756431869.py:42: FutureWarning: The frame.append method is deprecated and will be removed from pandas in a future version. Use pandas.concat instead.\n",
      "  predictions_df = predictions_df.append({\"variant\": row[\"variant\"], \"prediction\": y_pred[index], \"reality\": row[\"pathogenicity\"]}, ignore_index=True)\n"
     ]
    },
    {
     "name": "stdout",
     "output_type": "stream",
     "text": [
      "TP: 3, FP: 0, TN: 0, FN: 0\n",
      "tps: 201, fps: 17, fns: 37, tns: 62\n",
      "Prediction: [1 1 1]. Reality: [1 1 1]\n",
      "Position: 668 (235/264)\n",
      "TP: 1, FP: 0, TN: 0, FN: 0\n",
      "tps: 202, fps: 17, fns: 37, tns: 62\n",
      "Prediction: [1]. Reality: [1]\n",
      "Position: 676 (236/264)\n"
     ]
    },
    {
     "name": "stderr",
     "output_type": "stream",
     "text": [
      "C:\\Users\\InbarBlech\\AppData\\Local\\Temp\\ipykernel_25004\\1756431869.py:42: FutureWarning: The frame.append method is deprecated and will be removed from pandas in a future version. Use pandas.concat instead.\n",
      "  predictions_df = predictions_df.append({\"variant\": row[\"variant\"], \"prediction\": y_pred[index], \"reality\": row[\"pathogenicity\"]}, ignore_index=True)\n",
      "C:\\Users\\InbarBlech\\AppData\\Local\\Temp\\ipykernel_25004\\1756431869.py:42: FutureWarning: The frame.append method is deprecated and will be removed from pandas in a future version. Use pandas.concat instead.\n",
      "  predictions_df = predictions_df.append({\"variant\": row[\"variant\"], \"prediction\": y_pred[index], \"reality\": row[\"pathogenicity\"]}, ignore_index=True)\n"
     ]
    },
    {
     "name": "stdout",
     "output_type": "stream",
     "text": [
      "TP: 1, FP: 0, TN: 0, FN: 0\n",
      "tps: 203, fps: 17, fns: 37, tns: 62\n",
      "Prediction: [1]. Reality: [1]\n",
      "Position: 328 (237/264)\n",
      "TP: 1, FP: 0, TN: 0, FN: 0\n",
      "tps: 204, fps: 17, fns: 37, tns: 62\n",
      "Prediction: [1]. Reality: [1]\n",
      "Position: 715 (238/264)\n"
     ]
    },
    {
     "name": "stderr",
     "output_type": "stream",
     "text": [
      "C:\\Users\\InbarBlech\\AppData\\Local\\Temp\\ipykernel_25004\\1756431869.py:42: FutureWarning: The frame.append method is deprecated and will be removed from pandas in a future version. Use pandas.concat instead.\n",
      "  predictions_df = predictions_df.append({\"variant\": row[\"variant\"], \"prediction\": y_pred[index], \"reality\": row[\"pathogenicity\"]}, ignore_index=True)\n",
      "C:\\Users\\InbarBlech\\AppData\\Local\\Temp\\ipykernel_25004\\1756431869.py:42: FutureWarning: The frame.append method is deprecated and will be removed from pandas in a future version. Use pandas.concat instead.\n",
      "  predictions_df = predictions_df.append({\"variant\": row[\"variant\"], \"prediction\": y_pred[index], \"reality\": row[\"pathogenicity\"]}, ignore_index=True)\n"
     ]
    },
    {
     "name": "stdout",
     "output_type": "stream",
     "text": [
      "TP: 0, FP: 0, TN: 0, FN: 1\n",
      "tps: 204, fps: 17, fns: 38, tns: 62\n",
      "Prediction: [0]. Reality: [1]\n",
      "Position: 704 (239/264)\n",
      "TP: 1, FP: 0, TN: 0, FN: 0\n",
      "tps: 205, fps: 17, fns: 38, tns: 62\n",
      "Prediction: [1]. Reality: [1]\n",
      "Position: 354 (240/264)\n"
     ]
    },
    {
     "name": "stderr",
     "output_type": "stream",
     "text": [
      "C:\\Users\\InbarBlech\\AppData\\Local\\Temp\\ipykernel_25004\\1756431869.py:42: FutureWarning: The frame.append method is deprecated and will be removed from pandas in a future version. Use pandas.concat instead.\n",
      "  predictions_df = predictions_df.append({\"variant\": row[\"variant\"], \"prediction\": y_pred[index], \"reality\": row[\"pathogenicity\"]}, ignore_index=True)\n",
      "C:\\Users\\InbarBlech\\AppData\\Local\\Temp\\ipykernel_25004\\1756431869.py:42: FutureWarning: The frame.append method is deprecated and will be removed from pandas in a future version. Use pandas.concat instead.\n",
      "  predictions_df = predictions_df.append({\"variant\": row[\"variant\"], \"prediction\": y_pred[index], \"reality\": row[\"pathogenicity\"]}, ignore_index=True)\n"
     ]
    },
    {
     "name": "stdout",
     "output_type": "stream",
     "text": [
      "TP: 1, FP: 0, TN: 0, FN: 0\n",
      "tps: 206, fps: 17, fns: 38, tns: 62\n",
      "Prediction: [1]. Reality: [1]\n",
      "Position: 716 (241/264)\n",
      "TP: 0, FP: 0, TN: 0, FN: 1\n",
      "tps: 206, fps: 17, fns: 39, tns: 62\n",
      "Prediction: [0]. Reality: [1]\n",
      "Position: 556 (242/264)\n"
     ]
    },
    {
     "name": "stderr",
     "output_type": "stream",
     "text": [
      "C:\\Users\\InbarBlech\\AppData\\Local\\Temp\\ipykernel_25004\\1756431869.py:42: FutureWarning: The frame.append method is deprecated and will be removed from pandas in a future version. Use pandas.concat instead.\n",
      "  predictions_df = predictions_df.append({\"variant\": row[\"variant\"], \"prediction\": y_pred[index], \"reality\": row[\"pathogenicity\"]}, ignore_index=True)\n",
      "C:\\Users\\InbarBlech\\AppData\\Local\\Temp\\ipykernel_25004\\1756431869.py:42: FutureWarning: The frame.append method is deprecated and will be removed from pandas in a future version. Use pandas.concat instead.\n",
      "  predictions_df = predictions_df.append({\"variant\": row[\"variant\"], \"prediction\": y_pred[index], \"reality\": row[\"pathogenicity\"]}, ignore_index=True)\n",
      "C:\\Users\\InbarBlech\\AppData\\Local\\Temp\\ipykernel_25004\\1756431869.py:42: FutureWarning: The frame.append method is deprecated and will be removed from pandas in a future version. Use pandas.concat instead.\n",
      "  predictions_df = predictions_df.append({\"variant\": row[\"variant\"], \"prediction\": y_pred[index], \"reality\": row[\"pathogenicity\"]}, ignore_index=True)\n",
      "C:\\Users\\InbarBlech\\AppData\\Local\\Temp\\ipykernel_25004\\1756431869.py:42: FutureWarning: The frame.append method is deprecated and will be removed from pandas in a future version. Use pandas.concat instead.\n",
      "  predictions_df = predictions_df.append({\"variant\": row[\"variant\"], \"prediction\": y_pred[index], \"reality\": row[\"pathogenicity\"]}, ignore_index=True)\n"
     ]
    },
    {
     "name": "stdout",
     "output_type": "stream",
     "text": [
      "TP: 1, FP: 0, TN: 0, FN: 1\n",
      "tps: 207, fps: 17, fns: 40, tns: 62\n",
      "Prediction: [0 1]. Reality: [1 1]\n",
      "Position: 514 (243/264)\n",
      "TP: 2, FP: 0, TN: 0, FN: 0\n",
      "tps: 209, fps: 17, fns: 40, tns: 62\n",
      "Prediction: [1 1]. Reality: [1 1]\n",
      "Position: 402 (244/264)\n"
     ]
    },
    {
     "name": "stderr",
     "output_type": "stream",
     "text": [
      "C:\\Users\\InbarBlech\\AppData\\Local\\Temp\\ipykernel_25004\\1756431869.py:42: FutureWarning: The frame.append method is deprecated and will be removed from pandas in a future version. Use pandas.concat instead.\n",
      "  predictions_df = predictions_df.append({\"variant\": row[\"variant\"], \"prediction\": y_pred[index], \"reality\": row[\"pathogenicity\"]}, ignore_index=True)\n",
      "C:\\Users\\InbarBlech\\AppData\\Local\\Temp\\ipykernel_25004\\1756431869.py:42: FutureWarning: The frame.append method is deprecated and will be removed from pandas in a future version. Use pandas.concat instead.\n",
      "  predictions_df = predictions_df.append({\"variant\": row[\"variant\"], \"prediction\": y_pred[index], \"reality\": row[\"pathogenicity\"]}, ignore_index=True)\n",
      "C:\\Users\\InbarBlech\\AppData\\Local\\Temp\\ipykernel_25004\\1756431869.py:42: FutureWarning: The frame.append method is deprecated and will be removed from pandas in a future version. Use pandas.concat instead.\n",
      "  predictions_df = predictions_df.append({\"variant\": row[\"variant\"], \"prediction\": y_pred[index], \"reality\": row[\"pathogenicity\"]}, ignore_index=True)\n"
     ]
    },
    {
     "name": "stdout",
     "output_type": "stream",
     "text": [
      "TP: 1, FP: 0, TN: 0, FN: 0\n",
      "tps: 210, fps: 17, fns: 40, tns: 62\n",
      "Prediction: [1]. Reality: [1]\n",
      "Position: 389 (245/264)\n",
      "TP: 2, FP: 0, TN: 0, FN: 0\n",
      "tps: 212, fps: 17, fns: 40, tns: 62\n",
      "Prediction: [1 1]. Reality: [1 1]\n",
      "Position: 105 (246/264)\n"
     ]
    },
    {
     "name": "stderr",
     "output_type": "stream",
     "text": [
      "C:\\Users\\InbarBlech\\AppData\\Local\\Temp\\ipykernel_25004\\1756431869.py:42: FutureWarning: The frame.append method is deprecated and will be removed from pandas in a future version. Use pandas.concat instead.\n",
      "  predictions_df = predictions_df.append({\"variant\": row[\"variant\"], \"prediction\": y_pred[index], \"reality\": row[\"pathogenicity\"]}, ignore_index=True)\n",
      "C:\\Users\\InbarBlech\\AppData\\Local\\Temp\\ipykernel_25004\\1756431869.py:42: FutureWarning: The frame.append method is deprecated and will be removed from pandas in a future version. Use pandas.concat instead.\n",
      "  predictions_df = predictions_df.append({\"variant\": row[\"variant\"], \"prediction\": y_pred[index], \"reality\": row[\"pathogenicity\"]}, ignore_index=True)\n"
     ]
    },
    {
     "name": "stdout",
     "output_type": "stream",
     "text": [
      "TP: 1, FP: 0, TN: 0, FN: 0\n",
      "tps: 213, fps: 17, fns: 40, tns: 62\n",
      "Prediction: [1]. Reality: [1]\n",
      "Position: 416 (247/264)\n",
      "TP: 1, FP: 0, TN: 0, FN: 0\n",
      "tps: 214, fps: 17, fns: 40, tns: 62\n",
      "Prediction: [1]. Reality: [1]\n",
      "Position: 775 (248/264)\n"
     ]
    },
    {
     "name": "stderr",
     "output_type": "stream",
     "text": [
      "C:\\Users\\InbarBlech\\AppData\\Local\\Temp\\ipykernel_25004\\1756431869.py:42: FutureWarning: The frame.append method is deprecated and will be removed from pandas in a future version. Use pandas.concat instead.\n",
      "  predictions_df = predictions_df.append({\"variant\": row[\"variant\"], \"prediction\": y_pred[index], \"reality\": row[\"pathogenicity\"]}, ignore_index=True)\n",
      "C:\\Users\\InbarBlech\\AppData\\Local\\Temp\\ipykernel_25004\\1756431869.py:42: FutureWarning: The frame.append method is deprecated and will be removed from pandas in a future version. Use pandas.concat instead.\n",
      "  predictions_df = predictions_df.append({\"variant\": row[\"variant\"], \"prediction\": y_pred[index], \"reality\": row[\"pathogenicity\"]}, ignore_index=True)\n"
     ]
    },
    {
     "name": "stdout",
     "output_type": "stream",
     "text": [
      "TP: 0, FP: 0, TN: 0, FN: 1\n",
      "tps: 214, fps: 17, fns: 41, tns: 62\n",
      "Prediction: [0]. Reality: [1]\n",
      "Position: 27 (249/264)\n",
      "TP: 1, FP: 0, TN: 0, FN: 0\n",
      "tps: 215, fps: 17, fns: 41, tns: 62\n",
      "Prediction: [1]. Reality: [1]\n",
      "Position: 297 (250/264)\n"
     ]
    },
    {
     "name": "stderr",
     "output_type": "stream",
     "text": [
      "C:\\Users\\InbarBlech\\AppData\\Local\\Temp\\ipykernel_25004\\1756431869.py:42: FutureWarning: The frame.append method is deprecated and will be removed from pandas in a future version. Use pandas.concat instead.\n",
      "  predictions_df = predictions_df.append({\"variant\": row[\"variant\"], \"prediction\": y_pred[index], \"reality\": row[\"pathogenicity\"]}, ignore_index=True)\n",
      "C:\\Users\\InbarBlech\\AppData\\Local\\Temp\\ipykernel_25004\\1756431869.py:42: FutureWarning: The frame.append method is deprecated and will be removed from pandas in a future version. Use pandas.concat instead.\n",
      "  predictions_df = predictions_df.append({\"variant\": row[\"variant\"], \"prediction\": y_pred[index], \"reality\": row[\"pathogenicity\"]}, ignore_index=True)\n"
     ]
    },
    {
     "name": "stdout",
     "output_type": "stream",
     "text": [
      "TP: 1, FP: 0, TN: 0, FN: 0\n",
      "tps: 216, fps: 17, fns: 41, tns: 62\n",
      "Prediction: [1]. Reality: [1]\n",
      "Position: 196 (251/264)\n",
      "TP: 1, FP: 0, TN: 0, FN: 0\n",
      "tps: 217, fps: 17, fns: 41, tns: 62\n",
      "Prediction: [1]. Reality: [1]\n",
      "Position: 665 (252/264)\n"
     ]
    },
    {
     "name": "stderr",
     "output_type": "stream",
     "text": [
      "C:\\Users\\InbarBlech\\AppData\\Local\\Temp\\ipykernel_25004\\1756431869.py:42: FutureWarning: The frame.append method is deprecated and will be removed from pandas in a future version. Use pandas.concat instead.\n",
      "  predictions_df = predictions_df.append({\"variant\": row[\"variant\"], \"prediction\": y_pred[index], \"reality\": row[\"pathogenicity\"]}, ignore_index=True)\n",
      "C:\\Users\\InbarBlech\\AppData\\Local\\Temp\\ipykernel_25004\\1756431869.py:42: FutureWarning: The frame.append method is deprecated and will be removed from pandas in a future version. Use pandas.concat instead.\n",
      "  predictions_df = predictions_df.append({\"variant\": row[\"variant\"], \"prediction\": y_pred[index], \"reality\": row[\"pathogenicity\"]}, ignore_index=True)\n"
     ]
    },
    {
     "name": "stdout",
     "output_type": "stream",
     "text": [
      "TP: 0, FP: 0, TN: 0, FN: 1\n",
      "tps: 217, fps: 17, fns: 42, tns: 62\n",
      "Prediction: [0]. Reality: [1]\n",
      "Position: 233 (253/264)\n",
      "TP: 1, FP: 0, TN: 0, FN: 0\n",
      "tps: 218, fps: 17, fns: 42, tns: 62\n",
      "Prediction: [1]. Reality: [1]\n",
      "Position: 132 (254/264)\n"
     ]
    },
    {
     "name": "stderr",
     "output_type": "stream",
     "text": [
      "C:\\Users\\InbarBlech\\AppData\\Local\\Temp\\ipykernel_25004\\1756431869.py:42: FutureWarning: The frame.append method is deprecated and will be removed from pandas in a future version. Use pandas.concat instead.\n",
      "  predictions_df = predictions_df.append({\"variant\": row[\"variant\"], \"prediction\": y_pred[index], \"reality\": row[\"pathogenicity\"]}, ignore_index=True)\n",
      "C:\\Users\\InbarBlech\\AppData\\Local\\Temp\\ipykernel_25004\\1756431869.py:42: FutureWarning: The frame.append method is deprecated and will be removed from pandas in a future version. Use pandas.concat instead.\n",
      "  predictions_df = predictions_df.append({\"variant\": row[\"variant\"], \"prediction\": y_pred[index], \"reality\": row[\"pathogenicity\"]}, ignore_index=True)\n"
     ]
    },
    {
     "name": "stdout",
     "output_type": "stream",
     "text": [
      "TP: 1, FP: 0, TN: 0, FN: 0\n",
      "tps: 219, fps: 17, fns: 42, tns: 62\n",
      "Prediction: [1]. Reality: [1]\n",
      "Position: 227 (255/264)\n",
      "TP: 1, FP: 0, TN: 0, FN: 0\n",
      "tps: 220, fps: 17, fns: 42, tns: 62\n",
      "Prediction: [1]. Reality: [1]\n",
      "Position: 215 (256/264)\n"
     ]
    },
    {
     "name": "stderr",
     "output_type": "stream",
     "text": [
      "C:\\Users\\InbarBlech\\AppData\\Local\\Temp\\ipykernel_25004\\1756431869.py:42: FutureWarning: The frame.append method is deprecated and will be removed from pandas in a future version. Use pandas.concat instead.\n",
      "  predictions_df = predictions_df.append({\"variant\": row[\"variant\"], \"prediction\": y_pred[index], \"reality\": row[\"pathogenicity\"]}, ignore_index=True)\n",
      "C:\\Users\\InbarBlech\\AppData\\Local\\Temp\\ipykernel_25004\\1756431869.py:42: FutureWarning: The frame.append method is deprecated and will be removed from pandas in a future version. Use pandas.concat instead.\n",
      "  predictions_df = predictions_df.append({\"variant\": row[\"variant\"], \"prediction\": y_pred[index], \"reality\": row[\"pathogenicity\"]}, ignore_index=True)\n"
     ]
    },
    {
     "name": "stdout",
     "output_type": "stream",
     "text": [
      "TP: 1, FP: 0, TN: 0, FN: 0\n",
      "tps: 221, fps: 17, fns: 42, tns: 62\n",
      "Prediction: [1]. Reality: [1]\n",
      "Position: 199 (257/264)\n",
      "TP: 1, FP: 0, TN: 0, FN: 0\n",
      "tps: 222, fps: 17, fns: 42, tns: 62\n",
      "Prediction: [1]. Reality: [1]\n",
      "Position: 303 (258/264)\n"
     ]
    },
    {
     "name": "stderr",
     "output_type": "stream",
     "text": [
      "C:\\Users\\InbarBlech\\AppData\\Local\\Temp\\ipykernel_25004\\1756431869.py:42: FutureWarning: The frame.append method is deprecated and will be removed from pandas in a future version. Use pandas.concat instead.\n",
      "  predictions_df = predictions_df.append({\"variant\": row[\"variant\"], \"prediction\": y_pred[index], \"reality\": row[\"pathogenicity\"]}, ignore_index=True)\n",
      "C:\\Users\\InbarBlech\\AppData\\Local\\Temp\\ipykernel_25004\\1756431869.py:42: FutureWarning: The frame.append method is deprecated and will be removed from pandas in a future version. Use pandas.concat instead.\n",
      "  predictions_df = predictions_df.append({\"variant\": row[\"variant\"], \"prediction\": y_pred[index], \"reality\": row[\"pathogenicity\"]}, ignore_index=True)\n"
     ]
    },
    {
     "name": "stdout",
     "output_type": "stream",
     "text": [
      "TP: 1, FP: 0, TN: 0, FN: 0\n",
      "tps: 223, fps: 17, fns: 42, tns: 62\n",
      "Prediction: [1]. Reality: [1]\n",
      "Position: 324 (259/264)\n",
      "TP: 0, FP: 1, TN: 0, FN: 0\n",
      "tps: 223, fps: 18, fns: 42, tns: 62\n",
      "Prediction: [1]. Reality: [0]\n",
      "Position: 455 (260/264)\n"
     ]
    },
    {
     "name": "stderr",
     "output_type": "stream",
     "text": [
      "C:\\Users\\InbarBlech\\AppData\\Local\\Temp\\ipykernel_25004\\1756431869.py:42: FutureWarning: The frame.append method is deprecated and will be removed from pandas in a future version. Use pandas.concat instead.\n",
      "  predictions_df = predictions_df.append({\"variant\": row[\"variant\"], \"prediction\": y_pred[index], \"reality\": row[\"pathogenicity\"]}, ignore_index=True)\n",
      "C:\\Users\\InbarBlech\\AppData\\Local\\Temp\\ipykernel_25004\\1756431869.py:42: FutureWarning: The frame.append method is deprecated and will be removed from pandas in a future version. Use pandas.concat instead.\n",
      "  predictions_df = predictions_df.append({\"variant\": row[\"variant\"], \"prediction\": y_pred[index], \"reality\": row[\"pathogenicity\"]}, ignore_index=True)\n"
     ]
    },
    {
     "name": "stdout",
     "output_type": "stream",
     "text": [
      "TP: 0, FP: 1, TN: 0, FN: 0\n",
      "tps: 223, fps: 19, fns: 42, tns: 62\n",
      "Prediction: [1]. Reality: [0]\n",
      "Position: 597 (261/264)\n",
      "TP: 0, FP: 1, TN: 0, FN: 0\n",
      "tps: 223, fps: 20, fns: 42, tns: 62\n",
      "Prediction: [1]. Reality: [0]\n",
      "Position: 642 (262/264)\n"
     ]
    },
    {
     "name": "stderr",
     "output_type": "stream",
     "text": [
      "C:\\Users\\InbarBlech\\AppData\\Local\\Temp\\ipykernel_25004\\1756431869.py:42: FutureWarning: The frame.append method is deprecated and will be removed from pandas in a future version. Use pandas.concat instead.\n",
      "  predictions_df = predictions_df.append({\"variant\": row[\"variant\"], \"prediction\": y_pred[index], \"reality\": row[\"pathogenicity\"]}, ignore_index=True)\n",
      "C:\\Users\\InbarBlech\\AppData\\Local\\Temp\\ipykernel_25004\\1756431869.py:42: FutureWarning: The frame.append method is deprecated and will be removed from pandas in a future version. Use pandas.concat instead.\n",
      "  predictions_df = predictions_df.append({\"variant\": row[\"variant\"], \"prediction\": y_pred[index], \"reality\": row[\"pathogenicity\"]}, ignore_index=True)\n"
     ]
    },
    {
     "name": "stdout",
     "output_type": "stream",
     "text": [
      "TP: 0, FP: 0, TN: 1, FN: 0\n",
      "tps: 223, fps: 20, fns: 42, tns: 63\n",
      "Prediction: [0]. Reality: [0]\n",
      "Position: 300 (263/264)\n",
      "TP: 0, FP: 1, TN: 0, FN: 0\n",
      "tps: 223, fps: 21, fns: 42, tns: 63\n",
      "Prediction: [1]. Reality: [0]\n",
      "Position: 357 (264/264)\n",
      "TP: 0, FP: 1, TN: 0, FN: 0\n",
      "tps: 223, fps: 22, fns: 42, tns: 63\n",
      "Prediction: [1]. Reality: [0]\n",
      "TP: 223, FP: 22, TN: 42, FN: 63\n",
      "Results for C:\\Users\\InbarBlech\\PycharmProjects\\Thesis\\gene:\n",
      "Sensitivity (Recall): 0.8415094339622642\n",
      "Specificity: 0.7411764705882353\n",
      "Precision: 0.9102040816326531\n",
      "MCC for C:\\Users\\InbarBlech\\PycharmProjects\\Thesis\\gene: 0.5452418975202469\n",
      "Accuracy: 0.8171428571428572\n"
     ]
    },
    {
     "name": "stderr",
     "output_type": "stream",
     "text": [
      "C:\\Users\\InbarBlech\\AppData\\Local\\Temp\\ipykernel_25004\\1756431869.py:42: FutureWarning: The frame.append method is deprecated and will be removed from pandas in a future version. Use pandas.concat instead.\n",
      "  predictions_df = predictions_df.append({\"variant\": row[\"variant\"], \"prediction\": y_pred[index], \"reality\": row[\"pathogenicity\"]}, ignore_index=True)\n"
     ]
    }
   ],
   "source": [
    "\n",
    "# Create list of all positions.\n",
    "positions = data[\"position\"].unique()\n",
    "tps = []\n",
    "fps = []\n",
    "fns = []\n",
    "tns = []\n",
    "errors = []\n",
    "mistakes = 0\n",
    "\n",
    "counter = 0\n",
    "\n",
    "# Initiate a dataframe that will contain the predictions for each variant.\n",
    "predictions_df = pd.DataFrame(columns=[\"variant\", \"prediction\", \"reality\"])\n",
    "\n",
    "for pos in positions:\n",
    "    counter += 1\n",
    "    print(f\"Position: {pos} ({counter}/{len(positions)})\")\n",
    "    # Create train and test sets.\n",
    "    train = data[data[\"position\"] != pos]\n",
    "    test = data[data[\"position\"] == pos]\n",
    "\n",
    "    X_test = test.drop(labels=[\"variant\", \"pathogenicity\", \"position\"], axis=1, inplace=False)\n",
    "    y_test = test[\"pathogenicity\"]\n",
    "\n",
    "    # Oversamole the train set using SMOTE.\n",
    "    X_train = train.drop(labels=[\"variant\", \"pathogenicity\", \"position\"], axis=1, inplace=False)\n",
    "    y_train = train[\"pathogenicity\"]\n",
    "    oversample = SMOTE(sampling_strategy='minority', random_state=42)\n",
    "    X_train_resampled, y_train_resampled = oversample.fit_resample(X_train, y_train)\n",
    "    # class_distribution = y_train_resampled.value_counts()\n",
    "    # print(f\"Training set: (SMOTE)\\n{class_distribution}\")\n",
    "\n",
    "    xgb_classifier = xgb.XGBClassifier(learning_rate=0.1, max_depth=3, n_estimators=100, random_state=42)\n",
    "    xgb_classifier.fit(X_train_resampled, y_train_resampled)  # Fit the model with the resampled data\n",
    "    y_pred = xgb_classifier.predict(X_test)\n",
    "    \n",
    "    # Add the predictions to the predictions dataframe.\n",
    "    # If there's more than one variant in the test set, add the predictions for all of them.if len(test) > 1:\n",
    "    for index, row in test.reset_index(drop=True).iterrows():\n",
    "        # Ensure that the index is within the bounds of y_pred\n",
    "        if index < len(y_pred):\n",
    "            predictions_df = predictions_df.append({\"variant\": row[\"variant\"], \"prediction\": y_pred[index], \"reality\": row[\"pathogenicity\"]}, ignore_index=True)\n",
    "        else:\n",
    "            # For a single variant, use the first prediction in y_pred\n",
    "            if len(y_pred) > 0:\n",
    "                predictions_df = predictions_df.append({\"variant\": test[\"variant\"].values[0], \"prediction\": y_pred[0], \"reality\": test[\"pathogenicity\"].values[0]}, ignore_index=True)\n",
    "\n",
    "    tp = sum((y_test == 1) & (y_pred == 1))\n",
    "    fp = sum((y_test == 0) & (y_pred == 1))\n",
    "    fn = sum((y_test == 1) & (y_pred == 0))\n",
    "    tn = sum((y_test == 0) & (y_pred == 0))\n",
    "\n",
    "    print(f\"TP: {tp}, FP: {fp}, TN: {tn}, FN: {fn}\")\n",
    "\n",
    "    tps.append(tp)\n",
    "    fps.append(fp)\n",
    "    fns.append(fn)\n",
    "    tns.append(tn)\n",
    "\n",
    "    print(f\"tps: {sum(tps)}, fps: {sum(fps)}, fns: {sum(fns)}, tns: {sum(tns)}\")\n",
    "\n",
    "    print(f\"Prediction: {y_pred}. Reality: {y_test.values}\")\n",
    "\n",
    "# Calculate MCC\n",
    "TP = sum(tps)\n",
    "FP = sum(fps)\n",
    "FN = sum(fns)\n",
    "TN = sum(tns)\n",
    "mcc = (TP * TN - FP * FN) / np.sqrt((TP + FP) * (TP + FN) * (TN + FP) * (TN + FN))\n",
    "\n",
    "print(f\"TP: {sum(tps)}, FP: {sum(fps)}, TN: {sum(fns)}, FN: {sum(tns)}\")\n",
    "\n",
    "sensitivity = TP / (TP + FN)\n",
    "specificity = TN / (TN + FP)\n",
    "precision = TP / (TP + FP)\n",
    "accuracy = (TP + TN) / (TP + TN + FP + FN)\n",
    "print(f\"Results for {gene}:\")\n",
    "print(f\"Sensitivity (Recall): {sensitivity}\")\n",
    "print(f\"Specificity: {specificity}\")\n",
    "print(f\"Precision: {precision}\")\n",
    "print(f\"MCC for {gene}: {mcc}\")\n",
    "print(f\"Accuracy: {accuracy}\")\n",
    "\n",
    "# Create prediction dataframe and save it to a csv file.\n",
    "predictions_df.to_csv(f\"{gene}_predictions_LOPO_XGB.csv\", index=False)"
   ],
   "metadata": {
    "collapsed": false,
    "ExecuteTime": {
     "end_time": "2023-11-22T11:04:14.723740Z",
     "start_time": "2023-11-22T11:03:27.949132100Z"
    }
   },
   "id": "f17e4bc734e606a0"
  },
  {
   "cell_type": "code",
   "execution_count": null,
   "outputs": [],
   "source": [],
   "metadata": {
    "collapsed": false
   },
   "id": "79b42aef4af36b3"
  }
 ],
 "metadata": {
  "kernelspec": {
   "display_name": "Python 3",
   "language": "python",
   "name": "python3"
  },
  "language_info": {
   "codemirror_mode": {
    "name": "ipython",
    "version": 2
   },
   "file_extension": ".py",
   "mimetype": "text/x-python",
   "name": "python",
   "nbconvert_exporter": "python",
   "pygments_lexer": "ipython2",
   "version": "2.7.6"
  }
 },
 "nbformat": 4,
 "nbformat_minor": 5
}
