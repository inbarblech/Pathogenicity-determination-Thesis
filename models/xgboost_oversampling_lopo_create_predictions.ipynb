{
 "cells": [
  {
   "cell_type": "code",
   "execution_count": 104,
   "outputs": [],
   "source": [
    "import pandas as pd\n",
    "import numpy as np\n",
    "import xgboost as xgb\n",
    "from sklearn.model_selection import train_test_split\n",
    "from sklearn.metrics import accuracy_score, classification_report, confusion_matrix, matthews_corrcoef, roc_auc_score, roc_curve\n",
    "import matplotlib.pyplot as plt\n",
    "import seaborn as sns\n",
    "from imblearn.over_sampling import SMOTE\n",
    "from sklearn.discriminant_analysis import LinearDiscriminantAnalysis"
   ],
   "metadata": {
    "collapsed": false,
    "ExecuteTime": {
     "end_time": "2023-11-22T11:03:25.835022500Z",
     "start_time": "2023-11-22T11:03:25.787550500Z"
    }
   },
   "id": "afd739d50c18f101"
  },
  {
   "cell_type": "code",
   "execution_count": 105,
   "outputs": [
    {
     "data": {
      "text/plain": "        gene variant pathogenicity uniprot_id  stability_WT  stability_MUT  \\\n0    SLC26A4     G5R        benign     O43511       212.020        211.846   \n1    SLC26A4     G6S        benign     O43511       212.020        212.039   \n2    SLC26A4     S8L        benign     O43511       210.619        210.978   \n3    SLC26A4    S17R        benign     O43511       211.182        212.727   \n4    SLC26A4    M21V        benign     O43511       211.925        211.821   \n..       ...     ...           ...        ...           ...            ...   \n345  SLC26A4   S642P        benign        NaN       211.795        213.213   \n346  SLC26A4   G740S        benign        NaN       211.894        211.168   \n347  SLC26A4     G6V        benign        NaN       212.020        212.059   \n348  SLC26A4   I300L        benign        NaN       208.623        207.343   \n349  SLC26A4   A357T        benign        NaN       209.711        210.315   \n\n     blosum  hydrophobicity_WT  hydrophobicity_MUT  volume_WT  ...  oda_MUT  \\\n0        -2               -0.4                -4.5       60.1  ...     3.71   \n1         0               -0.4                -0.8       60.1  ...     1.69   \n2        -2               -0.8                 3.8       89.0  ...    -6.48   \n3        -1               -0.8                -4.5       89.0  ...   -15.41   \n4         1                1.9                 4.2      162.9  ...   -22.06   \n..      ...                ...                 ...        ...  ...      ...   \n345      -1               -0.8                -1.6       89.0  ...    -1.06   \n346       0               -0.4                -0.8       60.1  ...     0.70   \n347      -3               -0.4                 4.2       60.1  ...    -1.75   \n348       2                4.5                 3.8      166.7  ...   -34.76   \n349       0                1.8                -0.7       88.6  ...     0.00   \n\n     sasa_WT sasa_MUT    RSA_WT   RSA_MUT  oda_delta sasa_delta   pssm  \\\n0      76.60   198.67  0.789691  0.749698       3.52     122.07  3.169   \n1      72.69   108.13  0.749381  0.756154       1.71      35.44  2.239   \n2     101.96   149.01  0.713007  0.780157      -7.14      47.05  2.329   \n3     107.43   198.47  0.751259  0.748943       1.78      91.04  2.589   \n4     176.08   127.29  0.867389  0.771455      -6.77     -48.79 -0.901   \n..       ...      ...       ...       ...        ...        ...    ...   \n345    56.04    71.40  0.391888  0.463636      -1.04      15.36  3.696   \n346    66.51    93.78  0.685670  0.655804       0.82      27.27 -3.738   \n347    72.69   139.56  0.749381  0.845818      -1.73      66.87  2.239   \n348    72.14    80.09  0.369949  0.419319       2.44       7.95  4.521   \n349     0.00     0.00  0.000000  0.000000       0.00       0.00  4.762   \n\n     entropy  position  \n0      2.538         5  \n1      2.903         6  \n2      3.161         8  \n3      2.106        17  \n4      2.771        21  \n..       ...       ...  \n345    2.115       642  \n346    1.271       740  \n347    2.903         6  \n348    0.166       300  \n349    0.324       357  \n\n[350 rows x 32 columns]",
      "text/html": "<div>\n<style scoped>\n    .dataframe tbody tr th:only-of-type {\n        vertical-align: middle;\n    }\n\n    .dataframe tbody tr th {\n        vertical-align: top;\n    }\n\n    .dataframe thead th {\n        text-align: right;\n    }\n</style>\n<table border=\"1\" class=\"dataframe\">\n  <thead>\n    <tr style=\"text-align: right;\">\n      <th></th>\n      <th>gene</th>\n      <th>variant</th>\n      <th>pathogenicity</th>\n      <th>uniprot_id</th>\n      <th>stability_WT</th>\n      <th>stability_MUT</th>\n      <th>blosum</th>\n      <th>hydrophobicity_WT</th>\n      <th>hydrophobicity_MUT</th>\n      <th>volume_WT</th>\n      <th>...</th>\n      <th>oda_MUT</th>\n      <th>sasa_WT</th>\n      <th>sasa_MUT</th>\n      <th>RSA_WT</th>\n      <th>RSA_MUT</th>\n      <th>oda_delta</th>\n      <th>sasa_delta</th>\n      <th>pssm</th>\n      <th>entropy</th>\n      <th>position</th>\n    </tr>\n  </thead>\n  <tbody>\n    <tr>\n      <th>0</th>\n      <td>SLC26A4</td>\n      <td>G5R</td>\n      <td>benign</td>\n      <td>O43511</td>\n      <td>212.020</td>\n      <td>211.846</td>\n      <td>-2</td>\n      <td>-0.4</td>\n      <td>-4.5</td>\n      <td>60.1</td>\n      <td>...</td>\n      <td>3.71</td>\n      <td>76.60</td>\n      <td>198.67</td>\n      <td>0.789691</td>\n      <td>0.749698</td>\n      <td>3.52</td>\n      <td>122.07</td>\n      <td>3.169</td>\n      <td>2.538</td>\n      <td>5</td>\n    </tr>\n    <tr>\n      <th>1</th>\n      <td>SLC26A4</td>\n      <td>G6S</td>\n      <td>benign</td>\n      <td>O43511</td>\n      <td>212.020</td>\n      <td>212.039</td>\n      <td>0</td>\n      <td>-0.4</td>\n      <td>-0.8</td>\n      <td>60.1</td>\n      <td>...</td>\n      <td>1.69</td>\n      <td>72.69</td>\n      <td>108.13</td>\n      <td>0.749381</td>\n      <td>0.756154</td>\n      <td>1.71</td>\n      <td>35.44</td>\n      <td>2.239</td>\n      <td>2.903</td>\n      <td>6</td>\n    </tr>\n    <tr>\n      <th>2</th>\n      <td>SLC26A4</td>\n      <td>S8L</td>\n      <td>benign</td>\n      <td>O43511</td>\n      <td>210.619</td>\n      <td>210.978</td>\n      <td>-2</td>\n      <td>-0.8</td>\n      <td>3.8</td>\n      <td>89.0</td>\n      <td>...</td>\n      <td>-6.48</td>\n      <td>101.96</td>\n      <td>149.01</td>\n      <td>0.713007</td>\n      <td>0.780157</td>\n      <td>-7.14</td>\n      <td>47.05</td>\n      <td>2.329</td>\n      <td>3.161</td>\n      <td>8</td>\n    </tr>\n    <tr>\n      <th>3</th>\n      <td>SLC26A4</td>\n      <td>S17R</td>\n      <td>benign</td>\n      <td>O43511</td>\n      <td>211.182</td>\n      <td>212.727</td>\n      <td>-1</td>\n      <td>-0.8</td>\n      <td>-4.5</td>\n      <td>89.0</td>\n      <td>...</td>\n      <td>-15.41</td>\n      <td>107.43</td>\n      <td>198.47</td>\n      <td>0.751259</td>\n      <td>0.748943</td>\n      <td>1.78</td>\n      <td>91.04</td>\n      <td>2.589</td>\n      <td>2.106</td>\n      <td>17</td>\n    </tr>\n    <tr>\n      <th>4</th>\n      <td>SLC26A4</td>\n      <td>M21V</td>\n      <td>benign</td>\n      <td>O43511</td>\n      <td>211.925</td>\n      <td>211.821</td>\n      <td>1</td>\n      <td>1.9</td>\n      <td>4.2</td>\n      <td>162.9</td>\n      <td>...</td>\n      <td>-22.06</td>\n      <td>176.08</td>\n      <td>127.29</td>\n      <td>0.867389</td>\n      <td>0.771455</td>\n      <td>-6.77</td>\n      <td>-48.79</td>\n      <td>-0.901</td>\n      <td>2.771</td>\n      <td>21</td>\n    </tr>\n    <tr>\n      <th>...</th>\n      <td>...</td>\n      <td>...</td>\n      <td>...</td>\n      <td>...</td>\n      <td>...</td>\n      <td>...</td>\n      <td>...</td>\n      <td>...</td>\n      <td>...</td>\n      <td>...</td>\n      <td>...</td>\n      <td>...</td>\n      <td>...</td>\n      <td>...</td>\n      <td>...</td>\n      <td>...</td>\n      <td>...</td>\n      <td>...</td>\n      <td>...</td>\n      <td>...</td>\n      <td>...</td>\n    </tr>\n    <tr>\n      <th>345</th>\n      <td>SLC26A4</td>\n      <td>S642P</td>\n      <td>benign</td>\n      <td>NaN</td>\n      <td>211.795</td>\n      <td>213.213</td>\n      <td>-1</td>\n      <td>-0.8</td>\n      <td>-1.6</td>\n      <td>89.0</td>\n      <td>...</td>\n      <td>-1.06</td>\n      <td>56.04</td>\n      <td>71.40</td>\n      <td>0.391888</td>\n      <td>0.463636</td>\n      <td>-1.04</td>\n      <td>15.36</td>\n      <td>3.696</td>\n      <td>2.115</td>\n      <td>642</td>\n    </tr>\n    <tr>\n      <th>346</th>\n      <td>SLC26A4</td>\n      <td>G740S</td>\n      <td>benign</td>\n      <td>NaN</td>\n      <td>211.894</td>\n      <td>211.168</td>\n      <td>0</td>\n      <td>-0.4</td>\n      <td>-0.8</td>\n      <td>60.1</td>\n      <td>...</td>\n      <td>0.70</td>\n      <td>66.51</td>\n      <td>93.78</td>\n      <td>0.685670</td>\n      <td>0.655804</td>\n      <td>0.82</td>\n      <td>27.27</td>\n      <td>-3.738</td>\n      <td>1.271</td>\n      <td>740</td>\n    </tr>\n    <tr>\n      <th>347</th>\n      <td>SLC26A4</td>\n      <td>G6V</td>\n      <td>benign</td>\n      <td>NaN</td>\n      <td>212.020</td>\n      <td>212.059</td>\n      <td>-3</td>\n      <td>-0.4</td>\n      <td>4.2</td>\n      <td>60.1</td>\n      <td>...</td>\n      <td>-1.75</td>\n      <td>72.69</td>\n      <td>139.56</td>\n      <td>0.749381</td>\n      <td>0.845818</td>\n      <td>-1.73</td>\n      <td>66.87</td>\n      <td>2.239</td>\n      <td>2.903</td>\n      <td>6</td>\n    </tr>\n    <tr>\n      <th>348</th>\n      <td>SLC26A4</td>\n      <td>I300L</td>\n      <td>benign</td>\n      <td>NaN</td>\n      <td>208.623</td>\n      <td>207.343</td>\n      <td>2</td>\n      <td>4.5</td>\n      <td>3.8</td>\n      <td>166.7</td>\n      <td>...</td>\n      <td>-34.76</td>\n      <td>72.14</td>\n      <td>80.09</td>\n      <td>0.369949</td>\n      <td>0.419319</td>\n      <td>2.44</td>\n      <td>7.95</td>\n      <td>4.521</td>\n      <td>0.166</td>\n      <td>300</td>\n    </tr>\n    <tr>\n      <th>349</th>\n      <td>SLC26A4</td>\n      <td>A357T</td>\n      <td>benign</td>\n      <td>NaN</td>\n      <td>209.711</td>\n      <td>210.315</td>\n      <td>0</td>\n      <td>1.8</td>\n      <td>-0.7</td>\n      <td>88.6</td>\n      <td>...</td>\n      <td>0.00</td>\n      <td>0.00</td>\n      <td>0.00</td>\n      <td>0.000000</td>\n      <td>0.000000</td>\n      <td>0.00</td>\n      <td>0.00</td>\n      <td>4.762</td>\n      <td>0.324</td>\n      <td>357</td>\n    </tr>\n  </tbody>\n</table>\n<p>350 rows × 32 columns</p>\n</div>"
     },
     "execution_count": 105,
     "metadata": {},
     "output_type": "execute_result"
    }
   ],
   "source": [
    "filename = ('C:\\\\Users\\\\InbarBlech\\\\PycharmProjects\\\\Thesis\\\\gene_specific_df\\\\SLC26A4_with_position.csv')\n",
    "data = pd.read_csv(f\"{filename}\")\n",
    "data.head(10)\n",
    "dot_index = filename.index('_')\n",
    "gene = filename[:dot_index]\n",
    "if gene == \"combined\" or gene == \"combined_with_source\":\n",
    "    gene = \"7 genes\"\n",
    "if gene == \"features\":\n",
    "    gene = \"190 genes\"\n",
    "    \n",
    "data"
   ],
   "metadata": {
    "collapsed": false,
    "ExecuteTime": {
     "end_time": "2023-11-22T11:03:26.288861700Z",
     "start_time": "2023-11-22T11:03:26.213800600Z"
    }
   },
   "id": "da024e48ed056208"
  },
  {
   "cell_type": "code",
   "execution_count": 106,
   "outputs": [
    {
     "data": {
      "text/plain": "    variant  pathogenicity  blosum  plddt_residue  stability_delta  \\\n0       G5R              0      -2          42.05           -0.174   \n1       G6S              0       0          43.98            0.019   \n2       S8L              0      -2          50.88            0.359   \n3      S17R              0      -1          57.11            1.545   \n4      M21V              0       1          85.90           -0.104   \n..      ...            ...     ...            ...              ...   \n345   S642P              0      -1          69.80            1.418   \n346   G740S              0       0          41.01           -0.726   \n347     G6V              0      -3          43.98            0.039   \n348   I300L              0       2          80.13           -1.280   \n349   A357T              0       0          92.16            0.604   \n\n     hydrophobicity_delta  volume_delta    RSA_WT  oda_delta  sasa_delta  \\\n0                    -4.1         113.3  0.789691       3.52      122.07   \n1                    -0.4          28.9  0.749381       1.71       35.44   \n2                     4.6          77.7  0.713007      -7.14       47.05   \n3                    -3.7          84.4  0.751259       1.78       91.04   \n4                     2.3         -22.9  0.867389      -6.77      -48.79   \n..                    ...           ...       ...        ...         ...   \n345                  -0.8          23.7  0.391888      -1.04       15.36   \n346                  -0.4          28.9  0.685670       0.82       27.27   \n347                   4.6          79.9  0.749381      -1.73       66.87   \n348                  -0.7           0.0  0.369949       2.44        7.95   \n349                  -2.5          27.5  0.000000       0.00        0.00   \n\n      pssm  entropy  position  secondary_structure_Loop  \n0    3.169    2.538         5                         1  \n1    2.239    2.903         6                         1  \n2    2.329    3.161         8                         1  \n3    2.589    2.106        17                         1  \n4   -0.901    2.771        21                         1  \n..     ...      ...       ...                       ...  \n345  3.696    2.115       642                         1  \n346 -3.738    1.271       740                         1  \n347  2.239    2.903         6                         1  \n348  4.521    0.166       300                         1  \n349  4.762    0.324       357                         1  \n\n[350 rows x 14 columns]",
      "text/html": "<div>\n<style scoped>\n    .dataframe tbody tr th:only-of-type {\n        vertical-align: middle;\n    }\n\n    .dataframe tbody tr th {\n        vertical-align: top;\n    }\n\n    .dataframe thead th {\n        text-align: right;\n    }\n</style>\n<table border=\"1\" class=\"dataframe\">\n  <thead>\n    <tr style=\"text-align: right;\">\n      <th></th>\n      <th>variant</th>\n      <th>pathogenicity</th>\n      <th>blosum</th>\n      <th>plddt_residue</th>\n      <th>stability_delta</th>\n      <th>hydrophobicity_delta</th>\n      <th>volume_delta</th>\n      <th>RSA_WT</th>\n      <th>oda_delta</th>\n      <th>sasa_delta</th>\n      <th>pssm</th>\n      <th>entropy</th>\n      <th>position</th>\n      <th>secondary_structure_Loop</th>\n    </tr>\n  </thead>\n  <tbody>\n    <tr>\n      <th>0</th>\n      <td>G5R</td>\n      <td>0</td>\n      <td>-2</td>\n      <td>42.05</td>\n      <td>-0.174</td>\n      <td>-4.1</td>\n      <td>113.3</td>\n      <td>0.789691</td>\n      <td>3.52</td>\n      <td>122.07</td>\n      <td>3.169</td>\n      <td>2.538</td>\n      <td>5</td>\n      <td>1</td>\n    </tr>\n    <tr>\n      <th>1</th>\n      <td>G6S</td>\n      <td>0</td>\n      <td>0</td>\n      <td>43.98</td>\n      <td>0.019</td>\n      <td>-0.4</td>\n      <td>28.9</td>\n      <td>0.749381</td>\n      <td>1.71</td>\n      <td>35.44</td>\n      <td>2.239</td>\n      <td>2.903</td>\n      <td>6</td>\n      <td>1</td>\n    </tr>\n    <tr>\n      <th>2</th>\n      <td>S8L</td>\n      <td>0</td>\n      <td>-2</td>\n      <td>50.88</td>\n      <td>0.359</td>\n      <td>4.6</td>\n      <td>77.7</td>\n      <td>0.713007</td>\n      <td>-7.14</td>\n      <td>47.05</td>\n      <td>2.329</td>\n      <td>3.161</td>\n      <td>8</td>\n      <td>1</td>\n    </tr>\n    <tr>\n      <th>3</th>\n      <td>S17R</td>\n      <td>0</td>\n      <td>-1</td>\n      <td>57.11</td>\n      <td>1.545</td>\n      <td>-3.7</td>\n      <td>84.4</td>\n      <td>0.751259</td>\n      <td>1.78</td>\n      <td>91.04</td>\n      <td>2.589</td>\n      <td>2.106</td>\n      <td>17</td>\n      <td>1</td>\n    </tr>\n    <tr>\n      <th>4</th>\n      <td>M21V</td>\n      <td>0</td>\n      <td>1</td>\n      <td>85.90</td>\n      <td>-0.104</td>\n      <td>2.3</td>\n      <td>-22.9</td>\n      <td>0.867389</td>\n      <td>-6.77</td>\n      <td>-48.79</td>\n      <td>-0.901</td>\n      <td>2.771</td>\n      <td>21</td>\n      <td>1</td>\n    </tr>\n    <tr>\n      <th>...</th>\n      <td>...</td>\n      <td>...</td>\n      <td>...</td>\n      <td>...</td>\n      <td>...</td>\n      <td>...</td>\n      <td>...</td>\n      <td>...</td>\n      <td>...</td>\n      <td>...</td>\n      <td>...</td>\n      <td>...</td>\n      <td>...</td>\n      <td>...</td>\n    </tr>\n    <tr>\n      <th>345</th>\n      <td>S642P</td>\n      <td>0</td>\n      <td>-1</td>\n      <td>69.80</td>\n      <td>1.418</td>\n      <td>-0.8</td>\n      <td>23.7</td>\n      <td>0.391888</td>\n      <td>-1.04</td>\n      <td>15.36</td>\n      <td>3.696</td>\n      <td>2.115</td>\n      <td>642</td>\n      <td>1</td>\n    </tr>\n    <tr>\n      <th>346</th>\n      <td>G740S</td>\n      <td>0</td>\n      <td>0</td>\n      <td>41.01</td>\n      <td>-0.726</td>\n      <td>-0.4</td>\n      <td>28.9</td>\n      <td>0.685670</td>\n      <td>0.82</td>\n      <td>27.27</td>\n      <td>-3.738</td>\n      <td>1.271</td>\n      <td>740</td>\n      <td>1</td>\n    </tr>\n    <tr>\n      <th>347</th>\n      <td>G6V</td>\n      <td>0</td>\n      <td>-3</td>\n      <td>43.98</td>\n      <td>0.039</td>\n      <td>4.6</td>\n      <td>79.9</td>\n      <td>0.749381</td>\n      <td>-1.73</td>\n      <td>66.87</td>\n      <td>2.239</td>\n      <td>2.903</td>\n      <td>6</td>\n      <td>1</td>\n    </tr>\n    <tr>\n      <th>348</th>\n      <td>I300L</td>\n      <td>0</td>\n      <td>2</td>\n      <td>80.13</td>\n      <td>-1.280</td>\n      <td>-0.7</td>\n      <td>0.0</td>\n      <td>0.369949</td>\n      <td>2.44</td>\n      <td>7.95</td>\n      <td>4.521</td>\n      <td>0.166</td>\n      <td>300</td>\n      <td>1</td>\n    </tr>\n    <tr>\n      <th>349</th>\n      <td>A357T</td>\n      <td>0</td>\n      <td>0</td>\n      <td>92.16</td>\n      <td>0.604</td>\n      <td>-2.5</td>\n      <td>27.5</td>\n      <td>0.000000</td>\n      <td>0.00</td>\n      <td>0.00</td>\n      <td>4.762</td>\n      <td>0.324</td>\n      <td>357</td>\n      <td>1</td>\n    </tr>\n  </tbody>\n</table>\n<p>350 rows × 14 columns</p>\n</div>"
     },
     "execution_count": 106,
     "metadata": {},
     "output_type": "execute_result"
    }
   ],
   "source": [
    "\n",
    "data = pd.get_dummies(data, columns=[\"secondary_structure\"])\n",
    "\n",
    "mapping = {\"benign\": 0, \"pathogenic\": 1}\n",
    "data[\"pathogenicity\"] = data[\"pathogenicity\"].map(mapping)\n",
    "\n",
    "data = data.drop(\n",
    "    labels=[\"uniprot_id\", \"stability_WT\", \"stability_MUT\", \"hydrophobicity_WT\", \"hydrophobicity_MUT\", \"volume_WT\",\n",
    "            \"volume_MUT\", \"sequence_length\", \"oda_MUT\", \"oda_WT\", \"sasa_WT\", \"sasa_MUT\", \"RSA_MUT\", \"gene\",\n",
    "            \"protein_contain_transmembrane\", \"is_residue_transmembranal\", \"aa_WT\", \"aa_MUT\"], axis=1, inplace=False)\n",
    "\n",
    "data"
   ],
   "metadata": {
    "collapsed": false,
    "ExecuteTime": {
     "end_time": "2023-11-22T11:03:26.784818700Z",
     "start_time": "2023-11-22T11:03:26.674485500Z"
    }
   },
   "id": "c52a56816aec221b"
  },
  {
   "cell_type": "code",
   "execution_count": 107,
   "outputs": [],
   "source": [
    "# structural_features = [\"oda_delta\", \"stability_delta\", \"secondary_structure_Beta strand\", \"secondary_structure_Helix\", \"secondary_structure_Loop\", \"sasa_delta\", \"RSA_WT\"]\n",
    "# # Drop structural features\n",
    "# data = data.drop(labels=[\"stability_delta\"], axis=1, inplace=False)"
   ],
   "metadata": {
    "collapsed": false,
    "ExecuteTime": {
     "end_time": "2023-11-22T11:03:27.122392900Z",
     "start_time": "2023-11-22T11:03:27.090118800Z"
    }
   },
   "id": "365a5d18d31b0d9c"
  },
  {
   "cell_type": "code",
   "execution_count": 1,
   "outputs": [
    {
     "ename": "NameError",
     "evalue": "name 'data' is not defined",
     "output_type": "error",
     "traceback": [
      "\u001B[1;31m---------------------------------------------------------------------------\u001B[0m",
      "\u001B[1;31mNameError\u001B[0m                                 Traceback (most recent call last)",
      "Cell \u001B[1;32mIn[1], line 3\u001B[0m\n\u001B[0;32m      1\u001B[0m \u001B[38;5;66;03m# pydev_debug_cell\u001B[39;00m\n\u001B[0;32m      2\u001B[0m \u001B[38;5;66;03m# Create list of all positions.\u001B[39;00m\n\u001B[1;32m----> 3\u001B[0m positions \u001B[38;5;241m=\u001B[39m \u001B[43mdata\u001B[49m[\u001B[38;5;124m\"\u001B[39m\u001B[38;5;124mposition\u001B[39m\u001B[38;5;124m\"\u001B[39m]\u001B[38;5;241m.\u001B[39munique()\n\u001B[0;32m      4\u001B[0m tps \u001B[38;5;241m=\u001B[39m []\n\u001B[0;32m      5\u001B[0m fps \u001B[38;5;241m=\u001B[39m []\n",
      "\u001B[1;31mNameError\u001B[0m: name 'data' is not defined"
     ]
    }
   ],
   "source": [
    "\n",
    "# Create list of all positions.\n",
    "positions = data[\"position\"].unique()\n",
    "tps = []\n",
    "fps = []\n",
    "fns = []\n",
    "tns = []\n",
    "errors = []\n",
    "mistakes = 0\n",
    "\n",
    "counter = 0\n",
    "\n",
    "# Initiate a dataframe that will contain the predictions for each variant.\n",
    "predictions_df = pd.DataFrame(columns=[\"variant\", \"prediction\", \"reality\"])\n",
    "\n",
    "for pos in positions:\n",
    "    counter += 1\n",
    "    print(f\"Position: {pos} ({counter}/{len(positions)})\")\n",
    "    # Create train and test sets.\n",
    "    train = data[data[\"position\"] != pos]\n",
    "    test = data[data[\"position\"] == pos]\n",
    "\n",
    "    X_test = test.drop(labels=[\"variant\", \"pathogenicity\", \"position\"], axis=1, inplace=False)\n",
    "    y_test = test[\"pathogenicity\"]\n",
    "\n",
    "    # Oversamole the train set using SMOTE.\n",
    "    X_train = train.drop(labels=[\"variant\", \"pathogenicity\", \"position\"], axis=1, inplace=False)\n",
    "    y_train = train[\"pathogenicity\"]\n",
    "    oversample = SMOTE(sampling_strategy='minority', random_state=42)\n",
    "    X_train_resampled, y_train_resampled = oversample.fit_resample(X_train, y_train)\n",
    "    # class_distribution = y_train_resampled.value_counts()\n",
    "    # print(f\"Training set: (SMOTE)\\n{class_distribution}\")\n",
    "\n",
    "    xgb_classifier = xgb.XGBClassifier(learning_rate=0.1, max_depth=3, n_estimators=100, random_state=42)\n",
    "    xgb_classifier.fit(X_train_resampled, y_train_resampled)  # Fit the model with the resampled data\n",
    "    y_pred = xgb_classifier.predict(X_test)\n",
    "    \n",
    "    # Add the predictions to the predictions dataframe.\n",
    "    # If there's more than one variant in the test set, add the predictions for all of them.if len(test) > 1:\n",
    "    for index, row in test.reset_index(drop=True).iterrows():\n",
    "        # Ensure that the index is within the bounds of y_pred\n",
    "        if index < len(y_pred):\n",
    "            predictions_df = predictions_df.append({\"variant\": row[\"variant\"], \"prediction\": y_pred[index], \"reality\": row[\"pathogenicity\"]}, ignore_index=True)\n",
    "        else:\n",
    "            # For a single variant, use the first prediction in y_pred\n",
    "            if len(y_pred) > 0:\n",
    "                predictions_df = predictions_df.append({\"variant\": test[\"variant\"].values[0], \"prediction\": y_pred[0], \"reality\": test[\"pathogenicity\"].values[0]}, ignore_index=True)\n",
    "\n",
    "    tp = sum((y_test == 1) & (y_pred == 1))\n",
    "    fp = sum((y_test == 0) & (y_pred == 1))\n",
    "    fn = sum((y_test == 1) & (y_pred == 0))\n",
    "    tn = sum((y_test == 0) & (y_pred == 0))\n",
    "\n",
    "    print(f\"TP: {tp}, FP: {fp}, TN: {tn}, FN: {fn}\")\n",
    "\n",
    "    tps.append(tp)\n",
    "    fps.append(fp)\n",
    "    fns.append(fn)\n",
    "    tns.append(tn)\n",
    "\n",
    "    print(f\"tps: {sum(tps)}, fps: {sum(fps)}, fns: {sum(fns)}, tns: {sum(tns)}\")\n",
    "\n",
    "    print(f\"Prediction: {y_pred}. Reality: {y_test.values}\")\n",
    "\n",
    "# Calculate MCC\n",
    "TP = sum(tps)\n",
    "FP = sum(fps)\n",
    "FN = sum(fns)\n",
    "TN = sum(tns)\n",
    "mcc = (TP * TN - FP * FN) / np.sqrt((TP + FP) * (TP + FN) * (TN + FP) * (TN + FN))\n",
    "\n",
    "print(f\"TP: {sum(tps)}, FP: {sum(fps)}, TN: {sum(fns)}, FN: {sum(tns)}\")\n",
    "\n",
    "sensitivity = TP / (TP + FN)\n",
    "specificity = TN / (TN + FP)\n",
    "precision = TP / (TP + FP)\n",
    "accuracy = (TP + TN) / (TP + TN + FP + FN)\n",
    "print(f\"Results for {gene}:\")\n",
    "print(f\"Sensitivity (Recall): {sensitivity}\")\n",
    "print(f\"Specificity: {specificity}\")\n",
    "print(f\"Precision: {precision}\")\n",
    "print(f\"MCC for {gene}: {mcc}\")\n",
    "print(f\"Accuracy: {accuracy}\")\n",
    "\n",
    "# Create prediction dataframe and save it to a csv file.\n",
    "predictions_df.to_csv(f\"{gene}_predictions_LOPO_XGB.csv\", index=False)"
   ],
   "metadata": {
    "collapsed": false,
    "ExecuteTime": {
     "end_time": "2024-02-06T13:04:55.092110500Z",
     "start_time": "2024-02-06T13:04:53.825348700Z"
    }
   },
   "id": "f17e4bc734e606a0"
  },
  {
   "cell_type": "code",
   "execution_count": null,
   "outputs": [],
   "source": [],
   "metadata": {
    "collapsed": false
   },
   "id": "79b42aef4af36b3"
  }
 ],
 "metadata": {
  "kernelspec": {
   "display_name": "Python 3",
   "language": "python",
   "name": "python3"
  },
  "language_info": {
   "codemirror_mode": {
    "name": "ipython",
    "version": 2
   },
   "file_extension": ".py",
   "mimetype": "text/x-python",
   "name": "python",
   "nbconvert_exporter": "python",
   "pygments_lexer": "ipython2",
   "version": "2.7.6"
  }
 },
 "nbformat": 4,
 "nbformat_minor": 5
}
