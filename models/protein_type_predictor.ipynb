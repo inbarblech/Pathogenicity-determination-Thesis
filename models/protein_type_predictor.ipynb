{
 "cells": [
  {
   "cell_type": "code",
   "execution_count": 82,
   "outputs": [],
   "source": [
    "import pandas as pd\n",
    "import numpy as np\n",
    "import xgboost as xgb\n",
    "from sklearn.model_selection import train_test_split\n",
    "from sklearn.metrics import accuracy_score, classification_report, confusion_matrix, matthews_corrcoef, roc_auc_score, roc_curve\n",
    "import matplotlib.pyplot as plt\n",
    "import seaborn as sns\n",
    "from imblearn.over_sampling import SMOTE\n",
    "from sklearn.discriminant_analysis import LinearDiscriminantAnalysis"
   ],
   "metadata": {
    "collapsed": false,
    "ExecuteTime": {
     "end_time": "2024-02-20T13:29:58.358783700Z",
     "start_time": "2024-02-20T13:29:58.311119200Z"
    }
   },
   "id": "afd739d50c18f101"
  },
  {
   "cell_type": "code",
   "execution_count": 83,
   "outputs": [
    {
     "data": {
      "text/plain": "         gene variant  stability_WT  stability_MUT  stability_delta  \\\n0      POLR1D   L111P       55.4166        59.2536           3.8370   \n1      POLR1D    T50I       52.5256        53.9242           1.3986   \n2      POLR1D    L55V       53.5827        56.1836           2.6009   \n3      POLR1D    G99S       53.3779        55.2641           1.8862   \n4      POLR1D    C68W       55.1261        90.0561          34.9300   \n...       ...     ...           ...            ...              ...   \n5469     PJVK   G292R      211.5760       215.0030           3.4270   \n5470     PJVK   R265C      211.4450       211.7910           0.3460   \n5471     PJVK   M260V      209.8750       211.5100           1.6350   \n5472     PJVK   R265G      211.4450       211.7550           0.3100   \n5473  SLC4A11   N150S      447.1780       445.8990          -1.2790   \n\n     pathogenicity  Absolute value of delta  blosum  hydrophobicity_WT  \\\n0       pathogenic                   3.8370      -3                3.8   \n1       pathogenic                   1.3986      -1               -0.7   \n2       pathogenic                   2.6009       1                3.8   \n3       pathogenic                   1.8862       0               -0.4   \n4       pathogenic                  34.9300      -2                2.5   \n...            ...                      ...     ...                ...   \n5469        benign                   3.4270      -2               -0.4   \n5470        benign                   0.3460      -3               -4.5   \n5471        benign                   1.6350       1                1.9   \n5472        benign                   0.3100      -2               -4.5   \n5473        benign                   1.2790       1               -3.5   \n\n      hydrophobicity_MUT  ...  sasa_delta  secondary_structure  \\\n0                   -1.6  ...      -26.79                Helix   \n1                    4.5  ...       37.23                Helix   \n2                    4.2  ...       -0.01                Helix   \n3                   -0.8  ...        2.56                Helix   \n4                   -0.9  ...        0.41          Beta strand   \n...                  ...  ...         ...                  ...   \n5469                -4.5  ...      146.47                 Loop   \n5470                 2.5  ...     -110.68                 Loop   \n5471                 4.2  ...      -31.74                 Loop   \n5472                -0.4  ...     -154.07                 Loop   \n5473                -0.8  ...      -37.83                 Loop   \n\n      sequence_length  protein_contain_transmembrane  \\\n0                 133                          False   \n1                 133                          False   \n2                 133                          False   \n3                 133                          False   \n4                 133                          False   \n...               ...                            ...   \n5469              352                          False   \n5470              352                          False   \n5471              352                          False   \n5472              352                          False   \n5473              875                           True   \n\n      is_residue_transmembranal  aa_WT  aa_MUT    RSA_WT   RSA_MUT  source  \n0                         False      L       P  0.445445  0.378506     dvd  \n1                         False      T       I  0.653988  0.737590     dvd  \n2                         False      L       V  0.000052  0.000000     dvd  \n3                         False      G       S  0.011237  0.025524     dvd  \n4                         False      C       W  0.002838  0.003144     dvd  \n...                         ...    ...     ...       ...       ...     ...  \n5469                      False      G       R  0.759278  0.830642     dvd  \n5470                      False      R       C  0.821547  0.723176     dvd  \n5471                      False      M       V  0.484729  0.404000     dvd  \n5472                      False      R       G  0.821547  0.656082     dvd  \n5473                      False      N       S  0.398235  0.256224     dvd  \n\n[5474 rows x 33 columns]",
      "text/html": "<div>\n<style scoped>\n    .dataframe tbody tr th:only-of-type {\n        vertical-align: middle;\n    }\n\n    .dataframe tbody tr th {\n        vertical-align: top;\n    }\n\n    .dataframe thead th {\n        text-align: right;\n    }\n</style>\n<table border=\"1\" class=\"dataframe\">\n  <thead>\n    <tr style=\"text-align: right;\">\n      <th></th>\n      <th>gene</th>\n      <th>variant</th>\n      <th>stability_WT</th>\n      <th>stability_MUT</th>\n      <th>stability_delta</th>\n      <th>pathogenicity</th>\n      <th>Absolute value of delta</th>\n      <th>blosum</th>\n      <th>hydrophobicity_WT</th>\n      <th>hydrophobicity_MUT</th>\n      <th>...</th>\n      <th>sasa_delta</th>\n      <th>secondary_structure</th>\n      <th>sequence_length</th>\n      <th>protein_contain_transmembrane</th>\n      <th>is_residue_transmembranal</th>\n      <th>aa_WT</th>\n      <th>aa_MUT</th>\n      <th>RSA_WT</th>\n      <th>RSA_MUT</th>\n      <th>source</th>\n    </tr>\n  </thead>\n  <tbody>\n    <tr>\n      <th>0</th>\n      <td>POLR1D</td>\n      <td>L111P</td>\n      <td>55.4166</td>\n      <td>59.2536</td>\n      <td>3.8370</td>\n      <td>pathogenic</td>\n      <td>3.8370</td>\n      <td>-3</td>\n      <td>3.8</td>\n      <td>-1.6</td>\n      <td>...</td>\n      <td>-26.79</td>\n      <td>Helix</td>\n      <td>133</td>\n      <td>False</td>\n      <td>False</td>\n      <td>L</td>\n      <td>P</td>\n      <td>0.445445</td>\n      <td>0.378506</td>\n      <td>dvd</td>\n    </tr>\n    <tr>\n      <th>1</th>\n      <td>POLR1D</td>\n      <td>T50I</td>\n      <td>52.5256</td>\n      <td>53.9242</td>\n      <td>1.3986</td>\n      <td>pathogenic</td>\n      <td>1.3986</td>\n      <td>-1</td>\n      <td>-0.7</td>\n      <td>4.5</td>\n      <td>...</td>\n      <td>37.23</td>\n      <td>Helix</td>\n      <td>133</td>\n      <td>False</td>\n      <td>False</td>\n      <td>T</td>\n      <td>I</td>\n      <td>0.653988</td>\n      <td>0.737590</td>\n      <td>dvd</td>\n    </tr>\n    <tr>\n      <th>2</th>\n      <td>POLR1D</td>\n      <td>L55V</td>\n      <td>53.5827</td>\n      <td>56.1836</td>\n      <td>2.6009</td>\n      <td>pathogenic</td>\n      <td>2.6009</td>\n      <td>1</td>\n      <td>3.8</td>\n      <td>4.2</td>\n      <td>...</td>\n      <td>-0.01</td>\n      <td>Helix</td>\n      <td>133</td>\n      <td>False</td>\n      <td>False</td>\n      <td>L</td>\n      <td>V</td>\n      <td>0.000052</td>\n      <td>0.000000</td>\n      <td>dvd</td>\n    </tr>\n    <tr>\n      <th>3</th>\n      <td>POLR1D</td>\n      <td>G99S</td>\n      <td>53.3779</td>\n      <td>55.2641</td>\n      <td>1.8862</td>\n      <td>pathogenic</td>\n      <td>1.8862</td>\n      <td>0</td>\n      <td>-0.4</td>\n      <td>-0.8</td>\n      <td>...</td>\n      <td>2.56</td>\n      <td>Helix</td>\n      <td>133</td>\n      <td>False</td>\n      <td>False</td>\n      <td>G</td>\n      <td>S</td>\n      <td>0.011237</td>\n      <td>0.025524</td>\n      <td>dvd</td>\n    </tr>\n    <tr>\n      <th>4</th>\n      <td>POLR1D</td>\n      <td>C68W</td>\n      <td>55.1261</td>\n      <td>90.0561</td>\n      <td>34.9300</td>\n      <td>pathogenic</td>\n      <td>34.9300</td>\n      <td>-2</td>\n      <td>2.5</td>\n      <td>-0.9</td>\n      <td>...</td>\n      <td>0.41</td>\n      <td>Beta strand</td>\n      <td>133</td>\n      <td>False</td>\n      <td>False</td>\n      <td>C</td>\n      <td>W</td>\n      <td>0.002838</td>\n      <td>0.003144</td>\n      <td>dvd</td>\n    </tr>\n    <tr>\n      <th>...</th>\n      <td>...</td>\n      <td>...</td>\n      <td>...</td>\n      <td>...</td>\n      <td>...</td>\n      <td>...</td>\n      <td>...</td>\n      <td>...</td>\n      <td>...</td>\n      <td>...</td>\n      <td>...</td>\n      <td>...</td>\n      <td>...</td>\n      <td>...</td>\n      <td>...</td>\n      <td>...</td>\n      <td>...</td>\n      <td>...</td>\n      <td>...</td>\n      <td>...</td>\n      <td>...</td>\n    </tr>\n    <tr>\n      <th>5469</th>\n      <td>PJVK</td>\n      <td>G292R</td>\n      <td>211.5760</td>\n      <td>215.0030</td>\n      <td>3.4270</td>\n      <td>benign</td>\n      <td>3.4270</td>\n      <td>-2</td>\n      <td>-0.4</td>\n      <td>-4.5</td>\n      <td>...</td>\n      <td>146.47</td>\n      <td>Loop</td>\n      <td>352</td>\n      <td>False</td>\n      <td>False</td>\n      <td>G</td>\n      <td>R</td>\n      <td>0.759278</td>\n      <td>0.830642</td>\n      <td>dvd</td>\n    </tr>\n    <tr>\n      <th>5470</th>\n      <td>PJVK</td>\n      <td>R265C</td>\n      <td>211.4450</td>\n      <td>211.7910</td>\n      <td>0.3460</td>\n      <td>benign</td>\n      <td>0.3460</td>\n      <td>-3</td>\n      <td>-4.5</td>\n      <td>2.5</td>\n      <td>...</td>\n      <td>-110.68</td>\n      <td>Loop</td>\n      <td>352</td>\n      <td>False</td>\n      <td>False</td>\n      <td>R</td>\n      <td>C</td>\n      <td>0.821547</td>\n      <td>0.723176</td>\n      <td>dvd</td>\n    </tr>\n    <tr>\n      <th>5471</th>\n      <td>PJVK</td>\n      <td>M260V</td>\n      <td>209.8750</td>\n      <td>211.5100</td>\n      <td>1.6350</td>\n      <td>benign</td>\n      <td>1.6350</td>\n      <td>1</td>\n      <td>1.9</td>\n      <td>4.2</td>\n      <td>...</td>\n      <td>-31.74</td>\n      <td>Loop</td>\n      <td>352</td>\n      <td>False</td>\n      <td>False</td>\n      <td>M</td>\n      <td>V</td>\n      <td>0.484729</td>\n      <td>0.404000</td>\n      <td>dvd</td>\n    </tr>\n    <tr>\n      <th>5472</th>\n      <td>PJVK</td>\n      <td>R265G</td>\n      <td>211.4450</td>\n      <td>211.7550</td>\n      <td>0.3100</td>\n      <td>benign</td>\n      <td>0.3100</td>\n      <td>-2</td>\n      <td>-4.5</td>\n      <td>-0.4</td>\n      <td>...</td>\n      <td>-154.07</td>\n      <td>Loop</td>\n      <td>352</td>\n      <td>False</td>\n      <td>False</td>\n      <td>R</td>\n      <td>G</td>\n      <td>0.821547</td>\n      <td>0.656082</td>\n      <td>dvd</td>\n    </tr>\n    <tr>\n      <th>5473</th>\n      <td>SLC4A11</td>\n      <td>N150S</td>\n      <td>447.1780</td>\n      <td>445.8990</td>\n      <td>-1.2790</td>\n      <td>benign</td>\n      <td>1.2790</td>\n      <td>1</td>\n      <td>-3.5</td>\n      <td>-0.8</td>\n      <td>...</td>\n      <td>-37.83</td>\n      <td>Loop</td>\n      <td>875</td>\n      <td>True</td>\n      <td>False</td>\n      <td>N</td>\n      <td>S</td>\n      <td>0.398235</td>\n      <td>0.256224</td>\n      <td>dvd</td>\n    </tr>\n  </tbody>\n</table>\n<p>5474 rows × 33 columns</p>\n</div>"
     },
     "execution_count": 83,
     "metadata": {},
     "output_type": "execute_result"
    }
   ],
   "source": [
    "\"\"\"MUST CHANGE THESE VARIABLES BEFORE RUNNING THE SCRIPT:\n",
    "Protein_type, either \"transmembrane\", \"collagen\" or \"globular\"\n",
    "Residues_or_proteins, either \"residues\" or \"proteins\"\"\"\n",
    "\n",
    "protein_type = \"collagens\"  # \"transmembrane\", \"collagens\" or \"globular\"\n",
    "residues_or_proteins = \"proteins\"  # \"residues\" or \"proteins\"\n",
    "filename = 'C:\\\\Users\\\\InbarBlech\\\\PycharmProjects\\\\Thesis\\\\Data\\\\data_for_all_dvd.csv'\n",
    "data = pd.read_csv(f\"{filename}\", index_col=False)\n",
    "data"
   ],
   "metadata": {
    "collapsed": false,
    "ExecuteTime": {
     "end_time": "2024-02-20T13:29:58.421786600Z",
     "start_time": "2024-02-20T13:29:58.327500Z"
    }
   },
   "id": "da024e48ed056208"
  },
  {
   "cell_type": "code",
   "execution_count": 84,
   "outputs": [],
   "source": [
    "if protein_type == \"transmembrane\" and residues_or_proteins == \"residues\":\n",
    "    # Remove globular proteins, using column \"protein_contain_transmembrane\"\n",
    "    data = data[data[\"protein_contain_transmembrane\"] == 1]\n",
    "    # Remove variants in globular residues\n",
    "    data = data[data[\"is_residue_transmembranal\"] == 1]\n",
    "    \n",
    "if protein_type == \"globular\" and residues_or_proteins == \"proteins\":\n",
    "    # Remove transmembrane proteins, using column \"protein_contain_transmembrane\"\n",
    "    data = data[data[\"protein_contain_transmembrane\"] == 0]\n",
    "    # Remove variants in collagen residues, by the gene name\n",
    "    data = data[~data[\"gene\"].str.contains(\"COL\")]\n",
    "\n",
    "if protein_type == \"collagens\" and residues_or_proteins == \"proteins\":\n",
    "    # Remove transmembrane proteins, using column \"protein_contain_transmembrane\"\n",
    "    data = data[data[\"gene\"].str.contains(\"COL\")]"
   ],
   "metadata": {
    "collapsed": false,
    "ExecuteTime": {
     "end_time": "2024-02-20T13:29:58.515874500Z",
     "start_time": "2024-02-20T13:29:58.421786600Z"
    }
   },
   "id": "387af91d2ee595b5"
  },
  {
   "cell_type": "code",
   "execution_count": 85,
   "outputs": [
    {
     "data": {
      "text/plain": "         gene variant  pathogenicity  Absolute value of delta  blosum  \\\n105   COL11A1  G1249V              1                    3.920      -3   \n106   COL11A1  G1516V              1                    4.410      -3   \n107   COL11A1  R1733C              1                    0.470      -3   \n108   COL11A1  G1800C              1                    0.840      -3   \n109   COL11A1  R1076C              1                    0.160      -3   \n...       ...     ...            ...                      ...     ...   \n5366   COL9A1   S339P              0                    0.217      -1   \n5367   COL9A1   E450G              0                    0.772      -2   \n5368   COL9A1   P824T              0                    0.910      -1   \n5369   COL9A1   Q621R              0                    0.117       1   \n5393   COL4A6   N980I              0                    1.980      -3   \n\n      hydrophobicity_delta  volume_delta  plddt_residue  opra_WT  opra_MUT  \\\n105                    4.6          79.9          33.98    -0.10      0.27   \n106                    4.6          79.9          41.28    -1.12     -0.78   \n107                    7.0         -64.9          96.91    -0.15      0.28   \n108                    2.9          48.4          95.78    -0.03      0.11   \n109                    7.0         -64.9          29.34    -0.45      0.21   \n...                    ...           ...            ...      ...       ...   \n5366                  -0.8          23.7          46.98    -0.72     -0.60   \n5367                   3.1         -78.3          49.61     0.17     -0.16   \n5368                   0.9           3.4          66.37     0.05     -0.02   \n5369                  -1.0          29.6          65.67    -0.48     -0.75   \n5393                   8.0          52.6          35.90    -0.21     -0.10   \n\n      opra_delta  oda_delta  sasa_delta    RSA_WT source  \\\n105         0.37      -1.62       67.15  0.814227    dvd   \n106         0.34      -1.54       45.53  0.697629    dvd   \n107         0.43      -3.73      -69.73  0.322604    dvd   \n108         0.14      -1.22       36.05  0.146701    dvd   \n109         0.66      -7.65     -111.89  0.873736    dvd   \n...          ...        ...         ...       ...    ...   \n5366        0.12      -2.72        3.28  0.789720    dvd   \n5367       -0.33      -3.20      -90.95  0.802383    dvd   \n5368       -0.07       2.21        4.50  0.803831    dvd   \n5369       -0.27       0.05       44.62  0.648131    dvd   \n5393        0.11      -6.83       34.80  0.685989    dvd   \n\n      secondary_structure_Beta strand  secondary_structure_Helix  \\\n105                             False                      False   \n106                             False                      False   \n107                             False                      False   \n108                             False                      False   \n109                             False                      False   \n...                               ...                        ...   \n5366                            False                      False   \n5367                            False                      False   \n5368                            False                      False   \n5369                            False                      False   \n5393                            False                      False   \n\n      secondary_structure_Loop  \n105                       True  \n106                       True  \n107                       True  \n108                       True  \n109                       True  \n...                        ...  \n5366                      True  \n5367                      True  \n5368                      True  \n5369                      True  \n5393                      True  \n\n[1096 rows x 18 columns]",
      "text/html": "<div>\n<style scoped>\n    .dataframe tbody tr th:only-of-type {\n        vertical-align: middle;\n    }\n\n    .dataframe tbody tr th {\n        vertical-align: top;\n    }\n\n    .dataframe thead th {\n        text-align: right;\n    }\n</style>\n<table border=\"1\" class=\"dataframe\">\n  <thead>\n    <tr style=\"text-align: right;\">\n      <th></th>\n      <th>gene</th>\n      <th>variant</th>\n      <th>pathogenicity</th>\n      <th>Absolute value of delta</th>\n      <th>blosum</th>\n      <th>hydrophobicity_delta</th>\n      <th>volume_delta</th>\n      <th>plddt_residue</th>\n      <th>opra_WT</th>\n      <th>opra_MUT</th>\n      <th>opra_delta</th>\n      <th>oda_delta</th>\n      <th>sasa_delta</th>\n      <th>RSA_WT</th>\n      <th>source</th>\n      <th>secondary_structure_Beta strand</th>\n      <th>secondary_structure_Helix</th>\n      <th>secondary_structure_Loop</th>\n    </tr>\n  </thead>\n  <tbody>\n    <tr>\n      <th>105</th>\n      <td>COL11A1</td>\n      <td>G1249V</td>\n      <td>1</td>\n      <td>3.920</td>\n      <td>-3</td>\n      <td>4.6</td>\n      <td>79.9</td>\n      <td>33.98</td>\n      <td>-0.10</td>\n      <td>0.27</td>\n      <td>0.37</td>\n      <td>-1.62</td>\n      <td>67.15</td>\n      <td>0.814227</td>\n      <td>dvd</td>\n      <td>False</td>\n      <td>False</td>\n      <td>True</td>\n    </tr>\n    <tr>\n      <th>106</th>\n      <td>COL11A1</td>\n      <td>G1516V</td>\n      <td>1</td>\n      <td>4.410</td>\n      <td>-3</td>\n      <td>4.6</td>\n      <td>79.9</td>\n      <td>41.28</td>\n      <td>-1.12</td>\n      <td>-0.78</td>\n      <td>0.34</td>\n      <td>-1.54</td>\n      <td>45.53</td>\n      <td>0.697629</td>\n      <td>dvd</td>\n      <td>False</td>\n      <td>False</td>\n      <td>True</td>\n    </tr>\n    <tr>\n      <th>107</th>\n      <td>COL11A1</td>\n      <td>R1733C</td>\n      <td>1</td>\n      <td>0.470</td>\n      <td>-3</td>\n      <td>7.0</td>\n      <td>-64.9</td>\n      <td>96.91</td>\n      <td>-0.15</td>\n      <td>0.28</td>\n      <td>0.43</td>\n      <td>-3.73</td>\n      <td>-69.73</td>\n      <td>0.322604</td>\n      <td>dvd</td>\n      <td>False</td>\n      <td>False</td>\n      <td>True</td>\n    </tr>\n    <tr>\n      <th>108</th>\n      <td>COL11A1</td>\n      <td>G1800C</td>\n      <td>1</td>\n      <td>0.840</td>\n      <td>-3</td>\n      <td>2.9</td>\n      <td>48.4</td>\n      <td>95.78</td>\n      <td>-0.03</td>\n      <td>0.11</td>\n      <td>0.14</td>\n      <td>-1.22</td>\n      <td>36.05</td>\n      <td>0.146701</td>\n      <td>dvd</td>\n      <td>False</td>\n      <td>False</td>\n      <td>True</td>\n    </tr>\n    <tr>\n      <th>109</th>\n      <td>COL11A1</td>\n      <td>R1076C</td>\n      <td>1</td>\n      <td>0.160</td>\n      <td>-3</td>\n      <td>7.0</td>\n      <td>-64.9</td>\n      <td>29.34</td>\n      <td>-0.45</td>\n      <td>0.21</td>\n      <td>0.66</td>\n      <td>-7.65</td>\n      <td>-111.89</td>\n      <td>0.873736</td>\n      <td>dvd</td>\n      <td>False</td>\n      <td>False</td>\n      <td>True</td>\n    </tr>\n    <tr>\n      <th>...</th>\n      <td>...</td>\n      <td>...</td>\n      <td>...</td>\n      <td>...</td>\n      <td>...</td>\n      <td>...</td>\n      <td>...</td>\n      <td>...</td>\n      <td>...</td>\n      <td>...</td>\n      <td>...</td>\n      <td>...</td>\n      <td>...</td>\n      <td>...</td>\n      <td>...</td>\n      <td>...</td>\n      <td>...</td>\n      <td>...</td>\n    </tr>\n    <tr>\n      <th>5366</th>\n      <td>COL9A1</td>\n      <td>S339P</td>\n      <td>0</td>\n      <td>0.217</td>\n      <td>-1</td>\n      <td>-0.8</td>\n      <td>23.7</td>\n      <td>46.98</td>\n      <td>-0.72</td>\n      <td>-0.60</td>\n      <td>0.12</td>\n      <td>-2.72</td>\n      <td>3.28</td>\n      <td>0.789720</td>\n      <td>dvd</td>\n      <td>False</td>\n      <td>False</td>\n      <td>True</td>\n    </tr>\n    <tr>\n      <th>5367</th>\n      <td>COL9A1</td>\n      <td>E450G</td>\n      <td>0</td>\n      <td>0.772</td>\n      <td>-2</td>\n      <td>3.1</td>\n      <td>-78.3</td>\n      <td>49.61</td>\n      <td>0.17</td>\n      <td>-0.16</td>\n      <td>-0.33</td>\n      <td>-3.20</td>\n      <td>-90.95</td>\n      <td>0.802383</td>\n      <td>dvd</td>\n      <td>False</td>\n      <td>False</td>\n      <td>True</td>\n    </tr>\n    <tr>\n      <th>5368</th>\n      <td>COL9A1</td>\n      <td>P824T</td>\n      <td>0</td>\n      <td>0.910</td>\n      <td>-1</td>\n      <td>0.9</td>\n      <td>3.4</td>\n      <td>66.37</td>\n      <td>0.05</td>\n      <td>-0.02</td>\n      <td>-0.07</td>\n      <td>2.21</td>\n      <td>4.50</td>\n      <td>0.803831</td>\n      <td>dvd</td>\n      <td>False</td>\n      <td>False</td>\n      <td>True</td>\n    </tr>\n    <tr>\n      <th>5369</th>\n      <td>COL9A1</td>\n      <td>Q621R</td>\n      <td>0</td>\n      <td>0.117</td>\n      <td>1</td>\n      <td>-1.0</td>\n      <td>29.6</td>\n      <td>65.67</td>\n      <td>-0.48</td>\n      <td>-0.75</td>\n      <td>-0.27</td>\n      <td>0.05</td>\n      <td>44.62</td>\n      <td>0.648131</td>\n      <td>dvd</td>\n      <td>False</td>\n      <td>False</td>\n      <td>True</td>\n    </tr>\n    <tr>\n      <th>5393</th>\n      <td>COL4A6</td>\n      <td>N980I</td>\n      <td>0</td>\n      <td>1.980</td>\n      <td>-3</td>\n      <td>8.0</td>\n      <td>52.6</td>\n      <td>35.90</td>\n      <td>-0.21</td>\n      <td>-0.10</td>\n      <td>0.11</td>\n      <td>-6.83</td>\n      <td>34.80</td>\n      <td>0.685989</td>\n      <td>dvd</td>\n      <td>False</td>\n      <td>False</td>\n      <td>True</td>\n    </tr>\n  </tbody>\n</table>\n<p>1096 rows × 18 columns</p>\n</div>"
     },
     "execution_count": 85,
     "metadata": {},
     "output_type": "execute_result"
    }
   ],
   "source": [
    "data = pd.get_dummies(data, columns=[\"secondary_structure\"])\n",
    "\n",
    "mapping = {\"benign\": 0, \"pathogenic\": 1}\n",
    "data[\"pathogenicity\"] = data[\"pathogenicity\"].map(mapping)\n",
    "\n",
    "data = data.drop(\n",
    "    labels=[\"stability_delta\", \"sequence_length\", \"stability_WT\", \"stability_MUT\", \"hydrophobicity_WT\", \"hydrophobicity_MUT\", \"volume_WT\",\n",
    "            \"volume_MUT\", \"oda_MUT\", \"oda_WT\", \"sasa_WT\", \"sasa_MUT\", \"RSA_MUT\",\n",
    "            \"protein_contain_transmembrane\", \"is_residue_transmembranal\", \"aa_WT\", \"aa_MUT\"], axis=1, inplace=False)\n",
    "\n",
    "data"
   ],
   "metadata": {
    "collapsed": false,
    "ExecuteTime": {
     "end_time": "2024-02-20T13:29:58.562741300Z",
     "start_time": "2024-02-20T13:29:58.452924400Z"
    }
   },
   "id": "c52a56816aec221b"
  },
  {
   "cell_type": "code",
   "execution_count": 86,
   "outputs": [],
   "source": [
    "### Removing structural features ###\n",
    "\n",
    "# structural_features = [\"oda_delta\", \"stability_delta\", \"secondary_structure_Beta strand\", \"secondary_structure_Helix\", \"secondary_structure_Loop\", \"sasa_delta\", \"RSA_WT\"]\n",
    "# # Drop structural features\n",
    "# data = data.drop(labels=[\"stability_delta\"], axis=1, inplace=False)"
   ],
   "metadata": {
    "collapsed": false,
    "ExecuteTime": {
     "end_time": "2024-02-20T13:29:58.581893100Z",
     "start_time": "2024-02-20T13:29:58.500217800Z"
    }
   },
   "id": "365a5d18d31b0d9c"
  },
  {
   "cell_type": "code",
   "execution_count": 87,
   "outputs": [],
   "source": [
    "data = data.drop(labels = [\"source\"], axis=1, inplace=False)\n",
    "# data = data.drop(labels = [\"position\"], axis=1, inplace=False)\n"
   ],
   "metadata": {
    "collapsed": false,
    "ExecuteTime": {
     "end_time": "2024-02-20T13:29:58.581893100Z",
     "start_time": "2024-02-20T13:29:58.515874500Z"
    }
   },
   "id": "9ba81c181ebd2eac"
  },
  {
   "cell_type": "code",
   "execution_count": 88,
   "outputs": [
    {
     "data": {
      "text/plain": "Empty DataFrame\nColumns: [gene, variant, prediction, reality]\nIndex: []",
      "text/html": "<div>\n<style scoped>\n    .dataframe tbody tr th:only-of-type {\n        vertical-align: middle;\n    }\n\n    .dataframe tbody tr th {\n        vertical-align: top;\n    }\n\n    .dataframe thead th {\n        text-align: right;\n    }\n</style>\n<table border=\"1\" class=\"dataframe\">\n  <thead>\n    <tr style=\"text-align: right;\">\n      <th></th>\n      <th>gene</th>\n      <th>variant</th>\n      <th>prediction</th>\n      <th>reality</th>\n    </tr>\n  </thead>\n  <tbody>\n  </tbody>\n</table>\n</div>"
     },
     "execution_count": 88,
     "metadata": {},
     "output_type": "execute_result"
    }
   ],
   "source": [
    "def get_mcc(tp, tn, fp, fn):\n",
    "    numerator = (tp * tn) - (fp * fn)\n",
    "    denominator = np.sqrt((tp + fp) * (tp + fn) * (tn + fp) * (tn + fn))\n",
    "    mcc_score = numerator / denominator if denominator != 0 else 0\n",
    "    return mcc_score\n",
    "\n",
    "# Create list of all positions.\n",
    "genes = data[\"gene\"].unique()\n",
    "tps = []\n",
    "fps = []\n",
    "fns = []\n",
    "tns = []\n",
    "errors = []\n",
    "mistakes = 0\n",
    "\n",
    "counter = 0\n",
    "\n",
    "# Initiate a dataframe that will contain the predictions for each variant.\n",
    "predictions_df = pd.DataFrame(columns=[\"gene\", \"variant\", \"prediction\", \"reality\"])\n",
    "predictions_df"
   ],
   "metadata": {
    "collapsed": false,
    "ExecuteTime": {
     "end_time": "2024-02-20T13:29:58.688602700Z",
     "start_time": "2024-02-20T13:29:58.531469400Z"
    }
   },
   "id": "fe4c2047593d368d"
  },
  {
   "cell_type": "code",
   "execution_count": 89,
   "outputs": [
    {
     "name": "stdout",
     "output_type": "stream",
     "text": [
      "Gene: COL11A1 (1/10)\n",
      "TP: 30, FP: 1, TN: 8, FN: 3\n",
      "Prediction: [1 1 1 1 1 1 1 1 1 0 1 1 1 1 1 1 1 1 1 1 1 1 1 1 1 1 1 1 1 0 1 1 0 0 1 0 0\n",
      " 0 0 0 0 0]. Reality: [1 1 1 1 1 1 1 1 1 1 1 1 1 1 1 1 1 1 1 1 1 1 1 1 1 1 1 1 1 1 1 1 1 0 0 0 0\n",
      " 0 0 0 0 0]\n",
      "Gene: COL4A3 (2/10)\n",
      "TP: 112, FP: 4, TN: 14, FN: 15\n",
      "Prediction: [1 1 1 0 0 1 1 0 0 1 1 1 1 1 0 1 1 0 1 1 1 0 1 1 1 1 1 1 1 0 1 1 1 1 1 1 1\n",
      " 1 1 0 1 1 1 1 1 1 1 1 1 1 1 1 1 1 1 1 1 1 0 1 1 1 1 1 1 1 1 1 1 1 1 1 0 1\n",
      " 1 1 1 1 0 1 1 1 1 1 1 1 1 1 1 1 1 1 0 0 1 0 1 1 1 1 1 1 1 1 1 1 1 1 1 1 1\n",
      " 1 1 1 1 1 1 1 1 1 1 1 1 1 1 1 1 0 0 0 0 1 0 0 0 1 0 0 0 0 1 1 0 0 0]. Reality: [1 1 1 1 1 1 1 1 1 1 1 1 1 1 1 1 1 1 1 1 1 1 1 1 1 1 1 1 1 1 1 1 1 1 1 1 1\n",
      " 1 1 1 1 1 1 1 1 1 1 1 1 1 1 1 1 1 1 1 1 1 1 1 1 1 1 1 1 1 1 1 1 1 1 1 1 1\n",
      " 1 1 1 1 1 1 1 1 1 1 1 1 1 1 1 1 1 1 1 1 1 1 1 1 1 1 1 1 1 1 1 1 1 1 1 1 1\n",
      " 1 1 1 1 1 1 1 1 1 1 1 1 1 1 1 1 0 0 0 0 0 0 0 0 0 0 0 0 0 0 0 0 0 0]\n",
      "Gene: COL9A3 (3/10)\n",
      "TP: 2, FP: 1, TN: 14, FN: 3\n",
      "Prediction: [1 0 1 0 0 0 0 0 1 0 0 0 0 0 0 0 0 0 0 0]. Reality: [1 1 1 1 1 0 0 0 0 0 0 0 0 0 0 0 0 0 0 0]\n",
      "Gene: COL11A2 (4/10)\n",
      "TP: 10, FP: 3, TN: 10, FN: 9\n",
      "Prediction: [1 1 1 0 1 1 1 0 0 0 1 1 0 1 1 0 0 0 0 0 0 1 0 0 1 0 0 1 0 0 0 0]. Reality: [1 1 1 1 1 1 1 1 1 1 1 1 1 1 1 1 1 1 1 0 0 0 0 0 0 0 0 0 0 0 0 0]\n",
      "Gene: COL4A5 (5/10)\n",
      "TP: 384, FP: 1, TN: 12, FN: 23\n",
      "Prediction: [1 1 1 1 1 1 1 1 1 1 1 1 1 1 1 1 1 1 1 1 1 1 1 1 1 1 1 1 1 1 1 1 1 1 1 1 1\n",
      " 1 1 1 1 1 1 1 1 1 1 1 1 1 1 1 1 1 1 1 1 1 1 1 1 1 1 1 1 1 1 1 1 1 1 1 1 0\n",
      " 1 0 1 1 1 1 0 1 1 1 1 1 1 0 1 1 1 1 1 1 1 1 1 1 1 1 1 1 1 1 1 1 1 0 1 1 1\n",
      " 1 1 1 1 1 1 1 1 1 0 1 1 1 1 1 1 1 1 1 1 1 1 1 0 1 1 1 1 1 1 1 0 1 1 1 1 1\n",
      " 1 1 1 0 1 1 1 1 1 1 1 1 1 1 1 1 1 1 1 1 0 1 1 1 1 1 1 1 1 1 1 1 0 1 1 1 0\n",
      " 0 1 1 1 1 1 1 1 1 0 1 1 1 1 1 1 1 1 1 1 1 1 1 1 1 1 1 1 1 1 1 1 1 1 1 1 0\n",
      " 1 1 1 0 1 1 0 1 0 1 1 1 1 1 0 1 1 1 0 1 1 1 1 1 1 1 1 1 1 1 1 1 1 1 1 1 1\n",
      " 1 1 1 1 1 1 1 1 1 1 1 1 1 1 1 1 1 1 1 1 1 1 1 1 1 1 1 1 1 1 1 1 1 1 0 1 1\n",
      " 1 1 1 1 1 1 1 1 1 1 1 1 1 1 1 1 1 1 1 1 1 1 1 0 1 1 1 1 1 1 1 1 1 1 1 1 1\n",
      " 1 1 1 1 1 1 1 1 1 1 1 1 1 1 1 1 1 1 1 1 1 1 1 1 1 1 1 1 1 0 1 1 1 1 1 1 1\n",
      " 1 1 1 1 1 1 1 1 1 1 1 1 1 1 1 1 1 1 1 1 1 1 1 1 1 1 1 1 1 1 1 1 1 1 1 1 1\n",
      " 0 1 0 0 0 0 0 0 0 0 0 0 0]. Reality: [1 1 1 1 1 1 1 1 1 1 1 1 1 1 1 1 1 1 1 1 1 1 1 1 1 1 1 1 1 1 1 1 1 1 1 1 1\n",
      " 1 1 1 1 1 1 1 1 1 1 1 1 1 1 1 1 1 1 1 1 1 1 1 1 1 1 1 1 1 1 1 1 1 1 1 1 1\n",
      " 1 1 1 1 1 1 1 1 1 1 1 1 1 1 1 1 1 1 1 1 1 1 1 1 1 1 1 1 1 1 1 1 1 1 1 1 1\n",
      " 1 1 1 1 1 1 1 1 1 1 1 1 1 1 1 1 1 1 1 1 1 1 1 1 1 1 1 1 1 1 1 1 1 1 1 1 1\n",
      " 1 1 1 1 1 1 1 1 1 1 1 1 1 1 1 1 1 1 1 1 1 1 1 1 1 1 1 1 1 1 1 1 1 1 1 1 1\n",
      " 1 1 1 1 1 1 1 1 1 1 1 1 1 1 1 1 1 1 1 1 1 1 1 1 1 1 1 1 1 1 1 1 1 1 1 1 1\n",
      " 1 1 1 1 1 1 1 1 1 1 1 1 1 1 1 1 1 1 1 1 1 1 1 1 1 1 1 1 1 1 1 1 1 1 1 1 1\n",
      " 1 1 1 1 1 1 1 1 1 1 1 1 1 1 1 1 1 1 1 1 1 1 1 1 1 1 1 1 1 1 1 1 1 1 1 1 1\n",
      " 1 1 1 1 1 1 1 1 1 1 1 1 1 1 1 1 1 1 1 1 1 1 1 1 1 1 1 1 1 1 1 1 1 1 1 1 1\n",
      " 1 1 1 1 1 1 1 1 1 1 1 1 1 1 1 1 1 1 1 1 1 1 1 1 1 1 1 1 1 1 1 1 1 1 1 1 1\n",
      " 1 1 1 1 1 1 1 1 1 1 1 1 1 1 1 1 1 1 1 1 1 1 1 1 1 1 1 1 1 1 1 1 1 1 1 1 1\n",
      " 0 0 0 0 0 0 0 0 0 0 0 0 0]\n",
      "Gene: COL2A1 (6/10)\n",
      "TP: 255, FP: 3, TN: 7, FN: 31\n",
      "Prediction: [1 1 1 1 1 1 1 1 1 1 1 1 1 1 1 1 1 1 1 1 1 1 1 1 1 1 1 1 1 1 1 0 0 1 1 0 0\n",
      " 1 1 1 1 1 1 1 1 1 0 1 1 1 1 1 0 1 1 1 1 0 1 1 1 0 1 1 1 1 1 1 1 1 1 1 1 1\n",
      " 1 1 1 1 1 1 1 0 1 1 1 1 0 1 1 1 1 1 1 0 0 1 1 1 1 1 1 1 1 1 1 0 1 1 1 1 1\n",
      " 1 0 1 1 1 1 1 1 1 1 1 1 0 1 1 1 1 1 1 1 1 1 1 1 1 1 1 1 1 1 1 1 1 1 1 1 1\n",
      " 1 1 1 1 1 1 1 1 1 1 1 1 0 1 0 1 1 1 0 1 0 1 1 1 1 1 1 1 0 1 1 1 1 1 1 1 1\n",
      " 0 1 0 1 1 1 1 1 1 1 1 1 1 1 0 1 0 1 1 1 1 0 1 1 1 0 1 1 1 1 1 1 1 1 1 1 1\n",
      " 1 0 1 1 1 1 1 1 1 1 1 1 1 1 1 1 1 1 1 1 1 1 1 1 1 1 1 1 1 1 1 1 1 1 1 1 1\n",
      " 0 1 1 0 0 1 1 1 1 1 1 1 1 1 1 1 1 1 1 1 1 1 1 1 1 0 1 1 0 0 0 1 0 1 0 0 0]. Reality: [1 1 1 1 1 1 1 1 1 1 1 1 1 1 1 1 1 1 1 1 1 1 1 1 1 1 1 1 1 1 1 1 1 1 1 1 1\n",
      " 1 1 1 1 1 1 1 1 1 1 1 1 1 1 1 1 1 1 1 1 1 1 1 1 1 1 1 1 1 1 1 1 1 1 1 1 1\n",
      " 1 1 1 1 1 1 1 1 1 1 1 1 1 1 1 1 1 1 1 1 1 1 1 1 1 1 1 1 1 1 1 1 1 1 1 1 1\n",
      " 1 1 1 1 1 1 1 1 1 1 1 1 1 1 1 1 1 1 1 1 1 1 1 1 1 1 1 1 1 1 1 1 1 1 1 1 1\n",
      " 1 1 1 1 1 1 1 1 1 1 1 1 1 1 1 1 1 1 1 1 1 1 1 1 1 1 1 1 1 1 1 1 1 1 1 1 1\n",
      " 1 1 1 1 1 1 1 1 1 1 1 1 1 1 1 1 1 1 1 1 1 1 1 1 1 1 1 1 1 1 1 1 1 1 1 1 1\n",
      " 1 1 1 1 1 1 1 1 1 1 1 1 1 1 1 1 1 1 1 1 1 1 1 1 1 1 1 1 1 1 1 1 1 1 1 1 1\n",
      " 1 1 1 1 1 1 1 1 1 1 1 1 1 1 1 1 1 1 1 1 1 1 1 1 1 1 1 0 0 0 0 0 0 0 0 0 0]\n",
      "Gene: COL4A4 (7/10)\n",
      "TP: 89, FP: 2, TN: 19, FN: 10\n",
      "Prediction: [1 1 1 0 1 1 1 1 1 1 1 1 1 0 1 0 0 1 1 1 1 1 1 1 1 1 0 1 1 1 1 1 1 1 1 1 1\n",
      " 1 1 0 1 1 1 1 1 1 1 1 1 1 1 1 1 1 1 1 1 1 0 1 1 1 1 1 1 0 1 1 1 1 1 1 1 1\n",
      " 1 1 1 0 1 1 1 1 1 1 1 1 1 1 1 1 1 1 1 1 1 1 1 0 1 0 0 0 1 0 0 0 0 0 0 0 0\n",
      " 0 1 0 0 0 0 0 0 0]. Reality: [1 1 1 1 1 1 1 1 1 1 1 1 1 1 1 1 1 1 1 1 1 1 1 1 1 1 1 1 1 1 1 1 1 1 1 1 1\n",
      " 1 1 1 1 1 1 1 1 1 1 1 1 1 1 1 1 1 1 1 1 1 1 1 1 1 1 1 1 1 1 1 1 1 1 1 1 1\n",
      " 1 1 1 1 1 1 1 1 1 1 1 1 1 1 1 1 1 1 1 1 1 1 1 1 1 0 0 0 0 0 0 0 0 0 0 0 0\n",
      " 0 0 0 0 0 0 0 0 0]\n",
      "Gene: COL9A1 (8/10)\n",
      "TP: 1, FP: 0, TN: 5, FN: 0\n",
      "Prediction: [1 0 0 0 0 0]. Reality: [1 0 0 0 0 0]\n",
      "Gene: COL9A2 (9/10)\n",
      "TP: 0, FP: 4, TN: 10, FN: 0\n",
      "Prediction: [1 0 0 0 1 0 0 0 0 0 1 1 0 0]. Reality: [0 0 0 0 0 0 0 0 0 0 0 0 0 0]\n",
      "Gene: COL4A6 (10/10)\n",
      "TP: 0, FP: 1, TN: 0, FN: 0\n",
      "Prediction: [1]. Reality: [0]\n",
      "TP: 883, FP: 20, TN: 99, FN: 94\n",
      "Results:\n",
      "Sensitivity (Recall): 0.9037871033776868\n",
      "Specificity: 0.8319327731092437\n",
      "Precision: 0.9778516057585825\n",
      "MCC: 0.6009117860229961\n",
      "Accuracy: 0.8959854014598541\n"
     ]
    }
   ],
   "source": [
    "\n",
    "for gene in genes:\n",
    "    counter += 1\n",
    "    print(f\"Gene: {gene} ({counter}/{len(genes)})\")\n",
    "    # Create train and test sets.\n",
    "    train = data[data[\"gene\"] != gene]\n",
    "    test = data[data[\"gene\"] == gene]\n",
    "\n",
    "    X_test = test.drop(labels=[\"pathogenicity\", \"gene\", \"variant\"], axis=1, inplace=False)\n",
    "    y_test = test[\"pathogenicity\"]\n",
    "\n",
    "    # Oversample the train set using SMOTE.\n",
    "    X_train = train.drop(labels=[\"pathogenicity\", \"gene\", \"variant\"], axis=1, inplace=False)\n",
    "    y_train = train[\"pathogenicity\"]\n",
    "    oversample = SMOTE(sampling_strategy='minority', random_state=42)\n",
    "    X_train_resampled, y_train_resampled = oversample.fit_resample(X_train, y_train)\n",
    "    # class_distribution = y_train_resampled.value_counts()\n",
    "    # print(f\"Training set: (SMOTE)\\n{class_distribution}\")\n",
    "\n",
    "    xgb_classifier = xgb.XGBClassifier(learning_rate=0.1, max_depth=3, n_estimators=100, random_state=42)\n",
    "    xgb_classifier.fit(X_train_resampled, y_train_resampled)  # Fit the model with the resampled data\n",
    "    y_pred = xgb_classifier.predict(X_test)\n",
    "    \n",
    "    # Add the predictions to the predictions dataframe.\n",
    "    # If there's more than one variant in the test set, add the predictions for all of them.if len(test) > 1:\n",
    "    # If there's more than one variant in the test set, add the predictions for all of them.\n",
    "    if len(test) > 1:\n",
    "        predictions_df_gene = pd.DataFrame({\n",
    "            \"gene\": test[\"gene\"],\n",
    "            \"variant\": test[\"variant\"],\n",
    "            \"prediction\": y_pred,\n",
    "            \"reality\": test[\"pathogenicity\"]\n",
    "        })\n",
    "        predictions_df = pd.concat([predictions_df, predictions_df_gene], ignore_index=True)\n",
    "    else:\n",
    "        # For a single variant, use the first prediction in y_pred\n",
    "        if len(y_pred) > 0:\n",
    "            predictions_df_single = pd.DataFrame({\n",
    "                \"gene\": [test[\"gene\"].values[0]],\n",
    "                \"variant\": [test[\"variant\"].values[0]],\n",
    "                \"prediction\": [y_pred[0]],\n",
    "                \"reality\": [test[\"pathogenicity\"].values[0]]\n",
    "            })\n",
    "            predictions_df = pd.concat([predictions_df, predictions_df_single], ignore_index=True)\n",
    "\n",
    "    tp = sum((y_test == 1) & (y_pred == 1))\n",
    "    fp = sum((y_test == 0) & (y_pred == 1))\n",
    "    fn = sum((y_test == 1) & (y_pred == 0))\n",
    "    tn = sum((y_test == 0) & (y_pred == 0))\n",
    "\n",
    "    print(f\"TP: {tp}, FP: {fp}, TN: {tn}, FN: {fn}\")\n",
    "\n",
    "    tps.append(tp)\n",
    "    fps.append(fp)\n",
    "    fns.append(fn)\n",
    "    tns.append(tn)\n",
    "\n",
    "    # print(f\"tps: {sum(tps)}, fps: {sum(fps)}, fns: {sum(fns)}, tns: {sum(tns)}\")\n",
    "\n",
    "    print(f\"Prediction: {y_pred}. Reality: {y_test.values}\")\n",
    "    \n",
    "    # # print error if at least one prediction is wrong\n",
    "    # if not np.array_equal(y_pred, y_test.values):\n",
    "    #     print(f\"Classification is wrong for position {pos}!\")\n",
    "    #     for i in range(len(y_pred)):\n",
    "    #         if y_pred[i] != y_test.values[i]:\n",
    "    #             mistakes+=1\n",
    "    #             print(f\"Predicted: {y_pred[i]}, reality: {y_test.values[i]}\")\n",
    "\n",
    "# Calculate MCC\n",
    "TP = sum(tps)\n",
    "FP = sum(fps)\n",
    "FN = sum(fns)\n",
    "TN = sum(tns)\n",
    "mcc = get_mcc(TP, TN, FP, FN)\n",
    "\n",
    "print(f\"TP: {sum(tps)}, FP: {sum(fps)}, TN: {sum(tns)}, FN: {sum(fns)}\")\n",
    "\n",
    "sensitivity = TP / (TP + FN)\n",
    "specificity = TN / (TN + FP)\n",
    "precision = TP / (TP + FP)\n",
    "accuracy = (TP + TN) / (TP + TN + FP + FN)\n",
    "print(f\"Results:\")\n",
    "print(f\"Sensitivity (Recall): {sensitivity}\")\n",
    "print(f\"Specificity: {specificity}\")\n",
    "print(f\"Precision: {precision}\")\n",
    "print(f\"MCC: {mcc}\")\n",
    "print(f\"Accuracy: {accuracy}\")"
   ],
   "metadata": {
    "collapsed": false,
    "ExecuteTime": {
     "end_time": "2024-02-20T13:30:00.919956200Z",
     "start_time": "2024-02-20T13:29:58.562741300Z"
    }
   },
   "id": "8418398ee81d03fb"
  },
  {
   "cell_type": "code",
   "execution_count": 90,
   "outputs": [
    {
     "name": "stdout",
     "output_type": "stream",
     "text": [
      "                   Predicted Pathogenic  Predicted Benign\n",
      "Actual Pathogenic                   883                94\n",
      "Actual Benign                        20                99\n"
     ]
    },
    {
     "data": {
      "text/plain": "<Figure size 640x480 with 2 Axes>",
      "image/png": "[encoded data removed]"
     },
     "metadata": {},
     "output_type": "display_data"
    }
   ],
   "source": [
    "# Present the results in a confusion matrix, using TP, FP, FN, TN.\n",
    "confusion_matrix = pd.DataFrame({\"Predicted Pathogenic\": [TP, FP], \"Predicted Benign\": [FN, TN]},\n",
    "                                index=[\"Actual Pathogenic\", \"Actual Benign\"])\n",
    "print(confusion_matrix)\n",
    "\n",
    "# Plot using seaborn, with light colors.\n",
    "sns.heatmap(confusion_matrix, annot=True, fmt='g', cmap='Blues')\n",
    "plt.title(f\"Confusion Matrix for {protein_type} residues, Using XGBoost\")\n",
    "plt.show()\n"
   ],
   "metadata": {
    "collapsed": false,
    "ExecuteTime": {
     "end_time": "2024-02-20T13:30:01.237438900Z",
     "start_time": "2024-02-20T13:30:00.904336Z"
    }
   },
   "id": "c1ff06f9e1790663"
  },
  {
   "cell_type": "code",
   "execution_count": 91,
   "outputs": [
    {
     "data": {
      "text/plain": "array(['COL11A1', 'COL4A3', 'COL9A3', 'COL11A2', 'COL4A5', 'COL2A1',\n       'COL4A4', 'COL9A1', 'COL9A2', 'COL4A6'], dtype=object)"
     },
     "execution_count": 91,
     "metadata": {},
     "output_type": "execute_result"
    }
   ],
   "source": [
    "data[\"gene\"].unique()"
   ],
   "metadata": {
    "collapsed": false,
    "ExecuteTime": {
     "end_time": "2024-02-20T13:30:01.408906900Z",
     "start_time": "2024-02-20T13:30:01.238450600Z"
    }
   },
   "id": "cb0c3b418a6a401d"
  },
  {
   "cell_type": "code",
   "execution_count": 92,
   "outputs": [
    {
     "data": {
      "text/plain": "         gene variant prediction reality\n0     COL11A1  G1249V          1       1\n1     COL11A1  G1516V          1       1\n2     COL11A1  R1733C          1       1\n3     COL11A1  G1800C          1       1\n4     COL11A1  R1076C          1       1\n...       ...     ...        ...     ...\n1091   COL9A2    G30R          1       0\n1092   COL9A2   A336E          1       0\n1093   COL9A2   L335V          0       0\n1094   COL9A2    R32Q          0       0\n1095   COL4A6   N980I          1       0\n\n[1096 rows x 4 columns]",
      "text/html": "<div>\n<style scoped>\n    .dataframe tbody tr th:only-of-type {\n        vertical-align: middle;\n    }\n\n    .dataframe tbody tr th {\n        vertical-align: top;\n    }\n\n    .dataframe thead th {\n        text-align: right;\n    }\n</style>\n<table border=\"1\" class=\"dataframe\">\n  <thead>\n    <tr style=\"text-align: right;\">\n      <th></th>\n      <th>gene</th>\n      <th>variant</th>\n      <th>prediction</th>\n      <th>reality</th>\n    </tr>\n  </thead>\n  <tbody>\n    <tr>\n      <th>0</th>\n      <td>COL11A1</td>\n      <td>G1249V</td>\n      <td>1</td>\n      <td>1</td>\n    </tr>\n    <tr>\n      <th>1</th>\n      <td>COL11A1</td>\n      <td>G1516V</td>\n      <td>1</td>\n      <td>1</td>\n    </tr>\n    <tr>\n      <th>2</th>\n      <td>COL11A1</td>\n      <td>R1733C</td>\n      <td>1</td>\n      <td>1</td>\n    </tr>\n    <tr>\n      <th>3</th>\n      <td>COL11A1</td>\n      <td>G1800C</td>\n      <td>1</td>\n      <td>1</td>\n    </tr>\n    <tr>\n      <th>4</th>\n      <td>COL11A1</td>\n      <td>R1076C</td>\n      <td>1</td>\n      <td>1</td>\n    </tr>\n    <tr>\n      <th>...</th>\n      <td>...</td>\n      <td>...</td>\n      <td>...</td>\n      <td>...</td>\n    </tr>\n    <tr>\n      <th>1091</th>\n      <td>COL9A2</td>\n      <td>G30R</td>\n      <td>1</td>\n      <td>0</td>\n    </tr>\n    <tr>\n      <th>1092</th>\n      <td>COL9A2</td>\n      <td>A336E</td>\n      <td>1</td>\n      <td>0</td>\n    </tr>\n    <tr>\n      <th>1093</th>\n      <td>COL9A2</td>\n      <td>L335V</td>\n      <td>0</td>\n      <td>0</td>\n    </tr>\n    <tr>\n      <th>1094</th>\n      <td>COL9A2</td>\n      <td>R32Q</td>\n      <td>0</td>\n      <td>0</td>\n    </tr>\n    <tr>\n      <th>1095</th>\n      <td>COL4A6</td>\n      <td>N980I</td>\n      <td>1</td>\n      <td>0</td>\n    </tr>\n  </tbody>\n</table>\n<p>1096 rows × 4 columns</p>\n</div>"
     },
     "execution_count": 92,
     "metadata": {},
     "output_type": "execute_result"
    }
   ],
   "source": [
    "predictions_df"
   ],
   "metadata": {
    "collapsed": false,
    "ExecuteTime": {
     "end_time": "2024-02-20T13:30:01.408906900Z",
     "start_time": "2024-02-20T13:30:01.246700200Z"
    }
   },
   "id": "a0686267363a4cf2"
  },
  {
   "cell_type": "code",
   "execution_count": 93,
   "outputs": [],
   "source": [
    "# Check how many predictions were correct.\n",
    "correct_predictions = predictions_df[predictions_df[\"prediction\"] == predictions_df[\"reality\"]]\n",
    "# Calculate the accuracy of the model.\n",
    "accuracy = len(correct_predictions) / len(predictions_df)"
   ],
   "metadata": {
    "collapsed": false,
    "ExecuteTime": {
     "end_time": "2024-02-20T13:30:01.408906900Z",
     "start_time": "2024-02-20T13:30:01.381144900Z"
    }
   },
   "id": "8705f58c6ca9cd72"
  },
  {
   "cell_type": "code",
   "execution_count": 94,
   "outputs": [
    {
     "data": {
      "text/plain": "0.8959854014598541"
     },
     "execution_count": 94,
     "metadata": {},
     "output_type": "execute_result"
    }
   ],
   "source": [
    "accuracy"
   ],
   "metadata": {
    "collapsed": false,
    "ExecuteTime": {
     "end_time": "2024-02-20T13:30:01.471401600Z",
     "start_time": "2024-02-20T13:30:01.393267900Z"
    }
   },
   "id": "7f9713642da70804"
  },
  {
   "cell_type": "code",
   "execution_count": 95,
   "outputs": [],
   "source": [
    "# Save the predictions to a file.\n",
    "predictions_df.to_csv(f\"C:\\\\Users\\\\InbarBlech\\\\PycharmProjects\\\\Thesis\\\\predictions_vs_real\\\\{protein_type}_{residues_or_proteins}\\\\predictions_vs_real_{protein_type}_{residues_or_proteins}.csv\", index=False)"
   ],
   "metadata": {
    "collapsed": false,
    "ExecuteTime": {
     "end_time": "2024-02-20T13:30:01.612936100Z",
     "start_time": "2024-02-20T13:30:01.424525700Z"
    }
   },
   "id": "ebd2fbfc723d483b"
  },
  {
   "cell_type": "code",
   "execution_count": 96,
   "outputs": [
    {
     "name": "stdout",
     "output_type": "stream",
     "text": [
      "Accuracy for protein COL11A1: 0.9047619047619048\n",
      "Accuracy for protein COL4A3: 0.8689655172413793\n",
      "Accuracy for protein COL9A3: 0.8\n",
      "Accuracy for protein COL11A2: 0.625\n",
      "Accuracy for protein COL4A5: 0.9428571428571428\n",
      "Accuracy for protein COL2A1: 0.8851351351351351\n",
      "Accuracy for protein COL4A4: 0.9\n",
      "Accuracy for protein COL9A1: 1.0\n",
      "Accuracy for protein COL9A2: 0.7142857142857143\n",
      "Accuracy for protein COL4A6: 0.0\n"
     ]
    }
   ],
   "source": [
    "# Calculate per-protein accuracy, and save each protein's accuracy to a file.\n",
    "proteins = predictions_df[\"gene\"].unique()\n",
    "accuracies = []\n",
    "for protein in proteins:\n",
    "    protein_df = predictions_df[predictions_df[\"gene\"] == protein]\n",
    "    correct_predictions = protein_df[protein_df[\"prediction\"] == protein_df[\"reality\"]]\n",
    "    accuracy = len(correct_predictions) / len(protein_df)\n",
    "    accuracies.append(accuracy)\n",
    "    print(f\"Accuracy for protein {protein}: {accuracy}\")\n"
   ],
   "metadata": {
    "collapsed": false,
    "ExecuteTime": {
     "end_time": "2024-02-20T13:30:01.942528500Z",
     "start_time": "2024-02-20T13:30:01.471401600Z"
    }
   },
   "id": "201927b994e3e297"
  },
  {
   "cell_type": "code",
   "execution_count": 97,
   "outputs": [
    {
     "name": "stderr",
     "output_type": "stream",
     "text": [
      "C:\\Users\\InbarBlech\\AppData\\Local\\Temp\\ipykernel_22724\\1621015253.py:39: FutureWarning: The behavior of DataFrame concatenation with empty or all-NA entries is deprecated. In a future version, this will no longer exclude empty or all-NA columns when determining the result dtypes. To retain the old behavior, exclude the relevant entries before the concat operation.\n",
      "  metrics = pd.concat([metrics, protein_metrics], ignore_index=True)\n"
     ]
    }
   ],
   "source": [
    "# Calculate per-protein metrics, and save each protein's metrics to a file.\n",
    "proteins = predictions_df[\"gene\"].unique()\n",
    "metrics = pd.DataFrame(columns=[\"gene\", \"sensitivity\", \"specificity\", \"precision\", \"accuracy\", \"mcc\", \"num_variants\", \"num_benign\", \"num_pathogenic\"])\n",
    "for protein in proteins:\n",
    "    protein_df = predictions_df[predictions_df[\"gene\"] == protein]\n",
    "    TP = sum(protein_df[\"prediction\"] & protein_df[\"reality\"])\n",
    "    FP = sum((protein_df[\"reality\"] == 0) & (protein_df[\"prediction\"] == 1))\n",
    "    FN = sum((protein_df[\"reality\"] == 1) & (protein_df[\"prediction\"] == 0))\n",
    "    TN = sum((protein_df[\"reality\"] == 0) & (protein_df[\"prediction\"] == 0))\n",
    "    # to not divide by zero, check if there are any true positives, false positives, false negatives, or true negatives.\n",
    "    if TP == 0:\n",
    "        sensitivity = 0\n",
    "        precision = 0\n",
    "    else:\n",
    "        sensitivity = TP / (TP + FN)\n",
    "        precision = TP / (TP + FP)\n",
    "    if TN == 0:\n",
    "        specificity = 0\n",
    "    else:\n",
    "        specificity = TN / (TN + FP)\n",
    "    mcc = get_mcc(TP, TN, FP, FN)\n",
    "    accuracy = (TP + TN) / (TP + TN + FP + FN)\n",
    "    protein_metrics = pd.DataFrame({\n",
    "        \"gene\": [protein],\n",
    "        \"sensitivity\": [sensitivity],\n",
    "        \"specificity\": [specificity],\n",
    "        \"precision\": [precision],\n",
    "        \"accuracy\": [accuracy],\n",
    "        \"mcc\": [mcc]\n",
    "    })\n",
    "    protein_metrics[\"num_variants\"] = len(protein_df)\n",
    "    protein_metrics[\"num_benign\"] = sum(protein_df[\"reality\"] == 0)\n",
    "    protein_metrics[\"num_pathogenic\"] = sum(protein_df[\"reality\"] == 1)\n",
    "    # add TP, FP, FN, TN to the dataframe\n",
    "    protein_metrics[\"TP\"] = TP\n",
    "    protein_metrics[\"FP\"] = FP\n",
    "    protein_metrics[\"FN\"] = FN\n",
    "    protein_metrics[\"TN\"] = TN\n",
    "    metrics = pd.concat([metrics, protein_metrics], ignore_index=True)\n",
    "    # add the number of variants for each protein\n",
    "    \n",
    "metrics.to_csv(f\"C:\\\\Users\\\\InbarBlech\\\\PycharmProjects\\\\Thesis\\\\predictions_vs_real\\\\{protein_type}_{residues_or_proteins}\\\\metrics_{protein_type}_{residues_or_proteins}.csv\", index=False)"
   ],
   "metadata": {
    "collapsed": false,
    "ExecuteTime": {
     "end_time": "2024-02-20T13:30:02.115638900Z",
     "start_time": "2024-02-20T13:30:01.534333Z"
    }
   },
   "id": "35ed9ce2730eb5ab"
  },
  {
   "cell_type": "code",
   "execution_count": 97,
   "outputs": [],
   "source": [],
   "metadata": {
    "collapsed": false,
    "ExecuteTime": {
     "end_time": "2024-02-20T13:30:02.115638900Z",
     "start_time": "2024-02-20T13:30:01.675416600Z"
    }
   },
   "id": "4d93b22ce26f8c8f"
  }
 ],
 "metadata": {
  "kernelspec": {
   "display_name": "Python 3",
   "language": "python",
   "name": "python3"
  },
  "language_info": {
   "codemirror_mode": {
    "name": "ipython",
    "version": 2
   },
   "file_extension": ".py",
   "mimetype": "text/x-python",
   "name": "python",
   "nbconvert_exporter": "python",
   "pygments_lexer": "ipython2",
   "version": "2.7.6"
  }
 },
 "nbformat": 4,
 "nbformat_minor": 5
}
