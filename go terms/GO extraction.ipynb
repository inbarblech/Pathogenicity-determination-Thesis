{
 "cells": [
  {
   "cell_type": "code",
   "execution_count": 2,
   "outputs": [],
   "source": [
    "from data_retrievel_and_feature_extraction import uniprot_info as uni\n",
    "import pandas as pd"
   ],
   "metadata": {
    "collapsed": false,
    "ExecuteTime": {
     "end_time": "2024-01-24T14:58:36.792022700Z",
     "start_time": "2024-01-24T14:58:35.954459500Z"
    }
   },
   "id": "557dcb52966c325b"
  },
  {
   "cell_type": "code",
   "execution_count": 3,
   "outputs": [],
   "source": [
    "def transofrm_go_terms_to_df(go_terms: dict) -> pd.DataFrame:\n",
    "    data = pd.DataFrame.from_dict(go_terms, orient='index')\n",
    "    data = data.reset_index()\n",
    "    data = data.drop(columns=['index'])\n",
    "    return data\n",
    "\n",
    "def transform_go_terms_to_lists(go_terms: dict) -> (list, list, list):\n",
    "    # Extracting all values from the dictionary\n",
    "    all_values = [value[0] for value in go_terms.values()]\n",
    "    # Using list comprehensions to categorize values\n",
    "    C_list = [value for value in all_values if value.startswith('C')]\n",
    "    P_list = [value for value in all_values if value.startswith('P')]\n",
    "    F_list = [value for value in all_values if value.startswith('F')]\n",
    "    return C_list, P_list, F_list\n",
    "\n",
    "def transform_lists_to_string(lists: tuple) -> tuple:\n",
    "    C_list, P_list, F_list = lists\n",
    "    C_string = ' '.join(C_list)\n",
    "    P_string = ' '.join(P_list)\n",
    "    F_string = ' '.join(F_list)\n",
    "    return C_string, P_string, F_string\n",
    "\n",
    "def split_go_terms_to_categories(df: pd.DataFrame) -> tuple:\n",
    "    \"\"\"Split the GO terms into 3 dataframes, according to the 3 GO categories, and save them to csv.\n",
    "    Args:\n",
    "        df (pd.DataFrame): A dataframe containing the GO terms for the given UniProt accession ID\n",
    "    Returns:\n",
    "        tuple: A tuple containing the 3 dataframes, each containing the GO terms for the specific gene in the df.\n",
    "        first dataframe: cellular component\n",
    "        second dataframe: biological process\n",
    "        third dataframe: molecular function\n",
    "    \"\"\"\n",
    "    df_cellular_component = df[df[0].str.startswith('C:')]\n",
    "    df_biological_process = df[df[0].str.startswith('P:')]\n",
    "    df_molecular_function = df[df[0].str.startswith('F:')]\n",
    "\n",
    "    return df_cellular_component, df_biological_process, df_molecular_function"
   ],
   "metadata": {
    "collapsed": false,
    "ExecuteTime": {
     "end_time": "2024-01-24T14:58:37.706837700Z",
     "start_time": "2024-01-24T14:58:37.674593800Z"
    }
   },
   "id": "33e4134f2bfcd280"
  },
  {
   "cell_type": "code",
   "execution_count": 4,
   "outputs": [],
   "source": [
    "### test\n",
    "# gene_name = 'BRCA1'\n",
    "# go_terms = uni.get_go_terms(gene_name)\n",
    "# go_terms_lists = transform_go_terms_to_lists(go_terms)\n",
    "# # remove first letter from each go term\n",
    "# go_terms_lists = ([x[2:] for x in go_terms_lists[0]], [x[2:] for x in go_terms_lists[1]], [x[2:] for x in go_terms_lists[2]])\n",
    "# go_terms_strings = transform_lists_to_string(go_terms_lists)\n",
    "# print(go_terms_strings)"
   ],
   "metadata": {
    "collapsed": false,
    "ExecuteTime": {
     "end_time": "2024-01-24T14:58:38.464597Z",
     "start_time": "2024-01-24T14:58:38.420637300Z"
    }
   },
   "id": "5d433029780a9536"
  },
  {
   "cell_type": "code",
   "execution_count": 6,
   "outputs": [
    {
     "name": "stdout",
     "output_type": "stream",
     "text": [
      "       Gene                                 Cellular Component  \\\n",
      "0  ATP6V1B2  [apical plasma membrane, clathrin-coated vesic...   \n",
      "1     KITLG  [cytoplasm, cytoskeleton, extracellular region...   \n",
      "2     TCOF1  [cytosol, fibrillar center, nucleolus, nucleop...   \n",
      "3     PTPRQ                       [membrane, receptor complex]   \n",
      "4    COL2A1  [basement membrane, collagen type II trimer, c...   \n",
      "\n",
      "                                  Biological Process  \\\n",
      "0  [ATP metabolic process, proton transmembrane t...   \n",
      "1  [cell adhesion, ectopic germ cell programmed c...   \n",
      "2  [neural crest cell development, neural crest f...   \n",
      "3  [dephosphorylation, regulation of fat cell dif...   \n",
      "4  [anterior head development, cartilage condensa...   \n",
      "\n",
      "                                  Molecular Function  \n",
      "0  [ATP binding, proton transmembrane transporter...  \n",
      "1  [cytokine activity, growth factor activity, st...  \n",
      "2  [protein heterodimerization activity, protein-...  \n",
      "3            [protein tyrosine phosphatase activity]  \n",
      "4  [extracellular matrix structural constituent c...  \n"
     ]
    }
   ],
   "source": [
    "def update_go_terms(row):\n",
    "    gene_name = row['Gene']\n",
    "    go_terms = uni.get_go_terms(gene_name)\n",
    "    go_terms_lists = transform_go_terms_to_lists(go_terms)\n",
    "    go_terms_lists = (\n",
    "        [x[2:] for x in go_terms_lists[0]],\n",
    "        [x[2:] for x in go_terms_lists[1]],\n",
    "        [x[2:] for x in go_terms_lists[2]]\n",
    "    )\n",
    "    row['Cellular Component'] = go_terms_lists[0]\n",
    "    row['Biological Process'] = go_terms_lists[1]\n",
    "    row['Molecular Function'] = go_terms_lists[2]\n",
    "    return row\n",
    "\n",
    "# Read the DataFrame\n",
    "df = pd.read_csv('C:\\\\Users\\\\InbarBlech\\\\PycharmProjects\\\\Thesis\\\\hl_genes.csv')\n",
    "\n",
    "# Create a new DataFrame by applying the update_go_terms function to each row\n",
    "updated_df = df.apply(update_go_terms, axis=1)\n",
    "\n",
    "# Print the updated DataFrame\n",
    "print(updated_df.head())"
   ],
   "metadata": {
    "collapsed": false,
    "ExecuteTime": {
     "end_time": "2024-01-24T15:02:08.013995900Z",
     "start_time": "2024-01-24T15:00:32.914233400Z"
    }
   },
   "id": "cf2d47f069c3f076"
  },
  {
   "cell_type": "code",
   "execution_count": 7,
   "outputs": [],
   "source": [
    "# save df to csv\n",
    "updated_df.to_csv('C:\\\\Users\\\\InbarBlech\\\\PycharmProjects\\\\Thesis\\\\hl_genes_with_go_terms_lists.csv', index=False)"
   ],
   "metadata": {
    "collapsed": false,
    "ExecuteTime": {
     "end_time": "2024-01-24T15:02:27.194530500Z",
     "start_time": "2024-01-24T15:02:27.174175200Z"
    }
   },
   "id": "c8f7914682c35f5"
  },
  {
   "cell_type": "code",
   "execution_count": null,
   "outputs": [],
   "source": [],
   "metadata": {
    "collapsed": false,
    "ExecuteTime": {
     "start_time": "2024-01-24T11:12:55.486606600Z"
    }
   },
   "id": "839c2d951c69222b"
  }
 ],
 "metadata": {
  "kernelspec": {
   "display_name": "Python 3",
   "language": "python",
   "name": "python3"
  },
  "language_info": {
   "codemirror_mode": {
    "name": "ipython",
    "version": 2
   },
   "file_extension": ".py",
   "mimetype": "text/x-python",
   "name": "python",
   "nbconvert_exporter": "python",
   "pygments_lexer": "ipython2",
   "version": "2.7.6"
  }
 },
 "nbformat": 4,
 "nbformat_minor": 5
}
