{
 "cells": [
  {
   "cell_type": "code",
   "execution_count": 28,
   "outputs": [],
   "source": [
    "import pandas as pd\n",
    "import matplotlib.pyplot as plt\n"
   ],
   "metadata": {
    "collapsed": false,
    "ExecuteTime": {
     "end_time": "2024-02-29T07:47:21.265628100Z",
     "start_time": "2024-02-29T07:47:21.234362600Z"
    }
   },
   "id": "c42fa8c05c49ace"
  },
  {
   "cell_type": "code",
   "execution_count": 29,
   "outputs": [
    {
     "name": "stdout",
     "output_type": "stream",
     "text": [
      "Number of transmembrane proteins: 2067\n",
      "Number of variants in the transmembrane proteins, that are in globular residues: 1558\n"
     ]
    }
   ],
   "source": [
    "# Load the data\n",
    "filename = 'C:\\\\Users\\\\InbarBlech\\\\PycharmProjects\\\\Thesis\\\\Data\\\\data_for_all_dvd.csv'\n",
    "data = pd.read_csv(f\"{filename}\", index_col=False)\n",
    "\n",
    "# Analyze how many variants in the transmembrane proteins, are in globular residues.\n",
    "# Use \"is_residue_transmembrane\" to filter the non-transmembrane residues, and \"protein_contain_transmembrane\" to filter the transmembrane proteins.\n",
    "transmembrane_proteins = data[data['protein_contain_transmembrane'] == 1]\n",
    "globular_residues = transmembrane_proteins[transmembrane_proteins['is_residue_transmembranal'] == 0]\n",
    "# print the number of transmembrane proteins\n",
    "print(f\"Number of transmembrane proteins: {len(transmembrane_proteins)}\")\n",
    "# print the number of variants in the transmembrane proteins, that are in globular residues.\n",
    "print(f\"Number of variants in the transmembrane proteins, that are in globular residues: {len(globular_residues)}\")\n"
   ],
   "metadata": {
    "collapsed": false,
    "ExecuteTime": {
     "end_time": "2024-02-29T07:47:21.296909800Z",
     "start_time": "2024-02-29T07:47:21.250007500Z"
    }
   },
   "id": "fb525e53a66546a5"
  },
  {
   "cell_type": "code",
   "execution_count": 30,
   "outputs": [
    {
     "data": {
      "text/plain": "      gene  sensitivity  specificity  precision  accuracy       mcc  \\\n0   COL2A1     0.912587     0.950376   0.887755  0.939012  0.856308   \n1   COL4A5     0.958231     0.964758   0.979899  0.960568  0.915396   \n2   COL4A3     0.842520     0.943182   0.877049  0.910486  0.794155   \n3  SLC26A4     0.830189     0.729412   0.905350  0.805714  0.520853   \n4    MYO7A     0.742857     0.875000   0.511475  0.855207  0.534420   \n5    FGFR1     0.766917     0.887640   0.718310  0.854806  0.641638   \n6     WFS1     0.860465     0.782609   0.831461  0.825806  0.646350   \n\n   num_variants  num_benign  num_pathogenic   TP   FP  FN    TN  \n0           951         665             286  261   33  25   632  \n1           634         227             407  390    8  17   219  \n2           391         264             127  107   15  20   249  \n3           350          85             265  220   23  45    62  \n4          1402        1192             210  156  149  54  1043  \n5           489         356             133  102   40  31   316  \n6           310         138             172  148   30  24   108  ",
      "text/html": "<div>\n<style scoped>\n    .dataframe tbody tr th:only-of-type {\n        vertical-align: middle;\n    }\n\n    .dataframe tbody tr th {\n        vertical-align: top;\n    }\n\n    .dataframe thead th {\n        text-align: right;\n    }\n</style>\n<table border=\"1\" class=\"dataframe\">\n  <thead>\n    <tr style=\"text-align: right;\">\n      <th></th>\n      <th>gene</th>\n      <th>sensitivity</th>\n      <th>specificity</th>\n      <th>precision</th>\n      <th>accuracy</th>\n      <th>mcc</th>\n      <th>num_variants</th>\n      <th>num_benign</th>\n      <th>num_pathogenic</th>\n      <th>TP</th>\n      <th>FP</th>\n      <th>FN</th>\n      <th>TN</th>\n    </tr>\n  </thead>\n  <tbody>\n    <tr>\n      <th>0</th>\n      <td>COL2A1</td>\n      <td>0.912587</td>\n      <td>0.950376</td>\n      <td>0.887755</td>\n      <td>0.939012</td>\n      <td>0.856308</td>\n      <td>951</td>\n      <td>665</td>\n      <td>286</td>\n      <td>261</td>\n      <td>33</td>\n      <td>25</td>\n      <td>632</td>\n    </tr>\n    <tr>\n      <th>1</th>\n      <td>COL4A5</td>\n      <td>0.958231</td>\n      <td>0.964758</td>\n      <td>0.979899</td>\n      <td>0.960568</td>\n      <td>0.915396</td>\n      <td>634</td>\n      <td>227</td>\n      <td>407</td>\n      <td>390</td>\n      <td>8</td>\n      <td>17</td>\n      <td>219</td>\n    </tr>\n    <tr>\n      <th>2</th>\n      <td>COL4A3</td>\n      <td>0.842520</td>\n      <td>0.943182</td>\n      <td>0.877049</td>\n      <td>0.910486</td>\n      <td>0.794155</td>\n      <td>391</td>\n      <td>264</td>\n      <td>127</td>\n      <td>107</td>\n      <td>15</td>\n      <td>20</td>\n      <td>249</td>\n    </tr>\n    <tr>\n      <th>3</th>\n      <td>SLC26A4</td>\n      <td>0.830189</td>\n      <td>0.729412</td>\n      <td>0.905350</td>\n      <td>0.805714</td>\n      <td>0.520853</td>\n      <td>350</td>\n      <td>85</td>\n      <td>265</td>\n      <td>220</td>\n      <td>23</td>\n      <td>45</td>\n      <td>62</td>\n    </tr>\n    <tr>\n      <th>4</th>\n      <td>MYO7A</td>\n      <td>0.742857</td>\n      <td>0.875000</td>\n      <td>0.511475</td>\n      <td>0.855207</td>\n      <td>0.534420</td>\n      <td>1402</td>\n      <td>1192</td>\n      <td>210</td>\n      <td>156</td>\n      <td>149</td>\n      <td>54</td>\n      <td>1043</td>\n    </tr>\n    <tr>\n      <th>5</th>\n      <td>FGFR1</td>\n      <td>0.766917</td>\n      <td>0.887640</td>\n      <td>0.718310</td>\n      <td>0.854806</td>\n      <td>0.641638</td>\n      <td>489</td>\n      <td>356</td>\n      <td>133</td>\n      <td>102</td>\n      <td>40</td>\n      <td>31</td>\n      <td>316</td>\n    </tr>\n    <tr>\n      <th>6</th>\n      <td>WFS1</td>\n      <td>0.860465</td>\n      <td>0.782609</td>\n      <td>0.831461</td>\n      <td>0.825806</td>\n      <td>0.646350</td>\n      <td>310</td>\n      <td>138</td>\n      <td>172</td>\n      <td>148</td>\n      <td>30</td>\n      <td>24</td>\n      <td>108</td>\n    </tr>\n  </tbody>\n</table>\n</div>"
     },
     "execution_count": 30,
     "metadata": {},
     "output_type": "execute_result"
    }
   ],
   "source": [
    "# Import the performance metrics data for each model\n",
    "collagens_df = pd.read_csv('C:\\\\Users\\\\InbarBlech\\\\PycharmProjects\\\\Thesis\\\\predictions_vs_real\\\\collagens_proteins\\\\metrics_collagens_proteins.csv')\n",
    "globular_df= pd.read_csv('C:\\\\Users\\\\InbarBlech\\\\PycharmProjects\\\\Thesis\\\\predictions_vs_real\\\\globular_proteins\\\\metrics_globular_proteins.csv')\n",
    "transmembrane_df = pd.read_csv('C:\\\\Users\\\\InbarBlech\\\\PycharmProjects\\\\Thesis\\\\predictions_vs_real\\\\transmembrane_residues\\\\metrics_transmembrane_residues.csv')\n",
    "all_proteins_df = pd.read_csv('C:\\\\Users\\\\InbarBlech\\\\PycharmProjects\\\\Thesis\\\\predictions_vs_real\\\\metrics_all_protein_type_predictors.csv')\n",
    "gene_specific_pred_df = pd.read_csv('C:\\\\Users\\\\InbarBlech\\\\PycharmProjects\\\\Thesis\\\\predictions_vs_real\\\\gene_specific_predictors\\\\metrics_gene_specific_predictors.csv')\n",
    "\n",
    "gene_specific_pred_df\n"
   ],
   "metadata": {
    "collapsed": false,
    "ExecuteTime": {
     "end_time": "2024-02-29T07:47:21.354448Z",
     "start_time": "2024-02-29T07:47:21.296909800Z"
    }
   },
   "id": "fc1c80783fe29b6c"
  },
  {
   "cell_type": "code",
   "execution_count": 34,
   "outputs": [
    {
     "data": {
      "text/plain": "<Figure size 640x480 with 1 Axes>",
      "image/png": "[encoded data removed]"
     },
     "metadata": {},
     "output_type": "display_data"
    }
   ],
   "source": [
    "# Filter out genes with mcc equal to 0 or not enough data for each dataset\n",
    "all_proteins_filtered = all_proteins_df[(all_proteins_df['mcc'] != 0) & \n",
    "                                        (all_proteins_df['num_pathogenic'] >= 3) & \n",
    "                                        (all_proteins_df['num_benign'] >= 3)]\n",
    "\n",
    "globular_filtered = globular_df[(globular_df['mcc'] != 0) & \n",
    "                                (globular_df['num_pathogenic'] >= 3) & \n",
    "                                (globular_df['num_benign'] >= 3)]\n",
    "\n",
    "transmembrane_filtered = transmembrane_df[(transmembrane_df['mcc'] != 0) & \n",
    "                                          (transmembrane_df['num_pathogenic'] >= 3) & \n",
    "                                          (transmembrane_df['num_benign'] >= 3)]\n",
    "\n",
    "collagens_filtered = collagens_df[(collagens_df['mcc'] != 0) & \n",
    "                                  (collagens_df['num_pathogenic'] >= 3) & \n",
    "                                  (collagens_df['num_benign'] >= 3)]\n",
    "\n",
    "gene_specific_filtered = gene_specific_pred_df[(gene_specific_pred_df['mcc'] != 0) & \n",
    "                                              (gene_specific_pred_df['num_pathogenic'] >= 3) & \n",
    "                                              (gene_specific_pred_df['num_benign'] >= 3)]\n",
    "\n",
    "# Calculate the average metrics for each dataset\n",
    "avg_specificity_all = all_proteins_filtered['specificity'].mean()\n",
    "avg_sensitivity_all = all_proteins_filtered['sensitivity'].mean()\n",
    "avg_mcc_all = all_proteins_filtered['mcc'].mean()\n",
    "\n",
    "avg_specificity_g = globular_filtered['specificity'].mean()\n",
    "avg_sensitivity_g = globular_filtered['sensitivity'].mean()\n",
    "avg_mcc_g = globular_filtered['mcc'].mean()\n",
    "\n",
    "avg_specificity_t = transmembrane_filtered['specificity'].mean()\n",
    "avg_sensitivity_t = transmembrane_filtered['sensitivity'].mean()\n",
    "avg_mcc_t = transmembrane_filtered['mcc'].mean()\n",
    "\n",
    "avg_specificity_c = collagens_filtered['specificity'].mean()\n",
    "avg_sensitivity_c = collagens_filtered['sensitivity'].mean()\n",
    "avg_mcc_c = collagens_filtered['mcc'].mean()\n",
    "\n",
    "avg_specificity_gene_specific = gene_specific_filtered['specificity'].mean()\n",
    "avg_sensitivity_gene_specific = gene_specific_filtered['sensitivity'].mean()\n",
    "avg_mcc_gene_specific = gene_specific_filtered['mcc'].mean()\n",
    "\n",
    "# Plot the averaged metrics side by side\n",
    "labels = ['All Models', 'Globular', 'Transmembrane', 'Collagens', 'Gene Specific']\n",
    "specificity_values = [avg_specificity_all, avg_specificity_g, avg_specificity_t, avg_specificity_c, avg_specificity_gene_specific]\n",
    "sensitivity_values = [avg_sensitivity_all, avg_sensitivity_g, avg_sensitivity_t, avg_sensitivity_c, avg_sensitivity_gene_specific]\n",
    "mcc_values = [avg_mcc_all, avg_mcc_g, avg_mcc_t, avg_mcc_c, avg_mcc_gene_specific]\n",
    "\n",
    "x = range(len(labels))\n",
    "\n",
    "plt.bar(x, specificity_values, width=0.2, label='Specificity')\n",
    "plt.bar([i + 0.2 for i in x], sensitivity_values, width=0.2, label='Sensitivity')\n",
    "plt.bar([i + 0.4 for i in x], mcc_values, width=0.2, label='MCC')\n",
    "\n",
    "plt.xlabel('Protein Types')\n",
    "plt.ylabel('Average Value Over All Genes')\n",
    "plt.title('Averaged Metrics for Different Protein Type Models')\n",
    "plt.xticks([i + 0.2 for i in x], labels)\n",
    "plt.legend()\n",
    "plt.show()\n"
   ],
   "metadata": {
    "collapsed": false,
    "ExecuteTime": {
     "end_time": "2024-02-29T07:47:38.185960100Z",
     "start_time": "2024-02-29T07:47:38.013077400Z"
    }
   },
   "id": "b0971b7c40ffe7c1"
  },
  {
   "cell_type": "code",
   "execution_count": 32,
   "outputs": [
    {
     "name": "stdout",
     "output_type": "stream",
     "text": [
      "Number of genes in each type after filtering:\n",
      "All Proteins: 61\n",
      "Globular Proteins: 51\n",
      "Transmembrane Proteins: 3\n",
      "Collagens: 7\n"
     ]
    }
   ],
   "source": [
    "# Display the number of genes (rows) in each type after the filter\n",
    "print(\"Number of genes in each type after filtering:\")\n",
    "print(\"All Proteins:\", len(all_proteins_filtered))\n",
    "print(\"Globular Proteins:\", len(globular_filtered))\n",
    "print(\"Transmembrane Proteins:\", len(transmembrane_filtered))\n",
    "print(\"Collagens:\", len(collagens_filtered))"
   ],
   "metadata": {
    "collapsed": false,
    "ExecuteTime": {
     "end_time": "2024-02-29T07:47:21.558360900Z",
     "start_time": "2024-02-29T07:47:21.479866500Z"
    }
   },
   "id": "e499ad221d86a818"
  },
  {
   "cell_type": "code",
   "execution_count": 33,
   "outputs": [
    {
     "name": "stdout",
     "output_type": "stream",
     "text": [
      "Number of genes in each type before filtering:\n",
      "All Proteins: 170\n",
      "Globular Proteins: 123\n",
      "Transmembrane: 37\n",
      "Collagens: 19\n"
     ]
    }
   ],
   "source": [
    "# Display the number of genes (rows) in each type before the filter\n",
    "print(\"Number of genes in each type before filtering:\")\n",
    "print(\"All Proteins:\", len(all_proteins_df))\n",
    "print(\"Globular Proteins:\", len(globular_df))\n",
    "print(\"Transmembrane:\", len(transmembrane_df))\n",
    "print(\"Collagens:\", len(collagens_df))"
   ],
   "metadata": {
    "collapsed": false,
    "ExecuteTime": {
     "end_time": "2024-02-29T07:47:21.573986600Z",
     "start_time": "2024-02-29T07:47:21.495381900Z"
    }
   },
   "id": "837c431a0b9eaeb4"
  },
  {
   "cell_type": "code",
   "execution_count": 33,
   "outputs": [],
   "source": [],
   "metadata": {
    "collapsed": false,
    "ExecuteTime": {
     "end_time": "2024-02-29T07:47:21.573986600Z",
     "start_time": "2024-02-29T07:47:21.511059100Z"
    }
   },
   "id": "2c5669f2169b2e3e"
  }
 ],
 "metadata": {
  "kernelspec": {
   "display_name": "Python 3",
   "language": "python",
   "name": "python3"
  },
  "language_info": {
   "codemirror_mode": {
    "name": "ipython",
    "version": 2
   },
   "file_extension": ".py",
   "mimetype": "text/x-python",
   "name": "python",
   "nbconvert_exporter": "python",
   "pygments_lexer": "ipython2",
   "version": "2.7.6"
  }
 },
 "nbformat": 4,
 "nbformat_minor": 5
}
