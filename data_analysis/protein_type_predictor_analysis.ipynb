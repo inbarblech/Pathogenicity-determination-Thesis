{
 "cells": [
  {
   "cell_type": "code",
   "execution_count": 1,
   "outputs": [],
   "source": [
    "import pandas as pd\n"
   ],
   "metadata": {
    "collapsed": false,
    "ExecuteTime": {
     "end_time": "2024-02-05T13:27:18.148732500Z",
     "start_time": "2024-02-05T13:27:18.132672500Z"
    }
   },
   "id": "c42fa8c05c49ace"
  },
  {
   "cell_type": "code",
   "execution_count": 4,
   "outputs": [
    {
     "name": "stdout",
     "output_type": "stream",
     "text": [
      "Number of transmembrane proteins: 2067\n",
      "Number of variants in the transmembrane proteins, that are in globular residues: 1558\n"
     ]
    }
   ],
   "source": [
    "# Load the data\n",
    "filename = 'C:\\\\Users\\\\InbarBlech\\\\PycharmProjects\\\\Thesis\\\\Data\\\\data_for_all_dvd.csv'\n",
    "data = pd.read_csv(f\"{filename}\", index_col=False)\n",
    "\n",
    "# Analyze how many variants in the transmembrane proteins, are in globular residues.\n",
    "# Use \"is_residue_transmembrane\" to filter the non-transmembrane residues, and \"protein_contain_transmembrane\" to filter the transmembrane proteins.\n",
    "transmembrane_proteins = data[data['protein_contain_transmembrane'] == 1]\n",
    "globular_residues = transmembrane_proteins[transmembrane_proteins['is_residue_transmembranal'] == 0]\n",
    "# print the number of transmembrane proteins\n",
    "print(f\"Number of transmembrane proteins: {len(transmembrane_proteins)}\")\n",
    "# print the number of variants in the transmembrane proteins, that are in globular residues.\n",
    "print(f\"Number of variants in the transmembrane proteins, that are in globular residues: {len(globular_residues)}\")\n"
   ],
   "metadata": {
    "collapsed": false,
    "ExecuteTime": {
     "end_time": "2024-02-05T13:28:30.976040600Z",
     "start_time": "2024-02-05T13:28:30.928476600Z"
    }
   },
   "id": "fb525e53a66546a5"
  },
  {
   "cell_type": "code",
   "execution_count": null,
   "outputs": [],
   "source": [],
   "metadata": {
    "collapsed": false
   },
   "id": "fc1c80783fe29b6c"
  }
 ],
 "metadata": {
  "kernelspec": {
   "display_name": "Python 3",
   "language": "python",
   "name": "python3"
  },
  "language_info": {
   "codemirror_mode": {
    "name": "ipython",
    "version": 2
   },
   "file_extension": ".py",
   "mimetype": "text/x-python",
   "name": "python",
   "nbconvert_exporter": "python",
   "pygments_lexer": "ipython2",
   "version": "2.7.6"
  }
 },
 "nbformat": 4,
 "nbformat_minor": 5
}
