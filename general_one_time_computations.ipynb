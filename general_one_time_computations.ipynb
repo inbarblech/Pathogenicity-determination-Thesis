{
 "cells": [
  {
   "cell_type": "code",
   "execution_count": 30,
   "outputs": [],
   "source": [
    "# I want to clean the data in the Data/all_dvd_data_with_genomic_info folder, so that it will only include missense variants and path/benign variants\n",
    "import os\n",
    "import pandas as pd\n",
    "\n",
    "# Get the list of all files in the folder\n",
    "files = os.listdir(\"C:\\\\Users\\\\InbarBlech\\\\PycharmProjects\\\\Thesis\\\\Data\\\\all_dvd_data_with_genomic_info\\\\\")\n",
    "\n",
    "# For each file, read the data and filter it\n",
    "for file in files:\n",
    "    # Read the data\n",
    "    data = pd.read_csv(\"C:\\\\Users\\\\InbarBlech\\\\PycharmProjects\\\\Thesis\\\\Data\\\\all_dvd_data_with_genomic_info\\\\\" + file)\n",
    "    \n",
    "    # Filter the data\n",
    "    data = data[data['vep_consequence'] == 'missense_variant']\n",
    "    data = data[data['final_pathogenicity'].isin(['Pathogenic', 'Benign'])]\n",
    "    \n",
    "    # Save the data\n",
    "    data.to_csv(\"C:\\\\Users\\\\InbarBlech\\\\PycharmProjects\\\\Thesis\\\\Data\\\\all_dvd_data_with_genomic_info\\\\\" + file, index=False)"
   ],
   "metadata": {
    "collapsed": false,
    "ExecuteTime": {
     "end_time": "2024-04-18T13:38:38.128332500Z",
     "start_time": "2024-04-18T13:38:35.314859Z"
    }
   },
   "id": "4219d46fbf0e1cb7"
  },
  {
   "cell_type": "code",
   "execution_count": 31,
   "outputs": [
    {
     "name": "stdout",
     "output_type": "stream",
     "text": [
      "        id        variation       pos     vep_feature  \\\n",
      "0  2358199  20:25282896:G>C  25282896  NM_001042472.3   \n",
      "1  2358234  20:25282967:C>T  25282967  NM_001042472.3   \n",
      "2  2359156  20:25289122:G>C  25289122  NM_001042472.3   \n",
      "3  2360122  20:25295575:G>A  25295575  NM_001042472.3   \n",
      "4  2360406  20:25297700:C>G  25297700  NM_001042472.3   \n",
      "5  2360777  20:25300850:C>T  25300850  NM_001042472.3   \n",
      "6  2363262  20:25319977:C>T  25319977  NM_001042472.3   \n",
      "\n",
      "                 vep_hgvs_c   vep_hgvs_p  vep_protein_pos vep_exon vep_intron  \\\n",
      "0  NM_001042472.3:c.1116C>G  p.His372Gln              372    12/13         \\N   \n",
      "1  NM_001042472.3:c.1045G>A  p.Ala349Thr              349    12/13         \\N   \n",
      "2   NM_001042472.3:c.758C>G  p.Thr253Arg              253     8/13         \\N   \n",
      "3   NM_001042472.3:c.605C>T  p.Thr202Ile              202     6/13         \\N   \n",
      "4   NM_001042472.3:c.557G>C  p.Arg186Pro              186     5/13         \\N   \n",
      "5   NM_001042472.3:c.527G>A  p.Gly176Glu              176     4/13         \\N   \n",
      "6   NM_001042472.3:c.202G>A   p.Val68Met               68     2/13         \\N   \n",
      "\n",
      "  final_pathogenicity                                      final_disease  \\\n",
      "0          Pathogenic                               Retinitis pigmentosa   \n",
      "1              Benign                                                 \\N   \n",
      "2          Pathogenic  Polyneuropathy| hearing loss| ataxia| retiniti...   \n",
      "3          Pathogenic                               Retinitis pigmentosa   \n",
      "4          Pathogenic                               Retinitis pigmentosa   \n",
      "5          Pathogenic                                             Ataxia   \n",
      "6              Benign                                                 \\N   \n",
      "\n",
      "    vep_consequence vep_impact  \\\n",
      "0  missense_variant   MODERATE   \n",
      "1  missense_variant   MODERATE   \n",
      "2  missense_variant   MODERATE   \n",
      "3  missense_variant   MODERATE   \n",
      "4  missense_variant   MODERATE   \n",
      "5  missense_variant   MODERATE   \n",
      "6  missense_variant   MODERATE   \n",
      "\n",
      "                              dbnsfp_interpro_domain vep_motif_name  \\\n",
      "0                                                N&.             \\N   \n",
      "1                                                N&.             \\N   \n",
      "2  N&Serine_aminopeptidase&_S33&.&Serine_aminopep...             \\N   \n",
      "3  N&Serine_aminopeptidase&_S33&Serine_aminopepti...             \\N   \n",
      "4  N&Serine_aminopeptidase&_S33&Serine_aminopepti...             \\N   \n",
      "5  N&Serine_aminopeptidase&_S33&Serine_aminopepti...             \\N   \n",
      "6                                              N&.&.             \\N   \n",
      "\n",
      "   vep_cadd_phred overall_max_maf overall_max_maf_source    gene variant  \n",
      "0           24.40              \\N                     \\N  ABHD12   H372Q  \n",
      "1           22.80       0.0634208     gnomad_AF_nfe_pass  ABHD12   A349T  \n",
      "2           25.10     4.52031e-05     gnomad_AF_nfe_pass  ABHD12   T253R  \n",
      "3           24.00              \\N                     \\N  ABHD12   T202I  \n",
      "4           26.20              \\N                     \\N  ABHD12   R186P  \n",
      "5           26.40              \\N                     \\N  ABHD12   G176E  \n",
      "6           16.18       0.0239564     gnomad_AF_afr_pass  ABHD12    V68M  \n"
     ]
    }
   ],
   "source": [
    "# print one of the files to see if the filtering worked\n",
    "data = pd.read_csv(\"C:\\\\Users\\\\InbarBlech\\\\PycharmProjects\\\\Thesis\\\\Data\\\\all_dvd_data_with_genomic_info\\\\\" + files[0])\n",
    "print(data)"
   ],
   "metadata": {
    "collapsed": false,
    "ExecuteTime": {
     "end_time": "2024-04-18T13:38:38.153344500Z",
     "start_time": "2024-04-18T13:38:38.122136700Z"
    }
   },
   "id": "6637f93ded76f5da"
  },
  {
   "cell_type": "code",
   "execution_count": 32,
   "outputs": [],
   "source": [
    "# If there are no rows in the data, I want to remove the file from the folder and print it to screen.\n",
    "for file in files:\n",
    "    data = pd.read_csv(\"C:\\\\Users\\\\InbarBlech\\\\PycharmProjects\\\\Thesis\\\\Data\\\\all_dvd_data_with_genomic_info\\\\\" + file)\n",
    "    # If there is only the header in the data, remove the file\n",
    "    if data.shape[0] == 0:\n",
    "        os.remove(\"C:\\\\Users\\\\InbarBlech\\\\PycharmProjects\\\\Thesis\\\\Data\\\\all_dvd_data_with_genomic_info\\\\\" + file)\n",
    "        print(file)"
   ],
   "metadata": {
    "collapsed": false,
    "ExecuteTime": {
     "end_time": "2024-04-18T13:38:43.038482800Z",
     "start_time": "2024-04-18T13:38:38.155347Z"
    }
   },
   "id": "d412c883f2505657"
  },
  {
   "cell_type": "code",
   "execution_count": 33,
   "outputs": [],
   "source": [
    "# For each file, I want to add a column that will include the variant in the format of \"Amino_acid:Position:Amino_acid\", use the functions from the utils file\n",
    "from general_tools import convert_hgvs_protein_to_variant\n",
    "\n",
    "# Update files list after removing files\n",
    "files = os.listdir(\"C:\\\\Users\\\\InbarBlech\\\\PycharmProjects\\\\Thesis\\\\Data\\\\all_dvd_data_with_genomic_info\\\\\")\n",
    "\n",
    "# For each file, read the data and add the column\n",
    "for file in files:\n",
    "    # Read the data\n",
    "    data = pd.read_csv(\"C:\\\\Users\\\\InbarBlech\\\\PycharmProjects\\\\Thesis\\\\Data\\\\all_dvd_data_with_genomic_info\\\\\" + file)\n",
    "    \n",
    "    # Cut the string to only include the amino acid change in all the rows\n",
    "    data['vep_hgvs_p'] = data['vep_hgvs_p'].apply(lambda x: x.split(\":\")[-1])\n",
    "    \n",
    "    # Add the column\n",
    "    data['variant'] = data.apply(lambda row: convert_hgvs_protein_to_variant(row['vep_hgvs_p']), axis=1)\n",
    "    \n",
    "    # Save the data\n",
    "    data.to_csv(\"C:\\\\Users\\\\InbarBlech\\\\PycharmProjects\\\\Thesis\\\\Data\\\\all_dvd_data_with_genomic_info\\\\\" + file, index=False)"
   ],
   "metadata": {
    "collapsed": false,
    "ExecuteTime": {
     "end_time": "2024-04-18T13:38:44.276662100Z",
     "start_time": "2024-04-18T13:38:43.040488300Z"
    }
   },
   "id": "f5368ad7bd331f6e"
  },
  {
   "cell_type": "code",
   "execution_count": 34,
   "outputs": [
    {
     "name": "stdout",
     "output_type": "stream",
     "text": [
      "        id        variation       pos     vep_feature  \\\n",
      "0  2358199  20:25282896:G>C  25282896  NM_001042472.3   \n",
      "1  2358234  20:25282967:C>T  25282967  NM_001042472.3   \n",
      "2  2359156  20:25289122:G>C  25289122  NM_001042472.3   \n",
      "3  2360122  20:25295575:G>A  25295575  NM_001042472.3   \n",
      "4  2360406  20:25297700:C>G  25297700  NM_001042472.3   \n",
      "5  2360777  20:25300850:C>T  25300850  NM_001042472.3   \n",
      "6  2363262  20:25319977:C>T  25319977  NM_001042472.3   \n",
      "\n",
      "                 vep_hgvs_c   vep_hgvs_p  vep_protein_pos vep_exon vep_intron  \\\n",
      "0  NM_001042472.3:c.1116C>G  p.His372Gln              372    12/13         \\N   \n",
      "1  NM_001042472.3:c.1045G>A  p.Ala349Thr              349    12/13         \\N   \n",
      "2   NM_001042472.3:c.758C>G  p.Thr253Arg              253     8/13         \\N   \n",
      "3   NM_001042472.3:c.605C>T  p.Thr202Ile              202     6/13         \\N   \n",
      "4   NM_001042472.3:c.557G>C  p.Arg186Pro              186     5/13         \\N   \n",
      "5   NM_001042472.3:c.527G>A  p.Gly176Glu              176     4/13         \\N   \n",
      "6   NM_001042472.3:c.202G>A   p.Val68Met               68     2/13         \\N   \n",
      "\n",
      "  final_pathogenicity                                      final_disease  \\\n",
      "0          Pathogenic                               Retinitis pigmentosa   \n",
      "1              Benign                                                 \\N   \n",
      "2          Pathogenic  Polyneuropathy| hearing loss| ataxia| retiniti...   \n",
      "3          Pathogenic                               Retinitis pigmentosa   \n",
      "4          Pathogenic                               Retinitis pigmentosa   \n",
      "5          Pathogenic                                             Ataxia   \n",
      "6              Benign                                                 \\N   \n",
      "\n",
      "    vep_consequence vep_impact  \\\n",
      "0  missense_variant   MODERATE   \n",
      "1  missense_variant   MODERATE   \n",
      "2  missense_variant   MODERATE   \n",
      "3  missense_variant   MODERATE   \n",
      "4  missense_variant   MODERATE   \n",
      "5  missense_variant   MODERATE   \n",
      "6  missense_variant   MODERATE   \n",
      "\n",
      "                              dbnsfp_interpro_domain vep_motif_name  \\\n",
      "0                                                N&.             \\N   \n",
      "1                                                N&.             \\N   \n",
      "2  N&Serine_aminopeptidase&_S33&.&Serine_aminopep...             \\N   \n",
      "3  N&Serine_aminopeptidase&_S33&Serine_aminopepti...             \\N   \n",
      "4  N&Serine_aminopeptidase&_S33&Serine_aminopepti...             \\N   \n",
      "5  N&Serine_aminopeptidase&_S33&Serine_aminopepti...             \\N   \n",
      "6                                              N&.&.             \\N   \n",
      "\n",
      "   vep_cadd_phred overall_max_maf overall_max_maf_source    gene variant  \n",
      "0           24.40              \\N                     \\N  ABHD12   H372Q  \n",
      "1           22.80       0.0634208     gnomad_AF_nfe_pass  ABHD12   A349T  \n",
      "2           25.10     4.52031e-05     gnomad_AF_nfe_pass  ABHD12   T253R  \n",
      "3           24.00              \\N                     \\N  ABHD12   T202I  \n",
      "4           26.20              \\N                     \\N  ABHD12   R186P  \n",
      "5           26.40              \\N                     \\N  ABHD12   G176E  \n",
      "6           16.18       0.0239564     gnomad_AF_afr_pass  ABHD12    V68M  \n"
     ]
    }
   ],
   "source": [
    "# print one of the files to see if the column was added\n",
    "data = pd.read_csv(\"C:\\\\Users\\\\InbarBlech\\\\PycharmProjects\\\\Thesis\\\\Data\\\\all_dvd_data_with_genomic_info\\\\\" + files[0])\n",
    "print(data)"
   ],
   "metadata": {
    "collapsed": false,
    "ExecuteTime": {
     "end_time": "2024-04-18T13:38:44.276662100Z",
     "start_time": "2024-04-18T13:38:44.238560100Z"
    }
   },
   "id": "aba71400654464d7"
  },
  {
   "cell_type": "code",
   "execution_count": null,
   "outputs": [],
   "source": [
    "# Create one csv file with all the data from all the files in the folder. With columns: gene, variant, pathogenicity, chromosome, position, ref, alt.\n",
    "# First, read all the files and concatenate them\n",
    "data = pd.concat([pd.read_csv(\"C:\\\\Users\\\\InbarBlech\\\\PycharmProjects\\\\Thesis\\\\Data\\\\all_dvd_data_with_genomic_info\\\\\" + file) for file in files])\n",
    "# Now remove the columns that are not needed\n",
    "# Change the variation column to include only the value until the :\n",
    "data['chromosome'] = data['variation'].apply(lambda x: x.split(\":\")[0])\n",
    "data['ref'] = data['vep_hgvs_c'].str[-3]\n",
    "data['alt'] = data['vep_hgvs_c'].str[-1]\n",
    "data = data[['gene', 'variant', 'final_pathogenicity', 'chromosome', 'pos', 'ref', 'alt']]\n",
    "# Change the name of final_pathogenicity to pathogenicity\n",
    "data = data.rename(columns={'final_pathogenicity': 'pathogenicity'})\n",
    "# Save the data\n",
    "data.to_csv(\"C:\\\\Users\\\\InbarBlech\\\\PycharmProjects\\\\Thesis\\\\benchmarking\\\\predictions_of_other_tools_for_all_dvd_variants.csv\", index=False)"
   ],
   "metadata": {
    "collapsed": false,
    "ExecuteTime": {
     "start_time": "2024-04-18T13:39:40.888133200Z"
    }
   },
   "id": "72a5ddca455ea5a9"
  },
  {
   "cell_type": "code",
   "execution_count": 37,
   "outputs": [],
   "source": [
    "# Add uniprot_id to the data\n",
    "from data_retrievel_and_feature_extraction import uniprot_info as uni\n",
    "\n",
    "# Read the data\n",
    "data = pd.read_csv(\"C:\\\\Users\\\\InbarBlech\\\\PycharmProjects\\\\Thesis\\\\benchmarking\\\\predictions_of_other_tools_for_all_dvd_variants.csv\")\n",
    "\n",
    "# Create dictionary of genes\n",
    "genes_to_uniprot = {}\n",
    "for gene in data['gene'].unique():\n",
    "    genes_to_uniprot[gene] = uni.get_uniprot_id(gene)\n",
    "\n",
    "# Add the uniprot_id column\n",
    "data['uniprot_id'] = data['gene'].apply(lambda x: genes_to_uniprot[x])\n",
    "\n",
    "# Save the data\n",
    "data.to_csv(\"C:\\\\Users\\\\InbarBlech\\\\PycharmProjects\\\\Thesis\\\\benchmarking\\\\predictions_of_other_tools_for_all_dvd_variants.csv\", index=False)\n"
   ],
   "metadata": {
    "collapsed": false,
    "ExecuteTime": {
     "end_time": "2024-04-18T13:42:34.619427500Z",
     "start_time": "2024-04-18T13:39:43.149311300Z"
    }
   },
   "id": "8d0ca44c357eccf3"
  },
  {
   "cell_type": "code",
   "execution_count": null,
   "outputs": [],
   "source": [],
   "metadata": {
    "collapsed": false,
    "ExecuteTime": {
     "start_time": "2024-04-18T13:39:40.885131900Z"
    }
   },
   "id": "4049d762c0f4cb27"
  }
 ],
 "metadata": {
  "kernelspec": {
   "display_name": "Python 3",
   "language": "python",
   "name": "python3"
  },
  "language_info": {
   "codemirror_mode": {
    "name": "ipython",
    "version": 2
   },
   "file_extension": ".py",
   "mimetype": "text/x-python",
   "name": "python",
   "nbconvert_exporter": "python",
   "pygments_lexer": "ipython2",
   "version": "2.7.6"
  }
 },
 "nbformat": 4,
 "nbformat_minor": 5
}
