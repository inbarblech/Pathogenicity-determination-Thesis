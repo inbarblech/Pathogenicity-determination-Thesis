{
 "cells": [
  {
   "cell_type": "code",
   "execution_count": 1,
   "outputs": [],
   "source": [
    "# Parsing humsavar txt file as csv\n",
    "import csv\n",
    "import pandas as pd\n",
    "import numpy as np"
   ],
   "metadata": {
    "collapsed": false,
    "ExecuteTime": {
     "end_time": "2023-11-16T14:19:13.479384600Z",
     "start_time": "2023-11-16T14:19:13.465917Z"
    }
   },
   "id": "4844b29395523d36"
  },
  {
   "cell_type": "markdown",
   "source": [],
   "metadata": {
    "collapsed": false
   },
   "id": "aa3c69418e11f21"
  },
  {
   "cell_type": "code",
   "execution_count": 2,
   "outputs": [],
   "source": [
    "file_path = \"C:\\\\Users\\\\InbarBlech\\\\PycharmProjects\\\\Thesis\\\\validation\\\\humsavar.txt\"\n",
    "output_csv_path = \"C:\\\\Users\\\\InbarBlech\\\\PycharmProjects\\\\Thesis\\\\validation\\\\humsavar.csv\"\n",
    "# \n",
    "# with open(file_path, 'r') as file:\n",
    "#     # Read lines from the file\n",
    "#     lines = file.readlines()\n",
    "# \n",
    "# # Process each line and extract values based on column positions\n",
    "# data = []\n",
    "# for line in lines:\n",
    "#     # Extract values based on column positions\n",
    "#     column1 = line[0:11].strip()\n",
    "#     column2 = line[12:22].strip()\n",
    "#     column3 = line[23:34].strip()\n",
    "#     column4 = line[35:49].strip()\n",
    "#     column5 = line[50:58].strip()\n",
    "#     column6 = line[59:73].strip()\n",
    "#     column7 = line[74:].strip()\n",
    "# \n",
    "#     # Append the extracted values as a list\n",
    "#     data.append([column1, column2, column3, column4, column5, column6, column7])\n",
    "# \n",
    "# # Open a new CSV file for writing\n",
    "# with open(output_csv_path, 'w', newline='') as output_file:\n",
    "#     # Create a CSV writer object\n",
    "#     csv_writer = csv.writer(output_file)\n",
    "#     \n",
    "#     # Write the data to the new CSV file\n",
    "#     csv_writer.writerows(data)"
   ],
   "metadata": {
    "collapsed": false,
    "ExecuteTime": {
     "end_time": "2023-11-16T14:19:13.494518Z",
     "start_time": "2023-11-16T14:19:13.481384700Z"
    }
   },
   "id": "30035a613bcd8c19"
  },
  {
   "cell_type": "code",
   "execution_count": 3,
   "outputs": [
    {
     "data": {
      "text/plain": "         gene uniprot_id        FTId      variant category         dbSNP  \\\n15766  COL2A1     P02458  VAR_001738  p.Gly267Asp     LP/P   rs121912872   \n15767  COL2A1     P02458  VAR_001739  p.Arg275Cys     LP/P   rs121912876   \n15768  COL2A1     P02458  VAR_001741  p.Gly303Asp     LP/P   rs121912877   \n15769  COL2A1     P02458  VAR_001742  p.Gly354Arg     LB/B   rs121912871   \n15770  COL2A1     P02458  VAR_001743  p.Gly375Arg     LP/P             -   \n...       ...        ...         ...          ...      ...           ...   \n80417    WFS1     O76024  VAR_074210  p.Asp171Asn     LP/P   rs758281375   \n80418    WFS1     O76024  VAR_074211  p.Tyr669His     LP/P             -   \n80419    WFS1     O76024  VAR_074212  p.Arg685Pro     LP/P   rs142668478   \n80420    WFS1     O76024  VAR_074213  p.His696Tyr     LP/P             -   \n80421    WFS1     O76024  VAR_074214  p.Arg703His     LP/P  rs1323852277   \n\n                                            Disease name  \n15766  Stickler syndrome 1 non-syndromic ocular (STL1...  \n15767              Czech dysplasia (CZECHD) [MIM:609162]  \n15768                 Kniest dysplasia (KD) [MIM:156550]  \n15769                                                  -  \n15770  Spondyloepiphyseal dysplasia congenital type (...  \n...                                                  ...  \n80417  Deafness, autosomal dominant, 6 (DFNA6) [MIM:6...  \n80418  Deafness, autosomal dominant, 6 (DFNA6) [MIM:6...  \n80419  Deafness, autosomal dominant, 6 (DFNA6) [MIM:6...  \n80420  Deafness, autosomal dominant, 6 (DFNA6) [MIM:6...  \n80421  Deafness, autosomal dominant, 6 (DFNA6) [MIM:6...  \n\n[630 rows x 7 columns]",
      "text/html": "<div>\n<style scoped>\n    .dataframe tbody tr th:only-of-type {\n        vertical-align: middle;\n    }\n\n    .dataframe tbody tr th {\n        vertical-align: top;\n    }\n\n    .dataframe thead th {\n        text-align: right;\n    }\n</style>\n<table border=\"1\" class=\"dataframe\">\n  <thead>\n    <tr style=\"text-align: right;\">\n      <th></th>\n      <th>gene</th>\n      <th>uniprot_id</th>\n      <th>FTId</th>\n      <th>variant</th>\n      <th>category</th>\n      <th>dbSNP</th>\n      <th>Disease name</th>\n    </tr>\n  </thead>\n  <tbody>\n    <tr>\n      <th>15766</th>\n      <td>COL2A1</td>\n      <td>P02458</td>\n      <td>VAR_001738</td>\n      <td>p.Gly267Asp</td>\n      <td>LP/P</td>\n      <td>rs121912872</td>\n      <td>Stickler syndrome 1 non-syndromic ocular (STL1...</td>\n    </tr>\n    <tr>\n      <th>15767</th>\n      <td>COL2A1</td>\n      <td>P02458</td>\n      <td>VAR_001739</td>\n      <td>p.Arg275Cys</td>\n      <td>LP/P</td>\n      <td>rs121912876</td>\n      <td>Czech dysplasia (CZECHD) [MIM:609162]</td>\n    </tr>\n    <tr>\n      <th>15768</th>\n      <td>COL2A1</td>\n      <td>P02458</td>\n      <td>VAR_001741</td>\n      <td>p.Gly303Asp</td>\n      <td>LP/P</td>\n      <td>rs121912877</td>\n      <td>Kniest dysplasia (KD) [MIM:156550]</td>\n    </tr>\n    <tr>\n      <th>15769</th>\n      <td>COL2A1</td>\n      <td>P02458</td>\n      <td>VAR_001742</td>\n      <td>p.Gly354Arg</td>\n      <td>LB/B</td>\n      <td>rs121912871</td>\n      <td>-</td>\n    </tr>\n    <tr>\n      <th>15770</th>\n      <td>COL2A1</td>\n      <td>P02458</td>\n      <td>VAR_001743</td>\n      <td>p.Gly375Arg</td>\n      <td>LP/P</td>\n      <td>-</td>\n      <td>Spondyloepiphyseal dysplasia congenital type (...</td>\n    </tr>\n    <tr>\n      <th>...</th>\n      <td>...</td>\n      <td>...</td>\n      <td>...</td>\n      <td>...</td>\n      <td>...</td>\n      <td>...</td>\n      <td>...</td>\n    </tr>\n    <tr>\n      <th>80417</th>\n      <td>WFS1</td>\n      <td>O76024</td>\n      <td>VAR_074210</td>\n      <td>p.Asp171Asn</td>\n      <td>LP/P</td>\n      <td>rs758281375</td>\n      <td>Deafness, autosomal dominant, 6 (DFNA6) [MIM:6...</td>\n    </tr>\n    <tr>\n      <th>80418</th>\n      <td>WFS1</td>\n      <td>O76024</td>\n      <td>VAR_074211</td>\n      <td>p.Tyr669His</td>\n      <td>LP/P</td>\n      <td>-</td>\n      <td>Deafness, autosomal dominant, 6 (DFNA6) [MIM:6...</td>\n    </tr>\n    <tr>\n      <th>80419</th>\n      <td>WFS1</td>\n      <td>O76024</td>\n      <td>VAR_074212</td>\n      <td>p.Arg685Pro</td>\n      <td>LP/P</td>\n      <td>rs142668478</td>\n      <td>Deafness, autosomal dominant, 6 (DFNA6) [MIM:6...</td>\n    </tr>\n    <tr>\n      <th>80420</th>\n      <td>WFS1</td>\n      <td>O76024</td>\n      <td>VAR_074213</td>\n      <td>p.His696Tyr</td>\n      <td>LP/P</td>\n      <td>-</td>\n      <td>Deafness, autosomal dominant, 6 (DFNA6) [MIM:6...</td>\n    </tr>\n    <tr>\n      <th>80421</th>\n      <td>WFS1</td>\n      <td>O76024</td>\n      <td>VAR_074214</td>\n      <td>p.Arg703His</td>\n      <td>LP/P</td>\n      <td>rs1323852277</td>\n      <td>Deafness, autosomal dominant, 6 (DFNA6) [MIM:6...</td>\n    </tr>\n  </tbody>\n</table>\n<p>630 rows × 7 columns</p>\n</div>"
     },
     "execution_count": 3,
     "metadata": {},
     "output_type": "execute_result"
    }
   ],
   "source": [
    "genes = [\"GJB2\", \"COL2A1\", \"COL4A5\", \"COL4A3\", \"WFS1\", \"SLC26A4\", \"MYO7A\", \"FGFR1\"]\n",
    "\n",
    "# Read the CSV file into a pandas data frame object\n",
    "# Leave only the rows where gene is in the list\n",
    "df = pd.read_csv(output_csv_path)\n",
    "df = df[df[\"gene\"].isin(genes)]\n",
    "df"
   ],
   "metadata": {
    "collapsed": false,
    "ExecuteTime": {
     "end_time": "2023-11-16T14:19:13.775126200Z",
     "start_time": "2023-11-16T14:19:13.500541400Z"
    }
   },
   "id": "e2e108089b6c6978"
  },
  {
   "cell_type": "code",
   "execution_count": 4,
   "outputs": [],
   "source": [
    "# Translate the variant name. From p.His52Arg to H52R. Use the function from the tools.\n",
    "import general_tools as tools\n",
    "\n",
    "# delete the \"p.\" from the variant name\n",
    "df[\"variant\"] = df[\"variant\"].apply(lambda x: x[2:])\n",
    "df[\"variant\"] = df[\"variant\"].apply(lambda x: tools.convert_variant_to_1_letter(x))\n",
    "humasavar = df\n",
    "df"
   ],
   "metadata": {
    "collapsed": false,
    "ExecuteTime": {
     "end_time": "2023-11-16T14:19:14.083425900Z",
     "start_time": "2023-11-16T14:19:13.781369200Z"
    }
   },
   "id": "9311296f1ed507ef"
  },
  {
   "cell_type": "code",
   "execution_count": 5,
   "outputs": [
    {
     "data": {
      "text/plain": "       gene variant pathogenicity  stability_WT  stability_MUT  blosum  \\\n0     MYO7A     M1H        benign       651.486        651.793    -2.0   \n1     MYO7A     M1L        benign       651.486        651.544     2.0   \n2     MYO7A     M1P        benign       651.486        651.847    -2.0   \n3     MYO7A     M1T        benign       651.486        651.816    -1.0   \n4     MYO7A     M1W        benign       651.486        651.273    -1.0   \n..      ...     ...           ...           ...            ...     ...   \n731  COL4A5  D1659E        benign           NaN            NaN     NaN   \n732  COL4A5  S1659N    pathogenic           NaN            NaN     NaN   \n733  COL4A5  S1665N    pathogenic           NaN            NaN     NaN   \n734  COL4A5  T1671M        benign           NaN            NaN     NaN   \n735  COL4A5  T1665M        benign           NaN            NaN     NaN   \n\n     hydrophobicity_WT  hydrophobicity_MUT  volume_WT  volume_MUT  ...  \\\n0                  1.9                -3.2      162.9       153.2  ...   \n1                  1.9                 3.8      162.9       166.7  ...   \n2                  1.9                -1.6      162.9       112.7  ...   \n3                  1.9                -0.7      162.9       116.1  ...   \n4                  1.9                -0.9      162.9       227.8  ...   \n..                 ...                 ...        ...         ...  ...   \n731                NaN                 NaN        NaN         NaN  ...   \n732                NaN                 NaN        NaN         NaN  ...   \n733                NaN                 NaN        NaN         NaN  ...   \n734                NaN                 NaN        NaN         NaN  ...   \n735                NaN                 NaN        NaN         NaN  ...   \n\n     sasa_MUT   RSA_WT   RSA_MUT oda_delta sasa_delta   pssm entropy  source  \\\n0      215.31  1.15335  0.996806      3.05     -18.82  5.096    2.24  patmut   \n1      194.46  1.15335  1.018115     -0.94     -39.67  5.096    2.24  patmut   \n2      177.16  1.15335  1.150390     -2.26     -56.97  5.096    2.24  patmut   \n3      173.00  1.15335  1.061350      2.11     -61.13  5.096    2.24  patmut   \n4      260.26  1.15335  0.985833    -11.56      26.13  5.096    2.24  patmut   \n..        ...      ...       ...       ...        ...    ...     ...     ...   \n731       NaN      NaN       NaN       NaN        NaN    NaN     NaN     NaN   \n732       NaN      NaN       NaN       NaN        NaN    NaN     NaN     NaN   \n733       NaN      NaN       NaN       NaN        NaN    NaN     NaN     NaN   \n734       NaN      NaN       NaN       NaN        NaN    NaN     NaN     NaN   \n735       NaN      NaN       NaN       NaN        NaN    NaN     NaN     NaN   \n\n     uniprot_id  Unnamed: 0  \n0           NaN         NaN  \n1           NaN         NaN  \n2           NaN         NaN  \n3           NaN         NaN  \n4           NaN         NaN  \n..          ...         ...  \n731      P29400       731.0  \n732      P29400       732.0  \n733      P29400       733.0  \n734      P29400       734.0  \n735      P29400       735.0  \n\n[5229 rows x 33 columns]",
      "text/html": "<div>\n<style scoped>\n    .dataframe tbody tr th:only-of-type {\n        vertical-align: middle;\n    }\n\n    .dataframe tbody tr th {\n        vertical-align: top;\n    }\n\n    .dataframe thead th {\n        text-align: right;\n    }\n</style>\n<table border=\"1\" class=\"dataframe\">\n  <thead>\n    <tr style=\"text-align: right;\">\n      <th></th>\n      <th>gene</th>\n      <th>variant</th>\n      <th>pathogenicity</th>\n      <th>stability_WT</th>\n      <th>stability_MUT</th>\n      <th>blosum</th>\n      <th>hydrophobicity_WT</th>\n      <th>hydrophobicity_MUT</th>\n      <th>volume_WT</th>\n      <th>volume_MUT</th>\n      <th>...</th>\n      <th>sasa_MUT</th>\n      <th>RSA_WT</th>\n      <th>RSA_MUT</th>\n      <th>oda_delta</th>\n      <th>sasa_delta</th>\n      <th>pssm</th>\n      <th>entropy</th>\n      <th>source</th>\n      <th>uniprot_id</th>\n      <th>Unnamed: 0</th>\n    </tr>\n  </thead>\n  <tbody>\n    <tr>\n      <th>0</th>\n      <td>MYO7A</td>\n      <td>M1H</td>\n      <td>benign</td>\n      <td>651.486</td>\n      <td>651.793</td>\n      <td>-2.0</td>\n      <td>1.9</td>\n      <td>-3.2</td>\n      <td>162.9</td>\n      <td>153.2</td>\n      <td>...</td>\n      <td>215.31</td>\n      <td>1.15335</td>\n      <td>0.996806</td>\n      <td>3.05</td>\n      <td>-18.82</td>\n      <td>5.096</td>\n      <td>2.24</td>\n      <td>patmut</td>\n      <td>NaN</td>\n      <td>NaN</td>\n    </tr>\n    <tr>\n      <th>1</th>\n      <td>MYO7A</td>\n      <td>M1L</td>\n      <td>benign</td>\n      <td>651.486</td>\n      <td>651.544</td>\n      <td>2.0</td>\n      <td>1.9</td>\n      <td>3.8</td>\n      <td>162.9</td>\n      <td>166.7</td>\n      <td>...</td>\n      <td>194.46</td>\n      <td>1.15335</td>\n      <td>1.018115</td>\n      <td>-0.94</td>\n      <td>-39.67</td>\n      <td>5.096</td>\n      <td>2.24</td>\n      <td>patmut</td>\n      <td>NaN</td>\n      <td>NaN</td>\n    </tr>\n    <tr>\n      <th>2</th>\n      <td>MYO7A</td>\n      <td>M1P</td>\n      <td>benign</td>\n      <td>651.486</td>\n      <td>651.847</td>\n      <td>-2.0</td>\n      <td>1.9</td>\n      <td>-1.6</td>\n      <td>162.9</td>\n      <td>112.7</td>\n      <td>...</td>\n      <td>177.16</td>\n      <td>1.15335</td>\n      <td>1.150390</td>\n      <td>-2.26</td>\n      <td>-56.97</td>\n      <td>5.096</td>\n      <td>2.24</td>\n      <td>patmut</td>\n      <td>NaN</td>\n      <td>NaN</td>\n    </tr>\n    <tr>\n      <th>3</th>\n      <td>MYO7A</td>\n      <td>M1T</td>\n      <td>benign</td>\n      <td>651.486</td>\n      <td>651.816</td>\n      <td>-1.0</td>\n      <td>1.9</td>\n      <td>-0.7</td>\n      <td>162.9</td>\n      <td>116.1</td>\n      <td>...</td>\n      <td>173.00</td>\n      <td>1.15335</td>\n      <td>1.061350</td>\n      <td>2.11</td>\n      <td>-61.13</td>\n      <td>5.096</td>\n      <td>2.24</td>\n      <td>patmut</td>\n      <td>NaN</td>\n      <td>NaN</td>\n    </tr>\n    <tr>\n      <th>4</th>\n      <td>MYO7A</td>\n      <td>M1W</td>\n      <td>benign</td>\n      <td>651.486</td>\n      <td>651.273</td>\n      <td>-1.0</td>\n      <td>1.9</td>\n      <td>-0.9</td>\n      <td>162.9</td>\n      <td>227.8</td>\n      <td>...</td>\n      <td>260.26</td>\n      <td>1.15335</td>\n      <td>0.985833</td>\n      <td>-11.56</td>\n      <td>26.13</td>\n      <td>5.096</td>\n      <td>2.24</td>\n      <td>patmut</td>\n      <td>NaN</td>\n      <td>NaN</td>\n    </tr>\n    <tr>\n      <th>...</th>\n      <td>...</td>\n      <td>...</td>\n      <td>...</td>\n      <td>...</td>\n      <td>...</td>\n      <td>...</td>\n      <td>...</td>\n      <td>...</td>\n      <td>...</td>\n      <td>...</td>\n      <td>...</td>\n      <td>...</td>\n      <td>...</td>\n      <td>...</td>\n      <td>...</td>\n      <td>...</td>\n      <td>...</td>\n      <td>...</td>\n      <td>...</td>\n      <td>...</td>\n      <td>...</td>\n    </tr>\n    <tr>\n      <th>731</th>\n      <td>COL4A5</td>\n      <td>D1659E</td>\n      <td>benign</td>\n      <td>NaN</td>\n      <td>NaN</td>\n      <td>NaN</td>\n      <td>NaN</td>\n      <td>NaN</td>\n      <td>NaN</td>\n      <td>NaN</td>\n      <td>...</td>\n      <td>NaN</td>\n      <td>NaN</td>\n      <td>NaN</td>\n      <td>NaN</td>\n      <td>NaN</td>\n      <td>NaN</td>\n      <td>NaN</td>\n      <td>NaN</td>\n      <td>P29400</td>\n      <td>731.0</td>\n    </tr>\n    <tr>\n      <th>732</th>\n      <td>COL4A5</td>\n      <td>S1659N</td>\n      <td>pathogenic</td>\n      <td>NaN</td>\n      <td>NaN</td>\n      <td>NaN</td>\n      <td>NaN</td>\n      <td>NaN</td>\n      <td>NaN</td>\n      <td>NaN</td>\n      <td>...</td>\n      <td>NaN</td>\n      <td>NaN</td>\n      <td>NaN</td>\n      <td>NaN</td>\n      <td>NaN</td>\n      <td>NaN</td>\n      <td>NaN</td>\n      <td>NaN</td>\n      <td>P29400</td>\n      <td>732.0</td>\n    </tr>\n    <tr>\n      <th>733</th>\n      <td>COL4A5</td>\n      <td>S1665N</td>\n      <td>pathogenic</td>\n      <td>NaN</td>\n      <td>NaN</td>\n      <td>NaN</td>\n      <td>NaN</td>\n      <td>NaN</td>\n      <td>NaN</td>\n      <td>NaN</td>\n      <td>...</td>\n      <td>NaN</td>\n      <td>NaN</td>\n      <td>NaN</td>\n      <td>NaN</td>\n      <td>NaN</td>\n      <td>NaN</td>\n      <td>NaN</td>\n      <td>NaN</td>\n      <td>P29400</td>\n      <td>733.0</td>\n    </tr>\n    <tr>\n      <th>734</th>\n      <td>COL4A5</td>\n      <td>T1671M</td>\n      <td>benign</td>\n      <td>NaN</td>\n      <td>NaN</td>\n      <td>NaN</td>\n      <td>NaN</td>\n      <td>NaN</td>\n      <td>NaN</td>\n      <td>NaN</td>\n      <td>...</td>\n      <td>NaN</td>\n      <td>NaN</td>\n      <td>NaN</td>\n      <td>NaN</td>\n      <td>NaN</td>\n      <td>NaN</td>\n      <td>NaN</td>\n      <td>NaN</td>\n      <td>P29400</td>\n      <td>734.0</td>\n    </tr>\n    <tr>\n      <th>735</th>\n      <td>COL4A5</td>\n      <td>T1665M</td>\n      <td>benign</td>\n      <td>NaN</td>\n      <td>NaN</td>\n      <td>NaN</td>\n      <td>NaN</td>\n      <td>NaN</td>\n      <td>NaN</td>\n      <td>NaN</td>\n      <td>...</td>\n      <td>NaN</td>\n      <td>NaN</td>\n      <td>NaN</td>\n      <td>NaN</td>\n      <td>NaN</td>\n      <td>NaN</td>\n      <td>NaN</td>\n      <td>NaN</td>\n      <td>P29400</td>\n      <td>735.0</td>\n    </tr>\n  </tbody>\n</table>\n<p>5229 rows × 33 columns</p>\n</div>"
     },
     "execution_count": 5,
     "metadata": {},
     "output_type": "execute_result"
    }
   ],
   "source": [
    "dvd_variants = pd.read_csv(\"C:\\\\Users\\\\InbarBlech\\\\PycharmProjects\\\\Thesis\\\\combined_with_source.csv\")\n",
    "GJB2_set = pd.read_csv(\"C:\\\\Users\\\\InbarBlech\\\\PycharmProjects\\\\Thesis\\\\gene_specific_df\\\\GJB2.csv\")\n",
    "validation_set = pd.read_csv(\"C:\\\\Users\\\\InbarBlech\\\\PycharmProjects\\\\Thesis\\\\validation\\\\clinvar_variants_all_genes.csv\")\n",
    "# change name of \"Gene(s)\" column to \"gene\"\n",
    "validation_set = validation_set.rename(columns={\"Gene(s)\": \"gene\", \"Protein change\": \"variant\"})\n",
    "dvd_variants = pd.concat([dvd_variants, GJB2_set])\n",
    "redundancy = validation_set[validation_set.apply(lambda row: row['gene'] in dvd_variants['gene'].values and row['variant'] in dvd_variants['variant'].values, axis=1)]\n",
    "# remove from validation_set, the rows that are in redundancy\n",
    "validation_set = validation_set[~validation_set.apply(lambda row: row['gene'] in redundancy['gene'].values and row['variant'] in redundancy['variant'].values, axis=1)]\n",
    "# concat dvd_variants and GJB2_set\n",
    "complete_variants_used = pd.concat([dvd_variants, validation_set])\n",
    "complete_variants_used"
   ],
   "metadata": {
    "collapsed": false,
    "ExecuteTime": {
     "end_time": "2023-11-16T14:19:14.546053400Z",
     "start_time": "2023-11-16T14:19:14.091522900Z"
    }
   },
   "id": "75338d8d588d588a"
  },
  {
   "cell_type": "code",
   "execution_count": 6,
   "outputs": [
    {
     "data": {
      "text/plain": "         gene uniprot_id        FTId variant category         dbSNP  \\\n15766  COL2A1     P02458  VAR_001738   G267D     LP/P   rs121912872   \n15767  COL2A1     P02458  VAR_001739   R275C     LP/P   rs121912876   \n15768  COL2A1     P02458  VAR_001741   G303D     LP/P   rs121912877   \n15769  COL2A1     P02458  VAR_001742   G354R     LB/B   rs121912871   \n15770  COL2A1     P02458  VAR_001743   G375R     LP/P             -   \n...       ...        ...         ...     ...      ...           ...   \n80417    WFS1     O76024  VAR_074210   D171N     LP/P   rs758281375   \n80418    WFS1     O76024  VAR_074211   Y669H     LP/P             -   \n80419    WFS1     O76024  VAR_074212   R685P     LP/P   rs142668478   \n80420    WFS1     O76024  VAR_074213   H696Y     LP/P             -   \n80421    WFS1     O76024  VAR_074214   R703H     LP/P  rs1323852277   \n\n                                            Disease name  \n15766  Stickler syndrome 1 non-syndromic ocular (STL1...  \n15767              Czech dysplasia (CZECHD) [MIM:609162]  \n15768                 Kniest dysplasia (KD) [MIM:156550]  \n15769                                                  -  \n15770  Spondyloepiphyseal dysplasia congenital type (...  \n...                                                  ...  \n80417  Deafness, autosomal dominant, 6 (DFNA6) [MIM:6...  \n80418  Deafness, autosomal dominant, 6 (DFNA6) [MIM:6...  \n80419  Deafness, autosomal dominant, 6 (DFNA6) [MIM:6...  \n80420  Deafness, autosomal dominant, 6 (DFNA6) [MIM:6...  \n80421  Deafness, autosomal dominant, 6 (DFNA6) [MIM:6...  \n\n[523 rows x 7 columns]",
      "text/html": "<div>\n<style scoped>\n    .dataframe tbody tr th:only-of-type {\n        vertical-align: middle;\n    }\n\n    .dataframe tbody tr th {\n        vertical-align: top;\n    }\n\n    .dataframe thead th {\n        text-align: right;\n    }\n</style>\n<table border=\"1\" class=\"dataframe\">\n  <thead>\n    <tr style=\"text-align: right;\">\n      <th></th>\n      <th>gene</th>\n      <th>uniprot_id</th>\n      <th>FTId</th>\n      <th>variant</th>\n      <th>category</th>\n      <th>dbSNP</th>\n      <th>Disease name</th>\n    </tr>\n  </thead>\n  <tbody>\n    <tr>\n      <th>15766</th>\n      <td>COL2A1</td>\n      <td>P02458</td>\n      <td>VAR_001738</td>\n      <td>G267D</td>\n      <td>LP/P</td>\n      <td>rs121912872</td>\n      <td>Stickler syndrome 1 non-syndromic ocular (STL1...</td>\n    </tr>\n    <tr>\n      <th>15767</th>\n      <td>COL2A1</td>\n      <td>P02458</td>\n      <td>VAR_001739</td>\n      <td>R275C</td>\n      <td>LP/P</td>\n      <td>rs121912876</td>\n      <td>Czech dysplasia (CZECHD) [MIM:609162]</td>\n    </tr>\n    <tr>\n      <th>15768</th>\n      <td>COL2A1</td>\n      <td>P02458</td>\n      <td>VAR_001741</td>\n      <td>G303D</td>\n      <td>LP/P</td>\n      <td>rs121912877</td>\n      <td>Kniest dysplasia (KD) [MIM:156550]</td>\n    </tr>\n    <tr>\n      <th>15769</th>\n      <td>COL2A1</td>\n      <td>P02458</td>\n      <td>VAR_001742</td>\n      <td>G354R</td>\n      <td>LB/B</td>\n      <td>rs121912871</td>\n      <td>-</td>\n    </tr>\n    <tr>\n      <th>15770</th>\n      <td>COL2A1</td>\n      <td>P02458</td>\n      <td>VAR_001743</td>\n      <td>G375R</td>\n      <td>LP/P</td>\n      <td>-</td>\n      <td>Spondyloepiphyseal dysplasia congenital type (...</td>\n    </tr>\n    <tr>\n      <th>...</th>\n      <td>...</td>\n      <td>...</td>\n      <td>...</td>\n      <td>...</td>\n      <td>...</td>\n      <td>...</td>\n      <td>...</td>\n    </tr>\n    <tr>\n      <th>80417</th>\n      <td>WFS1</td>\n      <td>O76024</td>\n      <td>VAR_074210</td>\n      <td>D171N</td>\n      <td>LP/P</td>\n      <td>rs758281375</td>\n      <td>Deafness, autosomal dominant, 6 (DFNA6) [MIM:6...</td>\n    </tr>\n    <tr>\n      <th>80418</th>\n      <td>WFS1</td>\n      <td>O76024</td>\n      <td>VAR_074211</td>\n      <td>Y669H</td>\n      <td>LP/P</td>\n      <td>-</td>\n      <td>Deafness, autosomal dominant, 6 (DFNA6) [MIM:6...</td>\n    </tr>\n    <tr>\n      <th>80419</th>\n      <td>WFS1</td>\n      <td>O76024</td>\n      <td>VAR_074212</td>\n      <td>R685P</td>\n      <td>LP/P</td>\n      <td>rs142668478</td>\n      <td>Deafness, autosomal dominant, 6 (DFNA6) [MIM:6...</td>\n    </tr>\n    <tr>\n      <th>80420</th>\n      <td>WFS1</td>\n      <td>O76024</td>\n      <td>VAR_074213</td>\n      <td>H696Y</td>\n      <td>LP/P</td>\n      <td>-</td>\n      <td>Deafness, autosomal dominant, 6 (DFNA6) [MIM:6...</td>\n    </tr>\n    <tr>\n      <th>80421</th>\n      <td>WFS1</td>\n      <td>O76024</td>\n      <td>VAR_074214</td>\n      <td>R703H</td>\n      <td>LP/P</td>\n      <td>rs1323852277</td>\n      <td>Deafness, autosomal dominant, 6 (DFNA6) [MIM:6...</td>\n    </tr>\n  </tbody>\n</table>\n<p>523 rows × 7 columns</p>\n</div>"
     },
     "execution_count": 6,
     "metadata": {},
     "output_type": "execute_result"
    }
   ],
   "source": [
    "# Extract rows that are in both validation set and dvd variants, by comparing the gene and variant columns\n",
    "redundancy = humasavar[humasavar.apply(lambda row: row['gene'] in complete_variants_used['gene'].values and row['variant'] in complete_variants_used['variant'].values, axis=1)]\n",
    "redundancy"
   ],
   "metadata": {
    "collapsed": false,
    "ExecuteTime": {
     "end_time": "2023-11-16T14:19:14.982716600Z",
     "start_time": "2023-11-16T14:19:14.548054500Z"
    }
   },
   "id": "86542a4a68bd9d64"
  },
  {
   "cell_type": "code",
   "execution_count": 7,
   "outputs": [
    {
     "data": {
      "text/plain": "         gene uniprot_id        FTId variant category         dbSNP  \\\n15783  COL2A1     P02458  VAR_001756  G1005S     LB/B   rs753342774   \n15794  COL2A1     P02458  VAR_017639   G453D     LP/P   rs794727339   \n15808  COL2A1     P02458  VAR_019836   P158L     LB/B     rs1050861   \n15814  COL2A1     P02458  VAR_023930   G855S     LP/P  rs1193507525   \n15815  COL2A1     P02458  VAR_023931   G897V     LP/P             -   \n...       ...        ...         ...     ...      ...           ...   \n80398    WFS1     O76024  VAR_029500   A326V     LB/B   rs369795224   \n80401    WFS1     O76024  VAR_029506   I802V     LB/B   rs746922325   \n80408    WFS1     O76024  VAR_032967   L829P     LP/P   rs104893883   \n80411    WFS1     O76024  VAR_068343   R558C     LP/P   rs199946797   \n80414    WFS1     O76024  VAR_068346   K836N     LP/P   rs876657675   \n\n                                            Disease name  \n15783                                                  -  \n15794              Achondrogenesis 2 (ACG2) [MIM:200610]  \n15808                                                  -  \n15814  Spondyloepiphyseal dysplasia congenital type (...  \n15815  Spondyloepimetaphyseal dysplasia, Strudwick ty...  \n...                                                  ...  \n80398                                                  -  \n80401                                                  -  \n80408  Deafness, autosomal dominant, 6 (DFNA6) [MIM:6...  \n80411             Wolfram syndrome 1 (WFS1) [MIM:222300]  \n80414  Wolfram-like syndrome autosomal dominant (WFSL...  \n\n[107 rows x 7 columns]",
      "text/html": "<div>\n<style scoped>\n    .dataframe tbody tr th:only-of-type {\n        vertical-align: middle;\n    }\n\n    .dataframe tbody tr th {\n        vertical-align: top;\n    }\n\n    .dataframe thead th {\n        text-align: right;\n    }\n</style>\n<table border=\"1\" class=\"dataframe\">\n  <thead>\n    <tr style=\"text-align: right;\">\n      <th></th>\n      <th>gene</th>\n      <th>uniprot_id</th>\n      <th>FTId</th>\n      <th>variant</th>\n      <th>category</th>\n      <th>dbSNP</th>\n      <th>Disease name</th>\n    </tr>\n  </thead>\n  <tbody>\n    <tr>\n      <th>15783</th>\n      <td>COL2A1</td>\n      <td>P02458</td>\n      <td>VAR_001756</td>\n      <td>G1005S</td>\n      <td>LB/B</td>\n      <td>rs753342774</td>\n      <td>-</td>\n    </tr>\n    <tr>\n      <th>15794</th>\n      <td>COL2A1</td>\n      <td>P02458</td>\n      <td>VAR_017639</td>\n      <td>G453D</td>\n      <td>LP/P</td>\n      <td>rs794727339</td>\n      <td>Achondrogenesis 2 (ACG2) [MIM:200610]</td>\n    </tr>\n    <tr>\n      <th>15808</th>\n      <td>COL2A1</td>\n      <td>P02458</td>\n      <td>VAR_019836</td>\n      <td>P158L</td>\n      <td>LB/B</td>\n      <td>rs1050861</td>\n      <td>-</td>\n    </tr>\n    <tr>\n      <th>15814</th>\n      <td>COL2A1</td>\n      <td>P02458</td>\n      <td>VAR_023930</td>\n      <td>G855S</td>\n      <td>LP/P</td>\n      <td>rs1193507525</td>\n      <td>Spondyloepiphyseal dysplasia congenital type (...</td>\n    </tr>\n    <tr>\n      <th>15815</th>\n      <td>COL2A1</td>\n      <td>P02458</td>\n      <td>VAR_023931</td>\n      <td>G897V</td>\n      <td>LP/P</td>\n      <td>-</td>\n      <td>Spondyloepimetaphyseal dysplasia, Strudwick ty...</td>\n    </tr>\n    <tr>\n      <th>...</th>\n      <td>...</td>\n      <td>...</td>\n      <td>...</td>\n      <td>...</td>\n      <td>...</td>\n      <td>...</td>\n      <td>...</td>\n    </tr>\n    <tr>\n      <th>80398</th>\n      <td>WFS1</td>\n      <td>O76024</td>\n      <td>VAR_029500</td>\n      <td>A326V</td>\n      <td>LB/B</td>\n      <td>rs369795224</td>\n      <td>-</td>\n    </tr>\n    <tr>\n      <th>80401</th>\n      <td>WFS1</td>\n      <td>O76024</td>\n      <td>VAR_029506</td>\n      <td>I802V</td>\n      <td>LB/B</td>\n      <td>rs746922325</td>\n      <td>-</td>\n    </tr>\n    <tr>\n      <th>80408</th>\n      <td>WFS1</td>\n      <td>O76024</td>\n      <td>VAR_032967</td>\n      <td>L829P</td>\n      <td>LP/P</td>\n      <td>rs104893883</td>\n      <td>Deafness, autosomal dominant, 6 (DFNA6) [MIM:6...</td>\n    </tr>\n    <tr>\n      <th>80411</th>\n      <td>WFS1</td>\n      <td>O76024</td>\n      <td>VAR_068343</td>\n      <td>R558C</td>\n      <td>LP/P</td>\n      <td>rs199946797</td>\n      <td>Wolfram syndrome 1 (WFS1) [MIM:222300]</td>\n    </tr>\n    <tr>\n      <th>80414</th>\n      <td>WFS1</td>\n      <td>O76024</td>\n      <td>VAR_068346</td>\n      <td>K836N</td>\n      <td>LP/P</td>\n      <td>rs876657675</td>\n      <td>Wolfram-like syndrome autosomal dominant (WFSL...</td>\n    </tr>\n  </tbody>\n</table>\n<p>107 rows × 7 columns</p>\n</div>"
     },
     "execution_count": 7,
     "metadata": {},
     "output_type": "execute_result"
    }
   ],
   "source": [
    "# remove from validation_set, the rows that are in redundancy\n",
    "humasavar = humasavar[~humasavar.apply(lambda row: row['gene'] in redundancy['gene'].values and row['variant'] in redundancy['variant'].values, axis=1)]\n",
    "humasavar"
   ],
   "metadata": {
    "collapsed": false,
    "ExecuteTime": {
     "end_time": "2023-11-16T14:19:15.091321500Z",
     "start_time": "2023-11-16T14:19:14.834533700Z"
    }
   },
   "id": "6c670aa3364e45d3"
  },
  {
   "cell_type": "code",
   "execution_count": 8,
   "outputs": [
    {
     "data": {
      "text/plain": "array(['COL2A1', 'COL4A3', 'COL4A5', 'FGFR1', 'GJB2', 'MYO7A', 'SLC26A4',\n       'WFS1'], dtype=object)"
     },
     "execution_count": 8,
     "metadata": {},
     "output_type": "execute_result"
    }
   ],
   "source": [
    "# print the genes that are in the humsavar\n",
    "humasavar[\"gene\"].unique()"
   ],
   "metadata": {
    "collapsed": false,
    "ExecuteTime": {
     "end_time": "2023-11-16T14:19:15.091321500Z",
     "start_time": "2023-11-16T14:19:14.929402700Z"
    }
   },
   "id": "8327abc3cae1bef3"
  },
  {
   "cell_type": "code",
   "execution_count": 9,
   "outputs": [
    {
     "data": {
      "text/plain": "COL4A5     29\nMYO7A      16\nFGFR1      15\nGJB2       13\nSLC26A4    12\nWFS1       10\nCOL2A1      7\nCOL4A3      5\nName: gene, dtype: int64"
     },
     "execution_count": 9,
     "metadata": {},
     "output_type": "execute_result"
    }
   ],
   "source": [
    "# Print how many rows there are for each gene in humsavar\n",
    "humasavar[\"gene\"].value_counts()"
   ],
   "metadata": {
    "collapsed": false,
    "ExecuteTime": {
     "end_time": "2023-11-16T14:19:15.105055200Z",
     "start_time": "2023-11-16T14:19:14.947478900Z"
    }
   },
   "id": "f4a27c0689186589"
  },
  {
   "cell_type": "code",
   "execution_count": 9,
   "outputs": [],
   "source": [],
   "metadata": {
    "collapsed": false,
    "ExecuteTime": {
     "end_time": "2023-11-16T14:19:15.106206800Z",
     "start_time": "2023-11-16T14:19:14.977157Z"
    }
   },
   "id": "dac8bd9217b4c6a0"
  }
 ],
 "metadata": {
  "kernelspec": {
   "display_name": "Python 3",
   "language": "python",
   "name": "python3"
  },
  "language_info": {
   "codemirror_mode": {
    "name": "ipython",
    "version": 2
   },
   "file_extension": ".py",
   "mimetype": "text/x-python",
   "name": "python",
   "nbconvert_exporter": "python",
   "pygments_lexer": "ipython2",
   "version": "2.7.6"
  }
 },
 "nbformat": 4,
 "nbformat_minor": 5
}
