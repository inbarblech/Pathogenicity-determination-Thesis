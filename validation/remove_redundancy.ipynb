{
 "cells": [
  {
   "cell_type": "code",
   "execution_count": 40,
   "outputs": [],
   "source": [
    "import pandas as pd"
   ],
   "metadata": {
    "collapsed": false,
    "ExecuteTime": {
     "end_time": "2023-11-15T11:20:42.527275300Z",
     "start_time": "2023-11-15T11:20:42.511510500Z"
    }
   },
   "id": "ad33fd79f9906328"
  },
  {
   "cell_type": "code",
   "execution_count": 41,
   "outputs": [],
   "source": [
    "validation_set = pd.read_csv(\"C:\\\\Users\\\\InbarBlech\\\\PycharmProjects\\\\Thesis\\\\validation\\\\clinvar_variants_all_genes.csv\")\n",
    "# change name of \"Gene(s)\" column to \"gene\"\n",
    "validation_set = validation_set.rename(columns={\"Gene(s)\": \"gene\", \"Protein change\": \"variant\"})\n",
    "dvd_variants = pd.read_csv(\"C:\\\\Users\\\\InbarBlech\\\\PycharmProjects\\\\Thesis\\\\combined_with_source.csv\")\n",
    "GJB2_set = pd.read_csv(\"C:\\\\Users\\\\InbarBlech\\\\PycharmProjects\\\\Thesis\\\\gene_specific_df\\\\GJB2.csv\")\n",
    "# concat dvd_variants and GJB2_set\n",
    "dvd_variants = pd.concat([dvd_variants, GJB2_set])"
   ],
   "metadata": {
    "collapsed": false,
    "ExecuteTime": {
     "end_time": "2023-11-15T11:20:42.574280500Z",
     "start_time": "2023-11-15T11:20:42.527275300Z"
    }
   },
   "id": "initial_id"
  },
  {
   "cell_type": "code",
   "execution_count": 42,
   "outputs": [
    {
     "data": {
      "text/plain": "     Unnamed: 0    gene variant pathogenicity uniprot_id\n0             0    WFS1   L187F    pathogenic     O76024\n1             1    WFS1   W314R    pathogenic     O76024\n2             2    WFS1   H323R    pathogenic     O76024\n3             3    WFS1   V333F        benign     O76024\n4             4    WFS1   L543R    pathogenic     O76024\n..          ...     ...     ...           ...        ...\n731         731  COL4A5  D1659E        benign     P29400\n732         732  COL4A5  S1659N    pathogenic     P29400\n733         733  COL4A5  S1665N    pathogenic     P29400\n734         734  COL4A5  T1671M        benign     P29400\n735         735  COL4A5  T1665M        benign     P29400\n\n[736 rows x 5 columns]",
      "text/html": "<div>\n<style scoped>\n    .dataframe tbody tr th:only-of-type {\n        vertical-align: middle;\n    }\n\n    .dataframe tbody tr th {\n        vertical-align: top;\n    }\n\n    .dataframe thead th {\n        text-align: right;\n    }\n</style>\n<table border=\"1\" class=\"dataframe\">\n  <thead>\n    <tr style=\"text-align: right;\">\n      <th></th>\n      <th>Unnamed: 0</th>\n      <th>gene</th>\n      <th>variant</th>\n      <th>pathogenicity</th>\n      <th>uniprot_id</th>\n    </tr>\n  </thead>\n  <tbody>\n    <tr>\n      <th>0</th>\n      <td>0</td>\n      <td>WFS1</td>\n      <td>L187F</td>\n      <td>pathogenic</td>\n      <td>O76024</td>\n    </tr>\n    <tr>\n      <th>1</th>\n      <td>1</td>\n      <td>WFS1</td>\n      <td>W314R</td>\n      <td>pathogenic</td>\n      <td>O76024</td>\n    </tr>\n    <tr>\n      <th>2</th>\n      <td>2</td>\n      <td>WFS1</td>\n      <td>H323R</td>\n      <td>pathogenic</td>\n      <td>O76024</td>\n    </tr>\n    <tr>\n      <th>3</th>\n      <td>3</td>\n      <td>WFS1</td>\n      <td>V333F</td>\n      <td>benign</td>\n      <td>O76024</td>\n    </tr>\n    <tr>\n      <th>4</th>\n      <td>4</td>\n      <td>WFS1</td>\n      <td>L543R</td>\n      <td>pathogenic</td>\n      <td>O76024</td>\n    </tr>\n    <tr>\n      <th>...</th>\n      <td>...</td>\n      <td>...</td>\n      <td>...</td>\n      <td>...</td>\n      <td>...</td>\n    </tr>\n    <tr>\n      <th>731</th>\n      <td>731</td>\n      <td>COL4A5</td>\n      <td>D1659E</td>\n      <td>benign</td>\n      <td>P29400</td>\n    </tr>\n    <tr>\n      <th>732</th>\n      <td>732</td>\n      <td>COL4A5</td>\n      <td>S1659N</td>\n      <td>pathogenic</td>\n      <td>P29400</td>\n    </tr>\n    <tr>\n      <th>733</th>\n      <td>733</td>\n      <td>COL4A5</td>\n      <td>S1665N</td>\n      <td>pathogenic</td>\n      <td>P29400</td>\n    </tr>\n    <tr>\n      <th>734</th>\n      <td>734</td>\n      <td>COL4A5</td>\n      <td>T1671M</td>\n      <td>benign</td>\n      <td>P29400</td>\n    </tr>\n    <tr>\n      <th>735</th>\n      <td>735</td>\n      <td>COL4A5</td>\n      <td>T1665M</td>\n      <td>benign</td>\n      <td>P29400</td>\n    </tr>\n  </tbody>\n</table>\n<p>736 rows × 5 columns</p>\n</div>"
     },
     "execution_count": 42,
     "metadata": {},
     "output_type": "execute_result"
    }
   ],
   "source": [
    "validation_set"
   ],
   "metadata": {
    "collapsed": false,
    "ExecuteTime": {
     "end_time": "2023-11-15T11:20:42.589860700Z",
     "start_time": "2023-11-15T11:20:42.574280500Z"
    }
   },
   "id": "143b377ce7bd2d16"
  },
  {
   "cell_type": "code",
   "execution_count": 43,
   "outputs": [
    {
     "data": {
      "text/plain": "     Unnamed: 0    gene variant pathogenicity uniprot_id\n1             1    WFS1   W314R    pathogenic     O76024\n2             2    WFS1   H323R    pathogenic     O76024\n3             3    WFS1   V333F        benign     O76024\n4             4    WFS1   L543R    pathogenic     O76024\n5             5    WFS1   P607R    pathogenic     O76024\n..          ...     ...     ...           ...        ...\n688         688  COL2A1   E142D        benign     P02458\n694         694    GJB2    G45E    pathogenic     P29033\n701         701  COL4A5  G1339S    pathogenic     P29400\n711         711  COL4A5  G1448R    pathogenic     P29400\n726         726  COL4A5  C1638Y    pathogenic     P29400\n\n[311 rows x 5 columns]",
      "text/html": "<div>\n<style scoped>\n    .dataframe tbody tr th:only-of-type {\n        vertical-align: middle;\n    }\n\n    .dataframe tbody tr th {\n        vertical-align: top;\n    }\n\n    .dataframe thead th {\n        text-align: right;\n    }\n</style>\n<table border=\"1\" class=\"dataframe\">\n  <thead>\n    <tr style=\"text-align: right;\">\n      <th></th>\n      <th>Unnamed: 0</th>\n      <th>gene</th>\n      <th>variant</th>\n      <th>pathogenicity</th>\n      <th>uniprot_id</th>\n    </tr>\n  </thead>\n  <tbody>\n    <tr>\n      <th>1</th>\n      <td>1</td>\n      <td>WFS1</td>\n      <td>W314R</td>\n      <td>pathogenic</td>\n      <td>O76024</td>\n    </tr>\n    <tr>\n      <th>2</th>\n      <td>2</td>\n      <td>WFS1</td>\n      <td>H323R</td>\n      <td>pathogenic</td>\n      <td>O76024</td>\n    </tr>\n    <tr>\n      <th>3</th>\n      <td>3</td>\n      <td>WFS1</td>\n      <td>V333F</td>\n      <td>benign</td>\n      <td>O76024</td>\n    </tr>\n    <tr>\n      <th>4</th>\n      <td>4</td>\n      <td>WFS1</td>\n      <td>L543R</td>\n      <td>pathogenic</td>\n      <td>O76024</td>\n    </tr>\n    <tr>\n      <th>5</th>\n      <td>5</td>\n      <td>WFS1</td>\n      <td>P607R</td>\n      <td>pathogenic</td>\n      <td>O76024</td>\n    </tr>\n    <tr>\n      <th>...</th>\n      <td>...</td>\n      <td>...</td>\n      <td>...</td>\n      <td>...</td>\n      <td>...</td>\n    </tr>\n    <tr>\n      <th>688</th>\n      <td>688</td>\n      <td>COL2A1</td>\n      <td>E142D</td>\n      <td>benign</td>\n      <td>P02458</td>\n    </tr>\n    <tr>\n      <th>694</th>\n      <td>694</td>\n      <td>GJB2</td>\n      <td>G45E</td>\n      <td>pathogenic</td>\n      <td>P29033</td>\n    </tr>\n    <tr>\n      <th>701</th>\n      <td>701</td>\n      <td>COL4A5</td>\n      <td>G1339S</td>\n      <td>pathogenic</td>\n      <td>P29400</td>\n    </tr>\n    <tr>\n      <th>711</th>\n      <td>711</td>\n      <td>COL4A5</td>\n      <td>G1448R</td>\n      <td>pathogenic</td>\n      <td>P29400</td>\n    </tr>\n    <tr>\n      <th>726</th>\n      <td>726</td>\n      <td>COL4A5</td>\n      <td>C1638Y</td>\n      <td>pathogenic</td>\n      <td>P29400</td>\n    </tr>\n  </tbody>\n</table>\n<p>311 rows × 5 columns</p>\n</div>"
     },
     "execution_count": 43,
     "metadata": {},
     "output_type": "execute_result"
    }
   ],
   "source": [
    "# Extract rows that are in both validation set and dvd variants, by comparing the gene and variant columns\n",
    "redundancy = validation_set[validation_set.apply(lambda row: row['gene'] in dvd_variants['gene'].values and row['variant'] in dvd_variants['variant'].values, axis=1)]\n",
    "redundancy"
   ],
   "metadata": {
    "collapsed": false,
    "ExecuteTime": {
     "end_time": "2023-11-15T11:20:42.699950400Z",
     "start_time": "2023-11-15T11:20:42.589860700Z"
    }
   },
   "id": "f3783a840c5fc9a"
  },
  {
   "cell_type": "code",
   "execution_count": 44,
   "outputs": [
    {
     "data": {
      "text/plain": "     Unnamed: 0     gene variant pathogenicity uniprot_id\n0             0     WFS1   L187F    pathogenic     O76024\n20           20  SLC26A4    G95E    pathogenic     O43511\n26           26  SLC26A4   A189S        benign     O43511\n32           32  SLC26A4   G334E    pathogenic     O43511\n49           49    MYO7A     G7R    pathogenic     Q13402\n..          ...      ...     ...           ...        ...\n731         731   COL4A5  D1659E        benign     P29400\n732         732   COL4A5  S1659N    pathogenic     P29400\n733         733   COL4A5  S1665N    pathogenic     P29400\n734         734   COL4A5  T1671M        benign     P29400\n735         735   COL4A5  T1665M        benign     P29400\n\n[425 rows x 5 columns]",
      "text/html": "<div>\n<style scoped>\n    .dataframe tbody tr th:only-of-type {\n        vertical-align: middle;\n    }\n\n    .dataframe tbody tr th {\n        vertical-align: top;\n    }\n\n    .dataframe thead th {\n        text-align: right;\n    }\n</style>\n<table border=\"1\" class=\"dataframe\">\n  <thead>\n    <tr style=\"text-align: right;\">\n      <th></th>\n      <th>Unnamed: 0</th>\n      <th>gene</th>\n      <th>variant</th>\n      <th>pathogenicity</th>\n      <th>uniprot_id</th>\n    </tr>\n  </thead>\n  <tbody>\n    <tr>\n      <th>0</th>\n      <td>0</td>\n      <td>WFS1</td>\n      <td>L187F</td>\n      <td>pathogenic</td>\n      <td>O76024</td>\n    </tr>\n    <tr>\n      <th>20</th>\n      <td>20</td>\n      <td>SLC26A4</td>\n      <td>G95E</td>\n      <td>pathogenic</td>\n      <td>O43511</td>\n    </tr>\n    <tr>\n      <th>26</th>\n      <td>26</td>\n      <td>SLC26A4</td>\n      <td>A189S</td>\n      <td>benign</td>\n      <td>O43511</td>\n    </tr>\n    <tr>\n      <th>32</th>\n      <td>32</td>\n      <td>SLC26A4</td>\n      <td>G334E</td>\n      <td>pathogenic</td>\n      <td>O43511</td>\n    </tr>\n    <tr>\n      <th>49</th>\n      <td>49</td>\n      <td>MYO7A</td>\n      <td>G7R</td>\n      <td>pathogenic</td>\n      <td>Q13402</td>\n    </tr>\n    <tr>\n      <th>...</th>\n      <td>...</td>\n      <td>...</td>\n      <td>...</td>\n      <td>...</td>\n      <td>...</td>\n    </tr>\n    <tr>\n      <th>731</th>\n      <td>731</td>\n      <td>COL4A5</td>\n      <td>D1659E</td>\n      <td>benign</td>\n      <td>P29400</td>\n    </tr>\n    <tr>\n      <th>732</th>\n      <td>732</td>\n      <td>COL4A5</td>\n      <td>S1659N</td>\n      <td>pathogenic</td>\n      <td>P29400</td>\n    </tr>\n    <tr>\n      <th>733</th>\n      <td>733</td>\n      <td>COL4A5</td>\n      <td>S1665N</td>\n      <td>pathogenic</td>\n      <td>P29400</td>\n    </tr>\n    <tr>\n      <th>734</th>\n      <td>734</td>\n      <td>COL4A5</td>\n      <td>T1671M</td>\n      <td>benign</td>\n      <td>P29400</td>\n    </tr>\n    <tr>\n      <th>735</th>\n      <td>735</td>\n      <td>COL4A5</td>\n      <td>T1665M</td>\n      <td>benign</td>\n      <td>P29400</td>\n    </tr>\n  </tbody>\n</table>\n<p>425 rows × 5 columns</p>\n</div>"
     },
     "execution_count": 44,
     "metadata": {},
     "output_type": "execute_result"
    }
   ],
   "source": [
    "# remove from validation_set, the rows that are in redundancy\n",
    "validation_set = validation_set[~validation_set.apply(lambda row: row['gene'] in redundancy['gene'].values and row['variant'] in redundancy['variant'].values, axis=1)]\n",
    "validation_set"
   ],
   "metadata": {
    "collapsed": false,
    "ExecuteTime": {
     "end_time": "2023-11-15T11:20:42.763096400Z",
     "start_time": "2023-11-15T11:20:42.684328700Z"
    }
   },
   "id": "a3904bd3e9f377bf"
  },
  {
   "cell_type": "code",
   "execution_count": 45,
   "outputs": [],
   "source": [
    "# Save the validation set without redundancy to a csv file\n",
    "validation_set.to_csv(\"C:\\\\Users\\\\InbarBlech\\\\PycharmProjects\\\\Thesis\\\\validation\\\\clinvar_variants_for_validation_set_without_redundancy1.csv\", index=False)"
   ],
   "metadata": {
    "collapsed": false,
    "ExecuteTime": {
     "end_time": "2023-11-15T11:20:42.763096400Z",
     "start_time": "2023-11-15T11:20:42.731820700Z"
    }
   },
   "id": "8c259267cd08b964"
  },
  {
   "cell_type": "code",
   "execution_count": 46,
   "outputs": [
    {
     "data": {
      "text/plain": "array(['WFS1', 'SLC26A4', 'MYO7A', 'COL2A1', 'GJB2', 'COL4A5', 'FGFR1'],\n      dtype=object)"
     },
     "execution_count": 46,
     "metadata": {},
     "output_type": "execute_result"
    }
   ],
   "source": [
    "# show genes that are in both validation set\n",
    "validation_set['gene'].unique()"
   ],
   "metadata": {
    "collapsed": false,
    "ExecuteTime": {
     "end_time": "2023-11-15T11:20:42.763096400Z",
     "start_time": "2023-11-15T11:20:42.747563100Z"
    }
   },
   "id": "f3c312b3b7513d1b"
  },
  {
   "cell_type": "code",
   "execution_count": 47,
   "outputs": [
    {
     "name": "stdout",
     "output_type": "stream",
     "text": [
      "Number of variants for each gene in the validation set without redundancy to dvd:\n",
      "WFS1 1\n",
      "SLC26A4 3\n",
      "MYO7A 40\n",
      "COL2A1 161\n",
      "GJB2 5\n",
      "COL4A5 79\n",
      "FGFR1 136\n"
     ]
    }
   ],
   "source": [
    "# Print the number of rows for each gene in the validation set\n",
    "print(\"Number of variants for each gene in the validation set without redundancy to dvd:\")\n",
    "for gene in validation_set['gene'].unique():\n",
    "    print(gene, len(validation_set[validation_set['gene'] == gene]))"
   ],
   "metadata": {
    "collapsed": false,
    "ExecuteTime": {
     "end_time": "2023-11-15T11:20:42.794375800Z",
     "start_time": "2023-11-15T11:20:42.763096400Z"
    }
   },
   "id": "8bfb0e1b2dcd2635"
  }
 ],
 "metadata": {
  "kernelspec": {
   "display_name": "Python 3",
   "language": "python",
   "name": "python3"
  },
  "language_info": {
   "codemirror_mode": {
    "name": "ipython",
    "version": 2
   },
   "file_extension": ".py",
   "mimetype": "text/x-python",
   "name": "python",
   "nbconvert_exporter": "python",
   "pygments_lexer": "ipython2",
   "version": "2.7.6"
  }
 },
 "nbformat": 4,
 "nbformat_minor": 5
}
