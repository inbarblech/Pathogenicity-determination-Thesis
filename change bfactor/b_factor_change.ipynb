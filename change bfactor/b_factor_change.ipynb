{
 "cells": [
  {
   "cell_type": "code",
   "execution_count": 15,
   "id": "initial_id",
   "metadata": {
    "collapsed": true,
    "ExecuteTime": {
     "end_time": "2023-11-01T20:47:29.563383400Z",
     "start_time": "2023-11-01T20:47:29.465657900Z"
    }
   },
   "outputs": [],
   "source": [
    "import general_tools as gt\n",
    "import numpy as np\n",
    "import matplotlib.pyplot as plt\n",
    "import pandas as pd\n",
    "import uniprot_info as uni\n",
    "from Bio.PDB import PDBIO, Model, Chain, Residue, Atom\n",
    "import pandas as pd\n",
    "from biopandas.pdb import PandasPdb\n",
    "from Bio.PDB import PDBParser\n"
   ]
  },
  {
   "cell_type": "code",
   "execution_count": 16,
   "outputs": [],
   "source": [
    "gene = 'COL4A5'\n",
    "pdb_file = f'{gene}.pdb'"
   ],
   "metadata": {
    "collapsed": false,
    "ExecuteTime": {
     "end_time": "2023-11-01T20:47:29.563383400Z",
     "start_time": "2023-11-01T20:47:29.493658300Z"
    }
   },
   "id": "ce988708180f4a92"
  },
  {
   "cell_type": "code",
   "execution_count": 17,
   "outputs": [
    {
     "name": "stdout",
     "output_type": "stream",
     "text": [
      "        ATOM NAME RESNAME CHAINID  RESIDUESEQ          X      Y          Z  \\\n",
      "0          1    N     MET       A           1 -91.740997  1.479  50.665001   \n",
      "1          2   CA     MET       A           1 -90.630997  1.526  51.652000   \n",
      "2          3    C     MET       A           1 -89.237999  1.265  51.056999   \n",
      "3          4   CB     MET       A           1 -90.931000  0.660  52.884998   \n",
      "4          5    O     MET       A           1 -88.305000  1.903  51.515999   \n",
      "...      ...  ...     ...     ...         ...        ...    ...        ...   \n",
      "11351  11352   CB     THR       A        1685 -31.257999 -7.433  -0.235000   \n",
      "11352  11353    O     THR       A        1685 -32.944000 -9.553   0.961000   \n",
      "11353  11354  CG2     THR       A        1685 -29.969999 -6.648  -0.475000   \n",
      "11354  11355  OG1     THR       A        1685 -31.139000 -8.676  -0.882000   \n",
      "11355  11356  OXT     THR       A        1685 -33.806999 -7.722   1.905000   \n",
      "\n",
      "       OCCUPANCY  TEMPFACTOR ELEMENT  \n",
      "0            1.0       38.13       N  \n",
      "1            1.0       38.13       C  \n",
      "2            1.0       38.13       C  \n",
      "3            1.0       38.13       C  \n",
      "4            1.0       38.13       O  \n",
      "...          ...         ...     ...  \n",
      "11351        1.0       68.67       C  \n",
      "11352        1.0       68.67       O  \n",
      "11353        1.0       68.67       C  \n",
      "11354        1.0       68.67       O  \n",
      "11355        1.0       68.67       O  \n",
      "\n",
      "[11356 rows x 11 columns]\n",
      "Index(['ATOM', 'NAME', 'RESNAME', 'CHAINID', 'RESIDUESEQ', 'X', 'Y', 'Z',\n",
      "       'OCCUPANCY', 'TEMPFACTOR', 'ELEMENT'],\n",
      "      dtype='object')\n"
     ]
    }
   ],
   "source": [
    "def pdb_to_dataframe(pdb_file):\n",
    "    # Create a PDB parser and load the structure\n",
    "    parser = PDBParser(QUIET=True)\n",
    "    structure = parser.get_structure(\"protein\", pdb_file)\n",
    "\n",
    "    # Initialize lists to store PDB data\n",
    "    atom_data = []\n",
    "\n",
    "    for model in structure:\n",
    "        for chain in model:\n",
    "            for residue in chain:\n",
    "                for atom in residue:\n",
    "                    atom_record = {\n",
    "                        'ATOM': atom.get_serial_number(),\n",
    "                        'NAME': atom.get_name(),\n",
    "                        'RESNAME': residue.get_resname(),\n",
    "                        'CHAINID': chain.id,\n",
    "                        'RESIDUESEQ': residue.id[1],\n",
    "                        'X': atom.get_coord()[0],\n",
    "                        'Y': atom.get_coord()[1],\n",
    "                        'Z': atom.get_coord()[2],\n",
    "                        'OCCUPANCY': atom.get_occupancy(),\n",
    "                        'TEMPFACTOR': atom.get_bfactor(),\n",
    "                        'ELEMENT': atom.element,\n",
    "                    }\n",
    "                    atom_data.append(atom_record)\n",
    "\n",
    "    # Create a DataFrame from the atom data\n",
    "    df = pd.DataFrame(atom_data)\n",
    "\n",
    "    return df\n",
    "\n",
    "\n",
    "pdb_df = pdb_to_dataframe(pdb_file)\n",
    "print(pdb_df)\n",
    "print(pdb_df.columns)"
   ],
   "metadata": {
    "collapsed": false,
    "ExecuteTime": {
     "end_time": "2023-11-01T20:47:29.801347600Z",
     "start_time": "2023-11-01T20:47:29.506652500Z"
    }
   },
   "id": "99accee164c1736"
  },
  {
   "cell_type": "code",
   "execution_count": 18,
   "outputs": [],
   "source": [
    "\n",
    "######### Functions for addition of b_factor column by pathogenicity to pdb_df dataframe #########\n",
    "\n",
    "def create_dictionary_with_all_residues(protein_length):\n",
    "    \"\"\"\n",
    "    Creates a dictionary where the keys are residue numbers and the values are\n",
    "    the residue names. The dictionary contains all residues from 1 to the\n",
    "    protein_length.\n",
    "    The values for all residues are set to 'None' by default.\n",
    "    \"\"\"\n",
    "    # Create an empty dictionary\n",
    "    residue_dict = {}\n",
    "    # Iterate through the range of numbers from 1 to the protein_length\n",
    "    for residue_number in range(1, protein_length + 1):\n",
    "        # Add the residue number and residue name to the residue_dict dictionary\n",
    "        residue_dict[residue_number] = None\n",
    "    return residue_dict\n",
    "\n",
    "def get_b_factor_dict(residue_dict, pathogenicity_df, gene_length):\n",
    "    \"\"\"\n",
    "    Go over all the residues: Create a subset of the pathogenicity_df by residue.\n",
    "    For each subset, if there is only one value, then insert the pathogenicity value into the dictionary.\n",
    "    If there are multiple values, then check if they are the same. If they are, then insert the pathogenicity value into the dictionary.\n",
    "    If they are not, then insert 'Vague' into the dictionary.\n",
    "    \"\"\"\n",
    "    for residue in range(gene_length):\n",
    "        # Create a subset of the pathogenicity_df by residue\n",
    "        pathogenicity_by_residue = pathogenicity_df[pathogenicity_df['position'] == residue]\n",
    "        # Check if there is only one value in the pathogenicity_by_residue dataframe\n",
    "        if len(pathogenicity_by_residue) == 1:\n",
    "            # Get the pathogenicity value from the pathogenicity_by_residue dataframe\n",
    "            pathogenicity = pathogenicity_by_residue['pathogenicity'].values[0]\n",
    "            # Insert the pathogenicity value into the residue_dict dictionary\n",
    "            residue_dict[residue] = pathogenicity\n",
    "        elif len(pathogenicity_by_residue) > 1:\n",
    "            # Get the pathogenicity values from the pathogenicity_by_residue dataframe\n",
    "            pathogenicity_values = pathogenicity_by_residue['pathogenicity'].values\n",
    "            # Check if all the pathogenicity values are the same\n",
    "            if all(pathogenicity == pathogenicity_values[0] for pathogenicity in pathogenicity_values):\n",
    "                # Insert the pathogenicity value into the residue_dict dictionary\n",
    "                residue_dict[residue] = pathogenicity_values[0]\n",
    "            else:\n",
    "                # Insert 2 for Vague information into the residue_dict dictionary\n",
    "                residue_dict[residue] = 2\n",
    "    return residue_dict\n",
    "\n",
    "def add_b_factor_by_residue(pdb_df, b_factor_dict):\n",
    "    \"\"\"\n",
    "    Adds a b_factor column to the pdb_df dataframe. The b_factor column\n",
    "    contains the b_factor values for each residue in the pdb_df dataframe.\n",
    "    The b_factor values are taken from the b_factor_dict dictionary.\n",
    "    Addition is done by residue, so all atoms in a residue will have the same b_factor.\n",
    "    \"\"\"\n",
    "    # Make sure there's a bfactor column in the pdb_df dataframe\n",
    "    if 'TEMPFACTOR' not in pdb_df.columns:\n",
    "        # raise an error if there's no bfactor column\n",
    "        raise ValueError('There is no bfactor column in the pdb_df dataframe')\n",
    "    # Iterate through the rows of the pdb_df dataframe\n",
    "    for index, row in pdb_df.iterrows():\n",
    "        # Get the residue number for the current row\n",
    "        residue_number = row['RESIDUESEQ']\n",
    "        # Get the b_factor value for the current row\n",
    "        b_factor = b_factor_dict[residue_number]\n",
    "        # Set the b_factor value for all rows with the current residue number\n",
    "        pdb_df.loc[pdb_df['RESIDUESEQ'] == residue_number, 'TEMPFACTOR'] = b_factor\n",
    "    return pdb_df\n",
    "\n",
    "\n",
    "def dataframe_to_pdb(dataframe, output_file):\n",
    "    ppdb = PandasPdb()\n",
    "    ppdb.df['ATOM'] = dataframe\n",
    "    ppdb.to_pdb(output_file, records=['ATOM'])"
   ],
   "metadata": {
    "collapsed": false,
    "ExecuteTime": {
     "end_time": "2023-11-01T20:47:29.856170400Z",
     "start_time": "2023-11-01T20:47:29.808347800Z"
    }
   },
   "id": "142905915cc3b531"
  },
  {
   "cell_type": "code",
   "execution_count": 19,
   "outputs": [],
   "source": [
    "# Define a function to update the B-factor (11th column) value\n",
    "def update_bfactor(line, new_value):\n",
    "    line_list = list(line)\n",
    "    line_list[60:70] = f'{new_value:6.2f}'.encode('utf-8')\n",
    "    return bytes(line_list)"
   ],
   "metadata": {
    "collapsed": false,
    "ExecuteTime": {
     "end_time": "2023-11-01T20:47:29.888262800Z",
     "start_time": "2023-11-01T20:47:29.816164100Z"
    }
   },
   "id": "79b8e4954ffcb625"
  },
  {
   "cell_type": "code",
   "execution_count": 20,
   "outputs": [],
   "source": [
    "def create_pdb_with_bfactor(pdb_file):\n",
    "    # Path to your input and output files\n",
    "    input_file_path = pdb_file\n",
    "    output_file_path = \"COL4A5_with_b_factor.pdb\"\n",
    "    \n",
    "    # Flag to indicate whether you're inside the \"ATOM\" table\n",
    "    inside_atom_table = False\n",
    "    \n",
    "    # Read the input file and write to the output file\n",
    "    with open(input_file_path, \"r\") as input_file, open(output_file_path, \"wb\") as output_file:\n",
    "        for line in input_file:\n",
    "            # Check if the line starts with \"ATOM\" to identify the start of the table\n",
    "            if line.startswith(\"ATOM\"):\n",
    "                inside_atom_table = True\n",
    "    \n",
    "            if inside_atom_table:\n",
    "                # Perform your calculations here\n",
    "                # For example, let's increment the B-factor by 10 for demonstration\n",
    "                bfactor = float(line[60:70])\n",
    "                new_bfactor = bfactor + 10.0\n",
    "                line = update_bfactor(line, new_bfactor)\n",
    "    \n",
    "            # Write the line to the output file\n",
    "            output_file.write(line.encode('utf-8'))"
   ],
   "metadata": {
    "collapsed": false,
    "ExecuteTime": {
     "end_time": "2023-11-01T20:47:29.889290200Z",
     "start_time": "2023-11-01T20:47:29.867651800Z"
    }
   },
   "id": "d87418915c928040"
  },
  {
   "cell_type": "code",
   "execution_count": 21,
   "outputs": [
    {
     "data": {
      "text/plain": "       gene variant pathogenicity uniprot_id  stability_WT  stability_MUT  \\\n0    COL4A5     L8Q        benign     P29400       2243.23        2243.04   \n1    COL4A5    L12W        benign     P29400       2242.53        2242.54   \n2    COL4A5    F13S        benign     P29400       2242.74        2243.54   \n3    COL4A5    A16S        benign     P29400       2242.94        2242.90   \n4    COL4A5    L19P        benign     P29400       2241.77        2244.15   \n..      ...     ...           ...        ...           ...            ...   \n629  COL4A5   I450M        benign        NaN       2243.69        2243.37   \n630  COL4A5   I444S        benign        NaN       2244.00        2244.10   \n631  COL4A5   R777H        benign        NaN       2243.79        2243.98   \n632  COL4A5  E1084A        benign        NaN       2243.26        2244.01   \n633  COL4A5   P396L        benign        NaN       2244.22        2244.76   \n\n     blosum  hydrophobicity_WT  hydrophobicity_MUT  volume_WT  ...  oda_MUT  \\\n0        -2                3.8                -3.5      166.7  ...   -35.04   \n1        -2                3.8                -0.9      166.7  ...   -55.18   \n2        -2                2.8                -0.8      189.9  ...   -32.23   \n3         1                1.8                -0.8       88.6  ...   -47.05   \n4        -3                3.8                -1.6      166.7  ...   -39.97   \n..      ...                ...                 ...        ...  ...      ...   \n629       1                4.5                 1.9      166.7  ...   -12.30   \n630      -2                4.5                -0.8      166.7  ...   -21.27   \n631       0               -4.5                -3.2      173.4  ...   -17.67   \n632      -1               -3.5                 1.8      138.4  ...   -11.50   \n633      -3               -1.6                 3.8      112.7  ...   -38.48   \n\n     sasa_WT sasa_MUT    RSA_WT   RSA_MUT  oda_delta sasa_delta   pssm  \\\n0     139.31   115.38  0.729372  0.539159       7.64     -23.93  3.084   \n1     127.00   147.30  0.664921  0.557955     -10.53      20.30  3.040   \n2     144.35    60.34  0.633114  0.421958      14.24     -84.01  3.733   \n3      63.18    62.45  0.522149  0.436713       3.04      -0.73  3.802   \n4     148.26    91.29  0.776230  0.592792       9.07     -56.97  3.004   \n..       ...      ...       ...       ...        ...        ...    ...   \n629   165.25   129.07  0.847436  0.635813      -2.20     -36.18  3.482   \n630   141.28    91.21  0.724513  0.637832       3.00     -50.07  3.683   \n631   246.97   179.07  0.931962  0.829028     -11.54     -67.90  3.912   \n632   133.50    84.73  0.623832  0.700248      -1.17     -48.77  4.193   \n633   126.36   153.61  0.820519  0.804241       2.05      27.25  1.665   \n\n     entropy  position  \n0      2.766         8  \n1      2.686        12  \n2      2.852        13  \n3      3.238        16  \n4      2.775        19  \n..       ...       ...  \n629    2.691       450  \n630    0.951       444  \n631    3.110       777  \n632    2.019      1084  \n633    3.010       396  \n\n[634 rows x 32 columns]",
      "text/html": "<div>\n<style scoped>\n    .dataframe tbody tr th:only-of-type {\n        vertical-align: middle;\n    }\n\n    .dataframe tbody tr th {\n        vertical-align: top;\n    }\n\n    .dataframe thead th {\n        text-align: right;\n    }\n</style>\n<table border=\"1\" class=\"dataframe\">\n  <thead>\n    <tr style=\"text-align: right;\">\n      <th></th>\n      <th>gene</th>\n      <th>variant</th>\n      <th>pathogenicity</th>\n      <th>uniprot_id</th>\n      <th>stability_WT</th>\n      <th>stability_MUT</th>\n      <th>blosum</th>\n      <th>hydrophobicity_WT</th>\n      <th>hydrophobicity_MUT</th>\n      <th>volume_WT</th>\n      <th>...</th>\n      <th>oda_MUT</th>\n      <th>sasa_WT</th>\n      <th>sasa_MUT</th>\n      <th>RSA_WT</th>\n      <th>RSA_MUT</th>\n      <th>oda_delta</th>\n      <th>sasa_delta</th>\n      <th>pssm</th>\n      <th>entropy</th>\n      <th>position</th>\n    </tr>\n  </thead>\n  <tbody>\n    <tr>\n      <th>0</th>\n      <td>COL4A5</td>\n      <td>L8Q</td>\n      <td>benign</td>\n      <td>P29400</td>\n      <td>2243.23</td>\n      <td>2243.04</td>\n      <td>-2</td>\n      <td>3.8</td>\n      <td>-3.5</td>\n      <td>166.7</td>\n      <td>...</td>\n      <td>-35.04</td>\n      <td>139.31</td>\n      <td>115.38</td>\n      <td>0.729372</td>\n      <td>0.539159</td>\n      <td>7.64</td>\n      <td>-23.93</td>\n      <td>3.084</td>\n      <td>2.766</td>\n      <td>8</td>\n    </tr>\n    <tr>\n      <th>1</th>\n      <td>COL4A5</td>\n      <td>L12W</td>\n      <td>benign</td>\n      <td>P29400</td>\n      <td>2242.53</td>\n      <td>2242.54</td>\n      <td>-2</td>\n      <td>3.8</td>\n      <td>-0.9</td>\n      <td>166.7</td>\n      <td>...</td>\n      <td>-55.18</td>\n      <td>127.00</td>\n      <td>147.30</td>\n      <td>0.664921</td>\n      <td>0.557955</td>\n      <td>-10.53</td>\n      <td>20.30</td>\n      <td>3.040</td>\n      <td>2.686</td>\n      <td>12</td>\n    </tr>\n    <tr>\n      <th>2</th>\n      <td>COL4A5</td>\n      <td>F13S</td>\n      <td>benign</td>\n      <td>P29400</td>\n      <td>2242.74</td>\n      <td>2243.54</td>\n      <td>-2</td>\n      <td>2.8</td>\n      <td>-0.8</td>\n      <td>189.9</td>\n      <td>...</td>\n      <td>-32.23</td>\n      <td>144.35</td>\n      <td>60.34</td>\n      <td>0.633114</td>\n      <td>0.421958</td>\n      <td>14.24</td>\n      <td>-84.01</td>\n      <td>3.733</td>\n      <td>2.852</td>\n      <td>13</td>\n    </tr>\n    <tr>\n      <th>3</th>\n      <td>COL4A5</td>\n      <td>A16S</td>\n      <td>benign</td>\n      <td>P29400</td>\n      <td>2242.94</td>\n      <td>2242.90</td>\n      <td>1</td>\n      <td>1.8</td>\n      <td>-0.8</td>\n      <td>88.6</td>\n      <td>...</td>\n      <td>-47.05</td>\n      <td>63.18</td>\n      <td>62.45</td>\n      <td>0.522149</td>\n      <td>0.436713</td>\n      <td>3.04</td>\n      <td>-0.73</td>\n      <td>3.802</td>\n      <td>3.238</td>\n      <td>16</td>\n    </tr>\n    <tr>\n      <th>4</th>\n      <td>COL4A5</td>\n      <td>L19P</td>\n      <td>benign</td>\n      <td>P29400</td>\n      <td>2241.77</td>\n      <td>2244.15</td>\n      <td>-3</td>\n      <td>3.8</td>\n      <td>-1.6</td>\n      <td>166.7</td>\n      <td>...</td>\n      <td>-39.97</td>\n      <td>148.26</td>\n      <td>91.29</td>\n      <td>0.776230</td>\n      <td>0.592792</td>\n      <td>9.07</td>\n      <td>-56.97</td>\n      <td>3.004</td>\n      <td>2.775</td>\n      <td>19</td>\n    </tr>\n    <tr>\n      <th>...</th>\n      <td>...</td>\n      <td>...</td>\n      <td>...</td>\n      <td>...</td>\n      <td>...</td>\n      <td>...</td>\n      <td>...</td>\n      <td>...</td>\n      <td>...</td>\n      <td>...</td>\n      <td>...</td>\n      <td>...</td>\n      <td>...</td>\n      <td>...</td>\n      <td>...</td>\n      <td>...</td>\n      <td>...</td>\n      <td>...</td>\n      <td>...</td>\n      <td>...</td>\n      <td>...</td>\n    </tr>\n    <tr>\n      <th>629</th>\n      <td>COL4A5</td>\n      <td>I450M</td>\n      <td>benign</td>\n      <td>NaN</td>\n      <td>2243.69</td>\n      <td>2243.37</td>\n      <td>1</td>\n      <td>4.5</td>\n      <td>1.9</td>\n      <td>166.7</td>\n      <td>...</td>\n      <td>-12.30</td>\n      <td>165.25</td>\n      <td>129.07</td>\n      <td>0.847436</td>\n      <td>0.635813</td>\n      <td>-2.20</td>\n      <td>-36.18</td>\n      <td>3.482</td>\n      <td>2.691</td>\n      <td>450</td>\n    </tr>\n    <tr>\n      <th>630</th>\n      <td>COL4A5</td>\n      <td>I444S</td>\n      <td>benign</td>\n      <td>NaN</td>\n      <td>2244.00</td>\n      <td>2244.10</td>\n      <td>-2</td>\n      <td>4.5</td>\n      <td>-0.8</td>\n      <td>166.7</td>\n      <td>...</td>\n      <td>-21.27</td>\n      <td>141.28</td>\n      <td>91.21</td>\n      <td>0.724513</td>\n      <td>0.637832</td>\n      <td>3.00</td>\n      <td>-50.07</td>\n      <td>3.683</td>\n      <td>0.951</td>\n      <td>444</td>\n    </tr>\n    <tr>\n      <th>631</th>\n      <td>COL4A5</td>\n      <td>R777H</td>\n      <td>benign</td>\n      <td>NaN</td>\n      <td>2243.79</td>\n      <td>2243.98</td>\n      <td>0</td>\n      <td>-4.5</td>\n      <td>-3.2</td>\n      <td>173.4</td>\n      <td>...</td>\n      <td>-17.67</td>\n      <td>246.97</td>\n      <td>179.07</td>\n      <td>0.931962</td>\n      <td>0.829028</td>\n      <td>-11.54</td>\n      <td>-67.90</td>\n      <td>3.912</td>\n      <td>3.110</td>\n      <td>777</td>\n    </tr>\n    <tr>\n      <th>632</th>\n      <td>COL4A5</td>\n      <td>E1084A</td>\n      <td>benign</td>\n      <td>NaN</td>\n      <td>2243.26</td>\n      <td>2244.01</td>\n      <td>-1</td>\n      <td>-3.5</td>\n      <td>1.8</td>\n      <td>138.4</td>\n      <td>...</td>\n      <td>-11.50</td>\n      <td>133.50</td>\n      <td>84.73</td>\n      <td>0.623832</td>\n      <td>0.700248</td>\n      <td>-1.17</td>\n      <td>-48.77</td>\n      <td>4.193</td>\n      <td>2.019</td>\n      <td>1084</td>\n    </tr>\n    <tr>\n      <th>633</th>\n      <td>COL4A5</td>\n      <td>P396L</td>\n      <td>benign</td>\n      <td>NaN</td>\n      <td>2244.22</td>\n      <td>2244.76</td>\n      <td>-3</td>\n      <td>-1.6</td>\n      <td>3.8</td>\n      <td>112.7</td>\n      <td>...</td>\n      <td>-38.48</td>\n      <td>126.36</td>\n      <td>153.61</td>\n      <td>0.820519</td>\n      <td>0.804241</td>\n      <td>2.05</td>\n      <td>27.25</td>\n      <td>1.665</td>\n      <td>3.010</td>\n      <td>396</td>\n    </tr>\n  </tbody>\n</table>\n<p>634 rows × 32 columns</p>\n</div>"
     },
     "execution_count": 21,
     "metadata": {},
     "output_type": "execute_result"
    }
   ],
   "source": [
    "gene_length = uni.get_sequence_length(gene)\n",
    "pathogenicity_df = pd.read_csv(f'gene_specific_df/{gene}_with_position.csv')\n",
    "pathogenicity_df\n"
   ],
   "metadata": {
    "collapsed": false,
    "ExecuteTime": {
     "end_time": "2023-11-01T20:47:30.525702300Z",
     "start_time": "2023-11-01T20:47:29.888262800Z"
    }
   },
   "id": "92fa4d5fe92b5ef9"
  },
  {
   "cell_type": "code",
   "execution_count": 22,
   "outputs": [
    {
     "name": "stderr",
     "output_type": "stream",
     "text": [
      "C:\\Users\\InbarBlech\\AppData\\Local\\Temp\\ipykernel_38436\\3219534758.py:4: SettingWithCopyWarning: \n",
      "A value is trying to be set on a copy of a slice from a DataFrame.\n",
      "Try using .loc[row_indexer,col_indexer] = value instead\n",
      "\n",
      "See the caveats in the documentation: https://pandas.pydata.org/pandas-docs/stable/user_guide/indexing.html#returning-a-view-versus-a-copy\n",
      "  pathogenicity_df['pathogenicity'] = pathogenicity_df['pathogenicity'].map({'pathogenic': 1, 'benign': 0})\n"
     ]
    },
    {
     "name": "stdout",
     "output_type": "stream",
     "text": [
      "{1: None, 2: None, 3: None, 4: None, 5: None, 6: None, 7: None, 8: 0, 9: None, 10: None, 11: None, 12: 0, 13: 0, 14: None, 15: None, 16: 0, 17: None, 18: None, 19: 0, 20: None, 21: None, 22: None, 23: None, 24: None, 25: None, 26: None, 27: None, 28: 2, 29: None, 30: None, 31: None, 32: None, 33: None, 34: None, 35: 0, 36: None, 37: None, 38: None, 39: 0, 40: None, 41: 0, 42: None, 43: 0, 44: None, 45: None, 46: None, 47: 0, 48: 1, 49: None, 50: None, 51: 1, 52: None, 53: None, 54: 1, 55: None, 56: None, 57: None, 58: None, 59: None, 60: None, 61: None, 62: None, 63: None, 64: None, 65: None, 66: None, 67: None, 68: None, 69: None, 70: None, 71: None, 72: None, 73: None, 74: 0, 75: None, 76: None, 77: None, 78: None, 79: None, 80: None, 81: None, 82: None, 83: None, 84: None, 85: None, 86: None, 87: None, 88: None, 89: None, 90: None, 91: None, 92: None, 93: None, 94: 0, 95: None, 96: 1, 97: None, 98: None, 99: None, 100: None, 101: None, 102: None, 103: None, 104: None, 105: None, 106: None, 107: None, 108: None, 109: None, 110: None, 111: None, 112: None, 113: None, 114: None, 115: None, 116: None, 117: None, 118: None, 119: None, 120: None, 121: 0, 122: None, 123: 1, 124: None, 125: None, 126: None, 127: None, 128: None, 129: 1, 130: None, 131: 0, 132: None, 133: None, 134: None, 135: 1, 136: None, 137: None, 138: 1, 139: None, 140: None, 141: None, 142: None, 143: 0, 144: 1, 145: None, 146: None, 147: None, 148: None, 149: None, 150: None, 151: None, 152: None, 153: 1, 154: None, 155: None, 156: 1, 157: None, 158: None, 159: None, 160: None, 161: 0, 162: None, 163: 0, 164: None, 165: None, 166: None, 167: None, 168: None, 169: None, 170: None, 171: 1, 172: None, 173: None, 174: 1, 175: None, 176: None, 177: 1, 178: None, 179: None, 180: 1, 181: 0, 182: None, 183: 1, 184: 0, 185: 0, 186: 1, 187: None, 188: 0, 189: 1, 190: None, 191: None, 192: 1, 193: None, 194: None, 195: 1, 196: None, 197: None, 198: 1, 199: None, 200: None, 201: 1, 202: None, 203: None, 204: 1, 205: None, 206: None, 207: None, 208: None, 209: None, 210: None, 211: None, 212: None, 213: 1, 214: None, 215: None, 216: 1, 217: None, 218: None, 219: 1, 220: None, 221: None, 222: 1, 223: None, 224: None, 225: None, 226: None, 227: 1, 228: None, 229: None, 230: 1, 231: None, 232: None, 233: 1, 234: None, 235: None, 236: None, 237: None, 238: None, 239: 1, 240: None, 241: None, 242: None, 243: None, 244: None, 245: None, 246: None, 247: None, 248: None, 249: None, 250: None, 251: 0, 252: None, 253: None, 254: None, 255: None, 256: None, 257: None, 258: None, 259: None, 260: 0, 261: None, 262: None, 263: None, 264: 1, 265: None, 266: None, 267: None, 268: None, 269: 0, 270: None, 271: None, 272: None, 273: 1, 274: 0, 275: 0, 276: None, 277: None, 278: 0, 279: None, 280: None, 281: None, 282: None, 283: None, 284: 0, 285: None, 286: None, 287: None, 288: None, 289: 1, 290: None, 291: None, 292: 1, 293: None, 294: None, 295: 1, 296: None, 297: None, 298: 1, 299: None, 300: 1, 301: 1, 302: None, 303: None, 304: None, 305: None, 306: 0, 307: None, 308: None, 309: None, 310: 1, 311: None, 312: None, 313: 1, 314: None, 315: None, 316: 1, 317: None, 318: None, 319: 1, 320: None, 321: None, 322: 1, 323: None, 324: 0, 325: 1, 326: None, 327: None, 328: None, 329: None, 330: None, 331: 1, 332: None, 333: None, 334: 1, 335: None, 336: 0, 337: 1, 338: None, 339: None, 340: None, 341: None, 342: None, 343: None, 344: None, 345: None, 346: None, 347: None, 348: None, 349: None, 350: 0, 351: None, 352: 0, 353: 0, 354: None, 355: 0, 356: None, 357: None, 358: None, 359: 1, 360: None, 361: 0, 362: 1, 363: None, 364: None, 365: 1, 366: None, 367: None, 368: None, 369: None, 370: None, 371: 1, 372: None, 373: None, 374: 1, 375: None, 376: None, 377: None, 378: 0, 379: None, 380: 1, 381: None, 382: None, 383: 1, 384: None, 385: None, 386: None, 387: None, 388: None, 389: 1, 390: 0, 391: None, 392: 0, 393: 0, 394: None, 395: None, 396: 0, 397: 1, 398: None, 399: None, 400: 1, 401: None, 402: None, 403: 1, 404: None, 405: None, 406: 1, 407: None, 408: None, 409: 1, 410: None, 411: None, 412: 1, 413: None, 414: None, 415: 1, 416: None, 417: None, 418: 0, 419: None, 420: 1, 421: 0, 422: None, 423: 1, 424: None, 425: 0, 426: 1, 427: None, 428: None, 429: 1, 430: None, 431: None, 432: 1, 433: None, 434: None, 435: None, 436: None, 437: None, 438: None, 439: None, 440: 0, 441: None, 442: None, 443: 0, 444: 0, 445: None, 446: 0, 447: 0, 448: 0, 449: None, 450: 0, 451: 1, 452: None, 453: 0, 454: None, 455: None, 456: None, 457: None, 458: None, 459: None, 460: 1, 461: None, 462: None, 463: None, 464: None, 465: 0, 466: 1, 467: None, 468: None, 469: 1, 470: None, 471: None, 472: 1, 473: 0, 474: None, 475: 1, 476: None, 477: 0, 478: None, 479: None, 480: None, 481: None, 482: None, 483: None, 484: None, 485: None, 486: None, 487: None, 488: None, 489: None, 490: None, 491: 1, 492: None, 493: None, 494: 1, 495: None, 496: None, 497: 1, 498: None, 499: None, 500: 1, 501: None, 502: None, 503: 1, 504: None, 505: None, 506: None, 507: None, 508: None, 509: 1, 510: None, 511: None, 512: None, 513: None, 514: None, 515: 1, 516: None, 517: None, 518: None, 519: 0, 520: None, 521: 1, 522: 0, 523: None, 524: 1, 525: 0, 526: None, 527: 1, 528: None, 529: 0, 530: 1, 531: None, 532: None, 533: 1, 534: None, 535: None, 536: 1, 537: None, 538: None, 539: None, 540: None, 541: None, 542: None, 543: None, 544: None, 545: 1, 546: None, 547: None, 548: None, 549: None, 550: None, 551: None, 552: None, 553: None, 554: None, 555: None, 556: None, 557: None, 558: 1, 559: None, 560: None, 561: 1, 562: None, 563: None, 564: 1, 565: None, 566: None, 567: 1, 568: None, 569: None, 570: None, 571: None, 572: None, 573: 1, 574: None, 575: None, 576: 1, 577: 0, 578: None, 579: 1, 580: None, 581: 0, 582: 1, 583: None, 584: None, 585: None, 586: None, 587: None, 588: None, 589: None, 590: None, 591: None, 592: None, 593: None, 594: 1, 595: 2, 596: None, 597: 0, 598: 0, 599: None, 600: 1, 601: None, 602: None, 603: 1, 604: None, 605: None, 606: 1, 607: None, 608: None, 609: 1, 610: None, 611: None, 612: 1, 613: 0, 614: None, 615: 1, 616: None, 617: 0, 618: None, 619: 1, 620: 0, 621: 1, 622: None, 623: 0, 624: 1, 625: None, 626: 1, 627: None, 628: 1, 629: 1, 630: None, 631: 0, 632: 1, 633: 1, 634: None, 635: 1, 636: 0, 637: None, 638: 1, 639: None, 640: None, 641: 1, 642: 0, 643: None, 644: 1, 645: None, 646: None, 647: None, 648: 0, 649: 1, 650: 1, 651: None, 652: None, 653: 1, 654: None, 655: None, 656: 1, 657: None, 658: None, 659: None, 660: None, 661: None, 662: None, 663: None, 664: 0, 665: None, 666: None, 667: None, 668: None, 669: 1, 670: None, 671: None, 672: 1, 673: None, 674: None, 675: 1, 676: 0, 677: None, 678: None, 679: None, 680: None, 681: 1, 682: 0, 683: None, 684: 1, 685: None, 686: None, 687: 1, 688: None, 689: None, 690: None, 691: None, 692: None, 693: 1, 694: None, 695: None, 696: 1, 697: None, 698: None, 699: 1, 700: None, 701: None, 702: None, 703: None, 704: None, 705: None, 706: None, 707: None, 708: 0, 709: 0, 710: 1, 711: None, 712: None, 713: None, 714: None, 715: None, 716: 1, 717: None, 718: None, 719: 1, 720: None, 721: None, 722: 1, 723: None, 724: 0, 725: None, 726: None, 727: None, 728: None, 729: 0, 730: None, 731: None, 732: 0, 733: 0, 734: None, 735: None, 736: None, 737: None, 738: 0, 739: 1, 740: 1, 741: None, 742: None, 743: 1, 744: None, 745: None, 746: 1, 747: 0, 748: 1, 749: 1, 750: None, 751: None, 752: None, 753: None, 754: 0, 755: 0, 756: None, 757: None, 758: None, 759: None, 760: None, 761: None, 762: None, 763: 1, 764: None, 765: None, 766: 1, 767: None, 768: None, 769: 1, 770: 0, 771: None, 772: 1, 773: None, 774: None, 775: 1, 776: None, 777: 0, 778: None, 779: None, 780: None, 781: None, 782: None, 783: None, 784: 1, 785: None, 786: None, 787: 1, 788: 0, 789: 0, 790: None, 791: 0, 792: None, 793: None, 794: None, 795: None, 796: 1, 797: 0, 798: None, 799: 1, 800: None, 801: 0, 802: 1, 803: None, 804: 0, 805: 1, 806: None, 807: None, 808: 1, 809: None, 810: 0, 811: 1, 812: None, 813: None, 814: None, 815: None, 816: None, 817: None, 818: 0, 819: None, 820: None, 821: None, 822: 1, 823: None, 824: None, 825: None, 826: None, 827: None, 828: 1, 829: 0, 830: None, 831: 1, 832: None, 833: 0, 834: 1, 835: None, 836: None, 837: 1, 838: None, 839: 0, 840: 1, 841: None, 842: None, 843: None, 844: None, 845: None, 846: None, 847: 0, 848: None, 849: 1, 850: None, 851: None, 852: 1, 853: 0, 854: None, 855: None, 856: None, 857: None, 858: None, 859: None, 860: 1, 861: None, 862: None, 863: None, 864: None, 865: 0, 866: 1, 867: None, 868: None, 869: 1, 870: None, 871: None, 872: 1, 873: 0, 874: 0, 875: 1, 876: None, 877: None, 878: 1, 879: 0, 880: None, 881: 1, 882: None, 883: None, 884: None, 885: None, 886: 0, 887: 1, 888: None, 889: None, 890: None, 891: None, 892: 0, 893: 1, 894: 0, 895: None, 896: 1, 897: None, 898: 1, 899: 1, 900: 0, 901: 1, 902: 1, 903: None, 904: None, 905: 1, 906: None, 907: 0, 908: None, 909: None, 910: None, 911: 1, 912: None, 913: None, 914: 1, 915: None, 916: 1, 917: None, 918: 0, 919: None, 920: None, 921: None, 922: 1, 923: 1, 924: None, 925: None, 926: None, 927: None, 928: None, 929: None, 930: None, 931: None, 932: None, 933: 0, 934: None, 935: None, 936: None, 937: 0, 938: None, 939: None, 940: None, 941: 1, 942: None, 943: None, 944: None, 945: None, 946: 0, 947: 1, 948: 0, 949: None, 950: None, 951: 0, 952: None, 953: 0, 954: None, 955: None, 956: None, 957: None, 958: 0, 959: None, 960: None, 961: None, 962: None, 963: None, 964: None, 965: None, 966: None, 967: None, 968: 0, 969: None, 970: None, 971: None, 972: None, 973: 1, 974: None, 975: None, 976: None, 977: 0, 978: None, 979: None, 980: None, 981: None, 982: None, 983: 0, 984: None, 985: None, 986: None, 987: None, 988: None, 989: None, 990: None, 991: None, 992: None, 993: None, 994: None, 995: None, 996: None, 997: None, 998: None, 999: 0, 1000: None, 1001: None, 1002: None, 1003: None, 1004: None, 1005: 0, 1006: 1, 1007: None, 1008: None, 1009: None, 1010: 0, 1011: None, 1012: None, 1013: None, 1014: None, 1015: 1, 1016: 0, 1017: None, 1018: 1, 1019: None, 1020: 0, 1021: None, 1022: None, 1023: None, 1024: 1, 1025: None, 1026: None, 1027: 1, 1028: 0, 1029: None, 1030: 1, 1031: None, 1032: None, 1033: None, 1034: None, 1035: None, 1036: 1, 1037: None, 1038: None, 1039: 1, 1040: 0, 1041: 0, 1042: 1, 1043: 0, 1044: None, 1045: 1, 1046: None, 1047: 0, 1048: None, 1049: 0, 1050: None, 1051: None, 1052: None, 1053: None, 1054: None, 1055: None, 1056: None, 1057: 1, 1058: None, 1059: None, 1060: 1, 1061: None, 1062: None, 1063: 1, 1064: 0, 1065: None, 1066: 1, 1067: None, 1068: None, 1069: 1, 1070: 0, 1071: None, 1072: 0, 1073: None, 1074: None, 1075: None, 1076: None, 1077: None, 1078: None, 1079: None, 1080: 1, 1081: None, 1082: None, 1083: 1, 1084: 0, 1085: None, 1086: 1, 1087: None, 1088: None, 1089: 1, 1090: None, 1091: None, 1092: None, 1093: 0, 1094: None, 1095: None, 1096: None, 1097: None, 1098: None, 1099: 0, 1100: 0, 1101: None, 1102: None, 1103: 0, 1104: 1, 1105: 0, 1106: None, 1107: 1, 1108: None, 1109: None, 1110: None, 1111: 0, 1112: None, 1113: None, 1114: None, 1115: None, 1116: None, 1117: None, 1118: None, 1119: None, 1120: 0, 1121: None, 1122: None, 1123: None, 1124: None, 1125: 1, 1126: 0, 1127: None, 1128: 1, 1129: 0, 1130: None, 1131: None, 1132: 0, 1133: None, 1134: None, 1135: None, 1136: 0, 1137: 1, 1138: None, 1139: None, 1140: 1, 1141: None, 1142: None, 1143: 1, 1144: None, 1145: None, 1146: None, 1147: 0, 1148: 0, 1149: 1, 1150: None, 1151: 0, 1152: None, 1153: None, 1154: None, 1155: None, 1156: 0, 1157: None, 1158: 1, 1159: 0, 1160: None, 1161: 1, 1162: None, 1163: None, 1164: 1, 1165: None, 1166: None, 1167: 1, 1168: None, 1169: None, 1170: 1, 1171: None, 1172: None, 1173: None, 1174: None, 1175: None, 1176: 1, 1177: None, 1178: None, 1179: 1, 1180: None, 1181: None, 1182: 1, 1183: None, 1184: None, 1185: None, 1186: None, 1187: None, 1188: None, 1189: None, 1190: None, 1191: 0, 1192: None, 1193: None, 1194: None, 1195: None, 1196: 1, 1197: None, 1198: None, 1199: None, 1200: None, 1201: None, 1202: None, 1203: None, 1204: None, 1205: 1, 1206: None, 1207: None, 1208: None, 1209: None, 1210: None, 1211: 1, 1212: None, 1213: None, 1214: 1, 1215: None, 1216: None, 1217: 1, 1218: None, 1219: None, 1220: 1, 1221: None, 1222: None, 1223: 1, 1224: None, 1225: 0, 1226: None, 1227: None, 1228: 0, 1229: 1, 1230: None, 1231: None, 1232: 1, 1233: 0, 1234: None, 1235: 1, 1236: None, 1237: None, 1238: None, 1239: None, 1240: None, 1241: 1, 1242: 0, 1243: None, 1244: 1, 1245: 0, 1246: None, 1247: None, 1248: None, 1249: None, 1250: None, 1251: None, 1252: 1, 1253: None, 1254: None, 1255: 1, 1256: None, 1257: None, 1258: 1, 1259: None, 1260: None, 1261: 1, 1262: None, 1263: None, 1264: 1, 1265: 0, 1266: None, 1267: None, 1268: None, 1269: None, 1270: None, 1271: 0, 1272: 0, 1273: None, 1274: None, 1275: None, 1276: 1, 1277: None, 1278: 0, 1279: 2, 1280: None, 1281: None, 1282: None, 1283: None, 1284: 0, 1285: None, 1286: None, 1287: None, 1288: None, 1289: None, 1290: None, 1291: None, 1292: 0, 1293: None, 1294: None, 1295: None, 1296: None, 1297: None, 1298: None, 1299: None, 1300: None, 1301: None, 1302: 0, 1303: None, 1304: 0, 1305: None, 1306: None, 1307: None, 1308: 0, 1309: None, 1310: None, 1311: 0, 1312: None, 1313: None, 1314: None, 1315: None, 1316: None, 1317: None, 1318: None, 1319: None, 1320: None, 1321: None, 1322: None, 1323: 0, 1324: None, 1325: None, 1326: None, 1327: None, 1328: None, 1329: 1, 1330: None, 1331: None, 1332: 0, 1333: 1, 1334: None, 1335: None, 1336: None, 1337: None, 1338: 0, 1339: 1, 1340: 0, 1341: None, 1342: None, 1343: None, 1344: 0, 1345: None, 1346: None, 1347: None, 1348: 1, 1349: None, 1350: None, 1351: None, 1352: None, 1353: 0, 1354: 1, 1355: None, 1356: None, 1357: 1, 1358: None, 1359: None, 1360: 1, 1361: 0, 1362: None, 1363: 1, 1364: None, 1365: None, 1366: None, 1367: None, 1368: None, 1369: None, 1370: None, 1371: None, 1372: None, 1373: None, 1374: None, 1375: 0, 1376: None, 1377: None, 1378: None, 1379: None, 1380: None, 1381: None, 1382: None, 1383: None, 1384: None, 1385: 1, 1386: None, 1387: 0, 1388: None, 1389: 0, 1390: None, 1391: None, 1392: 0, 1393: 0, 1394: None, 1395: None, 1396: None, 1397: None, 1398: None, 1399: None, 1400: None, 1401: None, 1402: 0, 1403: None, 1404: 0, 1405: None, 1406: None, 1407: None, 1408: None, 1409: None, 1410: 0, 1411: None, 1412: 1, 1413: None, 1414: None, 1415: 1, 1416: None, 1417: None, 1418: None, 1419: None, 1420: 0, 1421: None, 1422: None, 1423: None, 1424: None, 1425: None, 1426: None, 1427: 1, 1428: None, 1429: None, 1430: 1, 1431: None, 1432: None, 1433: 1, 1434: None, 1435: None, 1436: None, 1437: None, 1438: None, 1439: 1, 1440: None, 1441: None, 1442: None, 1443: None, 1444: None, 1445: None, 1446: None, 1447: None, 1448: 1, 1449: None, 1450: None, 1451: None, 1452: None, 1453: None, 1454: 1, 1455: 0, 1456: 0, 1457: 0, 1458: 0, 1459: None, 1460: None, 1461: None, 1462: None, 1463: None, 1464: None, 1465: None, 1466: None, 1467: None, 1468: None, 1469: None, 1470: 0, 1471: 0, 1472: None, 1473: None, 1474: None, 1475: None, 1476: None, 1477: None, 1478: None, 1479: None, 1480: None, 1481: 0, 1482: None, 1483: 0, 1484: None, 1485: None, 1486: None, 1487: None, 1488: None, 1489: None, 1490: None, 1491: None, 1492: None, 1493: None, 1494: None, 1495: None, 1496: None, 1497: None, 1498: None, 1499: None, 1500: None, 1501: None, 1502: None, 1503: None, 1504: None, 1505: None, 1506: None, 1507: None, 1508: None, 1509: None, 1510: None, 1511: None, 1512: None, 1513: None, 1514: None, 1515: None, 1516: None, 1517: None, 1518: None, 1519: None, 1520: None, 1521: None, 1522: None, 1523: None, 1524: None, 1525: None, 1526: None, 1527: None, 1528: None, 1529: None, 1530: None, 1531: None, 1532: None, 1533: None, 1534: None, 1535: None, 1536: None, 1537: None, 1538: None, 1539: None, 1540: None, 1541: None, 1542: None, 1543: None, 1544: None, 1545: None, 1546: None, 1547: 0, 1548: None, 1549: None, 1550: 0, 1551: None, 1552: None, 1553: None, 1554: None, 1555: None, 1556: 0, 1557: None, 1558: None, 1559: None, 1560: None, 1561: None, 1562: None, 1563: None, 1564: None, 1565: 0, 1566: None, 1567: None, 1568: None, 1569: None, 1570: None, 1571: None, 1572: 0, 1573: None, 1574: None, 1575: None, 1576: None, 1577: None, 1578: None, 1579: None, 1580: None, 1581: None, 1582: None, 1583: None, 1584: None, 1585: 0, 1586: None, 1587: None, 1588: None, 1589: None, 1590: None, 1591: 0, 1592: None, 1593: None, 1594: None, 1595: None, 1596: None, 1597: None, 1598: None, 1599: None, 1600: None, 1601: None, 1602: None, 1603: None, 1604: 1, 1605: None, 1606: None, 1607: None, 1608: None, 1609: None, 1610: None, 1611: None, 1612: None, 1613: None, 1614: None, 1615: None, 1616: None, 1617: None, 1618: None, 1619: None, 1620: None, 1621: None, 1622: None, 1623: None, 1624: None, 1625: None, 1626: None, 1627: None, 1628: None, 1629: None, 1630: None, 1631: None, 1632: None, 1633: None, 1634: None, 1635: None, 1636: None, 1637: None, 1638: 1, 1639: None, 1640: None, 1641: None, 1642: None, 1643: None, 1644: None, 1645: None, 1646: None, 1647: None, 1648: None, 1649: None, 1650: None, 1651: None, 1652: None, 1653: None, 1654: None, 1655: None, 1656: None, 1657: None, 1658: None, 1659: None, 1660: None, 1661: None, 1662: None, 1663: None, 1664: None, 1665: None, 1666: None, 1667: None, 1668: None, 1669: None, 1670: None, 1671: None, 1672: None, 1673: None, 1674: None, 1675: None, 1676: None, 1677: None, 1678: None, 1679: None, 1680: None, 1681: None, 1682: None, 1683: None, 1684: None, 1685: None}\n"
     ]
    },
    {
     "data": {
      "text/plain": "        ATOM NAME RESNAME CHAINID  RESIDUESEQ          X      Y          Z  \\\n0          1    N     MET       A           1 -91.740997  1.479  50.665001   \n1          2   CA     MET       A           1 -90.630997  1.526  51.652000   \n2          3    C     MET       A           1 -89.237999  1.265  51.056999   \n3          4   CB     MET       A           1 -90.931000  0.660  52.884998   \n4          5    O     MET       A           1 -88.305000  1.903  51.515999   \n...      ...  ...     ...     ...         ...        ...    ...        ...   \n11351  11352   CB     THR       A        1685 -31.257999 -7.433  -0.235000   \n11352  11353    O     THR       A        1685 -32.944000 -9.553   0.961000   \n11353  11354  CG2     THR       A        1685 -29.969999 -6.648  -0.475000   \n11354  11355  OG1     THR       A        1685 -31.139000 -8.676  -0.882000   \n11355  11356  OXT     THR       A        1685 -33.806999 -7.722   1.905000   \n\n       OCCUPANCY  TEMPFACTOR ELEMENT  \n0            1.0         NaN       N  \n1            1.0         NaN       C  \n2            1.0         NaN       C  \n3            1.0         NaN       C  \n4            1.0         NaN       O  \n...          ...         ...     ...  \n11351        1.0         NaN       C  \n11352        1.0         NaN       O  \n11353        1.0         NaN       C  \n11354        1.0         NaN       O  \n11355        1.0         NaN       O  \n\n[11356 rows x 11 columns]",
      "text/html": "<div>\n<style scoped>\n    .dataframe tbody tr th:only-of-type {\n        vertical-align: middle;\n    }\n\n    .dataframe tbody tr th {\n        vertical-align: top;\n    }\n\n    .dataframe thead th {\n        text-align: right;\n    }\n</style>\n<table border=\"1\" class=\"dataframe\">\n  <thead>\n    <tr style=\"text-align: right;\">\n      <th></th>\n      <th>ATOM</th>\n      <th>NAME</th>\n      <th>RESNAME</th>\n      <th>CHAINID</th>\n      <th>RESIDUESEQ</th>\n      <th>X</th>\n      <th>Y</th>\n      <th>Z</th>\n      <th>OCCUPANCY</th>\n      <th>TEMPFACTOR</th>\n      <th>ELEMENT</th>\n    </tr>\n  </thead>\n  <tbody>\n    <tr>\n      <th>0</th>\n      <td>1</td>\n      <td>N</td>\n      <td>MET</td>\n      <td>A</td>\n      <td>1</td>\n      <td>-91.740997</td>\n      <td>1.479</td>\n      <td>50.665001</td>\n      <td>1.0</td>\n      <td>NaN</td>\n      <td>N</td>\n    </tr>\n    <tr>\n      <th>1</th>\n      <td>2</td>\n      <td>CA</td>\n      <td>MET</td>\n      <td>A</td>\n      <td>1</td>\n      <td>-90.630997</td>\n      <td>1.526</td>\n      <td>51.652000</td>\n      <td>1.0</td>\n      <td>NaN</td>\n      <td>C</td>\n    </tr>\n    <tr>\n      <th>2</th>\n      <td>3</td>\n      <td>C</td>\n      <td>MET</td>\n      <td>A</td>\n      <td>1</td>\n      <td>-89.237999</td>\n      <td>1.265</td>\n      <td>51.056999</td>\n      <td>1.0</td>\n      <td>NaN</td>\n      <td>C</td>\n    </tr>\n    <tr>\n      <th>3</th>\n      <td>4</td>\n      <td>CB</td>\n      <td>MET</td>\n      <td>A</td>\n      <td>1</td>\n      <td>-90.931000</td>\n      <td>0.660</td>\n      <td>52.884998</td>\n      <td>1.0</td>\n      <td>NaN</td>\n      <td>C</td>\n    </tr>\n    <tr>\n      <th>4</th>\n      <td>5</td>\n      <td>O</td>\n      <td>MET</td>\n      <td>A</td>\n      <td>1</td>\n      <td>-88.305000</td>\n      <td>1.903</td>\n      <td>51.515999</td>\n      <td>1.0</td>\n      <td>NaN</td>\n      <td>O</td>\n    </tr>\n    <tr>\n      <th>...</th>\n      <td>...</td>\n      <td>...</td>\n      <td>...</td>\n      <td>...</td>\n      <td>...</td>\n      <td>...</td>\n      <td>...</td>\n      <td>...</td>\n      <td>...</td>\n      <td>...</td>\n      <td>...</td>\n    </tr>\n    <tr>\n      <th>11351</th>\n      <td>11352</td>\n      <td>CB</td>\n      <td>THR</td>\n      <td>A</td>\n      <td>1685</td>\n      <td>-31.257999</td>\n      <td>-7.433</td>\n      <td>-0.235000</td>\n      <td>1.0</td>\n      <td>NaN</td>\n      <td>C</td>\n    </tr>\n    <tr>\n      <th>11352</th>\n      <td>11353</td>\n      <td>O</td>\n      <td>THR</td>\n      <td>A</td>\n      <td>1685</td>\n      <td>-32.944000</td>\n      <td>-9.553</td>\n      <td>0.961000</td>\n      <td>1.0</td>\n      <td>NaN</td>\n      <td>O</td>\n    </tr>\n    <tr>\n      <th>11353</th>\n      <td>11354</td>\n      <td>CG2</td>\n      <td>THR</td>\n      <td>A</td>\n      <td>1685</td>\n      <td>-29.969999</td>\n      <td>-6.648</td>\n      <td>-0.475000</td>\n      <td>1.0</td>\n      <td>NaN</td>\n      <td>C</td>\n    </tr>\n    <tr>\n      <th>11354</th>\n      <td>11355</td>\n      <td>OG1</td>\n      <td>THR</td>\n      <td>A</td>\n      <td>1685</td>\n      <td>-31.139000</td>\n      <td>-8.676</td>\n      <td>-0.882000</td>\n      <td>1.0</td>\n      <td>NaN</td>\n      <td>O</td>\n    </tr>\n    <tr>\n      <th>11355</th>\n      <td>11356</td>\n      <td>OXT</td>\n      <td>THR</td>\n      <td>A</td>\n      <td>1685</td>\n      <td>-33.806999</td>\n      <td>-7.722</td>\n      <td>1.905000</td>\n      <td>1.0</td>\n      <td>NaN</td>\n      <td>O</td>\n    </tr>\n  </tbody>\n</table>\n<p>11356 rows × 11 columns</p>\n</div>"
     },
     "execution_count": 22,
     "metadata": {},
     "output_type": "execute_result"
    }
   ],
   "source": [
    "# leave only the pathogenicity and residue number columns\n",
    "pathogenicity_df = pathogenicity_df[['position', 'pathogenicity']]\n",
    "# Change pathogenicity to 1 and 0, where 1 is pathogenic and 0 is benign\n",
    "pathogenicity_df['pathogenicity'] = pathogenicity_df['pathogenicity'].map({'pathogenic': 1, 'benign': 0})\n",
    "\n",
    "residue_dict = create_dictionary_with_all_residues(gene_length)\n",
    "\n",
    "b_factor_dict = get_b_factor_dict(residue_dict, pathogenicity_df, gene_length)\n",
    "print(b_factor_dict)\n",
    "pdb_df = add_b_factor_by_residue(pdb_df, b_factor_dict)\n",
    "\n",
    "pdb_df"
   ],
   "metadata": {
    "collapsed": false,
    "ExecuteTime": {
     "end_time": "2023-11-01T20:47:35.427759300Z",
     "start_time": "2023-11-01T20:47:30.529289Z"
    }
   },
   "id": "4477a332618f99ad"
  },
  {
   "cell_type": "code",
   "execution_count": 23,
   "outputs": [
    {
     "name": "stdout",
     "output_type": "stream",
     "text": [
      "[3, 3, 3, 3, 3, 3, 3, 3, 3, 3, 3, 3, 3, 3, 3, 3, 3, 3, 3, 3, 3, 3, 3, 3, 3, 3, 3, 3, 3, 3, 3, 3, 3, 3, 3, 3, 3, 3, 3, 3, 3, 3, 3, 3, 3, 3, 3, 3, 3, 3, 3, 3, 3, 0, 0, 0, 0, 0, 0, 0, 0, 3, 3, 3, 3, 3, 3, 3, 3, 3, 3, 3, 3, 3, 3, 0, 0, 0, 0, 0, 0, 0, 0, 0, 0, 0, 0, 0, 0, 0, 0, 0, 0, 0, 3, 3, 3, 3, 3, 3, 3, 3, 3, 3, 3, 3, 3, 3, 3, 3, 0, 0, 0, 0, 0, 3, 3, 3, 3, 3, 3, 3, 3, 3, 3, 3, 3, 3, 3, 0, 0, 0, 0, 0, 0, 0, 0, 3, 3, 3, 3, 3, 3, 3, 3, 3, 3, 3, 3, 3, 3, 3, 3, 3, 3, 3, 3, 3, 3, 3, 3, 3, 3, 3, 3, 3, 3, 3, 3, 3, 3, 3, 3, 3, 3, 3, 3, 3, 3, 3, 3, 3, 3, 3, 3, 3, 3, 3, 3, 3, 3, 3, 3, 3, 3, 2, 2, 2, 2, 2, 3, 3, 3, 3, 3, 3, 3, 3, 3, 3, 3, 3, 3, 3, 3, 3, 3, 3, 3, 3, 3, 3, 3, 3, 3, 3, 3, 3, 3, 3, 3, 3, 3, 3, 3, 3, 3, 3, 3, 3, 3, 0, 0, 0, 0, 3, 3, 3, 3, 3, 3, 3, 3, 3, 3, 3, 3, 3, 3, 3, 3, 3, 3, 3, 3, 3, 0, 0, 0, 0, 0, 0, 0, 0, 3, 3, 3, 3, 3, 3, 0, 0, 0, 0, 0, 0, 3, 3, 3, 3, 0, 0, 0, 0, 0, 0, 0, 0, 3, 3, 3, 3, 3, 3, 3, 3, 3, 3, 3, 3, 3, 3, 3, 3, 3, 3, 3, 3, 3, 3, 0, 0, 0, 0, 0, 0, 0, 0, 0, 1, 1, 1, 1, 3, 3, 3, 3, 3, 3, 3, 3, 3, 3, 3, 3, 3, 3, 3, 3, 3, 3, 3, 3, 1, 1, 1, 1, 3, 3, 3, 3, 3, 3, 3, 3, 3, 3, 3, 3, 3, 3, 3, 3, 3, 3, 1, 1, 1, 1, 3, 3, 3, 3, 3, 3, 3, 3, 3, 3, 3, 3, 3, 3, 3, 3, 3, 3, 3, 3, 3, 3, 3, 3, 3, 3, 3, 3, 3, 3, 3, 3, 3, 3, 3, 3, 3, 3, 3, 3, 3, 3, 3, 3, 3, 3, 3, 3, 3, 3, 3, 3, 3, 3, 3, 3, 3, 3, 3, 3, 3, 3, 3, 3, 3, 3, 3, 3, 3, 3, 3, 3, 3, 3, 3, 3, 3, 3, 3, 3, 3, 3, 3, 3, 3, 3, 3, 3, 3, 3, 3, 3, 3, 3, 3, 3, 3, 3, 3, 3, 3, 3, 3, 3, 3, 3, 3, 3, 3, 3, 3, 3, 3, 3, 3, 3, 3, 3, 3, 3, 3, 3, 3, 3, 3, 3, 3, 3, 0, 0, 0, 0, 0, 0, 0, 0, 0, 0, 0, 3, 3, 3, 3, 3, 3, 3, 3, 3, 3, 3, 3, 3, 3, 3, 3, 3, 3, 3, 3, 3, 3, 3, 3, 3, 3, 3, 3, 3, 3, 3, 3, 3, 3, 3, 3, 3, 3, 3, 3, 3, 3, 3, 3, 3, 3, 3, 3, 3, 3, 3, 3, 3, 3, 3, 3, 3, 3, 3, 3, 3, 3, 3, 3, 3, 3, 3, 3, 3, 3, 3, 3, 3, 3, 3, 3, 3, 3, 3, 3, 3, 3, 3, 3, 3, 3, 3, 3, 3, 3, 3, 3, 3, 3, 3, 3, 3, 3, 3, 3, 3, 3, 3, 3, 3, 3, 3, 3, 3, 3, 3, 3, 3, 3, 3, 3, 3, 3, 3, 3, 3, 3, 3, 3, 3, 3, 0, 0, 0, 0, 0, 0, 0, 3, 3, 3, 3, 3, 3, 3, 1, 1, 1, 1, 3, 3, 3, 3, 3, 3, 3, 3, 3, 3, 3, 3, 3, 3, 3, 3, 3, 3, 3, 3, 3, 3, 3, 3, 3, 3, 3, 3, 3, 3, 3, 3, 3, 3, 3, 3, 3, 3, 3, 3, 3, 3, 3, 3, 3, 3, 3, 3, 3, 3, 3, 3, 3, 3, 3, 3, 3, 3, 3, 3, 3, 3, 3, 3, 3, 3, 3, 3, 3, 3, 3, 3, 3, 3, 3, 3, 3, 3, 3, 3, 3, 3, 3, 3, 3, 3, 3, 3, 3, 3, 3, 3, 3, 3, 3, 3, 3, 3, 3, 3, 3, 3, 3, 3, 3, 3, 3, 3, 3, 3, 3, 3, 3, 3, 3, 3, 3, 3, 3, 3, 3, 3, 3, 3, 3, 3, 3, 3, 3, 3, 3, 3, 3, 3, 3, 3, 3, 3, 3, 3, 3, 3, 3, 3, 3, 3, 3, 3, 3, 3, 3, 3, 3, 3, 3, 0, 0, 0, 0, 0, 0, 0, 0, 3, 3, 3, 3, 3, 3, 3, 1, 1, 1, 1, 3, 3, 3, 3, 3, 3, 3, 3, 3, 3, 3, 3, 3, 3, 3, 3, 3, 3, 3, 3, 3, 3, 3, 3, 3, 3, 3, 3, 3, 3, 3, 3, 3, 3, 1, 1, 1, 1, 3, 3, 3, 3, 3, 3, 3, 3, 3, 0, 0, 0, 0, 0, 0, 0, 0, 0, 0, 0, 3, 3, 3, 3, 3, 3, 3, 3, 3, 3, 3, 3, 3, 3, 3, 3, 3, 3, 3, 3, 3, 3, 1, 1, 1, 1, 3, 3, 3, 3, 3, 3, 3, 3, 3, 3, 3, 3, 3, 1, 1, 1, 1, 3, 3, 3, 3, 3, 3, 3, 3, 3, 3, 3, 3, 3, 3, 3, 3, 3, 3, 3, 3, 3, 3, 3, 3, 3, 3, 3, 3, 3, 3, 0, 0, 0, 0, 0, 0, 0, 0, 0, 1, 1, 1, 1, 3, 3, 3, 3, 3, 3, 3, 3, 3, 3, 3, 3, 3, 3, 3, 3, 3, 3, 3, 3, 3, 3, 3, 3, 3, 3, 3, 3, 3, 3, 3, 3, 3, 3, 3, 3, 3, 3, 3, 3, 3, 3, 3, 3, 3, 3, 3, 3, 3, 3, 3, 1, 1, 1, 1, 3, 3, 3, 3, 3, 3, 3, 3, 3, 3, 3, 3, 3, 3, 3, 3, 3, 1, 1, 1, 1, 3, 3, 3, 3, 3, 3, 3, 3, 3, 3, 3, 3, 3, 3, 3, 3, 3, 3, 3, 3, 3, 3, 3, 3, 3, 3, 0, 0, 0, 0, 0, 0, 0, 0, 3, 3, 3, 3, 3, 3, 3, 3, 0, 0, 0, 0, 0, 0, 0, 0, 3, 3, 3, 3, 3, 3, 3, 3, 3, 3, 3, 3, 3, 3, 3, 3, 3, 3, 3, 3, 3, 3, 3, 3, 3, 3, 3, 3, 3, 3, 3, 3, 3, 3, 3, 3, 3, 3, 3, 3, 3, 3, 3, 3, 3, 3, 3, 1, 1, 1, 1, 3, 3, 3, 3, 3, 3, 3, 3, 3, 3, 3, 3, 3, 3, 3, 1, 1, 1, 1, 3, 3, 3, 3, 3, 3, 3, 3, 3, 3, 3, 3, 3, 3, 3, 3, 3, 3, 3, 1, 1, 1, 1, 3, 3, 3, 3, 3, 3, 3, 3, 3, 3, 3, 3, 3, 3, 1, 1, 1, 1, 0, 0, 0, 0, 0, 0, 0, 0, 3, 3, 3, 3, 3, 3, 3, 3, 3, 1, 1, 1, 1, 0, 0, 0, 0, 0, 0, 0, 0, 0, 0, 0, 0, 0, 0, 0, 1, 1, 1, 1, 3, 3, 3, 3, 3, 3, 3, 0, 0, 0, 0, 0, 0, 0, 1, 1, 1, 1, 3, 3, 3, 3, 3, 3, 3, 3, 3, 3, 3, 3, 3, 3, 3, 1, 1, 1, 1, 3, 3, 3, 3, 3, 3, 3, 3, 3, 3, 3, 3, 3, 3, 3, 1, 1, 1, 1, 3, 3, 3, 3, 3, 3, 3, 3, 3, 3, 3, 3, 3, 3, 1, 1, 1, 1, 3, 3, 3, 3, 3, 3, 3, 3, 3, 3, 3, 3, 3, 3, 1, 1, 1, 1, 3, 3, 3, 3, 3, 3, 3, 3, 3, 3, 3, 3, 3, 3, 3, 3, 1, 1, 1, 1, 3, 3, 3, 3, 3, 3, 3, 3, 3, 3, 3, 3, 3, 3, 3, 3, 3, 3, 3, 3, 3, 3, 3, 3, 3, 3, 3, 3, 3, 3, 3, 3, 3, 3, 3, 3, 3, 3, 3, 3, 3, 3, 3, 3, 3, 3, 3, 3, 3, 3, 3, 1, 1, 1, 1, 3, 3, 3, 3, 3, 3, 3, 3, 3, 3, 3, 3, 3, 3, 3, 3, 1, 1, 1, 1, 3, 3, 3, 3, 3, 3, 3, 3, 3, 3, 3, 3, 3, 3, 3, 3, 1, 1, 1, 1, 3, 3, 3, 3, 3, 3, 3, 3, 3, 3, 3, 3, 3, 3, 3, 3, 1, 1, 1, 1, 1, 1, 1, 1, 1, 1, 1, 3, 3, 3, 3, 3, 3, 3, 3, 3, 3, 3, 3, 3, 3, 3, 3, 3, 3, 3, 3, 3, 3, 3, 3, 3, 3, 3, 3, 3, 1, 1, 1, 1, 3, 3, 3, 3, 3, 3, 3, 3, 3, 3, 3, 3, 3, 3, 3, 3, 3, 3, 1, 1, 1, 1, 3, 3, 3, 3, 3, 3, 3, 3, 3, 3, 3, 3, 3, 3, 3, 3, 3, 3, 1, 1, 1, 1, 3, 3, 3, 3, 3, 3, 3, 3, 3, 3, 3, 3, 3, 3, 3, 3, 3, 3, 3, 3, 3, 3, 3, 3, 3, 3, 3, 3, 3, 3, 3, 3, 3, 3, 3, 1, 1, 1, 1, 3, 3, 3, 3, 3, 3, 3, 3, 3, 3, 3, 3, 3, 3, 3, 3, 3, 3, 3, 3, 3, 3, 3, 3, 3, 3, 3, 3, 3, 3, 3, 3, 3, 3, 3, 3, 3, 3, 3, 3, 3, 3, 3, 3, 3, 3, 3, 3, 3, 3, 3, 3, 3, 3, 3, 3, 3, 3, 3, 3, 3, 3, 3, 3, 3, 3, 3, 3, 3, 3, 3, 3, 3, 3, 3, 3, 3, 3, 3, 3, 3, 3, 3, 3, 3, 3, 0, 0, 0, 0, 0, 0, 0, 0, 3, 3, 3, 3, 3, 3, 3, 3, 3, 3, 3, 3, 3, 3, 3, 3, 3, 3, 3, 3, 3, 3, 3, 3, 3, 3, 3, 3, 3, 3, 3, 3, 3, 3, 3, 3, 3, 3, 3, 3, 3, 3, 3, 3, 3, 3, 3, 3, 3, 3, 3, 3, 3, 3, 3, 3, 3, 3, 3, 3, 3, 3, 3, 3, 3, 0, 0, 0, 0, 0, 0, 0, 0, 0, 3, 3, 3, 3, 3, 3, 3, 3, 3, 3, 3, 3, 3, 3, 3, 3, 3, 3, 3, 1, 1, 1, 1, 3, 3, 3, 3, 3, 3, 3, 3, 3, 3, 3, 3, 3, 3, 3, 3, 3, 3, 3, 3, 3, 3, 3, 3, 3, 3, 3, 3, 3, 3, 0, 0, 0, 0, 0, 0, 0, 3, 3, 3, 3, 3, 3, 3, 3, 3, 3, 3, 3, 3, 3, 3, 3, 3, 3, 1, 1, 1, 1, 0, 0, 0, 0, 0, 0, 0, 0, 0, 0, 0, 0, 0, 0, 0, 0, 0, 0, 0, 3, 3, 3, 3, 3, 3, 3, 3, 3, 3, 3, 0, 0, 0, 0, 0, 0, 0, 3, 3, 3, 3, 3, 3, 3, 3, 3, 3, 3, 3, 3, 3, 3, 3, 3, 3, 3, 3, 3, 3, 3, 3, 3, 3, 0, 0, 0, 0, 0, 0, 0, 0, 0, 3, 3, 3, 3, 3, 3, 3, 3, 3, 3, 3, 3, 3, 3, 3, 3, 3, 3, 3, 3, 3, 3, 3, 3, 3, 3, 3, 3, 3, 3, 3, 1, 1, 1, 1, 3, 3, 3, 3, 3, 3, 3, 3, 3, 3, 3, 3, 3, 3, 3, 3, 3, 3, 1, 1, 1, 1, 3, 3, 3, 3, 3, 3, 3, 3, 3, 3, 3, 3, 3, 3, 3, 3, 1, 1, 1, 1, 3, 3, 3, 3, 3, 3, 3, 3, 3, 3, 3, 3, 3, 3, 3, 3, 3, 3, 3, 3, 1, 1, 1, 1, 3, 3, 3, 3, 3, 3, 3, 3, 3, 1, 1, 1, 1, 1, 1, 1, 1, 1, 1, 1, 3, 3, 3, 3, 3, 3, 3, 3, 3, 3, 3, 3, 3, 3, 3, 3, 3, 3, 3, 3, 3, 3, 3, 3, 3, 3, 3, 3, 3, 3, 0, 0, 0, 0, 0, 0, 0, 0, 3, 3, 3, 3, 3, 3, 3, 3, 3, 3, 3, 3, 3, 3, 3, 3, 3, 3, 3, 3, 1, 1, 1, 1, 3, 3, 3, 3, 3, 3, 3, 3, 3, 3, 3, 3, 3, 3, 3, 1, 1, 1, 1, 3, 3, 3, 3, 3, 3, 3, 3, 3, 3, 3, 3, 3, 3, 3, 1, 1, 1, 1, 3, 3, 3, 3, 3, 3, 3, 3, 3, 3, 3, 3, 3, 3, 3, 1, 1, 1, 1, 3, 3, 3, 3, 3, 3, 3, 3, 3, 3, 3, 3, 3, 3, 3, 3, 3, 3, 3, 1, 1, 1, 1, 3, 3, 3, 3, 3, 3, 3, 3, 3, 0, 0, 0, 0, 0, 0, 0, 1, 1, 1, 1, 3, 3, 3, 3, 3, 3, 3, 3, 3, 3, 3, 3, 3, 3, 3, 3, 3, 3, 3, 3, 3, 3, 3, 3, 3, 3, 3, 3, 3, 3, 3, 3, 3, 3, 3, 3, 3, 3, 3, 3, 3, 1, 1, 1, 1, 3, 3, 3, 3, 3, 3, 3, 3, 3, 3, 3, 3, 3, 3, 3, 3, 3, 3, 1, 1, 1, 1, 3, 3, 3, 3, 3, 3, 3, 3, 0, 0, 0, 0, 0, 0, 0, 1, 1, 1, 1, 3, 3, 3, 3, 3, 3, 3, 3, 3, 3, 3, 3, 3, 3, 3, 3, 3, 3, 3, 3, 3, 3, 3, 3, 3, 3, 3, 3, 3, 3, 3, 3, 3, 3, 3, 3, 3, 3, 3, 3, 3, 3, 3, 3, 3, 3, 3, 3, 3, 3, 3, 3, 3, 3, 3, 3, 3, 3, 3, 3, 3, 3, 3, 3, 3, 3, 3, 3, 3, 3, 3, 3, 3, 3, 3, 3, 3, 3, 3, 3, 3, 3, 3, 3, 0, 0, 0, 0, 3, 3, 3, 3, 3, 3, 3, 0, 0, 0, 0, 0, 0, 0, 0, 0, 0, 0, 0, 3, 3, 3, 3, 3, 3, 3, 0, 0, 0, 0, 0, 0, 0, 0, 3, 3, 3, 3, 3, 3, 3, 3, 3, 3, 3, 3, 3, 3, 3, 3, 3, 3, 3, 3, 3, 3, 1, 1, 1, 1, 3, 3, 3, 3, 3, 3, 3, 3, 0, 0, 0, 0, 0, 0, 0, 0, 1, 1, 1, 1, 3, 3, 3, 3, 3, 3, 3, 3, 3, 3, 3, 3, 3, 3, 3, 1, 1, 1, 1, 3, 3, 3, 3, 3, 3, 3, 3, 3, 3, 3, 3, 3, 3, 3, 3, 3, 3, 3, 3, 3, 3, 3, 3, 3, 3, 3, 3, 3, 3, 3, 3, 3, 3, 3, 3, 3, 1, 1, 1, 1, 3, 3, 3, 3, 3, 3, 3, 3, 3, 3, 3, 3, 3, 3, 3, 3, 3, 3, 3, 3, 1, 1, 1, 1, 3, 3, 3, 3, 3, 3, 3, 3, 3, 3, 3, 3, 3, 3, 3, 3, 3, 3, 3, 3, 3, 3, 0, 0, 0, 0, 0, 0, 0, 0, 3, 3, 3, 3, 3, 3, 3, 3, 3, 1, 1, 1, 1, 3, 3, 3, 3, 3, 3, 3, 3, 3, 3, 3, 3, 3, 3, 1, 1, 1, 1, 3, 3, 3, 3, 3, 3, 3, 3, 3, 3, 3, 3, 3, 3, 3, 3, 3, 3, 3, 3, 3, 3, 3, 3, 3, 3, 3, 3, 3, 3, 3, 3, 3, 1, 1, 1, 1, 0, 0, 0, 0, 0, 3, 3, 3, 3, 3, 0, 0, 0, 0, 0, 0, 0, 0, 0, 0, 0, 0, 0, 0, 0, 3, 3, 3, 3, 3, 3, 3, 3, 3, 3, 3, 0, 0, 0, 0, 0, 0, 0, 1, 1, 1, 1, 3, 3, 3, 3, 3, 3, 3, 3, 3, 3, 3, 3, 3, 3, 1, 1, 1, 1, 3, 3, 3, 3, 3, 3, 3, 3, 3, 3, 3, 3, 3, 3, 3, 3, 3, 3, 1, 1, 1, 1, 3, 3, 3, 3, 3, 3, 3, 3, 3, 3, 3, 3, 3, 3, 3, 3, 3, 3, 3, 3, 1, 1, 1, 1, 3, 3, 3, 3, 3, 3, 3, 3, 3, 3, 3, 3, 3, 3, 3, 3, 3, 3, 1, 1, 1, 1, 3, 3, 3, 3, 3, 3, 3, 3, 3, 3, 3, 3, 3, 3, 3, 3, 3, 1, 1, 1, 1, 3, 3, 3, 3, 3, 3, 3, 3, 3, 3, 3, 3, 3, 3, 1, 1, 1, 1, 3, 3, 3, 3, 3, 3, 3, 3, 3, 3, 3, 3, 3, 3, 0, 0, 0, 0, 0, 0, 0, 0, 3, 3, 3, 3, 3, 3, 3, 1, 1, 1, 1, 0, 0, 0, 0, 0, 0, 0, 3, 3, 3, 3, 3, 3, 3, 1, 1, 1, 1, 3, 3, 3, 3, 3, 3, 3, 3, 0, 0, 0, 0, 0, 0, 0, 0, 1, 1, 1, 1, 3, 3, 3, 3, 3, 3, 3, 3, 3, 3, 3, 3, 3, 3, 3, 3, 1, 1, 1, 1, 3, 3, 3, 3, 3, 3, 3, 3, 3, 3, 3, 3, 1, 1, 1, 1, 3, 3, 3, 3, 3, 3, 3, 3, 3, 3, 3, 3, 3, 3, 3, 3, 3, 3, 3, 3, 3, 3, 3, 3, 3, 3, 3, 3, 3, 3, 3, 3, 3, 3, 3, 3, 3, 3, 3, 3, 3, 3, 3, 3, 0, 0, 0, 0, 0, 3, 3, 3, 3, 3, 3, 3, 3, 3, 3, 3, 0, 0, 0, 0, 0, 0, 0, 0, 0, 0, 0, 0, 0, 0, 0, 0, 0, 0, 3, 3, 3, 3, 3, 3, 3, 0, 0, 0, 0, 0, 0, 0, 0, 0, 0, 0, 0, 0, 0, 0, 0, 0, 0, 0, 0, 0, 3, 3, 3, 3, 3, 3, 3, 3, 3, 0, 0, 0, 0, 0, 0, 0, 0, 1, 1, 1, 1, 1, 1, 3, 3, 3, 3, 3, 3, 3, 3, 3, 0, 0, 0, 0, 0, 0, 0, 3, 3, 3, 3, 3, 3, 3, 3, 3, 3, 3, 3, 3, 3, 3, 3, 3, 3, 3, 3, 3, 3, 3, 3, 3, 3, 3, 3, 3, 3, 3, 3, 3, 3, 3, 3, 1, 1, 1, 1, 3, 3, 3, 3, 3, 3, 3, 3, 3, 3, 3, 3, 3, 3, 3, 3, 3, 3, 3, 3, 3, 3, 3, 3, 3, 0, 0, 0, 0, 0, 0, 0, 0, 0, 1, 1, 1, 1, 3, 3, 3, 3, 3, 3, 3, 3, 3, 3, 3, 3, 3, 3, 3, 3, 3, 1, 1, 1, 1, 3, 3, 3, 3, 3, 3, 3, 3, 3, 3, 3, 3, 3, 3, 3, 3, 3, 3, 1, 1, 1, 1, 0, 0, 0, 0, 0, 0, 0, 3, 3, 3, 3, 3, 3, 3, 3, 3, 1, 1, 1, 1, 3, 3, 3, 3, 3, 3, 3, 3, 0, 0, 0, 0, 0, 0, 0, 0, 0, 3, 3, 3, 3, 3, 3, 3, 3, 3, 3, 3, 3, 3, 3, 3, 3, 3, 3, 3, 3, 3, 3, 3, 3, 3, 3, 3, 3, 3, 3, 3, 3, 3, 3, 3, 3, 3, 3, 3, 3, 3, 3, 3, 3, 3, 3, 3, 3, 3, 3, 3, 3, 3, 3, 3, 3, 3, 3, 3, 3, 3, 3, 3, 3, 3, 3, 3, 3, 3, 3, 3, 3, 3, 3, 3, 3, 3, 3, 3, 3, 3, 3, 3, 3, 3, 3, 3, 1, 1, 1, 1, 3, 3, 3, 3, 3, 3, 3, 3, 3, 3, 3, 3, 3, 3, 1, 1, 1, 1, 3, 3, 3, 3, 3, 3, 3, 3, 3, 3, 3, 3, 3, 3, 3, 3, 1, 1, 1, 1, 3, 3, 3, 3, 3, 3, 3, 3, 3, 3, 3, 3, 3, 3, 3, 1, 1, 1, 1, 3, 3, 3, 3, 3, 3, 3, 3, 3, 3, 3, 3, 3, 3, 3, 1, 1, 1, 1, 3, 3, 3, 3, 3, 3, 3, 3, 3, 3, 3, 3, 3, 3, 3, 3, 3, 3, 3, 3, 3, 3, 3, 3, 3, 3, 3, 3, 3, 3, 3, 3, 1, 1, 1, 1, 3, 3, 3, 3, 3, 3, 3, 3, 3, 3, 3, 3, 3, 3, 3, 3, 3, 3, 3, 3, 3, 3, 3, 3, 3, 3, 3, 3, 3, 3, 3, 3, 3, 3, 3, 3, 3, 3, 3, 3, 1, 1, 1, 1, 3, 3, 3, 3, 3, 3, 3, 3, 3, 3, 3, 3, 3, 3, 3, 3, 3, 3, 3, 3, 3, 3, 0, 0, 0, 0, 0, 0, 0, 0, 0, 3, 3, 3, 3, 3, 1, 1, 1, 1, 0, 0, 0, 0, 0, 3, 3, 3, 3, 3, 3, 3, 1, 1, 1, 1, 0, 0, 0, 0, 0, 0, 0, 3, 3, 3, 3, 3, 3, 3, 3, 3, 1, 1, 1, 1, 3, 3, 3, 3, 3, 3, 3, 3, 0, 0, 0, 0, 0, 0, 0, 1, 1, 1, 1, 3, 3, 3, 3, 3, 3, 3, 3, 3, 3, 3, 3, 3, 3, 3, 1, 1, 1, 1, 3, 3, 3, 3, 3, 3, 3, 3, 3, 3, 3, 3, 1, 1, 1, 1, 3, 3, 3, 3, 3, 3, 3, 3, 3, 3, 3, 3, 3, 3, 3, 3, 3, 3, 3, 3, 3, 3, 3, 3, 3, 3, 3, 3, 3, 3, 3, 3, 3, 3, 3, 3, 3, 3, 3, 3, 3, 3, 3, 3, 3, 3, 3, 3, 3, 3, 3, 3, 3, 1, 1, 1, 1, 3, 3, 3, 3, 3, 3, 3, 3, 3, 3, 3, 3, 3, 3, 3, 3, 3, 3, 3, 3, 3, 3, 3, 3, 3, 3, 3, 3, 3, 3, 3, 3, 3, 3, 3, 3, 3, 3, 3, 3, 3, 3, 3, 3, 3, 3, 3, 3, 3, 3, 3, 3, 3, 3, 3, 3, 3, 3, 3, 3, 3, 3, 3, 3, 3, 3, 3, 3, 3, 3, 3, 3, 3, 3, 3, 3, 3, 3, 3, 3, 3, 3, 3, 3, 3, 3, 3, 3, 3, 3, 1, 1, 1, 1, 3, 3, 3, 3, 3, 3, 3, 3, 3, 3, 3, 3, 3, 3, 3, 3, 3, 1, 1, 1, 1, 3, 3, 3, 3, 3, 3, 3, 3, 3, 3, 3, 3, 3, 3, 3, 3, 3, 1, 1, 1, 1, 3, 3, 3, 3, 3, 3, 3, 3, 3, 3, 3, 3, 3, 1, 1, 1, 1, 3, 3, 3, 3, 3, 3, 3, 3, 3, 3, 3, 3, 3, 3, 3, 3, 3, 3, 3, 3, 3, 3, 3, 3, 3, 3, 3, 3, 3, 3, 3, 1, 1, 1, 1, 3, 3, 3, 3, 3, 3, 3, 3, 3, 3, 3, 3, 3, 3, 3, 1, 1, 1, 1, 0, 0, 0, 0, 0, 0, 0, 3, 3, 3, 3, 3, 3, 3, 1, 1, 1, 1, 3, 3, 3, 3, 3, 3, 3, 3, 3, 0, 0, 0, 0, 0, 0, 0, 0, 1, 1, 1, 1, 3, 3, 3, 3, 3, 3, 3, 3, 3, 3, 3, 3, 3, 3, 3, 3, 3, 3, 3, 3, 3, 3, 3, 3, 3, 3, 3, 3, 3, 3, 3, 3, 3, 3, 3, 3, 3, 3, 3, 3, 3, 3, 3, 3, 3, 3, 3, 3, 3, 3, 3, 3, 3, 3, 3, 3, 3, 3, 3, 3, 3, 3, 3, 3, 3, 3, 3, 3, 3, 3, 3, 3, 3, 3, 1, 1, 1, 1, 2, 2, 2, 2, 3, 3, 3, 3, 3, 3, 3, 3, 0, 0, 0, 0, 0, 0, 0, 0, 0, 0, 0, 0, 0, 0, 0, 0, 0, 0, 3, 3, 3, 3, 3, 3, 3, 3, 3, 1, 1, 1, 1, 3, 3, 3, 3, 3, 3, 3, 3, 3, 3, 3, 3, 3, 3, 3, 3, 3, 3, 3, 3, 1, 1, 1, 1, 3, 3, 3, 3, 3, 3, 3, 3, 3, 3, 3, 3, 3, 3, 1, 1, 1, 1, 3, 3, 3, 3, 3, 3, 3, 3, 3, 3, 3, 3, 3, 3, 3, 1, 1, 1, 1, 3, 3, 3, 3, 3, 3, 3, 3, 3, 3, 3, 3, 3, 3, 3, 1, 1, 1, 1, 0, 0, 0, 0, 0, 0, 0, 0, 3, 3, 3, 3, 3, 3, 3, 1, 1, 1, 1, 3, 3, 3, 3, 3, 3, 3, 3, 0, 0, 0, 0, 0, 0, 0, 0, 3, 3, 3, 3, 1, 1, 1, 1, 1, 1, 1, 0, 0, 0, 0, 0, 0, 0, 0, 1, 1, 1, 1, 3, 3, 3, 3, 3, 3, 3, 0, 0, 0, 0, 0, 0, 0, 1, 1, 1, 1, 3, 3, 3, 3, 3, 3, 3, 3, 3, 3, 3, 1, 1, 1, 1, 3, 3, 3, 3, 3, 3, 3, 1, 1, 1, 1, 1, 1, 1, 1, 1, 1, 1, 3, 3, 3, 3, 3, 3, 3, 0, 0, 0, 0, 0, 0, 0, 1, 1, 1, 1, 1, 1, 1, 1, 1, 1, 1, 1, 1, 3, 3, 3, 3, 3, 3, 3, 3, 3, 1, 1, 1, 1, 0, 0, 0, 0, 0, 0, 0, 0, 3, 3, 3, 3, 3, 3, 3, 3, 3, 1, 1, 1, 1, 3, 3, 3, 3, 3, 3, 3, 3, 3, 3, 3, 3, 1, 1, 1, 1, 0, 0, 0, 0, 0, 0, 0, 0, 3, 3, 3, 3, 3, 3, 3, 1, 1, 1, 1, 3, 3, 3, 3, 3, 3, 3, 3, 3, 3, 3, 3, 3, 3, 3, 3, 3, 3, 3, 3, 0, 0, 0, 0, 0, 0, 0, 0, 1, 1, 1, 1, 1, 1, 1, 1, 1, 1, 1, 3, 3, 3, 3, 3, 3, 3, 3, 3, 3, 3, 3, 3, 3, 3, 3, 1, 1, 1, 1, 3, 3, 3, 3, 3, 3, 3, 3, 3, 3, 3, 3, 3, 3, 3, 1, 1, 1, 1, 3, 3, 3, 3, 3, 3, 3, 3, 3, 3, 3, 3, 3, 3, 3, 3, 3, 3, 3, 3, 3, 3, 3, 3, 3, 3, 3, 3, 3, 3, 3, 3, 3, 3, 3, 3, 3, 3, 3, 3, 3, 3, 3, 3, 3, 3, 3, 3, 3, 3, 3, 0, 0, 0, 0, 0, 0, 0, 0, 0, 3, 3, 3, 3, 3, 3, 3, 3, 3, 3, 3, 3, 3, 3, 3, 3, 3, 3, 3, 3, 3, 3, 3, 3, 3, 3, 1, 1, 1, 1, 3, 3, 3, 3, 3, 3, 3, 3, 3, 3, 3, 3, 3, 3, 3, 1, 1, 1, 1, 3, 3, 3, 3, 3, 3, 3, 3, 3, 3, 3, 3, 3, 3, 3, 3, 3, 3, 3, 1, 1, 1, 1, 0, 0, 0, 0, 0, 0, 0, 0, 3, 3, 3, 3, 3, 3, 3, 3, 3, 3, 3, 3, 3, 3, 3, 3, 3, 3, 3, 3, 3, 3, 3, 3, 3, 3, 1, 1, 1, 1, 0, 0, 0, 0, 0, 0, 0, 0, 3, 3, 3, 3, 3, 3, 3, 1, 1, 1, 1, 3, 3, 3, 3, 3, 3, 3, 3, 3, 3, 3, 3, 3, 3, 3, 1, 1, 1, 1, 3, 3, 3, 3, 3, 3, 3, 3, 3, 3, 3, 3, 3, 3, 3, 3, 3, 3, 3, 3, 3, 3, 3, 3, 3, 3, 3, 3, 3, 3, 3, 3, 3, 3, 3, 1, 1, 1, 1, 3, 3, 3, 3, 3, 3, 3, 3, 3, 3, 3, 3, 3, 3, 3, 1, 1, 1, 1, 3, 3, 3, 3, 3, 3, 3, 3, 3, 3, 3, 3, 3, 3, 3, 1, 1, 1, 1, 3, 3, 3, 3, 3, 3, 3, 3, 3, 3, 3, 3, 3, 3, 3, 3, 3, 3, 3, 3, 3, 3, 3, 3, 3, 3, 3, 3, 3, 3, 3, 3, 3, 3, 3, 3, 3, 3, 3, 3, 3, 3, 3, 3, 3, 3, 3, 3, 3, 3, 3, 0, 0, 0, 0, 0, 0, 0, 0, 0, 0, 0, 0, 0, 0, 0, 1, 1, 1, 1, 3, 3, 3, 3, 3, 3, 3, 3, 3, 3, 3, 3, 3, 3, 3, 3, 3, 3, 3, 3, 3, 3, 3, 3, 3, 3, 3, 3, 3, 3, 3, 3, 3, 3, 1, 1, 1, 1, 3, 3, 3, 3, 3, 3, 3, 3, 3, 3, 3, 3, 3, 3, 3, 3, 3, 3, 1, 1, 1, 1, 3, 3, 3, 3, 3, 3, 3, 3, 3, 3, 3, 3, 3, 3, 3, 1, 1, 1, 1, 3, 3, 3, 3, 3, 3, 3, 0, 0, 0, 0, 0, 0, 0, 3, 3, 3, 3, 3, 3, 3, 3, 3, 3, 3, 3, 3, 3, 3, 3, 3, 3, 3, 3, 0, 0, 0, 0, 0, 0, 0, 3, 3, 3, 3, 3, 3, 3, 3, 3, 3, 3, 0, 0, 0, 0, 0, 0, 0, 0, 0, 0, 0, 0, 0, 0, 0, 0, 0, 0, 0, 3, 3, 3, 3, 3, 3, 3, 3, 3, 3, 3, 3, 3, 3, 3, 3, 3, 3, 3, 3, 3, 3, 3, 3, 3, 0, 0, 0, 0, 0, 0, 0, 1, 1, 1, 1, 1, 1, 1, 1, 1, 1, 1, 3, 3, 3, 3, 3, 3, 3, 3, 3, 3, 3, 3, 3, 3, 1, 1, 1, 1, 3, 3, 3, 3, 3, 3, 3, 3, 3, 3, 3, 3, 3, 3, 3, 3, 3, 3, 1, 1, 1, 1, 0, 0, 0, 0, 0, 0, 0, 1, 1, 1, 1, 1, 1, 1, 1, 1, 1, 1, 1, 1, 3, 3, 3, 3, 3, 3, 3, 3, 3, 3, 3, 3, 3, 3, 3, 3, 3, 3, 3, 3, 3, 3, 3, 3, 3, 3, 3, 3, 3, 3, 3, 0, 0, 0, 0, 0, 0, 0, 0, 0, 0, 0, 0, 0, 3, 3, 3, 3, 3, 3, 3, 3, 3, 3, 3, 3, 3, 3, 3, 3, 3, 3, 3, 3, 3, 3, 3, 3, 3, 3, 3, 3, 3, 3, 3, 3, 3, 3, 3, 3, 3, 3, 3, 3, 3, 3, 3, 1, 1, 1, 1, 3, 3, 3, 3, 3, 3, 3, 3, 3, 3, 3, 3, 3, 3, 3, 1, 1, 1, 1, 3, 3, 3, 3, 3, 3, 3, 3, 3, 3, 3, 3, 3, 3, 3, 3, 3, 3, 3, 3, 1, 1, 1, 1, 0, 0, 0, 0, 0, 3, 3, 3, 3, 3, 3, 3, 3, 1, 1, 1, 1, 3, 3, 3, 3, 3, 3, 3, 3, 3, 3, 3, 3, 3, 3, 3, 3, 1, 1, 1, 1, 3, 3, 3, 3, 3, 3, 3, 3, 0, 0, 0, 0, 0, 0, 0, 0, 0, 0, 0, 3, 3, 3, 3, 3, 3, 3, 3, 3, 3, 3, 3, 3, 3, 3, 3, 3, 3, 3, 3, 3, 3, 3, 3, 3, 3, 3, 3, 3, 3, 3, 3, 3, 3, 3, 3, 3, 3, 3, 3, 1, 1, 1, 1, 3, 3, 3, 3, 3, 3, 3, 3, 3, 3, 3, 3, 3, 3, 1, 1, 1, 1, 0, 0, 0, 0, 0, 0, 0, 0, 0, 0, 0, 0, 0, 0, 0, 0, 0, 0, 3, 3, 3, 3, 0, 0, 0, 0, 0, 0, 0, 0, 3, 3, 3, 3, 3, 3, 3, 3, 3, 3, 3, 3, 3, 3, 3, 3, 3, 3, 3, 3, 3, 3, 3, 3, 3, 3, 3, 1, 1, 1, 1, 0, 0, 0, 0, 0, 0, 0, 3, 3, 3, 3, 3, 3, 3, 3, 3, 1, 1, 1, 1, 3, 3, 3, 3, 3, 3, 3, 3, 0, 0, 0, 0, 0, 0, 0, 1, 1, 1, 1, 3, 3, 3, 3, 3, 3, 3, 0, 0, 0, 0, 0, 0, 0, 0, 1, 1, 1, 1, 3, 3, 3, 3, 3, 3, 3, 3, 3, 3, 3, 3, 3, 3, 3, 3, 1, 1, 1, 1, 3, 3, 3, 3, 3, 3, 3, 0, 0, 0, 0, 0, 0, 0, 0, 1, 1, 1, 1, 3, 3, 3, 3, 3, 3, 3, 3, 3, 3, 3, 3, 3, 3, 3, 3, 3, 3, 3, 3, 3, 3, 3, 3, 3, 3, 3, 3, 3, 3, 3, 3, 3, 3, 3, 3, 3, 0, 0, 0, 0, 0, 0, 0, 0, 3, 3, 3, 3, 3, 3, 3, 3, 3, 3, 3, 3, 3, 3, 3, 3, 3, 3, 3, 3, 1, 1, 1, 1, 3, 3, 3, 3, 3, 3, 3, 3, 3, 3, 3, 3, 3, 3, 3, 3, 3, 3, 3, 3, 3, 3, 3, 3, 3, 3, 3, 3, 3, 3, 3, 3, 1, 1, 1, 1, 0, 0, 0, 0, 0, 0, 0, 0, 3, 3, 3, 3, 3, 3, 3, 1, 1, 1, 1, 3, 3, 3, 3, 3, 3, 3, 0, 0, 0, 0, 0, 0, 0, 0, 1, 1, 1, 1, 3, 3, 3, 3, 3, 3, 3, 3, 3, 3, 3, 3, 3, 3, 3, 3, 1, 1, 1, 1, 3, 3, 3, 3, 3, 3, 3, 3, 0, 0, 0, 0, 0, 0, 0, 0, 0, 0, 1, 1, 1, 1, 3, 3, 3, 3, 3, 3, 3, 3, 3, 3, 3, 3, 3, 3, 3, 3, 3, 3, 3, 3, 3, 3, 3, 3, 3, 3, 3, 3, 3, 3, 3, 3, 3, 3, 3, 3, 3, 3, 3, 3, 3, 0, 0, 0, 0, 0, 0, 0, 0, 3, 3, 3, 3, 3, 3, 3, 1, 1, 1, 1, 3, 3, 3, 3, 3, 3, 3, 3, 3, 3, 3, 3, 3, 3, 1, 1, 1, 1, 0, 0, 0, 0, 0, 0, 0, 0, 3, 3, 3, 3, 3, 3, 3, 3, 3, 3, 3, 3, 3, 3, 3, 3, 3, 3, 3, 3, 3, 3, 3, 3, 3, 3, 3, 3, 3, 3, 3, 3, 3, 3, 3, 3, 3, 3, 3, 3, 1, 1, 1, 1, 3, 3, 3, 3, 3, 3, 3, 3, 3, 3, 3, 3, 3, 3, 3, 3, 3, 3, 3, 3, 3, 3, 3, 3, 3, 3, 3, 3, 3, 3, 0, 0, 0, 0, 0, 0, 0, 1, 1, 1, 1, 3, 3, 3, 3, 3, 3, 3, 3, 3, 3, 3, 3, 3, 3, 3, 1, 1, 1, 1, 3, 3, 3, 3, 3, 3, 3, 3, 3, 3, 3, 3, 1, 1, 1, 1, 0, 0, 0, 0, 0, 0, 0, 0, 0, 0, 0, 0, 0, 0, 0, 1, 1, 1, 1, 3, 3, 3, 3, 3, 3, 3, 3, 3, 3, 3, 3, 3, 3, 1, 1, 1, 1, 0, 0, 0, 0, 0, 0, 3, 3, 3, 3, 3, 3, 3, 1, 1, 1, 1, 3, 3, 3, 3, 3, 3, 3, 3, 3, 3, 3, 3, 3, 3, 3, 3, 3, 3, 3, 3, 3, 3, 3, 3, 3, 3, 3, 3, 0, 0, 0, 0, 0, 1, 1, 1, 1, 3, 3, 3, 3, 3, 3, 3, 3, 3, 3, 3, 3, 3, 3, 3, 3, 3, 3, 3, 3, 3, 3, 3, 3, 3, 3, 0, 0, 0, 0, 0, 0, 0, 1, 1, 1, 1, 0, 0, 0, 0, 0, 0, 0, 3, 3, 3, 3, 3, 3, 3, 3, 3, 1, 1, 1, 1, 3, 3, 3, 3, 3, 3, 3, 3, 3, 1, 1, 1, 1, 1, 1, 1, 1, 1, 1, 1, 1, 0, 0, 0, 0, 0, 0, 0, 0, 1, 1, 1, 1, 1, 1, 1, 1, 1, 1, 1, 1, 3, 3, 3, 3, 3, 3, 3, 3, 3, 3, 3, 3, 3, 3, 1, 1, 1, 1, 3, 3, 3, 3, 3, 3, 3, 0, 0, 0, 0, 0, 0, 0, 3, 3, 3, 3, 3, 3, 3, 3, 3, 3, 3, 3, 3, 3, 3, 3, 3, 3, 3, 1, 1, 1, 1, 3, 3, 3, 3, 3, 3, 3, 3, 3, 3, 3, 3, 3, 3, 3, 1, 1, 1, 1, 3, 3, 3, 3, 3, 3, 3, 3, 3, 3, 3, 1, 1, 1, 1, 1, 1, 3, 3, 3, 3, 0, 0, 0, 0, 0, 0, 0, 3, 3, 3, 3, 3, 3, 3, 3, 3, 3, 3, 3, 3, 3, 3, 3, 3, 3, 3, 1, 1, 1, 1, 1, 1, 1, 1, 1, 1, 1, 1, 1, 3, 3, 3, 3, 3, 3, 3, 3, 3, 3, 3, 3, 3, 3, 3, 3, 3, 3, 3, 3, 3, 3, 3, 3, 3, 3, 3, 3, 3, 3, 3, 3, 3, 3, 3, 3, 3, 3, 3, 3, 3, 3, 3, 3, 3, 3, 3, 3, 3, 3, 3, 3, 3, 3, 3, 3, 3, 3, 3, 3, 3, 0, 0, 0, 0, 0, 0, 0, 0, 3, 3, 3, 3, 3, 3, 3, 3, 3, 3, 3, 3, 3, 3, 3, 3, 3, 3, 0, 0, 0, 0, 0, 0, 0, 3, 3, 3, 3, 3, 3, 3, 3, 3, 3, 3, 3, 3, 3, 3, 3, 3, 3, 3, 3, 3, 3, 1, 1, 1, 1, 3, 3, 3, 3, 3, 3, 3, 3, 3, 3, 3, 3, 3, 3, 3, 3, 3, 3, 3, 3, 3, 3, 3, 3, 3, 3, 3, 3, 0, 0, 0, 0, 0, 0, 0, 1, 1, 1, 1, 0, 0, 0, 0, 0, 0, 0, 0, 3, 3, 3, 3, 3, 3, 3, 3, 3, 3, 3, 0, 0, 0, 0, 0, 0, 0, 3, 3, 3, 3, 3, 3, 3, 0, 0, 0, 0, 3, 3, 3, 3, 3, 3, 3, 3, 3, 3, 3, 3, 3, 3, 3, 3, 3, 3, 3, 3, 3, 3, 3, 3, 3, 3, 3, 3, 3, 3, 0, 0, 0, 0, 0, 0, 0, 0, 3, 3, 3, 3, 3, 3, 3, 3, 3, 3, 3, 3, 3, 3, 3, 3, 3, 3, 3, 3, 3, 3, 3, 3, 3, 3, 3, 3, 3, 3, 3, 3, 3, 3, 3, 3, 3, 3, 3, 3, 3, 3, 3, 3, 3, 3, 3, 3, 3, 3, 3, 3, 3, 3, 3, 3, 3, 3, 3, 3, 3, 0, 0, 0, 0, 0, 0, 0, 0, 0, 3, 3, 3, 3, 3, 3, 3, 3, 3, 3, 3, 3, 3, 3, 3, 3, 3, 3, 3, 3, 3, 3, 3, 3, 3, 3, 1, 1, 1, 1, 3, 3, 3, 3, 3, 3, 3, 3, 3, 3, 3, 3, 3, 3, 3, 3, 3, 3, 3, 0, 0, 0, 0, 0, 0, 0, 3, 3, 3, 3, 3, 3, 3, 3, 3, 3, 3, 3, 3, 3, 3, 3, 3, 3, 3, 3, 3, 3, 3, 3, 3, 3, 3, 3, 3, 3, 0, 0, 0, 0, 0, 0, 0, 0, 0, 0, 0, 0, 3, 3, 3, 3, 3, 3, 3, 3, 3, 3, 3, 3, 3, 3, 3, 3, 3, 3, 3, 3, 3, 3, 3, 3, 3, 3, 3, 3, 3, 3, 3, 3, 3, 3, 3, 3, 3, 3, 3, 3, 3, 3, 3, 3, 3, 3, 3, 3, 3, 3, 3, 3, 3, 3, 3, 3, 3, 3, 3, 3, 3, 3, 3, 3, 3, 3, 3, 3, 3, 3, 3, 3, 3, 3, 3, 3, 3, 3, 3, 3, 3, 3, 3, 3, 3, 3, 3, 3, 3, 3, 3, 3, 3, 3, 3, 3, 3, 3, 0, 0, 0, 0, 0, 0, 0, 3, 3, 3, 3, 3, 3, 3, 3, 3, 3, 3, 3, 3, 3, 3, 3, 3, 3, 3, 3, 3, 3, 3, 3, 3, 3, 3, 3, 3, 3, 0, 0, 0, 0, 0, 0, 0, 1, 1, 1, 1, 3, 3, 3, 3, 3, 3, 3, 3, 3, 3, 3, 3, 3, 3, 3, 3, 3, 3, 3, 3, 0, 0, 0, 0, 0, 0, 0, 0, 3, 3, 3, 3, 3, 3, 3, 3, 3, 3, 3, 3, 3, 3, 3, 3, 3, 3, 3, 3, 3, 3, 3, 3, 3, 3, 1, 1, 1, 1, 0, 0, 0, 0, 0, 0, 0, 0, 0, 3, 3, 3, 3, 3, 3, 3, 1, 1, 1, 1, 3, 3, 3, 3, 3, 3, 3, 3, 0, 0, 0, 0, 0, 0, 0, 0, 3, 3, 3, 3, 3, 3, 3, 3, 3, 3, 3, 3, 3, 3, 3, 3, 3, 3, 1, 1, 1, 1, 3, 3, 3, 3, 3, 3, 3, 3, 3, 3, 3, 3, 3, 3, 3, 3, 3, 1, 1, 1, 1, 0, 0, 0, 0, 0, 0, 0, 3, 3, 3, 3, 3, 3, 3, 3, 1, 1, 1, 1, 3, 3, 3, 3, 3, 3, 3, 3, 3, 3, 3, 3, 3, 3, 3, 3, 3, 3, 3, 3, 3, 3, 3, 3, 3, 3, 3, 3, 3, 3, 3, 3, 3, 3, 3, 3, 3, 3, 1, 1, 1, 1, 3, 3, 3, 3, 3, 3, 3, 3, 3, 3, 3, 3, 3, 3, 3, 3, 1, 1, 1, 1, 0, 0, 0, 0, 0, 0, 0, 0, 0, 0, 0, 0, 0, 0, 0, 0, 1, 1, 1, 1, 0, 0, 0, 0, 0, 0, 0, 3, 3, 3, 3, 3, 3, 3, 1, 1, 1, 1, 3, 3, 3, 3, 3, 3, 3, 0, 0, 0, 0, 0, 0, 3, 3, 3, 3, 0, 0, 0, 0, 0, 0, 0, 3, 3, 3, 3, 3, 3, 3, 3, 3, 3, 3, 3, 3, 3, 3, 3, 3, 3, 3, 3, 3, 3, 3, 3, 3, 3, 3, 3, 3, 3, 3, 3, 3, 3, 3, 3, 3, 3, 3, 3, 3, 3, 3, 3, 1, 1, 1, 1, 3, 3, 3, 3, 3, 3, 3, 3, 3, 3, 3, 3, 3, 3, 3, 1, 1, 1, 1, 3, 3, 3, 3, 3, 3, 3, 3, 3, 3, 3, 3, 3, 3, 3, 3, 3, 3, 1, 1, 1, 1, 0, 0, 0, 0, 0, 0, 0, 0, 3, 3, 3, 3, 3, 3, 3, 3, 3, 1, 1, 1, 1, 3, 3, 3, 3, 3, 3, 3, 3, 3, 3, 3, 3, 3, 3, 3, 1, 1, 1, 1, 0, 0, 0, 0, 0, 0, 0, 0, 3, 3, 3, 3, 3, 3, 0, 0, 0, 0, 0, 0, 3, 3, 3, 3, 3, 3, 3, 3, 3, 3, 3, 3, 3, 3, 3, 3, 3, 3, 3, 3, 3, 3, 3, 3, 3, 3, 3, 3, 3, 3, 3, 3, 3, 3, 3, 3, 3, 3, 3, 3, 3, 3, 3, 3, 3, 3, 1, 1, 1, 1, 3, 3, 3, 3, 3, 3, 3, 3, 3, 3, 3, 3, 3, 3, 3, 3, 1, 1, 1, 1, 0, 0, 0, 0, 0, 0, 0, 0, 0, 3, 3, 3, 3, 3, 3, 3, 1, 1, 1, 1, 3, 3, 3, 3, 3, 3, 3, 3, 3, 3, 3, 3, 3, 3, 3, 1, 1, 1, 1, 3, 3, 3, 3, 3, 3, 3, 3, 3, 3, 3, 3, 3, 3, 3, 3, 3, 3, 3, 3, 3, 3, 3, 0, 0, 0, 0, 0, 0, 0, 0, 3, 3, 3, 3, 3, 3, 3, 3, 3, 3, 3, 3, 3, 3, 3, 3, 3, 3, 3, 3, 3, 3, 3, 3, 3, 3, 3, 3, 3, 3, 3, 3, 0, 0, 0, 0, 0, 0, 0, 0, 0, 0, 0, 0, 0, 3, 3, 3, 3, 3, 3, 3, 3, 3, 3, 3, 3, 0, 0, 0, 0, 0, 0, 0, 1, 1, 1, 1, 0, 0, 0, 0, 0, 0, 0, 0, 3, 3, 3, 3, 3, 3, 3, 1, 1, 1, 1, 3, 3, 3, 3, 3, 3, 3, 3, 3, 3, 3, 3, 3, 3, 3, 3, 3, 3, 3, 0, 0, 0, 0, 0, 0, 0, 3, 3, 3, 3, 3, 3, 3, 3, 3, 3, 3, 3, 3, 3, 3, 3, 3, 3, 3, 3, 3, 3, 3, 3, 3, 3, 3, 3, 3, 3, 3, 3, 3, 3, 3, 3, 3, 3, 3, 3, 3, 3, 3, 3, 3, 3, 3, 3, 3, 0, 0, 0, 0, 0, 0, 0, 0, 3, 3, 3, 3, 3, 3, 3, 3, 3, 3, 3, 3, 3, 3, 3, 3, 3, 3, 3, 3, 3, 3, 3, 3, 3, 3, 3, 3, 3, 1, 1, 1, 1, 0, 0, 0, 0, 0, 0, 0, 3, 3, 3, 3, 3, 3, 3, 1, 1, 1, 1, 0, 0, 0, 0, 0, 0, 0, 3, 3, 3, 3, 3, 3, 3, 3, 3, 3, 3, 0, 0, 0, 0, 0, 0, 0, 3, 3, 3, 3, 3, 3, 3, 3, 3, 3, 3, 3, 3, 3, 3, 3, 3, 3, 3, 3, 3, 0, 0, 0, 0, 0, 0, 1, 1, 1, 1, 3, 3, 3, 3, 3, 3, 3, 3, 3, 3, 3, 3, 3, 3, 1, 1, 1, 1, 3, 3, 3, 3, 3, 3, 3, 3, 3, 3, 3, 3, 3, 3, 3, 1, 1, 1, 1, 3, 3, 3, 3, 3, 3, 3, 3, 3, 3, 3, 3, 3, 3, 3, 3, 3, 3, 3, 0, 0, 0, 0, 0, 0, 0, 0, 0, 0, 0, 0, 0, 0, 0, 0, 1, 1, 1, 1, 3, 3, 3, 3, 3, 3, 3, 0, 0, 0, 0, 0, 0, 0, 3, 3, 3, 3, 3, 3, 3, 3, 3, 3, 3, 3, 3, 3, 3, 3, 0, 0, 0, 0, 0, 0, 0, 0, 0, 0, 3, 3, 3, 3, 3, 3, 3, 1, 1, 1, 1, 0, 0, 0, 0, 0, 0, 0, 0, 0, 3, 3, 3, 3, 3, 3, 3, 1, 1, 1, 1, 3, 3, 3, 3, 3, 3, 3, 3, 3, 3, 3, 3, 3, 3, 1, 1, 1, 1, 3, 3, 3, 3, 3, 3, 3, 3, 3, 3, 3, 3, 3, 3, 3, 3, 3, 3, 1, 1, 1, 1, 3, 3, 3, 3, 3, 3, 3, 3, 3, 3, 3, 3, 3, 3, 3, 3, 1, 1, 1, 1, 3, 3, 3, 3, 3, 3, 3, 3, 3, 3, 3, 3, 3, 3, 3, 3, 3, 3, 3, 3, 3, 3, 3, 3, 3, 3, 3, 3, 3, 3, 3, 3, 3, 3, 3, 3, 1, 1, 1, 1, 3, 3, 3, 3, 3, 3, 3, 3, 3, 3, 3, 3, 1, 1, 1, 1, 3, 3, 3, 3, 3, 3, 3, 3, 3, 3, 3, 3, 3, 3, 3, 3, 3, 3, 1, 1, 1, 1, 3, 3, 3, 3, 3, 3, 3, 3, 3, 3, 3, 3, 3, 3, 3, 3, 3, 3, 3, 3, 3, 3, 3, 3, 3, 3, 3, 3, 3, 3, 3, 3, 3, 3, 3, 3, 3, 3, 3, 3, 3, 3, 3, 3, 3, 3, 3, 3, 3, 3, 3, 3, 3, 3, 3, 0, 0, 0, 0, 0, 0, 0, 0, 3, 3, 3, 3, 3, 3, 3, 3, 3, 3, 3, 3, 3, 3, 3, 3, 3, 3, 3, 3, 3, 3, 3, 3, 3, 1, 1, 1, 1, 3, 3, 3, 3, 3, 3, 3, 3, 3, 3, 3, 3, 3, 3, 3, 3, 3, 3, 3, 3, 3, 3, 3, 3, 3, 3, 3, 3, 3, 3, 3, 3, 3, 3, 3, 3, 3, 3, 3, 3, 3, 3, 3, 3, 3, 3, 3, 3, 3, 3, 3, 3, 3, 3, 3, 1, 1, 1, 1, 3, 3, 3, 3, 3, 3, 3, 3, 3, 3, 3, 3, 3, 3, 3, 3, 3, 3, 3, 3, 3, 3, 3, 3, 3, 3, 3, 3, 3, 3, 3, 1, 1, 1, 1, 3, 3, 3, 3, 3, 3, 3, 3, 3, 3, 3, 3, 3, 3, 3, 1, 1, 1, 1, 3, 3, 3, 3, 3, 3, 3, 3, 3, 3, 3, 3, 3, 3, 3, 1, 1, 1, 1, 3, 3, 3, 3, 3, 3, 3, 3, 3, 3, 3, 3, 3, 3, 3, 1, 1, 1, 1, 3, 3, 3, 3, 3, 3, 3, 3, 3, 3, 3, 3, 3, 3, 3, 3, 1, 1, 1, 1, 3, 3, 3, 3, 3, 3, 3, 3, 3, 0, 0, 0, 0, 0, 0, 0, 3, 3, 3, 3, 3, 3, 3, 3, 3, 3, 3, 3, 3, 3, 3, 0, 0, 0, 0, 0, 0, 0, 0, 0, 0, 1, 1, 1, 1, 3, 3, 3, 3, 3, 3, 3, 3, 3, 3, 3, 3, 3, 3, 3, 3, 3, 3, 1, 1, 1, 1, 0, 0, 0, 0, 0, 0, 0, 3, 3, 3, 3, 3, 3, 3, 3, 3, 1, 1, 1, 1, 3, 3, 3, 3, 3, 3, 3, 3, 3, 3, 3, 3, 3, 3, 3, 3, 3, 3, 3, 3, 3, 3, 3, 3, 3, 3, 3, 3, 3, 3, 3, 3, 1, 1, 1, 1, 0, 0, 0, 0, 0, 0, 3, 3, 3, 3, 3, 3, 3, 1, 1, 1, 1, 0, 0, 0, 0, 0, 0, 0, 3, 3, 3, 3, 3, 3, 3, 3, 3, 3, 3, 3, 3, 3, 3, 3, 3, 3, 3, 3, 3, 3, 3, 3, 3, 3, 3, 3, 3, 3, 3, 3, 3, 3, 3, 3, 3, 3, 3, 3, 3, 3, 1, 1, 1, 1, 3, 3, 3, 3, 3, 3, 3, 3, 3, 3, 3, 3, 3, 3, 3, 1, 1, 1, 1, 3, 3, 3, 3, 3, 3, 3, 3, 3, 3, 3, 3, 3, 3, 3, 3, 1, 1, 1, 1, 3, 3, 3, 3, 3, 3, 3, 3, 3, 3, 3, 3, 3, 3, 1, 1, 1, 1, 3, 3, 3, 3, 3, 3, 3, 3, 3, 3, 3, 3, 3, 3, 3, 3, 3, 3, 1, 1, 1, 1, 0, 0, 0, 0, 0, 0, 0, 0, 3, 3, 3, 3, 3, 3, 3, 3, 3, 3, 3, 3, 3, 3, 3, 3, 3, 3, 3, 3, 3, 3, 3, 3, 3, 3, 3, 3, 3, 3, 3, 0, 0, 0, 0, 0, 0, 0, 0, 0, 0, 0, 0, 0, 0, 3, 3, 3, 3, 3, 3, 3, 3, 3, 3, 3, 3, 3, 3, 3, 3, 3, 3, 3, 1, 1, 1, 1, 3, 3, 3, 3, 3, 3, 3, 3, 0, 0, 0, 0, 2, 2, 2, 2, 3, 3, 3, 3, 3, 3, 3, 3, 3, 3, 3, 3, 3, 3, 3, 3, 3, 3, 3, 3, 3, 3, 3, 3, 3, 3, 3, 3, 3, 3, 0, 0, 0, 0, 0, 0, 0, 0, 0, 3, 3, 3, 3, 3, 3, 3, 3, 3, 3, 3, 3, 3, 3, 3, 3, 3, 3, 3, 3, 3, 3, 3, 3, 3, 3, 3, 3, 3, 3, 3, 3, 3, 3, 3, 3, 3, 3, 3, 3, 3, 3, 3, 0, 0, 0, 0, 0, 0, 0, 0, 3, 3, 3, 3, 3, 3, 3, 3, 3, 3, 3, 3, 3, 3, 3, 3, 3, 3, 3, 3, 3, 3, 3, 3, 3, 3, 3, 3, 3, 3, 3, 3, 3, 3, 3, 3, 3, 3, 3, 3, 3, 3, 3, 3, 3, 3, 3, 3, 3, 3, 3, 3, 3, 3, 3, 3, 3, 3, 3, 0, 0, 0, 0, 0, 0, 0, 0, 0, 3, 3, 3, 3, 0, 0, 0, 0, 0, 0, 0, 3, 3, 3, 3, 3, 3, 3, 3, 3, 3, 3, 3, 3, 3, 3, 3, 3, 3, 3, 0, 0, 0, 0, 0, 0, 0, 0, 0, 3, 3, 3, 3, 3, 3, 3, 3, 3, 3, 3, 3, 0, 0, 0, 0, 0, 0, 0, 3, 3, 3, 3, 3, 3, 3, 3, 3, 3, 3, 3, 3, 3, 3, 3, 3, 3, 3, 3, 3, 3, 3, 3, 3, 3, 3, 3, 3, 3, 3, 3, 3, 3, 3, 3, 3, 3, 3, 3, 3, 3, 3, 3, 3, 3, 3, 3, 3, 3, 3, 3, 3, 3, 3, 3, 3, 3, 3, 3, 3, 3, 3, 3, 3, 3, 3, 3, 3, 3, 3, 3, 3, 3, 3, 0, 0, 0, 0, 0, 0, 0, 3, 3, 3, 3, 3, 3, 3, 3, 3, 3, 3, 3, 3, 3, 3, 3, 3, 3, 3, 3, 3, 3, 3, 3, 3, 3, 3, 3, 3, 3, 1, 1, 1, 1, 1, 1, 1, 3, 3, 3, 3, 3, 3, 3, 3, 3, 3, 3, 3, 3, 3, 3, 0, 0, 0, 0, 0, 0, 0, 1, 1, 1, 1, 3, 3, 3, 3, 3, 3, 3, 3, 3, 3, 3, 3, 3, 3, 3, 3, 3, 3, 3, 3, 3, 3, 3, 3, 3, 3, 3, 3, 0, 0, 0, 0, 0, 0, 1, 1, 1, 1, 0, 0, 0, 0, 0, 0, 0, 3, 3, 3, 3, 3, 3, 3, 3, 3, 3, 3, 3, 3, 3, 3, 3, 3, 0, 0, 0, 0, 0, 3, 3, 3, 3, 3, 3, 3, 3, 3, 3, 3, 3, 3, 3, 3, 3, 3, 3, 3, 3, 1, 1, 1, 1, 3, 3, 3, 3, 3, 3, 3, 3, 3, 3, 3, 3, 3, 3, 3, 3, 3, 3, 3, 3, 3, 3, 3, 3, 3, 3, 3, 3, 0, 0, 0, 0, 0, 0, 0, 0, 1, 1, 1, 1, 3, 3, 3, 3, 3, 3, 3, 3, 3, 3, 3, 3, 3, 3, 1, 1, 1, 1, 3, 3, 3, 3, 3, 3, 3, 3, 3, 3, 3, 3, 3, 3, 1, 1, 1, 1, 0, 0, 0, 0, 0, 0, 0, 0, 3, 3, 3, 3, 3, 3, 3, 1, 1, 1, 1, 3, 3, 3, 3, 3, 3, 3, 3, 3, 3, 3, 3, 3, 3, 3, 3, 3, 3, 3, 3, 3, 3, 3, 3, 3, 3, 3, 3, 3, 3, 3, 3, 3, 3, 3, 3, 3, 3, 3, 3, 3, 3, 3, 3, 3, 3, 3, 3, 3, 3, 3, 3, 3, 3, 3, 3, 3, 3, 3, 3, 3, 3, 3, 3, 3, 3, 3, 3, 3, 3, 3, 3, 3, 3, 3, 3, 3, 0, 0, 0, 0, 0, 3, 3, 3, 3, 3, 3, 3, 3, 3, 3, 3, 3, 3, 3, 3, 3, 3, 3, 3, 3, 3, 3, 3, 3, 3, 3, 3, 3, 3, 3, 3, 3, 3, 3, 3, 3, 3, 3, 3, 3, 3, 3, 3, 3, 3, 3, 3, 3, 3, 3, 3, 3, 3, 3, 3, 3, 3, 1, 1, 1, 1, 3, 3, 3, 3, 3, 3, 3, 3, 0, 0, 0, 0, 0, 0, 0, 0, 0, 3, 3, 3, 3, 0, 0, 0, 0, 0, 0, 0, 0, 3, 3, 3, 3, 3, 3, 3, 3, 3, 3, 3, 0, 0, 0, 0, 0, 0, 0, 0, 0, 0, 0, 0, 0, 0, 0, 0, 3, 3, 3, 3, 3, 3, 3, 3, 3, 3, 3, 3, 3, 3, 3, 3, 3, 3, 3, 3, 3, 3, 3, 3, 3, 3, 3, 3, 3, 3, 3, 3, 3, 3, 3, 3, 3, 3, 3, 3, 3, 3, 3, 3, 3, 3, 3, 3, 3, 3, 0, 0, 0, 0, 0, 0, 0, 3, 3, 3, 3, 0, 0, 0, 0, 0, 0, 0, 3, 3, 3, 3, 3, 3, 3, 3, 3, 3, 3, 3, 3, 3, 3, 3, 3, 3, 3, 3, 3, 3, 3, 3, 3, 3, 3, 3, 3, 3, 0, 0, 0, 0, 0, 0, 0, 0, 0, 0, 0, 3, 3, 3, 3, 3, 3, 3, 3, 1, 1, 1, 1, 3, 3, 3, 3, 3, 3, 3, 3, 3, 3, 3, 3, 3, 3, 3, 1, 1, 1, 1, 3, 3, 3, 3, 3, 3, 3, 3, 3, 3, 3, 3, 3, 3, 3, 3, 3, 3, 3, 3, 3, 3, 3, 3, 3, 3, 3, 3, 0, 0, 0, 0, 3, 3, 3, 3, 3, 3, 3, 3, 3, 3, 3, 3, 3, 3, 3, 3, 3, 3, 3, 3, 3, 3, 3, 3, 3, 3, 3, 3, 3, 3, 3, 3, 3, 3, 3, 3, 3, 3, 3, 3, 3, 3, 3, 1, 1, 1, 1, 3, 3, 3, 3, 3, 3, 3, 3, 3, 3, 3, 3, 3, 3, 3, 1, 1, 1, 1, 3, 3, 3, 3, 3, 3, 3, 3, 3, 3, 3, 3, 3, 3, 3, 3, 1, 1, 1, 1, 3, 3, 3, 3, 3, 3, 3, 3, 3, 3, 3, 3, 3, 3, 3, 3, 3, 3, 3, 3, 3, 3, 3, 3, 3, 3, 3, 3, 3, 3, 3, 3, 3, 3, 3, 3, 3, 3, 1, 1, 1, 1, 3, 3, 3, 3, 3, 3, 3, 3, 3, 3, 3, 3, 3, 3, 3, 3, 3, 3, 3, 3, 3, 3, 3, 3, 3, 3, 3, 3, 3, 3, 3, 3, 3, 3, 3, 3, 3, 3, 3, 3, 3, 3, 3, 3, 3, 3, 3, 3, 3, 3, 3, 3, 3, 3, 1, 1, 1, 1, 3, 3, 3, 3, 3, 3, 3, 3, 3, 3, 3, 3, 3, 3, 3, 3, 3, 3, 3, 3, 3, 3, 3, 3, 3, 3, 3, 3, 3, 3, 3, 3, 1, 1, 1, 1, 0, 0, 0, 0, 0, 0, 0, 0, 0, 0, 0, 0, 0, 0, 0, 0, 0, 0, 0, 0, 0, 0, 0, 0, 0, 0, 3, 3, 3, 3, 3, 3, 3, 3, 3, 3, 3, 3, 3, 3, 3, 3, 3, 3, 3, 3, 3, 3, 3, 3, 3, 3, 3, 3, 3, 3, 3, 3, 3, 3, 3, 3, 3, 3, 3, 3, 3, 3, 3, 3, 3, 3, 3, 3, 3, 3, 3, 3, 3, 3, 3, 3, 3, 3, 3, 3, 3, 3, 3, 3, 3, 3, 3, 3, 3, 3, 3, 3, 3, 3, 3, 3, 3, 3, 3, 3, 3, 3, 3, 3, 3, 3, 3, 3, 3, 0, 0, 0, 0, 0, 0, 0, 0, 0, 0, 0, 0, 0, 0, 3, 3, 3, 3, 3, 3, 3, 3, 3, 3, 3, 3, 3, 3, 3, 3, 3, 3, 3, 3, 3, 3, 3, 3, 3, 3, 3, 3, 3, 3, 3, 3, 3, 3, 3, 3, 3, 3, 3, 3, 3, 3, 3, 3, 3, 3, 3, 3, 3, 3, 3, 3, 3, 3, 3, 3, 3, 3, 3, 3, 3, 3, 0, 0, 0, 0, 0, 0, 0, 0, 3, 3, 3, 3, 3, 3, 3, 3, 3, 0, 0, 0, 0, 0, 0, 0, 3, 3, 3, 3, 3, 3, 3, 3, 3, 3, 3, 3, 3, 3, 3, 3, 3, 3, 3, 3, 3, 3, 3, 3, 3, 3, 3, 3, 3, 3, 3, 3, 3, 3, 3, 3, 3, 3, 3, 3, 3, 3, 3, 3, 3, 3, 3, 3, 3, 3, 3, 3, 3, 3, 3, 3, 3, 3, 3, 3, 3, 3, 3, 3, 3, 3, 3, 3, 3, 3, 3, 3, 3, 3, 3, 3, 3, 3, 3, 3, 3, 3, 3, 3, 3, 3, 3, 3, 3, 3, 3, 3, 3, 3, 3, 3, 3, 3, 3, 3, 3, 3, 3, 3, 3, 3, 3, 3, 3, 3, 3, 3, 3, 3, 3, 3, 3, 3, 3, 3, 3, 3, 3, 3, 3, 3, 3, 3, 3, 3, 3, 3, 3, 3, 3, 3, 3, 3, 3, 3, 3, 3, 3, 3, 3, 3, 3, 3, 3, 3, 3, 3, 3, 3, 3, 3, 3, 3, 3, 3, 3, 3, 3, 3, 3, 3, 3, 3, 3, 3, 3, 3, 3, 3, 3, 3, 3, 3, 3, 3, 3, 3, 3, 3, 3, 3, 3, 3, 3, 3, 3, 3, 3, 3, 3, 3, 3, 3, 3, 3, 3, 3, 3, 3, 3, 3, 3, 3, 3, 3, 3, 3, 3, 3, 3, 3, 3, 3, 3, 3, 3, 3, 3, 3, 3, 3, 3, 3, 3, 3, 3, 3, 3, 3, 3, 3, 3, 3, 3, 3, 3, 3, 3, 3, 3, 3, 3, 3, 3, 3, 3, 3, 3, 3, 3, 3, 3, 3, 3, 3, 3, 3, 3, 3, 3, 3, 3, 3, 3, 3, 3, 3, 3, 3, 3, 3, 3, 3, 3, 3, 3, 3, 3, 3, 3, 3, 3, 3, 3, 3, 3, 3, 3, 3, 3, 3, 3, 3, 3, 3, 3, 3, 3, 3, 3, 3, 3, 3, 3, 3, 3, 3, 3, 3, 3, 3, 3, 3, 3, 3, 3, 3, 3, 3, 3, 3, 3, 3, 3, 3, 3, 3, 3, 3, 3, 3, 3, 3, 3, 3, 3, 3, 3, 3, 3, 3, 3, 3, 3, 3, 3, 3, 3, 3, 3, 3, 3, 3, 3, 3, 3, 3, 3, 3, 3, 3, 3, 3, 3, 3, 3, 3, 3, 3, 3, 3, 3, 3, 3, 3, 3, 3, 3, 3, 3, 3, 3, 3, 3, 3, 3, 3, 3, 3, 3, 3, 3, 3, 3, 3, 3, 3, 3, 3, 3, 3, 3, 3, 3, 3, 3, 3, 3, 3, 3, 3, 3, 3, 3, 3, 3, 3, 3, 3, 3, 3, 3, 3, 3, 3, 3, 3, 3, 3, 3, 3, 3, 3, 3, 3, 3, 3, 3, 3, 3, 3, 3, 3, 3, 3, 3, 3, 3, 3, 3, 3, 3, 3, 3, 3, 3, 3, 3, 3, 3, 3, 3, 3, 3, 3, 3, 3, 3, 3, 3, 3, 3, 3, 3, 3, 3, 3, 3, 3, 3, 3, 3, 3, 3, 3, 3, 3, 3, 3, 3, 3, 3, 3, 3, 3, 3, 3, 3, 3, 0, 0, 0, 0, 0, 0, 0, 0, 3, 3, 3, 3, 3, 3, 3, 3, 3, 3, 3, 3, 3, 3, 0, 0, 0, 0, 0, 0, 0, 0, 0, 3, 3, 3, 3, 3, 3, 3, 3, 3, 3, 3, 3, 3, 3, 3, 3, 3, 3, 3, 3, 3, 3, 3, 3, 3, 3, 3, 3, 3, 3, 3, 3, 3, 3, 3, 3, 3, 0, 0, 0, 0, 0, 0, 3, 3, 3, 3, 3, 3, 3, 3, 3, 3, 3, 3, 3, 3, 3, 3, 3, 3, 3, 3, 3, 3, 3, 3, 3, 3, 3, 3, 3, 3, 3, 3, 3, 3, 3, 3, 3, 3, 3, 3, 3, 3, 3, 3, 3, 3, 3, 3, 3, 3, 3, 3, 3, 3, 3, 3, 3, 3, 3, 3, 3, 3, 3, 3, 3, 3, 0, 0, 0, 0, 0, 3, 3, 3, 3, 3, 3, 3, 3, 3, 3, 3, 3, 3, 3, 3, 3, 3, 3, 3, 3, 3, 3, 3, 3, 3, 3, 3, 3, 3, 3, 3, 3, 3, 3, 3, 3, 3, 3, 3, 0, 0, 0, 0, 0, 0, 0, 3, 3, 3, 3, 3, 3, 3, 3, 3, 3, 3, 3, 3, 3, 3, 3, 3, 3, 3, 3, 3, 3, 3, 3, 3, 3, 3, 3, 3, 3, 3, 3, 3, 3, 3, 3, 3, 3, 3, 3, 3, 3, 3, 3, 3, 3, 3, 3, 3, 3, 3, 3, 3, 3, 3, 3, 3, 3, 3, 3, 3, 3, 3, 3, 3, 3, 3, 3, 3, 3, 3, 3, 3, 3, 3, 3, 3, 3, 3, 3, 3, 3, 3, 3, 3, 3, 3, 3, 3, 3, 3, 0, 0, 0, 0, 0, 0, 0, 0, 0, 0, 3, 3, 3, 3, 3, 3, 3, 3, 3, 3, 3, 3, 3, 3, 3, 3, 3, 3, 3, 3, 3, 3, 3, 3, 3, 3, 3, 3, 3, 3, 3, 3, 3, 3, 3, 3, 3, 3, 3, 3, 0, 0, 0, 0, 0, 0, 0, 0, 3, 3, 3, 3, 3, 3, 3, 3, 3, 3, 3, 3, 3, 3, 3, 3, 3, 3, 3, 3, 3, 3, 3, 3, 3, 3, 3, 3, 3, 3, 3, 3, 3, 3, 3, 3, 3, 3, 3, 3, 3, 3, 3, 3, 3, 3, 3, 3, 3, 3, 3, 3, 3, 3, 3, 3, 3, 3, 3, 3, 3, 3, 3, 3, 3, 3, 3, 3, 3, 3, 3, 3, 3, 3, 3, 3, 3, 3, 3, 3, 3, 3, 3, 3, 3, 3, 3, 3, 3, 3, 3, 3, 3, 3, 3, 3, 3, 3, 3, 3, 3, 3, 1, 1, 1, 1, 1, 1, 3, 3, 3, 3, 3, 3, 3, 3, 3, 3, 3, 3, 3, 3, 3, 3, 3, 3, 3, 3, 3, 3, 3, 3, 3, 3, 3, 3, 3, 3, 3, 3, 3, 3, 3, 3, 3, 3, 3, 3, 3, 3, 3, 3, 3, 3, 3, 3, 3, 3, 3, 3, 3, 3, 3, 3, 3, 3, 3, 3, 3, 3, 3, 3, 3, 3, 3, 3, 3, 3, 3, 3, 3, 3, 3, 3, 3, 3, 3, 3, 3, 3, 3, 3, 3, 3, 3, 3, 3, 3, 3, 3, 3, 3, 3, 3, 3, 3, 3, 3, 3, 3, 3, 3, 3, 3, 3, 3, 3, 3, 3, 3, 3, 3, 3, 3, 3, 3, 3, 3, 3, 3, 3, 3, 3, 3, 3, 3, 3, 3, 3, 3, 3, 3, 3, 3, 3, 3, 3, 3, 3, 3, 3, 3, 3, 3, 3, 3, 3, 3, 3, 3, 3, 3, 3, 3, 3, 3, 3, 3, 3, 3, 3, 3, 3, 3, 3, 3, 3, 3, 3, 3, 3, 3, 3, 3, 3, 3, 3, 3, 3, 3, 3, 3, 3, 3, 3, 3, 3, 3, 3, 3, 3, 3, 3, 3, 3, 3, 3, 3, 3, 3, 3, 3, 3, 3, 3, 3, 3, 3, 3, 3, 3, 3, 3, 3, 3, 3, 3, 3, 3, 3, 3, 3, 3, 3, 3, 3, 3, 1, 1, 1, 1, 1, 1, 3, 3, 3, 3, 3, 3, 3, 3, 3, 3, 3, 3, 3, 3, 3, 3, 3, 3, 3, 3, 3, 3, 3, 3, 3, 3, 3, 3, 3, 3, 3, 3, 3, 3, 3, 3, 3, 3, 3, 3, 3, 3, 3, 3, 3, 3, 3, 3, 3, 3, 3, 3, 3, 3, 3, 3, 3, 3, 3, 3, 3, 3, 3, 3, 3, 3, 3, 3, 3, 3, 3, 3, 3, 3, 3, 3, 3, 3, 3, 3, 3, 3, 3, 3, 3, 3, 3, 3, 3, 3, 3, 3, 3, 3, 3, 3, 3, 3, 3, 3, 3, 3, 3, 3, 3, 3, 3, 3, 3, 3, 3, 3, 3, 3, 3, 3, 3, 3, 3, 3, 3, 3, 3, 3, 3, 3, 3, 3, 3, 3, 3, 3, 3, 3, 3, 3, 3, 3, 3, 3, 3, 3, 3, 3, 3, 3, 3, 3, 3, 3, 3, 3, 3, 3, 3, 3, 3, 3, 3, 3, 3, 3, 3, 3, 3, 3, 3, 3, 3, 3, 3, 3, 3, 3, 3, 3, 3, 3, 3, 3, 3, 3, 3, 3, 3, 3, 3, 3, 3, 3, 3, 3, 3, 3, 3, 3, 3, 3, 3, 3, 3, 3, 3, 3, 3, 3, 3, 3, 3, 3, 3, 3, 3, 3, 3, 3, 3, 3, 3, 3, 3, 3, 3, 3, 3, 3, 3, 3, 3, 3, 3, 3, 3, 3, 3, 3, 3, 3, 3, 3, 3, 3, 3, 3, 3, 3, 3, 3, 3, 3, 3, 3, 3, 3, 3, 3, 3, 3, 3, 3, 3, 3, 3, 3, 3, 3, 3, 3, 3, 3, 3, 3, 3, 3, 3, 3, 3, 3, 3, 3, 3, 3, 3, 3, 3, 3, 3, 3, 3, 3, 3, 3, 3, 3, 3, 3, 3, 3, 3, 3, 3, 3, 3, 3, 3, 3, 3, 3, 3, 3, 3, 3, 3, 3, 3, 3, 3, 3, 3, 3, 3, 3, 3, 3, 3, 3, 3, 3, 3, 3, 3, 3, 3, 3, 3, 3, 3, 3, 3, 3, 3, 3, 3, 3, 3, 3, 3, 3, 3, 3, 3, 3, 3, 3, 3, 3, 3, 3, 3, 3, 3, 3, 3, 3, 3, 3, 3, 3, 3, 3, 3, 3, 3, 3, 3, 3, 3, 3, 3, 3, 3, 3]\n"
     ]
    }
   ],
   "source": [
    "# Create a bfactor array by going through the pdb_df dataframe, for every RESIDUESEQ, get the BFACTOR value from the dictionary.\n",
    "bfactor_array = []\n",
    "for index, row in pdb_df.iterrows():\n",
    "    residue_number = row['RESIDUESEQ']\n",
    "    bfactor = b_factor_dict[residue_number]\n",
    "    bfactor_array.append(bfactor)\n",
    "\n",
    "for i in bfactor_array:\n",
    "    if i == None:\n",
    "        # change the None values to 3\n",
    "        bfactor_array[bfactor_array.index(i)] = 3\n",
    "        \n",
    "        \n",
    "print(bfactor_array)"
   ],
   "metadata": {
    "collapsed": false,
    "ExecuteTime": {
     "end_time": "2023-11-01T20:47:39.063892700Z",
     "start_time": "2023-11-01T20:47:35.429760400Z"
    }
   },
   "id": "5c29191dfaec5bb0"
  },
  {
   "cell_type": "code",
   "execution_count": 24,
   "outputs": [],
   "source": [
    "# save bfactor array to a csv file\n",
    "bfactor_df = pd.DataFrame({'Bfactor': bfactor_array})\n",
    "bfactor_df.to_csv(f'Analysis/{gene}_bfactor.csv')"
   ],
   "metadata": {
    "collapsed": false,
    "ExecuteTime": {
     "end_time": "2023-11-01T20:47:39.124189500Z",
     "start_time": "2023-11-01T20:47:39.068891200Z"
    }
   },
   "id": "cdad9f6a7305729a"
  },
  {
   "cell_type": "code",
   "execution_count": 24,
   "outputs": [],
   "source": [],
   "metadata": {
    "collapsed": false,
    "ExecuteTime": {
     "end_time": "2023-11-01T20:47:39.153764500Z",
     "start_time": "2023-11-01T20:47:39.097319400Z"
    }
   },
   "id": "3a44af314e03822a"
  }
 ],
 "metadata": {
  "kernelspec": {
   "display_name": "Python 3",
   "language": "python",
   "name": "python3"
  },
  "language_info": {
   "codemirror_mode": {
    "name": "ipython",
    "version": 2
   },
   "file_extension": ".py",
   "mimetype": "text/x-python",
   "name": "python",
   "nbconvert_exporter": "python",
   "pygments_lexer": "ipython2",
   "version": "2.7.6"
  }
 },
 "nbformat": 4,
 "nbformat_minor": 5
}
