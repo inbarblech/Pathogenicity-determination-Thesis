{
 "cells": [
  {
   "cell_type": "code",
   "execution_count": 217,
   "id": "initial_id",
   "metadata": {
    "collapsed": true,
    "ExecuteTime": {
     "end_time": "2023-11-15T15:40:09.919831500Z",
     "start_time": "2023-11-15T15:40:09.856784200Z"
    }
   },
   "outputs": [],
   "source": [
    "import general_tools as gt\n",
    "import numpy as np\n",
    "import matplotlib.pyplot as plt\n",
    "import pandas as pd\n",
    "from data_retrievel_and_feature_extraction import uniprot_info as uni\n",
    "from Bio.PDB import PDBIO, Model, Chain, Residue, Atom\n",
    "import pandas as pd\n",
    "from biopandas.pdb import PandasPdb\n",
    "from Bio.PDB import PDBParser\n"
   ]
  },
  {
   "cell_type": "code",
   "execution_count": 218,
   "outputs": [],
   "source": [
    "genes = [\"COL2A1\", \"COL4A3\", \"COL4A5\", \"WFS1\", \"SLC26A4\", \"MYO7A\", \"FGFR1\", \"GJB2\"]\n",
    "gene = genes[3]\n",
    "pdb_file = f'C:\\\\Users\\\\InbarBlech\\\\PycharmProjects\\\\Thesis\\\\AF_structures\\\\{gene}.pdb'"
   ],
   "metadata": {
    "collapsed": false,
    "ExecuteTime": {
     "end_time": "2023-11-15T15:40:09.923831700Z",
     "start_time": "2023-11-15T15:40:09.877836600Z"
    }
   },
   "id": "ce988708180f4a92"
  },
  {
   "cell_type": "code",
   "execution_count": 219,
   "outputs": [
    {
     "name": "stdout",
     "output_type": "stream",
     "text": [
      "      ATOM NAME RESNAME CHAINID  RESIDUESEQ          X          Y       Z  \\\n",
      "0        1    N     MET       A           1  67.658997 -16.459999  -1.016   \n",
      "1        2   CA     MET       A           1  68.356003 -15.195000  -0.725   \n",
      "2        3    C     MET       A           1  67.377998 -14.340000   0.040   \n",
      "3        4   CB     MET       A           1  68.850998 -14.477000  -1.993   \n",
      "4        5    O     MET       A           1  66.440002 -13.822000  -0.551   \n",
      "...    ...  ...     ...     ...         ...        ...        ...     ...   \n",
      "7064  7065   CA     ALA       A         890   1.289000  23.389999  -9.399   \n",
      "7065  7066    C     ALA       A         890   2.227000  22.559000 -10.284   \n",
      "7066  7067   CB     ALA       A         890   1.898000  24.733000  -8.975   \n",
      "7067  7068    O     ALA       A         890   3.015000  21.735001  -9.759   \n",
      "7068  7069  OXT     ALA       A         890   2.049000  22.635000 -11.518   \n",
      "\n",
      "      OCCUPANCY  TEMPFACTOR ELEMENT  \n",
      "0           1.0       37.88       N  \n",
      "1           1.0       37.88       C  \n",
      "2           1.0       37.88       C  \n",
      "3           1.0       37.88       C  \n",
      "4           1.0       37.88       O  \n",
      "...         ...         ...     ...  \n",
      "7064        1.0       73.38       C  \n",
      "7065        1.0       73.38       C  \n",
      "7066        1.0       73.38       C  \n",
      "7067        1.0       73.38       O  \n",
      "7068        1.0       73.38       O  \n",
      "\n",
      "[7069 rows x 11 columns]\n",
      "Index(['ATOM', 'NAME', 'RESNAME', 'CHAINID', 'RESIDUESEQ', 'X', 'Y', 'Z',\n",
      "       'OCCUPANCY', 'TEMPFACTOR', 'ELEMENT'],\n",
      "      dtype='object')\n"
     ]
    }
   ],
   "source": [
    "def pdb_to_dataframe(pdb_file):\n",
    "    # Create a PDB parser and load the structure\n",
    "    parser = PDBParser(QUIET=True)\n",
    "    structure = parser.get_structure(\"protein\", pdb_file)\n",
    "\n",
    "    # Initialize lists to store PDB data\n",
    "    atom_data = []\n",
    "\n",
    "    for model in structure:\n",
    "        for chain in model:\n",
    "            for residue in chain:\n",
    "                for atom in residue:\n",
    "                    atom_record = {\n",
    "                        'ATOM': atom.get_serial_number(),\n",
    "                        'NAME': atom.get_name(),\n",
    "                        'RESNAME': residue.get_resname(),\n",
    "                        'CHAINID': chain.id,\n",
    "                        'RESIDUESEQ': residue.id[1],\n",
    "                        'X': atom.get_coord()[0],\n",
    "                        'Y': atom.get_coord()[1],\n",
    "                        'Z': atom.get_coord()[2],\n",
    "                        'OCCUPANCY': atom.get_occupancy(),\n",
    "                        'TEMPFACTOR': atom.get_bfactor(),\n",
    "                        'ELEMENT': atom.element,\n",
    "                    }\n",
    "                    atom_data.append(atom_record)\n",
    "\n",
    "    # Create a DataFrame from the atom data\n",
    "    df = pd.DataFrame(atom_data)\n",
    "\n",
    "    return df\n",
    "\n",
    "\n",
    "pdb_df = pdb_to_dataframe(pdb_file)\n",
    "print(pdb_df)\n",
    "print(pdb_df.columns)"
   ],
   "metadata": {
    "collapsed": false,
    "ExecuteTime": {
     "end_time": "2023-11-15T15:40:10.264797200Z",
     "start_time": "2023-11-15T15:40:09.895836900Z"
    }
   },
   "id": "99accee164c1736"
  },
  {
   "cell_type": "code",
   "execution_count": 220,
   "outputs": [],
   "source": [
    "\n",
    "######### Functions for addition of b_factor column by pathogenicity to pdb_df dataframe #########\n",
    "\n",
    "def create_dictionary_with_all_residues(protein_length):\n",
    "    \"\"\"\n",
    "    Creates a dictionary where the keys are residue numbers and the values are\n",
    "    the residue names. The dictionary contains all residues from 1 to the\n",
    "    protein_length.\n",
    "    The values for all residues are set to 'None' by default.\n",
    "    \"\"\"\n",
    "    # Create an empty dictionary\n",
    "    residue_dict = {}\n",
    "    # Iterate through the range of numbers from 1 to the protein_length\n",
    "    for residue_number in range(1, protein_length + 1):\n",
    "        # Add the residue number and residue name to the residue_dict dictionary\n",
    "        residue_dict[residue_number] = None\n",
    "    return residue_dict\n",
    "\n",
    "def get_b_factor_dict(residue_dict, pathogenicity_df, gene_length):\n",
    "    \"\"\"\n",
    "    Go over all the residues: Create a subset of the pathogenicity_df by residue.\n",
    "    For each subset, if there is only one value, then insert the pathogenicity value into the dictionary.\n",
    "    If there are multiple values, then check if they are the same. If they are, then insert the pathogenicity value into the dictionary.\n",
    "    If they are not, then insert 'Vague' into the dictionary.\n",
    "    \"\"\"\n",
    "    for residue in range(gene_length):\n",
    "        # Create a subset of the pathogenicity_df by residue\n",
    "        pathogenicity_by_residue = pathogenicity_df[pathogenicity_df['position'] == residue]\n",
    "        # Check if there is only one value in the pathogenicity_by_residue dataframe\n",
    "        if len(pathogenicity_by_residue) == 1:\n",
    "            # Get the pathogenicity value from the pathogenicity_by_residue dataframe\n",
    "            pathogenicity = pathogenicity_by_residue['pathogenicity'].values[0]\n",
    "            # Insert the pathogenicity value into the residue_dict dictionary\n",
    "            residue_dict[residue] = pathogenicity\n",
    "        elif len(pathogenicity_by_residue) > 1:\n",
    "            # Get the pathogenicity values from the pathogenicity_by_residue dataframe\n",
    "            pathogenicity_values = pathogenicity_by_residue['pathogenicity'].values\n",
    "            # Check if all the pathogenicity values are the same\n",
    "            if all(pathogenicity == pathogenicity_values[0] for pathogenicity in pathogenicity_values):\n",
    "                # Insert the pathogenicity value into the residue_dict dictionary\n",
    "                residue_dict[residue] = pathogenicity_values[0]\n",
    "            else:\n",
    "                # Insert 2 for Vague information into the residue_dict dictionary\n",
    "                residue_dict[residue] = 2\n",
    "    return residue_dict\n",
    "\n",
    "def add_b_factor_by_residue(pdb_df, b_factor_dict):\n",
    "    \"\"\"\n",
    "    Adds a b_factor column to the pdb_df dataframe. The b_factor column\n",
    "    contains the b_factor values for each residue in the pdb_df dataframe.\n",
    "    The b_factor values are taken from the b_factor_dict dictionary.\n",
    "    Addition is done by residue, so all atoms in a residue will have the same b_factor.\n",
    "    \"\"\"\n",
    "    # Make sure there's a bfactor column in the pdb_df dataframe\n",
    "    if 'TEMPFACTOR' not in pdb_df.columns:\n",
    "        # raise an error if there's no bfactor column\n",
    "        raise ValueError('There is no bfactor column in the pdb_df dataframe')\n",
    "    # Iterate through the rows of the pdb_df dataframe\n",
    "    for index, row in pdb_df.iterrows():\n",
    "        # Get the residue number for the current row\n",
    "        residue_number = row['RESIDUESEQ']\n",
    "        # Get the b_factor value for the current row\n",
    "        b_factor = b_factor_dict[residue_number]\n",
    "        # Set the b_factor value for all rows with the current residue number\n",
    "        pdb_df.loc[pdb_df['RESIDUESEQ'] == residue_number, 'TEMPFACTOR'] = b_factor\n",
    "    return pdb_df\n",
    "\n",
    "\n",
    "def dataframe_to_pdb(dataframe, output_file):\n",
    "    ppdb = PandasPdb()\n",
    "    ppdb.df['ATOM'] = dataframe\n",
    "    ppdb.to_pdb(output_file, records=['ATOM'])"
   ],
   "metadata": {
    "collapsed": false,
    "ExecuteTime": {
     "end_time": "2023-11-15T15:40:10.275894300Z",
     "start_time": "2023-11-15T15:40:10.264282500Z"
    }
   },
   "id": "142905915cc3b531"
  },
  {
   "cell_type": "code",
   "execution_count": 221,
   "outputs": [],
   "source": [
    "# Define a function to update the B-factor (11th column) value\n",
    "def update_bfactor(line, new_value):\n",
    "    line_list = list(line)\n",
    "    line_list[60:70] = f'{new_value:6.2f}'.encode('utf-8')\n",
    "    return bytes(line_list)"
   ],
   "metadata": {
    "collapsed": false,
    "ExecuteTime": {
     "end_time": "2023-11-15T15:40:10.346913Z",
     "start_time": "2023-11-15T15:40:10.272913800Z"
    }
   },
   "id": "79b8e4954ffcb625"
  },
  {
   "cell_type": "code",
   "execution_count": 222,
   "outputs": [],
   "source": [
    "def create_pdb_with_bfactor(pdb_file):\n",
    "    # Path to your input and output files\n",
    "    input_file_path = pdb_file\n",
    "    output_file_path = \"COL4A5_with_b_factor.pdb\"\n",
    "    \n",
    "    # Flag to indicate whether you're inside the \"ATOM\" table\n",
    "    inside_atom_table = False\n",
    "    \n",
    "    # Read the input file and write to the output file\n",
    "    with open(input_file_path, \"r\") as input_file, open(output_file_path, \"wb\") as output_file:\n",
    "        for line in input_file:\n",
    "            # Check if the line starts with \"ATOM\" to identify the start of the table\n",
    "            if line.startswith(\"ATOM\"):\n",
    "                inside_atom_table = True\n",
    "    \n",
    "            if inside_atom_table:\n",
    "                # Perform your calculations here\n",
    "                # For example, let's increment the B-factor by 10 for demonstration\n",
    "                bfactor = float(line[60:70])\n",
    "                new_bfactor = bfactor + 10.0\n",
    "                line = update_bfactor(line, new_bfactor)\n",
    "    \n",
    "            # Write the line to the output file\n",
    "            output_file.write(line.encode('utf-8'))"
   ],
   "metadata": {
    "collapsed": false,
    "ExecuteTime": {
     "end_time": "2023-11-15T15:40:10.364409600Z",
     "start_time": "2023-11-15T15:40:10.290899900Z"
    }
   },
   "id": "d87418915c928040"
  },
  {
   "cell_type": "code",
   "execution_count": 223,
   "outputs": [
    {
     "data": {
      "text/plain": "     gene variant pathogenicity uniprot_id  stability_WT  stability_MUT  \\\n0    WFS1     T5A        benign     O76024       406.243        406.410   \n1    WFS1     P7A        benign     O76024       406.550        406.820   \n2    WFS1     P7Q        benign     O76024       406.550        406.421   \n3    WFS1    P16L        benign     O76024       405.800        406.781   \n4    WFS1    P17L        benign     O76024       405.187        405.847   \n..    ...     ...           ...        ...           ...            ...   \n305  WFS1    Q14R        benign        NaN       405.740        405.538   \n306  WFS1   L499F        benign        NaN       406.155        405.569   \n307  WFS1   D866N        benign        NaN       403.125        405.666   \n308  WFS1    G76V        benign        NaN       406.550        406.536   \n309  WFS1   V779M        benign        NaN       404.550        405.845   \n\n     blosum  hydrophobicity_WT  hydrophobicity_MUT  volume_WT  ...  oda_MUT  \\\n0         0               -0.7                 1.8      116.1  ...    -0.65   \n1        -1               -1.6                 1.8      112.7  ...    -3.77   \n2        -1               -1.6                -3.5      112.7  ...    -0.57   \n3        -3               -1.6                 3.8      112.7  ...    -8.98   \n4        -3               -1.6                 3.8      112.7  ...    -7.48   \n..      ...                ...                 ...        ...  ...      ...   \n305       1               -3.5                -4.5      143.8  ...   -10.21   \n306       0                3.8                 2.8      166.7  ...  -114.10   \n307       1               -3.5                -3.5      111.1  ...   -92.65   \n308      -3               -0.4                 4.2       60.1  ...    -1.63   \n309       1                4.2                 1.9      140.0  ...     0.00   \n\n     sasa_WT sasa_MUT    RSA_WT   RSA_MUT  oda_delta sasa_delta   pssm  \\\n0     144.59   110.51  0.887055  0.913306      -1.27     -34.08  3.675   \n1     129.82   103.89  0.842987  0.858595       0.79     -25.93  4.586   \n2     129.82   171.78  0.842987  0.802710       3.99      41.96  4.586   \n3     118.89   163.92  0.772013  0.858220       0.81      45.03  4.641   \n4     127.58   131.68  0.828442  0.689424      -1.29       4.10  3.746   \n..       ...      ...       ...       ...        ...        ...    ...   \n305   170.60   184.05  0.797196  0.694528      -0.23      13.45  5.242   \n306    44.63    53.58  0.233665  0.235000      -4.40       8.95  4.098   \n307   101.80    94.71  0.544385  0.506471     -13.02      -7.09  6.115   \n308    73.47   133.73  0.757423  0.810485      -1.64      60.26  3.942   \n309     0.00     0.00  0.000000  0.000000       0.00       0.00  4.828   \n\n     entropy  position  \n0      3.042         5  \n1      2.483         7  \n2      2.483         7  \n3      2.163        16  \n4      2.255        17  \n..       ...       ...  \n305    2.839        14  \n306    0.870       499  \n307    1.105       866  \n308    2.494        76  \n309    1.337       779  \n\n[310 rows x 32 columns]",
      "text/html": "<div>\n<style scoped>\n    .dataframe tbody tr th:only-of-type {\n        vertical-align: middle;\n    }\n\n    .dataframe tbody tr th {\n        vertical-align: top;\n    }\n\n    .dataframe thead th {\n        text-align: right;\n    }\n</style>\n<table border=\"1\" class=\"dataframe\">\n  <thead>\n    <tr style=\"text-align: right;\">\n      <th></th>\n      <th>gene</th>\n      <th>variant</th>\n      <th>pathogenicity</th>\n      <th>uniprot_id</th>\n      <th>stability_WT</th>\n      <th>stability_MUT</th>\n      <th>blosum</th>\n      <th>hydrophobicity_WT</th>\n      <th>hydrophobicity_MUT</th>\n      <th>volume_WT</th>\n      <th>...</th>\n      <th>oda_MUT</th>\n      <th>sasa_WT</th>\n      <th>sasa_MUT</th>\n      <th>RSA_WT</th>\n      <th>RSA_MUT</th>\n      <th>oda_delta</th>\n      <th>sasa_delta</th>\n      <th>pssm</th>\n      <th>entropy</th>\n      <th>position</th>\n    </tr>\n  </thead>\n  <tbody>\n    <tr>\n      <th>0</th>\n      <td>WFS1</td>\n      <td>T5A</td>\n      <td>benign</td>\n      <td>O76024</td>\n      <td>406.243</td>\n      <td>406.410</td>\n      <td>0</td>\n      <td>-0.7</td>\n      <td>1.8</td>\n      <td>116.1</td>\n      <td>...</td>\n      <td>-0.65</td>\n      <td>144.59</td>\n      <td>110.51</td>\n      <td>0.887055</td>\n      <td>0.913306</td>\n      <td>-1.27</td>\n      <td>-34.08</td>\n      <td>3.675</td>\n      <td>3.042</td>\n      <td>5</td>\n    </tr>\n    <tr>\n      <th>1</th>\n      <td>WFS1</td>\n      <td>P7A</td>\n      <td>benign</td>\n      <td>O76024</td>\n      <td>406.550</td>\n      <td>406.820</td>\n      <td>-1</td>\n      <td>-1.6</td>\n      <td>1.8</td>\n      <td>112.7</td>\n      <td>...</td>\n      <td>-3.77</td>\n      <td>129.82</td>\n      <td>103.89</td>\n      <td>0.842987</td>\n      <td>0.858595</td>\n      <td>0.79</td>\n      <td>-25.93</td>\n      <td>4.586</td>\n      <td>2.483</td>\n      <td>7</td>\n    </tr>\n    <tr>\n      <th>2</th>\n      <td>WFS1</td>\n      <td>P7Q</td>\n      <td>benign</td>\n      <td>O76024</td>\n      <td>406.550</td>\n      <td>406.421</td>\n      <td>-1</td>\n      <td>-1.6</td>\n      <td>-3.5</td>\n      <td>112.7</td>\n      <td>...</td>\n      <td>-0.57</td>\n      <td>129.82</td>\n      <td>171.78</td>\n      <td>0.842987</td>\n      <td>0.802710</td>\n      <td>3.99</td>\n      <td>41.96</td>\n      <td>4.586</td>\n      <td>2.483</td>\n      <td>7</td>\n    </tr>\n    <tr>\n      <th>3</th>\n      <td>WFS1</td>\n      <td>P16L</td>\n      <td>benign</td>\n      <td>O76024</td>\n      <td>405.800</td>\n      <td>406.781</td>\n      <td>-3</td>\n      <td>-1.6</td>\n      <td>3.8</td>\n      <td>112.7</td>\n      <td>...</td>\n      <td>-8.98</td>\n      <td>118.89</td>\n      <td>163.92</td>\n      <td>0.772013</td>\n      <td>0.858220</td>\n      <td>0.81</td>\n      <td>45.03</td>\n      <td>4.641</td>\n      <td>2.163</td>\n      <td>16</td>\n    </tr>\n    <tr>\n      <th>4</th>\n      <td>WFS1</td>\n      <td>P17L</td>\n      <td>benign</td>\n      <td>O76024</td>\n      <td>405.187</td>\n      <td>405.847</td>\n      <td>-3</td>\n      <td>-1.6</td>\n      <td>3.8</td>\n      <td>112.7</td>\n      <td>...</td>\n      <td>-7.48</td>\n      <td>127.58</td>\n      <td>131.68</td>\n      <td>0.828442</td>\n      <td>0.689424</td>\n      <td>-1.29</td>\n      <td>4.10</td>\n      <td>3.746</td>\n      <td>2.255</td>\n      <td>17</td>\n    </tr>\n    <tr>\n      <th>...</th>\n      <td>...</td>\n      <td>...</td>\n      <td>...</td>\n      <td>...</td>\n      <td>...</td>\n      <td>...</td>\n      <td>...</td>\n      <td>...</td>\n      <td>...</td>\n      <td>...</td>\n      <td>...</td>\n      <td>...</td>\n      <td>...</td>\n      <td>...</td>\n      <td>...</td>\n      <td>...</td>\n      <td>...</td>\n      <td>...</td>\n      <td>...</td>\n      <td>...</td>\n      <td>...</td>\n    </tr>\n    <tr>\n      <th>305</th>\n      <td>WFS1</td>\n      <td>Q14R</td>\n      <td>benign</td>\n      <td>NaN</td>\n      <td>405.740</td>\n      <td>405.538</td>\n      <td>1</td>\n      <td>-3.5</td>\n      <td>-4.5</td>\n      <td>143.8</td>\n      <td>...</td>\n      <td>-10.21</td>\n      <td>170.60</td>\n      <td>184.05</td>\n      <td>0.797196</td>\n      <td>0.694528</td>\n      <td>-0.23</td>\n      <td>13.45</td>\n      <td>5.242</td>\n      <td>2.839</td>\n      <td>14</td>\n    </tr>\n    <tr>\n      <th>306</th>\n      <td>WFS1</td>\n      <td>L499F</td>\n      <td>benign</td>\n      <td>NaN</td>\n      <td>406.155</td>\n      <td>405.569</td>\n      <td>0</td>\n      <td>3.8</td>\n      <td>2.8</td>\n      <td>166.7</td>\n      <td>...</td>\n      <td>-114.10</td>\n      <td>44.63</td>\n      <td>53.58</td>\n      <td>0.233665</td>\n      <td>0.235000</td>\n      <td>-4.40</td>\n      <td>8.95</td>\n      <td>4.098</td>\n      <td>0.870</td>\n      <td>499</td>\n    </tr>\n    <tr>\n      <th>307</th>\n      <td>WFS1</td>\n      <td>D866N</td>\n      <td>benign</td>\n      <td>NaN</td>\n      <td>403.125</td>\n      <td>405.666</td>\n      <td>1</td>\n      <td>-3.5</td>\n      <td>-3.5</td>\n      <td>111.1</td>\n      <td>...</td>\n      <td>-92.65</td>\n      <td>101.80</td>\n      <td>94.71</td>\n      <td>0.544385</td>\n      <td>0.506471</td>\n      <td>-13.02</td>\n      <td>-7.09</td>\n      <td>6.115</td>\n      <td>1.105</td>\n      <td>866</td>\n    </tr>\n    <tr>\n      <th>308</th>\n      <td>WFS1</td>\n      <td>G76V</td>\n      <td>benign</td>\n      <td>NaN</td>\n      <td>406.550</td>\n      <td>406.536</td>\n      <td>-3</td>\n      <td>-0.4</td>\n      <td>4.2</td>\n      <td>60.1</td>\n      <td>...</td>\n      <td>-1.63</td>\n      <td>73.47</td>\n      <td>133.73</td>\n      <td>0.757423</td>\n      <td>0.810485</td>\n      <td>-1.64</td>\n      <td>60.26</td>\n      <td>3.942</td>\n      <td>2.494</td>\n      <td>76</td>\n    </tr>\n    <tr>\n      <th>309</th>\n      <td>WFS1</td>\n      <td>V779M</td>\n      <td>benign</td>\n      <td>NaN</td>\n      <td>404.550</td>\n      <td>405.845</td>\n      <td>1</td>\n      <td>4.2</td>\n      <td>1.9</td>\n      <td>140.0</td>\n      <td>...</td>\n      <td>0.00</td>\n      <td>0.00</td>\n      <td>0.00</td>\n      <td>0.000000</td>\n      <td>0.000000</td>\n      <td>0.00</td>\n      <td>0.00</td>\n      <td>4.828</td>\n      <td>1.337</td>\n      <td>779</td>\n    </tr>\n  </tbody>\n</table>\n<p>310 rows × 32 columns</p>\n</div>"
     },
     "execution_count": 223,
     "metadata": {},
     "output_type": "execute_result"
    }
   ],
   "source": [
    "gene_length = uni.get_sequence_length(gene)\n",
    "pathogenicity_df = pd.read_csv(f'C:\\\\Users\\\\InbarBlech\\\\PycharmProjects\\\\Thesis\\\\gene_specific_df\\\\{gene}_with_position.csv')\n",
    "pathogenicity_df\n"
   ],
   "metadata": {
    "collapsed": false,
    "ExecuteTime": {
     "end_time": "2023-11-15T15:40:10.669468Z",
     "start_time": "2023-11-15T15:40:10.303902Z"
    }
   },
   "id": "92fa4d5fe92b5ef9"
  },
  {
   "cell_type": "code",
   "execution_count": 224,
   "outputs": [
    {
     "name": "stderr",
     "output_type": "stream",
     "text": [
      "C:\\Users\\InbarBlech\\AppData\\Local\\Temp\\ipykernel_20936\\1709416476.py:4: SettingWithCopyWarning: \n",
      "A value is trying to be set on a copy of a slice from a DataFrame.\n",
      "Try using .loc[row_indexer,col_indexer] = value instead\n",
      "\n",
      "See the caveats in the documentation: https://pandas.pydata.org/pandas-docs/stable/user_guide/indexing.html#returning-a-view-versus-a-copy\n",
      "  pathogenicity_df['pathogenicity'] = pathogenicity_df['pathogenicity'].map({'pathogenic': 1, 'benign': 0})\n"
     ]
    },
    {
     "data": {
      "text/plain": "{1: None,\n 2: None,\n 3: None,\n 4: None,\n 5: 0,\n 6: None,\n 7: 0,\n 8: None,\n 9: None,\n 10: None,\n 11: None,\n 12: None,\n 13: None,\n 14: 0,\n 15: None,\n 16: 0,\n 17: 0,\n 18: None,\n 19: 0,\n 20: None,\n 21: None,\n 22: None,\n 23: 0,\n 24: None,\n 25: None,\n 26: None,\n 27: None,\n 28: None,\n 29: None,\n 30: None,\n 31: None,\n 32: None,\n 33: None,\n 34: None,\n 35: None,\n 36: None,\n 37: None,\n 38: None,\n 39: None,\n 40: 0,\n 41: 0,\n 42: None,\n 43: None,\n 44: 0,\n 45: None,\n 46: None,\n 47: 0,\n 48: None,\n 49: 0,\n 50: None,\n 51: 0,\n 52: None,\n 53: 0,\n 54: 0,\n 55: None,\n 56: None,\n 57: 0,\n 58: 1,\n 59: None,\n 60: None,\n 61: None,\n 62: None,\n 63: None,\n 64: 0,\n 65: 0,\n 66: 0,\n 67: 0,\n 68: None,\n 69: None,\n 70: None,\n 71: 0,\n 72: None,\n 73: None,\n 74: None,\n 75: None,\n 76: 0,\n 77: None,\n 78: None,\n 79: None,\n 80: None,\n 81: 0,\n 82: None,\n 83: None,\n 84: 0,\n 85: None,\n 86: 0,\n 87: None,\n 88: None,\n 89: None,\n 90: None,\n 91: 0,\n 92: None,\n 93: None,\n 94: None,\n 95: None,\n 96: None,\n 97: None,\n 98: None,\n 99: None,\n 100: None,\n 101: None,\n 102: None,\n 103: None,\n 104: None,\n 105: None,\n 106: 0,\n 107: 1,\n 108: None,\n 109: None,\n 110: 1,\n 111: None,\n 112: None,\n 113: None,\n 114: 0,\n 115: 0,\n 116: 0,\n 117: 0,\n 118: 0,\n 119: 0,\n 120: 0,\n 121: None,\n 122: 0,\n 123: 0,\n 124: 0,\n 125: None,\n 126: 1,\n 127: None,\n 128: None,\n 129: None,\n 130: 0,\n 131: 0,\n 132: None,\n 133: 1,\n 134: None,\n 135: None,\n 136: None,\n 137: None,\n 138: None,\n 139: None,\n 140: None,\n 141: 0,\n 142: 0,\n 143: None,\n 144: 0,\n 145: 0,\n 146: 0,\n 147: 0,\n 148: None,\n 149: None,\n 150: 0,\n 151: 0,\n 152: None,\n 153: 0,\n 154: None,\n 155: None,\n 156: 1,\n 157: None,\n 158: 1,\n 159: None,\n 160: None,\n 161: 0,\n 162: None,\n 163: None,\n 164: None,\n 165: None,\n 166: None,\n 167: None,\n 168: None,\n 169: None,\n 170: None,\n 171: 1,\n 172: None,\n 173: None,\n 174: None,\n 175: None,\n 176: None,\n 177: 1,\n 178: None,\n 179: None,\n 180: None,\n 181: None,\n 182: None,\n 183: None,\n 184: None,\n 185: None,\n 186: None,\n 187: None,\n 188: 1,\n 189: None,\n 190: None,\n 191: None,\n 192: None,\n 193: 0,\n 194: None,\n 195: None,\n 196: None,\n 197: None,\n 198: None,\n 199: None,\n 200: 1,\n 201: None,\n 202: 1,\n 203: None,\n 204: None,\n 205: None,\n 206: None,\n 207: None,\n 208: None,\n 209: None,\n 210: 0,\n 211: 1,\n 212: None,\n 213: 0,\n 214: 0,\n 215: None,\n 216: None,\n 217: None,\n 218: None,\n 219: None,\n 220: None,\n 221: None,\n 222: None,\n 223: 0,\n 224: None,\n 225: None,\n 226: None,\n 227: None,\n 228: 1,\n 229: None,\n 230: None,\n 231: None,\n 232: 1,\n 233: None,\n 234: None,\n 235: None,\n 236: 1,\n 237: None,\n 238: None,\n 239: None,\n 240: None,\n 241: None,\n 242: None,\n 243: None,\n 244: None,\n 245: 0,\n 246: None,\n 247: None,\n 248: 1,\n 249: None,\n 250: 0,\n 251: None,\n 252: None,\n 253: None,\n 254: None,\n 255: None,\n 256: None,\n 257: None,\n 258: 0,\n 259: None,\n 260: None,\n 261: None,\n 262: None,\n 263: None,\n 264: 0,\n 265: None,\n 266: None,\n 267: None,\n 268: None,\n 269: None,\n 270: None,\n 271: None,\n 272: None,\n 273: None,\n 274: None,\n 275: None,\n 276: None,\n 277: None,\n 278: None,\n 279: None,\n 280: None,\n 281: None,\n 282: None,\n 283: None,\n 284: None,\n 285: 0,\n 286: None,\n 287: None,\n 288: 1,\n 289: None,\n 290: None,\n 291: None,\n 292: 1,\n 293: None,\n 294: None,\n 295: None,\n 296: 1,\n 297: None,\n 298: None,\n 299: None,\n 300: None,\n 301: None,\n 302: None,\n 303: 1,\n 304: None,\n 305: None,\n 306: 0,\n 307: None,\n 308: 1,\n 309: None,\n 310: None,\n 311: None,\n 312: 0,\n 313: None,\n 314: 1,\n 315: 0,\n 316: None,\n 317: None,\n 318: None,\n 319: None,\n 320: 1,\n 321: 1,\n 322: None,\n 323: 1,\n 324: None,\n 325: None,\n 326: None,\n 327: None,\n 328: None,\n 329: 1,\n 330: None,\n 331: None,\n 332: None,\n 333: 0,\n 334: None,\n 335: None,\n 336: None,\n 337: 1,\n 338: None,\n 339: None,\n 340: None,\n 341: None,\n 342: None,\n 343: None,\n 344: None,\n 345: None,\n 346: 1,\n 347: None,\n 348: None,\n 349: 1,\n 350: 1,\n 351: None,\n 352: None,\n 353: None,\n 354: None,\n 355: None,\n 356: 1,\n 357: None,\n 358: None,\n 359: None,\n 360: None,\n 361: None,\n 362: None,\n 363: None,\n 364: None,\n 365: None,\n 366: None,\n 367: None,\n 368: None,\n 369: None,\n 370: None,\n 371: None,\n 372: None,\n 373: None,\n 374: None,\n 375: 1,\n 376: None,\n 377: None,\n 378: None,\n 379: None,\n 380: None,\n 381: None,\n 382: 1,\n 383: 1,\n 384: None,\n 385: None,\n 386: None,\n 387: None,\n 388: None,\n 389: None,\n 390: None,\n 391: None,\n 392: None,\n 393: None,\n 394: None,\n 395: None,\n 396: None,\n 397: None,\n 398: None,\n 399: None,\n 400: None,\n 401: None,\n 402: 1,\n 403: None,\n 404: None,\n 405: None,\n 406: 0,\n 407: None,\n 408: None,\n 409: None,\n 410: None,\n 411: None,\n 412: None,\n 413: 0,\n 414: None,\n 415: None,\n 416: None,\n 417: None,\n 418: None,\n 419: None,\n 420: None,\n 421: 0,\n 422: 0,\n 423: None,\n 424: None,\n 425: None,\n 426: None,\n 427: 1,\n 428: 1,\n 429: None,\n 430: 1,\n 431: None,\n 432: 1,\n 433: None,\n 434: None,\n 435: None,\n 436: 0,\n 437: 1,\n 438: None,\n 439: 1,\n 440: None,\n 441: None,\n 442: None,\n 443: 1,\n 444: None,\n 445: None,\n 446: 1,\n 447: None,\n 448: None,\n 449: None,\n 450: None,\n 451: None,\n 452: None,\n 453: None,\n 454: None,\n 455: None,\n 456: 0,\n 457: 1,\n 458: None,\n 459: 1,\n 460: None,\n 461: 1,\n 462: 1,\n 463: None,\n 464: None,\n 465: None,\n 466: None,\n 467: None,\n 468: None,\n 469: None,\n 470: None,\n 471: None,\n 472: None,\n 473: None,\n 474: None,\n 475: None,\n 476: None,\n 477: 0,\n 478: None,\n 479: None,\n 480: None,\n 481: None,\n 482: None,\n 483: 0,\n 484: 0,\n 485: None,\n 486: None,\n 487: None,\n 488: None,\n 489: 0,\n 490: None,\n 491: 0,\n 492: None,\n 493: None,\n 494: 1,\n 495: None,\n 496: None,\n 497: None,\n 498: 0,\n 499: 0,\n 500: None,\n 501: 0,\n 502: None,\n 503: 0,\n 504: 1,\n 505: 1,\n 506: 2,\n 507: None,\n 508: 1,\n 509: 0,\n 510: None,\n 511: 1,\n 512: None,\n 513: None,\n 514: 0,\n 515: None,\n 516: None,\n 517: None,\n 518: 2,\n 519: None,\n 520: 0,\n 521: None,\n 522: None,\n 523: None,\n 524: None,\n 525: None,\n 526: None,\n 527: None,\n 528: 1,\n 529: None,\n 530: None,\n 531: None,\n 532: None,\n 533: None,\n 534: None,\n 535: None,\n 536: None,\n 537: None,\n 538: None,\n 539: None,\n 540: 1,\n 541: None,\n 542: None,\n 543: 1,\n 544: None,\n 545: 1,\n 546: 1,\n 547: None,\n 548: None,\n 549: None,\n 550: None,\n 551: None,\n 552: None,\n 553: None,\n 554: None,\n 555: None,\n 556: None,\n 557: 1,\n 558: None,\n 559: 2,\n 560: None,\n 561: None,\n 562: None,\n 563: None,\n 564: 0,\n 565: None,\n 566: None,\n 567: None,\n 568: None,\n 569: None,\n 570: None,\n 571: None,\n 572: None,\n 573: None,\n 574: None,\n 575: None,\n 576: 0,\n 577: None,\n 578: None,\n 579: None,\n 580: None,\n 581: None,\n 582: None,\n 583: None,\n 584: 1,\n 585: None,\n 586: None,\n 587: None,\n 588: None,\n 589: None,\n 590: 0,\n 591: None,\n 592: 1,\n 593: None,\n 594: None,\n 595: None,\n 596: None,\n 597: None,\n 598: None,\n 599: None,\n 600: None,\n 601: 0,\n 602: 0,\n 603: None,\n 604: None,\n 605: None,\n 606: 2,\n 607: 1,\n 608: None,\n 609: None,\n 610: None,\n 611: 2,\n 612: None,\n 613: None,\n 614: None,\n 615: None,\n 616: 1,\n 617: None,\n 618: None,\n 619: None,\n 620: 0,\n 621: None,\n 622: None,\n 623: None,\n 624: 2,\n 625: None,\n 626: None,\n 627: None,\n 628: None,\n 629: 1,\n 630: None,\n 631: 1,\n 632: 0,\n 633: None,\n 634: 1,\n 635: None,\n 636: None,\n 637: None,\n 638: None,\n 639: 1,\n 640: None,\n 641: None,\n 642: None,\n 643: None,\n 644: None,\n 645: None,\n 646: None,\n 647: None,\n 648: None,\n 649: None,\n 650: 1,\n 651: None,\n 652: None,\n 653: None,\n 654: None,\n 655: 1,\n 656: None,\n 657: None,\n 658: None,\n 659: None,\n 660: None,\n 661: 1,\n 662: None,\n 663: None,\n 664: 1,\n 665: 1,\n 666: None,\n 667: None,\n 668: None,\n 669: 1,\n 670: None,\n 671: 0,\n 672: 1,\n 673: None,\n 674: 1,\n 675: None,\n 676: 1,\n 677: 1,\n 678: 1,\n 679: None,\n 680: None,\n 681: None,\n 682: 1,\n 683: 1,\n 684: 1,\n 685: 1,\n 686: None,\n 687: None,\n 688: None,\n 689: None,\n 690: 1,\n 691: None,\n 692: 0,\n 693: None,\n 694: None,\n 695: 1,\n 696: 1,\n 697: None,\n 698: None,\n 699: 1,\n 700: 1,\n 701: None,\n 702: 1,\n 703: 1,\n 704: None,\n 705: 1,\n 706: None,\n 707: 1,\n 708: 1,\n 709: 1,\n 710: None,\n 711: None,\n 712: None,\n 713: None,\n 714: 1,\n 715: None,\n 716: 1,\n 717: None,\n 718: None,\n 719: None,\n 720: 0,\n 721: 1,\n 722: None,\n 723: 1,\n 724: 1,\n 725: 0,\n 726: None,\n 727: None,\n 728: 0,\n 729: 1,\n 730: None,\n 731: None,\n 732: 1,\n 733: None,\n 734: None,\n 735: None,\n 736: 1,\n 737: None,\n 738: None,\n 739: None,\n 740: None,\n 741: 0,\n 742: 1,\n 743: 0,\n 744: None,\n 745: None,\n 746: None,\n 747: None,\n 748: None,\n 749: None,\n 750: None,\n 751: None,\n 752: None,\n 753: None,\n 754: None,\n 755: None,\n 756: None,\n 757: 1,\n 758: None,\n 759: None,\n 760: None,\n 761: 1,\n 762: None,\n 763: None,\n 764: None,\n 765: None,\n 766: 1,\n 767: None,\n 768: None,\n 769: None,\n 770: 1,\n 771: 1,\n 772: None,\n 773: None,\n 774: None,\n 775: None,\n 776: 0,\n 777: None,\n 778: None,\n 779: 2,\n 780: 1,\n 781: None,\n 782: None,\n 783: None,\n 784: None,\n 785: None,\n 786: 0,\n 787: 0,\n 788: 0,\n 789: 0,\n 790: None,\n 791: None,\n 792: 0,\n 793: 1,\n 794: 0,\n 795: None,\n 796: None,\n 797: 1,\n 798: None,\n 799: None,\n 800: None,\n 801: None,\n 802: None,\n 803: None,\n 804: None,\n 805: None,\n 806: 1,\n 807: 1,\n 808: None,\n 809: 1,\n 810: None,\n 811: None,\n 812: None,\n 813: None,\n 814: None,\n 815: None,\n 816: 0,\n 817: None,\n 818: 0,\n 819: None,\n 820: None,\n 821: None,\n 822: 0,\n 823: None,\n 824: None,\n 825: None,\n 826: None,\n 827: None,\n 828: None,\n 829: None,\n 830: 1,\n 831: 1,\n 832: 1,\n 833: None,\n 834: 1,\n 835: None,\n 836: 1,\n 837: None,\n 838: 1,\n 839: None,\n 840: None,\n 841: None,\n 842: None,\n 843: 1,\n 844: 1,\n 845: 1,\n 846: None,\n 847: None,\n 848: None,\n 849: None,\n 850: None,\n 851: None,\n 852: None,\n 853: None,\n 854: None,\n 855: None,\n 856: None,\n 857: 0,\n 858: None,\n 859: 1,\n 860: 1,\n 861: 1,\n 862: None,\n 863: None,\n 864: 1,\n 865: None,\n 866: 0,\n 867: None,\n 868: 1,\n 869: None,\n 870: None,\n 871: 2,\n 872: None,\n 873: None,\n 874: 1,\n 875: 0,\n 876: None,\n 877: None,\n 878: None,\n 879: None,\n 880: None,\n 881: None,\n 882: None,\n 883: None,\n 884: None,\n 885: None,\n 886: None,\n 887: None,\n 888: 1,\n 889: None,\n 890: None}"
     },
     "execution_count": 224,
     "metadata": {},
     "output_type": "execute_result"
    }
   ],
   "source": [
    "# leave only the pathogenicity and residue number columns\n",
    "pathogenicity_df = pathogenicity_df[['position', 'pathogenicity']]\n",
    "# Change pathogenicity to 1 and 0, where 1 is pathogenic and 0 is benign\n",
    "pathogenicity_df['pathogenicity'] = pathogenicity_df['pathogenicity'].map({'pathogenic': 1, 'benign': 0})\n",
    "\n",
    "residue_dict = create_dictionary_with_all_residues(gene_length)\n",
    "\n",
    "b_factor_dict = get_b_factor_dict(residue_dict, pathogenicity_df, gene_length)\n",
    "pdb_df = add_b_factor_by_residue(pdb_df, b_factor_dict)\n",
    "\n",
    "b_factor_dict"
   ],
   "metadata": {
    "collapsed": false,
    "ExecuteTime": {
     "end_time": "2023-11-15T15:40:13.542175700Z",
     "start_time": "2023-11-15T15:40:10.667286900Z"
    }
   },
   "id": "4477a332618f99ad"
  },
  {
   "cell_type": "code",
   "execution_count": 225,
   "outputs": [
    {
     "data": {
      "text/plain": "0"
     },
     "execution_count": 225,
     "metadata": {},
     "output_type": "execute_result"
    }
   ],
   "source": [
    "benign_residues = 0\n",
    "pathogenic_residues = 0\n",
    "vague_residues = 0\n",
    "no_data_residues = 0\n",
    "\n",
    "for key in b_factor_dict:\n",
    "    if b_factor_dict[key] == 0:\n",
    "        benign_residues += 1\n",
    "    elif b_factor_dict[key] == 1:\n",
    "        pathogenic_residues += 1\n",
    "    elif b_factor_dict[key] == 2:\n",
    "        vague_residues += 1\n",
    "    elif b_factor_dict[key] == 3:\n",
    "        no_data_residues += 1\n",
    "\n",
    "no_data_residues       "
   ],
   "metadata": {
    "collapsed": false,
    "ExecuteTime": {
     "end_time": "2023-11-15T15:40:13.610605500Z",
     "start_time": "2023-11-15T15:40:13.541174500Z"
    }
   },
   "id": "3d5896b5f3f15a55"
  },
  {
   "cell_type": "code",
   "execution_count": 226,
   "outputs": [
    {
     "name": "stdout",
     "output_type": "stream",
     "text": [
      "[3, 3, 3, 3, 3, 3, 3, 3, 3, 3, 3, 3, 3, 3, 3, 3, 3, 3, 3, 3, 3, 3, 3, 3, 3, 3, 3, 3, 3, 3, 0, 0, 0, 0, 0, 0, 0, 3, 3, 3, 3, 3, 0, 0, 0, 0, 0, 0, 0, 3, 3, 3, 3, 3, 3, 3, 3, 3, 3, 3, 3, 3, 3, 3, 3, 3, 3, 3, 3, 3, 3, 3, 3, 3, 3, 3, 3, 3, 3, 3, 3, 3, 3, 3, 3, 3, 3, 0, 0, 0, 0, 0, 0, 0, 0, 0, 3, 3, 3, 3, 3, 3, 3, 0, 0, 0, 0, 0, 0, 0, 0, 0, 0, 0, 0, 0, 0, 3, 3, 3, 3, 3, 0, 0, 0, 0, 0, 0, 0, 3, 3, 3, 3, 3, 3, 3, 3, 3, 3, 3, 3, 3, 3, 3, 3, 3, 3, 3, 3, 3, 3, 3, 3, 3, 0, 0, 0, 0, 0, 3, 3, 3, 3, 3, 3, 3, 3, 3, 3, 3, 3, 3, 3, 3, 3, 3, 3, 3, 3, 3, 3, 3, 3, 3, 3, 3, 3, 3, 3, 3, 3, 3, 3, 3, 3, 3, 3, 3, 3, 3, 3, 3, 3, 3, 3, 3, 3, 3, 3, 3, 3, 3, 3, 3, 3, 3, 3, 3, 3, 3, 3, 3, 3, 3, 3, 3, 3, 3, 3, 3, 3, 3, 3, 3, 3, 3, 3, 3, 3, 3, 3, 3, 3, 3, 3, 3, 3, 3, 3, 3, 3, 3, 3, 3, 3, 3, 3, 3, 3, 3, 3, 3, 3, 3, 3, 3, 3, 3, 3, 3, 3, 3, 3, 3, 3, 3, 3, 3, 3, 3, 3, 3, 3, 3, 3, 3, 3, 0, 0, 0, 0, 0, 0, 0, 0, 0, 0, 0, 0, 0, 0, 0, 0, 0, 0, 3, 3, 3, 3, 3, 3, 3, 3, 3, 3, 3, 3, 3, 3, 3, 3, 0, 0, 0, 0, 0, 0, 0, 3, 3, 3, 3, 3, 3, 3, 3, 3, 3, 3, 0, 0, 0, 0, 0, 0, 0, 0, 0, 3, 3, 3, 3, 3, 0, 0, 0, 0, 3, 3, 3, 3, 3, 3, 3, 0, 0, 0, 0, 3, 3, 3, 3, 3, 3, 3, 0, 0, 0, 0, 0, 0, 0, 0, 0, 0, 0, 3, 3, 3, 3, 3, 3, 3, 3, 3, 3, 3, 3, 3, 3, 3, 3, 3, 3, 3, 0, 0, 0, 0, 0, 1, 1, 1, 1, 1, 3, 3, 3, 3, 3, 3, 3, 3, 3, 3, 3, 3, 3, 3, 3, 3, 3, 3, 3, 3, 3, 3, 3, 3, 3, 3, 3, 3, 3, 3, 3, 3, 3, 0, 0, 0, 0, 0, 0, 0, 0, 0, 0, 0, 0, 0, 0, 0, 0, 0, 0, 0, 0, 0, 0, 0, 0, 0, 0, 0, 0, 0, 0, 0, 0, 0, 3, 3, 3, 3, 3, 3, 3, 3, 3, 3, 3, 3, 3, 3, 3, 3, 3, 3, 3, 3, 3, 3, 3, 3, 0, 0, 0, 0, 0, 0, 0, 0, 0, 0, 0, 3, 3, 3, 3, 3, 3, 3, 3, 3, 3, 3, 3, 3, 3, 3, 3, 3, 3, 3, 3, 3, 3, 3, 3, 3, 3, 3, 3, 3, 3, 3, 3, 3, 0, 0, 0, 0, 3, 3, 3, 3, 3, 3, 3, 3, 3, 3, 3, 3, 3, 3, 3, 3, 3, 3, 3, 3, 3, 3, 3, 3, 3, 0, 0, 0, 0, 0, 0, 0, 0, 0, 3, 3, 3, 3, 3, 3, 3, 3, 3, 3, 3, 3, 0, 0, 0, 0, 0, 0, 0, 0, 3, 3, 3, 3, 3, 3, 3, 3, 3, 0, 0, 0, 0, 0, 0, 0, 0, 3, 3, 3, 3, 3, 3, 3, 3, 3, 3, 3, 3, 3, 3, 3, 3, 3, 3, 3, 3, 3, 3, 3, 3, 3, 3, 3, 3, 3, 3, 3, 3, 3, 3, 3, 3, 0, 0, 0, 0, 0, 0, 0, 3, 3, 3, 3, 3, 3, 3, 3, 3, 3, 3, 3, 3, 3, 3, 3, 3, 3, 3, 3, 3, 3, 3, 3, 3, 3, 3, 3, 3, 3, 3, 3, 3, 3, 3, 3, 3, 3, 3, 3, 3, 3, 3, 3, 3, 3, 3, 3, 3, 3, 3, 3, 3, 3, 3, 3, 3, 3, 3, 3, 3, 3, 3, 3, 3, 3, 3, 3, 3, 3, 3, 3, 3, 3, 3, 3, 3, 3, 3, 3, 3, 3, 3, 3, 3, 3, 3, 3, 3, 3, 3, 3, 3, 3, 3, 3, 3, 3, 3, 3, 3, 3, 3, 3, 3, 0, 0, 0, 0, 0, 0, 0, 1, 1, 1, 1, 3, 3, 3, 3, 3, 3, 3, 3, 3, 3, 3, 3, 3, 3, 3, 3, 3, 3, 3, 1, 1, 1, 1, 1, 1, 1, 1, 1, 1, 1, 1, 3, 3, 3, 3, 3, 3, 3, 3, 3, 3, 3, 3, 3, 3, 3, 3, 3, 3, 3, 3, 3, 3, 3, 3, 3, 0, 0, 0, 0, 0, 0, 0, 0, 0, 0, 0, 0, 0, 0, 0, 0, 0, 0, 0, 0, 0, 0, 0, 0, 0, 0, 0, 0, 0, 0, 0, 0, 0, 0, 0, 0, 0, 0, 0, 0, 0, 0, 0, 0, 0, 0, 0, 0, 0, 0, 3, 3, 3, 3, 3, 3, 3, 3, 0, 0, 0, 0, 0, 0, 0, 0, 0, 0, 0, 0, 0, 0, 0, 0, 0, 0, 0, 0, 3, 3, 3, 3, 3, 3, 3, 1, 1, 1, 1, 1, 3, 3, 3, 3, 3, 3, 3, 3, 3, 3, 3, 3, 3, 3, 3, 3, 3, 3, 3, 3, 3, 3, 3, 3, 3, 3, 3, 3, 3, 0, 0, 0, 0, 0, 0, 0, 0, 0, 0, 0, 0, 0, 0, 0, 3, 3, 3, 3, 3, 3, 3, 3, 1, 1, 1, 1, 1, 3, 3, 3, 3, 3, 3, 3, 3, 3, 3, 3, 3, 3, 3, 3, 3, 3, 3, 3, 3, 3, 3, 3, 3, 3, 3, 3, 3, 3, 3, 3, 3, 3, 3, 3, 3, 3, 3, 3, 3, 3, 3, 3, 3, 3, 3, 3, 3, 3, 3, 3, 3, 3, 3, 3, 3, 3, 3, 0, 0, 0, 0, 0, 0, 0, 0, 0, 0, 0, 0, 3, 3, 3, 3, 3, 3, 3, 3, 3, 0, 0, 0, 0, 0, 0, 0, 0, 0, 0, 0, 0, 0, 0, 0, 0, 0, 0, 0, 0, 0, 0, 0, 0, 0, 0, 0, 0, 0, 0, 0, 0, 0, 0, 0, 0, 0, 0, 3, 3, 3, 3, 3, 3, 3, 3, 3, 3, 3, 3, 3, 3, 0, 0, 0, 0, 0, 0, 0, 0, 0, 0, 0, 0, 0, 3, 3, 3, 3, 3, 3, 3, 3, 3, 3, 3, 0, 0, 0, 0, 0, 0, 0, 0, 0, 0, 0, 3, 3, 3, 3, 3, 3, 3, 3, 3, 3, 3, 3, 1, 1, 1, 1, 1, 1, 1, 3, 3, 3, 3, 3, 3, 1, 1, 1, 1, 1, 1, 1, 1, 1, 3, 3, 3, 3, 3, 3, 3, 3, 3, 3, 3, 3, 3, 3, 3, 3, 3, 0, 0, 0, 0, 0, 0, 0, 0, 0, 0, 0, 3, 3, 3, 3, 3, 3, 3, 3, 3, 3, 3, 3, 3, 3, 3, 3, 3, 3, 3, 3, 3, 3, 3, 3, 3, 3, 3, 3, 3, 3, 3, 3, 3, 3, 3, 3, 3, 3, 3, 3, 3, 3, 3, 3, 3, 3, 3, 3, 3, 3, 3, 3, 3, 3, 3, 3, 3, 3, 3, 3, 3, 3, 3, 3, 3, 3, 3, 3, 3, 3, 3, 3, 1, 1, 1, 1, 1, 1, 1, 1, 3, 3, 3, 3, 3, 3, 3, 3, 3, 3, 3, 3, 3, 3, 3, 3, 3, 3, 3, 3, 3, 3, 3, 3, 3, 3, 3, 3, 3, 3, 3, 3, 3, 3, 3, 3, 3, 3, 3, 3, 1, 1, 1, 1, 1, 1, 1, 1, 1, 1, 1, 3, 3, 3, 3, 3, 3, 3, 3, 3, 3, 3, 3, 3, 3, 3, 3, 3, 3, 3, 3, 3, 3, 3, 3, 3, 3, 3, 3, 3, 3, 3, 3, 3, 3, 3, 3, 3, 3, 3, 3, 3, 3, 3, 3, 3, 3, 3, 3, 3, 3, 3, 3, 3, 3, 3, 3, 3, 3, 3, 3, 3, 3, 3, 3, 3, 3, 3, 3, 3, 3, 3, 3, 3, 3, 3, 3, 3, 3, 3, 3, 3, 3, 3, 3, 3, 1, 1, 1, 1, 1, 1, 1, 1, 3, 3, 3, 3, 3, 3, 3, 3, 3, 3, 3, 3, 3, 3, 3, 3, 3, 3, 3, 3, 3, 3, 3, 3, 3, 3, 3, 3, 3, 3, 3, 3, 3, 3, 0, 0, 0, 0, 0, 0, 0, 0, 0, 3, 3, 3, 3, 3, 3, 3, 3, 3, 3, 3, 3, 3, 3, 3, 3, 3, 3, 3, 3, 3, 3, 3, 3, 3, 3, 3, 3, 3, 3, 3, 3, 3, 3, 3, 3, 3, 3, 3, 3, 3, 3, 1, 1, 1, 1, 1, 1, 1, 1, 3, 3, 3, 3, 3, 3, 3, 3, 1, 1, 1, 1, 1, 1, 1, 1, 1, 3, 3, 3, 3, 3, 3, 3, 3, 3, 3, 3, 3, 3, 3, 3, 3, 3, 3, 3, 3, 3, 3, 3, 3, 3, 3, 3, 3, 3, 3, 3, 3, 3, 3, 3, 3, 3, 3, 3, 3, 3, 3, 3, 3, 3, 3, 3, 3, 3, 3, 3, 3, 0, 0, 0, 0, 0, 0, 0, 0, 0, 0, 1, 1, 1, 1, 1, 1, 1, 1, 3, 3, 3, 3, 0, 0, 0, 0, 0, 0, 0, 0, 0, 3, 3, 3, 3, 3, 3, 3, 3, 3, 3, 3, 3, 3, 3, 3, 3, 3, 3, 3, 3, 3, 3, 3, 3, 3, 3, 3, 3, 3, 3, 3, 3, 3, 3, 3, 3, 3, 3, 3, 3, 3, 3, 3, 3, 3, 3, 3, 3, 3, 3, 3, 3, 3, 3, 3, 3, 0, 0, 0, 0, 0, 0, 0, 0, 3, 3, 3, 3, 3, 3, 3, 3, 3, 3, 3, 3, 3, 3, 3, 3, 3, 3, 3, 3, 3, 3, 3, 3, 3, 3, 3, 3, 3, 3, 3, 3, 3, 3, 3, 3, 3, 3, 1, 1, 1, 1, 1, 1, 1, 1, 1, 1, 1, 3, 3, 3, 3, 3, 3, 3, 3, 3, 3, 3, 3, 3, 3, 3, 3, 3, 3, 3, 3, 3, 3, 3, 3, 3, 1, 1, 1, 1, 1, 1, 1, 1, 1, 1, 1, 3, 3, 3, 3, 3, 3, 3, 3, 3, 3, 3, 3, 3, 3, 3, 3, 3, 3, 3, 3, 3, 1, 1, 1, 1, 1, 1, 3, 3, 3, 3, 3, 3, 3, 3, 3, 3, 3, 3, 3, 3, 3, 3, 3, 3, 3, 3, 3, 3, 3, 3, 3, 3, 3, 3, 3, 3, 3, 3, 3, 3, 3, 3, 3, 3, 3, 3, 3, 3, 3, 3, 3, 3, 3, 3, 3, 3, 3, 3, 3, 3, 3, 3, 3, 3, 3, 3, 3, 3, 3, 3, 3, 0, 0, 0, 0, 0, 0, 0, 0, 3, 3, 3, 3, 3, 3, 3, 3, 3, 3, 3, 3, 3, 3, 3, 3, 3, 3, 3, 1, 1, 1, 1, 1, 1, 1, 3, 3, 3, 3, 3, 3, 3, 3, 3, 0, 0, 0, 0, 0, 0, 0, 0, 3, 3, 3, 3, 3, 3, 3, 3, 3, 3, 3, 3, 3, 3, 3, 3, 3, 3, 3, 3, 3, 3, 3, 3, 3, 3, 3, 3, 3, 3, 3, 3, 3, 3, 3, 3, 3, 3, 3, 3, 3, 3, 3, 3, 3, 3, 3, 3, 3, 3, 3, 3, 3, 3, 3, 0, 0, 0, 0, 0, 0, 0, 3, 3, 3, 3, 3, 3, 3, 3, 3, 3, 3, 3, 3, 3, 3, 3, 3, 3, 3, 3, 3, 3, 3, 3, 3, 3, 3, 3, 3, 3, 3, 3, 3, 3, 3, 0, 0, 0, 0, 0, 0, 0, 0, 0, 0, 0, 3, 3, 3, 3, 3, 3, 3, 3, 3, 3, 3, 3, 3, 3, 3, 3, 3, 3, 3, 3, 3, 3, 3, 3, 3, 3, 3, 3, 3, 3, 3, 3, 3, 3, 3, 3, 3, 3, 3, 3, 3, 3, 3, 3, 3, 3, 3, 3, 3, 3, 3, 3, 3, 3, 3, 3, 3, 3, 3, 3, 3, 3, 3, 3, 3, 3, 3, 3, 3, 3, 3, 3, 3, 3, 3, 3, 3, 3, 3, 3, 3, 3, 3, 3, 3, 3, 3, 3, 3, 3, 3, 3, 3, 3, 3, 3, 3, 3, 3, 3, 3, 3, 3, 3, 3, 3, 3, 3, 3, 3, 3, 3, 3, 3, 3, 3, 3, 3, 3, 3, 3, 3, 3, 3, 3, 3, 3, 3, 3, 3, 3, 3, 3, 3, 3, 3, 3, 3, 3, 3, 3, 3, 3, 3, 3, 3, 3, 3, 3, 3, 3, 3, 3, 3, 0, 0, 0, 0, 0, 0, 0, 0, 0, 0, 0, 3, 3, 3, 3, 3, 3, 3, 3, 3, 3, 3, 3, 3, 3, 3, 3, 3, 1, 1, 1, 1, 1, 1, 1, 3, 3, 3, 3, 3, 3, 3, 3, 3, 3, 3, 3, 3, 3, 3, 3, 3, 3, 3, 3, 3, 3, 3, 3, 3, 3, 3, 3, 1, 1, 1, 1, 1, 1, 1, 3, 3, 3, 3, 3, 3, 3, 3, 3, 3, 3, 3, 3, 3, 3, 3, 3, 3, 3, 3, 3, 3, 3, 1, 1, 1, 1, 1, 1, 1, 1, 3, 3, 3, 3, 3, 3, 3, 3, 3, 3, 3, 3, 3, 3, 3, 3, 3, 3, 3, 3, 3, 3, 3, 3, 3, 3, 3, 3, 3, 3, 3, 3, 3, 3, 3, 3, 3, 3, 3, 3, 3, 3, 3, 3, 3, 3, 3, 3, 3, 3, 3, 3, 3, 3, 3, 1, 1, 1, 1, 1, 1, 1, 1, 3, 3, 3, 3, 3, 3, 3, 3, 3, 3, 3, 3, 3, 3, 3, 3, 0, 0, 0, 0, 0, 0, 0, 0, 3, 3, 3, 3, 3, 1, 1, 1, 1, 1, 1, 3, 3, 3, 3, 3, 3, 3, 3, 3, 3, 3, 3, 3, 3, 3, 3, 3, 3, 3, 3, 0, 0, 0, 0, 0, 0, 0, 0, 3, 3, 3, 3, 3, 3, 3, 3, 3, 3, 1, 1, 1, 1, 1, 1, 1, 1, 1, 1, 1, 1, 1, 1, 0, 0, 0, 0, 0, 0, 0, 0, 3, 3, 3, 3, 3, 3, 3, 3, 3, 3, 3, 3, 3, 3, 3, 3, 3, 3, 3, 3, 3, 3, 3, 3, 3, 3, 3, 3, 3, 1, 1, 1, 1, 1, 1, 1, 1, 1, 1, 1, 1, 1, 1, 3, 3, 3, 3, 3, 3, 3, 3, 3, 3, 1, 1, 1, 1, 1, 1, 1, 1, 1, 1, 3, 3, 3, 3, 3, 3, 3, 3, 3, 3, 3, 3, 3, 3, 3, 3, 3, 3, 3, 3, 3, 3, 3, 3, 3, 3, 3, 3, 3, 3, 3, 3, 3, 3, 3, 3, 3, 1, 1, 1, 1, 1, 1, 1, 1, 1, 1, 1, 3, 3, 3, 3, 3, 3, 3, 3, 3, 3, 3, 3, 3, 3, 3, 3, 3, 3, 3, 3, 3, 3, 3, 3, 3, 3, 3, 3, 3, 3, 0, 0, 0, 0, 0, 0, 0, 3, 3, 3, 3, 3, 3, 3, 3, 3, 3, 3, 3, 3, 3, 3, 3, 3, 3, 3, 3, 3, 3, 1, 1, 1, 1, 1, 1, 1, 3, 3, 3, 3, 3, 3, 3, 3, 3, 3, 3, 3, 3, 3, 3, 3, 3, 3, 3, 3, 3, 3, 3, 3, 3, 3, 3, 3, 3, 3, 3, 3, 3, 3, 3, 3, 3, 3, 3, 3, 3, 3, 3, 3, 3, 3, 3, 3, 3, 3, 3, 3, 3, 3, 3, 3, 3, 3, 3, 3, 3, 3, 3, 3, 3, 3, 3, 3, 3, 3, 3, 3, 3, 1, 1, 1, 1, 1, 1, 1, 3, 3, 3, 3, 3, 3, 3, 3, 3, 3, 3, 3, 3, 3, 3, 1, 1, 1, 1, 1, 1, 1, 1, 1, 1, 1, 1, 1, 1, 1, 1, 1, 1, 1, 3, 3, 3, 3, 3, 3, 3, 3, 3, 3, 3, 3, 3, 3, 3, 3, 3, 3, 3, 3, 3, 3, 3, 3, 3, 3, 3, 3, 3, 3, 3, 3, 3, 3, 3, 3, 3, 3, 3, 3, 3, 3, 3, 3, 3, 1, 1, 1, 1, 1, 1, 3, 3, 3, 3, 3, 3, 3, 3, 3, 3, 3, 3, 3, 3, 3, 3, 3, 3, 3, 3, 3, 3, 3, 3, 3, 3, 3, 3, 3, 3, 3, 3, 3, 3, 3, 3, 3, 3, 3, 3, 3, 3, 3, 3, 3, 3, 3, 3, 3, 3, 3, 3, 3, 3, 3, 3, 3, 3, 3, 3, 3, 3, 3, 3, 3, 3, 3, 3, 3, 3, 3, 3, 3, 3, 3, 3, 3, 3, 3, 3, 3, 3, 3, 3, 3, 3, 3, 3, 3, 3, 3, 3, 3, 3, 3, 3, 3, 3, 3, 3, 3, 3, 3, 3, 3, 3, 3, 3, 3, 3, 3, 3, 3, 3, 3, 3, 3, 3, 3, 3, 3, 3, 3, 3, 3, 3, 3, 3, 3, 3, 3, 3, 3, 3, 3, 3, 3, 3, 3, 3, 3, 3, 3, 3, 3, 3, 3, 3, 3, 3, 1, 1, 1, 1, 1, 1, 1, 1, 1, 1, 1, 3, 3, 3, 3, 3, 3, 3, 3, 3, 3, 3, 3, 3, 3, 3, 3, 3, 3, 3, 3, 3, 3, 3, 3, 3, 3, 3, 3, 3, 3, 3, 3, 3, 3, 3, 3, 3, 3, 3, 3, 3, 3, 3, 3, 3, 3, 1, 1, 1, 1, 1, 1, 1, 1, 1, 1, 1, 1, 1, 1, 1, 1, 1, 1, 1, 3, 3, 3, 3, 3, 3, 3, 3, 3, 3, 3, 3, 3, 3, 3, 3, 3, 3, 3, 3, 3, 3, 3, 3, 3, 3, 3, 3, 3, 3, 3, 3, 3, 3, 3, 3, 3, 3, 3, 3, 3, 3, 3, 3, 3, 3, 3, 3, 3, 3, 3, 3, 3, 3, 3, 3, 3, 3, 3, 3, 3, 3, 3, 3, 3, 3, 3, 3, 3, 3, 3, 3, 3, 3, 3, 3, 3, 3, 3, 3, 3, 3, 3, 3, 3, 3, 3, 3, 3, 3, 3, 3, 3, 3, 3, 3, 3, 3, 3, 3, 3, 3, 3, 3, 3, 3, 3, 3, 3, 3, 3, 3, 3, 3, 3, 3, 3, 3, 3, 3, 3, 3, 3, 3, 3, 3, 3, 3, 3, 3, 3, 3, 3, 3, 3, 3, 3, 3, 3, 3, 3, 3, 3, 3, 3, 3, 3, 3, 3, 3, 3, 3, 1, 1, 1, 1, 1, 1, 1, 1, 3, 3, 3, 3, 3, 3, 3, 3, 3, 3, 3, 3, 3, 3, 3, 3, 3, 3, 3, 3, 3, 3, 3, 3, 3, 3, 3, 3, 0, 0, 0, 0, 0, 3, 3, 3, 3, 3, 3, 3, 3, 3, 3, 3, 3, 3, 3, 3, 3, 3, 3, 3, 3, 3, 3, 3, 3, 3, 3, 3, 3, 3, 3, 3, 3, 3, 3, 3, 3, 3, 3, 3, 3, 3, 3, 3, 3, 3, 3, 3, 3, 3, 3, 0, 0, 0, 0, 0, 0, 0, 0, 0, 0, 0, 3, 3, 3, 3, 3, 3, 3, 3, 3, 3, 3, 3, 3, 3, 3, 3, 3, 3, 3, 3, 3, 3, 3, 3, 3, 3, 3, 3, 3, 3, 3, 3, 3, 3, 3, 3, 3, 3, 3, 3, 3, 3, 3, 3, 3, 3, 3, 3, 3, 3, 3, 3, 3, 3, 3, 3, 3, 3, 3, 3, 3, 0, 0, 0, 0, 0, 0, 0, 0, 0, 0, 0, 0, 0, 3, 3, 3, 3, 3, 3, 3, 3, 3, 3, 3, 3, 3, 3, 3, 3, 3, 3, 3, 3, 3, 3, 3, 3, 3, 3, 3, 3, 3, 1, 1, 1, 1, 1, 1, 1, 1, 1, 1, 1, 1, 1, 1, 1, 3, 3, 3, 3, 3, 3, 1, 1, 1, 1, 1, 1, 3, 3, 3, 3, 3, 3, 3, 3, 3, 1, 1, 1, 1, 1, 1, 1, 1, 3, 3, 3, 3, 3, 3, 3, 3, 3, 3, 3, 3, 3, 3, 3, 3, 3, 3, 3, 3, 0, 0, 0, 0, 0, 0, 0, 1, 1, 1, 1, 3, 3, 3, 3, 3, 3, 3, 3, 3, 3, 3, 1, 1, 1, 1, 1, 1, 1, 1, 1, 1, 1, 3, 3, 3, 3, 3, 3, 3, 3, 3, 3, 3, 3, 3, 3, 3, 3, 3, 3, 3, 3, 3, 1, 1, 1, 1, 1, 1, 3, 3, 3, 3, 3, 3, 3, 3, 3, 3, 3, 3, 3, 3, 3, 3, 3, 3, 3, 3, 1, 1, 1, 1, 1, 1, 3, 3, 3, 3, 3, 3, 3, 3, 3, 3, 3, 3, 3, 3, 3, 3, 3, 3, 3, 3, 3, 3, 3, 3, 3, 3, 3, 3, 3, 3, 3, 3, 3, 3, 3, 3, 3, 3, 3, 3, 3, 3, 3, 3, 3, 3, 3, 3, 3, 3, 3, 3, 3, 3, 3, 3, 3, 3, 3, 3, 3, 3, 3, 3, 3, 3, 3, 3, 3, 3, 3, 0, 0, 0, 0, 0, 0, 0, 0, 0, 0, 0, 1, 1, 1, 1, 1, 1, 1, 1, 1, 1, 1, 3, 3, 3, 3, 3, 1, 1, 1, 1, 1, 1, 1, 1, 3, 3, 3, 3, 3, 1, 1, 1, 1, 1, 1, 1, 1, 1, 1, 1, 1, 1, 1, 1, 1, 3, 3, 3, 3, 3, 3, 3, 3, 3, 3, 3, 3, 3, 3, 3, 3, 3, 3, 3, 3, 3, 3, 3, 3, 3, 3, 3, 3, 3, 3, 3, 3, 3, 3, 3, 3, 3, 3, 3, 3, 3, 3, 3, 3, 3, 3, 3, 3, 3, 3, 3, 3, 3, 3, 3, 3, 3, 3, 3, 3, 3, 3, 3, 3, 3, 3, 3, 3, 3, 3, 3, 3, 3, 3, 3, 3, 3, 3, 3, 3, 3, 3, 3, 3, 3, 3, 3, 3, 3, 3, 3, 3, 3, 3, 3, 3, 3, 0, 0, 0, 0, 0, 0, 0, 0, 3, 3, 3, 3, 3, 3, 3, 3, 3, 3, 3, 3, 3, 3, 3, 3, 3, 3, 3, 3, 3, 3, 3, 3, 3, 3, 3, 3, 3, 3, 3, 3, 3, 3, 3, 3, 3, 3, 3, 3, 3, 3, 3, 3, 3, 3, 3, 3, 3, 3, 0, 0, 0, 0, 0, 0, 0, 0, 0, 0, 0, 0, 0, 0, 0, 3, 3, 3, 3, 3, 3, 3, 3, 3, 3, 3, 3, 3, 3, 3, 3, 3, 3, 3, 3, 3, 3, 3, 3, 3, 3, 3, 3, 3, 3, 3, 0, 0, 0, 0, 0, 0, 0, 0, 3, 3, 3, 3, 3, 3, 3, 0, 0, 0, 0, 0, 0, 0, 3, 3, 3, 3, 3, 3, 3, 3, 3, 3, 3, 3, 3, 3, 1, 1, 1, 1, 3, 3, 3, 3, 3, 3, 3, 3, 3, 3, 3, 3, 3, 3, 3, 3, 3, 3, 3, 3, 3, 3, 3, 3, 3, 0, 0, 0, 0, 0, 0, 0, 0, 0, 0, 0, 0, 0, 0, 0, 3, 3, 3, 3, 3, 3, 3, 3, 0, 0, 0, 0, 0, 0, 0, 3, 3, 3, 3, 3, 3, 0, 0, 0, 0, 0, 0, 0, 1, 1, 1, 1, 1, 1, 1, 1, 1, 1, 1, 1, 1, 2, 2, 2, 2, 2, 2, 2, 2, 3, 3, 3, 3, 3, 3, 3, 3, 1, 1, 1, 1, 1, 1, 1, 1, 1, 1, 1, 1, 0, 0, 0, 0, 0, 0, 0, 3, 3, 3, 3, 3, 3, 3, 3, 3, 3, 3, 3, 1, 1, 1, 1, 1, 1, 1, 1, 3, 3, 3, 3, 3, 3, 3, 3, 3, 3, 3, 3, 3, 3, 3, 3, 3, 3, 3, 3, 0, 0, 0, 0, 0, 0, 0, 0, 3, 3, 3, 3, 3, 3, 3, 3, 3, 3, 3, 3, 3, 3, 3, 3, 3, 3, 3, 3, 3, 3, 3, 3, 3, 3, 3, 3, 3, 3, 3, 3, 3, 2, 2, 2, 2, 2, 2, 2, 2, 3, 3, 3, 3, 3, 0, 0, 0, 0, 0, 0, 0, 0, 0, 3, 3, 3, 3, 3, 3, 3, 3, 3, 3, 3, 3, 3, 3, 3, 3, 3, 3, 3, 3, 3, 3, 3, 3, 3, 3, 3, 3, 3, 3, 3, 3, 3, 3, 3, 3, 3, 3, 3, 3, 3, 3, 3, 3, 3, 3, 3, 3, 3, 3, 3, 3, 3, 3, 3, 3, 3, 3, 1, 1, 1, 1, 1, 1, 1, 1, 1, 1, 1, 1, 3, 3, 3, 3, 3, 3, 3, 3, 3, 3, 3, 3, 3, 3, 3, 3, 3, 3, 3, 3, 3, 3, 3, 3, 3, 3, 3, 3, 3, 3, 3, 3, 3, 3, 3, 3, 3, 3, 3, 3, 3, 3, 3, 3, 3, 3, 3, 3, 3, 3, 3, 3, 3, 3, 3, 3, 3, 3, 3, 3, 3, 3, 3, 3, 3, 3, 3, 3, 3, 3, 3, 3, 3, 3, 3, 3, 3, 3, 3, 3, 3, 3, 3, 3, 3, 3, 3, 3, 3, 3, 3, 3, 1, 1, 1, 1, 1, 1, 1, 1, 1, 1, 1, 1, 1, 1, 3, 3, 3, 3, 3, 3, 3, 3, 3, 3, 3, 3, 3, 3, 3, 1, 1, 1, 1, 1, 1, 1, 1, 3, 3, 3, 3, 3, 3, 1, 1, 1, 1, 1, 1, 1, 1, 1, 1, 1, 1, 1, 1, 3, 3, 3, 3, 3, 3, 3, 3, 3, 3, 3, 3, 3, 3, 3, 3, 3, 3, 3, 3, 3, 3, 3, 3, 3, 3, 3, 3, 3, 3, 3, 3, 3, 3, 3, 3, 3, 3, 3, 3, 3, 3, 3, 3, 3, 3, 3, 3, 3, 3, 3, 3, 3, 3, 3, 3, 3, 3, 3, 3, 3, 3, 3, 3, 3, 3, 3, 3, 3, 3, 1, 1, 1, 1, 1, 1, 1, 1, 3, 3, 3, 3, 3, 3, 3, 3, 3, 3, 3, 2, 2, 2, 2, 2, 3, 3, 3, 3, 3, 3, 3, 3, 3, 3, 3, 3, 3, 3, 3, 3, 3, 3, 3, 3, 3, 3, 3, 3, 3, 3, 3, 3, 3, 3, 0, 0, 0, 0, 0, 0, 0, 0, 0, 0, 0, 3, 3, 3, 3, 3, 3, 3, 3, 3, 3, 3, 3, 3, 3, 3, 3, 3, 3, 3, 3, 3, 3, 3, 3, 3, 3, 3, 3, 3, 3, 3, 3, 3, 3, 3, 3, 3, 3, 3, 3, 3, 3, 3, 3, 3, 3, 3, 3, 3, 3, 3, 3, 3, 3, 3, 3, 3, 3, 3, 3, 3, 3, 3, 3, 3, 3, 3, 3, 3, 3, 3, 3, 3, 3, 3, 3, 3, 3, 3, 3, 3, 3, 3, 3, 3, 3, 0, 0, 0, 0, 3, 3, 3, 3, 3, 3, 3, 3, 3, 3, 3, 3, 3, 3, 3, 3, 3, 3, 3, 3, 3, 3, 3, 3, 3, 3, 3, 3, 3, 3, 3, 3, 3, 3, 3, 3, 3, 3, 3, 3, 3, 3, 3, 3, 3, 3, 3, 1, 1, 1, 1, 1, 1, 1, 1, 1, 3, 3, 3, 3, 3, 3, 3, 3, 3, 3, 3, 3, 3, 3, 3, 3, 3, 3, 3, 3, 3, 3, 3, 3, 3, 3, 3, 3, 3, 3, 3, 3, 3, 3, 3, 3, 3, 3, 3, 3, 3, 3, 3, 3, 3, 3, 3, 3, 3, 3, 3, 3, 0, 0, 0, 0, 0, 0, 0, 3, 3, 3, 3, 3, 3, 1, 1, 1, 1, 1, 1, 1, 1, 3, 3, 3, 3, 3, 3, 3, 3, 3, 3, 3, 3, 3, 3, 3, 3, 3, 3, 3, 3, 3, 3, 3, 3, 3, 3, 3, 3, 3, 3, 3, 3, 3, 3, 3, 3, 3, 3, 3, 3, 3, 3, 3, 3, 3, 3, 3, 3, 3, 3, 3, 3, 3, 3, 3, 3, 3, 3, 3, 3, 0, 0, 0, 0, 0, 0, 0, 0, 0, 0, 0, 0, 3, 3, 3, 3, 3, 3, 3, 3, 3, 3, 3, 3, 3, 3, 3, 3, 3, 3, 3, 2, 2, 2, 2, 2, 2, 2, 1, 1, 1, 1, 1, 1, 1, 3, 3, 3, 3, 3, 3, 3, 3, 3, 3, 3, 3, 3, 3, 3, 3, 3, 3, 3, 3, 3, 3, 3, 3, 2, 2, 2, 2, 2, 2, 2, 2, 2, 2, 2, 3, 3, 3, 3, 3, 3, 3, 3, 3, 3, 3, 3, 3, 3, 3, 3, 3, 3, 3, 3, 3, 3, 3, 3, 3, 3, 3, 3, 3, 3, 3, 3, 3, 3, 3, 3, 3, 3, 3, 3, 3, 3, 3, 3, 1, 1, 1, 1, 1, 3, 3, 3, 3, 3, 3, 3, 3, 3, 3, 3, 3, 3, 3, 3, 3, 3, 3, 3, 3, 3, 3, 3, 0, 0, 0, 0, 0, 0, 0, 3, 3, 3, 3, 3, 3, 3, 3, 3, 3, 3, 3, 3, 3, 3, 3, 3, 3, 3, 2, 2, 2, 2, 2, 2, 2, 3, 3, 3, 3, 3, 3, 3, 3, 3, 3, 3, 3, 3, 3, 3, 3, 3, 3, 3, 3, 3, 3, 3, 3, 3, 3, 3, 3, 3, 3, 1, 1, 1, 1, 1, 1, 1, 1, 1, 1, 1, 3, 3, 3, 3, 3, 3, 1, 1, 1, 1, 1, 1, 0, 0, 0, 0, 0, 0, 0, 0, 3, 3, 3, 3, 3, 3, 3, 1, 1, 1, 1, 1, 1, 1, 1, 1, 3, 3, 3, 3, 3, 3, 3, 3, 3, 3, 3, 3, 3, 3, 3, 3, 3, 3, 3, 3, 3, 3, 3, 3, 3, 3, 3, 3, 3, 3, 3, 1, 1, 1, 1, 1, 1, 1, 1, 1, 1, 1, 1, 1, 1, 3, 3, 3, 3, 3, 3, 3, 3, 3, 3, 3, 3, 3, 3, 3, 3, 3, 3, 3, 3, 3, 3, 3, 3, 3, 3, 3, 3, 3, 3, 3, 3, 3, 3, 3, 3, 3, 3, 3, 3, 3, 3, 3, 3, 3, 3, 3, 3, 3, 3, 3, 3, 3, 3, 3, 3, 3, 3, 3, 3, 3, 3, 3, 3, 3, 3, 3, 3, 3, 3, 3, 3, 3, 3, 3, 3, 3, 3, 3, 3, 3, 3, 3, 3, 3, 1, 1, 1, 1, 1, 1, 1, 1, 1, 1, 1, 1, 3, 3, 3, 3, 3, 3, 3, 3, 3, 3, 3, 3, 3, 3, 3, 3, 3, 3, 3, 3, 3, 3, 3, 3, 3, 3, 3, 3, 3, 3, 3, 3, 3, 3, 3, 3, 1, 1, 1, 1, 1, 1, 1, 1, 1, 3, 3, 3, 3, 3, 3, 3, 3, 3, 3, 3, 3, 3, 3, 3, 3, 3, 3, 3, 3, 3, 3, 3, 3, 3, 3, 3, 3, 3, 3, 3, 3, 3, 3, 3, 3, 3, 3, 3, 3, 1, 1, 1, 1, 1, 1, 1, 1, 3, 3, 3, 3, 3, 3, 3, 3, 3, 3, 3, 3, 3, 1, 1, 1, 1, 1, 1, 1, 1, 1, 1, 1, 1, 1, 1, 1, 3, 3, 3, 3, 3, 3, 3, 3, 3, 3, 3, 3, 3, 3, 3, 3, 3, 3, 3, 3, 3, 3, 3, 3, 3, 3, 3, 3, 3, 3, 3, 3, 1, 1, 1, 1, 1, 1, 1, 1, 1, 1, 1, 1, 3, 3, 3, 3, 0, 0, 0, 0, 0, 1, 1, 1, 1, 1, 1, 1, 1, 3, 3, 3, 3, 3, 3, 1, 1, 1, 1, 3, 3, 3, 3, 3, 3, 3, 1, 1, 1, 1, 1, 1, 1, 1, 1, 1, 1, 1, 1, 1, 1, 1, 1, 1, 1, 1, 1, 1, 1, 1, 1, 1, 1, 1, 1, 1, 3, 3, 3, 3, 3, 3, 3, 3, 3, 3, 3, 3, 3, 3, 3, 3, 3, 3, 3, 3, 3, 3, 3, 3, 3, 1, 1, 1, 1, 1, 1, 1, 1, 1, 1, 1, 1, 1, 1, 1, 1, 1, 1, 1, 1, 1, 1, 1, 1, 1, 1, 1, 1, 1, 1, 1, 1, 3, 3, 3, 3, 3, 3, 3, 3, 3, 3, 3, 3, 3, 3, 3, 3, 3, 3, 3, 3, 3, 3, 3, 3, 3, 3, 3, 3, 3, 3, 3, 3, 1, 1, 1, 1, 1, 1, 3, 3, 3, 3, 3, 3, 0, 0, 0, 0, 0, 0, 0, 0, 0, 0, 3, 3, 3, 3, 3, 3, 3, 3, 3, 3, 3, 3, 3, 3, 3, 3, 3, 1, 1, 1, 1, 1, 1, 1, 1, 1, 1, 1, 1, 1, 1, 3, 3, 3, 3, 3, 3, 3, 3, 3, 3, 3, 3, 3, 3, 3, 3, 3, 3, 1, 1, 1, 1, 1, 1, 1, 1, 1, 1, 1, 1, 1, 1, 1, 1, 1, 1, 1, 1, 1, 3, 3, 3, 3, 3, 3, 3, 1, 1, 1, 1, 1, 1, 1, 1, 1, 1, 1, 1, 1, 1, 1, 3, 3, 3, 3, 3, 3, 3, 3, 3, 3, 3, 1, 1, 1, 1, 1, 1, 1, 1, 1, 3, 3, 3, 3, 3, 3, 3, 3, 3, 3, 3, 3, 1, 1, 1, 1, 1, 1, 1, 1, 1, 1, 1, 1, 1, 1, 1, 1, 1, 1, 1, 1, 1, 1, 1, 1, 1, 3, 3, 3, 3, 3, 3, 3, 3, 3, 3, 3, 3, 3, 3, 3, 3, 3, 3, 3, 3, 3, 3, 3, 3, 3, 3, 3, 3, 3, 3, 3, 1, 1, 1, 1, 1, 1, 1, 1, 3, 3, 3, 3, 3, 3, 1, 1, 1, 1, 1, 3, 3, 3, 3, 3, 3, 3, 3, 3, 3, 3, 3, 3, 3, 3, 3, 3, 3, 3, 3, 0, 0, 0, 0, 0, 0, 0, 0, 1, 1, 1, 1, 1, 1, 1, 1, 3, 3, 3, 3, 3, 3, 3, 3, 1, 1, 1, 1, 1, 1, 1, 1, 1, 1, 1, 1, 1, 1, 1, 0, 0, 0, 0, 0, 0, 0, 0, 0, 0, 0, 3, 3, 3, 3, 3, 3, 3, 3, 3, 3, 3, 3, 3, 3, 3, 3, 3, 3, 3, 0, 0, 0, 0, 1, 1, 1, 1, 1, 1, 1, 1, 3, 3, 3, 3, 3, 3, 3, 3, 3, 3, 3, 3, 3, 3, 3, 3, 3, 3, 3, 3, 3, 3, 1, 1, 1, 1, 1, 1, 1, 1, 1, 1, 1, 3, 3, 3, 3, 3, 3, 3, 3, 3, 3, 3, 3, 3, 3, 3, 3, 3, 3, 3, 3, 3, 3, 3, 3, 3, 3, 1, 1, 1, 1, 3, 3, 3, 3, 3, 3, 3, 3, 3, 3, 3, 3, 3, 3, 3, 3, 3, 3, 3, 3, 3, 3, 3, 3, 3, 3, 3, 3, 3, 3, 3, 3, 3, 0, 0, 0, 0, 0, 1, 1, 1, 1, 1, 1, 0, 0, 0, 0, 0, 0, 3, 3, 3, 3, 3, 3, 3, 3, 3, 3, 3, 3, 3, 3, 3, 3, 3, 3, 3, 3, 3, 3, 3, 3, 3, 3, 3, 3, 3, 3, 3, 3, 3, 3, 3, 3, 3, 3, 3, 3, 3, 3, 3, 3, 3, 3, 3, 3, 3, 3, 3, 3, 3, 3, 3, 3, 3, 3, 3, 3, 3, 3, 3, 3, 3, 3, 3, 3, 3, 3, 3, 3, 3, 3, 3, 3, 3, 3, 3, 3, 3, 3, 3, 3, 3, 3, 3, 3, 3, 3, 3, 3, 3, 3, 3, 3, 1, 1, 1, 1, 1, 1, 1, 1, 3, 3, 3, 3, 3, 3, 3, 3, 3, 3, 3, 3, 3, 3, 3, 3, 3, 3, 3, 3, 3, 3, 3, 3, 3, 1, 1, 1, 1, 1, 3, 3, 3, 3, 3, 3, 3, 3, 3, 3, 3, 3, 3, 3, 3, 3, 3, 3, 3, 3, 3, 3, 3, 3, 3, 3, 3, 3, 3, 3, 3, 3, 1, 1, 1, 1, 1, 1, 1, 1, 1, 1, 3, 3, 3, 3, 3, 3, 3, 3, 3, 3, 3, 3, 3, 3, 3, 3, 3, 3, 3, 3, 3, 3, 3, 3, 3, 3, 1, 1, 1, 1, 1, 1, 1, 1, 1, 1, 1, 1, 1, 1, 1, 1, 1, 1, 1, 3, 3, 3, 3, 3, 3, 3, 3, 3, 3, 3, 3, 3, 3, 3, 3, 3, 3, 3, 3, 3, 3, 3, 3, 3, 3, 3, 3, 3, 3, 3, 3, 3, 3, 3, 3, 3, 3, 3, 3, 3, 3, 3, 0, 0, 0, 0, 0, 0, 0, 0, 0, 3, 3, 3, 3, 3, 3, 3, 3, 3, 3, 3, 3, 3, 3, 3, 2, 2, 2, 2, 2, 2, 2, 1, 1, 1, 1, 3, 3, 3, 3, 3, 3, 3, 3, 3, 3, 3, 3, 3, 3, 3, 3, 3, 3, 3, 3, 3, 3, 3, 3, 3, 3, 3, 3, 3, 3, 3, 3, 3, 3, 3, 3, 3, 3, 0, 0, 0, 0, 0, 0, 0, 0, 0, 0, 0, 0, 0, 0, 0, 0, 0, 0, 0, 0, 0, 3, 3, 3, 3, 3, 3, 3, 3, 3, 3, 3, 3, 3, 3, 3, 3, 3, 0, 0, 0, 0, 0, 0, 1, 1, 1, 1, 1, 1, 1, 1, 1, 1, 1, 0, 0, 0, 0, 0, 0, 0, 0, 0, 3, 3, 3, 3, 3, 3, 3, 3, 3, 3, 3, 3, 3, 3, 3, 3, 3, 1, 1, 1, 1, 1, 1, 1, 1, 3, 3, 3, 3, 3, 3, 3, 3, 3, 3, 3, 3, 3, 3, 3, 3, 3, 3, 3, 3, 3, 3, 3, 3, 3, 3, 3, 3, 3, 3, 3, 3, 3, 3, 3, 3, 3, 3, 3, 3, 3, 3, 3, 3, 3, 3, 3, 3, 3, 3, 3, 3, 3, 3, 3, 3, 3, 3, 3, 3, 3, 3, 3, 3, 3, 1, 1, 1, 1, 1, 1, 1, 1, 1, 1, 1, 3, 3, 3, 3, 3, 3, 1, 1, 1, 1, 1, 1, 1, 1, 1, 3, 3, 3, 3, 3, 3, 3, 3, 3, 3, 3, 3, 3, 3, 3, 3, 3, 3, 3, 3, 3, 3, 3, 3, 3, 3, 3, 3, 3, 3, 3, 3, 3, 3, 3, 3, 3, 3, 3, 3, 3, 3, 3, 3, 3, 3, 3, 3, 3, 0, 0, 0, 0, 0, 0, 3, 3, 3, 3, 3, 3, 3, 3, 0, 0, 0, 0, 0, 0, 0, 0, 0, 0, 0, 3, 3, 3, 3, 3, 3, 3, 3, 3, 3, 3, 3, 3, 3, 3, 3, 3, 3, 3, 0, 0, 0, 0, 0, 0, 0, 0, 3, 3, 3, 3, 3, 3, 3, 3, 3, 3, 3, 3, 3, 3, 3, 3, 3, 3, 3, 3, 3, 3, 3, 3, 3, 3, 3, 3, 3, 3, 3, 3, 3, 3, 3, 3, 3, 3, 3, 3, 3, 3, 3, 3, 3, 3, 3, 3, 3, 3, 3, 3, 3, 3, 3, 3, 3, 1, 1, 1, 1, 1, 1, 1, 1, 1, 1, 1, 1, 1, 1, 1, 1, 1, 1, 1, 1, 1, 1, 1, 1, 3, 3, 3, 3, 3, 3, 3, 3, 1, 1, 1, 1, 3, 3, 3, 3, 3, 3, 1, 1, 1, 1, 1, 1, 1, 1, 1, 3, 3, 3, 3, 3, 3, 3, 3, 3, 3, 3, 3, 3, 3, 1, 1, 1, 1, 1, 1, 1, 3, 3, 3, 3, 3, 3, 3, 3, 3, 3, 3, 3, 3, 3, 3, 3, 3, 3, 3, 3, 3, 3, 3, 3, 3, 3, 3, 3, 3, 3, 3, 3, 3, 3, 3, 1, 1, 1, 1, 1, 1, 1, 1, 1, 1, 1, 1, 1, 1, 1, 1, 1, 1, 1, 1, 1, 1, 3, 3, 3, 3, 3, 3, 3, 3, 3, 3, 3, 3, 3, 3, 3, 3, 3, 3, 3, 3, 3, 3, 3, 3, 3, 3, 3, 3, 3, 3, 3, 3, 3, 3, 3, 3, 3, 3, 3, 3, 3, 3, 3, 3, 3, 3, 3, 3, 3, 3, 3, 3, 3, 3, 3, 3, 3, 3, 3, 3, 3, 3, 3, 3, 3, 3, 3, 3, 3, 3, 3, 3, 3, 3, 3, 3, 3, 0, 0, 0, 0, 0, 0, 0, 3, 3, 3, 3, 3, 3, 3, 3, 3, 3, 3, 1, 1, 1, 1, 1, 1, 1, 1, 1, 1, 1, 1, 1, 1, 1, 1, 1, 1, 1, 1, 1, 1, 1, 1, 1, 1, 1, 1, 3, 3, 3, 3, 3, 3, 3, 3, 3, 3, 3, 3, 3, 3, 3, 3, 3, 1, 1, 1, 1, 1, 1, 1, 1, 1, 3, 3, 3, 3, 3, 3, 3, 3, 3, 3, 0, 0, 0, 0, 0, 0, 0, 0, 3, 3, 3, 3, 3, 3, 3, 3, 3, 3, 3, 3, 3, 3, 1, 1, 1, 1, 1, 1, 1, 1, 1, 1, 1, 3, 3, 3, 3, 3, 3, 3, 3, 3, 3, 3, 3, 3, 2, 2, 2, 2, 2, 2, 2, 3, 3, 3, 3, 3, 3, 3, 3, 3, 3, 3, 3, 3, 3, 1, 1, 1, 1, 1, 0, 0, 0, 0, 0, 0, 0, 3, 3, 3, 3, 3, 3, 3, 3, 3, 3, 3, 3, 3, 3, 3, 3, 3, 3, 3, 3, 3, 3, 3, 3, 3, 3, 3, 3, 3, 3, 3, 3, 3, 3, 3, 3, 3, 3, 3, 3, 3, 3, 3, 3, 3, 3, 3, 3, 3, 3, 3, 3, 3, 3, 3, 3, 3, 3, 3, 3, 3, 3, 3, 3, 3, 3, 3, 3, 3, 3, 3, 3, 3, 3, 3, 3, 3, 3, 3, 3, 3, 3, 3, 3, 3, 3, 3, 3, 3, 3, 3, 3, 3, 3, 3, 3, 3, 3, 3, 3, 3, 3, 3, 3, 3, 3, 3, 3, 3, 3, 3, 3, 3, 3, 1, 1, 1, 1, 1, 1, 3, 3, 3, 3, 3, 3, 3, 3, 3, 3, 3]\n"
     ]
    }
   ],
   "source": [
    "# Create a bfactor array by going through the pdb_df dataframe, for every RESIDUESEQ, get the BFACTOR value from the dictionary.\n",
    "bfactor_array = []\n",
    "for index, row in pdb_df.iterrows():\n",
    "    residue_number = row['RESIDUESEQ']\n",
    "    bfactor = b_factor_dict[residue_number]\n",
    "    bfactor_array.append(bfactor)\n",
    "\n",
    "for i in bfactor_array:\n",
    "    if i == None:\n",
    "        # change the None values to 3\n",
    "        bfactor_array[bfactor_array.index(i)] = 3\n",
    "        \n",
    "print(bfactor_array)"
   ],
   "metadata": {
    "collapsed": false,
    "ExecuteTime": {
     "end_time": "2023-11-15T15:40:14.402000300Z",
     "start_time": "2023-11-15T15:40:13.554781400Z"
    }
   },
   "id": "5c29191dfaec5bb0"
  },
  {
   "cell_type": "code",
   "execution_count": 227,
   "outputs": [],
   "source": [
    "# # save bfactor array to a csv file\n",
    "# bfactor_df = pd.DataFrame({'Bfactor': bfactor_array})\n",
    "# bfactor_df.to_csv(f'C:\\\\Users\\\\InbarBlech\\\\PycharmProjects\\\\Thesis\\\\data_analysis\\\\{gene}_data_spread_in_3D.csv')"
   ],
   "metadata": {
    "collapsed": false,
    "ExecuteTime": {
     "end_time": "2023-11-15T15:40:14.447104200Z",
     "start_time": "2023-11-15T15:40:14.403990600Z"
    }
   },
   "id": "cdad9f6a7305729a"
  },
  {
   "cell_type": "code",
   "execution_count": 228,
   "outputs": [
    {
     "ename": "AttributeError",
     "evalue": "'dict_values' object has no attribute 'count'",
     "output_type": "error",
     "traceback": [
      "\u001B[1;31m---------------------------------------------------------------------------\u001B[0m",
      "\u001B[1;31mAttributeError\u001B[0m                            Traceback (most recent call last)",
      "\u001B[1;32m~\\AppData\\Local\\Temp\\ipykernel_20936\\2796881716.py\u001B[0m in \u001B[0;36m<module>\u001B[1;34m\u001B[0m\n\u001B[0;32m      1\u001B[0m \u001B[1;31m# get amount of each value 0, 1, 2, 3 in the bfactor dictionary. For example, if there's 10 residues with value 0, percentage_0 will be 10\u001B[0m\u001B[1;33m\u001B[0m\u001B[1;33m\u001B[0m\u001B[0m\n\u001B[1;32m----> 2\u001B[1;33m \u001B[0mpercentage_0\u001B[0m \u001B[1;33m=\u001B[0m \u001B[0mb_factor_dict\u001B[0m\u001B[1;33m.\u001B[0m\u001B[0mvalues\u001B[0m\u001B[1;33m(\u001B[0m\u001B[1;33m)\u001B[0m\u001B[1;33m.\u001B[0m\u001B[0mcount\u001B[0m\u001B[1;33m(\u001B[0m\u001B[1;36m0\u001B[0m\u001B[1;33m)\u001B[0m\u001B[1;33m\u001B[0m\u001B[1;33m\u001B[0m\u001B[0m\n\u001B[0m\u001B[0;32m      3\u001B[0m \u001B[0mpercentage_1\u001B[0m \u001B[1;33m=\u001B[0m \u001B[0mb_factor_dict\u001B[0m\u001B[1;33m.\u001B[0m\u001B[0mvalues\u001B[0m\u001B[1;33m(\u001B[0m\u001B[1;33m)\u001B[0m\u001B[1;33m.\u001B[0m\u001B[0mcount\u001B[0m\u001B[1;33m(\u001B[0m\u001B[1;36m1\u001B[0m\u001B[1;33m)\u001B[0m\u001B[1;33m\u001B[0m\u001B[1;33m\u001B[0m\u001B[0m\n\u001B[0;32m      4\u001B[0m \u001B[0mpercentage_2\u001B[0m \u001B[1;33m=\u001B[0m \u001B[0mb_factor_dict\u001B[0m\u001B[1;33m.\u001B[0m\u001B[0mvalues\u001B[0m\u001B[1;33m(\u001B[0m\u001B[1;33m)\u001B[0m\u001B[1;33m.\u001B[0m\u001B[0mcount\u001B[0m\u001B[1;33m(\u001B[0m\u001B[1;36m2\u001B[0m\u001B[1;33m)\u001B[0m\u001B[1;33m\u001B[0m\u001B[1;33m\u001B[0m\u001B[0m\n\u001B[0;32m      5\u001B[0m \u001B[0mpercentage_3\u001B[0m \u001B[1;33m=\u001B[0m \u001B[0mb_factor_dict\u001B[0m\u001B[1;33m.\u001B[0m\u001B[0mvalues\u001B[0m\u001B[1;33m(\u001B[0m\u001B[1;33m)\u001B[0m\u001B[1;33m.\u001B[0m\u001B[0mcount\u001B[0m\u001B[1;33m(\u001B[0m\u001B[1;36m3\u001B[0m\u001B[1;33m)\u001B[0m\u001B[1;33m\u001B[0m\u001B[1;33m\u001B[0m\u001B[0m\n",
      "\u001B[1;31mAttributeError\u001B[0m: 'dict_values' object has no attribute 'count'"
     ]
    }
   ],
   "source": [
    "# get amount of each value 0, 1, 2, 3 in the bfactor dictionary. For example, if there's 10 residues with value 0, percentage_0 will be 10\n",
    "percentage_0 = b_factor_dict.values().count(0)\n",
    "percentage_1 = b_factor_dict.values().count(1)\n",
    "percentage_2 = b_factor_dict.values().count(2)\n",
    "percentage_3 = b_factor_dict.values().count(3)\n",
    "\n",
    "# print count of each value 0, 1, 2, 3 in the bfactor array\n",
    "print(f\"Data for gene: {gene}\")\n",
    "print(f\"Number of all benign variants residues: {bfactor_array.count(0)}\")\n",
    "print(f\"Number of all benign variants residues: {bfactor_array.count(1)}\")\n",
    "print(f\"Number of mixed variants residues: {bfactor_array.count(2)}\")\n",
    "print(f\"Number of no data residues: {bfactor_array.count(3)}\")"
   ],
   "metadata": {
    "collapsed": false,
    "ExecuteTime": {
     "end_time": "2023-11-15T15:40:14.465219300Z",
     "start_time": "2023-11-15T15:40:14.422613800Z"
    }
   },
   "id": "3a44af314e03822a"
  },
  {
   "cell_type": "code",
   "execution_count": null,
   "outputs": [],
   "source": [
    "# Create a graph showing the percentage of each value in the bfactor dictionary\n",
    "labels = ['Benign', 'Pathogenic', 'Mixed', 'No data']\n",
    "sizes = [percentage_0, percentage_1, percentage_2, percentage_3]\n",
    "colors = ['gold', 'yellowgreen', 'lightcoral', 'lightskyblue']\n",
    "explode = (0.1, 0, 0, 0)  # explode 1st slice\n",
    "\n",
    "plt.pie(sizes, labels=labels, colors=colors,\n",
    "autopct='%1.1f%%', shadow=True, startangle=140)\n",
    "\n",
    "plt.title(f'Percentage of residues of type in model data for {gene}')\n",
    "# add title for each value\n",
    "# plt.legend(labels, loc=\"best\")\n",
    "plt.axis('equal')\n",
    "plt.show()"
   ],
   "metadata": {
    "collapsed": false,
    "ExecuteTime": {
     "start_time": "2023-11-15T15:40:14.452039500Z"
    }
   },
   "id": "f5a3aeeafeeb8955"
  },
  {
   "cell_type": "code",
   "execution_count": null,
   "outputs": [],
   "source": [],
   "metadata": {
    "collapsed": false,
    "ExecuteTime": {
     "start_time": "2023-11-15T15:40:14.454085600Z"
    }
   },
   "id": "c0c8b227f3d30c6e"
  }
 ],
 "metadata": {
  "kernelspec": {
   "display_name": "Python 3",
   "language": "python",
   "name": "python3"
  },
  "language_info": {
   "codemirror_mode": {
    "name": "ipython",
    "version": 2
   },
   "file_extension": ".py",
   "mimetype": "text/x-python",
   "name": "python",
   "nbconvert_exporter": "python",
   "pygments_lexer": "ipython2",
   "version": "2.7.6"
  }
 },
 "nbformat": 4,
 "nbformat_minor": 5
}
