{
 "cells": [
  {
   "cell_type": "code",
   "execution_count": 252,
   "outputs": [],
   "source": [
    "import pandas as pd\n",
    "from data_retrievel_and_feature_extraction import uniprot_info as uni\n",
    "from Bio.PDB import PDBParser"
   ],
   "metadata": {
    "collapsed": false,
    "ExecuteTime": {
     "end_time": "2024-02-20T09:11:42.825567700Z",
     "start_time": "2024-02-20T09:11:42.794197300Z"
    }
   },
   "id": "fd5d556ebb88b4cd"
  },
  {
   "cell_type": "code",
   "execution_count": 253,
   "outputs": [
    {
     "data": {
      "text/plain": "          gene variant  prediction  reality\n0       POLR1D   L111P           1        1\n1       POLR1D    T50I           1        1\n2       POLR1D    L55V           1        1\n3       POLR1D    G99S           1        1\n4       POLR1D    C68W           1        1\n...        ...     ...         ...      ...\n2306  SERPINB6   V346I           0        0\n2307  SERPINB6   G153S           1        0\n2308  SERPINB6    M90V           1        0\n2309      BDP1   V275I           0        0\n2310       MGP     A8V           1        0\n\n[2311 rows x 4 columns]",
      "text/html": "<div>\n<style scoped>\n    .dataframe tbody tr th:only-of-type {\n        vertical-align: middle;\n    }\n\n    .dataframe tbody tr th {\n        vertical-align: top;\n    }\n\n    .dataframe thead th {\n        text-align: right;\n    }\n</style>\n<table border=\"1\" class=\"dataframe\">\n  <thead>\n    <tr style=\"text-align: right;\">\n      <th></th>\n      <th>gene</th>\n      <th>variant</th>\n      <th>prediction</th>\n      <th>reality</th>\n    </tr>\n  </thead>\n  <tbody>\n    <tr>\n      <th>0</th>\n      <td>POLR1D</td>\n      <td>L111P</td>\n      <td>1</td>\n      <td>1</td>\n    </tr>\n    <tr>\n      <th>1</th>\n      <td>POLR1D</td>\n      <td>T50I</td>\n      <td>1</td>\n      <td>1</td>\n    </tr>\n    <tr>\n      <th>2</th>\n      <td>POLR1D</td>\n      <td>L55V</td>\n      <td>1</td>\n      <td>1</td>\n    </tr>\n    <tr>\n      <th>3</th>\n      <td>POLR1D</td>\n      <td>G99S</td>\n      <td>1</td>\n      <td>1</td>\n    </tr>\n    <tr>\n      <th>4</th>\n      <td>POLR1D</td>\n      <td>C68W</td>\n      <td>1</td>\n      <td>1</td>\n    </tr>\n    <tr>\n      <th>...</th>\n      <td>...</td>\n      <td>...</td>\n      <td>...</td>\n      <td>...</td>\n    </tr>\n    <tr>\n      <th>2306</th>\n      <td>SERPINB6</td>\n      <td>V346I</td>\n      <td>0</td>\n      <td>0</td>\n    </tr>\n    <tr>\n      <th>2307</th>\n      <td>SERPINB6</td>\n      <td>G153S</td>\n      <td>1</td>\n      <td>0</td>\n    </tr>\n    <tr>\n      <th>2308</th>\n      <td>SERPINB6</td>\n      <td>M90V</td>\n      <td>1</td>\n      <td>0</td>\n    </tr>\n    <tr>\n      <th>2309</th>\n      <td>BDP1</td>\n      <td>V275I</td>\n      <td>0</td>\n      <td>0</td>\n    </tr>\n    <tr>\n      <th>2310</th>\n      <td>MGP</td>\n      <td>A8V</td>\n      <td>1</td>\n      <td>0</td>\n    </tr>\n  </tbody>\n</table>\n<p>2311 rows × 4 columns</p>\n</div>"
     },
     "execution_count": 253,
     "metadata": {},
     "output_type": "execute_result"
    }
   ],
   "source": [
    "# Gene\n",
    "gene = \"TECTA\"\n",
    "gene_len = uni.get_sequence_length(gene)\n",
    "\n",
    "# File names\n",
    "prediction_vs_real_path = \"C:\\\\Users\\\\InbarBlech\\\\PycharmProjects\\\\Thesis\\\\predictions_vs_real\\\\globular_proteins\\\\predictions_vs_real_globular_proteins.csv\"\n",
    "pathogenic_b_factor_output_path = f\"C:\\\\Users\\\\InbarBlech\\\\PycharmProjects\\\\Thesis\\\\predictions_vs_real\\\\globular_proteins\\\\b_factor\\\\{gene}_pathogenic_b_factor_output_globular_proteins.csv\"\n",
    "benign_b_factor_output_path = f\"C:\\\\Users\\\\InbarBlech\\\\PycharmProjects\\\\Thesis\\\\predictions_vs_real\\\\globular_proteins\\\\b_factor\\\\{gene}_benign_b_factor_output_globular_proteins.csv\"\n",
    "pdb_file_path = f\"C:\\\\Users\\\\InbarBlech\\\\PycharmProjects\\\\Thesis\\\\predictions_vs_real\\\\globular_proteins\\\\pdb_files\\\\{gene}.pdb\"\n",
    "\n",
    "# Load the predictions_vs_real data\n",
    "predictions_vs_real_df = pd.read_csv(prediction_vs_real_path)\n",
    "predictions_vs_real_df\n"
   ],
   "metadata": {
    "collapsed": false,
    "ExecuteTime": {
     "end_time": "2024-02-20T09:11:43.642547500Z",
     "start_time": "2024-02-20T09:11:42.809851300Z"
    }
   },
   "id": "7106b313c61e4139"
  },
  {
   "cell_type": "code",
   "execution_count": 254,
   "outputs": [
    {
     "name": "stderr",
     "output_type": "stream",
     "text": [
      "C:\\Users\\InbarBlech\\AppData\\Local\\Temp\\ipykernel_22692\\708265304.py:5: SettingWithCopyWarning: \n",
      "A value is trying to be set on a copy of a slice from a DataFrame.\n",
      "Try using .loc[row_indexer,col_indexer] = value instead\n",
      "\n",
      "See the caveats in the documentation: https://pandas.pydata.org/pandas-docs/stable/user_guide/indexing.html#returning-a-view-versus-a-copy\n",
      "  gene_predictions[\"position\"] = gene_predictions[\"variant\"].apply(lambda x: int(x[1:-1]))\n",
      "C:\\Users\\InbarBlech\\AppData\\Local\\Temp\\ipykernel_22692\\708265304.py:8: SettingWithCopyWarning: \n",
      "A value is trying to be set on a copy of a slice from a DataFrame.\n",
      "Try using .loc[row_indexer,col_indexer] = value instead\n",
      "\n",
      "See the caveats in the documentation: https://pandas.pydata.org/pandas-docs/stable/user_guide/indexing.html#returning-a-view-versus-a-copy\n",
      "  gene_predictions[\"TP/FP/FN/TN\"] = gene_predictions.apply(lambda x: \"TP\" if x[\"prediction\"] == 1 and x[\"reality\"] == 1 else \"FP\" if x[\"prediction\"] == 1 and x[\"reality\"] == 0 else \"FN\" if x[\"prediction\"] == 0 and x[\"reality\"] == 1 else \"TN\", axis=1)\n"
     ]
    }
   ],
   "source": [
    "# Extract the data for the gene\n",
    "gene_predictions = predictions_vs_real_df[predictions_vs_real_df[\"gene\"] == gene]\n",
    "\n",
    "# Add column for position of the variant, according to the \"variant\" column, which is in the format \"L111P\"\n",
    "gene_predictions[\"position\"] = gene_predictions[\"variant\"].apply(lambda x: int(x[1:-1]))\n",
    "\n",
    "# Add column that contains TP/FP/FN/TN according to the prediction and the reality columns.\n",
    "gene_predictions[\"TP/FP/FN/TN\"] = gene_predictions.apply(lambda x: \"TP\" if x[\"prediction\"] == 1 and x[\"reality\"] == 1 else \"FP\" if x[\"prediction\"] == 1 and x[\"reality\"] == 0 else \"FN\" if x[\"prediction\"] == 0 and x[\"reality\"] == 1 else \"TN\", axis=1)\n",
    "\n",
    "gene_prediction_pathogenic = gene_predictions[gene_predictions[\"reality\"] == 1]\n",
    "gene_prediction_benign = gene_predictions[gene_predictions[\"reality\"] == 0]"
   ],
   "metadata": {
    "collapsed": false,
    "ExecuteTime": {
     "end_time": "2024-02-20T09:11:43.644545100Z",
     "start_time": "2024-02-20T09:11:43.393208200Z"
    }
   },
   "id": "2d416bfd3c3d4a76"
  },
  {
   "cell_type": "code",
   "execution_count": 255,
   "outputs": [],
   "source": [
    "\"\"\"\n",
    "Create 2 dataframes (benign/pathogenic) that contains values for each position in the gene, according to the TP/FP/FN/TN column. The values will be determined in this way:\n",
    "For pathogenic variants:\n",
    "- TP: 1\n",
    "- FN: 0\n",
    "- No data, : 3\n",
    "For benign variants:\n",
    "- TN: 1\n",
    "- FP: 0\n",
    "- No data: 3\n",
    "# \"\"\"\n",
    "benign_b_factor = pd.DataFrame(columns=[\"position\", \"b_factor\"])\n",
    "pathogenic_b_factor = pd.DataFrame(columns=[\"position\", \"b_factor\"])\n",
    "\n",
    "# For each position in the gene, check if there is data for this position, and insert the value to the right dataframe.\n",
    "for position in range(1, gene_len+1):\n",
    "    # Check if there is data for this position in the gene_prediction_pathogenic dataframe\n",
    "    if position in gene_prediction_pathogenic[\"position\"].values:\n",
    "        # Check how many instances of this position are there\n",
    "        position_data = gene_prediction_pathogenic[gene_prediction_pathogenic[\"position\"] == position]\n",
    "        # If there is only one instance, take the value of the TP/FP/FN/TN column\n",
    "        if len(position_data) == 1:\n",
    "            if position_data[\"TP/FP/FN/TN\"].values[0] == \"TP\":\n",
    "                # Insert the position and the b_factor value to the pathogenic_b_factor dataframe, without \"append\" method\n",
    "                pathogenic_b_factor.loc[pathogenic_b_factor.shape[0]] = [position, 1]\n",
    "            elif position_data[\"TP/FP/FN/TN\"].values[0] == \"FN\":\n",
    "                pathogenic_b_factor.loc[pathogenic_b_factor.shape[0]] = [position, 0]\n",
    "        # If there is more than one instance, check if the predictions are the same, if so- take this value of the TP/FP/FN/TN column. If they are not the same, append \"2\".\n",
    "        else:\n",
    "            # if all the values are the same, take the value of the TP/FP/FN/TN column, and for the other dataframe insert \"3\" (no data)\n",
    "            if len(position_data[\"TP/FP/FN/TN\"].unique()) == 1:\n",
    "                if position_data[\"TP/FP/FN/TN\"].values[0] == \"TP\":\n",
    "                    pathogenic_b_factor.loc[pathogenic_b_factor.shape[0]] = [position, 1]\n",
    "                elif position_data[\"TP/FP/FN/TN\"].values[0] == \"FN\":\n",
    "                    pathogenic_b_factor.loc[pathogenic_b_factor.shape[0]] = [position, 0]\n",
    "            # If the values are not the same, insert \"2\" for mulitple values\n",
    "            else:\n",
    "                pathogenic_b_factor.loc[pathogenic_b_factor.shape[0]] = [position, 2]       \n",
    "    # If there is no data for this position, insert \"3\" for no data\n",
    "    else:\n",
    "        pathogenic_b_factor.loc[pathogenic_b_factor.shape[0]] = [position, 3]\n",
    "        \n",
    "# For each position in the gene, check if there is data for this position, and insert the value to the right dataframe.\n",
    "for position in range(1, gene_len+1):\n",
    "    # Check if there is data for this position in the gene_prediction_pathogenic dataframe\n",
    "    if position in gene_prediction_benign[\"position\"].values:\n",
    "        # Check how many instances of this position are there\n",
    "        position_data = gene_prediction_benign[gene_prediction_benign[\"position\"] == position]\n",
    "        # If there is only one instance, take the value of the TP/FP/FN/TN column\n",
    "        if len(position_data) == 1:\n",
    "            if position_data[\"TP/FP/FN/TN\"].values[0] == \"TN\":\n",
    "                # Insert the position and the b_factor value to the pathogenic_b_factor dataframe, without \"append\" method\n",
    "                benign_b_factor.loc[benign_b_factor.shape[0]] = [position, 1]\n",
    "            elif position_data[\"TP/FP/FN/TN\"].values[0] == \"FP\":\n",
    "                benign_b_factor.loc[benign_b_factor.shape[0]] = [position, 0]\n",
    "        # If there is more than one instance, check if the predictions are the same, if so- take this value of the TP/FP/FN/TN column. If they are not the same, append \"2\".\n",
    "        else:\n",
    "            # if all the values are the same, take the value of the TP/FP/FN/TN column, and for the other dataframe insert \"3\" (no data)\n",
    "            if len(position_data[\"TP/FP/FN/TN\"].unique()) == 1:\n",
    "                if position_data[\"TP/FP/FN/TN\"].values[0] == \"TN\":\n",
    "                    benign_b_factor.loc[benign_b_factor.shape[0]] = [position, 1]\n",
    "                elif position_data[\"TP/FP/FN/TN\"].values[0] == \"FP\":\n",
    "                    benign_b_factor.loc[benign_b_factor.shape[0]] = [position, 0]\n",
    "            # If the values are not the same, insert \"2\" for mulitple values\n",
    "            else:\n",
    "                benign_b_factor.loc[benign_b_factor.shape[0]] = [position, 2]       \n",
    "    # If there is no data for this position, insert \"3\" for no data\n",
    "    else:\n",
    "        benign_b_factor.loc[benign_b_factor.shape[0]] = [position, 3]"
   ],
   "metadata": {
    "collapsed": false,
    "ExecuteTime": {
     "end_time": "2024-02-20T09:11:47.545278300Z",
     "start_time": "2024-02-20T09:11:43.393208200Z"
    }
   },
   "id": "c0b30a70ef2b5735"
  },
  {
   "cell_type": "code",
   "execution_count": 256,
   "outputs": [
    {
     "data": {
      "text/plain": "      position  b_factor\n0            1         3\n1            2         3\n2            3         3\n3            4         3\n4            5         3\n...        ...       ...\n2150      2151         3\n2151      2152         3\n2152      2153         3\n2153      2154         3\n2154      2155         3\n\n[2155 rows x 2 columns]",
      "text/html": "<div>\n<style scoped>\n    .dataframe tbody tr th:only-of-type {\n        vertical-align: middle;\n    }\n\n    .dataframe tbody tr th {\n        vertical-align: top;\n    }\n\n    .dataframe thead th {\n        text-align: right;\n    }\n</style>\n<table border=\"1\" class=\"dataframe\">\n  <thead>\n    <tr style=\"text-align: right;\">\n      <th></th>\n      <th>position</th>\n      <th>b_factor</th>\n    </tr>\n  </thead>\n  <tbody>\n    <tr>\n      <th>0</th>\n      <td>1</td>\n      <td>3</td>\n    </tr>\n    <tr>\n      <th>1</th>\n      <td>2</td>\n      <td>3</td>\n    </tr>\n    <tr>\n      <th>2</th>\n      <td>3</td>\n      <td>3</td>\n    </tr>\n    <tr>\n      <th>3</th>\n      <td>4</td>\n      <td>3</td>\n    </tr>\n    <tr>\n      <th>4</th>\n      <td>5</td>\n      <td>3</td>\n    </tr>\n    <tr>\n      <th>...</th>\n      <td>...</td>\n      <td>...</td>\n    </tr>\n    <tr>\n      <th>2150</th>\n      <td>2151</td>\n      <td>3</td>\n    </tr>\n    <tr>\n      <th>2151</th>\n      <td>2152</td>\n      <td>3</td>\n    </tr>\n    <tr>\n      <th>2152</th>\n      <td>2153</td>\n      <td>3</td>\n    </tr>\n    <tr>\n      <th>2153</th>\n      <td>2154</td>\n      <td>3</td>\n    </tr>\n    <tr>\n      <th>2154</th>\n      <td>2155</td>\n      <td>3</td>\n    </tr>\n  </tbody>\n</table>\n<p>2155 rows × 2 columns</p>\n</div>"
     },
     "execution_count": 256,
     "metadata": {},
     "output_type": "execute_result"
    }
   ],
   "source": [
    "# Save the b_factor columns to csv files, without the index column and position column\n",
    "pathogenic_b_factor"
   ],
   "metadata": {
    "collapsed": false,
    "ExecuteTime": {
     "end_time": "2024-02-20T09:11:47.561025200Z",
     "start_time": "2024-02-20T09:11:47.550185400Z"
    }
   },
   "id": "b306024055a30d7d"
  },
  {
   "cell_type": "code",
   "execution_count": 257,
   "outputs": [
    {
     "data": {
      "text/plain": "      position  b_factor\n0            1         3\n1            2         3\n2            3         3\n3            4         3\n4            5         3\n...        ...       ...\n2150      2151         3\n2151      2152         3\n2152      2153         1\n2153      2154         3\n2154      2155         3\n\n[2155 rows x 2 columns]",
      "text/html": "<div>\n<style scoped>\n    .dataframe tbody tr th:only-of-type {\n        vertical-align: middle;\n    }\n\n    .dataframe tbody tr th {\n        vertical-align: top;\n    }\n\n    .dataframe thead th {\n        text-align: right;\n    }\n</style>\n<table border=\"1\" class=\"dataframe\">\n  <thead>\n    <tr style=\"text-align: right;\">\n      <th></th>\n      <th>position</th>\n      <th>b_factor</th>\n    </tr>\n  </thead>\n  <tbody>\n    <tr>\n      <th>0</th>\n      <td>1</td>\n      <td>3</td>\n    </tr>\n    <tr>\n      <th>1</th>\n      <td>2</td>\n      <td>3</td>\n    </tr>\n    <tr>\n      <th>2</th>\n      <td>3</td>\n      <td>3</td>\n    </tr>\n    <tr>\n      <th>3</th>\n      <td>4</td>\n      <td>3</td>\n    </tr>\n    <tr>\n      <th>4</th>\n      <td>5</td>\n      <td>3</td>\n    </tr>\n    <tr>\n      <th>...</th>\n      <td>...</td>\n      <td>...</td>\n    </tr>\n    <tr>\n      <th>2150</th>\n      <td>2151</td>\n      <td>3</td>\n    </tr>\n    <tr>\n      <th>2151</th>\n      <td>2152</td>\n      <td>3</td>\n    </tr>\n    <tr>\n      <th>2152</th>\n      <td>2153</td>\n      <td>1</td>\n    </tr>\n    <tr>\n      <th>2153</th>\n      <td>2154</td>\n      <td>3</td>\n    </tr>\n    <tr>\n      <th>2154</th>\n      <td>2155</td>\n      <td>3</td>\n    </tr>\n  </tbody>\n</table>\n<p>2155 rows × 2 columns</p>\n</div>"
     },
     "execution_count": 257,
     "metadata": {},
     "output_type": "execute_result"
    }
   ],
   "source": [
    "benign_b_factor"
   ],
   "metadata": {
    "collapsed": false,
    "ExecuteTime": {
     "end_time": "2024-02-20T09:11:47.592748100Z",
     "start_time": "2024-02-20T09:11:47.561025200Z"
    }
   },
   "id": "9973896d2bd0f610"
  },
  {
   "cell_type": "code",
   "execution_count": 258,
   "outputs": [],
   "source": [
    "\n",
    "def get_bfactor_column_for_pdb_file(pdb_file_path, b_factor_per_position):\n",
    "    \"\"\"\n",
    "    Create a series that contains the b_factor values for each atom in the pdb file, according to the position of the atom in the pdb file.\n",
    "    :param pdb_file_path: The path to the pdb file\n",
    "    :param b_factor_per_position: The b_factor values for each position in the gene\n",
    "    :return: A series that contains the b_factor values for each atom in the pdb file, according to the position of the atom in the pdb file.\n",
    "    \"\"\"\n",
    "    # Create a DataFrame from the pdb file\n",
    "    pdb_df = pdb_to_dataframe(pdb_file_path)\n",
    "    # Create a series that contains the b_factor values for each atom in the pdb file, according to the position of the atom in the pdb file.\n",
    "    b_factor_series = pd.Series(index=range(1, len(pdb_df) + 1), name=\"b_factor\")\n",
    "    for index, row in pdb_df.iterrows():\n",
    "        # Get the position of the atom in the gene\n",
    "        position = row[\"RESIDUESEQ\"]\n",
    "        # Get the b_factor value for this position\n",
    "        b_factor = b_factor_per_position[b_factor_per_position[\"position\"] == position][\"b_factor\"].values[0]\n",
    "        # Insert the b_factor value to the series\n",
    "        b_factor_series[index+1] = b_factor\n",
    "    return b_factor_series\n",
    "\n",
    "\n",
    "def pdb_to_dataframe(pdb_file_path):\n",
    "    # Create a PDB parser and load the structure\n",
    "    parser = PDBParser(QUIET=True)\n",
    "    structure = parser.get_structure(\"protein\", pdb_file_path)\n",
    "\n",
    "    # Initialize lists to store PDB data\n",
    "    atom_data = []\n",
    "\n",
    "    for model in structure:\n",
    "        for chain in model:\n",
    "            for residue in chain:\n",
    "                for atom in residue:\n",
    "                    atom_record = {\n",
    "                        'ATOM': atom.get_serial_number(),\n",
    "                        'NAME': atom.get_name(),\n",
    "                        'RESNAME': residue.get_resname(),\n",
    "                        'CHAINID': chain.id,\n",
    "                        'RESIDUESEQ': residue.id[1],\n",
    "                        'X': atom.get_coord()[0],\n",
    "                        'Y': atom.get_coord()[1],\n",
    "                        'Z': atom.get_coord()[2],\n",
    "                        'OCCUPANCY': atom.get_occupancy(),\n",
    "                        'TEMPFACTOR': atom.get_bfactor(),\n",
    "                        'ELEMENT': atom.element,\n",
    "                    }\n",
    "                    atom_data.append(atom_record)\n",
    "\n",
    "    # Create a DataFrame from the atom data\n",
    "    df = pd.DataFrame(atom_data)\n",
    "\n",
    "    return df\n"
   ],
   "metadata": {
    "collapsed": false,
    "ExecuteTime": {
     "end_time": "2024-02-20T09:11:47.655338800Z",
     "start_time": "2024-02-20T09:11:47.577107500Z"
    }
   },
   "id": "15367b6a288c7035"
  },
  {
   "cell_type": "code",
   "execution_count": 259,
   "outputs": [
    {
     "data": {
      "text/plain": "1        30.0\n2        30.0\n3        30.0\n4        30.0\n5        30.0\n         ... \n16767    30.0\n16768    30.0\n16769    30.0\n16770    30.0\n16771    30.0\nName: b_factor, Length: 16771, dtype: float64"
     },
     "execution_count": 259,
     "metadata": {},
     "output_type": "execute_result"
    }
   ],
   "source": [
    "\n",
    "pathogenic_b_factor_by_pdb = get_bfactor_column_for_pdb_file(pdb_file_path, pathogenic_b_factor)\n",
    "benign_b_factor_by_pdb = get_bfactor_column_for_pdb_file(pdb_file_path, benign_b_factor)\n",
    "\n",
    "# Multiply the b_factor values by 10, to get the same scale as the b_factor values in the pdb file\n",
    "pathogenic_b_factor_by_pdb = pathogenic_b_factor_by_pdb * 10\n",
    "benign_b_factor_by_pdb = benign_b_factor_by_pdb * 10\n",
    "pathogenic_b_factor_by_pdb"
   ],
   "metadata": {
    "collapsed": false,
    "ExecuteTime": {
     "end_time": "2024-02-20T09:12:03.761198600Z",
     "start_time": "2024-02-20T09:11:47.592748100Z"
    }
   },
   "id": "5362752b0bd9ddcd"
  },
  {
   "cell_type": "code",
   "execution_count": 260,
   "outputs": [],
   "source": [
    "# Save the b_factor columns to csv files, without the index column\n",
    "pathogenic_b_factor_by_pdb.to_csv(pathogenic_b_factor_output_path, index=True, header=True)\n",
    "benign_b_factor_by_pdb.to_csv(benign_b_factor_output_path, index=True, header=True)"
   ],
   "metadata": {
    "collapsed": false,
    "ExecuteTime": {
     "end_time": "2024-02-20T09:12:03.868287700Z",
     "start_time": "2024-02-20T09:12:03.752639300Z"
    }
   },
   "id": "f47baa42e0bd4af7"
  }
 ],
 "metadata": {
  "kernelspec": {
   "display_name": "Python 3",
   "language": "python",
   "name": "python3"
  },
  "language_info": {
   "codemirror_mode": {
    "name": "ipython",
    "version": 2
   },
   "file_extension": ".py",
   "mimetype": "text/x-python",
   "name": "python",
   "nbconvert_exporter": "python",
   "pygments_lexer": "ipython2",
   "version": "2.7.6"
  }
 },
 "nbformat": 4,
 "nbformat_minor": 5
}
