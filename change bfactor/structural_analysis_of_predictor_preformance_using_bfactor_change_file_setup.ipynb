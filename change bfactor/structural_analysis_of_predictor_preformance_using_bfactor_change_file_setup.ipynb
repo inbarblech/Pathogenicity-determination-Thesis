{
 "cells": [
  {
   "cell_type": "code",
   "execution_count": 41,
   "outputs": [],
   "source": [
    "import pandas as pd\n",
    "from data_retrievel_and_feature_extraction import uniprot_info as uni\n",
    "from Bio.PDB import PDBParser"
   ],
   "metadata": {
    "collapsed": false,
    "ExecuteTime": {
     "end_time": "2024-02-20T13:42:11.264565800Z",
     "start_time": "2024-02-20T13:42:10.855789100Z"
    }
   },
   "id": "fd5d556ebb88b4cd"
  },
  {
   "cell_type": "code",
   "execution_count": 42,
   "outputs": [
    {
     "data": {
      "text/plain": "         gene variant  prediction  reality\n0     COL11A1  G1249V           1        1\n1     COL11A1  G1516V           1        1\n2     COL11A1  R1733C           1        1\n3     COL11A1  G1800C           1        1\n4     COL11A1  R1076C           1        1\n...       ...     ...         ...      ...\n1091   COL9A2    G30R           1        0\n1092   COL9A2   A336E           1        0\n1093   COL9A2   L335V           0        0\n1094   COL9A2    R32Q           0        0\n1095   COL4A6   N980I           1        0\n\n[1096 rows x 4 columns]",
      "text/html": "<div>\n<style scoped>\n    .dataframe tbody tr th:only-of-type {\n        vertical-align: middle;\n    }\n\n    .dataframe tbody tr th {\n        vertical-align: top;\n    }\n\n    .dataframe thead th {\n        text-align: right;\n    }\n</style>\n<table border=\"1\" class=\"dataframe\">\n  <thead>\n    <tr style=\"text-align: right;\">\n      <th></th>\n      <th>gene</th>\n      <th>variant</th>\n      <th>prediction</th>\n      <th>reality</th>\n    </tr>\n  </thead>\n  <tbody>\n    <tr>\n      <th>0</th>\n      <td>COL11A1</td>\n      <td>G1249V</td>\n      <td>1</td>\n      <td>1</td>\n    </tr>\n    <tr>\n      <th>1</th>\n      <td>COL11A1</td>\n      <td>G1516V</td>\n      <td>1</td>\n      <td>1</td>\n    </tr>\n    <tr>\n      <th>2</th>\n      <td>COL11A1</td>\n      <td>R1733C</td>\n      <td>1</td>\n      <td>1</td>\n    </tr>\n    <tr>\n      <th>3</th>\n      <td>COL11A1</td>\n      <td>G1800C</td>\n      <td>1</td>\n      <td>1</td>\n    </tr>\n    <tr>\n      <th>4</th>\n      <td>COL11A1</td>\n      <td>R1076C</td>\n      <td>1</td>\n      <td>1</td>\n    </tr>\n    <tr>\n      <th>...</th>\n      <td>...</td>\n      <td>...</td>\n      <td>...</td>\n      <td>...</td>\n    </tr>\n    <tr>\n      <th>1091</th>\n      <td>COL9A2</td>\n      <td>G30R</td>\n      <td>1</td>\n      <td>0</td>\n    </tr>\n    <tr>\n      <th>1092</th>\n      <td>COL9A2</td>\n      <td>A336E</td>\n      <td>1</td>\n      <td>0</td>\n    </tr>\n    <tr>\n      <th>1093</th>\n      <td>COL9A2</td>\n      <td>L335V</td>\n      <td>0</td>\n      <td>0</td>\n    </tr>\n    <tr>\n      <th>1094</th>\n      <td>COL9A2</td>\n      <td>R32Q</td>\n      <td>0</td>\n      <td>0</td>\n    </tr>\n    <tr>\n      <th>1095</th>\n      <td>COL4A6</td>\n      <td>N980I</td>\n      <td>1</td>\n      <td>0</td>\n    </tr>\n  </tbody>\n</table>\n<p>1096 rows × 4 columns</p>\n</div>"
     },
     "execution_count": 42,
     "metadata": {},
     "output_type": "execute_result"
    }
   ],
   "source": [
    "# Gene\n",
    "gene = \"COL11A2\"\n",
    "gene_len = uni.get_sequence_length(gene)\n",
    "\n",
    "folder = \"collagens_proteins\"  # collagens_proteins, transmembrane_residues or globular_proteins\n",
    "# File names\n",
    "prediction_vs_real_path = f\"C:\\\\Users\\\\InbarBlech\\\\PycharmProjects\\\\Thesis\\\\predictions_vs_real\\\\{folder}\\\\predictions_vs_real_{folder}.csv\"\n",
    "pathogenic_b_factor_output_path = f\"C:\\\\Users\\\\InbarBlech\\\\PycharmProjects\\\\Thesis\\\\predictions_vs_real\\\\{folder}\\\\b_factor\\\\{gene}_pathogenic_b_factor_output_{folder}.csv\"\n",
    "benign_b_factor_output_path = f\"C:\\\\Users\\\\InbarBlech\\\\PycharmProjects\\\\Thesis\\\\predictions_vs_real\\\\{folder}\\\\b_factor\\\\{gene}_benign_b_factor_output_{folder}.csv\"\n",
    "pdb_file_path = f\"C:\\\\Users\\\\InbarBlech\\\\PycharmProjects\\\\Thesis\\\\predictions_vs_real\\\\{folder}\\\\pdb_files\\\\{gene}.pdb\"\n",
    "\n",
    "# Load the predictions_vs_real data\n",
    "predictions_vs_real_df = pd.read_csv(prediction_vs_real_path)\n",
    "predictions_vs_real_df\n"
   ],
   "metadata": {
    "collapsed": false,
    "ExecuteTime": {
     "end_time": "2024-02-20T13:42:11.474686500Z",
     "start_time": "2024-02-20T13:42:10.887537500Z"
    }
   },
   "id": "7106b313c61e4139"
  },
  {
   "cell_type": "code",
   "execution_count": 43,
   "outputs": [
    {
     "name": "stderr",
     "output_type": "stream",
     "text": [
      "C:\\Users\\InbarBlech\\AppData\\Local\\Temp\\ipykernel_20676\\708265304.py:5: SettingWithCopyWarning: \n",
      "A value is trying to be set on a copy of a slice from a DataFrame.\n",
      "Try using .loc[row_indexer,col_indexer] = value instead\n",
      "\n",
      "See the caveats in the documentation: https://pandas.pydata.org/pandas-docs/stable/user_guide/indexing.html#returning-a-view-versus-a-copy\n",
      "  gene_predictions[\"position\"] = gene_predictions[\"variant\"].apply(lambda x: int(x[1:-1]))\n",
      "C:\\Users\\InbarBlech\\AppData\\Local\\Temp\\ipykernel_20676\\708265304.py:8: SettingWithCopyWarning: \n",
      "A value is trying to be set on a copy of a slice from a DataFrame.\n",
      "Try using .loc[row_indexer,col_indexer] = value instead\n",
      "\n",
      "See the caveats in the documentation: https://pandas.pydata.org/pandas-docs/stable/user_guide/indexing.html#returning-a-view-versus-a-copy\n",
      "  gene_predictions[\"TP/FP/FN/TN\"] = gene_predictions.apply(lambda x: \"TP\" if x[\"prediction\"] == 1 and x[\"reality\"] == 1 else \"FP\" if x[\"prediction\"] == 1 and x[\"reality\"] == 0 else \"FN\" if x[\"prediction\"] == 0 and x[\"reality\"] == 1 else \"TN\", axis=1)\n"
     ]
    }
   ],
   "source": [
    "# Extract the data for the gene\n",
    "gene_predictions = predictions_vs_real_df[predictions_vs_real_df[\"gene\"] == gene]\n",
    "\n",
    "# Add column for position of the variant, according to the \"variant\" column, which is in the format \"L111P\"\n",
    "gene_predictions[\"position\"] = gene_predictions[\"variant\"].apply(lambda x: int(x[1:-1]))\n",
    "\n",
    "# Add column that contains TP/FP/FN/TN according to the prediction and the reality columns.\n",
    "gene_predictions[\"TP/FP/FN/TN\"] = gene_predictions.apply(lambda x: \"TP\" if x[\"prediction\"] == 1 and x[\"reality\"] == 1 else \"FP\" if x[\"prediction\"] == 1 and x[\"reality\"] == 0 else \"FN\" if x[\"prediction\"] == 0 and x[\"reality\"] == 1 else \"TN\", axis=1)\n",
    "\n",
    "gene_prediction_pathogenic = gene_predictions[gene_predictions[\"reality\"] == 1]\n",
    "gene_prediction_benign = gene_predictions[gene_predictions[\"reality\"] == 0]"
   ],
   "metadata": {
    "collapsed": false,
    "ExecuteTime": {
     "end_time": "2024-02-20T13:42:11.539247500Z",
     "start_time": "2024-02-20T13:42:11.411722Z"
    }
   },
   "id": "2d416bfd3c3d4a76"
  },
  {
   "cell_type": "code",
   "execution_count": 44,
   "outputs": [],
   "source": [
    "\"\"\"\n",
    "Create 2 dataframes (benign/pathogenic) that contains values for each position in the gene, according to the TP/FP/FN/TN column. The values will be determined in this way:\n",
    "For pathogenic variants:\n",
    "- TP: 1\n",
    "- FN: 0\n",
    "- No data, : 3\n",
    "For benign variants:\n",
    "- TN: 1\n",
    "- FP: 0\n",
    "- No data: 3\n",
    "# \"\"\"\n",
    "benign_b_factor = pd.DataFrame(columns=[\"position\", \"b_factor\"])\n",
    "pathogenic_b_factor = pd.DataFrame(columns=[\"position\", \"b_factor\"])\n",
    "\n",
    "# For each position in the gene, check if there is data for this position, and insert the value to the right dataframe.\n",
    "for position in range(1, gene_len+1):\n",
    "    # Check if there is data for this position in the gene_prediction_pathogenic dataframe\n",
    "    if position in gene_prediction_pathogenic[\"position\"].values:\n",
    "        # Check how many instances of this position are there\n",
    "        position_data = gene_prediction_pathogenic[gene_prediction_pathogenic[\"position\"] == position]\n",
    "        # If there is only one instance, take the value of the TP/FP/FN/TN column\n",
    "        if len(position_data) == 1:\n",
    "            if position_data[\"TP/FP/FN/TN\"].values[0] == \"TP\":\n",
    "                # Insert the position and the b_factor value to the pathogenic_b_factor dataframe, without \"append\" method\n",
    "                pathogenic_b_factor.loc[pathogenic_b_factor.shape[0]] = [position, 2]\n",
    "            elif position_data[\"TP/FP/FN/TN\"].values[0] == \"FN\":\n",
    "                pathogenic_b_factor.loc[pathogenic_b_factor.shape[0]] = [position, 1]\n",
    "        # If there is more than one instance, check if the predictions are the same, if so- take this value of the TP/FP/FN/TN column. If they are not the same, append \"2\".\n",
    "        else:\n",
    "            # if all the values are the same, take the value of the TP/FP/FN/TN column, and for the other dataframe insert \"3\" (no data)\n",
    "            if len(position_data[\"TP/FP/FN/TN\"].unique()) == 1:\n",
    "                if position_data[\"TP/FP/FN/TN\"].values[0] == \"TP\":\n",
    "                    pathogenic_b_factor.loc[pathogenic_b_factor.shape[0]] = [position, 2]\n",
    "                elif position_data[\"TP/FP/FN/TN\"].values[0] == \"FN\":\n",
    "                    pathogenic_b_factor.loc[pathogenic_b_factor.shape[0]] = [position, 1]\n",
    "            # If the values are not the same, insert \"2\" for mulitple values\n",
    "            else:\n",
    "                pathogenic_b_factor.loc[pathogenic_b_factor.shape[0]] = [position, 3]       \n",
    "    # If there is no data for this position, insert \"3\" for no data\n",
    "    else:\n",
    "        pathogenic_b_factor.loc[pathogenic_b_factor.shape[0]] = [position, 4]\n",
    "        \n",
    "# For each position in the gene, check if there is data for this position, and insert the value to the right dataframe.\n",
    "for position in range(1, gene_len+1):\n",
    "    # Check if there is data for this position in the gene_prediction_pathogenic dataframe\n",
    "    if position in gene_prediction_benign[\"position\"].values:\n",
    "        # Check how many instances of this position are there\n",
    "        position_data = gene_prediction_benign[gene_prediction_benign[\"position\"] == position]\n",
    "        # If there is only one instance, take the value of the TP/FP/FN/TN column\n",
    "        if len(position_data) == 1:\n",
    "            if position_data[\"TP/FP/FN/TN\"].values[0] == \"TN\":\n",
    "                # Insert the position and the b_factor value to the pathogenic_b_factor dataframe, without \"append\" method\n",
    "                benign_b_factor.loc[benign_b_factor.shape[0]] = [position, 2]\n",
    "            elif position_data[\"TP/FP/FN/TN\"].values[0] == \"FP\":\n",
    "                benign_b_factor.loc[benign_b_factor.shape[0]] = [position, 1]\n",
    "        # If there is more than one instance, check if the predictions are the same, if so- take this value of the TP/FP/FN/TN column. If they are not the same, append \"2\".\n",
    "        else:\n",
    "            # if all the values are the same, take the value of the TP/FP/FN/TN column, and for the other dataframe insert \"3\" (no data)\n",
    "            if len(position_data[\"TP/FP/FN/TN\"].unique()) == 1:\n",
    "                if position_data[\"TP/FP/FN/TN\"].values[0] == \"TN\":\n",
    "                    benign_b_factor.loc[benign_b_factor.shape[0]] = [position, 2]\n",
    "                elif position_data[\"TP/FP/FN/TN\"].values[0] == \"FP\":\n",
    "                    benign_b_factor.loc[benign_b_factor.shape[0]] = [position, 1]\n",
    "            # If the values are not the same, insert \"2\" for mulitple values\n",
    "            else:\n",
    "                benign_b_factor.loc[benign_b_factor.shape[0]] = [position, 3]       \n",
    "    # If there is no data for this position, insert \"3\" for no data\n",
    "    else:\n",
    "        benign_b_factor.loc[benign_b_factor.shape[0]] = [position, 4]"
   ],
   "metadata": {
    "collapsed": false,
    "ExecuteTime": {
     "end_time": "2024-02-20T13:42:14.982943400Z",
     "start_time": "2024-02-20T13:42:11.474686500Z"
    }
   },
   "id": "c0b30a70ef2b5735"
  },
  {
   "cell_type": "code",
   "execution_count": 45,
   "outputs": [
    {
     "data": {
      "text/plain": "      position  b_factor\n0            1         4\n1            2         4\n2            3         4\n3            4         4\n4            5         4\n...        ...       ...\n1731      1732         4\n1732      1733         4\n1733      1734         4\n1734      1735         4\n1735      1736         4\n\n[1736 rows x 2 columns]",
      "text/html": "<div>\n<style scoped>\n    .dataframe tbody tr th:only-of-type {\n        vertical-align: middle;\n    }\n\n    .dataframe tbody tr th {\n        vertical-align: top;\n    }\n\n    .dataframe thead th {\n        text-align: right;\n    }\n</style>\n<table border=\"1\" class=\"dataframe\">\n  <thead>\n    <tr style=\"text-align: right;\">\n      <th></th>\n      <th>position</th>\n      <th>b_factor</th>\n    </tr>\n  </thead>\n  <tbody>\n    <tr>\n      <th>0</th>\n      <td>1</td>\n      <td>4</td>\n    </tr>\n    <tr>\n      <th>1</th>\n      <td>2</td>\n      <td>4</td>\n    </tr>\n    <tr>\n      <th>2</th>\n      <td>3</td>\n      <td>4</td>\n    </tr>\n    <tr>\n      <th>3</th>\n      <td>4</td>\n      <td>4</td>\n    </tr>\n    <tr>\n      <th>4</th>\n      <td>5</td>\n      <td>4</td>\n    </tr>\n    <tr>\n      <th>...</th>\n      <td>...</td>\n      <td>...</td>\n    </tr>\n    <tr>\n      <th>1731</th>\n      <td>1732</td>\n      <td>4</td>\n    </tr>\n    <tr>\n      <th>1732</th>\n      <td>1733</td>\n      <td>4</td>\n    </tr>\n    <tr>\n      <th>1733</th>\n      <td>1734</td>\n      <td>4</td>\n    </tr>\n    <tr>\n      <th>1734</th>\n      <td>1735</td>\n      <td>4</td>\n    </tr>\n    <tr>\n      <th>1735</th>\n      <td>1736</td>\n      <td>4</td>\n    </tr>\n  </tbody>\n</table>\n<p>1736 rows × 2 columns</p>\n</div>"
     },
     "execution_count": 45,
     "metadata": {},
     "output_type": "execute_result"
    }
   ],
   "source": [
    "# Save the b_factor columns to csv files, without the index column and position column\n",
    "pathogenic_b_factor"
   ],
   "metadata": {
    "collapsed": false,
    "ExecuteTime": {
     "end_time": "2024-02-20T13:42:15.022793Z",
     "start_time": "2024-02-20T13:42:14.982943400Z"
    }
   },
   "id": "b306024055a30d7d"
  },
  {
   "cell_type": "code",
   "execution_count": 46,
   "outputs": [
    {
     "data": {
      "text/plain": "      position  b_factor\n0            1         4\n1            2         4\n2            3         4\n3            4         4\n4            5         4\n...        ...       ...\n1731      1732         4\n1732      1733         4\n1733      1734         4\n1734      1735         4\n1735      1736         4\n\n[1736 rows x 2 columns]",
      "text/html": "<div>\n<style scoped>\n    .dataframe tbody tr th:only-of-type {\n        vertical-align: middle;\n    }\n\n    .dataframe tbody tr th {\n        vertical-align: top;\n    }\n\n    .dataframe thead th {\n        text-align: right;\n    }\n</style>\n<table border=\"1\" class=\"dataframe\">\n  <thead>\n    <tr style=\"text-align: right;\">\n      <th></th>\n      <th>position</th>\n      <th>b_factor</th>\n    </tr>\n  </thead>\n  <tbody>\n    <tr>\n      <th>0</th>\n      <td>1</td>\n      <td>4</td>\n    </tr>\n    <tr>\n      <th>1</th>\n      <td>2</td>\n      <td>4</td>\n    </tr>\n    <tr>\n      <th>2</th>\n      <td>3</td>\n      <td>4</td>\n    </tr>\n    <tr>\n      <th>3</th>\n      <td>4</td>\n      <td>4</td>\n    </tr>\n    <tr>\n      <th>4</th>\n      <td>5</td>\n      <td>4</td>\n    </tr>\n    <tr>\n      <th>...</th>\n      <td>...</td>\n      <td>...</td>\n    </tr>\n    <tr>\n      <th>1731</th>\n      <td>1732</td>\n      <td>4</td>\n    </tr>\n    <tr>\n      <th>1732</th>\n      <td>1733</td>\n      <td>4</td>\n    </tr>\n    <tr>\n      <th>1733</th>\n      <td>1734</td>\n      <td>4</td>\n    </tr>\n    <tr>\n      <th>1734</th>\n      <td>1735</td>\n      <td>4</td>\n    </tr>\n    <tr>\n      <th>1735</th>\n      <td>1736</td>\n      <td>4</td>\n    </tr>\n  </tbody>\n</table>\n<p>1736 rows × 2 columns</p>\n</div>"
     },
     "execution_count": 46,
     "metadata": {},
     "output_type": "execute_result"
    }
   ],
   "source": [
    "benign_b_factor"
   ],
   "metadata": {
    "collapsed": false,
    "ExecuteTime": {
     "end_time": "2024-02-20T13:42:15.117402100Z",
     "start_time": "2024-02-20T13:42:15.016782300Z"
    }
   },
   "id": "9973896d2bd0f610"
  },
  {
   "cell_type": "code",
   "execution_count": 47,
   "outputs": [],
   "source": [
    "\n",
    "def get_bfactor_column_for_pdb_file(pdb_file_path, b_factor_per_position):\n",
    "    \"\"\"\n",
    "    Create a series that contains the b_factor values for each atom in the pdb file, according to the position of the atom in the pdb file.\n",
    "    :param pdb_file_path: The path to the pdb file\n",
    "    :param b_factor_per_position: The b_factor values for each position in the gene\n",
    "    :return: A series that contains the b_factor values for each atom in the pdb file, according to the position of the atom in the pdb file.\n",
    "    \"\"\"\n",
    "    # Create a DataFrame from the pdb file\n",
    "    pdb_df = pdb_to_dataframe(pdb_file_path)\n",
    "    # Create a series that contains the b_factor values for each atom in the pdb file, according to the position of the atom in the pdb file.\n",
    "    b_factor_series = pd.Series(index=range(1, len(pdb_df) + 1), name=\"b_factor\")\n",
    "    for index, row in pdb_df.iterrows():\n",
    "        # Get the position of the atom in the gene\n",
    "        position = row[\"RESIDUESEQ\"]\n",
    "        # Get the b_factor value for this position\n",
    "        b_factor = b_factor_per_position[b_factor_per_position[\"position\"] == position][\"b_factor\"].values[0]\n",
    "        # Insert the b_factor value to the series\n",
    "        b_factor_series[index+1] = b_factor\n",
    "    return b_factor_series\n",
    "\n",
    "\n",
    "def pdb_to_dataframe(pdb_file_path):\n",
    "    # Create a PDB parser and load the structure\n",
    "    parser = PDBParser(QUIET=True)\n",
    "    structure = parser.get_structure(\"protein\", pdb_file_path)\n",
    "\n",
    "    # Initialize lists to store PDB data\n",
    "    atom_data = []\n",
    "\n",
    "    for model in structure:\n",
    "        for chain in model:\n",
    "            for residue in chain:\n",
    "                for atom in residue:\n",
    "                    atom_record = {\n",
    "                        'ATOM': atom.get_serial_number(),\n",
    "                        'NAME': atom.get_name(),\n",
    "                        'RESNAME': residue.get_resname(),\n",
    "                        'CHAINID': chain.id,\n",
    "                        'RESIDUESEQ': residue.id[1],\n",
    "                        'X': atom.get_coord()[0],\n",
    "                        'Y': atom.get_coord()[1],\n",
    "                        'Z': atom.get_coord()[2],\n",
    "                        'OCCUPANCY': atom.get_occupancy(),\n",
    "                        'TEMPFACTOR': atom.get_bfactor(),\n",
    "                        'ELEMENT': atom.element,\n",
    "                    }\n",
    "                    atom_data.append(atom_record)\n",
    "\n",
    "    # Create a DataFrame from the atom data\n",
    "    df = pd.DataFrame(atom_data)\n",
    "\n",
    "    return df\n"
   ],
   "metadata": {
    "collapsed": false,
    "ExecuteTime": {
     "end_time": "2024-02-20T13:42:15.149156800Z",
     "start_time": "2024-02-20T13:42:15.044953200Z"
    }
   },
   "id": "15367b6a288c7035"
  },
  {
   "cell_type": "code",
   "execution_count": 48,
   "outputs": [
    {
     "data": {
      "text/plain": "1        40.0\n2        40.0\n3        40.0\n4        40.0\n5        40.0\n         ... \n12104    40.0\n12105    40.0\n12106    40.0\n12107    40.0\n12108    40.0\nName: b_factor, Length: 12108, dtype: float64"
     },
     "execution_count": 48,
     "metadata": {},
     "output_type": "execute_result"
    }
   ],
   "source": [
    "\n",
    "pathogenic_b_factor_by_pdb = get_bfactor_column_for_pdb_file(pdb_file_path, pathogenic_b_factor)\n",
    "benign_b_factor_by_pdb = get_bfactor_column_for_pdb_file(pdb_file_path, benign_b_factor)\n",
    "\n",
    "# Multiply the b_factor values by 10, to get the same scale as the b_factor values in the pdb file\n",
    "pathogenic_b_factor_by_pdb = pathogenic_b_factor_by_pdb * 10\n",
    "benign_b_factor_by_pdb = benign_b_factor_by_pdb * 10\n",
    "pathogenic_b_factor_by_pdb"
   ],
   "metadata": {
    "collapsed": false,
    "ExecuteTime": {
     "end_time": "2024-02-20T13:42:22.791903300Z",
     "start_time": "2024-02-20T13:42:15.070501Z"
    }
   },
   "id": "5362752b0bd9ddcd"
  },
  {
   "cell_type": "code",
   "execution_count": 49,
   "outputs": [],
   "source": [
    "# Save the b_factor columns to csv files, without the index column\n",
    "pathogenic_b_factor_by_pdb.to_csv(pathogenic_b_factor_output_path, index=True, header=True)\n",
    "benign_b_factor_by_pdb.to_csv(benign_b_factor_output_path, index=True, header=True)"
   ],
   "metadata": {
    "collapsed": false,
    "ExecuteTime": {
     "end_time": "2024-02-20T13:42:22.831364100Z",
     "start_time": "2024-02-20T13:42:22.797663100Z"
    }
   },
   "id": "f47baa42e0bd4af7"
  }
 ],
 "metadata": {
  "kernelspec": {
   "display_name": "Python 3",
   "language": "python",
   "name": "python3"
  },
  "language_info": {
   "codemirror_mode": {
    "name": "ipython",
    "version": 2
   },
   "file_extension": ".py",
   "mimetype": "text/x-python",
   "name": "python",
   "nbconvert_exporter": "python",
   "pygments_lexer": "ipython2",
   "version": "2.7.6"
  }
 },
 "nbformat": 4,
 "nbformat_minor": 5
}
