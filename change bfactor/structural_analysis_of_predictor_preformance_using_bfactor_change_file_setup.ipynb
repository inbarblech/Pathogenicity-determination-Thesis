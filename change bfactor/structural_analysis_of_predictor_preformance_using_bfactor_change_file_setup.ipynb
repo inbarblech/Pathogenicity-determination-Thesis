{
 "cells": [
  {
   "cell_type": "code",
   "execution_count": 166,
   "outputs": [],
   "source": [
    "import pandas as pd\n",
    "from data_retrievel_and_feature_extraction import uniprot_info as uni\n",
    "from Bio.PDB import PDBParser"
   ],
   "metadata": {
    "collapsed": false,
    "ExecuteTime": {
     "end_time": "2024-02-21T12:20:12.906295700Z",
     "start_time": "2024-02-21T12:20:12.874876300Z"
    }
   },
   "id": "fd5d556ebb88b4cd"
  },
  {
   "cell_type": "code",
   "execution_count": 167,
   "outputs": [],
   "source": [
    "# # Gene\n",
    "# gene = \"COL11A2\"\n",
    "# gene_len = uni.get_sequence_length(gene)\n",
    "# \n",
    "# folder = \"collagens_proteins\"  # collagens_proteins, transmembrane_residues or globular_proteins\n",
    "# # File names\n",
    "# prediction_vs_real_path = f\"C:\\\\Users\\\\InbarBlech\\\\PycharmProjects\\\\Thesis\\\\predictions_vs_real\\\\{folder}\\\\predictions_vs_real_{folder}.csv\"\n",
    "# pathogenic_b_factor_output_path = f\"C:\\\\Users\\\\InbarBlech\\\\PycharmProjects\\\\Thesis\\\\predictions_vs_real\\\\{folder}\\\\b_factor\\\\{gene}_pathogenic_b_factor_output_{folder}.csv\"\n",
    "# benign_b_factor_output_path = f\"C:\\\\Users\\\\InbarBlech\\\\PycharmProjects\\\\Thesis\\\\predictions_vs_real\\\\{folder}\\\\b_factor\\\\{gene}_benign_b_factor_output_{folder}.csv\"\n",
    "# pdb_file_path = f\"C:\\\\Users\\\\InbarBlech\\\\PycharmProjects\\\\Thesis\\\\predictions_vs_real\\\\{folder}\\\\pdb_files\\\\{gene}.pdb\"\n",
    "# \n",
    "# # Load the predictions_vs_real data\n",
    "# predictions_vs_real_df = pd.read_csv(prediction_vs_real_path)\n",
    "# predictions_vs_real_df\n"
   ],
   "metadata": {
    "collapsed": false,
    "ExecuteTime": {
     "end_time": "2024-02-21T12:20:12.938053900Z",
     "start_time": "2024-02-21T12:20:12.890642800Z"
    }
   },
   "id": "7106b313c61e4139"
  },
  {
   "cell_type": "code",
   "execution_count": 168,
   "outputs": [
    {
     "data": {
      "text/plain": "     variant  prediction  reality\n0        M1H           0        0\n1        M1L           0        0\n2        M1P           0        0\n3        M1T           0        0\n4        M1W           0        0\n...      ...         ...      ...\n1397  V1669I           0        0\n1398  S1530L           0        0\n1399   V679I           0        0\n1400  R1602Q           0        0\n1401    L16S           0        0\n\n[1402 rows x 3 columns]",
      "text/html": "<div>\n<style scoped>\n    .dataframe tbody tr th:only-of-type {\n        vertical-align: middle;\n    }\n\n    .dataframe tbody tr th {\n        vertical-align: top;\n    }\n\n    .dataframe thead th {\n        text-align: right;\n    }\n</style>\n<table border=\"1\" class=\"dataframe\">\n  <thead>\n    <tr style=\"text-align: right;\">\n      <th></th>\n      <th>variant</th>\n      <th>prediction</th>\n      <th>reality</th>\n    </tr>\n  </thead>\n  <tbody>\n    <tr>\n      <th>0</th>\n      <td>M1H</td>\n      <td>0</td>\n      <td>0</td>\n    </tr>\n    <tr>\n      <th>1</th>\n      <td>M1L</td>\n      <td>0</td>\n      <td>0</td>\n    </tr>\n    <tr>\n      <th>2</th>\n      <td>M1P</td>\n      <td>0</td>\n      <td>0</td>\n    </tr>\n    <tr>\n      <th>3</th>\n      <td>M1T</td>\n      <td>0</td>\n      <td>0</td>\n    </tr>\n    <tr>\n      <th>4</th>\n      <td>M1W</td>\n      <td>0</td>\n      <td>0</td>\n    </tr>\n    <tr>\n      <th>...</th>\n      <td>...</td>\n      <td>...</td>\n      <td>...</td>\n    </tr>\n    <tr>\n      <th>1397</th>\n      <td>V1669I</td>\n      <td>0</td>\n      <td>0</td>\n    </tr>\n    <tr>\n      <th>1398</th>\n      <td>S1530L</td>\n      <td>0</td>\n      <td>0</td>\n    </tr>\n    <tr>\n      <th>1399</th>\n      <td>V679I</td>\n      <td>0</td>\n      <td>0</td>\n    </tr>\n    <tr>\n      <th>1400</th>\n      <td>R1602Q</td>\n      <td>0</td>\n      <td>0</td>\n    </tr>\n    <tr>\n      <th>1401</th>\n      <td>L16S</td>\n      <td>0</td>\n      <td>0</td>\n    </tr>\n  </tbody>\n</table>\n<p>1402 rows × 3 columns</p>\n</div>"
     },
     "execution_count": 168,
     "metadata": {},
     "output_type": "execute_result"
    }
   ],
   "source": [
    "# Gene\n",
    "gene = \"MYO7A\"\n",
    "gene_len = uni.get_sequence_length(gene)\n",
    "\n",
    "folder = \"globular_proteins\"  # collagens_proteins, transmembrane_residues or globular_proteins\n",
    "# File names\n",
    "prediction_vs_real_path = f\"C:\\\\Users\\\\InbarBlech\\\\PycharmProjects\\\\Thesis\\\\predictions_vs_real\\\\gene_specific_predictors\\\\{gene}\\\\{gene}_predictions_LOPO_XGB.csv\"\n",
    "pathogenic_b_factor_output_path = f\"C:\\\\Users\\\\InbarBlech\\\\PycharmProjects\\\\Thesis\\\\predictions_vs_real\\\\gene_specific_predictors\\\\{gene}\\\\{gene}_pathogenic_b_factor_output_{folder}.csv\"\n",
    "benign_b_factor_output_path = f\"C:\\\\Users\\\\InbarBlech\\\\PycharmProjects\\\\Thesis\\\\predictions_vs_real\\\\gene_specific_predictors\\\\{gene}\\\\{gene}_benign_b_factor_output_{folder}.csv\"\n",
    "pdb_file_path = f\"C:\\\\Users\\\\InbarBlech\\\\PycharmProjects\\\\Thesis\\\\predictions_vs_real\\\\{folder}\\\\pdb_files\\\\{gene}.pdb\"\n",
    "# Load the predictions_vs_real data\n",
    "predictions_vs_real_df = pd.read_csv(prediction_vs_real_path)\n",
    "predictions_vs_real_df"
   ],
   "metadata": {
    "collapsed": false,
    "ExecuteTime": {
     "end_time": "2024-02-21T12:20:13.326113300Z",
     "start_time": "2024-02-21T12:20:12.906295700Z"
    }
   },
   "id": "7121160142f1311a"
  },
  {
   "cell_type": "code",
   "execution_count": 169,
   "outputs": [],
   "source": [
    "# # Extract the data for the gene\n",
    "# gene_predictions = predictions_vs_real_df[predictions_vs_real_df[\"gene\"] == gene]\n",
    "gene_predictions = predictions_vs_real_df\n",
    "\n",
    "# Add column for position of the variant, according to the \"variant\" column, which is in the format \"L111P\"\n",
    "gene_predictions[\"position\"] = gene_predictions[\"variant\"].apply(lambda x: int(x[1:-1]))\n",
    "\n",
    "# Add column that contains TP/FP/FN/TN according to the prediction and the reality columns.\n",
    "gene_predictions[\"TP/FP/FN/TN\"] = gene_predictions.apply(lambda x: \"TP\" if x[\"prediction\"] == 1 and x[\"reality\"] == 1 else \"FP\" if x[\"prediction\"] == 1 and x[\"reality\"] == 0 else \"FN\" if x[\"prediction\"] == 0 and x[\"reality\"] == 1 else \"TN\", axis=1)\n",
    "\n",
    "gene_prediction_pathogenic = gene_predictions[gene_predictions[\"reality\"] == 1]\n",
    "gene_prediction_benign = gene_predictions[gene_predictions[\"reality\"] == 0]"
   ],
   "metadata": {
    "collapsed": false,
    "ExecuteTime": {
     "end_time": "2024-02-21T12:20:13.427059200Z",
     "start_time": "2024-02-21T12:20:13.335855800Z"
    }
   },
   "id": "2d416bfd3c3d4a76"
  },
  {
   "cell_type": "code",
   "execution_count": 170,
   "outputs": [],
   "source": [
    "\"\"\"\n",
    "Create 2 dataframes (benign/pathogenic) that contains values for each position in the gene, according to the TP/FP/FN/TN column. The values will be determined in this way:\n",
    "For pathogenic variants:\n",
    "- TP: 1\n",
    "- FN: 0\n",
    "- No data, : 3\n",
    "For benign variants:\n",
    "- TN: 1\n",
    "- FP: 0\n",
    "- No data: 3\n",
    "# \"\"\"\n",
    "benign_b_factor = pd.DataFrame(columns=[\"position\", \"b_factor\"])\n",
    "pathogenic_b_factor = pd.DataFrame(columns=[\"position\", \"b_factor\"])\n",
    "\n",
    "# For each position in the gene, check if there is data for this position, and insert the value to the right dataframe.\n",
    "for position in range(1, gene_len+1):\n",
    "    # Check if there is data for this position in the gene_prediction_pathogenic dataframe\n",
    "    if position in gene_prediction_pathogenic[\"position\"].values:\n",
    "        # Check how many instances of this position are there\n",
    "        position_data = gene_prediction_pathogenic[gene_prediction_pathogenic[\"position\"] == position]\n",
    "        # If there is only one instance, take the value of the TP/FP/FN/TN column\n",
    "        if len(position_data) == 1:\n",
    "            if position_data[\"TP/FP/FN/TN\"].values[0] == \"TP\":\n",
    "                # Insert the position and the b_factor value to the pathogenic_b_factor dataframe, without \"append\" method\n",
    "                pathogenic_b_factor.loc[pathogenic_b_factor.shape[0]] = [position, 2]\n",
    "            elif position_data[\"TP/FP/FN/TN\"].values[0] == \"FN\":\n",
    "                pathogenic_b_factor.loc[pathogenic_b_factor.shape[0]] = [position, 1]\n",
    "        # If there is more than one instance, check if the predictions are the same, if so- take this value of the TP/FP/FN/TN column. If they are not the same, append \"2\".\n",
    "        else:\n",
    "            # if all the values are the same, take the value of the TP/FP/FN/TN column, and for the other dataframe insert \"3\" (no data)\n",
    "            if len(position_data[\"TP/FP/FN/TN\"].unique()) == 1:\n",
    "                if position_data[\"TP/FP/FN/TN\"].values[0] == \"TP\":\n",
    "                    pathogenic_b_factor.loc[pathogenic_b_factor.shape[0]] = [position, 2]\n",
    "                elif position_data[\"TP/FP/FN/TN\"].values[0] == \"FN\":\n",
    "                    pathogenic_b_factor.loc[pathogenic_b_factor.shape[0]] = [position, 1]\n",
    "            # If the values are not the same, insert \"2\" for mulitple values\n",
    "            else:\n",
    "                pathogenic_b_factor.loc[pathogenic_b_factor.shape[0]] = [position, 3]       \n",
    "    # If there is no data for this position, insert \"3\" for no data\n",
    "    else:\n",
    "        pathogenic_b_factor.loc[pathogenic_b_factor.shape[0]] = [position, 4]\n",
    "        \n",
    "# For each position in the gene, check if there is data for this position, and insert the value to the right dataframe.\n",
    "for position in range(1, gene_len+1):\n",
    "    # Check if there is data for this position in the gene_prediction_pathogenic dataframe\n",
    "    if position in gene_prediction_benign[\"position\"].values:\n",
    "        # Check how many instances of this position are there\n",
    "        position_data = gene_prediction_benign[gene_prediction_benign[\"position\"] == position]\n",
    "        # If there is only one instance, take the value of the TP/FP/FN/TN column\n",
    "        if len(position_data) == 1:\n",
    "            if position_data[\"TP/FP/FN/TN\"].values[0] == \"TN\":\n",
    "                # Insert the position and the b_factor value to the pathogenic_b_factor dataframe, without \"append\" method\n",
    "                benign_b_factor.loc[benign_b_factor.shape[0]] = [position, 2]\n",
    "            elif position_data[\"TP/FP/FN/TN\"].values[0] == \"FP\":\n",
    "                benign_b_factor.loc[benign_b_factor.shape[0]] = [position, 1]\n",
    "        # If there is more than one instance, check if the predictions are the same, if so- take this value of the TP/FP/FN/TN column. If they are not the same, append \"2\".\n",
    "        else:\n",
    "            # if all the values are the same, take the value of the TP/FP/FN/TN column, and for the other dataframe insert \"3\" (no data)\n",
    "            if len(position_data[\"TP/FP/FN/TN\"].unique()) == 1:\n",
    "                if position_data[\"TP/FP/FN/TN\"].values[0] == \"TN\":\n",
    "                    benign_b_factor.loc[benign_b_factor.shape[0]] = [position, 2]\n",
    "                elif position_data[\"TP/FP/FN/TN\"].values[0] == \"FP\":\n",
    "                    benign_b_factor.loc[benign_b_factor.shape[0]] = [position, 1]\n",
    "            # If the values are not the same, insert \"2\" for mulitple values\n",
    "            else:\n",
    "                benign_b_factor.loc[benign_b_factor.shape[0]] = [position, 3]       \n",
    "    # If there is no data for this position, insert \"3\" for no data\n",
    "    else:\n",
    "        benign_b_factor.loc[benign_b_factor.shape[0]] = [position, 4]"
   ],
   "metadata": {
    "collapsed": false,
    "ExecuteTime": {
     "end_time": "2024-02-21T12:20:17.350873800Z",
     "start_time": "2024-02-21T12:20:13.405128300Z"
    }
   },
   "id": "c0b30a70ef2b5735"
  },
  {
   "cell_type": "code",
   "execution_count": 171,
   "outputs": [
    {
     "data": {
      "text/plain": "      position  b_factor\n0            1         4\n1            2         4\n2            3         4\n3            4         4\n4            5         4\n...        ...       ...\n2210      2211         4\n2211      2212         4\n2212      2213         4\n2213      2214         4\n2214      2215         4\n\n[2215 rows x 2 columns]",
      "text/html": "<div>\n<style scoped>\n    .dataframe tbody tr th:only-of-type {\n        vertical-align: middle;\n    }\n\n    .dataframe tbody tr th {\n        vertical-align: top;\n    }\n\n    .dataframe thead th {\n        text-align: right;\n    }\n</style>\n<table border=\"1\" class=\"dataframe\">\n  <thead>\n    <tr style=\"text-align: right;\">\n      <th></th>\n      <th>position</th>\n      <th>b_factor</th>\n    </tr>\n  </thead>\n  <tbody>\n    <tr>\n      <th>0</th>\n      <td>1</td>\n      <td>4</td>\n    </tr>\n    <tr>\n      <th>1</th>\n      <td>2</td>\n      <td>4</td>\n    </tr>\n    <tr>\n      <th>2</th>\n      <td>3</td>\n      <td>4</td>\n    </tr>\n    <tr>\n      <th>3</th>\n      <td>4</td>\n      <td>4</td>\n    </tr>\n    <tr>\n      <th>4</th>\n      <td>5</td>\n      <td>4</td>\n    </tr>\n    <tr>\n      <th>...</th>\n      <td>...</td>\n      <td>...</td>\n    </tr>\n    <tr>\n      <th>2210</th>\n      <td>2211</td>\n      <td>4</td>\n    </tr>\n    <tr>\n      <th>2211</th>\n      <td>2212</td>\n      <td>4</td>\n    </tr>\n    <tr>\n      <th>2212</th>\n      <td>2213</td>\n      <td>4</td>\n    </tr>\n    <tr>\n      <th>2213</th>\n      <td>2214</td>\n      <td>4</td>\n    </tr>\n    <tr>\n      <th>2214</th>\n      <td>2215</td>\n      <td>4</td>\n    </tr>\n  </tbody>\n</table>\n<p>2215 rows × 2 columns</p>\n</div>"
     },
     "execution_count": 171,
     "metadata": {},
     "output_type": "execute_result"
    }
   ],
   "source": [
    "# Save the b_factor columns to csv files, without the index column and position column\n",
    "pathogenic_b_factor"
   ],
   "metadata": {
    "collapsed": false,
    "ExecuteTime": {
     "end_time": "2024-02-21T12:20:17.366365Z",
     "start_time": "2024-02-21T12:20:17.350873800Z"
    }
   },
   "id": "b306024055a30d7d"
  },
  {
   "cell_type": "code",
   "execution_count": 172,
   "outputs": [
    {
     "data": {
      "text/plain": "      position  b_factor\n0            1         2\n1            2         2\n2            3         2\n3            4         2\n4            5         2\n...        ...       ...\n2210      2211         2\n2211      2212         2\n2212      2213         2\n2213      2214         2\n2214      2215         2\n\n[2215 rows x 2 columns]",
      "text/html": "<div>\n<style scoped>\n    .dataframe tbody tr th:only-of-type {\n        vertical-align: middle;\n    }\n\n    .dataframe tbody tr th {\n        vertical-align: top;\n    }\n\n    .dataframe thead th {\n        text-align: right;\n    }\n</style>\n<table border=\"1\" class=\"dataframe\">\n  <thead>\n    <tr style=\"text-align: right;\">\n      <th></th>\n      <th>position</th>\n      <th>b_factor</th>\n    </tr>\n  </thead>\n  <tbody>\n    <tr>\n      <th>0</th>\n      <td>1</td>\n      <td>2</td>\n    </tr>\n    <tr>\n      <th>1</th>\n      <td>2</td>\n      <td>2</td>\n    </tr>\n    <tr>\n      <th>2</th>\n      <td>3</td>\n      <td>2</td>\n    </tr>\n    <tr>\n      <th>3</th>\n      <td>4</td>\n      <td>2</td>\n    </tr>\n    <tr>\n      <th>4</th>\n      <td>5</td>\n      <td>2</td>\n    </tr>\n    <tr>\n      <th>...</th>\n      <td>...</td>\n      <td>...</td>\n    </tr>\n    <tr>\n      <th>2210</th>\n      <td>2211</td>\n      <td>2</td>\n    </tr>\n    <tr>\n      <th>2211</th>\n      <td>2212</td>\n      <td>2</td>\n    </tr>\n    <tr>\n      <th>2212</th>\n      <td>2213</td>\n      <td>2</td>\n    </tr>\n    <tr>\n      <th>2213</th>\n      <td>2214</td>\n      <td>2</td>\n    </tr>\n    <tr>\n      <th>2214</th>\n      <td>2215</td>\n      <td>2</td>\n    </tr>\n  </tbody>\n</table>\n<p>2215 rows × 2 columns</p>\n</div>"
     },
     "execution_count": 172,
     "metadata": {},
     "output_type": "execute_result"
    }
   ],
   "source": [
    "benign_b_factor"
   ],
   "metadata": {
    "collapsed": false,
    "ExecuteTime": {
     "end_time": "2024-02-21T12:20:17.410625400Z",
     "start_time": "2024-02-21T12:20:17.366365Z"
    }
   },
   "id": "9973896d2bd0f610"
  },
  {
   "cell_type": "code",
   "execution_count": 173,
   "outputs": [],
   "source": [
    "\n",
    "def get_bfactor_column_for_pdb_file(pdb_file_path, b_factor_per_position):\n",
    "    \"\"\"\n",
    "    Create a series that contains the b_factor values for each atom in the pdb file, according to the position of the atom in the pdb file.\n",
    "    :param pdb_file_path: The path to the pdb file\n",
    "    :param b_factor_per_position: The b_factor values for each position in the gene\n",
    "    :return: A series that contains the b_factor values for each atom in the pdb file, according to the position of the atom in the pdb file.\n",
    "    \"\"\"\n",
    "    # Create a DataFrame from the pdb file\n",
    "    pdb_df = pdb_to_dataframe(pdb_file_path)\n",
    "    # Create a series that contains the b_factor values for each atom in the pdb file, according to the position of the atom in the pdb file.\n",
    "    b_factor_series = pd.Series(index=range(1, len(pdb_df) + 1), name=\"b_factor\")\n",
    "    for index, row in pdb_df.iterrows():\n",
    "        # Get the position of the atom in the gene\n",
    "        position = row[\"RESIDUESEQ\"]\n",
    "        # Get the b_factor value for this position\n",
    "        b_factor = b_factor_per_position[b_factor_per_position[\"position\"] == position][\"b_factor\"].values[0]\n",
    "        # Insert the b_factor value to the series\n",
    "        b_factor_series[index+1] = b_factor\n",
    "    return b_factor_series\n",
    "\n",
    "\n",
    "def pdb_to_dataframe(pdb_file_path):\n",
    "    # Create a PDB parser and load the structure\n",
    "    parser = PDBParser(QUIET=True)\n",
    "    structure = parser.get_structure(\"protein\", pdb_file_path)\n",
    "\n",
    "    # Initialize lists to store PDB data\n",
    "    atom_data = []\n",
    "\n",
    "    for model in structure:\n",
    "        for chain in model:\n",
    "            for residue in chain:\n",
    "                for atom in residue:\n",
    "                    atom_record = {\n",
    "                        'ATOM': atom.get_serial_number(),\n",
    "                        'NAME': atom.get_name(),\n",
    "                        'RESNAME': residue.get_resname(),\n",
    "                        'CHAINID': chain.id,\n",
    "                        'RESIDUESEQ': residue.id[1],\n",
    "                        'X': atom.get_coord()[0],\n",
    "                        'Y': atom.get_coord()[1],\n",
    "                        'Z': atom.get_coord()[2],\n",
    "                        'OCCUPANCY': atom.get_occupancy(),\n",
    "                        'TEMPFACTOR': atom.get_bfactor(),\n",
    "                        'ELEMENT': atom.element,\n",
    "                    }\n",
    "                    atom_data.append(atom_record)\n",
    "\n",
    "    # Create a DataFrame from the atom data\n",
    "    df = pd.DataFrame(atom_data)\n",
    "\n",
    "    return df\n"
   ],
   "metadata": {
    "collapsed": false,
    "ExecuteTime": {
     "end_time": "2024-02-21T12:20:17.460647500Z",
     "start_time": "2024-02-21T12:20:17.381962800Z"
    }
   },
   "id": "15367b6a288c7035"
  },
  {
   "cell_type": "code",
   "execution_count": 174,
   "outputs": [
    {
     "data": {
      "text/plain": "1        40.0\n2        40.0\n3        40.0\n4        40.0\n5        40.0\n         ... \n17914    40.0\n17915    40.0\n17916    40.0\n17917    40.0\n17918    40.0\nName: b_factor, Length: 17918, dtype: float64"
     },
     "execution_count": 174,
     "metadata": {},
     "output_type": "execute_result"
    }
   ],
   "source": [
    "\n",
    "pathogenic_b_factor_by_pdb = get_bfactor_column_for_pdb_file(pdb_file_path, pathogenic_b_factor)\n",
    "benign_b_factor_by_pdb = get_bfactor_column_for_pdb_file(pdb_file_path, benign_b_factor)\n",
    "\n",
    "# Multiply the b_factor values by 10, to get the same scale as the b_factor values in the pdb file\n",
    "pathogenic_b_factor_by_pdb = pathogenic_b_factor_by_pdb * 10\n",
    "benign_b_factor_by_pdb = benign_b_factor_by_pdb * 10\n",
    "pathogenic_b_factor_by_pdb"
   ],
   "metadata": {
    "collapsed": false,
    "ExecuteTime": {
     "end_time": "2024-02-21T12:20:27.117072300Z",
     "start_time": "2024-02-21T12:20:17.397582500Z"
    }
   },
   "id": "5362752b0bd9ddcd"
  },
  {
   "cell_type": "code",
   "execution_count": 175,
   "outputs": [],
   "source": [
    "# Save the b_factor columns to csv files, without the index column\n",
    "pathogenic_b_factor_by_pdb.to_csv(pathogenic_b_factor_output_path, index=True, header=True)\n",
    "benign_b_factor_by_pdb.to_csv(benign_b_factor_output_path, index=True, header=True)"
   ],
   "metadata": {
    "collapsed": false,
    "ExecuteTime": {
     "end_time": "2024-02-21T12:20:27.174723500Z",
     "start_time": "2024-02-21T12:20:27.117072300Z"
    }
   },
   "id": "f47baa42e0bd4af7"
  },
  {
   "cell_type": "code",
   "execution_count": 175,
   "outputs": [],
   "source": [],
   "metadata": {
    "collapsed": false,
    "ExecuteTime": {
     "end_time": "2024-02-21T12:20:27.190237500Z",
     "start_time": "2024-02-21T12:20:27.174723500Z"
    }
   },
   "id": "a5986adaffe78cec"
  }
 ],
 "metadata": {
  "kernelspec": {
   "display_name": "Python 3",
   "language": "python",
   "name": "python3"
  },
  "language_info": {
   "codemirror_mode": {
    "name": "ipython",
    "version": 2
   },
   "file_extension": ".py",
   "mimetype": "text/x-python",
   "name": "python",
   "nbconvert_exporter": "python",
   "pygments_lexer": "ipython2",
   "version": "2.7.6"
  }
 },
 "nbformat": 4,
 "nbformat_minor": 5
}
