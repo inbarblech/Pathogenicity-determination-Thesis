{
 "cells": [
  {
   "cell_type": "code",
   "execution_count": 19,
   "outputs": [],
   "source": [
    "# merge all the csv files in the predictions_vs_real folder into one csv file\n",
    "import pandas as pd"
   ],
   "metadata": {
    "collapsed": false,
    "ExecuteTime": {
     "end_time": "2023-11-22T16:19:07.437860700Z",
     "start_time": "2023-11-22T16:19:07.422209Z"
    }
   },
   "id": "3a2fb57d497b0d28"
  },
  {
   "cell_type": "code",
   "execution_count": 20,
   "outputs": [
    {
     "name": "stderr",
     "output_type": "stream",
     "text": [
      "C:\\Users\\InbarBlech\\AppData\\Local\\Temp\\ipykernel_4816\\188674992.py:9: FutureWarning: The frame.append method is deprecated and will be removed from pandas in a future version. Use pandas.concat instead.\n",
      "  final_df = final_df.append(df)\n",
      "C:\\Users\\InbarBlech\\AppData\\Local\\Temp\\ipykernel_4816\\188674992.py:9: FutureWarning: The frame.append method is deprecated and will be removed from pandas in a future version. Use pandas.concat instead.\n",
      "  final_df = final_df.append(df)\n",
      "C:\\Users\\InbarBlech\\AppData\\Local\\Temp\\ipykernel_4816\\188674992.py:9: FutureWarning: The frame.append method is deprecated and will be removed from pandas in a future version. Use pandas.concat instead.\n",
      "  final_df = final_df.append(df)\n",
      "C:\\Users\\InbarBlech\\AppData\\Local\\Temp\\ipykernel_4816\\188674992.py:9: FutureWarning: The frame.append method is deprecated and will be removed from pandas in a future version. Use pandas.concat instead.\n",
      "  final_df = final_df.append(df)\n",
      "C:\\Users\\InbarBlech\\AppData\\Local\\Temp\\ipykernel_4816\\188674992.py:9: FutureWarning: The frame.append method is deprecated and will be removed from pandas in a future version. Use pandas.concat instead.\n",
      "  final_df = final_df.append(df)\n",
      "C:\\Users\\InbarBlech\\AppData\\Local\\Temp\\ipykernel_4816\\188674992.py:9: FutureWarning: The frame.append method is deprecated and will be removed from pandas in a future version. Use pandas.concat instead.\n",
      "  final_df = final_df.append(df)\n",
      "C:\\Users\\InbarBlech\\AppData\\Local\\Temp\\ipykernel_4816\\188674992.py:9: FutureWarning: The frame.append method is deprecated and will be removed from pandas in a future version. Use pandas.concat instead.\n",
      "  final_df = final_df.append(df)\n",
      "C:\\Users\\InbarBlech\\AppData\\Local\\Temp\\ipykernel_4816\\188674992.py:9: FutureWarning: The frame.append method is deprecated and will be removed from pandas in a future version. Use pandas.concat instead.\n",
      "  final_df = final_df.append(df)\n"
     ]
    },
    {
     "data": {
      "text/plain": "    variant  prediction  reality    gene\n0       M1R           0        0  COL2A1\n1       I2A           0        0  COL2A1\n2       I2L           0        0  COL2A1\n3       I2P           0        0  COL2A1\n4       I2T           0        0  COL2A1\n..      ...         ...      ...     ...\n272   Y217F           0        0    GJB2\n273   G220A           0        0    GJB2\n274   G220K           0        0    GJB2\n275   K221R           0        0    GJB2\n276   K223R           0        0    GJB2\n\n[4804 rows x 4 columns]",
      "text/html": "<div>\n<style scoped>\n    .dataframe tbody tr th:only-of-type {\n        vertical-align: middle;\n    }\n\n    .dataframe tbody tr th {\n        vertical-align: top;\n    }\n\n    .dataframe thead th {\n        text-align: right;\n    }\n</style>\n<table border=\"1\" class=\"dataframe\">\n  <thead>\n    <tr style=\"text-align: right;\">\n      <th></th>\n      <th>variant</th>\n      <th>prediction</th>\n      <th>reality</th>\n      <th>gene</th>\n    </tr>\n  </thead>\n  <tbody>\n    <tr>\n      <th>0</th>\n      <td>M1R</td>\n      <td>0</td>\n      <td>0</td>\n      <td>COL2A1</td>\n    </tr>\n    <tr>\n      <th>1</th>\n      <td>I2A</td>\n      <td>0</td>\n      <td>0</td>\n      <td>COL2A1</td>\n    </tr>\n    <tr>\n      <th>2</th>\n      <td>I2L</td>\n      <td>0</td>\n      <td>0</td>\n      <td>COL2A1</td>\n    </tr>\n    <tr>\n      <th>3</th>\n      <td>I2P</td>\n      <td>0</td>\n      <td>0</td>\n      <td>COL2A1</td>\n    </tr>\n    <tr>\n      <th>4</th>\n      <td>I2T</td>\n      <td>0</td>\n      <td>0</td>\n      <td>COL2A1</td>\n    </tr>\n    <tr>\n      <th>...</th>\n      <td>...</td>\n      <td>...</td>\n      <td>...</td>\n      <td>...</td>\n    </tr>\n    <tr>\n      <th>272</th>\n      <td>Y217F</td>\n      <td>0</td>\n      <td>0</td>\n      <td>GJB2</td>\n    </tr>\n    <tr>\n      <th>273</th>\n      <td>G220A</td>\n      <td>0</td>\n      <td>0</td>\n      <td>GJB2</td>\n    </tr>\n    <tr>\n      <th>274</th>\n      <td>G220K</td>\n      <td>0</td>\n      <td>0</td>\n      <td>GJB2</td>\n    </tr>\n    <tr>\n      <th>275</th>\n      <td>K221R</td>\n      <td>0</td>\n      <td>0</td>\n      <td>GJB2</td>\n    </tr>\n    <tr>\n      <th>276</th>\n      <td>K223R</td>\n      <td>0</td>\n      <td>0</td>\n      <td>GJB2</td>\n    </tr>\n  </tbody>\n</table>\n<p>4804 rows × 4 columns</p>\n</div>"
     },
     "execution_count": 20,
     "metadata": {},
     "output_type": "execute_result"
    }
   ],
   "source": [
    "genes = [\"COL2A1\", \"COL4A3\", \"COL4A5\", \"WFS1\", \"SLC26A4\", \"MYO7A\", \"FGFR1\", \"GJB2\"]\n",
    "final_df = pd.DataFrame()\n",
    "# read the csv files\n",
    "for gene in genes:\n",
    "    df = pd.read_csv(f\"C:\\\\Users\\\\InbarBlech\\\\PycharmProjects\\\\Thesis\\\\predictions_vs_real\\\\{gene}\\\\{gene}_predictions_LOPO_XGB.csv\")\n",
    "    # add column with gene name\n",
    "    df[\"gene\"] = gene\n",
    "    # append df to final_df\n",
    "    final_df = final_df.append(df)\n",
    "final_df"
   ],
   "metadata": {
    "collapsed": false,
    "ExecuteTime": {
     "end_time": "2023-11-22T16:19:07.629048600Z",
     "start_time": "2023-11-22T16:19:07.453458100Z"
    }
   },
   "id": "1f650103772603ee"
  },
  {
   "cell_type": "code",
   "execution_count": 21,
   "outputs": [],
   "source": [
    "# save the final_df as csv file\n",
    "final_df.to_csv(\"C:\\\\Users\\\\InbarBlech\\\\PycharmProjects\\\\Thesis\\\\predictions_vs_real\\\\predictions_vs_real_with_variant_all_genes_updated_221123.csv\", header=True, index=False)"
   ],
   "metadata": {
    "collapsed": false,
    "ExecuteTime": {
     "end_time": "2023-11-22T16:19:07.707913400Z",
     "start_time": "2023-11-22T16:19:07.629048600Z"
    }
   },
   "id": "722a218da9c664ed"
  },
  {
   "cell_type": "code",
   "execution_count": 22,
   "outputs": [],
   "source": [
    "# delete index column"
   ],
   "metadata": {
    "collapsed": false,
    "ExecuteTime": {
     "end_time": "2023-11-22T16:19:07.770584600Z",
     "start_time": "2023-11-22T16:19:07.660381400Z"
    }
   },
   "id": "504d3b7afd7e168b"
  }
 ],
 "metadata": {
  "kernelspec": {
   "display_name": "Python 3",
   "language": "python",
   "name": "python3"
  },
  "language_info": {
   "codemirror_mode": {
    "name": "ipython",
    "version": 2
   },
   "file_extension": ".py",
   "mimetype": "text/x-python",
   "name": "python",
   "nbconvert_exporter": "python",
   "pygments_lexer": "ipython2",
   "version": "2.7.6"
  }
 },
 "nbformat": 4,
 "nbformat_minor": 5
}
